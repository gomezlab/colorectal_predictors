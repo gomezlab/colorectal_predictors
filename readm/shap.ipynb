{
 "cells": [
  {
   "cell_type": "code",
   "execution_count": 1,
   "metadata": {},
   "outputs": [
    {
     "name": "stdout",
     "output_type": "stream",
     "text": [
      "WARNING:tensorflow:From /home/kchen/.local/lib/python3.9/site-packages/tensorflow/python/compat/v2_compat.py:111: disable_resource_variables (from tensorflow.python.ops.variable_scope) is deprecated and will be removed in a future version.\n",
      "Instructions for updating:\n",
      "non-resource variables are not supported in the long term\n"
     ]
    }
   ],
   "source": [
    "import numpy as np\n",
    "import pandas as pd\n",
    "from sklearn.metrics import average_precision_score, precision_recall_curve, roc_auc_score, roc_curve\n",
    "from sklearn.model_selection import train_test_split\n",
    "import tensorflow as tf\n",
    "from math import sqrt\n",
    "from sklearn.linear_model import LogisticRegression\n",
    "from sklearn.ensemble import RandomForestClassifier\n",
    "from xgboost.sklearn import XGBClassifier\n",
    "import csv\n",
    "#shap requires this setting and tf.keras instead of keras to work\n",
    "tf.compat.v1.disable_v2_behavior()\n"
   ]
  },
  {
   "cell_type": "code",
   "execution_count": 3,
   "metadata": {},
   "outputs": [],
   "source": [
    "#read in the data\n",
    "data = pd.read_feather(r'/media/kchen/2TB/kchen_backup/readm/data/procol_train.feather')\n",
    "y = data['READMISSION1']\n",
    "X = data.drop(['READMISSION1','CASEID'], axis=1)\n",
    "X_train, X_valid, y_train, y_valid = train_test_split(X, y, train_size=0.8, test_size=0.2, random_state=0)\n",
    "test = pd.read_feather(r'/media/kchen/2TB/kchen_backup/readm/data/procol_test.feather')\n",
    "y_test = test['READMISSION1']\n",
    "X_test = test.drop(['READMISSION1','CASEID'], axis=1)\n"
   ]
  },
  {
   "cell_type": "code",
   "execution_count": 27,
   "metadata": {},
   "outputs": [
    {
     "data": {
      "text/plain": [
       "(213827, 114)"
      ]
     },
     "execution_count": 27,
     "metadata": {},
     "output_type": "execute_result"
    }
   ],
   "source": [
    "data.shape"
   ]
  },
  {
   "cell_type": "code",
   "execution_count": 29,
   "metadata": {},
   "outputs": [
    {
     "data": {
      "text/plain": [
       "0    0.892048\n",
       "1    0.107952\n",
       "Name: READMISSION1, dtype: float64"
      ]
     },
     "execution_count": 29,
     "metadata": {},
     "output_type": "execute_result"
    }
   ],
   "source": [
    "data['READMISSION1'].value_counts(normalize=True)"
   ]
  },
  {
   "cell_type": "code",
   "execution_count": 4,
   "metadata": {},
   "outputs": [
    {
     "name": "stdout",
     "output_type": "stream",
     "text": [
      "WARNING:tensorflow:From /home/kchen/.local/lib/python3.9/site-packages/keras/layers/normalization/batch_normalization.py:532: _colocate_with (from tensorflow.python.framework.ops) is deprecated and will be removed in a future version.\n",
      "Instructions for updating:\n",
      "Colocations handled automatically by placer.\n",
      "Train on 171061 samples, validate on 42766 samples\n"
     ]
    },
    {
     "name": "stderr",
     "output_type": "stream",
     "text": [
      "2022-01-12 13:03:50.744011: I tensorflow/stream_executor/cuda/cuda_gpu_executor.cc:939] successful NUMA node read from SysFS had negative value (-1), but there must be at least one NUMA node, so returning NUMA node zero\n",
      "2022-01-12 13:03:50.752346: I tensorflow/stream_executor/cuda/cuda_gpu_executor.cc:939] successful NUMA node read from SysFS had negative value (-1), but there must be at least one NUMA node, so returning NUMA node zero\n",
      "2022-01-12 13:03:50.752781: I tensorflow/stream_executor/cuda/cuda_gpu_executor.cc:939] successful NUMA node read from SysFS had negative value (-1), but there must be at least one NUMA node, so returning NUMA node zero\n",
      "2022-01-12 13:03:50.753810: I tensorflow/core/platform/cpu_feature_guard.cc:151] This TensorFlow binary is optimized with oneAPI Deep Neural Network Library (oneDNN) to use the following CPU instructions in performance-critical operations:  AVX2 FMA\n",
      "To enable them in other operations, rebuild TensorFlow with the appropriate compiler flags.\n",
      "2022-01-12 13:03:50.754548: I tensorflow/stream_executor/cuda/cuda_gpu_executor.cc:939] successful NUMA node read from SysFS had negative value (-1), but there must be at least one NUMA node, so returning NUMA node zero\n",
      "2022-01-12 13:03:50.755051: I tensorflow/stream_executor/cuda/cuda_gpu_executor.cc:939] successful NUMA node read from SysFS had negative value (-1), but there must be at least one NUMA node, so returning NUMA node zero\n",
      "2022-01-12 13:03:50.755533: I tensorflow/stream_executor/cuda/cuda_gpu_executor.cc:939] successful NUMA node read from SysFS had negative value (-1), but there must be at least one NUMA node, so returning NUMA node zero\n",
      "2022-01-12 13:03:51.205603: I tensorflow/stream_executor/cuda/cuda_gpu_executor.cc:939] successful NUMA node read from SysFS had negative value (-1), but there must be at least one NUMA node, so returning NUMA node zero\n",
      "2022-01-12 13:03:51.206080: I tensorflow/stream_executor/cuda/cuda_gpu_executor.cc:939] successful NUMA node read from SysFS had negative value (-1), but there must be at least one NUMA node, so returning NUMA node zero\n",
      "2022-01-12 13:03:51.206463: I tensorflow/stream_executor/cuda/cuda_gpu_executor.cc:939] successful NUMA node read from SysFS had negative value (-1), but there must be at least one NUMA node, so returning NUMA node zero\n",
      "2022-01-12 13:03:51.206818: I tensorflow/core/common_runtime/gpu/gpu_device.cc:1525] Created device /job:localhost/replica:0/task:0/device:GPU:0 with 10133 MB memory:  -> device: 0, name: TITAN Xp, pci bus id: 0000:05:00.0, compute capability: 6.1\n"
     ]
    },
    {
     "name": "stdout",
     "output_type": "stream",
     "text": [
      "Epoch 1/200\n",
      "167424/171061 [============================>.] - ETA: 0s - loss: 0.3779 - Sensitivity: 0.0302 - tn: 147089.0000 - auc: 0.6194 - prc: 0.1632"
     ]
    },
    {
     "name": "stderr",
     "output_type": "stream",
     "text": [
      "/home/kchen/.local/lib/python3.9/site-packages/keras/engine/training_v1.py:2057: UserWarning: `Model.state_updates` will be removed in a future version. This property should not be used in TensorFlow 2.0, as `updates` are applied automatically.\n",
      "  updates = self.state_updates\n"
     ]
    },
    {
     "name": "stdout",
     "output_type": "stream",
     "text": [
      "171061/171061 [==============================] - 2s 14us/sample - loss: 0.3766 - Sensitivity: 0.0297 - tn: 150358.0000 - auc: 0.6199 - prc: 0.1633 - val_loss: 0.4269 - val_Sensitivity: 0.0000e+00 - val_tn: 38198.0000 - val_auc: 0.6505 - val_prc: 0.2177\n",
      "Epoch 2/200\n",
      "171061/171061 [==============================] - 2s 10us/sample - loss: 0.3278 - Sensitivity: 0.0192 - tn: 152100.0000 - auc: 0.6737 - prc: 0.2136 - val_loss: 0.3251 - val_Sensitivity: 0.0326 - val_tn: 38194.0000 - val_auc: 0.7065 - val_prc: 0.2895\n",
      "Epoch 3/200\n",
      "171061/171061 [==============================] - 2s 10us/sample - loss: 0.3212 - Sensitivity: 0.0352 - tn: 152187.0000 - auc: 0.6859 - prc: 0.2518 - val_loss: 0.3178 - val_Sensitivity: 0.0792 - val_tn: 38087.0000 - val_auc: 0.7142 - val_prc: 0.3009\n",
      "Epoch 4/200\n",
      "171061/171061 [==============================] - 2s 10us/sample - loss: 0.3160 - Sensitivity: 0.0570 - tn: 152157.0000 - auc: 0.6944 - prc: 0.2825 - val_loss: 0.3128 - val_Sensitivity: 0.0917 - val_tn: 38100.0000 - val_auc: 0.7168 - val_prc: 0.3171\n",
      "Epoch 5/200\n",
      "171061/171061 [==============================] - 2s 10us/sample - loss: 0.3124 - Sensitivity: 0.0709 - tn: 152167.0000 - auc: 0.6985 - prc: 0.2988 - val_loss: 0.3069 - val_Sensitivity: 0.1044 - val_tn: 38041.0000 - val_auc: 0.7181 - val_prc: 0.3183\n",
      "Epoch 6/200\n",
      "171061/171061 [==============================] - 2s 10us/sample - loss: 0.3099 - Sensitivity: 0.0799 - tn: 152148.0000 - auc: 0.7040 - prc: 0.3068 - val_loss: 0.3032 - val_Sensitivity: 0.0989 - val_tn: 38101.0000 - val_auc: 0.7197 - val_prc: 0.3248\n",
      "Epoch 7/200\n",
      "171061/171061 [==============================] - 2s 10us/sample - loss: 0.3081 - Sensitivity: 0.0874 - tn: 152132.0000 - auc: 0.7062 - prc: 0.3152 - val_loss: 0.3035 - val_Sensitivity: 0.0998 - val_tn: 38084.0000 - val_auc: 0.7188 - val_prc: 0.3259\n",
      "Epoch 8/200\n",
      "171061/171061 [==============================] - 2s 9us/sample - loss: 0.3059 - Sensitivity: 0.0957 - tn: 152115.0000 - auc: 0.7100 - prc: 0.3236 - val_loss: 0.3037 - val_Sensitivity: 0.1029 - val_tn: 38094.0000 - val_auc: 0.7204 - val_prc: 0.3299\n",
      "Epoch 9/200\n",
      "171061/171061 [==============================] - 2s 10us/sample - loss: 0.3051 - Sensitivity: 0.0972 - tn: 152095.0000 - auc: 0.7126 - prc: 0.3271 - val_loss: 0.3025 - val_Sensitivity: 0.1125 - val_tn: 38044.0000 - val_auc: 0.7208 - val_prc: 0.3302\n",
      "Epoch 10/200\n",
      "171061/171061 [==============================] - 2s 10us/sample - loss: 0.3043 - Sensitivity: 0.0985 - tn: 152105.0000 - auc: 0.7149 - prc: 0.3284 - val_loss: 0.3006 - val_Sensitivity: 0.1018 - val_tn: 38117.0000 - val_auc: 0.7231 - val_prc: 0.3334\n",
      "Epoch 11/200\n",
      "171061/171061 [==============================] - 2s 10us/sample - loss: 0.3035 - Sensitivity: 0.1018 - tn: 152102.0000 - auc: 0.7165 - prc: 0.3312 - val_loss: 0.2991 - val_Sensitivity: 0.1110 - val_tn: 38076.0000 - val_auc: 0.7253 - val_prc: 0.3358\n",
      "Epoch 12/200\n",
      "171061/171061 [==============================] - 2s 11us/sample - loss: 0.3024 - Sensitivity: 0.1061 - tn: 152067.0000 - auc: 0.7179 - prc: 0.3356 - val_loss: 0.2981 - val_Sensitivity: 0.1114 - val_tn: 38081.0000 - val_auc: 0.7253 - val_prc: 0.3372\n",
      "Epoch 13/200\n",
      "171061/171061 [==============================] - 2s 10us/sample - loss: 0.3025 - Sensitivity: 0.1061 - tn: 152095.0000 - auc: 0.7173 - prc: 0.3365 - val_loss: 0.2984 - val_Sensitivity: 0.1081 - val_tn: 38101.0000 - val_auc: 0.7262 - val_prc: 0.3399\n",
      "Epoch 14/200\n",
      "171061/171061 [==============================] - 2s 11us/sample - loss: 0.3020 - Sensitivity: 0.1075 - tn: 152093.0000 - auc: 0.7187 - prc: 0.3369 - val_loss: 0.2975 - val_Sensitivity: 0.1092 - val_tn: 38097.0000 - val_auc: 0.7268 - val_prc: 0.3398\n",
      "Epoch 15/200\n",
      "171061/171061 [==============================] - 2s 11us/sample - loss: 0.3016 - Sensitivity: 0.1085 - tn: 152058.0000 - auc: 0.7208 - prc: 0.3390 - val_loss: 0.2972 - val_Sensitivity: 0.1077 - val_tn: 38111.0000 - val_auc: 0.7276 - val_prc: 0.3402\n",
      "Epoch 16/200\n",
      "171061/171061 [==============================] - 2s 11us/sample - loss: 0.3016 - Sensitivity: 0.1092 - tn: 152087.0000 - auc: 0.7198 - prc: 0.3391 - val_loss: 0.2968 - val_Sensitivity: 0.1097 - val_tn: 38122.0000 - val_auc: 0.7267 - val_prc: 0.3413\n",
      "Epoch 17/200\n",
      "171061/171061 [==============================] - 2s 10us/sample - loss: 0.3017 - Sensitivity: 0.1092 - tn: 152073.0000 - auc: 0.7204 - prc: 0.3391 - val_loss: 0.2972 - val_Sensitivity: 0.1084 - val_tn: 38117.0000 - val_auc: 0.7258 - val_prc: 0.3388\n",
      "Epoch 18/200\n",
      "171061/171061 [==============================] - 2s 10us/sample - loss: 0.3009 - Sensitivity: 0.1116 - tn: 152078.0000 - auc: 0.7220 - prc: 0.3419 - val_loss: 0.2969 - val_Sensitivity: 0.1136 - val_tn: 38091.0000 - val_auc: 0.7271 - val_prc: 0.3404\n",
      "Epoch 19/200\n",
      "171061/171061 [==============================] - 2s 10us/sample - loss: 0.3012 - Sensitivity: 0.1098 - tn: 152079.0000 - auc: 0.7205 - prc: 0.3411 - val_loss: 0.2974 - val_Sensitivity: 0.1097 - val_tn: 38108.0000 - val_auc: 0.7271 - val_prc: 0.3423\n",
      "Epoch 20/200\n",
      "171061/171061 [==============================] - 2s 10us/sample - loss: 0.3006 - Sensitivity: 0.1125 - tn: 152091.0000 - auc: 0.7219 - prc: 0.3433 - val_loss: 0.2970 - val_Sensitivity: 0.1077 - val_tn: 38122.0000 - val_auc: 0.7276 - val_prc: 0.3423\n",
      "Epoch 21/200\n",
      "171061/171061 [==============================] - 2s 10us/sample - loss: 0.3004 - Sensitivity: 0.1128 - tn: 152081.0000 - auc: 0.7229 - prc: 0.3453 - val_loss: 0.2967 - val_Sensitivity: 0.1103 - val_tn: 38107.0000 - val_auc: 0.7269 - val_prc: 0.3412\n",
      "Epoch 22/200\n",
      "171061/171061 [==============================] - 2s 10us/sample - loss: 0.3002 - Sensitivity: 0.1136 - tn: 152089.0000 - auc: 0.7237 - prc: 0.3451 - val_loss: 0.2967 - val_Sensitivity: 0.1095 - val_tn: 38105.0000 - val_auc: 0.7267 - val_prc: 0.3412\n",
      "Epoch 23/200\n",
      "171061/171061 [==============================] - 2s 11us/sample - loss: 0.3002 - Sensitivity: 0.1122 - tn: 152091.0000 - auc: 0.7236 - prc: 0.3465 - val_loss: 0.2968 - val_Sensitivity: 0.1110 - val_tn: 38094.0000 - val_auc: 0.7273 - val_prc: 0.3411\n",
      "Epoch 24/200\n",
      "171061/171061 [==============================] - 2s 13us/sample - loss: 0.2998 - Sensitivity: 0.1155 - tn: 152074.0000 - auc: 0.7238 - prc: 0.3470 - val_loss: 0.2963 - val_Sensitivity: 0.1147 - val_tn: 38089.0000 - val_auc: 0.7277 - val_prc: 0.3411\n",
      "Epoch 25/200\n",
      "171061/171061 [==============================] - 2s 12us/sample - loss: 0.2999 - Sensitivity: 0.1149 - tn: 152064.0000 - auc: 0.7239 - prc: 0.3455 - val_loss: 0.2966 - val_Sensitivity: 0.1108 - val_tn: 38104.0000 - val_auc: 0.7275 - val_prc: 0.3422\n",
      "Epoch 26/200\n",
      "171061/171061 [==============================] - 2s 11us/sample - loss: 0.2993 - Sensitivity: 0.1163 - tn: 152065.0000 - auc: 0.7258 - prc: 0.3490 - val_loss: 0.2966 - val_Sensitivity: 0.1136 - val_tn: 38091.0000 - val_auc: 0.7279 - val_prc: 0.3408\n",
      "Epoch 27/200\n",
      "171061/171061 [==============================] - 2s 12us/sample - loss: 0.2995 - Sensitivity: 0.1154 - tn: 152056.0000 - auc: 0.7263 - prc: 0.3468 - val_loss: 0.2961 - val_Sensitivity: 0.1169 - val_tn: 38081.0000 - val_auc: 0.7282 - val_prc: 0.3418\n",
      "Epoch 28/200\n",
      "171061/171061 [==============================] - 2s 10us/sample - loss: 0.2992 - Sensitivity: 0.1168 - tn: 152083.0000 - auc: 0.7259 - prc: 0.3499 - val_loss: 0.2962 - val_Sensitivity: 0.1162 - val_tn: 38081.0000 - val_auc: 0.7282 - val_prc: 0.3413\n",
      "Epoch 29/200\n",
      "171061/171061 [==============================] - 2s 11us/sample - loss: 0.2991 - Sensitivity: 0.1171 - tn: 152082.0000 - auc: 0.7262 - prc: 0.3500 - val_loss: 0.2975 - val_Sensitivity: 0.1206 - val_tn: 38041.0000 - val_auc: 0.7275 - val_prc: 0.3407\n",
      "Epoch 30/200\n",
      "171061/171061 [==============================] - 2s 11us/sample - loss: 0.2990 - Sensitivity: 0.1168 - tn: 152086.0000 - auc: 0.7265 - prc: 0.3498 - val_loss: 0.2962 - val_Sensitivity: 0.1158 - val_tn: 38082.0000 - val_auc: 0.7281 - val_prc: 0.3426\n",
      "Epoch 31/200\n",
      "171061/171061 [==============================] - 2s 10us/sample - loss: 0.2984 - Sensitivity: 0.1169 - tn: 152037.0000 - auc: 0.7284 - prc: 0.3516 - val_loss: 0.2962 - val_Sensitivity: 0.1176 - val_tn: 38093.0000 - val_auc: 0.7280 - val_prc: 0.3437\n",
      "Epoch 32/200\n",
      "171061/171061 [==============================] - 2s 10us/sample - loss: 0.2984 - Sensitivity: 0.1193 - tn: 152076.0000 - auc: 0.7274 - prc: 0.3528 - val_loss: 0.2961 - val_Sensitivity: 0.1143 - val_tn: 38102.0000 - val_auc: 0.7279 - val_prc: 0.3430\n",
      "Epoch 33/200\n",
      "171061/171061 [==============================] - 2s 10us/sample - loss: 0.2983 - Sensitivity: 0.1194 - tn: 152057.0000 - auc: 0.7285 - prc: 0.3526 - val_loss: 0.2960 - val_Sensitivity: 0.1092 - val_tn: 38128.0000 - val_auc: 0.7292 - val_prc: 0.3456\n",
      "Epoch 34/200\n",
      "171061/171061 [==============================] - 2s 10us/sample - loss: 0.2984 - Sensitivity: 0.1175 - tn: 152064.0000 - auc: 0.7276 - prc: 0.3532 - val_loss: 0.2962 - val_Sensitivity: 0.1176 - val_tn: 38078.0000 - val_auc: 0.7283 - val_prc: 0.3439\n",
      "Epoch 35/200\n",
      "171061/171061 [==============================] - 2s 9us/sample - loss: 0.2981 - Sensitivity: 0.1183 - tn: 152068.0000 - auc: 0.7290 - prc: 0.3543 - val_loss: 0.2960 - val_Sensitivity: 0.1165 - val_tn: 38088.0000 - val_auc: 0.7285 - val_prc: 0.3446\n",
      "Epoch 36/200\n",
      "171061/171061 [==============================] - 2s 10us/sample - loss: 0.2974 - Sensitivity: 0.1207 - tn: 152072.0000 - auc: 0.7300 - prc: 0.3553 - val_loss: 0.2958 - val_Sensitivity: 0.1147 - val_tn: 38105.0000 - val_auc: 0.7284 - val_prc: 0.3435\n",
      "Epoch 37/200\n",
      "171061/171061 [==============================] - 2s 10us/sample - loss: 0.2980 - Sensitivity: 0.1192 - tn: 152068.0000 - auc: 0.7294 - prc: 0.3534 - val_loss: 0.2962 - val_Sensitivity: 0.1095 - val_tn: 38113.0000 - val_auc: 0.7289 - val_prc: 0.3443\n",
      "Epoch 38/200\n",
      "171061/171061 [==============================] - 2s 10us/sample - loss: 0.2980 - Sensitivity: 0.1195 - tn: 152043.0000 - auc: 0.7285 - prc: 0.3548 - val_loss: 0.2960 - val_Sensitivity: 0.1143 - val_tn: 38099.0000 - val_auc: 0.7291 - val_prc: 0.3452\n",
      "Epoch 39/200\n",
      "171061/171061 [==============================] - 2s 10us/sample - loss: 0.2973 - Sensitivity: 0.1222 - tn: 152042.0000 - auc: 0.7301 - prc: 0.3567 - val_loss: 0.2959 - val_Sensitivity: 0.1132 - val_tn: 38115.0000 - val_auc: 0.7284 - val_prc: 0.3442\n",
      "Epoch 40/200\n",
      "171061/171061 [==============================] - 2s 10us/sample - loss: 0.2977 - Sensitivity: 0.1210 - tn: 152038.0000 - auc: 0.7301 - prc: 0.3563 - val_loss: 0.2959 - val_Sensitivity: 0.1116 - val_tn: 38114.0000 - val_auc: 0.7291 - val_prc: 0.3454\n",
      "Epoch 41/200\n",
      "171061/171061 [==============================] - 2s 10us/sample - loss: 0.2974 - Sensitivity: 0.1199 - tn: 152067.0000 - auc: 0.7312 - prc: 0.3565 - val_loss: 0.2963 - val_Sensitivity: 0.1136 - val_tn: 38101.0000 - val_auc: 0.7283 - val_prc: 0.3438\n",
      "Epoch 42/200\n",
      "171061/171061 [==============================] - 2s 10us/sample - loss: 0.2973 - Sensitivity: 0.1183 - tn: 152078.0000 - auc: 0.7311 - prc: 0.3572 - val_loss: 0.2960 - val_Sensitivity: 0.1182 - val_tn: 38088.0000 - val_auc: 0.7287 - val_prc: 0.3450\n",
      "Epoch 43/200\n",
      "171061/171061 [==============================] - 2s 10us/sample - loss: 0.2972 - Sensitivity: 0.1214 - tn: 152028.0000 - auc: 0.7313 - prc: 0.3579 - val_loss: 0.2958 - val_Sensitivity: 0.1125 - val_tn: 38107.0000 - val_auc: 0.7290 - val_prc: 0.3455\n",
      "Epoch 44/200\n",
      "171061/171061 [==============================] - 2s 10us/sample - loss: 0.2971 - Sensitivity: 0.1204 - tn: 152067.0000 - auc: 0.7313 - prc: 0.3571 - val_loss: 0.2959 - val_Sensitivity: 0.1165 - val_tn: 38100.0000 - val_auc: 0.7286 - val_prc: 0.3451\n",
      "Epoch 45/200\n",
      "171061/171061 [==============================] - 2s 10us/sample - loss: 0.2964 - Sensitivity: 0.1230 - tn: 152038.0000 - auc: 0.7337 - prc: 0.3589 - val_loss: 0.2962 - val_Sensitivity: 0.1066 - val_tn: 38131.0000 - val_auc: 0.7279 - val_prc: 0.3455\n",
      "Epoch 46/200\n",
      "171061/171061 [==============================] - 2s 10us/sample - loss: 0.2966 - Sensitivity: 0.1220 - tn: 152060.0000 - auc: 0.7326 - prc: 0.3596 - val_loss: 0.2961 - val_Sensitivity: 0.1134 - val_tn: 38109.0000 - val_auc: 0.7279 - val_prc: 0.3447\n",
      "Epoch 47/200\n",
      "171061/171061 [==============================] - 2s 10us/sample - loss: 0.2970 - Sensitivity: 0.1238 - tn: 152073.0000 - auc: 0.7309 - prc: 0.3590 - val_loss: 0.2962 - val_Sensitivity: 0.1116 - val_tn: 38114.0000 - val_auc: 0.7275 - val_prc: 0.3448\n",
      "Epoch 48/200\n",
      "171061/171061 [==============================] - 2s 10us/sample - loss: 0.2963 - Sensitivity: 0.1226 - tn: 152072.0000 - auc: 0.7344 - prc: 0.3613 - val_loss: 0.2963 - val_Sensitivity: 0.1121 - val_tn: 38114.0000 - val_auc: 0.7276 - val_prc: 0.3438\n",
      "Epoch 49/200\n",
      "171061/171061 [==============================] - 2s 10us/sample - loss: 0.2962 - Sensitivity: 0.1231 - tn: 152075.0000 - auc: 0.7339 - prc: 0.3610 - val_loss: 0.2962 - val_Sensitivity: 0.1154 - val_tn: 38101.0000 - val_auc: 0.7286 - val_prc: 0.3444\n",
      "Epoch 50/200\n",
      "171061/171061 [==============================] - 2s 11us/sample - loss: 0.2962 - Sensitivity: 0.1221 - tn: 152037.0000 - auc: 0.7350 - prc: 0.3606 - val_loss: 0.2962 - val_Sensitivity: 0.1097 - val_tn: 38126.0000 - val_auc: 0.7282 - val_prc: 0.3453\n",
      "Epoch 51/200\n",
      "171061/171061 [==============================] - 2s 10us/sample - loss: 0.2954 - Sensitivity: 0.1234 - tn: 152025.0000 - auc: 0.7374 - prc: 0.3632 - val_loss: 0.2962 - val_Sensitivity: 0.1132 - val_tn: 38110.0000 - val_auc: 0.7280 - val_prc: 0.3443\n",
      "Epoch 52/200\n",
      "171061/171061 [==============================] - 2s 10us/sample - loss: 0.2956 - Sensitivity: 0.1250 - tn: 152046.0000 - auc: 0.7357 - prc: 0.3630 - val_loss: 0.2961 - val_Sensitivity: 0.1101 - val_tn: 38122.0000 - val_auc: 0.7282 - val_prc: 0.3449\n",
      "Epoch 53/200\n",
      "171061/171061 [==============================] - 2s 9us/sample - loss: 0.2956 - Sensitivity: 0.1254 - tn: 152012.0000 - auc: 0.7369 - prc: 0.3636 - val_loss: 0.2958 - val_Sensitivity: 0.1145 - val_tn: 38108.0000 - val_auc: 0.7283 - val_prc: 0.3444\n",
      "Epoch 54/200\n",
      "171061/171061 [==============================] - 2s 10us/sample - loss: 0.2956 - Sensitivity: 0.1247 - tn: 152019.0000 - auc: 0.7365 - prc: 0.3637 - val_loss: 0.2960 - val_Sensitivity: 0.1160 - val_tn: 38097.0000 - val_auc: 0.7279 - val_prc: 0.3438\n",
      "Epoch 55/200\n",
      "171061/171061 [==============================] - 2s 10us/sample - loss: 0.2952 - Sensitivity: 0.1248 - tn: 152061.0000 - auc: 0.7375 - prc: 0.3639 - val_loss: 0.2960 - val_Sensitivity: 0.1160 - val_tn: 38109.0000 - val_auc: 0.7276 - val_prc: 0.3446\n",
      "Epoch 56/200\n",
      "171061/171061 [==============================] - 2s 10us/sample - loss: 0.2955 - Sensitivity: 0.1258 - tn: 152015.0000 - auc: 0.7367 - prc: 0.3630 - val_loss: 0.2963 - val_Sensitivity: 0.1182 - val_tn: 38088.0000 - val_auc: 0.7274 - val_prc: 0.3423\n",
      "Epoch 57/200\n",
      "171061/171061 [==============================] - 2s 10us/sample - loss: 0.2947 - Sensitivity: 0.1264 - tn: 152023.0000 - auc: 0.7384 - prc: 0.3671 - val_loss: 0.2960 - val_Sensitivity: 0.1200 - val_tn: 38089.0000 - val_auc: 0.7284 - val_prc: 0.3449\n",
      "Epoch 58/200\n",
      "171061/171061 [==============================] - 2s 10us/sample - loss: 0.2951 - Sensitivity: 0.1240 - tn: 152069.0000 - auc: 0.7380 - prc: 0.3644 - val_loss: 0.2961 - val_Sensitivity: 0.1169 - val_tn: 38092.0000 - val_auc: 0.7275 - val_prc: 0.3434\n",
      "Epoch 59/200\n",
      "171061/171061 [==============================] - 2s 10us/sample - loss: 0.2950 - Sensitivity: 0.1252 - tn: 152046.0000 - auc: 0.7383 - prc: 0.3648 - val_loss: 0.2963 - val_Sensitivity: 0.1130 - val_tn: 38109.0000 - val_auc: 0.7270 - val_prc: 0.3441\n",
      "Epoch 60/200\n",
      "171061/171061 [==============================] - 2s 10us/sample - loss: 0.2948 - Sensitivity: 0.1249 - tn: 152029.0000 - auc: 0.7384 - prc: 0.3663 - val_loss: 0.2966 - val_Sensitivity: 0.1162 - val_tn: 38109.0000 - val_auc: 0.7271 - val_prc: 0.3448\n",
      "Epoch 61/200\n",
      "171061/171061 [==============================] - 2s 10us/sample - loss: 0.2944 - Sensitivity: 0.1262 - tn: 152042.0000 - auc: 0.7399 - prc: 0.3675 - val_loss: 0.2959 - val_Sensitivity: 0.1156 - val_tn: 38106.0000 - val_auc: 0.7274 - val_prc: 0.3462\n",
      "Epoch 62/200\n",
      "171061/171061 [==============================] - 2s 11us/sample - loss: 0.2944 - Sensitivity: 0.1267 - tn: 152008.0000 - auc: 0.7395 - prc: 0.3679 - val_loss: 0.2961 - val_Sensitivity: 0.1178 - val_tn: 38094.0000 - val_auc: 0.7270 - val_prc: 0.3448\n",
      "Epoch 63/200\n",
      "171061/171061 [==============================] - 2s 12us/sample - loss: 0.2942 - Sensitivity: 0.1267 - tn: 152035.0000 - auc: 0.7399 - prc: 0.3686 - val_loss: 0.2963 - val_Sensitivity: 0.1206 - val_tn: 38080.0000 - val_auc: 0.7271 - val_prc: 0.3439\n",
      "Epoch 64/200\n",
      "171061/171061 [==============================] - 2s 10us/sample - loss: 0.2944 - Sensitivity: 0.1276 - tn: 151996.0000 - auc: 0.7398 - prc: 0.3681 - val_loss: 0.2963 - val_Sensitivity: 0.1127 - val_tn: 38107.0000 - val_auc: 0.7258 - val_prc: 0.3438\n",
      "Epoch 65/200\n",
      "171061/171061 [==============================] - 2s 10us/sample - loss: 0.2936 - Sensitivity: 0.1257 - tn: 152016.0000 - auc: 0.7422 - prc: 0.3706 - val_loss: 0.2961 - val_Sensitivity: 0.1154 - val_tn: 38108.0000 - val_auc: 0.7266 - val_prc: 0.3451\n",
      "Epoch 66/200\n",
      "171061/171061 [==============================] - 2s 10us/sample - loss: 0.2938 - Sensitivity: 0.1289 - tn: 152032.0000 - auc: 0.7407 - prc: 0.3697 - val_loss: 0.2958 - val_Sensitivity: 0.1169 - val_tn: 38099.0000 - val_auc: 0.7275 - val_prc: 0.3446\n",
      "Epoch 67/200\n",
      "171061/171061 [==============================] - 2s 10us/sample - loss: 0.2938 - Sensitivity: 0.1296 - tn: 151993.0000 - auc: 0.7413 - prc: 0.3715 - val_loss: 0.2963 - val_Sensitivity: 0.1116 - val_tn: 38123.0000 - val_auc: 0.7264 - val_prc: 0.3446\n",
      "Epoch 68/200\n",
      "171061/171061 [==============================] - 2s 11us/sample - loss: 0.2941 - Sensitivity: 0.1248 - tn: 152011.0000 - auc: 0.7412 - prc: 0.3689 - val_loss: 0.2965 - val_Sensitivity: 0.1219 - val_tn: 38073.0000 - val_auc: 0.7262 - val_prc: 0.3433\n",
      "Epoch 69/200\n",
      "171061/171061 [==============================] - 2s 10us/sample - loss: 0.2935 - Sensitivity: 0.1302 - tn: 152013.0000 - auc: 0.7425 - prc: 0.3720 - val_loss: 0.2966 - val_Sensitivity: 0.1101 - val_tn: 38128.0000 - val_auc: 0.7254 - val_prc: 0.3452\n",
      "Epoch 70/200\n",
      "171061/171061 [==============================] - 2s 10us/sample - loss: 0.2931 - Sensitivity: 0.1289 - tn: 151995.0000 - auc: 0.7426 - prc: 0.3727 - val_loss: 0.2969 - val_Sensitivity: 0.1197 - val_tn: 38084.0000 - val_auc: 0.7258 - val_prc: 0.3425\n",
      "Epoch 71/200\n",
      "171061/171061 [==============================] - 2s 11us/sample - loss: 0.2940 - Sensitivity: 0.1289 - tn: 152042.0000 - auc: 0.7412 - prc: 0.3704 - val_loss: 0.2975 - val_Sensitivity: 0.1173 - val_tn: 38094.0000 - val_auc: 0.7264 - val_prc: 0.3442\n",
      "Epoch 72/200\n",
      "171061/171061 [==============================] - 2s 11us/sample - loss: 0.2928 - Sensitivity: 0.1321 - tn: 151998.0000 - auc: 0.7427 - prc: 0.3754 - val_loss: 0.2973 - val_Sensitivity: 0.1116 - val_tn: 38121.0000 - val_auc: 0.7263 - val_prc: 0.3442\n",
      "Epoch 73/200\n",
      "171061/171061 [==============================] - 2s 9us/sample - loss: 0.2933 - Sensitivity: 0.1269 - tn: 151990.0000 - auc: 0.7435 - prc: 0.3721 - val_loss: 0.2960 - val_Sensitivity: 0.1134 - val_tn: 38109.0000 - val_auc: 0.7270 - val_prc: 0.3446\n",
      "Epoch 74/200\n",
      "171061/171061 [==============================] - 2s 10us/sample - loss: 0.2934 - Sensitivity: 0.1281 - tn: 151993.0000 - auc: 0.7428 - prc: 0.3724 - val_loss: 0.2960 - val_Sensitivity: 0.1138 - val_tn: 38108.0000 - val_auc: 0.7263 - val_prc: 0.3439\n",
      "Epoch 75/200\n",
      "171061/171061 [==============================] - 2s 9us/sample - loss: 0.2930 - Sensitivity: 0.1285 - tn: 152044.0000 - auc: 0.7435 - prc: 0.3737 - val_loss: 0.2963 - val_Sensitivity: 0.1191 - val_tn: 38083.0000 - val_auc: 0.7268 - val_prc: 0.3440\n",
      "Epoch 76/200\n",
      "171061/171061 [==============================] - 2s 9us/sample - loss: 0.2923 - Sensitivity: 0.1310 - tn: 151991.0000 - auc: 0.7454 - prc: 0.3759 - val_loss: 0.2967 - val_Sensitivity: 0.1160 - val_tn: 38096.0000 - val_auc: 0.7254 - val_prc: 0.3438\n",
      "Epoch 77/200\n",
      "171061/171061 [==============================] - 2s 9us/sample - loss: 0.2922 - Sensitivity: 0.1308 - tn: 151999.0000 - auc: 0.7459 - prc: 0.3762 - val_loss: 0.2967 - val_Sensitivity: 0.1160 - val_tn: 38094.0000 - val_auc: 0.7253 - val_prc: 0.3438\n",
      "Epoch 78/200\n",
      "171061/171061 [==============================] - 2s 9us/sample - loss: 0.2924 - Sensitivity: 0.1335 - tn: 151991.0000 - auc: 0.7443 - prc: 0.3764 - val_loss: 0.2964 - val_Sensitivity: 0.1156 - val_tn: 38106.0000 - val_auc: 0.7267 - val_prc: 0.3441\n"
     ]
    },
    {
     "name": "stderr",
     "output_type": "stream",
     "text": [
      "/home/kchen/.local/lib/python3.9/site-packages/keras/engine/training_v1.py:2079: UserWarning: `Model.state_updates` will be removed in a future version. This property should not be used in TensorFlow 2.0, as `updates` are applied automatically.\n",
      "  updates=self.state_updates,\n"
     ]
    }
   ],
   "source": [
    "#define the model\n",
    "input_shape = [X_train.shape[1]]\n",
    "model4 = tf.keras.models.Sequential()\n",
    "model4.add(tf.keras.layers.Flatten(input_shape=input_shape))\n",
    "model4.add(tf.keras.layers.BatchNormalization())\n",
    "for _ in range(2):\n",
    "    model4.add(tf.keras.layers.Dense(1000))\n",
    "    model4.add(tf.keras.layers.BatchNormalization())\n",
    "    model4.add(tf.keras.layers.Dropout(0.8))\n",
    "    model4.add(tf.keras.layers.Activation(\"relu\"))\n",
    "model4.add(tf.keras.layers.Dense(1, activation=\"sigmoid\"))\n",
    "\n",
    "opt = tf.keras.optimizers.Adam(learning_rate=3e-3)\n",
    "\n",
    "metrics = [tf.keras.metrics.Recall(name='Sensitivity'), tf.keras.metrics.TrueNegatives(name='tn'), tf.keras.metrics.AUC(name='auc'), tf.keras.metrics.AUC(name='prc', curve='PR')]\n",
    "\n",
    "model4.compile(\n",
    "    optimizer=opt,\n",
    "    loss='binary_crossentropy',\n",
    "    metrics=metrics,)\n",
    "\n",
    "early_stopping = tf.keras.callbacks.EarlyStopping(\n",
    "    patience=25,\n",
    "    min_delta=1e-6,\n",
    "    restore_best_weights=True,)\n",
    "\n",
    "history = model4.fit(\n",
    "    X_train, y_train,\n",
    "    validation_data=(X_valid, y_valid),\n",
    "    batch_size=512,\n",
    "    epochs=200,\n",
    "    callbacks=[early_stopping],)\n",
    "\n",
    "ann_preds_readm = model4.predict(X_test)\n"
   ]
  },
  {
   "cell_type": "code",
   "execution_count": 5,
   "metadata": {},
   "outputs": [
    {
     "name": "stderr",
     "output_type": "stream",
     "text": [
      "keras is no longer supported, please use tf.keras instead.\n",
      "Your TensorFlow version is newer than 2.4.0 and so graph support has been removed in eager mode. See PR #1483 for discussion.\n"
     ]
    },
    {
     "name": "stdout",
     "output_type": "stream",
     "text": [
      "WARNING:tensorflow:From /home/kchen/.local/lib/python3.9/site-packages/shap/explainers/tf_utils.py:28: The name tf.keras.backend.get_session is deprecated. Please use tf.compat.v1.keras.backend.get_session instead.\n",
      "\n"
     ]
    },
    {
     "data": {
      "image/png": "[encoded data removed]",
      "text/plain": [
       "<Figure size 576x684 with 1 Axes>"
      ]
     },
     "metadata": {
      "needs_background": "light"
     },
     "output_type": "display_data"
    }
   ],
   "source": [
    "#calculate shap values\n",
    "import shap\n",
    "explainer = shap.DeepExplainer(model4, X_train.sample(n=4000))\n",
    "shap_values = explainer.shap_values(X_valid.sample(n=4000).values)\n",
    "shap.summary_plot(shap_values, X_valid.sample(n=4000))"
   ]
  },
  {
   "cell_type": "code",
   "execution_count": 6,
   "metadata": {},
   "outputs": [
    {
     "data": {
      "text/html": [
       "<div>\n",
       "<style scoped>\n",
       "    .dataframe tbody tr th:only-of-type {\n",
       "        vertical-align: middle;\n",
       "    }\n",
       "\n",
       "    .dataframe tbody tr th {\n",
       "        vertical-align: top;\n",
       "    }\n",
       "\n",
       "    .dataframe thead th {\n",
       "        text-align: right;\n",
       "    }\n",
       "</style>\n",
       "<table border=\"1\" class=\"dataframe\">\n",
       "  <thead>\n",
       "    <tr style=\"text-align: right;\">\n",
       "      <th></th>\n",
       "      <th>col_name</th>\n",
       "      <th>feature_importance_vals</th>\n",
       "    </tr>\n",
       "  </thead>\n",
       "  <tbody>\n",
       "    <tr>\n",
       "      <th>4</th>\n",
       "      <td>COL_ILEUS</td>\n",
       "      <td>0.018411</td>\n",
       "    </tr>\n",
       "    <tr>\n",
       "      <th>67</th>\n",
       "      <td>TOTHLOS</td>\n",
       "      <td>0.013570</td>\n",
       "    </tr>\n",
       "    <tr>\n",
       "      <th>74</th>\n",
       "      <td>OSSIPATOS</td>\n",
       "      <td>0.006724</td>\n",
       "    </tr>\n",
       "    <tr>\n",
       "      <th>106</th>\n",
       "      <td>ost</td>\n",
       "      <td>0.006477</td>\n",
       "    </tr>\n",
       "    <tr>\n",
       "      <th>65</th>\n",
       "      <td>ASACLAS</td>\n",
       "      <td>0.005372</td>\n",
       "    </tr>\n",
       "    <tr>\n",
       "      <th>66</th>\n",
       "      <td>OPTIME</td>\n",
       "      <td>0.004066</td>\n",
       "    </tr>\n",
       "    <tr>\n",
       "      <th>107</th>\n",
       "      <td>dli</td>\n",
       "      <td>0.003820</td>\n",
       "    </tr>\n",
       "    <tr>\n",
       "      <th>97</th>\n",
       "      <td>OTHCDIFF</td>\n",
       "      <td>0.003473</td>\n",
       "    </tr>\n",
       "    <tr>\n",
       "      <th>89</th>\n",
       "      <td>OTHBLEED</td>\n",
       "      <td>0.003363</td>\n",
       "    </tr>\n",
       "    <tr>\n",
       "      <th>12</th>\n",
       "      <td>OPERYR</td>\n",
       "      <td>0.003211</td>\n",
       "    </tr>\n",
       "  </tbody>\n",
       "</table>\n",
       "</div>"
      ],
      "text/plain": [
       "      col_name  feature_importance_vals\n",
       "4    COL_ILEUS                 0.018411\n",
       "67     TOTHLOS                 0.013570\n",
       "74   OSSIPATOS                 0.006724\n",
       "106        ost                 0.006477\n",
       "65     ASACLAS                 0.005372\n",
       "66      OPTIME                 0.004066\n",
       "107        dli                 0.003820\n",
       "97    OTHCDIFF                 0.003473\n",
       "89    OTHBLEED                 0.003363\n",
       "12      OPERYR                 0.003211"
      ]
     },
     "execution_count": 6,
     "metadata": {},
     "output_type": "execute_result"
    }
   ],
   "source": [
    "#put the shap values into a dataframe\n",
    "shap_values[0].shape\n",
    "vals = np.abs(shap_values[0]).mean(0)\n",
    "feature_names = X_train.columns\n",
    "feature_importance = pd.DataFrame(list(zip(feature_names, vals)),\n",
    "                                  columns=['col_name','feature_importance_vals'])\n",
    "feature_importance.sort_values(by=['feature_importance_vals'],\n",
    "                               ascending=False, inplace=True)\n",
    "feature_importance.head(10)"
   ]
  },
  {
   "cell_type": "code",
   "execution_count": 7,
   "metadata": {},
   "outputs": [],
   "source": [
    "#export to excel where the variable names can be changed more easily\n",
    "feature_importance.to_excel('shap.xlsx')"
   ]
  },
  {
   "cell_type": "code",
   "execution_count": 15,
   "metadata": {},
   "outputs": [],
   "source": [
    "#read back into pandas\n",
    "fi = pd.read_excel('shap.xlsx')"
   ]
  },
  {
   "cell_type": "code",
   "execution_count": 16,
   "metadata": {},
   "outputs": [
    {
     "data": {
      "text/html": [
       "<div>\n",
       "<style scoped>\n",
       "    .dataframe tbody tr th:only-of-type {\n",
       "        vertical-align: middle;\n",
       "    }\n",
       "\n",
       "    .dataframe tbody tr th {\n",
       "        vertical-align: top;\n",
       "    }\n",
       "\n",
       "    .dataframe thead th {\n",
       "        text-align: right;\n",
       "    }\n",
       "</style>\n",
       "<table border=\"1\" class=\"dataframe\">\n",
       "  <thead>\n",
       "    <tr style=\"text-align: right;\">\n",
       "      <th></th>\n",
       "      <th>Variable name</th>\n",
       "      <th>Relative importance</th>\n",
       "    </tr>\n",
       "  </thead>\n",
       "  <tbody>\n",
       "    <tr>\n",
       "      <th>0</th>\n",
       "      <td>Ileus</td>\n",
       "      <td>0.018411</td>\n",
       "    </tr>\n",
       "    <tr>\n",
       "      <th>1</th>\n",
       "      <td>Index length of stay</td>\n",
       "      <td>0.013570</td>\n",
       "    </tr>\n",
       "    <tr>\n",
       "      <th>2</th>\n",
       "      <td>Organ-space SSI PATOS</td>\n",
       "      <td>0.006724</td>\n",
       "    </tr>\n",
       "    <tr>\n",
       "      <th>3</th>\n",
       "      <td>Ostomy placed (any type)</td>\n",
       "      <td>0.006477</td>\n",
       "    </tr>\n",
       "    <tr>\n",
       "      <th>4</th>\n",
       "      <td>ASA classification</td>\n",
       "      <td>0.005372</td>\n",
       "    </tr>\n",
       "    <tr>\n",
       "      <th>5</th>\n",
       "      <td>Operative time (minutes)</td>\n",
       "      <td>0.004066</td>\n",
       "    </tr>\n",
       "    <tr>\n",
       "      <th>6</th>\n",
       "      <td>Ileostomy placed</td>\n",
       "      <td>0.003820</td>\n",
       "    </tr>\n",
       "    <tr>\n",
       "      <th>7</th>\n",
       "      <td>C Diff infection</td>\n",
       "      <td>0.003473</td>\n",
       "    </tr>\n",
       "    <tr>\n",
       "      <th>8</th>\n",
       "      <td>Post-op transfusion</td>\n",
       "      <td>0.003363</td>\n",
       "    </tr>\n",
       "    <tr>\n",
       "      <th>9</th>\n",
       "      <td>Organ-space SSI</td>\n",
       "      <td>0.003175</td>\n",
       "    </tr>\n",
       "  </tbody>\n",
       "</table>\n",
       "</div>"
      ],
      "text/plain": [
       "              Variable name  Relative importance\n",
       "0                     Ileus             0.018411\n",
       "1      Index length of stay             0.013570\n",
       "2     Organ-space SSI PATOS             0.006724\n",
       "3  Ostomy placed (any type)             0.006477\n",
       "4        ASA classification             0.005372\n",
       "5  Operative time (minutes)             0.004066\n",
       "6          Ileostomy placed             0.003820\n",
       "7          C Diff infection             0.003473\n",
       "8       Post-op transfusion             0.003363\n",
       "9           Organ-space SSI             0.003175"
      ]
     },
     "execution_count": 16,
     "metadata": {},
     "output_type": "execute_result"
    }
   ],
   "source": [
    "fi.head(10)"
   ]
  },
  {
   "cell_type": "code",
   "execution_count": 26,
   "metadata": {},
   "outputs": [
    {
     "data": {
      "image/png": "[encoded data removed]",
      "text/plain": [
       "<Figure size 1152x720 with 1 Axes>"
      ]
     },
     "metadata": {
      "needs_background": "light"
     },
     "output_type": "display_data"
    }
   ],
   "source": [
    "#plot the feature importance\n",
    "import seaborn as sns\n",
    "from matplotlib import pyplot as plt\n",
    "palette = sns.color_palette(\"Blues_d\", n_colors=10)\n",
    "palette.reverse()\n",
    "plt.figure(figsize=(16,10))\n",
    "sns.barplot(x='Relative importance', y='Variable name', data=fi.head(10), palette=palette)\n",
    "plt.rcParams[\"font.size\"] = 30\n",
    "plt.tight_layout()\n",
    "plt.savefig('shap.png')"
   ]
  },
  {
   "cell_type": "code",
   "execution_count": null,
   "metadata": {},
   "outputs": [],
   "source": []
  }
 ],
 "metadata": {
  "interpreter": {
   "hash": "916dbcbb3f70747c44a77c7bcd40155683ae19c65e1c03b4aa3499c5328201f1"
  },
  "kernelspec": {
   "display_name": "Python 3.9.5 64-bit",
   "language": "python",
   "name": "python3"
  },
  "language_info": {
   "codemirror_mode": {
    "name": "ipython",
    "version": 3
   },
   "file_extension": ".py",
   "mimetype": "text/x-python",
   "name": "python",
   "nbconvert_exporter": "python",
   "pygments_lexer": "ipython3",
   "version": "3.9.5"
  },
  "orig_nbformat": 4
 },
 "nbformat": 4,
 "nbformat_minor": 2
}
