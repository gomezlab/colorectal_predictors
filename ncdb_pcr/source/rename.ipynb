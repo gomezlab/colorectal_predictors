{
 "cells": [
  {
   "cell_type": "code",
   "execution_count": 160,
   "metadata": {},
   "outputs": [],
   "source": [
    "import pandas as pd\n",
    "import numpy as np\n",
    "from tableone import TableOne\n",
    "from eda_utils import *\n",
    "#show more columns\n",
    "pd.set_option('display.max_columns', None)"
   ]
  },
  {
   "cell_type": "code",
   "execution_count": 161,
   "metadata": {},
   "outputs": [
    {
     "name": "stdout",
     "output_type": "stream",
     "text": [
      "(53684, 48)\n"
     ]
    },
    {
     "data": {
      "text/html": [
       "<div>\n",
       "<style scoped>\n",
       "    .dataframe tbody tr th:only-of-type {\n",
       "        vertical-align: middle;\n",
       "    }\n",
       "\n",
       "    .dataframe tbody tr th {\n",
       "        vertical-align: top;\n",
       "    }\n",
       "\n",
       "    .dataframe thead th {\n",
       "        text-align: right;\n",
       "    }\n",
       "</style>\n",
       "<table border=\"1\" class=\"dataframe\">\n",
       "  <thead>\n",
       "    <tr style=\"text-align: right;\">\n",
       "      <th></th>\n",
       "      <th>Facility Key</th>\n",
       "      <th>Facility Type</th>\n",
       "      <th>Facility Location</th>\n",
       "      <th>Age at Diagnosis</th>\n",
       "      <th>Sex</th>\n",
       "      <th>Race</th>\n",
       "      <th>Spanish Hispanic Origin</th>\n",
       "      <th>Primary Payor</th>\n",
       "      <th>Census Median Income Quartiles 2008-2012</th>\n",
       "      <th>Percent No High School Degree 2008-2012</th>\n",
       "      <th>Urban/Rural 2013</th>\n",
       "      <th>Great Circle Distance</th>\n",
       "      <th>Charlson-Deyo Score</th>\n",
       "      <th>Year of Diagnosis</th>\n",
       "      <th>Histology</th>\n",
       "      <th>Grade 2004-2017</th>\n",
       "      <th>Size of Tumor</th>\n",
       "      <th>Metastatic Liver Involvement</th>\n",
       "      <th>Lymph Vascular Invasion</th>\n",
       "      <th>CEA</th>\n",
       "      <th>CEA value</th>\n",
       "      <th>Microsatellite Instability</th>\n",
       "      <th>Perineural invasion</th>\n",
       "      <th>KRAS</th>\n",
       "      <th>Surgical Procedure of Primary Site at any CoC Facility</th>\n",
       "      <th>Radiation Surgery Sequence at any CoC Facility</th>\n",
       "      <th>Reason For No Radiation</th>\n",
       "      <th>Chemotherapy at any CoC Facility</th>\n",
       "      <th>Last Contact or Death, Months from Dx</th>\n",
       "      <th>Palliative Care at this Facility</th>\n",
       "      <th>Tumor Size Summary 2016</th>\n",
       "      <th>Metastatic Involvement Other</th>\n",
       "      <th>Metastatic Liver Involvement.1</th>\n",
       "      <th>Percent No High School Degree Quartiles 2012-2016</th>\n",
       "      <th>Median Income Quartiles 2012-2016</th>\n",
       "      <th>Medicaid Expansion Status State Group</th>\n",
       "      <th>CEA Pretreatment Interpretation SSDI Item 3819</th>\n",
       "      <th>CEA Pretreatment Lab Value SSDI Item 3820</th>\n",
       "      <th>Grade Clinical SSDI Item 3843</th>\n",
       "      <th>KRAS SSDI Item 3866</th>\n",
       "      <th>Microsatellite Instability (MSI) SSDI Item 3890</th>\n",
       "      <th>Perineural Invasion SSDI Item 3909</th>\n",
       "      <th>pstage</th>\n",
       "      <th>pcr</th>\n",
       "      <th>stage</th>\n",
       "      <th>t_stage</th>\n",
       "      <th>n_stage</th>\n",
       "      <th>m_stage</th>\n",
       "    </tr>\n",
       "    <tr>\n",
       "      <th>Case Key</th>\n",
       "      <th></th>\n",
       "      <th></th>\n",
       "      <th></th>\n",
       "      <th></th>\n",
       "      <th></th>\n",
       "      <th></th>\n",
       "      <th></th>\n",
       "      <th></th>\n",
       "      <th></th>\n",
       "      <th></th>\n",
       "      <th></th>\n",
       "      <th></th>\n",
       "      <th></th>\n",
       "      <th></th>\n",
       "      <th></th>\n",
       "      <th></th>\n",
       "      <th></th>\n",
       "      <th></th>\n",
       "      <th></th>\n",
       "      <th></th>\n",
       "      <th></th>\n",
       "      <th></th>\n",
       "      <th></th>\n",
       "      <th></th>\n",
       "      <th></th>\n",
       "      <th></th>\n",
       "      <th></th>\n",
       "      <th></th>\n",
       "      <th></th>\n",
       "      <th></th>\n",
       "      <th></th>\n",
       "      <th></th>\n",
       "      <th></th>\n",
       "      <th></th>\n",
       "      <th></th>\n",
       "      <th></th>\n",
       "      <th></th>\n",
       "      <th></th>\n",
       "      <th></th>\n",
       "      <th></th>\n",
       "      <th></th>\n",
       "      <th></th>\n",
       "      <th></th>\n",
       "      <th></th>\n",
       "      <th></th>\n",
       "      <th></th>\n",
       "      <th></th>\n",
       "      <th></th>\n",
       "    </tr>\n",
       "  </thead>\n",
       "  <tbody>\n",
       "    <tr>\n",
       "      <th>D0d14a662-dde0-4a0e-a6f0-a0e0db2d19e2</th>\n",
       "      <td>WIEPJSGATB</td>\n",
       "      <td>3.0</td>\n",
       "      <td>2.0</td>\n",
       "      <td>78.0</td>\n",
       "      <td>2.0</td>\n",
       "      <td>1.0</td>\n",
       "      <td>9.0</td>\n",
       "      <td>3.0</td>\n",
       "      <td>4.0</td>\n",
       "      <td>4.0</td>\n",
       "      <td>1.0</td>\n",
       "      <td>7.5</td>\n",
       "      <td>0.0</td>\n",
       "      <td>2010.0</td>\n",
       "      <td>8140.0</td>\n",
       "      <td>2.0</td>\n",
       "      <td>50.0</td>\n",
       "      <td>0.0</td>\n",
       "      <td>9.0</td>\n",
       "      <td>10.0</td>\n",
       "      <td>32.0</td>\n",
       "      <td>998.0</td>\n",
       "      <td>NaN</td>\n",
       "      <td>998.0</td>\n",
       "      <td>30.0</td>\n",
       "      <td>2.0</td>\n",
       "      <td>0.0</td>\n",
       "      <td>2.0</td>\n",
       "      <td>125.57</td>\n",
       "      <td>0.0</td>\n",
       "      <td>NaN</td>\n",
       "      <td>NaN</td>\n",
       "      <td>NaN</td>\n",
       "      <td>4.0</td>\n",
       "      <td>4.0</td>\n",
       "      <td>1.0</td>\n",
       "      <td>NaN</td>\n",
       "      <td>NaN</td>\n",
       "      <td>NaN</td>\n",
       "      <td>NaN</td>\n",
       "      <td>NaN</td>\n",
       "      <td>NaN</td>\n",
       "      <td>3A</td>\n",
       "      <td>0.0</td>\n",
       "      <td>2</td>\n",
       "      <td>3.0</td>\n",
       "      <td>0</td>\n",
       "      <td>0.0</td>\n",
       "    </tr>\n",
       "    <tr>\n",
       "      <th>Dcd9758ae-2308-45cf-bbf1-b3ab4ed2e48f</th>\n",
       "      <td>NWBQYGAYAV</td>\n",
       "      <td>3.0</td>\n",
       "      <td>5.0</td>\n",
       "      <td>70.0</td>\n",
       "      <td>1.0</td>\n",
       "      <td>1.0</td>\n",
       "      <td>0.0</td>\n",
       "      <td>1.0</td>\n",
       "      <td>1.0</td>\n",
       "      <td>1.0</td>\n",
       "      <td>3.0</td>\n",
       "      <td>26.5</td>\n",
       "      <td>2.0</td>\n",
       "      <td>2012.0</td>\n",
       "      <td>8140.0</td>\n",
       "      <td>2.0</td>\n",
       "      <td>50.0</td>\n",
       "      <td>0.0</td>\n",
       "      <td>0.0</td>\n",
       "      <td>20.0</td>\n",
       "      <td>8.0</td>\n",
       "      <td>60.0</td>\n",
       "      <td>0.0</td>\n",
       "      <td>NaN</td>\n",
       "      <td>30.0</td>\n",
       "      <td>2.0</td>\n",
       "      <td>0.0</td>\n",
       "      <td>1.0</td>\n",
       "      <td>98.53</td>\n",
       "      <td>0.0</td>\n",
       "      <td>NaN</td>\n",
       "      <td>NaN</td>\n",
       "      <td>NaN</td>\n",
       "      <td>1.0</td>\n",
       "      <td>1.0</td>\n",
       "      <td>0.0</td>\n",
       "      <td>NaN</td>\n",
       "      <td>NaN</td>\n",
       "      <td>NaN</td>\n",
       "      <td>NaN</td>\n",
       "      <td>NaN</td>\n",
       "      <td>NaN</td>\n",
       "      <td>0</td>\n",
       "      <td>1.0</td>\n",
       "      <td>2</td>\n",
       "      <td>3.0</td>\n",
       "      <td>0</td>\n",
       "      <td>0.0</td>\n",
       "    </tr>\n",
       "    <tr>\n",
       "      <th>D656e0503-a772-440d-a60a-c9d8bd9c520b</th>\n",
       "      <td>KOZLUMSSEP</td>\n",
       "      <td>3.0</td>\n",
       "      <td>2.0</td>\n",
       "      <td>82.0</td>\n",
       "      <td>1.0</td>\n",
       "      <td>1.0</td>\n",
       "      <td>0.0</td>\n",
       "      <td>3.0</td>\n",
       "      <td>4.0</td>\n",
       "      <td>4.0</td>\n",
       "      <td>1.0</td>\n",
       "      <td>7.9</td>\n",
       "      <td>0.0</td>\n",
       "      <td>2017.0</td>\n",
       "      <td>8140.0</td>\n",
       "      <td>9.0</td>\n",
       "      <td>NaN</td>\n",
       "      <td>NaN</td>\n",
       "      <td>1.0</td>\n",
       "      <td>20.0</td>\n",
       "      <td>34.0</td>\n",
       "      <td>20.0</td>\n",
       "      <td>0.0</td>\n",
       "      <td>998.0</td>\n",
       "      <td>30.0</td>\n",
       "      <td>2.0</td>\n",
       "      <td>0.0</td>\n",
       "      <td>2.0</td>\n",
       "      <td>8.05</td>\n",
       "      <td>0.0</td>\n",
       "      <td>80.0</td>\n",
       "      <td>0.0</td>\n",
       "      <td>0.0</td>\n",
       "      <td>4.0</td>\n",
       "      <td>4.0</td>\n",
       "      <td>1.0</td>\n",
       "      <td>NaN</td>\n",
       "      <td>NaN</td>\n",
       "      <td>NaN</td>\n",
       "      <td>NaN</td>\n",
       "      <td>NaN</td>\n",
       "      <td>NaN</td>\n",
       "      <td>3B</td>\n",
       "      <td>0.0</td>\n",
       "      <td>2</td>\n",
       "      <td>3.0</td>\n",
       "      <td>0</td>\n",
       "      <td>0.0</td>\n",
       "    </tr>\n",
       "    <tr>\n",
       "      <th>D67bf0834-7b7d-41c7-a320-ab0438fe764e</th>\n",
       "      <td>QISENWRSZO</td>\n",
       "      <td>3.0</td>\n",
       "      <td>6.0</td>\n",
       "      <td>51.0</td>\n",
       "      <td>1.0</td>\n",
       "      <td>1.0</td>\n",
       "      <td>0.0</td>\n",
       "      <td>1.0</td>\n",
       "      <td>NaN</td>\n",
       "      <td>NaN</td>\n",
       "      <td>1.0</td>\n",
       "      <td>NaN</td>\n",
       "      <td>0.0</td>\n",
       "      <td>2011.0</td>\n",
       "      <td>8140.0</td>\n",
       "      <td>2.0</td>\n",
       "      <td>15.0</td>\n",
       "      <td>0.0</td>\n",
       "      <td>0.0</td>\n",
       "      <td>998.0</td>\n",
       "      <td>NaN</td>\n",
       "      <td>20.0</td>\n",
       "      <td>0.0</td>\n",
       "      <td>998.0</td>\n",
       "      <td>30.0</td>\n",
       "      <td>2.0</td>\n",
       "      <td>0.0</td>\n",
       "      <td>2.0</td>\n",
       "      <td>69.95</td>\n",
       "      <td>0.0</td>\n",
       "      <td>NaN</td>\n",
       "      <td>NaN</td>\n",
       "      <td>NaN</td>\n",
       "      <td>NaN</td>\n",
       "      <td>NaN</td>\n",
       "      <td>2.0</td>\n",
       "      <td>NaN</td>\n",
       "      <td>NaN</td>\n",
       "      <td>NaN</td>\n",
       "      <td>NaN</td>\n",
       "      <td>NaN</td>\n",
       "      <td>NaN</td>\n",
       "      <td>0</td>\n",
       "      <td>1.0</td>\n",
       "      <td>3</td>\n",
       "      <td>3.0</td>\n",
       "      <td>1</td>\n",
       "      <td>0.0</td>\n",
       "    </tr>\n",
       "    <tr>\n",
       "      <th>D1557dfde-4686-4534-8d7f-bf743fdc51bf</th>\n",
       "      <td>OPDMCOUQIW</td>\n",
       "      <td>4.0</td>\n",
       "      <td>3.0</td>\n",
       "      <td>84.0</td>\n",
       "      <td>1.0</td>\n",
       "      <td>1.0</td>\n",
       "      <td>0.0</td>\n",
       "      <td>3.0</td>\n",
       "      <td>3.0</td>\n",
       "      <td>4.0</td>\n",
       "      <td>3.0</td>\n",
       "      <td>2.7</td>\n",
       "      <td>0.0</td>\n",
       "      <td>2015.0</td>\n",
       "      <td>8480.0</td>\n",
       "      <td>9.0</td>\n",
       "      <td>42.0</td>\n",
       "      <td>0.0</td>\n",
       "      <td>0.0</td>\n",
       "      <td>20.0</td>\n",
       "      <td>22.0</td>\n",
       "      <td>988.0</td>\n",
       "      <td>0.0</td>\n",
       "      <td>10.0</td>\n",
       "      <td>30.0</td>\n",
       "      <td>2.0</td>\n",
       "      <td>0.0</td>\n",
       "      <td>2.0</td>\n",
       "      <td>70.18</td>\n",
       "      <td>0.0</td>\n",
       "      <td>NaN</td>\n",
       "      <td>NaN</td>\n",
       "      <td>NaN</td>\n",
       "      <td>4.0</td>\n",
       "      <td>3.0</td>\n",
       "      <td>0.0</td>\n",
       "      <td>NaN</td>\n",
       "      <td>NaN</td>\n",
       "      <td>NaN</td>\n",
       "      <td>NaN</td>\n",
       "      <td>NaN</td>\n",
       "      <td>NaN</td>\n",
       "      <td>1</td>\n",
       "      <td>0.0</td>\n",
       "      <td>2</td>\n",
       "      <td>3.0</td>\n",
       "      <td>0</td>\n",
       "      <td>0.0</td>\n",
       "    </tr>\n",
       "  </tbody>\n",
       "</table>\n",
       "</div>"
      ],
      "text/plain": [
       "                                      Facility Key Facility Type  \\\n",
       "Case Key                                                           \n",
       "D0d14a662-dde0-4a0e-a6f0-a0e0db2d19e2   WIEPJSGATB           3.0   \n",
       "Dcd9758ae-2308-45cf-bbf1-b3ab4ed2e48f   NWBQYGAYAV           3.0   \n",
       "D656e0503-a772-440d-a60a-c9d8bd9c520b   KOZLUMSSEP           3.0   \n",
       "D67bf0834-7b7d-41c7-a320-ab0438fe764e   QISENWRSZO           3.0   \n",
       "D1557dfde-4686-4534-8d7f-bf743fdc51bf   OPDMCOUQIW           4.0   \n",
       "\n",
       "                                      Facility Location Age at Diagnosis  Sex  \\\n",
       "Case Key                                                                        \n",
       "D0d14a662-dde0-4a0e-a6f0-a0e0db2d19e2               2.0             78.0  2.0   \n",
       "Dcd9758ae-2308-45cf-bbf1-b3ab4ed2e48f               5.0             70.0  1.0   \n",
       "D656e0503-a772-440d-a60a-c9d8bd9c520b               2.0             82.0  1.0   \n",
       "D67bf0834-7b7d-41c7-a320-ab0438fe764e               6.0             51.0  1.0   \n",
       "D1557dfde-4686-4534-8d7f-bf743fdc51bf               3.0             84.0  1.0   \n",
       "\n",
       "                                      Race Spanish Hispanic Origin  \\\n",
       "Case Key                                                             \n",
       "D0d14a662-dde0-4a0e-a6f0-a0e0db2d19e2  1.0                     9.0   \n",
       "Dcd9758ae-2308-45cf-bbf1-b3ab4ed2e48f  1.0                     0.0   \n",
       "D656e0503-a772-440d-a60a-c9d8bd9c520b  1.0                     0.0   \n",
       "D67bf0834-7b7d-41c7-a320-ab0438fe764e  1.0                     0.0   \n",
       "D1557dfde-4686-4534-8d7f-bf743fdc51bf  1.0                     0.0   \n",
       "\n",
       "                                      Primary Payor  \\\n",
       "Case Key                                              \n",
       "D0d14a662-dde0-4a0e-a6f0-a0e0db2d19e2           3.0   \n",
       "Dcd9758ae-2308-45cf-bbf1-b3ab4ed2e48f           1.0   \n",
       "D656e0503-a772-440d-a60a-c9d8bd9c520b           3.0   \n",
       "D67bf0834-7b7d-41c7-a320-ab0438fe764e           1.0   \n",
       "D1557dfde-4686-4534-8d7f-bf743fdc51bf           3.0   \n",
       "\n",
       "                                      Census Median Income Quartiles 2008-2012  \\\n",
       "Case Key                                                                         \n",
       "D0d14a662-dde0-4a0e-a6f0-a0e0db2d19e2                                      4.0   \n",
       "Dcd9758ae-2308-45cf-bbf1-b3ab4ed2e48f                                      1.0   \n",
       "D656e0503-a772-440d-a60a-c9d8bd9c520b                                      4.0   \n",
       "D67bf0834-7b7d-41c7-a320-ab0438fe764e                                      NaN   \n",
       "D1557dfde-4686-4534-8d7f-bf743fdc51bf                                      3.0   \n",
       "\n",
       "                                      Percent No High School Degree 2008-2012  \\\n",
       "Case Key                                                                        \n",
       "D0d14a662-dde0-4a0e-a6f0-a0e0db2d19e2                                     4.0   \n",
       "Dcd9758ae-2308-45cf-bbf1-b3ab4ed2e48f                                     1.0   \n",
       "D656e0503-a772-440d-a60a-c9d8bd9c520b                                     4.0   \n",
       "D67bf0834-7b7d-41c7-a320-ab0438fe764e                                     NaN   \n",
       "D1557dfde-4686-4534-8d7f-bf743fdc51bf                                     4.0   \n",
       "\n",
       "                                      Urban/Rural 2013 Great Circle Distance  \\\n",
       "Case Key                                                                       \n",
       "D0d14a662-dde0-4a0e-a6f0-a0e0db2d19e2              1.0                   7.5   \n",
       "Dcd9758ae-2308-45cf-bbf1-b3ab4ed2e48f              3.0                  26.5   \n",
       "D656e0503-a772-440d-a60a-c9d8bd9c520b              1.0                   7.9   \n",
       "D67bf0834-7b7d-41c7-a320-ab0438fe764e              1.0                   NaN   \n",
       "D1557dfde-4686-4534-8d7f-bf743fdc51bf              3.0                   2.7   \n",
       "\n",
       "                                      Charlson-Deyo Score Year of Diagnosis  \\\n",
       "Case Key                                                                      \n",
       "D0d14a662-dde0-4a0e-a6f0-a0e0db2d19e2                 0.0            2010.0   \n",
       "Dcd9758ae-2308-45cf-bbf1-b3ab4ed2e48f                 2.0            2012.0   \n",
       "D656e0503-a772-440d-a60a-c9d8bd9c520b                 0.0            2017.0   \n",
       "D67bf0834-7b7d-41c7-a320-ab0438fe764e                 0.0            2011.0   \n",
       "D1557dfde-4686-4534-8d7f-bf743fdc51bf                 0.0            2015.0   \n",
       "\n",
       "                                      Histology Grade 2004-2017 Size of Tumor  \\\n",
       "Case Key                                                                        \n",
       "D0d14a662-dde0-4a0e-a6f0-a0e0db2d19e2    8140.0             2.0          50.0   \n",
       "Dcd9758ae-2308-45cf-bbf1-b3ab4ed2e48f    8140.0             2.0          50.0   \n",
       "D656e0503-a772-440d-a60a-c9d8bd9c520b    8140.0             9.0           NaN   \n",
       "D67bf0834-7b7d-41c7-a320-ab0438fe764e    8140.0             2.0          15.0   \n",
       "D1557dfde-4686-4534-8d7f-bf743fdc51bf    8480.0             9.0          42.0   \n",
       "\n",
       "                                      Metastatic Liver Involvement  \\\n",
       "Case Key                                                             \n",
       "D0d14a662-dde0-4a0e-a6f0-a0e0db2d19e2                          0.0   \n",
       "Dcd9758ae-2308-45cf-bbf1-b3ab4ed2e48f                          0.0   \n",
       "D656e0503-a772-440d-a60a-c9d8bd9c520b                          NaN   \n",
       "D67bf0834-7b7d-41c7-a320-ab0438fe764e                          0.0   \n",
       "D1557dfde-4686-4534-8d7f-bf743fdc51bf                          0.0   \n",
       "\n",
       "                                      Lymph Vascular Invasion    CEA  \\\n",
       "Case Key                                                               \n",
       "D0d14a662-dde0-4a0e-a6f0-a0e0db2d19e2                     9.0   10.0   \n",
       "Dcd9758ae-2308-45cf-bbf1-b3ab4ed2e48f                     0.0   20.0   \n",
       "D656e0503-a772-440d-a60a-c9d8bd9c520b                     1.0   20.0   \n",
       "D67bf0834-7b7d-41c7-a320-ab0438fe764e                     0.0  998.0   \n",
       "D1557dfde-4686-4534-8d7f-bf743fdc51bf                     0.0   20.0   \n",
       "\n",
       "                                      CEA value Microsatellite Instability  \\\n",
       "Case Key                                                                     \n",
       "D0d14a662-dde0-4a0e-a6f0-a0e0db2d19e2      32.0                      998.0   \n",
       "Dcd9758ae-2308-45cf-bbf1-b3ab4ed2e48f       8.0                       60.0   \n",
       "D656e0503-a772-440d-a60a-c9d8bd9c520b      34.0                       20.0   \n",
       "D67bf0834-7b7d-41c7-a320-ab0438fe764e       NaN                       20.0   \n",
       "D1557dfde-4686-4534-8d7f-bf743fdc51bf      22.0                      988.0   \n",
       "\n",
       "                                      Perineural invasion   KRAS  \\\n",
       "Case Key                                                           \n",
       "D0d14a662-dde0-4a0e-a6f0-a0e0db2d19e2                 NaN  998.0   \n",
       "Dcd9758ae-2308-45cf-bbf1-b3ab4ed2e48f                 0.0    NaN   \n",
       "D656e0503-a772-440d-a60a-c9d8bd9c520b                 0.0  998.0   \n",
       "D67bf0834-7b7d-41c7-a320-ab0438fe764e                 0.0  998.0   \n",
       "D1557dfde-4686-4534-8d7f-bf743fdc51bf                 0.0   10.0   \n",
       "\n",
       "                                      Surgical Procedure of Primary Site at any CoC Facility  \\\n",
       "Case Key                                                                                       \n",
       "D0d14a662-dde0-4a0e-a6f0-a0e0db2d19e2                                               30.0       \n",
       "Dcd9758ae-2308-45cf-bbf1-b3ab4ed2e48f                                               30.0       \n",
       "D656e0503-a772-440d-a60a-c9d8bd9c520b                                               30.0       \n",
       "D67bf0834-7b7d-41c7-a320-ab0438fe764e                                               30.0       \n",
       "D1557dfde-4686-4534-8d7f-bf743fdc51bf                                               30.0       \n",
       "\n",
       "                                      Radiation Surgery Sequence at any CoC Facility  \\\n",
       "Case Key                                                                               \n",
       "D0d14a662-dde0-4a0e-a6f0-a0e0db2d19e2                                            2.0   \n",
       "Dcd9758ae-2308-45cf-bbf1-b3ab4ed2e48f                                            2.0   \n",
       "D656e0503-a772-440d-a60a-c9d8bd9c520b                                            2.0   \n",
       "D67bf0834-7b7d-41c7-a320-ab0438fe764e                                            2.0   \n",
       "D1557dfde-4686-4534-8d7f-bf743fdc51bf                                            2.0   \n",
       "\n",
       "                                      Reason For No Radiation  \\\n",
       "Case Key                                                        \n",
       "D0d14a662-dde0-4a0e-a6f0-a0e0db2d19e2                     0.0   \n",
       "Dcd9758ae-2308-45cf-bbf1-b3ab4ed2e48f                     0.0   \n",
       "D656e0503-a772-440d-a60a-c9d8bd9c520b                     0.0   \n",
       "D67bf0834-7b7d-41c7-a320-ab0438fe764e                     0.0   \n",
       "D1557dfde-4686-4534-8d7f-bf743fdc51bf                     0.0   \n",
       "\n",
       "                                      Chemotherapy at any CoC Facility  \\\n",
       "Case Key                                                                 \n",
       "D0d14a662-dde0-4a0e-a6f0-a0e0db2d19e2                              2.0   \n",
       "Dcd9758ae-2308-45cf-bbf1-b3ab4ed2e48f                              1.0   \n",
       "D656e0503-a772-440d-a60a-c9d8bd9c520b                              2.0   \n",
       "D67bf0834-7b7d-41c7-a320-ab0438fe764e                              2.0   \n",
       "D1557dfde-4686-4534-8d7f-bf743fdc51bf                              2.0   \n",
       "\n",
       "                                      Last Contact or Death, Months from Dx  \\\n",
       "Case Key                                                                      \n",
       "D0d14a662-dde0-4a0e-a6f0-a0e0db2d19e2                                125.57   \n",
       "Dcd9758ae-2308-45cf-bbf1-b3ab4ed2e48f                                 98.53   \n",
       "D656e0503-a772-440d-a60a-c9d8bd9c520b                                  8.05   \n",
       "D67bf0834-7b7d-41c7-a320-ab0438fe764e                                 69.95   \n",
       "D1557dfde-4686-4534-8d7f-bf743fdc51bf                                 70.18   \n",
       "\n",
       "                                      Palliative Care at this Facility  \\\n",
       "Case Key                                                                 \n",
       "D0d14a662-dde0-4a0e-a6f0-a0e0db2d19e2                              0.0   \n",
       "Dcd9758ae-2308-45cf-bbf1-b3ab4ed2e48f                              0.0   \n",
       "D656e0503-a772-440d-a60a-c9d8bd9c520b                              0.0   \n",
       "D67bf0834-7b7d-41c7-a320-ab0438fe764e                              0.0   \n",
       "D1557dfde-4686-4534-8d7f-bf743fdc51bf                              0.0   \n",
       "\n",
       "                                      Tumor Size Summary 2016  \\\n",
       "Case Key                                                        \n",
       "D0d14a662-dde0-4a0e-a6f0-a0e0db2d19e2                     NaN   \n",
       "Dcd9758ae-2308-45cf-bbf1-b3ab4ed2e48f                     NaN   \n",
       "D656e0503-a772-440d-a60a-c9d8bd9c520b                    80.0   \n",
       "D67bf0834-7b7d-41c7-a320-ab0438fe764e                     NaN   \n",
       "D1557dfde-4686-4534-8d7f-bf743fdc51bf                     NaN   \n",
       "\n",
       "                                      Metastatic Involvement Other  \\\n",
       "Case Key                                                             \n",
       "D0d14a662-dde0-4a0e-a6f0-a0e0db2d19e2                          NaN   \n",
       "Dcd9758ae-2308-45cf-bbf1-b3ab4ed2e48f                          NaN   \n",
       "D656e0503-a772-440d-a60a-c9d8bd9c520b                          0.0   \n",
       "D67bf0834-7b7d-41c7-a320-ab0438fe764e                          NaN   \n",
       "D1557dfde-4686-4534-8d7f-bf743fdc51bf                          NaN   \n",
       "\n",
       "                                      Metastatic Liver Involvement.1  \\\n",
       "Case Key                                                               \n",
       "D0d14a662-dde0-4a0e-a6f0-a0e0db2d19e2                            NaN   \n",
       "Dcd9758ae-2308-45cf-bbf1-b3ab4ed2e48f                            NaN   \n",
       "D656e0503-a772-440d-a60a-c9d8bd9c520b                            0.0   \n",
       "D67bf0834-7b7d-41c7-a320-ab0438fe764e                            NaN   \n",
       "D1557dfde-4686-4534-8d7f-bf743fdc51bf                            NaN   \n",
       "\n",
       "                                      Percent No High School Degree Quartiles 2012-2016  \\\n",
       "Case Key                                                                                  \n",
       "D0d14a662-dde0-4a0e-a6f0-a0e0db2d19e2                                               4.0   \n",
       "Dcd9758ae-2308-45cf-bbf1-b3ab4ed2e48f                                               1.0   \n",
       "D656e0503-a772-440d-a60a-c9d8bd9c520b                                               4.0   \n",
       "D67bf0834-7b7d-41c7-a320-ab0438fe764e                                               NaN   \n",
       "D1557dfde-4686-4534-8d7f-bf743fdc51bf                                               4.0   \n",
       "\n",
       "                                      Median Income Quartiles 2012-2016  \\\n",
       "Case Key                                                                  \n",
       "D0d14a662-dde0-4a0e-a6f0-a0e0db2d19e2                               4.0   \n",
       "Dcd9758ae-2308-45cf-bbf1-b3ab4ed2e48f                               1.0   \n",
       "D656e0503-a772-440d-a60a-c9d8bd9c520b                               4.0   \n",
       "D67bf0834-7b7d-41c7-a320-ab0438fe764e                               NaN   \n",
       "D1557dfde-4686-4534-8d7f-bf743fdc51bf                               3.0   \n",
       "\n",
       "                                      Medicaid Expansion Status State Group  \\\n",
       "Case Key                                                                      \n",
       "D0d14a662-dde0-4a0e-a6f0-a0e0db2d19e2                                   1.0   \n",
       "Dcd9758ae-2308-45cf-bbf1-b3ab4ed2e48f                                   0.0   \n",
       "D656e0503-a772-440d-a60a-c9d8bd9c520b                                   1.0   \n",
       "D67bf0834-7b7d-41c7-a320-ab0438fe764e                                   2.0   \n",
       "D1557dfde-4686-4534-8d7f-bf743fdc51bf                                   0.0   \n",
       "\n",
       "                                      CEA Pretreatment Interpretation SSDI Item 3819  \\\n",
       "Case Key                                                                               \n",
       "D0d14a662-dde0-4a0e-a6f0-a0e0db2d19e2                                            NaN   \n",
       "Dcd9758ae-2308-45cf-bbf1-b3ab4ed2e48f                                            NaN   \n",
       "D656e0503-a772-440d-a60a-c9d8bd9c520b                                            NaN   \n",
       "D67bf0834-7b7d-41c7-a320-ab0438fe764e                                            NaN   \n",
       "D1557dfde-4686-4534-8d7f-bf743fdc51bf                                            NaN   \n",
       "\n",
       "                                      CEA Pretreatment Lab Value SSDI Item 3820  \\\n",
       "Case Key                                                                          \n",
       "D0d14a662-dde0-4a0e-a6f0-a0e0db2d19e2                                       NaN   \n",
       "Dcd9758ae-2308-45cf-bbf1-b3ab4ed2e48f                                       NaN   \n",
       "D656e0503-a772-440d-a60a-c9d8bd9c520b                                       NaN   \n",
       "D67bf0834-7b7d-41c7-a320-ab0438fe764e                                       NaN   \n",
       "D1557dfde-4686-4534-8d7f-bf743fdc51bf                                       NaN   \n",
       "\n",
       "                                      Grade Clinical SSDI Item 3843  \\\n",
       "Case Key                                                              \n",
       "D0d14a662-dde0-4a0e-a6f0-a0e0db2d19e2                           NaN   \n",
       "Dcd9758ae-2308-45cf-bbf1-b3ab4ed2e48f                           NaN   \n",
       "D656e0503-a772-440d-a60a-c9d8bd9c520b                           NaN   \n",
       "D67bf0834-7b7d-41c7-a320-ab0438fe764e                           NaN   \n",
       "D1557dfde-4686-4534-8d7f-bf743fdc51bf                           NaN   \n",
       "\n",
       "                                      KRAS SSDI Item 3866  \\\n",
       "Case Key                                                    \n",
       "D0d14a662-dde0-4a0e-a6f0-a0e0db2d19e2                 NaN   \n",
       "Dcd9758ae-2308-45cf-bbf1-b3ab4ed2e48f                 NaN   \n",
       "D656e0503-a772-440d-a60a-c9d8bd9c520b                 NaN   \n",
       "D67bf0834-7b7d-41c7-a320-ab0438fe764e                 NaN   \n",
       "D1557dfde-4686-4534-8d7f-bf743fdc51bf                 NaN   \n",
       "\n",
       "                                      Microsatellite Instability (MSI) SSDI Item 3890  \\\n",
       "Case Key                                                                                \n",
       "D0d14a662-dde0-4a0e-a6f0-a0e0db2d19e2                                             NaN   \n",
       "Dcd9758ae-2308-45cf-bbf1-b3ab4ed2e48f                                             NaN   \n",
       "D656e0503-a772-440d-a60a-c9d8bd9c520b                                             NaN   \n",
       "D67bf0834-7b7d-41c7-a320-ab0438fe764e                                             NaN   \n",
       "D1557dfde-4686-4534-8d7f-bf743fdc51bf                                             NaN   \n",
       "\n",
       "                                      Perineural Invasion SSDI Item 3909  \\\n",
       "Case Key                                                                   \n",
       "D0d14a662-dde0-4a0e-a6f0-a0e0db2d19e2                                NaN   \n",
       "Dcd9758ae-2308-45cf-bbf1-b3ab4ed2e48f                                NaN   \n",
       "D656e0503-a772-440d-a60a-c9d8bd9c520b                                NaN   \n",
       "D67bf0834-7b7d-41c7-a320-ab0438fe764e                                NaN   \n",
       "D1557dfde-4686-4534-8d7f-bf743fdc51bf                                NaN   \n",
       "\n",
       "                                      pstage  pcr stage t_stage n_stage  \\\n",
       "Case Key                                                                  \n",
       "D0d14a662-dde0-4a0e-a6f0-a0e0db2d19e2     3A  0.0     2     3.0       0   \n",
       "Dcd9758ae-2308-45cf-bbf1-b3ab4ed2e48f      0  1.0     2     3.0       0   \n",
       "D656e0503-a772-440d-a60a-c9d8bd9c520b     3B  0.0     2     3.0       0   \n",
       "D67bf0834-7b7d-41c7-a320-ab0438fe764e      0  1.0     3     3.0       1   \n",
       "D1557dfde-4686-4534-8d7f-bf743fdc51bf      1  0.0     2     3.0       0   \n",
       "\n",
       "                                      m_stage  \n",
       "Case Key                                       \n",
       "D0d14a662-dde0-4a0e-a6f0-a0e0db2d19e2     0.0  \n",
       "Dcd9758ae-2308-45cf-bbf1-b3ab4ed2e48f     0.0  \n",
       "D656e0503-a772-440d-a60a-c9d8bd9c520b     0.0  \n",
       "D67bf0834-7b7d-41c7-a320-ab0438fe764e     0.0  \n",
       "D1557dfde-4686-4534-8d7f-bf743fdc51bf     0.0  "
      ]
     },
     "execution_count": 161,
     "metadata": {},
     "output_type": "execute_result"
    }
   ],
   "source": [
    "#read in the data, with str for all columns\n",
    "data = pd.read_csv('../data/table1_data.csv', dtype=str, index_col='Case Key')\n",
    "print(data.shape)\n",
    "data.head()"
   ]
  },
  {
   "cell_type": "code",
   "execution_count": 162,
   "metadata": {},
   "outputs": [],
   "source": [
    "cols = data.columns.to_list()\n",
    "num_cols = ['Age at Diagnosis', 'Great Circle Distance', 'Size of Tumor', 'CEA value', 'Tumor Size Summary 2016', 'CEA Pretreatment Lab Value SSDI Item 3820']\n",
    "cat_cols = [x for x in cols if x not in num_cols]"
   ]
  },
  {
   "cell_type": "code",
   "execution_count": 163,
   "metadata": {},
   "outputs": [],
   "source": [
    "# 'First Surgical Procedure, Days from Dx','Definitive Surgical Procedure, Days from Dx','Radiation, Days from Dx','Radiation Ended, Days from Start of Radiation','Systemic, Days from Dx','Chemotherapy, Days from Dx','Total Dose',"
   ]
  },
  {
   "cell_type": "code",
   "execution_count": 164,
   "metadata": {},
   "outputs": [],
   "source": [
    "#convert numeric columns to float\n",
    "for col in num_cols:\n",
    "    data[col] = data[col].astype(float)"
   ]
  },
  {
   "cell_type": "code",
   "execution_count": 165,
   "metadata": {},
   "outputs": [
    {
     "data": {
      "text/html": [
       "<div>\n",
       "<style scoped>\n",
       "    .dataframe tbody tr th:only-of-type {\n",
       "        vertical-align: middle;\n",
       "    }\n",
       "\n",
       "    .dataframe tbody tr th {\n",
       "        vertical-align: top;\n",
       "    }\n",
       "\n",
       "    .dataframe thead th {\n",
       "        text-align: right;\n",
       "    }\n",
       "</style>\n",
       "<table border=\"1\" class=\"dataframe\">\n",
       "  <thead>\n",
       "    <tr style=\"text-align: right;\">\n",
       "      <th>Year of Diagnosis</th>\n",
       "      <th>2010.0</th>\n",
       "      <th>2011.0</th>\n",
       "      <th>2012.0</th>\n",
       "      <th>2013.0</th>\n",
       "      <th>2014.0</th>\n",
       "      <th>2015.0</th>\n",
       "      <th>2016.0</th>\n",
       "      <th>2017.0</th>\n",
       "      <th>2018.0</th>\n",
       "      <th>2019.0</th>\n",
       "      <th>All</th>\n",
       "    </tr>\n",
       "    <tr>\n",
       "      <th>Facility Key</th>\n",
       "      <th></th>\n",
       "      <th></th>\n",
       "      <th></th>\n",
       "      <th></th>\n",
       "      <th></th>\n",
       "      <th></th>\n",
       "      <th></th>\n",
       "      <th></th>\n",
       "      <th></th>\n",
       "      <th></th>\n",
       "      <th></th>\n",
       "    </tr>\n",
       "  </thead>\n",
       "  <tbody>\n",
       "    <tr>\n",
       "      <th>ABZFZYJZCA</th>\n",
       "      <td>1</td>\n",
       "      <td>0</td>\n",
       "      <td>1</td>\n",
       "      <td>0</td>\n",
       "      <td>0</td>\n",
       "      <td>2</td>\n",
       "      <td>0</td>\n",
       "      <td>2</td>\n",
       "      <td>0</td>\n",
       "      <td>3</td>\n",
       "      <td>9</td>\n",
       "    </tr>\n",
       "    <tr>\n",
       "      <th>ACOYXZPJUG</th>\n",
       "      <td>0</td>\n",
       "      <td>0</td>\n",
       "      <td>0</td>\n",
       "      <td>0</td>\n",
       "      <td>0</td>\n",
       "      <td>0</td>\n",
       "      <td>0</td>\n",
       "      <td>0</td>\n",
       "      <td>0</td>\n",
       "      <td>6</td>\n",
       "      <td>6</td>\n",
       "    </tr>\n",
       "    <tr>\n",
       "      <th>ADSHBUUWZC</th>\n",
       "      <td>4</td>\n",
       "      <td>4</td>\n",
       "      <td>0</td>\n",
       "      <td>7</td>\n",
       "      <td>2</td>\n",
       "      <td>2</td>\n",
       "      <td>2</td>\n",
       "      <td>3</td>\n",
       "      <td>5</td>\n",
       "      <td>1</td>\n",
       "      <td>30</td>\n",
       "    </tr>\n",
       "    <tr>\n",
       "      <th>ADXGCKXJNR</th>\n",
       "      <td>0</td>\n",
       "      <td>9</td>\n",
       "      <td>13</td>\n",
       "      <td>12</td>\n",
       "      <td>19</td>\n",
       "      <td>11</td>\n",
       "      <td>9</td>\n",
       "      <td>12</td>\n",
       "      <td>9</td>\n",
       "      <td>8</td>\n",
       "      <td>102</td>\n",
       "    </tr>\n",
       "    <tr>\n",
       "      <th>ADXQMZWWTZ</th>\n",
       "      <td>1</td>\n",
       "      <td>2</td>\n",
       "      <td>2</td>\n",
       "      <td>1</td>\n",
       "      <td>0</td>\n",
       "      <td>1</td>\n",
       "      <td>2</td>\n",
       "      <td>0</td>\n",
       "      <td>4</td>\n",
       "      <td>2</td>\n",
       "      <td>15</td>\n",
       "    </tr>\n",
       "  </tbody>\n",
       "</table>\n",
       "</div>"
      ],
      "text/plain": [
       "Year of Diagnosis  2010.0  2011.0  2012.0  2013.0  2014.0  2015.0  2016.0  \\\n",
       "Facility Key                                                                \n",
       "ABZFZYJZCA              1       0       1       0       0       2       0   \n",
       "ACOYXZPJUG              0       0       0       0       0       0       0   \n",
       "ADSHBUUWZC              4       4       0       7       2       2       2   \n",
       "ADXGCKXJNR              0       9      13      12      19      11       9   \n",
       "ADXQMZWWTZ              1       2       2       1       0       1       2   \n",
       "\n",
       "Year of Diagnosis  2017.0  2018.0  2019.0  All  \n",
       "Facility Key                                    \n",
       "ABZFZYJZCA              2       0       3    9  \n",
       "ACOYXZPJUG              0       0       6    6  \n",
       "ADSHBUUWZC              3       5       1   30  \n",
       "ADXGCKXJNR             12       9       8  102  \n",
       "ADXQMZWWTZ              0       4       2   15  "
      ]
     },
     "execution_count": 165,
     "metadata": {},
     "output_type": "execute_result"
    }
   ],
   "source": [
    "facility_by_year = pd.DataFrame(pd.crosstab(data['Facility Key'], data['Year of Diagnosis'], margins=True))\n",
    "facility_by_year.head()\n"
   ]
  },
  {
   "cell_type": "code",
   "execution_count": 166,
   "metadata": {},
   "outputs": [],
   "source": [
    "facility_counts = pd.DataFrame(facility_by_year['All'])\n"
   ]
  },
  {
   "cell_type": "code",
   "execution_count": 167,
   "metadata": {},
   "outputs": [],
   "source": [
    "#drop the last row, which is the total\n",
    "facility_counts.drop(facility_counts.tail(1).index, inplace=True)\n",
    "\n",
    "facility_by_year = pd.DataFrame(pd.crosstab(data['Facility Key'], data['Year of Diagnosis']))\n",
    "facility_by_year['num_zero'] = -1\n"
   ]
  },
  {
   "cell_type": "code",
   "execution_count": 168,
   "metadata": {},
   "outputs": [
    {
     "data": {
      "text/html": [
       "<div>\n",
       "<style scoped>\n",
       "    .dataframe tbody tr th:only-of-type {\n",
       "        vertical-align: middle;\n",
       "    }\n",
       "\n",
       "    .dataframe tbody tr th {\n",
       "        vertical-align: top;\n",
       "    }\n",
       "\n",
       "    .dataframe thead th {\n",
       "        text-align: right;\n",
       "    }\n",
       "</style>\n",
       "<table border=\"1\" class=\"dataframe\">\n",
       "  <thead>\n",
       "    <tr style=\"text-align: right;\">\n",
       "      <th>Year of Diagnosis</th>\n",
       "      <th>2010.0</th>\n",
       "      <th>2011.0</th>\n",
       "      <th>2012.0</th>\n",
       "      <th>2013.0</th>\n",
       "      <th>2014.0</th>\n",
       "      <th>2015.0</th>\n",
       "      <th>2016.0</th>\n",
       "      <th>2017.0</th>\n",
       "      <th>2018.0</th>\n",
       "      <th>2019.0</th>\n",
       "      <th>num_zero</th>\n",
       "    </tr>\n",
       "    <tr>\n",
       "      <th>Facility Key</th>\n",
       "      <th></th>\n",
       "      <th></th>\n",
       "      <th></th>\n",
       "      <th></th>\n",
       "      <th></th>\n",
       "      <th></th>\n",
       "      <th></th>\n",
       "      <th></th>\n",
       "      <th></th>\n",
       "      <th></th>\n",
       "      <th></th>\n",
       "    </tr>\n",
       "  </thead>\n",
       "  <tbody>\n",
       "    <tr>\n",
       "      <th>ABZFZYJZCA</th>\n",
       "      <td>1</td>\n",
       "      <td>0</td>\n",
       "      <td>1</td>\n",
       "      <td>0</td>\n",
       "      <td>0</td>\n",
       "      <td>2</td>\n",
       "      <td>0</td>\n",
       "      <td>2</td>\n",
       "      <td>0</td>\n",
       "      <td>3</td>\n",
       "      <td>5</td>\n",
       "    </tr>\n",
       "    <tr>\n",
       "      <th>ACOYXZPJUG</th>\n",
       "      <td>0</td>\n",
       "      <td>0</td>\n",
       "      <td>0</td>\n",
       "      <td>0</td>\n",
       "      <td>0</td>\n",
       "      <td>0</td>\n",
       "      <td>0</td>\n",
       "      <td>0</td>\n",
       "      <td>0</td>\n",
       "      <td>6</td>\n",
       "      <td>9</td>\n",
       "    </tr>\n",
       "    <tr>\n",
       "      <th>ADSHBUUWZC</th>\n",
       "      <td>4</td>\n",
       "      <td>4</td>\n",
       "      <td>0</td>\n",
       "      <td>7</td>\n",
       "      <td>2</td>\n",
       "      <td>2</td>\n",
       "      <td>2</td>\n",
       "      <td>3</td>\n",
       "      <td>5</td>\n",
       "      <td>1</td>\n",
       "      <td>1</td>\n",
       "    </tr>\n",
       "    <tr>\n",
       "      <th>ADXGCKXJNR</th>\n",
       "      <td>0</td>\n",
       "      <td>9</td>\n",
       "      <td>13</td>\n",
       "      <td>12</td>\n",
       "      <td>19</td>\n",
       "      <td>11</td>\n",
       "      <td>9</td>\n",
       "      <td>12</td>\n",
       "      <td>9</td>\n",
       "      <td>8</td>\n",
       "      <td>1</td>\n",
       "    </tr>\n",
       "    <tr>\n",
       "      <th>ADXQMZWWTZ</th>\n",
       "      <td>1</td>\n",
       "      <td>2</td>\n",
       "      <td>2</td>\n",
       "      <td>1</td>\n",
       "      <td>0</td>\n",
       "      <td>1</td>\n",
       "      <td>2</td>\n",
       "      <td>0</td>\n",
       "      <td>4</td>\n",
       "      <td>2</td>\n",
       "      <td>2</td>\n",
       "    </tr>\n",
       "  </tbody>\n",
       "</table>\n",
       "</div>"
      ],
      "text/plain": [
       "Year of Diagnosis  2010.0  2011.0  2012.0  2013.0  2014.0  2015.0  2016.0  \\\n",
       "Facility Key                                                                \n",
       "ABZFZYJZCA              1       0       1       0       0       2       0   \n",
       "ACOYXZPJUG              0       0       0       0       0       0       0   \n",
       "ADSHBUUWZC              4       4       0       7       2       2       2   \n",
       "ADXGCKXJNR              0       9      13      12      19      11       9   \n",
       "ADXQMZWWTZ              1       2       2       1       0       1       2   \n",
       "\n",
       "Year of Diagnosis  2017.0  2018.0  2019.0  num_zero  \n",
       "Facility Key                                         \n",
       "ABZFZYJZCA              2       0       3         5  \n",
       "ACOYXZPJUG              0       0       6         9  \n",
       "ADSHBUUWZC              3       5       1         1  \n",
       "ADXGCKXJNR             12       9       8         1  \n",
       "ADXQMZWWTZ              0       4       2         2  "
      ]
     },
     "execution_count": 168,
     "metadata": {},
     "output_type": "execute_result"
    }
   ],
   "source": [
    "for i,row in facility_by_year.iterrows():\n",
    "    try:\n",
    "        row['num_zero'] = pd.DataFrame(facility_by_year.loc[i].value_counts()).loc[0][0]\n",
    "    except KeyError:\n",
    "        row['num_zero'] = 0\n",
    "facility_by_year.head()\n"
   ]
  },
  {
   "cell_type": "code",
   "execution_count": 169,
   "metadata": {},
   "outputs": [
    {
     "data": {
      "text/html": [
       "<div>\n",
       "<style scoped>\n",
       "    .dataframe tbody tr th:only-of-type {\n",
       "        vertical-align: middle;\n",
       "    }\n",
       "\n",
       "    .dataframe tbody tr th {\n",
       "        vertical-align: top;\n",
       "    }\n",
       "\n",
       "    .dataframe thead th {\n",
       "        text-align: right;\n",
       "    }\n",
       "</style>\n",
       "<table border=\"1\" class=\"dataframe\">\n",
       "  <thead>\n",
       "    <tr style=\"text-align: right;\">\n",
       "      <th>Year of Diagnosis</th>\n",
       "      <th>2010.0</th>\n",
       "      <th>2011.0</th>\n",
       "      <th>2012.0</th>\n",
       "      <th>2013.0</th>\n",
       "      <th>2014.0</th>\n",
       "      <th>2015.0</th>\n",
       "      <th>2016.0</th>\n",
       "      <th>2017.0</th>\n",
       "      <th>2018.0</th>\n",
       "      <th>2019.0</th>\n",
       "      <th>num_zero</th>\n",
       "    </tr>\n",
       "    <tr>\n",
       "      <th>Facility Key</th>\n",
       "      <th></th>\n",
       "      <th></th>\n",
       "      <th></th>\n",
       "      <th></th>\n",
       "      <th></th>\n",
       "      <th></th>\n",
       "      <th></th>\n",
       "      <th></th>\n",
       "      <th></th>\n",
       "      <th></th>\n",
       "      <th></th>\n",
       "    </tr>\n",
       "  </thead>\n",
       "  <tbody>\n",
       "    <tr>\n",
       "      <th>ABZFZYJZCA</th>\n",
       "      <td>1</td>\n",
       "      <td>0</td>\n",
       "      <td>1</td>\n",
       "      <td>0</td>\n",
       "      <td>0</td>\n",
       "      <td>2</td>\n",
       "      <td>0</td>\n",
       "      <td>2</td>\n",
       "      <td>0</td>\n",
       "      <td>3</td>\n",
       "      <td>5</td>\n",
       "    </tr>\n",
       "    <tr>\n",
       "      <th>ACOYXZPJUG</th>\n",
       "      <td>0</td>\n",
       "      <td>0</td>\n",
       "      <td>0</td>\n",
       "      <td>0</td>\n",
       "      <td>0</td>\n",
       "      <td>0</td>\n",
       "      <td>0</td>\n",
       "      <td>0</td>\n",
       "      <td>0</td>\n",
       "      <td>6</td>\n",
       "      <td>1</td>\n",
       "    </tr>\n",
       "    <tr>\n",
       "      <th>ADSHBUUWZC</th>\n",
       "      <td>4</td>\n",
       "      <td>4</td>\n",
       "      <td>0</td>\n",
       "      <td>7</td>\n",
       "      <td>2</td>\n",
       "      <td>2</td>\n",
       "      <td>2</td>\n",
       "      <td>3</td>\n",
       "      <td>5</td>\n",
       "      <td>1</td>\n",
       "      <td>9</td>\n",
       "    </tr>\n",
       "    <tr>\n",
       "      <th>ADXGCKXJNR</th>\n",
       "      <td>0</td>\n",
       "      <td>9</td>\n",
       "      <td>13</td>\n",
       "      <td>12</td>\n",
       "      <td>19</td>\n",
       "      <td>11</td>\n",
       "      <td>9</td>\n",
       "      <td>12</td>\n",
       "      <td>9</td>\n",
       "      <td>8</td>\n",
       "      <td>9</td>\n",
       "    </tr>\n",
       "    <tr>\n",
       "      <th>ADXQMZWWTZ</th>\n",
       "      <td>1</td>\n",
       "      <td>2</td>\n",
       "      <td>2</td>\n",
       "      <td>1</td>\n",
       "      <td>0</td>\n",
       "      <td>1</td>\n",
       "      <td>2</td>\n",
       "      <td>0</td>\n",
       "      <td>4</td>\n",
       "      <td>2</td>\n",
       "      <td>8</td>\n",
       "    </tr>\n",
       "  </tbody>\n",
       "</table>\n",
       "</div>"
      ],
      "text/plain": [
       "Year of Diagnosis  2010.0  2011.0  2012.0  2013.0  2014.0  2015.0  2016.0  \\\n",
       "Facility Key                                                                \n",
       "ABZFZYJZCA              1       0       1       0       0       2       0   \n",
       "ACOYXZPJUG              0       0       0       0       0       0       0   \n",
       "ADSHBUUWZC              4       4       0       7       2       2       2   \n",
       "ADXGCKXJNR              0       9      13      12      19      11       9   \n",
       "ADXQMZWWTZ              1       2       2       1       0       1       2   \n",
       "\n",
       "Year of Diagnosis  2017.0  2018.0  2019.0  num_zero  \n",
       "Facility Key                                         \n",
       "ABZFZYJZCA              2       0       3         5  \n",
       "ACOYXZPJUG              0       0       6         1  \n",
       "ADSHBUUWZC              3       5       1         9  \n",
       "ADXGCKXJNR             12       9       8         9  \n",
       "ADXQMZWWTZ              0       4       2         8  "
      ]
     },
     "execution_count": 169,
     "metadata": {},
     "output_type": "execute_result"
    }
   ],
   "source": [
    "facility_by_year['num_zero'] = 10 - facility_by_year['num_zero']\n",
    "facility_by_year.head()"
   ]
  },
  {
   "cell_type": "code",
   "execution_count": 170,
   "metadata": {},
   "outputs": [
    {
     "data": {
      "text/html": [
       "<div>\n",
       "<style scoped>\n",
       "    .dataframe tbody tr th:only-of-type {\n",
       "        vertical-align: middle;\n",
       "    }\n",
       "\n",
       "    .dataframe tbody tr th {\n",
       "        vertical-align: top;\n",
       "    }\n",
       "\n",
       "    .dataframe thead th {\n",
       "        text-align: right;\n",
       "    }\n",
       "</style>\n",
       "<table border=\"1\" class=\"dataframe\">\n",
       "  <thead>\n",
       "    <tr style=\"text-align: right;\">\n",
       "      <th></th>\n",
       "      <th>All</th>\n",
       "      <th>num_zero</th>\n",
       "    </tr>\n",
       "    <tr>\n",
       "      <th>Facility Key</th>\n",
       "      <th></th>\n",
       "      <th></th>\n",
       "    </tr>\n",
       "  </thead>\n",
       "  <tbody>\n",
       "    <tr>\n",
       "      <th>ABZFZYJZCA</th>\n",
       "      <td>9</td>\n",
       "      <td>5</td>\n",
       "    </tr>\n",
       "    <tr>\n",
       "      <th>ACOYXZPJUG</th>\n",
       "      <td>6</td>\n",
       "      <td>1</td>\n",
       "    </tr>\n",
       "    <tr>\n",
       "      <th>ADSHBUUWZC</th>\n",
       "      <td>30</td>\n",
       "      <td>9</td>\n",
       "    </tr>\n",
       "    <tr>\n",
       "      <th>ADXGCKXJNR</th>\n",
       "      <td>102</td>\n",
       "      <td>9</td>\n",
       "    </tr>\n",
       "    <tr>\n",
       "      <th>ADXQMZWWTZ</th>\n",
       "      <td>15</td>\n",
       "      <td>8</td>\n",
       "    </tr>\n",
       "  </tbody>\n",
       "</table>\n",
       "</div>"
      ],
      "text/plain": [
       "              All  num_zero\n",
       "Facility Key               \n",
       "ABZFZYJZCA      9         5\n",
       "ACOYXZPJUG      6         1\n",
       "ADSHBUUWZC     30         9\n",
       "ADXGCKXJNR    102         9\n",
       "ADXQMZWWTZ     15         8"
      ]
     },
     "execution_count": 170,
     "metadata": {},
     "output_type": "execute_result"
    }
   ],
   "source": [
    "facility_counts['num_zero'] = facility_by_year['num_zero']\n",
    "facility_counts.head()\n"
   ]
  },
  {
   "cell_type": "code",
   "execution_count": 171,
   "metadata": {},
   "outputs": [
    {
     "data": {
      "text/html": [
       "<div>\n",
       "<style scoped>\n",
       "    .dataframe tbody tr th:only-of-type {\n",
       "        vertical-align: middle;\n",
       "    }\n",
       "\n",
       "    .dataframe tbody tr th {\n",
       "        vertical-align: top;\n",
       "    }\n",
       "\n",
       "    .dataframe thead th {\n",
       "        text-align: right;\n",
       "    }\n",
       "</style>\n",
       "<table border=\"1\" class=\"dataframe\">\n",
       "  <thead>\n",
       "    <tr style=\"text-align: right;\">\n",
       "      <th></th>\n",
       "      <th>All</th>\n",
       "      <th>num_zero</th>\n",
       "      <th>norm</th>\n",
       "    </tr>\n",
       "    <tr>\n",
       "      <th>Facility Key</th>\n",
       "      <th></th>\n",
       "      <th></th>\n",
       "      <th></th>\n",
       "    </tr>\n",
       "  </thead>\n",
       "  <tbody>\n",
       "    <tr>\n",
       "      <th>ABZFZYJZCA</th>\n",
       "      <td>9</td>\n",
       "      <td>5</td>\n",
       "      <td>1.800000</td>\n",
       "    </tr>\n",
       "    <tr>\n",
       "      <th>ACOYXZPJUG</th>\n",
       "      <td>6</td>\n",
       "      <td>1</td>\n",
       "      <td>6.000000</td>\n",
       "    </tr>\n",
       "    <tr>\n",
       "      <th>ADSHBUUWZC</th>\n",
       "      <td>30</td>\n",
       "      <td>9</td>\n",
       "      <td>3.333333</td>\n",
       "    </tr>\n",
       "    <tr>\n",
       "      <th>ADXGCKXJNR</th>\n",
       "      <td>102</td>\n",
       "      <td>9</td>\n",
       "      <td>11.333333</td>\n",
       "    </tr>\n",
       "    <tr>\n",
       "      <th>ADXQMZWWTZ</th>\n",
       "      <td>15</td>\n",
       "      <td>8</td>\n",
       "      <td>1.875000</td>\n",
       "    </tr>\n",
       "  </tbody>\n",
       "</table>\n",
       "</div>"
      ],
      "text/plain": [
       "              All  num_zero       norm\n",
       "Facility Key                          \n",
       "ABZFZYJZCA      9         5   1.800000\n",
       "ACOYXZPJUG      6         1   6.000000\n",
       "ADSHBUUWZC     30         9   3.333333\n",
       "ADXGCKXJNR    102         9  11.333333\n",
       "ADXQMZWWTZ     15         8   1.875000"
      ]
     },
     "execution_count": 171,
     "metadata": {},
     "output_type": "execute_result"
    }
   ],
   "source": [
    "facility_counts['norm'] = facility_counts['All'] / facility_counts['num_zero']\n",
    "facility_counts.head()\n"
   ]
  },
  {
   "cell_type": "code",
   "execution_count": 172,
   "metadata": {},
   "outputs": [
    {
     "data": {
      "text/plain": [
       "count    1300.000000\n",
       "mean        4.635846\n",
       "std         4.837016\n",
       "min         1.000000\n",
       "25%         1.833333\n",
       "50%         3.000000\n",
       "75%         5.444444\n",
       "max        55.000000\n",
       "Name: norm, dtype: float64"
      ]
     },
     "execution_count": 172,
     "metadata": {},
     "output_type": "execute_result"
    }
   ],
   "source": [
    "facility_counts['norm'].describe()\n"
   ]
  },
  {
   "cell_type": "code",
   "execution_count": 173,
   "metadata": {},
   "outputs": [
    {
     "data": {
      "text/plain": [
       "1300"
      ]
     },
     "execution_count": 173,
     "metadata": {},
     "output_type": "execute_result"
    }
   ],
   "source": [
    "facility_counts.sort_values(by='norm', ascending=False, inplace=True)\n",
    "len(facility_counts)\n"
   ]
  },
  {
   "cell_type": "code",
   "execution_count": 174,
   "metadata": {},
   "outputs": [
    {
     "data": {
      "text/plain": [
       "1.0    34539\n",
       "2.0    11496\n",
       "3.0     5406\n",
       "4.0     2147\n",
       "NaN       96\n",
       "Name: facs_quart, dtype: int64"
      ]
     },
     "execution_count": 174,
     "metadata": {},
     "output_type": "execute_result"
    }
   ],
   "source": [
    "fac_ids = facility_counts.index.to_list()\n",
    "facs1 = fac_ids[0:329]\n",
    "facs2 = fac_ids[330:659]\n",
    "facs3 = fac_ids[660:989]\n",
    "facs4 = fac_ids[990:1315]\n",
    "\n",
    "data['facs_quart'] = np.NaN\n",
    "data.loc[data['Facility Key'].isin(facs1), 'facs_quart'] = 1\n",
    "data.loc[data['Facility Key'].isin(facs2), 'facs_quart'] = 2\n",
    "data.loc[data['Facility Key'].isin(facs3), 'facs_quart'] = 3\n",
    "data.loc[data['Facility Key'].isin(facs4), 'facs_quart'] = 4\n",
    "\n",
    "data.drop('Facility Key', axis=1, inplace=True)\n",
    "\n",
    "data['facs_quart'].value_counts(dropna=False)"
   ]
  },
  {
   "cell_type": "code",
   "execution_count": 175,
   "metadata": {},
   "outputs": [],
   "source": [
    "data.rename(columns={'facs_quart': 'Facility Volume, Quartile'}, inplace=True)"
   ]
  },
  {
   "cell_type": "code",
   "execution_count": 176,
   "metadata": {},
   "outputs": [
    {
     "data": {
      "text/plain": [
       "2.0    19114\n",
       "3.0    18052\n",
       "4.0    10786\n",
       "1.0     3045\n",
       "NaN     2687\n",
       "Name: Facility Type, dtype: int64"
      ]
     },
     "execution_count": 176,
     "metadata": {},
     "output_type": "execute_result"
    }
   ],
   "source": [
    "data['Facility Type'].value_counts(dropna=False)"
   ]
  },
  {
   "cell_type": "code",
   "execution_count": 177,
   "metadata": {},
   "outputs": [
    {
     "data": {
      "text/plain": [
       "Comprehensive Community Cancer Program    19114\n",
       "Academic/Research Program                 18052\n",
       "Integrated Network Cancer Program         10786\n",
       "Community Cancer Program                   3045\n",
       "NaN                                        2687\n",
       "Name: Facility Type, dtype: int64"
      ]
     },
     "execution_count": 177,
     "metadata": {},
     "output_type": "execute_result"
    }
   ],
   "source": [
    "data.loc[data['Facility Type'] == '1.0', 'Facility Type'] = 'Community Cancer Program'\n",
    "data.loc[data['Facility Type'] == '2.0', 'Facility Type'] = 'Comprehensive Community Cancer Program'\n",
    "data.loc[data['Facility Type'] == '3.0', 'Facility Type'] = 'Academic/Research Program'\n",
    "data.loc[data['Facility Type'] == '4.0', 'Facility Type'] = 'Integrated Network Cancer Program'\n",
    "\n",
    "data.loc[data['Facility Type'] == 'nan', 'Facility Type'] = 'Unknown'\n",
    "data.loc[data['Facility Type'] == 'None assigned', 'Facility Type'] = np.NaN\n",
    "data['Facility Type'].fillna('Unknown', inplace=True)\n",
    "data.loc[data['Facility Type'] == \"Unknown\", 'Facility Type'] = np.NaN\n",
    "data['Facility Type'].value_counts(dropna=False)"
   ]
  },
  {
   "cell_type": "code",
   "execution_count": 178,
   "metadata": {},
   "outputs": [
    {
     "data": {
      "text/plain": [
       "3.0    9990\n",
       "4.0    9927\n",
       "2.0    6792\n",
       "9.0    6282\n",
       "6.0    5175\n",
       "7.0    4226\n",
       "5.0    3337\n",
       "1.0    2822\n",
       "8.0    2446\n",
       "Name: Facility Location, dtype: int64"
      ]
     },
     "execution_count": 178,
     "metadata": {},
     "output_type": "execute_result"
    }
   ],
   "source": [
    "data['Facility Location'].value_counts()"
   ]
  },
  {
   "cell_type": "code",
   "execution_count": 179,
   "metadata": {},
   "outputs": [],
   "source": [
    "data.loc[data['Facility Location'] == '1.0', 'Facility Location'] = 'NE'\n",
    "data.loc[data['Facility Location'] == '2.0', 'Facility Location'] = 'NE'\n",
    "data.loc[data['Facility Location'] == '3.0', 'Facility Location'] = 'South'\n",
    "data.loc[data['Facility Location'] == '4.0', 'Facility Location'] = 'Midwest'\n",
    "data.loc[data['Facility Location'] == '5.0', 'Facility Location'] = 'Midwest'\n",
    "data.loc[data['Facility Location'] == '6.0', 'Facility Location'] = 'Midwest'\n",
    "data.loc[data['Facility Location'] == '7.0', 'Facility Location'] = 'South'\n",
    "data.loc[data['Facility Location'] == '8.0', 'Facility Location'] = 'West'\n",
    "data.loc[data['Facility Location'] == '9.0', 'Facility Location'] = 'West'\n"
   ]
  },
  {
   "cell_type": "code",
   "execution_count": 180,
   "metadata": {},
   "outputs": [
    {
     "data": {
      "text/plain": [
       "Midwest    18439\n",
       "South      14216\n",
       "NE          9614\n",
       "West        8728\n",
       "NaN         2687\n",
       "Name: Facility Location, dtype: int64"
      ]
     },
     "execution_count": 180,
     "metadata": {},
     "output_type": "execute_result"
    }
   ],
   "source": [
    "data.loc[data['Facility Location'] == 'None assigned', 'Facility Location'] = np.NaN\n",
    "data['Facility Location'].fillna('Unknown', inplace=True)\n",
    "data.loc[data['Facility Location'] == \"Unknown\", 'Facility Location'] = np.NaN\n",
    "data['Facility Location'].value_counts(dropna=False)"
   ]
  },
  {
   "cell_type": "code",
   "execution_count": 181,
   "metadata": {},
   "outputs": [
    {
     "data": {
      "text/plain": [
       "1.0    33383\n",
       "2.0    20301\n",
       "Name: Sex, dtype: int64"
      ]
     },
     "execution_count": 181,
     "metadata": {},
     "output_type": "execute_result"
    }
   ],
   "source": [
    "data['Sex'].value_counts()\n"
   ]
  },
  {
   "cell_type": "code",
   "execution_count": 182,
   "metadata": {},
   "outputs": [
    {
     "data": {
      "text/plain": [
       "Male      33383\n",
       "Female    20301\n",
       "Name: Sex, dtype: int64"
      ]
     },
     "execution_count": 182,
     "metadata": {},
     "output_type": "execute_result"
    }
   ],
   "source": [
    "data.loc[data['Sex'] == '1.0', 'Sex'] = 'Male'\n",
    "data.loc[data['Sex'] == '2.0', 'Sex'] = 'Female'\n",
    "data.loc[data['Sex'] == 'None assigned', 'Sex'] = np.NaN\n",
    "data['Sex'].fillna('Unknown', inplace=True)\n",
    "data.loc[data['Sex'] == \"Unknown\", 'Sex'] = np.NaN\n",
    "data['Sex'].value_counts(dropna=False)"
   ]
  },
  {
   "cell_type": "code",
   "execution_count": 183,
   "metadata": {},
   "outputs": [
    {
     "data": {
      "text/plain": [
       "1.0     45899\n",
       "2.0      4269\n",
       "98.0      610\n",
       "96.0      559\n",
       "4.0       326\n",
       "3.0       308\n",
       "6.0       291\n",
       "10.0      197\n",
       "8.0       177\n",
       "15.0      160\n",
       "5.0       146\n",
       "16.0      137\n",
       "7.0        70\n",
       "97.0       35\n",
       "13.0       34\n",
       "11.0       28\n",
       "17.0       27\n",
       "27.0       20\n",
       "14.0       18\n",
       "12.0       15\n",
       "22.0        6\n",
       "20.0        5\n",
       "31.0        3\n",
       "25.0        2\n",
       "28.0        2\n",
       "32.0        1\n",
       "30.0        1\n",
       "Name: Race, dtype: int64"
      ]
     },
     "execution_count": 183,
     "metadata": {},
     "output_type": "execute_result"
    }
   ],
   "source": [
    "data['Race'].value_counts()"
   ]
  },
  {
   "cell_type": "markdown",
   "metadata": {},
   "source": [
    "#Specific labels from the PUF Data Dictionary\n",
    "\n",
    "data.loc[data['Race'] == '1.0', 'Race'] = 'White'\n",
    "\n",
    "data.loc[data['Race'] == '2.0', 'Race'] = 'Black'\n",
    "\n",
    "data.loc[data['Race'] == '3.0', 'Race'] = 'American Indian, Aleutian, or Eskimo'\n",
    "\n",
    "data.loc[data['Race'] == '4.0', 'Race'] = 'Chinese'\n",
    "data.loc[data['Race'] == '5.0', 'Race'] = 'Japanese'\n",
    "data.loc[data['Race'] == '8.0', 'Race'] = 'Korean'\n",
    "\n",
    "data.loc[data['Race'] == '6.0', 'Race'] = 'Filipino'\n",
    "data.loc[data['Race'] == '7.0', 'Race'] = 'Hawaiian'\n",
    "data.loc[data['Race'] == '20.0', 'Race'] = 'Micronesian, NOS'\n",
    "data.loc[data['Race'] == '22.0', 'Race'] = 'Guamanian, NOS'\n",
    "data.loc[data['Race'] == '27.0', 'Race'] = 'Samoan'\n",
    "data.loc[data['Race'] == '28.0', 'Race'] = 'Tongan'\n",
    "data.loc[data['Race'] == '31.0', 'Race'] = 'Fiji Islander'\n",
    "data.loc[data['Race'] == '32.0', 'Race'] = 'New Guinean'\n",
    "data.loc[data['Race'] == '97.0', 'Race'] = 'Pacific Islander, NOS'\n",
    "\n",
    "data.loc[data['Race'] == '10.0', 'Race'] = 'Vietnamese'\n",
    "data.loc[data['Race'] == '11.0', 'Race'] = 'Laotian'\n",
    "data.loc[data['Race'] == '12.0', 'Race'] = 'Hmong'\n",
    "data.loc[data['Race'] == '13.0', 'Race'] = 'Kampuchean (including Khmer and Cambodian)'\n",
    "data.loc[data['Race'] == '14.0', 'Race'] = 'Thai'\n",
    "data.loc[data['Race'] == '30.0', 'Race'] = 'Melanesian, NOS'\n",
    "\n",
    "data.loc[data['Race'] == '15.0', 'Race'] = 'Asian Indian or Pakistani, NOS (formerly code 09)'\n",
    "data.loc[data['Race'] == '16.0', 'Race'] = 'Asian Indian'\n",
    "data.loc[data['Race'] == '17.0', 'Race'] = 'Pakistani'\n",
    "\n",
    "data.loc[data['Race'] == '96.0', 'Race'] = 'Other Asian, including Asian, NOS andOriental, NOS'\n",
    "data.loc[data['Race'] == '98.0', 'Race'] = 'Other'"
   ]
  },
  {
   "cell_type": "code",
   "execution_count": 184,
   "metadata": {},
   "outputs": [
    {
     "data": {
      "text/plain": [
       "White    45899\n",
       "Black     4269\n",
       "Asian     2009\n",
       "Other     1169\n",
       "NaN        338\n",
       "Name: Race, dtype: int64"
      ]
     },
     "execution_count": 184,
     "metadata": {},
     "output_type": "execute_result"
    }
   ],
   "source": [
    "data.loc[data['Race'] == '1.0', 'Race'] = 'White'\n",
    "\n",
    "data.loc[data['Race'] == '2.0', 'Race'] = 'Black'\n",
    "\n",
    "data.loc[data['Race'] == '3.0', 'Race'] = 'Asian'\n",
    "\n",
    "data.loc[data['Race'] == '4.0', 'Race'] = 'Asian'\n",
    "data.loc[data['Race'] == '5.0', 'Race'] = 'Asian'\n",
    "data.loc[data['Race'] == '8.0', 'Race'] = 'Asian'\n",
    "\n",
    "data.loc[data['Race'] == '6.0', 'Race'] = 'Asian'\n",
    "data.loc[data['Race'] == '7.0', 'Race'] = 'Asian'\n",
    "data.loc[data['Race'] == '20.0', 'Race'] = 'Asian'\n",
    "data.loc[data['Race'] == '22.0', 'Race'] = 'Asian'\n",
    "data.loc[data['Race'] == '25.0', 'Race'] = 'Asian'\n",
    "data.loc[data['Race'] == '27.0', 'Race'] = 'Asian'\n",
    "data.loc[data['Race'] == '28.0', 'Race'] = 'Asian'\n",
    "data.loc[data['Race'] == '31.0', 'Race'] = 'Asian'\n",
    "data.loc[data['Race'] == '32.0', 'Race'] = 'Asian'\n",
    "data.loc[data['Race'] == '97.0', 'Race'] = 'Asian'\n",
    "\n",
    "data.loc[data['Race'] == '10.0', 'Race'] = 'Asian'\n",
    "data.loc[data['Race'] == '11.0', 'Race'] = 'Asian'\n",
    "data.loc[data['Race'] == '12.0', 'Race'] = 'Asian'\n",
    "data.loc[data['Race'] == '13.0', 'Race'] = 'Asian'\n",
    "data.loc[data['Race'] == '14.0', 'Race'] = 'Asian'\n",
    "data.loc[data['Race'] == '30.0', 'Race'] = 'Asian'\n",
    "\n",
    "data.loc[data['Race'] == '15.0', 'Race'] = 'Asian'\n",
    "data.loc[data['Race'] == '16.0', 'Race'] = 'Asian'\n",
    "data.loc[data['Race'] == '17.0', 'Race'] = 'Asian'\n",
    "\n",
    "data.loc[data['Race'] == '96.0', 'Race'] = 'Other'\n",
    "data.loc[data['Race'] == '98.0', 'Race'] = 'Other'\n",
    "\n",
    "\n",
    "data.loc[data['Race'] == 'None assigned', 'Race'] = np.NaN\n",
    "data['Race'].fillna('Unknown', inplace=True)\n",
    "data.loc[data['Race'] == \"Unknown\", 'Race'] = np.NaN\n",
    "data['Race'].value_counts(dropna=False)"
   ]
  },
  {
   "cell_type": "code",
   "execution_count": 185,
   "metadata": {},
   "outputs": [
    {
     "data": {
      "text/plain": [
       "0.0    48773\n",
       "6.0     2476\n",
       "9.0     1138\n",
       "1.0      649\n",
       "4.0      216\n",
       "2.0      152\n",
       "7.0       95\n",
       "5.0       68\n",
       "3.0       64\n",
       "8.0       53\n",
       "Name: Spanish Hispanic Origin, dtype: int64"
      ]
     },
     "execution_count": 185,
     "metadata": {},
     "output_type": "execute_result"
    }
   ],
   "source": [
    "data['Spanish Hispanic Origin'].value_counts()"
   ]
  },
  {
   "cell_type": "code",
   "execution_count": 186,
   "metadata": {},
   "outputs": [
    {
     "data": {
      "text/plain": [
       "Non-Hispanic    48773\n",
       "Hispanic         3773\n",
       "NaN              1138\n",
       "Name: Spanish Hispanic Origin, dtype: int64"
      ]
     },
     "execution_count": 186,
     "metadata": {},
     "output_type": "execute_result"
    }
   ],
   "source": [
    "data.loc[data['Spanish Hispanic Origin'] == '0.0', 'Spanish Hispanic Origin'] = 'Non-Hispanic'\n",
    "data.loc[data['Spanish Hispanic Origin'] == '1.0', 'Spanish Hispanic Origin'] = 'Hispanic'\n",
    "data.loc[data['Spanish Hispanic Origin'] == '2.0', 'Spanish Hispanic Origin'] = 'Hispanic'\n",
    "data.loc[data['Spanish Hispanic Origin'] == '3.0', 'Spanish Hispanic Origin'] = 'Hispanic'\n",
    "data.loc[data['Spanish Hispanic Origin'] == '4.0', 'Spanish Hispanic Origin'] = 'Hispanic'\n",
    "data.loc[data['Spanish Hispanic Origin'] == '5.0', 'Spanish Hispanic Origin'] = 'Hispanic'\n",
    "data.loc[data['Spanish Hispanic Origin'] == '6.0', 'Spanish Hispanic Origin'] = 'Hispanic'\n",
    "data.loc[data['Spanish Hispanic Origin'] == '7.0', 'Spanish Hispanic Origin'] = 'Hispanic'\n",
    "data.loc[data['Spanish Hispanic Origin'] == '8.0', 'Spanish Hispanic Origin'] = 'Hispanic'\n",
    "data.loc[data['Spanish Hispanic Origin'] == '9.0', 'Spanish Hispanic Origin'] = 'Unknown'\n",
    "\n",
    "data.loc[data['Spanish Hispanic Origin'] == 'None assigned', 'Spanish Hispanic Origin'] = np.NaN\n",
    "data['Spanish Hispanic Origin'].fillna('Unknown', inplace=True)\n",
    "data.loc[data['Spanish Hispanic Origin'] == \"Unknown\", 'Spanish Hispanic Origin'] = np.NaN\n",
    "data['Spanish Hispanic Origin'].value_counts(dropna=False)"
   ]
  },
  {
   "cell_type": "code",
   "execution_count": 187,
   "metadata": {},
   "outputs": [
    {
     "data": {
      "text/plain": [
       "1.0    27242\n",
       "3.0    18112\n",
       "2.0     4688\n",
       "0.0     2193\n",
       "4.0      846\n",
       "9.0      603\n",
       "Name: Primary Payor, dtype: int64"
      ]
     },
     "execution_count": 187,
     "metadata": {},
     "output_type": "execute_result"
    }
   ],
   "source": [
    "data['Primary Payor'].value_counts()"
   ]
  },
  {
   "cell_type": "code",
   "execution_count": 188,
   "metadata": {},
   "outputs": [
    {
     "data": {
      "text/plain": [
       "Private Insurance or Managed Care    27242\n",
       "Medicare/Public                      18958\n",
       "Medicaid                              4688\n",
       "Not Insured                           2193\n",
       "NaN                                    603\n",
       "Name: Primary Payor, dtype: int64"
      ]
     },
     "execution_count": 188,
     "metadata": {},
     "output_type": "execute_result"
    }
   ],
   "source": [
    "data.loc[data['Primary Payor'] == '0.0', 'Primary Payor'] = 'Not Insured'\n",
    "data.loc[data['Primary Payor'] == '1.0', 'Primary Payor'] = 'Private Insurance or Managed Care'\n",
    "data.loc[data['Primary Payor'] == '2.0', 'Primary Payor'] = 'Medicaid'\n",
    "data.loc[data['Primary Payor'] == '3.0', 'Primary Payor'] = 'Medicare/Public'\n",
    "data.loc[data['Primary Payor'] == '4.0', 'Primary Payor'] = 'Medicare/Public'\n",
    "data.loc[data['Primary Payor'] == '9.0', 'Primary Payor'] = 'Unknown'\n",
    "\n",
    "data.loc[data['Primary Payor'] == 'None assigned', 'Primary Payor'] = np.NaN\n",
    "data['Primary Payor'].fillna('Unknown', inplace=True)\n",
    "data.loc[data['Primary Payor'] == \"Unknown\", 'Primary Payor'] = np.NaN\n",
    "data['Primary Payor'].value_counts(dropna=False)"
   ]
  },
  {
   "cell_type": "code",
   "execution_count": 189,
   "metadata": {},
   "outputs": [
    {
     "data": {
      "text/plain": [
       "4.0    16295\n",
       "3.0    11061\n",
       "2.0    10625\n",
       "1.0     8311\n",
       "Name: Median Income Quartiles 2012-2016, dtype: int64"
      ]
     },
     "execution_count": 189,
     "metadata": {},
     "output_type": "execute_result"
    }
   ],
   "source": [
    "data['Median Income Quartiles 2012-2016'].value_counts()\n"
   ]
  },
  {
   "cell_type": "code",
   "execution_count": 190,
   "metadata": {},
   "outputs": [
    {
     "data": {
      "text/plain": [
       ">=$63,333            16295\n",
       "$50,354 - $63,332    11061\n",
       "$40,227 - $50,353    10625\n",
       "< $40,227             8311\n",
       "NaN                   7392\n",
       "Name: Median Income Quartiles 2012-2016, dtype: int64"
      ]
     },
     "execution_count": 190,
     "metadata": {},
     "output_type": "execute_result"
    }
   ],
   "source": [
    "\n",
    "data.loc[data['Median Income Quartiles 2012-2016'] == '1.0', 'Median Income Quartiles 2012-2016'] = '< $40,227'\n",
    "data.loc[data['Median Income Quartiles 2012-2016'] == '2.0', 'Median Income Quartiles 2012-2016'] = '$40,227 - $50,353'\n",
    "data.loc[data['Median Income Quartiles 2012-2016'] == '3.0', 'Median Income Quartiles 2012-2016'] = '$50,354 - $63,332'\n",
    "data.loc[data['Median Income Quartiles 2012-2016'] == '4.0', 'Median Income Quartiles 2012-2016'] = '>=$63,333'\n",
    "\n",
    "data.loc[data['Median Income Quartiles 2012-2016'] == 'nan', 'Median Income Quartiles 2012-2016'] = np.NaN\n",
    "data.loc[data['Median Income Quartiles 2012-2016'] == 'None assigned', 'Median Income Quartiles 2012-2016'] = np.NaN\n",
    "data['Median Income Quartiles 2012-2016'].fillna('Unknown', inplace=True)\n",
    "data.loc[data['Median Income Quartiles 2012-2016'] == \"Unknown\", 'Median Income Quartiles 2012-2016'] = np.NaN\n",
    "data['Median Income Quartiles 2012-2016'].value_counts(dropna=False)"
   ]
  },
  {
   "cell_type": "code",
   "execution_count": 191,
   "metadata": {},
   "outputs": [
    {
     "data": {
      "text/plain": [
       "4.0    14889\n",
       "3.0    12729\n",
       "2.0    11310\n",
       "1.0     7821\n",
       "Name: Census Median Income Quartiles 2008-2012, dtype: int64"
      ]
     },
     "execution_count": 191,
     "metadata": {},
     "output_type": "execute_result"
    }
   ],
   "source": [
    "data['Census Median Income Quartiles 2008-2012'].value_counts()"
   ]
  },
  {
   "cell_type": "code",
   "execution_count": 192,
   "metadata": {},
   "outputs": [
    {
     "data": {
      "text/plain": [
       ">=$63,333            14889\n",
       "$50,354 - $63,332    12729\n",
       "$40,227 - $50,353    11310\n",
       "< $40,227             7821\n",
       "NaN                   6935\n",
       "Name: Census Median Income Quartiles 2008-2012, dtype: int64"
      ]
     },
     "execution_count": 192,
     "metadata": {},
     "output_type": "execute_result"
    }
   ],
   "source": [
    "data.loc[data['Census Median Income Quartiles 2008-2012'] == '1.0', 'Census Median Income Quartiles 2008-2012'] = '< $40,227'\n",
    "data.loc[data['Census Median Income Quartiles 2008-2012'] == '2.0', 'Census Median Income Quartiles 2008-2012'] = '$40,227 - $50,353'\n",
    "data.loc[data['Census Median Income Quartiles 2008-2012'] == '3.0', 'Census Median Income Quartiles 2008-2012'] = '$50,354 - $63,332'\n",
    "data.loc[data['Census Median Income Quartiles 2008-2012'] == '4.0', 'Census Median Income Quartiles 2008-2012'] = '>=$63,333'\n",
    "\n",
    "data.loc[data['Census Median Income Quartiles 2008-2012'] == 'None assigned', 'Census Median Income Quartiles 2008-2012'] = np.NaN\n",
    "data['Census Median Income Quartiles 2008-2012'].fillna('Unknown', inplace=True)\n",
    "data.loc[data['Census Median Income Quartiles 2008-2012'] == \"Unknown\", 'Census Median Income Quartiles 2008-2012'] = np.NaN\n",
    "data['Census Median Income Quartiles 2008-2012'].value_counts(dropna=False)"
   ]
  },
  {
   "cell_type": "code",
   "execution_count": 193,
   "metadata": {},
   "outputs": [
    {
     "data": {
      "text/plain": [
       ">=$63,333            16394\n",
       "$50,354 - $63,332    11170\n",
       "$40,227 - $50,353    10748\n",
       "< $40,227             8439\n",
       "Name: Median Income Quartiles 2012-2016, dtype: int64"
      ]
     },
     "execution_count": 193,
     "metadata": {},
     "output_type": "execute_result"
    }
   ],
   "source": [
    "#if 'Mean Income Quartiles 2012-2016' is missing, fill with 'Census Median Income Quartiles 2008-2012'\n",
    "data.loc[data['Median Income Quartiles 2012-2016'].isnull(), 'Median Income Quartiles 2012-2016'] = data.loc[data['Median Income Quartiles 2012-2016'].isnull(), 'Census Median Income Quartiles 2008-2012']\n",
    "data['Median Income Quartiles 2012-2016'].value_counts()"
   ]
  },
  {
   "cell_type": "code",
   "execution_count": 194,
   "metadata": {},
   "outputs": [],
   "source": [
    "data.rename({'Median Income Quartiles 2012-2016':'Median Income Quartile'}, inplace=True)\n",
    "data.drop(['Census Median Income Quartiles 2008-2012'], axis=1, inplace=True)"
   ]
  },
  {
   "cell_type": "code",
   "execution_count": 195,
   "metadata": {},
   "outputs": [
    {
     "data": {
      "text/plain": [
       "3.0    15268\n",
       "2.0    12224\n",
       "4.0    11168\n",
       "1.0     8110\n",
       "Name: Percent No High School Degree 2008-2012, dtype: int64"
      ]
     },
     "execution_count": 195,
     "metadata": {},
     "output_type": "execute_result"
    }
   ],
   "source": [
    "data['Percent No High School Degree 2008-2012'].value_counts()"
   ]
  },
  {
   "cell_type": "code",
   "execution_count": 196,
   "metadata": {},
   "outputs": [
    {
     "data": {
      "text/plain": [
       "6.3 - 10.8%     15268\n",
       "10.9 - 17.5%    12224\n",
       "< 6.3%          11168\n",
       ">=17.6%          8110\n",
       "NaN              6914\n",
       "Name: Percent No High School Degree 2008-2012, dtype: int64"
      ]
     },
     "execution_count": 196,
     "metadata": {},
     "output_type": "execute_result"
    }
   ],
   "source": [
    "data.loc[data['Percent No High School Degree 2008-2012'] == '1.0', 'Percent No High School Degree 2008-2012'] = '>=17.6%'\n",
    "data.loc[data['Percent No High School Degree 2008-2012'] == '2.0', 'Percent No High School Degree 2008-2012'] = '10.9 - 17.5%'\n",
    "data.loc[data['Percent No High School Degree 2008-2012'] == '3.0', 'Percent No High School Degree 2008-2012'] = '6.3 - 10.8%'\n",
    "data.loc[data['Percent No High School Degree 2008-2012'] == '4.0', 'Percent No High School Degree 2008-2012'] =  '< 6.3%'\n",
    "\n",
    "data.loc[data['Percent No High School Degree 2008-2012'] == 'None assigned', 'Percent No High School Degree 2008-2012'] = np.NaN\n",
    "data['Percent No High School Degree 2008-2012'].fillna('Unknown', inplace=True)\n",
    "data.loc[data['Percent No High School Degree 2008-2012'] == \"Unknown\", 'Percent No High School Degree 2008-2012'] = np.NaN\n",
    "data['Percent No High School Degree 2008-2012'].value_counts(dropna=False)"
   ]
  },
  {
   "cell_type": "code",
   "execution_count": 197,
   "metadata": {},
   "outputs": [
    {
     "data": {
      "text/plain": [
       "3.0    13104\n",
       "2.0    12219\n",
       "4.0    11309\n",
       "1.0     9729\n",
       "Name: Percent No High School Degree Quartiles 2012-2016, dtype: int64"
      ]
     },
     "execution_count": 197,
     "metadata": {},
     "output_type": "execute_result"
    }
   ],
   "source": [
    "data['Percent No High School Degree Quartiles 2012-2016'].value_counts()\n"
   ]
  },
  {
   "cell_type": "code",
   "execution_count": 198,
   "metadata": {},
   "outputs": [
    {
     "data": {
      "text/plain": [
       "6.3 - 10.8%     13104\n",
       "10.9 - 17.5%    12219\n",
       "< 6.3%          11309\n",
       ">=17.6%          9729\n",
       "NaN              7323\n",
       "Name: Percent No High School Degree Quartiles 2012-2016, dtype: int64"
      ]
     },
     "execution_count": 198,
     "metadata": {},
     "output_type": "execute_result"
    }
   ],
   "source": [
    "data.loc[data['Percent No High School Degree Quartiles 2012-2016'] == '1.0', 'Percent No High School Degree Quartiles 2012-2016'] = '>=17.6%'\n",
    "data.loc[data['Percent No High School Degree Quartiles 2012-2016'] == '2.0', 'Percent No High School Degree Quartiles 2012-2016'] = '10.9 - 17.5%'\n",
    "data.loc[data['Percent No High School Degree Quartiles 2012-2016'] == '3.0', 'Percent No High School Degree Quartiles 2012-2016'] = '6.3 - 10.8%'\n",
    "data.loc[data['Percent No High School Degree Quartiles 2012-2016'] == '4.0', 'Percent No High School Degree Quartiles 2012-2016'] = '< 6.3%'\n",
    "\n",
    "data.loc[data['Percent No High School Degree Quartiles 2012-2016'] == 'nan', 'Percent No High School Degree Quartiles 2012-2016'] = np.NaN\n",
    "data.loc[data['Percent No High School Degree Quartiles 2012-2016'] == 'None assigned', 'Percent No High School Degree Quartiles 2012-2016'] = np.NaN\n",
    "data['Percent No High School Degree Quartiles 2012-2016'].fillna('Unknown', inplace=True)\n",
    "data.loc[data['Percent No High School Degree Quartiles 2012-2016'] == \"Unknown\", 'Percent No High School Degree Quartiles 2012-2016'] = np.NaN\n",
    "data['Percent No High School Degree Quartiles 2012-2016'].value_counts(dropna=False)"
   ]
  },
  {
   "cell_type": "code",
   "execution_count": 199,
   "metadata": {},
   "outputs": [],
   "source": [
    "data.loc[data['Percent No High School Degree Quartiles 2012-2016'].isnull(), 'Percent No High School Degree Quartiles 2012-2016'] = data.loc[data['Percent No High School Degree Quartiles 2012-2016'].isnull(), 'Percent No High School Degree 2008-2012']\n"
   ]
  },
  {
   "cell_type": "code",
   "execution_count": 200,
   "metadata": {},
   "outputs": [
    {
     "data": {
      "text/plain": [
       "6.3 - 10.8%     13223\n",
       "10.9 - 17.5%    12340\n",
       "< 6.3%          11384\n",
       ">=17.6%          9825\n",
       "NaN              6912\n",
       "Name: Percent No High School Degree Quartiles 2012-2016, dtype: int64"
      ]
     },
     "execution_count": 200,
     "metadata": {},
     "output_type": "execute_result"
    }
   ],
   "source": [
    "data['Percent No High School Degree Quartiles 2012-2016'].value_counts(dropna=False)"
   ]
  },
  {
   "cell_type": "code",
   "execution_count": 201,
   "metadata": {},
   "outputs": [],
   "source": [
    "data.rename({'Percent No High School Degree Quartiles 2012-2016':'Percent No High School Degree Quartile'}, inplace=True)\n",
    "data.drop(['Percent No High School Degree 2008-2012'], axis=1, inplace=True)"
   ]
  },
  {
   "cell_type": "code",
   "execution_count": 202,
   "metadata": {},
   "outputs": [
    {
     "data": {
      "text/plain": [
       "1.0    26122\n",
       "2.0    11029\n",
       "3.0     5108\n",
       "6.0     3251\n",
       "4.0     2771\n",
       "7.0     1639\n",
       "5.0      785\n",
       "9.0      637\n",
       "8.0      570\n",
       "Name: Urban/Rural 2013, dtype: int64"
      ]
     },
     "execution_count": 202,
     "metadata": {},
     "output_type": "execute_result"
    }
   ],
   "source": [
    "data['Urban/Rural 2013'].value_counts()"
   ]
  },
  {
   "cell_type": "code",
   "execution_count": 203,
   "metadata": {},
   "outputs": [
    {
     "data": {
      "text/plain": [
       "Urban       42259\n",
       "Suburban     6807\n",
       "Rural        2846\n",
       "NaN          1772\n",
       "Name: Urban/Rural 2013, dtype: int64"
      ]
     },
     "execution_count": 203,
     "metadata": {},
     "output_type": "execute_result"
    }
   ],
   "source": [
    "data.loc[data['Urban/Rural 2013'] == '1.0', 'Urban/Rural 2013'] = 'Urban'\n",
    "data.loc[data['Urban/Rural 2013'] == '2.0', 'Urban/Rural 2013'] = 'Urban'\n",
    "data.loc[data['Urban/Rural 2013'] == '3.0', 'Urban/Rural 2013'] = 'Urban'\n",
    "data.loc[data['Urban/Rural 2013'] == '4.0', 'Urban/Rural 2013'] = 'Suburban'\n",
    "data.loc[data['Urban/Rural 2013'] == '5.0', 'Urban/Rural 2013'] = 'Suburban'\n",
    "data.loc[data['Urban/Rural 2013'] == '6.0', 'Urban/Rural 2013'] = 'Suburban'\n",
    "data.loc[data['Urban/Rural 2013'] == '7.0', 'Urban/Rural 2013'] = 'Rural'\n",
    "data.loc[data['Urban/Rural 2013'] == '8.0', 'Urban/Rural 2013'] = 'Rural'\n",
    "data.loc[data['Urban/Rural 2013'] == '9.0', 'Urban/Rural 2013'] = 'Rural'\n",
    "\n",
    "data.loc[data['Urban/Rural 2013'] == 'None assigned', 'Urban/Rural 2013'] = np.NaN\n",
    "data['Urban/Rural 2013'].fillna('Unknown', inplace=True)\n",
    "data.loc[data['Urban/Rural 2013'] == \"Unknown\", 'Urban/Rural 2013'] = np.NaN\n",
    "data['Urban/Rural 2013'].value_counts(dropna=False)"
   ]
  },
  {
   "cell_type": "code",
   "execution_count": 204,
   "metadata": {},
   "outputs": [
    {
     "data": {
      "text/plain": [
       "0.0    42115\n",
       "1.0     8528\n",
       "2.0     1977\n",
       "3.0     1064\n",
       "Name: Charlson-Deyo Score, dtype: int64"
      ]
     },
     "execution_count": 204,
     "metadata": {},
     "output_type": "execute_result"
    }
   ],
   "source": [
    "data['Charlson-Deyo Score'].value_counts()\n"
   ]
  },
  {
   "cell_type": "code",
   "execution_count": 205,
   "metadata": {},
   "outputs": [
    {
     "data": {
      "text/plain": [
       "Score of 0            42115\n",
       "Score of 1             8528\n",
       "Score of 2 or more     3041\n",
       "Name: Charlson-Deyo Score, dtype: int64"
      ]
     },
     "execution_count": 205,
     "metadata": {},
     "output_type": "execute_result"
    }
   ],
   "source": [
    "data.loc[data['Charlson-Deyo Score'] == '0.0', 'Charlson-Deyo Score'] = 'Score of 0'\n",
    "data.loc[data['Charlson-Deyo Score'] == '1.0', 'Charlson-Deyo Score'] = 'Score of 1'\n",
    "data.loc[data['Charlson-Deyo Score'] == '2.0', 'Charlson-Deyo Score'] = 'Score of 2 or more'\n",
    "data.loc[data['Charlson-Deyo Score'] == '3.0', 'Charlson-Deyo Score'] = 'Score of 2 or more'\n",
    "\n",
    "\n",
    "data.loc[data['Charlson-Deyo Score'] == 'None assigned', 'Charlson-Deyo Score'] = np.NaN\n",
    "data['Charlson-Deyo Score'].fillna('Unknown', inplace=True)\n",
    "data.loc[data['Charlson-Deyo Score'] == \"Unknown\", 'Charlson-Deyo Score'] = np.NaN\n",
    "data['Charlson-Deyo Score'].value_counts(dropna=False)"
   ]
  },
  {
   "cell_type": "code",
   "execution_count": 206,
   "metadata": {},
   "outputs": [
    {
     "data": {
      "text/plain": [
       "8140.0    46181\n",
       "8480.0     2151\n",
       "8263.0     1909\n",
       "8210.0     1741\n",
       "8261.0      478\n",
       "8490.0      316\n",
       "8010.0      222\n",
       "8255.0      124\n",
       "8481.0      118\n",
       "8070.0      115\n",
       "8000.0       82\n",
       "8246.0       41\n",
       "8560.0       33\n",
       "8574.0       20\n",
       "8244.0       18\n",
       "8144.0       12\n",
       "8211.0       12\n",
       "8510.0       11\n",
       "8083.0        9\n",
       "8041.0        9\n",
       "8013.0        9\n",
       "8262.0        8\n",
       "8240.0        8\n",
       "8071.0        6\n",
       "8072.0        6\n",
       "8220.0        5\n",
       "8936.0        3\n",
       "8310.0        3\n",
       "8249.0        3\n",
       "8033.0        2\n",
       "8020.0        2\n",
       "8260.0        2\n",
       "8245.0        2\n",
       "8323.0        2\n",
       "8120.0        2\n",
       "8507.0        2\n",
       "8221.0        2\n",
       "8570.0        2\n",
       "8482.0        1\n",
       "8074.0        1\n",
       "8571.0        1\n",
       "8576.0        1\n",
       "8084.0        1\n",
       "8500.0        1\n",
       "8542.0        1\n",
       "8265.0        1\n",
       "8213.0        1\n",
       "8124.0        1\n",
       "8046.0        1\n",
       "8123.0        1\n",
       "8230.0        1\n",
       "Name: Histology, dtype: int64"
      ]
     },
     "execution_count": 206,
     "metadata": {},
     "output_type": "execute_result"
    }
   ],
   "source": [
    "data['Histology'].value_counts()"
   ]
  },
  {
   "cell_type": "code",
   "execution_count": 207,
   "metadata": {},
   "outputs": [
    {
     "data": {
      "text/plain": [
       "Adenoma, NOS                                                46181\n",
       "Mucinous adenoma                                             2151\n",
       "Tubulovillous adenoma, NOS                                   1909\n",
       "Adenomatous polyp, NOS                                       1741\n",
       "Villous adenoma, NOS                                          478\n",
       "Signet ring cell carcinoma                                    316\n",
       "Epithelial tumor, benign                                      222\n",
       "Adenocarcinoma with mixed subtypes                            124\n",
       "Mucin-producing adenocarcinoma                                118\n",
       "Actinic keratosis                                             115\n",
       "Neoplasm, benign                                               82\n",
       "Neuroendocrine carcinoma, NOS                                  41\n",
       "Mixed squamous cell and glandular papilloma                    33\n",
       "Adenocarcinoma with neuroendocrine differentiation             20\n",
       "Mixed adenoneuroendocrine carcinoma                            18\n",
       "Adenoma, intestinal type                                       12\n",
       "Tubular adenoma, NOS                                           12\n",
       "Medullary carcinoma, NOS                                       11\n",
       "Basaloid squamous cell carcinoma                                9\n",
       "Small cell carcinoma, NOS                                       9\n",
       "Large cell neuroendocrine carcinoma                             9\n",
       "Villous adenocarcinoma                                          8\n",
       "Neuroendocrine tumor, NOS                                       8\n",
       "Differentiated intraepithelial neoplasia                        6\n",
       "Large cell acanthoma                                            6\n",
       "Adenomatous polyposis coli                                      5\n",
       "Gastrointestinal stromal tumor                                  3\n",
       "Clear cell adenoma                                              3\n",
       "Neuroendocrine tumor, grade 2                                   3\n",
       "Pseudosarcomatous carcinoma                                     2\n",
       "Dedifferentiated carcinoma                                      2\n",
       "Papillary adenoma, NOS                                          2\n",
       "Tubular carcinoid                                               2\n",
       "Mixed cell adenoma                                              2\n",
       "Urothelial papilloma, NOS                                       2\n",
       "Intraductal micropapillary carcinoma                            2\n",
       "Multiple adenomatous polyps                                     2\n",
       "Adenocarcinoma with squamous metaplasia                         2\n",
       "Mucinous carcinoma, gastric type                                1\n",
       "Squamous cell carcinoma, spindle cell                           1\n",
       "Adenocarcinoma with cartilaginous and osseous metaplasia        1\n",
       "Hepatoid adenocarcinoma                                         1\n",
       "Clear cell acanthoma                                            1\n",
       "8500.0                                                          1\n",
       "Paget disease, extramammary                                     1\n",
       "8265.0                                                          1\n",
       "Serrated adenoma, NOS                                           1\n",
       "Cloacogenic carcinoma                                           1\n",
       "Non-small cell carcinoma                                        1\n",
       "Basaloid carcinoma                                              1\n",
       "Ductal carcinoma in situ, solid type                            1\n",
       "Name: Histology, dtype: int64"
      ]
     },
     "execution_count": 207,
     "metadata": {},
     "output_type": "execute_result"
    }
   ],
   "source": [
    "data.loc[data['Histology'] == '8000.0', 'Histology'] = 'Neoplasm, benign'\n",
    "data.loc[data['Histology'] == '8010.0', 'Histology'] = 'Epithelial tumor, benign'\n",
    "data.loc[data['Histology'] == '8012.0', 'Histology'] = 'Large cell carcinoma, NOS'\n",
    "data.loc[data['Histology'] == '8013.0', 'Histology'] = 'Large cell neuroendocrine carcinoma'\n",
    "data.loc[data['Histology'] == '8014.0', 'Histology'] = 'Large cell carcinoma with rhabdoid phenotype'\n",
    "data.loc[data['Histology'] == '8020.0', 'Histology'] = 'Dedifferentiated carcinoma'\n",
    "data.loc[data['Histology'] == '8021.0', 'Histology'] = 'Carcinoma, anaplastic, NOS'\n",
    "data.loc[data['Histology'] == '8022.0', 'Histology'] = 'Pleomorphic carcinoma'\n",
    "data.loc[data['Histology'] == '8033.0', 'Histology'] = 'Pseudosarcomatous carcinoma'\n",
    "data.loc[data['Histology'] == '8041.0', 'Histology'] = 'Small cell carcinoma, NOS'\n",
    "data.loc[data['Histology'] == '8046.0', 'Histology'] = 'Non-small cell carcinoma'\n",
    "data.loc[data['Histology'] == '8070.0', 'Histology'] = 'Actinic keratosis'\n",
    "data.loc[data['Histology'] == '8071.0', 'Histology'] = 'Differentiated intraepithelial neoplasia'\n",
    "data.loc[data['Histology'] == '8072.0', 'Histology'] = 'Large cell acanthoma'\n",
    "data.loc[data['Histology'] == '8074.0', 'Histology'] = 'Squamous cell carcinoma, spindle cell'\n",
    "data.loc[data['Histology'] == '8083.0', 'Histology'] = 'Basaloid squamous cell carcinoma'\n",
    "data.loc[data['Histology'] == '8084.0', 'Histology'] = 'Clear cell acanthoma'\n",
    "data.loc[data['Histology'] == '8120.0', 'Histology'] = 'Urothelial papilloma, NOS'\n",
    "data.loc[data['Histology'] == '8123.0', 'Histology'] = 'Basaloid carcinoma'\n",
    "data.loc[data['Histology'] == '8124.0', 'Histology'] = 'Cloacogenic carcinoma'\n",
    "data.loc[data['Histology'] == '8140.0', 'Histology'] = 'Adenoma, NOS'\n",
    "data.loc[data['Histology'] == '8144.0', 'Histology'] = 'Adenoma, intestinal type'\n",
    "data.loc[data['Histology'] == '8201.0', 'Histology'] = 'Cribriform carcinoma in situ'\n",
    "data.loc[data['Histology'] == '8210.0', 'Histology'] = 'Adenomatous polyp, NOS'\n",
    "data.loc[data['Histology'] == '8211.0', 'Histology'] = 'Tubular adenoma, NOS'\n",
    "data.loc[data['Histology'] == '8213.0', 'Histology'] = 'Serrated adenoma, NOS'\n",
    "data.loc[data['Histology'] == '8220.0', 'Histology'] = 'Adenomatous polyposis coli'\n",
    "data.loc[data['Histology'] == '8221.0', 'Histology'] = 'Multiple adenomatous polyps'\n",
    "data.loc[data['Histology'] == '8230.0', 'Histology'] = 'Ductal carcinoma in situ, solid type'\n",
    "data.loc[data['Histology'] == '8240.0', 'Histology'] = 'Neuroendocrine tumor, NOS'\n",
    "data.loc[data['Histology'] == '8243.0', 'Histology'] = 'Goblet cell carcinoid'\n",
    "data.loc[data['Histology'] == '8244.0', 'Histology'] = 'Mixed adenoneuroendocrine carcinoma'\n",
    "data.loc[data['Histology'] == '8245.0', 'Histology'] = 'Tubular carcinoid'\n",
    "data.loc[data['Histology'] == '8246.0', 'Histology'] = 'Neuroendocrine carcinoma, NOS'\n",
    "data.loc[data['Histology'] == '8249.0', 'Histology'] = 'Neuroendocrine tumor, grade 2'\n",
    "data.loc[data['Histology'] == '8255.0', 'Histology'] = 'Adenocarcinoma with mixed subtypes'\n",
    "data.loc[data['Histology'] == '8260.0', 'Histology'] = 'Papillary adenoma, NOS'\n",
    "data.loc[data['Histology'] == '8261.0', 'Histology'] = 'Villous adenoma, NOS'\n",
    "data.loc[data['Histology'] == '8262.0', 'Histology'] = 'Villous adenocarcinoma'\n",
    "data.loc[data['Histology'] == '8263.0', 'Histology'] = 'Tubulovillous adenoma, NOS'\n",
    "data.loc[data['Histology'] == '8310.0', 'Histology'] = 'Clear cell adenoma'\n",
    "data.loc[data['Histology'] == '8323.0', 'Histology'] = 'Mixed cell adenoma'\n",
    "data.loc[data['Histology'] == '8401.0', 'Histology'] = 'Apocrine adenoma'\n",
    "data.loc[data['Histology'] == '8410.0', 'Histology'] = 'Sebaceoma'\n",
    "data.loc[data['Histology'] == '8470.0', 'Histology'] = 'Mucinous cystadenoma, NOS'\n",
    "data.loc[data['Histology'] == '8480.0', 'Histology'] = 'Mucinous adenoma'\n",
    "data.loc[data['Histology'] == '8481.0', 'Histology'] = 'Mucin-producing adenocarcinoma'\n",
    "data.loc[data['Histology'] == '8482.0', 'Histology'] = 'Mucinous carcinoma, gastric type'\n",
    "data.loc[data['Histology'] == '8490.0', 'Histology'] = 'Signet ring cell carcinoma'\n",
    "data.loc[data['Histology'] == '8507.0', 'Histology'] = 'Intraductal micropapillary carcinoma'\n",
    "data.loc[data['Histology'] == '8510.0', 'Histology'] = 'Medullary carcinoma, NOS'\n",
    "data.loc[data['Histology'] == '8542.0', 'Histology'] = 'Paget disease, extramammary'\n",
    "data.loc[data['Histology'] == '8560.0', 'Histology'] = 'Mixed squamous cell and glandular papilloma'\n",
    "data.loc[data['Histology'] == '8570.0', 'Histology'] = 'Adenocarcinoma with squamous metaplasia'\n",
    "data.loc[data['Histology'] == '8571.0', 'Histology'] = 'Adenocarcinoma with cartilaginous and osseous metaplasia'\n",
    "data.loc[data['Histology'] == '8574.0', 'Histology'] = 'Adenocarcinoma with neuroendocrine differentiation'\n",
    "data.loc[data['Histology'] == '8576.0', 'Histology'] = 'Hepatoid adenocarcinoma'\n",
    "data.loc[data['Histology'] == '8936.0', 'Histology'] = 'Gastrointestinal stromal tumor'\n",
    "\n",
    "\n",
    "data.loc[data['Histology'] == 'None assigned.0', 'Histology'] = np.NaN\n",
    "data['Histology'].fillna('Unknown', inplace=True)\n",
    "data.loc[data['Histology'] == \"Unknown.0\", 'Histology'] = np.NaN\n",
    "data['Histology'].value_counts(dropna=False)"
   ]
  },
  {
   "cell_type": "code",
   "execution_count": 208,
   "metadata": {},
   "outputs": [
    {
     "data": {
      "text/plain": [
       "Adenoma, NOS                                                46181\n",
       "Mucinous adenoma                                             2151\n",
       "Tubulovillous adenoma, NOS                                   1909\n",
       "Adenomatous polyp, NOS                                       1741\n",
       "Villous adenoma, NOS                                          478\n",
       "Signet ring cell carcinoma                                    316\n",
       "Epithelial tumor, benign                                      222\n",
       "Adenocarcinoma with mixed subtypes                            124\n",
       "Mucin-producing adenocarcinoma                                118\n",
       "Actinic keratosis                                             115\n",
       "Neoplasm, benign                                               82\n",
       "Neuroendocrine carcinoma, NOS                                  41\n",
       "Mixed squamous cell and glandular papilloma                    33\n",
       "Adenocarcinoma with neuroendocrine differentiation             20\n",
       "Mixed adenoneuroendocrine carcinoma                            18\n",
       "Adenoma, intestinal type                                       12\n",
       "Tubular adenoma, NOS                                           12\n",
       "Medullary carcinoma, NOS                                       11\n",
       "Basaloid squamous cell carcinoma                                9\n",
       "Small cell carcinoma, NOS                                       9\n",
       "Large cell neuroendocrine carcinoma                             9\n",
       "Villous adenocarcinoma                                          8\n",
       "Neuroendocrine tumor, NOS                                       8\n",
       "Differentiated intraepithelial neoplasia                        6\n",
       "Large cell acanthoma                                            6\n",
       "Adenomatous polyposis coli                                      5\n",
       "Gastrointestinal stromal tumor                                  3\n",
       "Clear cell adenoma                                              3\n",
       "Neuroendocrine tumor, grade 2                                   3\n",
       "Pseudosarcomatous carcinoma                                     2\n",
       "Dedifferentiated carcinoma                                      2\n",
       "Papillary adenoma, NOS                                          2\n",
       "Tubular carcinoid                                               2\n",
       "Mixed cell adenoma                                              2\n",
       "Urothelial papilloma, NOS                                       2\n",
       "Intraductal micropapillary carcinoma                            2\n",
       "Multiple adenomatous polyps                                     2\n",
       "Adenocarcinoma with squamous metaplasia                         2\n",
       "Mucinous carcinoma, gastric type                                1\n",
       "Squamous cell carcinoma, spindle cell                           1\n",
       "Adenocarcinoma with cartilaginous and osseous metaplasia        1\n",
       "Hepatoid adenocarcinoma                                         1\n",
       "Clear cell acanthoma                                            1\n",
       "8500.0                                                          1\n",
       "Paget disease, extramammary                                     1\n",
       "8265.0                                                          1\n",
       "Serrated adenoma, NOS                                           1\n",
       "Cloacogenic carcinoma                                           1\n",
       "Non-small cell carcinoma                                        1\n",
       "Basaloid carcinoma                                              1\n",
       "Ductal carcinoma in situ, solid type                            1\n",
       "Name: Histology, dtype: int64"
      ]
     },
     "execution_count": 208,
     "metadata": {},
     "output_type": "execute_result"
    }
   ],
   "source": [
    "data['Histology'].value_counts(dropna=False)"
   ]
  },
  {
   "cell_type": "code",
   "execution_count": 209,
   "metadata": {},
   "outputs": [
    {
     "data": {
      "text/plain": [
       "0.0    51414\n",
       "1.0     2270\n",
       "Name: Mucinous, dtype: int64"
      ]
     },
     "execution_count": 209,
     "metadata": {},
     "output_type": "execute_result"
    }
   ],
   "source": [
    "data['Mucinous'] = np.NaN\n",
    "data.loc[data['Histology'].str.contains('mucin', case=False, na=False), 'Mucinous'] = 1\n",
    "data.loc[data['Mucinous'] !=1 , 'Mucinous'] = 0\n",
    "data['Mucinous'].value_counts(dropna=False)"
   ]
  },
  {
   "cell_type": "code",
   "execution_count": 210,
   "metadata": {},
   "outputs": [
    {
     "data": {
      "text/plain": [
       "0.0    51289\n",
       "1.0     2395\n",
       "Name: Villous, dtype: int64"
      ]
     },
     "execution_count": 210,
     "metadata": {},
     "output_type": "execute_result"
    }
   ],
   "source": [
    "data['Villous'] = np.NaN\n",
    "data.loc[data['Histology'].str.contains('villous', case=False, na=False), 'Villous'] = 1\n",
    "data.loc[data['Villous'] !=1 , 'Villous'] = 0\n",
    "data['Villous'].value_counts(dropna=False)"
   ]
  },
  {
   "cell_type": "code",
   "execution_count": 211,
   "metadata": {},
   "outputs": [
    {
     "data": {
      "text/plain": [
       "0.0    53368\n",
       "1.0      316\n",
       "Name: Signet Ring, dtype: int64"
      ]
     },
     "execution_count": 211,
     "metadata": {},
     "output_type": "execute_result"
    }
   ],
   "source": [
    "data['Signet Ring'] = np.NaN\n",
    "data.loc[data['Histology'].str.contains('signet', case=False, na=False), 'Signet Ring'] = 1\n",
    "data.loc[data['Signet Ring'] !=1 , 'Signet Ring'] = 0\n",
    "data['Signet Ring'].value_counts(dropna=False)"
   ]
  },
  {
   "cell_type": "code",
   "execution_count": 212,
   "metadata": {},
   "outputs": [],
   "source": [
    "data.drop('Histology', axis=1, inplace=True)"
   ]
  },
  {
   "cell_type": "code",
   "execution_count": 213,
   "metadata": {},
   "outputs": [
    {
     "data": {
      "text/plain": [
       "2.0    27869\n",
       "9.0     6631\n",
       "3.0     3771\n",
       "1.0     3011\n",
       "4.0      445\n",
       "Name: Grade 2004-2017, dtype: int64"
      ]
     },
     "execution_count": 213,
     "metadata": {},
     "output_type": "execute_result"
    }
   ],
   "source": [
    "data['Grade 2004-2017'].value_counts()"
   ]
  },
  {
   "cell_type": "code",
   "execution_count": 214,
   "metadata": {},
   "outputs": [
    {
     "data": {
      "text/plain": [
       "Grade II        27869\n",
       "NaN             18588\n",
       "Grade III-IV     4216\n",
       "Grade I          3011\n",
       "Name: Grade 2004-2017, dtype: int64"
      ]
     },
     "execution_count": 214,
     "metadata": {},
     "output_type": "execute_result"
    }
   ],
   "source": [
    "data.loc[data['Grade 2004-2017'] == '1.0', 'Grade 2004-2017'] = 'Grade I'\n",
    "data.loc[data['Grade 2004-2017'] == '2.0', 'Grade 2004-2017'] = 'Grade II'\n",
    "data.loc[data['Grade 2004-2017'] == '3.0', 'Grade 2004-2017'] = 'Grade III-IV'\n",
    "data.loc[data['Grade 2004-2017'] == '4.0', 'Grade 2004-2017'] = 'Grade III-IV'\n",
    "data.loc[data['Grade 2004-2017'] == '9.0', 'Grade 2004-2017'] = np.NaN\n",
    "\n",
    "data.loc[data['Grade 2004-2017'] == 'nan', 'Grade 2004-2017'] = np.NaN\n",
    "data.loc[data['Grade 2004-2017'] == 'None assigned', 'Grade 2004-2017'] = np.NaN\n",
    "data['Grade 2004-2017'].fillna('Unknown', inplace=True)\n",
    "data.loc[data['Grade 2004-2017'] == \"Unknown\", 'Grade 2004-2017'] = np.NaN\n",
    "data['Grade 2004-2017'].value_counts(dropna=False)"
   ]
  },
  {
   "cell_type": "code",
   "execution_count": 215,
   "metadata": {},
   "outputs": [
    {
     "data": {
      "text/plain": [
       "2      6761\n",
       "9      3324\n",
       "1       793\n",
       "3       708\n",
       "2.0     230\n",
       "9.0      96\n",
       "1.0      23\n",
       "3.0      16\n",
       "4         7\n",
       "Name: Grade Clinical SSDI Item 3843, dtype: int64"
      ]
     },
     "execution_count": 215,
     "metadata": {},
     "output_type": "execute_result"
    }
   ],
   "source": [
    "data['Grade Clinical SSDI Item 3843'].value_counts()"
   ]
  },
  {
   "cell_type": "code",
   "execution_count": 216,
   "metadata": {},
   "outputs": [
    {
     "data": {
      "text/plain": [
       "Grade II        34860\n",
       "NaN             10050\n",
       "Grade III-IV     4947\n",
       "Grade I          3827\n",
       "Name: Grade 2004-2017, dtype: int64"
      ]
     },
     "execution_count": 216,
     "metadata": {},
     "output_type": "execute_result"
    }
   ],
   "source": [
    "data.loc[data['Grade Clinical SSDI Item 3843'] == '1.0', 'Grade 2004-2017'] = 'Grade I'\n",
    "data.loc[data['Grade Clinical SSDI Item 3843'] == '2.0', 'Grade 2004-2017'] = 'Grade II'\n",
    "data.loc[data['Grade Clinical SSDI Item 3843'] == '3.0', 'Grade 2004-2017'] = 'Grade III-IV'\n",
    "data.loc[data['Grade Clinical SSDI Item 3843'] == '4.0', 'Grade 2004-2017'] = 'Grade III-IV'\n",
    "data.loc[data['Grade Clinical SSDI Item 3843'] == '9.0', 'Grade 2004-2017'] = np.NaN\n",
    "data.loc[data['Grade Clinical SSDI Item 3843'] == '1', 'Grade 2004-2017'] = 'Grade I'\n",
    "data.loc[data['Grade Clinical SSDI Item 3843'] == '2', 'Grade 2004-2017'] = 'Grade II'\n",
    "data.loc[data['Grade Clinical SSDI Item 3843'] == '3', 'Grade 2004-2017'] = 'Grade III-IV'\n",
    "data.loc[data['Grade Clinical SSDI Item 3843'] == '4', 'Grade 2004-2017'] = 'Grade III-IV'\n",
    "data.loc[data['Grade Clinical SSDI Item 3843'] == '9', 'Grade 2004-2017'] = np.NaN\n",
    "data['Grade 2004-2017'].value_counts(dropna=False)"
   ]
  },
  {
   "cell_type": "code",
   "execution_count": 217,
   "metadata": {},
   "outputs": [],
   "source": [
    "data.drop(['Grade Clinical SSDI Item 3843'], axis=1, inplace=True)\n",
    "data.rename(columns={'Grade 2004-2017': 'Grade'}, inplace=True)"
   ]
  },
  {
   "cell_type": "code",
   "execution_count": 218,
   "metadata": {},
   "outputs": [],
   "source": [
    "# data['Surgical Diagnostic and Staging Procedure'].value_counts()"
   ]
  },
  {
   "cell_type": "code",
   "execution_count": 219,
   "metadata": {},
   "outputs": [],
   "source": [
    "# data.loc[data['Surgical Diagnostic and Staging Procedure'] == '0.0', 'Surgical Diagnostic and Staging Procedure'] = 'Other'\n",
    "# data.loc[data['Surgical Diagnostic and Staging Procedure'] == '1.0', 'Surgical Diagnostic and Staging Procedure'] = 'Endoscopic biopsy'\n",
    "# data.loc[data['Surgical Diagnostic and Staging Procedure'] == '2.0', 'Surgical Diagnostic and Staging Procedure'] = 'Endoscopic biopsy'\n",
    "# data.loc[data['Surgical Diagnostic and Staging Procedure'] == '3.0', 'Surgical Diagnostic and Staging Procedure'] = 'Other'\n",
    "# data.loc[data['Surgical Diagnostic and Staging Procedure'] == '4.0', 'Surgical Diagnostic and Staging Procedure'] = 'Other'\n",
    "# data.loc[data['Surgical Diagnostic and Staging Procedure'] == '5.0', 'Surgical Diagnostic and Staging Procedure'] = 'Operative biopsy'\n",
    "# data.loc[data['Surgical Diagnostic and Staging Procedure'] == '6.0', 'Surgical Diagnostic and Staging Procedure'] = 'Operative biopsy'\n",
    "# data.loc[data['Surgical Diagnostic and Staging Procedure'] == '7.0', 'Surgical Diagnostic and Staging Procedure'] = 'Operative biopsy'\n",
    "# data.loc[data['Surgical Diagnostic and Staging Procedure'] == '9.0', 'Surgical Diagnostic and Staging Procedure'] = 'Other'\n",
    "\n",
    "\n",
    "# data.loc[data['Surgical Diagnostic and Staging Procedure'] == 'None assigned', 'Surgical Diagnostic and Staging Procedure'] = np.NaN\n",
    "# data['Surgical Diagnostic and Staging Procedure'].fillna('Unknown', inplace=True)\n",
    "# data.loc[data['Surgical Diagnostic and Staging Procedure'] == \"Unknown\", 'Surgical Diagnostic and Staging Procedure'] = np.NaN\n",
    "# data['Surgical Diagnostic and Staging Procedure'].value_counts(dropna=False)"
   ]
  },
  {
   "cell_type": "markdown",
   "metadata": {},
   "source": [
    "data['AJCC Clinical N'].value_counts()"
   ]
  },
  {
   "cell_type": "markdown",
   "metadata": {},
   "source": [
    "data.loc[data['AJCC Clinical N'] == '0', 'AJCC Clinical N'] = 'cN0'\n",
    "data.loc[data['AJCC Clinical N'] == '1', 'AJCC Clinical N'] = 'cN1'\n",
    "data.loc[data['AJCC Clinical N'] == 'C0', 'AJCC Clinical N'] = 'cN0'\n",
    "data.loc[data['AJCC Clinical N'] == 'C1', 'AJCC Clinical N'] = 'cN1'\n",
    "data.loc[data['AJCC Clinical N'] == 'C1A', 'AJCC Clinical N'] = 'cN1a'\n",
    "data.loc[data['AJCC Clinical N'] == 'C1B', 'AJCC Clinical N'] = 'cN1b'\n",
    "data.loc[data['AJCC Clinical N'] == 'C2', 'AJCC Clinical N'] = 'cN2'\n",
    "data.loc[data['AJCC Clinical N'] == 'c0', 'AJCC Clinical N'] = 'cN0'\n",
    "data.loc[data['AJCC Clinical N'] == 'c1', 'AJCC Clinical N'] = 'cN1'\n",
    "data.loc[data['AJCC Clinical N'] == 'c1A', 'AJCC Clinical N'] = 'cN1a'\n",
    "data.loc[data['AJCC Clinical N'] == 'c1B', 'AJCC Clinical N'] = 'cN1b'\n",
    "data.loc[data['AJCC Clinical N'] == 'c1C', 'AJCC Clinical N'] = 'cN1c'\n",
    "data.loc[data['AJCC Clinical N'] == 'c2', 'AJCC Clinical N'] = 'cN2'\n",
    "data.loc[data['AJCC Clinical N'] == 'c2A', 'AJCC Clinical N'] = 'cN2a'\n",
    "data.loc[data['AJCC Clinical N'] == 'c2B', 'AJCC Clinical N'] = 'cN2b'\n",
    "data.loc[data['AJCC Clinical N'] == 'c3', 'AJCC Clinical N'] = 'cN3'\n",
    "data.loc[data['AJCC Clinical N'] == 'cX', 'AJCC Clinical N'] = 'cNX'\n",
    "\n",
    "\n",
    "data.loc[data['AJCC Clinical N'] == 'None assigned', 'AJCC Clinical N'] = np.NaN\n",
    "data['AJCC Clinical N'].fillna('Unknown', inplace=True)\n",
    "data.loc[data['AJCC Clinical N'] == \"Unknown\", 'AJCC Clinical N'] = np.NaN\n",
    "data['AJCC Clinical N'].value_counts(dropna=False)"
   ]
  },
  {
   "cell_type": "markdown",
   "metadata": {},
   "source": [
    "data['AJCC Clinical M'].value_counts()"
   ]
  },
  {
   "cell_type": "markdown",
   "metadata": {},
   "source": [
    "data.loc[data['AJCC Clinical M'] == '0', 'AJCC Clinical M'] = 'cM0'\n",
    "data.loc[data['AJCC Clinical M'] == '88', 'AJCC Clinical M'] = 'Not applicable (not defined)'\n",
    "data.loc[data['AJCC Clinical M'] == 'C0', 'AJCC Clinical M'] = 'cM0'\n",
    "data.loc[data['AJCC Clinical M'] == 'C1', 'AJCC Clinical M'] = 'cM1, pM1'\n",
    "data.loc[data['AJCC Clinical M'] == 'c0', 'AJCC Clinical M'] = 'cM0'\n",
    "data.loc[data['AJCC Clinical M'] == 'c1', 'AJCC Clinical M'] = 'cM1, pM1'\n",
    "data.loc[data['AJCC Clinical M'] == 'c1A', 'AJCC Clinical M'] = 'cM1a, pM1a'\n",
    "data.loc[data['AJCC Clinical M'] == 'c1B', 'AJCC Clinical M'] = 'cM1b, pM1b'\n",
    "data.loc[data['AJCC Clinical M'] == 'cX', 'AJCC Clinical M'] = 'cMX'\n",
    "data.loc[data['AJCC Clinical M'] == 'p1', 'AJCC Clinical M'] = 'cM1, pM1'\n",
    "data.loc[data['AJCC Clinical M'] == 'p1A', 'AJCC Clinical M'] = 'cM1a, pM1a'\n",
    "data.loc[data['AJCC Clinical M'] == 'p1B', 'AJCC Clinical M'] = 'cM1b, pM1b'\n",
    "\n",
    "\n",
    "data.loc[data['AJCC Clinical M'] == 'None assigned', 'AJCC Clinical M'] = np.NaN\n",
    "data['AJCC Clinical M'].fillna('Unknown', inplace=True)\n",
    "data.loc[data['AJCC Clinical M'] == \"Unknown\", 'AJCC Clinical M'] = np.NaN\n",
    "data['AJCC Clinical M'].value_counts(dropna=False)"
   ]
  },
  {
   "cell_type": "markdown",
   "metadata": {},
   "source": [
    "data['AJCC Pathologic T'].value_counts()\n"
   ]
  },
  {
   "cell_type": "markdown",
   "metadata": {},
   "source": [
    "data.loc[data['AJCC Pathologic T'] == '3', 'AJCC Pathologic T'] = 'pT3'\n",
    "data.loc[data['AJCC Pathologic T'] == 'P0', 'AJCC Pathologic T'] = 'pT0'\n",
    "data.loc[data['AJCC Pathologic T'] == 'P1', 'AJCC Pathologic T'] = 'pT1'\n",
    "data.loc[data['AJCC Pathologic T'] == 'P2', 'AJCC Pathologic T'] = 'pT2'\n",
    "data.loc[data['AJCC Pathologic T'] == 'P3', 'AJCC Pathologic T'] = 'pT3'\n",
    "data.loc[data['AJCC Pathologic T'] == 'P4A', 'AJCC Pathologic T'] = 'pT4a'\n",
    "data.loc[data['AJCC Pathologic T'] == 'p0', 'AJCC Pathologic T'] = 'pT0'\n",
    "data.loc[data['AJCC Pathologic T'] == 'p1', 'AJCC Pathologic T'] = 'pT1'\n",
    "data.loc[data['AJCC Pathologic T'] == 'p2', 'AJCC Pathologic T'] = 'pT2'\n",
    "data.loc[data['AJCC Pathologic T'] == 'p3', 'AJCC Pathologic T'] = 'pT3'\n",
    "data.loc[data['AJCC Pathologic T'] == 'p3A', 'AJCC Pathologic T'] = 'pT3a'\n",
    "data.loc[data['AJCC Pathologic T'] == 'p3B', 'AJCC Pathologic T'] = 'pT3b'\n",
    "data.loc[data['AJCC Pathologic T'] == 'p3C', 'AJCC Pathologic T'] = 'pT3c'\n",
    "data.loc[data['AJCC Pathologic T'] == 'p4', 'AJCC Pathologic T'] = 'pT4'\n",
    "data.loc[data['AJCC Pathologic T'] == 'p4A', 'AJCC Pathologic T'] = 'pT4a'\n",
    "data.loc[data['AJCC Pathologic T'] == 'p4B', 'AJCC Pathologic T'] = 'pT4b'\n",
    "data.loc[data['AJCC Pathologic T'] == 'pIS', 'AJCC Pathologic T'] = 'pTis'\n",
    "data.loc[data['AJCC Pathologic T'] == 'pX', 'AJCC Pathologic T'] = 'pTX'\n",
    "\n",
    "data.loc[data['AJCC Pathologic T'] == 'None assigned', 'AJCC Pathologic T'] = np.NaN\n",
    "data['AJCC Pathologic T'].fillna('Unknown', inplace=True)\n",
    "data.loc[data['AJCC Pathologic T'] == \"Unknown\", 'AJCC Pathologic T'] = np.NaN\n",
    "data['AJCC Pathologic T'].value_counts(dropna=False)"
   ]
  },
  {
   "cell_type": "markdown",
   "metadata": {},
   "source": [
    "staging = ['AJCC Clinical N', 'AJCC Clinical M', 'AJCC Pathologic T']\n",
    "data.drop(staging, axis=1, inplace=True)"
   ]
  },
  {
   "cell_type": "code",
   "execution_count": 220,
   "metadata": {},
   "outputs": [
    {
     "data": {
      "text/plain": [
       "No     33197\n",
       "NaN    13965\n",
       "Yes     6522\n",
       "Name: Lymph Vascular Invasion, dtype: int64"
      ]
     },
     "execution_count": 220,
     "metadata": {},
     "output_type": "execute_result"
    }
   ],
   "source": [
    "data.loc[data['Lymph Vascular Invasion'] == '0.0', 'Lymph Vascular Invasion'] = 'No'\n",
    "data.loc[data['Lymph Vascular Invasion'] == '1.0', 'Lymph Vascular Invasion'] = 'Yes'\n",
    "data.loc[data['Lymph Vascular Invasion'] == '8.0', 'Lymph Vascular Invasion'] = 'Unknown'\n",
    "data.loc[data['Lymph Vascular Invasion'] == '9.0', 'Lymph Vascular Invasion'] = 'Unknown'\n",
    "data.loc[data['Lymph Vascular Invasion'] == 'nan', 'Lymph Vascular Invasion'] = 'Unknown'\n",
    "\n",
    "\n",
    "data.loc[data['Lymph Vascular Invasion'] == 'None assigned', 'Lymph Vascular Invasion'] = np.NaN\n",
    "data['Lymph Vascular Invasion'].fillna('Unknown', inplace=True)\n",
    "data.loc[data['Lymph Vascular Invasion'] == \"Unknown\", 'Lymph Vascular Invasion'] = np.NaN\n",
    "data['Lymph Vascular Invasion'].value_counts(dropna=False)"
   ]
  },
  {
   "cell_type": "code",
   "execution_count": 221,
   "metadata": {},
   "outputs": [
    {
     "data": {
      "text/plain": [
       "['Lymph Vascular Invasion']"
      ]
     },
     "execution_count": 221,
     "metadata": {},
     "output_type": "execute_result"
    }
   ],
   "source": [
    "lymph_cols = [col for col in data.columns if 'Lymph' in col]\n",
    "lymph_cols"
   ]
  },
  {
   "cell_type": "code",
   "execution_count": null,
   "metadata": {},
   "outputs": [],
   "source": []
  },
  {
   "cell_type": "code",
   "execution_count": 222,
   "metadata": {},
   "outputs": [
    {
     "data": {
      "text/plain": [
       "20.0     16641\n",
       "10.0     13242\n",
       "998.0     3204\n",
       "997.0      483\n",
       "30.0       169\n",
       "988.0       47\n",
       "Name: CEA, dtype: int64"
      ]
     },
     "execution_count": 222,
     "metadata": {},
     "output_type": "execute_result"
    }
   ],
   "source": [
    "data['CEA'].value_counts()\n",
    "# Unknown site specific data definitions"
   ]
  },
  {
   "cell_type": "code",
   "execution_count": 223,
   "metadata": {},
   "outputs": [],
   "source": [
    "data.loc[data['CEA'] == '0.0', 'CEA'] = 'Unknown'\n",
    "data.loc[data['CEA'] == '10.0', 'CEA'] = 'Elevated'\n",
    "data.loc[data['CEA'] == '20.0', 'CEA'] = 'Normal'\n",
    "data.loc[data['CEA'] == '30.0', 'CEA'] = 'Borderline'\n",
    "data.loc[data['CEA'] == 'nan', 'CEA'] = 'Unknown'\n",
    "data.loc[data['CEA'] == '988.0', 'CEA'] = 'Unknown'\n",
    "data.loc[data['CEA'] == '997.0', 'CEA'] = 'Unknown'\n",
    "data.loc[data['CEA'] == '998.0', 'CEA'] = 'Unknown'"
   ]
  },
  {
   "cell_type": "code",
   "execution_count": 224,
   "metadata": {},
   "outputs": [
    {
     "data": {
      "text/plain": [
       "NaN           23632\n",
       "Normal        16641\n",
       "Elevated      13242\n",
       "Borderline      169\n",
       "Name: CEA, dtype: int64"
      ]
     },
     "execution_count": 224,
     "metadata": {},
     "output_type": "execute_result"
    }
   ],
   "source": [
    "data['CEA'].fillna('Unknown', inplace=True)\n",
    "data.loc[data['CEA'] == \"Unknown\", 'CEA'] = np.NaN\n",
    "data['CEA'].value_counts(dropna=False)"
   ]
  },
  {
   "cell_type": "markdown",
   "metadata": {},
   "source": [
    "data['Clinical Assessment of Regional Lymph Nodes'].value_counts(dropna=False)"
   ]
  },
  {
   "cell_type": "markdown",
   "metadata": {},
   "source": [
    "data.loc[data['Clinical Assessment of Regional Lymph Nodes'] == '0.0', 'Clinical Assessment of Regional Lymph Nodes'] = 'Unknown'\n",
    "data.loc[data['Clinical Assessment of Regional Lymph Nodes'] == '10.0', 'Clinical Assessment of Regional Lymph Nodes'] = 'N1'\n",
    "data.loc[data['Clinical Assessment of Regional Lymph Nodes'] == '20.0', 'Clinical Assessment of Regional Lymph Nodes'] = 'N1'\n",
    "data.loc[data['Clinical Assessment of Regional Lymph Nodes'] == '30.0', 'Clinical Assessment of Regional Lymph Nodes'] = 'N1'\n",
    "data.loc[data['Clinical Assessment of Regional Lymph Nodes'] == '100.0', 'Clinical Assessment of Regional Lymph Nodes'] = 'N1'\n",
    "data.loc[data['Clinical Assessment of Regional Lymph Nodes'] == '110.0', 'Clinical Assessment of Regional Lymph Nodes'] = 'N2'\n",
    "data.loc[data['Clinical Assessment of Regional Lymph Nodes'] == '120.0', 'Clinical Assessment of Regional Lymph Nodes'] = 'N2'\n",
    "data.loc[data['Clinical Assessment of Regional Lymph Nodes'] == '200.0', 'Clinical Assessment of Regional Lymph Nodes'] = 'N2'\n",
    "data.loc[data['Clinical Assessment of Regional Lymph Nodes'] == '400.0', 'Clinical Assessment of Regional Lymph Nodes'] = 'N+'\n",
    "data.loc[data['Clinical Assessment of Regional Lymph Nodes'] == 'nan', 'Clinical Assessment of Regional Lymph Nodes'] = 'Unknown'\n",
    "data.loc[data['Clinical Assessment of Regional Lymph Nodes'] == '888.0', 'Clinical Assessment of Regional Lymph Nodes'] = 'Unknown'\n",
    "data.loc[data['Clinical Assessment of Regional Lymph Nodes'] == '988.0', 'Clinical Assessment of Regional Lymph Nodes'] = 'Unknown'\n",
    "data.loc[data['Clinical Assessment of Regional Lymph Nodes'] == '999.0', 'Clinical Assessment of Regional Lymph Nodes'] = 'Unknown'\n",
    "data['Clinical Assessment of Regional Lymph Nodes'].fillna('Unknown', inplace=True)\n",
    "data.loc[data['Clinical Assessment of Regional Lymph Nodes'] == \"Unknown\", 'Clinical Assessment of Regional Lymph Nodes'] = np.NaN\n",
    "data['Clinical Assessment of Regional Lymph Nodes'].value_counts(dropna=False)"
   ]
  },
  {
   "cell_type": "code",
   "execution_count": 225,
   "metadata": {},
   "outputs": [
    {
     "data": {
      "text/plain": [
       "count    38619.000000\n",
       "mean        41.535524\n",
       "std         46.561604\n",
       "min          0.000000\n",
       "25%          8.000000\n",
       "50%         22.000000\n",
       "75%         55.000000\n",
       "max        150.000000\n",
       "Name: CEA value, dtype: float64"
      ]
     },
     "execution_count": 225,
     "metadata": {},
     "output_type": "execute_result"
    }
   ],
   "source": [
    "data.loc[data['CEA value'] > 987, 'CEA value'] = np.NaN\n",
    "data['CEA value'].describe()"
   ]
  },
  {
   "cell_type": "code",
   "execution_count": 226,
   "metadata": {},
   "outputs": [
    {
     "data": {
      "text/plain": [
       "0.28062364950450785"
      ]
     },
     "execution_count": 226,
     "metadata": {},
     "output_type": "execute_result"
    }
   ],
   "source": [
    "data['CEA value'].isnull().sum() / data.shape[0]"
   ]
  },
  {
   "cell_type": "code",
   "execution_count": 227,
   "metadata": {},
   "outputs": [
    {
     "name": "stdout",
     "output_type": "stream",
     "text": [
      "count    38639.000000\n",
      "mean        44.253552\n",
      "std        159.465751\n",
      "min          0.000000\n",
      "25%          8.000000\n",
      "50%         22.000000\n",
      "75%         55.000000\n",
      "max      10000.000000\n",
      "Name: CEA value, dtype: float64\n"
     ]
    },
    {
     "data": {
      "text/plain": [
       "0.28025109902391776"
      ]
     },
     "execution_count": 227,
     "metadata": {},
     "output_type": "execute_result"
    }
   ],
   "source": [
    "#if data['CEA value'] is null, fill with 'CEA Pretreatment Lab Value SSDI Item 3820',\n",
    "data.loc[data['CEA value'].isnull(), 'CEA value'] = data.loc[data['CEA value'].isnull(), 'CEA Pretreatment Lab Value SSDI Item 3820']\n",
    "print(data['CEA value'].describe())\n",
    "data['CEA value'].isnull().sum() / data.shape[0]"
   ]
  },
  {
   "cell_type": "code",
   "execution_count": 228,
   "metadata": {},
   "outputs": [],
   "source": [
    "data.drop(['CEA Pretreatment Lab Value SSDI Item 3820'], axis=1, inplace=True)"
   ]
  },
  {
   "cell_type": "code",
   "execution_count": 229,
   "metadata": {},
   "outputs": [
    {
     "data": {
      "text/plain": [
       "NaN               44371\n",
       "CEA negative       4969\n",
       "CEA positive       4302\n",
       "CEA borderline       42\n",
       "Name: CEA Pretreatment Interpretation SSDI Item 3819, dtype: int64"
      ]
     },
     "execution_count": 229,
     "metadata": {},
     "output_type": "execute_result"
    }
   ],
   "source": [
    "data.loc[data['CEA Pretreatment Interpretation SSDI Item 3819'] == '0.0', 'CEA Pretreatment Interpretation SSDI Item 3819'] = 'CEA negative'\n",
    "data.loc[data['CEA Pretreatment Interpretation SSDI Item 3819'] == '1.0', 'CEA Pretreatment Interpretation SSDI Item 3819'] = 'CEA positive'\n",
    "data.loc[data['CEA Pretreatment Interpretation SSDI Item 3819'] == '2.0', 'CEA Pretreatment Interpretation SSDI Item 3819'] = 'CEA borderline'\n",
    "data.loc[data['CEA Pretreatment Interpretation SSDI Item 3819'] == '3.0', 'CEA Pretreatment Interpretation SSDI Item 3819'] = 'Unknown'\n",
    "data.loc[data['CEA Pretreatment Interpretation SSDI Item 3819'] == '7.0', 'CEA Pretreatment Interpretation SSDI Item 3819'] = 'Unknown'\n",
    "data.loc[data['CEA Pretreatment Interpretation SSDI Item 3819'] == '9.0', 'CEA Pretreatment Interpretation SSDI Item 3819'] = 'Unknown'\n",
    "\n",
    "\n",
    "data.loc[data['CEA Pretreatment Interpretation SSDI Item 3819'] == 'nan', 'CEA Pretreatment Interpretation SSDI Item 3819'] = np.NaN\n",
    "data.loc[data['CEA Pretreatment Interpretation SSDI Item 3819'] == 'None assigned', 'CEA Pretreatment Interpretation SSDI Item 3819'] = np.NaN\n",
    "data['CEA Pretreatment Interpretation SSDI Item 3819'].fillna('Unknown', inplace=True)\n",
    "data.loc[data['CEA Pretreatment Interpretation SSDI Item 3819'] == \"Unknown\", 'CEA Pretreatment Interpretation SSDI Item 3819'] = np.NaN\n",
    "data['CEA Pretreatment Interpretation SSDI Item 3819'].value_counts(dropna=False)"
   ]
  },
  {
   "cell_type": "code",
   "execution_count": 230,
   "metadata": {},
   "outputs": [
    {
     "data": {
      "text/plain": [
       "NaN           23632\n",
       "Normal        16641\n",
       "Elevated      13242\n",
       "Borderline      169\n",
       "Name: CEA, dtype: int64"
      ]
     },
     "execution_count": 230,
     "metadata": {},
     "output_type": "execute_result"
    }
   ],
   "source": [
    "data['CEA'].value_counts(dropna=False)"
   ]
  },
  {
   "cell_type": "code",
   "execution_count": 231,
   "metadata": {},
   "outputs": [],
   "source": [
    "data.loc[data['CEA Pretreatment Interpretation SSDI Item 3819'] == 'CEA negative', 'CEA'] = 'Normal'\n",
    "data.loc[data['CEA Pretreatment Interpretation SSDI Item 3819'] == 'CEA positive', 'CEA'] = 'Elevated'\n",
    "data.loc[data['CEA Pretreatment Interpretation SSDI Item 3819'] == 'CEA borderline', 'CEA'] = 'Borderline'\n",
    "data.loc[data['CEA'] == 'Unknown', 'CEA'] = np.NaN"
   ]
  },
  {
   "cell_type": "code",
   "execution_count": 232,
   "metadata": {},
   "outputs": [
    {
     "data": {
      "text/plain": [
       "Normal        21610\n",
       "Elevated      17544\n",
       "NaN           14319\n",
       "Borderline      211\n",
       "Name: CEA, dtype: int64"
      ]
     },
     "execution_count": 232,
     "metadata": {},
     "output_type": "execute_result"
    }
   ],
   "source": [
    "data['CEA'].value_counts(dropna=False)"
   ]
  },
  {
   "cell_type": "code",
   "execution_count": 233,
   "metadata": {},
   "outputs": [],
   "source": [
    "data.drop(['CEA Pretreatment Interpretation SSDI Item 3819'], axis=1, inplace=True)"
   ]
  },
  {
   "cell_type": "code",
   "execution_count": 234,
   "metadata": {},
   "outputs": [
    {
     "data": {
      "text/plain": [
       "9.0    10484\n",
       "0.0      720\n",
       "4.0      227\n",
       "1.0      197\n",
       "3.0       33\n",
       "7.0       32\n",
       "2.0       11\n",
       "Name: KRAS SSDI Item 3866, dtype: int64"
      ]
     },
     "execution_count": 234,
     "metadata": {},
     "output_type": "execute_result"
    }
   ],
   "source": [
    "data['KRAS SSDI Item 3866'].value_counts()\n"
   ]
  },
  {
   "cell_type": "code",
   "execution_count": 235,
   "metadata": {},
   "outputs": [
    {
     "data": {
      "text/plain": [
       "NaN                                                                           41980\n",
       "Not documented in medical record, KRAS not assessed or unknown if assessed    10484\n",
       "Normal, KRAS wild type                                                          720\n",
       "Abnormal (mutated), NOS, codon(s) not specified                                 227\n",
       "Abnormal (mutated) in codon(s) 12, 13 and/or 61                                 197\n",
       "Abnormal (mutated), but not in codon(s) 12, 13, 61, or 146                       33\n",
       "Test ordered, results not in chart                                               32\n",
       "Abnormal (mutated) in codon 146 only                                             11\n",
       "Name: KRAS SSDI Item 3866, dtype: int64"
      ]
     },
     "execution_count": 235,
     "metadata": {},
     "output_type": "execute_result"
    }
   ],
   "source": [
    "data.loc[data['KRAS SSDI Item 3866'] == '0.0', 'KRAS SSDI Item 3866'] = 'Normal, KRAS wild type'\n",
    "data.loc[data['KRAS SSDI Item 3866'] == '1.0', 'KRAS SSDI Item 3866'] = 'Abnormal (mutated) in codon(s) 12, 13 and/or 61'\n",
    "data.loc[data['KRAS SSDI Item 3866'] == '2.0', 'KRAS SSDI Item 3866'] = 'Abnormal (mutated) in codon 146 only'\n",
    "data.loc[data['KRAS SSDI Item 3866'] == '3.0', 'KRAS SSDI Item 3866'] = 'Abnormal (mutated), but not in codon(s) 12, 13, 61, or 146'\n",
    "data.loc[data['KRAS SSDI Item 3866'] == '4.0', 'KRAS SSDI Item 3866'] = 'Abnormal (mutated), NOS, codon(s) not specified'\n",
    "data.loc[data['KRAS SSDI Item 3866'] == '7.0', 'KRAS SSDI Item 3866'] = 'Test ordered, results not in chart'\n",
    "data.loc[data['KRAS SSDI Item 3866'] == '9.0', 'KRAS SSDI Item 3866'] = 'Not documented in medical record, KRAS not assessed or unknown if assessed'\n",
    "\n",
    "\n",
    "data.loc[data['KRAS SSDI Item 3866'] == 'None assigned', 'KRAS SSDI Item 3866'] = np.NaN\n",
    "data['KRAS SSDI Item 3866'].fillna('Unknown', inplace=True)\n",
    "data.loc[data['KRAS SSDI Item 3866'] == \"Unknown\", 'KRAS SSDI Item 3866'] = np.NaN\n",
    "data['KRAS SSDI Item 3866'].value_counts(dropna=False)"
   ]
  },
  {
   "cell_type": "code",
   "execution_count": 236,
   "metadata": {},
   "outputs": [
    {
     "data": {
      "text/plain": [
       "998.0    22555\n",
       "20.0      1730\n",
       "10.0      1053\n",
       "997.0      182\n",
       "988.0       47\n",
       "Name: KRAS, dtype: int64"
      ]
     },
     "execution_count": 236,
     "metadata": {},
     "output_type": "execute_result"
    }
   ],
   "source": [
    "data['KRAS'].value_counts()"
   ]
  },
  {
   "cell_type": "code",
   "execution_count": 237,
   "metadata": {},
   "outputs": [
    {
     "data": {
      "text/plain": [
       "NaN            50901\n",
       "Not mutated     1730\n",
       "Mutated         1053\n",
       "Name: KRAS, dtype: int64"
      ]
     },
     "execution_count": 237,
     "metadata": {},
     "output_type": "execute_result"
    }
   ],
   "source": [
    "data.loc[data['KRAS'] == '10.0', 'KRAS'] = 'Mutated'\n",
    "data.loc[data['KRAS'] == '20.0', 'KRAS'] = 'Not mutated'\n",
    "data.loc[data['KRAS'] == 'nan', 'KRAS'] = 'Unknown'\n",
    "data.loc[data['KRAS'] == '988.0', 'KRAS'] = 'Unknown'\n",
    "data.loc[data['KRAS'] == '997.0', 'KRAS'] = 'Unknown'\n",
    "data.loc[data['KRAS'] == '998.0', 'KRAS'] = 'Unknown'\n",
    "data.fillna('Unknown', inplace=True)\n",
    "data.loc[data['KRAS'] == \"Unknown\", 'KRAS'] = np.NaN\n",
    "data['KRAS'].value_counts(dropna=False)"
   ]
  },
  {
   "cell_type": "code",
   "execution_count": 238,
   "metadata": {},
   "outputs": [
    {
     "data": {
      "text/plain": [
       "NaN            49713\n",
       "Not mutated     2450\n",
       "Mutated         1521\n",
       "Name: KRAS, dtype: int64"
      ]
     },
     "execution_count": 238,
     "metadata": {},
     "output_type": "execute_result"
    }
   ],
   "source": [
    "data.loc[data['KRAS SSDI Item 3866'] == 'Normal, KRAS wild type', 'KRAS'] = 'Not mutated'\n",
    "data.loc[data['KRAS SSDI Item 3866'] == 'Abnormal (mutated) in codon(s) 12, 13 and/or 61', 'KRAS'] = 'Mutated'\n",
    "data.loc[data['KRAS SSDI Item 3866'] == 'Abnormal (mutated) in codon 146 only', 'KRAS'] = 'Mutated'\n",
    "data.loc[data['KRAS SSDI Item 3866'] == 'Abnormal (mutated), but not in codon(s) 12, 13, 61, or 146', 'KRAS'] = 'Mutated'\n",
    "data.loc[data['KRAS SSDI Item 3866'] == 'Abnormal (mutated), NOS, codon(s) not specified', 'KRAS'] = 'Mutated'\n",
    "data.loc[data['KRAS'] == 'Unknown', 'KRAS'] = np.NaN\n",
    "data['KRAS'].value_counts(dropna=False)"
   ]
  },
  {
   "cell_type": "code",
   "execution_count": 239,
   "metadata": {},
   "outputs": [],
   "source": [
    "data.drop(['KRAS SSDI Item 3866'], axis=1, inplace=True)"
   ]
  },
  {
   "cell_type": "code",
   "execution_count": 240,
   "metadata": {},
   "outputs": [
    {
     "data": {
      "text/plain": [
       "Unknown    23471\n",
       "998.0      14171\n",
       "20.0        9504\n",
       "988.0       4876\n",
       "60.0         624\n",
       "40.0         455\n",
       "997.0        349\n",
       "50.0         234\n",
       "Name: Microsatellite Instability, dtype: int64"
      ]
     },
     "execution_count": 240,
     "metadata": {},
     "output_type": "execute_result"
    }
   ],
   "source": [
    "data['Microsatellite Instability'].value_counts(dropna=False)"
   ]
  },
  {
   "cell_type": "code",
   "execution_count": 241,
   "metadata": {},
   "outputs": [
    {
     "data": {
      "text/plain": [
       "NaN           42867\n",
       "MSI stable     9959\n",
       "MSI high        858\n",
       "Name: Microsatellite Instability, dtype: int64"
      ]
     },
     "execution_count": 241,
     "metadata": {},
     "output_type": "execute_result"
    }
   ],
   "source": [
    "data.loc[data['Microsatellite Instability'] == '20.0', 'Microsatellite Instability'] = 'MSI stable'\n",
    "data.loc[data['Microsatellite Instability'] == '40.0', 'Microsatellite Instability'] = 'MSI stable'\n",
    "data.loc[data['Microsatellite Instability'] == '50.0', 'Microsatellite Instability'] = 'MSI high'\n",
    "data.loc[data['Microsatellite Instability'] == '60.0', 'Microsatellite Instability'] = 'MSI high'\n",
    "data.loc[data['Microsatellite Instability'] == '988.0', 'Microsatellite Instability'] = 'Unknown'\n",
    "data.loc[data['Microsatellite Instability'] == '997.0', 'Microsatellite Instability'] = 'Unknown'\n",
    "data.loc[data['Microsatellite Instability'] == '998.0', 'Microsatellite Instability'] = 'Unknown'\n",
    "data.loc[data['Microsatellite Instability'] == '999.0', 'Microsatellite Instability'] = 'Unknown'\n",
    "data.loc[data['Microsatellite Instability'] == 'nan', 'Microsatellite Instability'] = 'Unknown'\n",
    "data.fillna('Unknown', inplace=True)\n",
    "data.loc[data['Microsatellite Instability'] == \"Unknown\", 'Microsatellite Instability'] = np.NaN\n",
    "data['Microsatellite Instability'].value_counts(dropna=False)\n"
   ]
  },
  {
   "cell_type": "code",
   "execution_count": 242,
   "metadata": {},
   "outputs": [
    {
     "data": {
      "text/plain": [
       "Unknown    41980\n",
       "0.0         6581\n",
       "9.0         4640\n",
       "2.0          303\n",
       "1.0          180\n",
       "Name: Microsatellite Instability (MSI) SSDI Item 3890, dtype: int64"
      ]
     },
     "execution_count": 242,
     "metadata": {},
     "output_type": "execute_result"
    }
   ],
   "source": [
    "data['Microsatellite Instability (MSI) SSDI Item 3890'].value_counts()"
   ]
  },
  {
   "cell_type": "code",
   "execution_count": 243,
   "metadata": {},
   "outputs": [
    {
     "data": {
      "text/plain": [
       "NaN           46620\n",
       "MSI stable     6761\n",
       "MSI high        303\n",
       "Name: Microsatellite Instability (MSI) SSDI Item 3890, dtype: int64"
      ]
     },
     "execution_count": 243,
     "metadata": {},
     "output_type": "execute_result"
    }
   ],
   "source": [
    "data.loc[data['Microsatellite Instability (MSI) SSDI Item 3890'] == '0.0', 'Microsatellite Instability (MSI) SSDI Item 3890'] = 'MSI stable'\n",
    "data.loc[data['Microsatellite Instability (MSI) SSDI Item 3890'] == '1.0', 'Microsatellite Instability (MSI) SSDI Item 3890'] = 'MSI stable'\n",
    "data.loc[data['Microsatellite Instability (MSI) SSDI Item 3890'] == '2.0', 'Microsatellite Instability (MSI) SSDI Item 3890'] = 'MSI high'\n",
    "data.loc[data['Microsatellite Instability (MSI) SSDI Item 3890'] == '9.0', 'Microsatellite Instability (MSI) SSDI Item 3890'] = 'Unknown'\n",
    "data.loc[data['Microsatellite Instability (MSI) SSDI Item 3890'] == 'nan', 'Microsatellite Instability (MSI) SSDI Item 3890'] = 'Unknown'\n",
    "data.fillna('Unknown', inplace=True)\n",
    "data.loc[data['Microsatellite Instability (MSI) SSDI Item 3890'] == \"Unknown\", 'Microsatellite Instability (MSI) SSDI Item 3890'] = np.NaN\n",
    "data['Microsatellite Instability (MSI) SSDI Item 3890'].value_counts(dropna=False)"
   ]
  },
  {
   "cell_type": "code",
   "execution_count": 244,
   "metadata": {},
   "outputs": [
    {
     "data": {
      "text/plain": [
       "NaN           35803\n",
       "MSI stable    16720\n",
       "MSI high       1161\n",
       "Name: Microsatellite Instability, dtype: int64"
      ]
     },
     "execution_count": 244,
     "metadata": {},
     "output_type": "execute_result"
    }
   ],
   "source": [
    "data.loc[data['Microsatellite Instability (MSI) SSDI Item 3890'] == 'MSI stable', 'Microsatellite Instability'] = 'MSI stable'\n",
    "data.loc[data['Microsatellite Instability (MSI) SSDI Item 3890'] == 'MSI high', 'Microsatellite Instability'] = 'MSI high'\n",
    "data.loc[data['Microsatellite Instability'] == \"Unknown\", 'Microsatellite Instability'] = np.NaN\n",
    "data['Microsatellite Instability'].value_counts(dropna=False)"
   ]
  },
  {
   "cell_type": "code",
   "execution_count": 245,
   "metadata": {},
   "outputs": [],
   "source": [
    "data.drop('Microsatellite Instability (MSI) SSDI Item 3890', axis=1, inplace=True)"
   ]
  },
  {
   "cell_type": "code",
   "execution_count": 246,
   "metadata": {},
   "outputs": [
    {
     "data": {
      "text/plain": [
       "0.0        31279\n",
       "Unknown    18071\n",
       "10.0        4287\n",
       "988.0         47\n",
       "Name: Perineural invasion, dtype: int64"
      ]
     },
     "execution_count": 246,
     "metadata": {},
     "output_type": "execute_result"
    }
   ],
   "source": [
    "data['Perineural invasion'].value_counts(dropna=False)"
   ]
  },
  {
   "cell_type": "code",
   "execution_count": 247,
   "metadata": {},
   "outputs": [
    {
     "data": {
      "text/plain": [
       "No     31279\n",
       "NaN    18118\n",
       "Yes     4287\n",
       "Name: Perineural invasion, dtype: int64"
      ]
     },
     "execution_count": 247,
     "metadata": {},
     "output_type": "execute_result"
    }
   ],
   "source": [
    "data.loc[data['Perineural invasion'] == '0.0', 'Perineural invasion'] = 'No'\n",
    "data.loc[data['Perineural invasion'] == '10.0', 'Perineural invasion'] = 'Yes'\n",
    "data.loc[data['Perineural invasion'] == 'nan', 'Perineural invasion'] = 'Unknown'\n",
    "data.loc[data['Perineural invasion'] == '988.0', 'Perineural invasion'] = 'Unknown'\n",
    "data.loc[data['Perineural invasion'] == '998.0', 'Perineural invasion'] = 'Unknown'\n",
    "\n",
    "data.fillna('Unknown', inplace=True)\n",
    "data.loc[data['Perineural invasion'] == \"Unknown\", 'Perineural invasion'] = np.NaN\n",
    "data['Perineural invasion'].value_counts(dropna=False)"
   ]
  },
  {
   "cell_type": "code",
   "execution_count": 248,
   "metadata": {},
   "outputs": [
    {
     "data": {
      "text/plain": [
       "Unknown    41980\n",
       "0.0         8325\n",
       "9.0         1861\n",
       "1.0         1518\n",
       "Name: Perineural Invasion SSDI Item 3909, dtype: int64"
      ]
     },
     "execution_count": 248,
     "metadata": {},
     "output_type": "execute_result"
    }
   ],
   "source": [
    "data['Perineural Invasion SSDI Item 3909'].value_counts()"
   ]
  },
  {
   "cell_type": "code",
   "execution_count": 249,
   "metadata": {},
   "outputs": [
    {
     "data": {
      "text/plain": [
       "No     39604\n",
       "NaN     8275\n",
       "Yes     5805\n",
       "Name: Perineural invasion, dtype: int64"
      ]
     },
     "execution_count": 249,
     "metadata": {},
     "output_type": "execute_result"
    }
   ],
   "source": [
    "data.loc[data['Perineural Invasion SSDI Item 3909'] == '0.0', 'Perineural invasion'] = 'No'\n",
    "data.loc[data['Perineural Invasion SSDI Item 3909'] == '1.0', 'Perineural invasion'] = 'Yes'\n",
    "\n",
    "data['Perineural invasion'].value_counts(dropna=False)\n"
   ]
  },
  {
   "cell_type": "code",
   "execution_count": 250,
   "metadata": {},
   "outputs": [],
   "source": [
    "data.drop('Perineural Invasion SSDI Item 3909', axis=1, inplace=True)"
   ]
  },
  {
   "cell_type": "markdown",
   "metadata": {},
   "source": [
    "data['18q Loss of Heterozygosity (LOH)'].value_counts(dropna=False)"
   ]
  },
  {
   "cell_type": "markdown",
   "metadata": {},
   "source": [
    "data.loc[data['18q Loss of Heterozygosity (LOH)'] == '10.0', '18q Loss of Heterozygosity (LOH)'] = 'Yes'\n",
    "data.loc[data['18q Loss of Heterozygosity (LOH)'] == '20.0', '18q Loss of Heterozygosity (LOH)'] = 'No'\n",
    "data.loc[data['18q Loss of Heterozygosity (LOH)'] == '30.0', '18q Loss of Heterozygosity (LOH)'] = 'Unknown'\n",
    "data.loc[data['18q Loss of Heterozygosity (LOH)'] == 'nan', '18q Loss of Heterozygosity (LOH)'] = 'Unknown'\n",
    "data.loc[data['18q Loss of Heterozygosity (LOH)'] == '988.0', '18q Loss of Heterozygosity (LOH)'] = 'Unknown'\n",
    "data.loc[data['18q Loss of Heterozygosity (LOH)'] == '997.0', '18q Loss of Heterozygosity (LOH)'] = 'Unknown'\n",
    "data.loc[data['18q Loss of Heterozygosity (LOH)'] == '998.0', '18q Loss of Heterozygosity (LOH)'] = 'Unknown'\n",
    "data.loc[data['18q Loss of Heterozygosity (LOH)'] == '999.0', '18q Loss of Heterozygosity (LOH)'] = 'Unknown'\n",
    "data.fillna('Unknown', inplace=True)\n",
    "data.loc[data['18q Loss of Heterozygosity (LOH)'] == \"Unknown\", '18q Loss of Heterozygosity (LOH)'] = np.NaN\n",
    "data['18q Loss of Heterozygosity (LOH)'].value_counts(dropna=False)"
   ]
  },
  {
   "cell_type": "markdown",
   "metadata": {},
   "source": [
    "Clinical Assessment of Regional Lymph Nodes ??????"
   ]
  },
  {
   "cell_type": "markdown",
   "metadata": {},
   "source": [
    "data.drop(['18q Loss of Heterozygosity (LOH)'], axis=1, inplace=True)"
   ]
  },
  {
   "cell_type": "code",
   "execution_count": 251,
   "metadata": {},
   "outputs": [
    {
     "data": {
      "text/plain": [
       "LAR                    37665\n",
       "APR                    13035\n",
       "Pelvic exenteration     1754\n",
       "Proctocolectomy         1230\n",
       "Name: Surgical Procedure of Primary Site at any CoC Facility, dtype: int64"
      ]
     },
     "execution_count": 251,
     "metadata": {},
     "output_type": "execute_result"
    }
   ],
   "source": [
    "data['Surgical Procedure of Primary Site at any CoC Facility'].value_counts(dropna=False)\n",
    "data.loc[data['Surgical Procedure of Primary Site at any CoC Facility'] == '30.0', 'Surgical Procedure of Primary Site at any CoC Facility'] = 'LAR'\n",
    "data.loc[data['Surgical Procedure of Primary Site at any CoC Facility'] == '40.0', 'Surgical Procedure of Primary Site at any CoC Facility'] = 'LAR'\n",
    "data.loc[data['Surgical Procedure of Primary Site at any CoC Facility'] == '50.0', 'Surgical Procedure of Primary Site at any CoC Facility'] = 'APR'\n",
    "data.loc[data['Surgical Procedure of Primary Site at any CoC Facility'] == '60.0', 'Surgical Procedure of Primary Site at any CoC Facility'] = 'Proctocolectomy'\n",
    "data.loc[data['Surgical Procedure of Primary Site at any CoC Facility'] == '70.0', 'Surgical Procedure of Primary Site at any CoC Facility'] = 'Pelvic exenteration'\n",
    "data.loc[data['Surgical Procedure of Primary Site at any CoC Facility'] == '80.0', 'Surgical Procedure of Primary Site at any CoC Facility'] = 'LAR'\n",
    "data.loc[data['Surgical Procedure of Primary Site at any CoC Facility'] == '90.0', 'Surgical Procedure of Primary Site at any CoC Facility'] = 'Unknown'\n",
    "data['Surgical Procedure of Primary Site at any CoC Facility'].value_counts(dropna=False)"
   ]
  },
  {
   "cell_type": "code",
   "execution_count": 252,
   "metadata": {},
   "outputs": [],
   "source": [
    "#if data['Surgical Procedure of Primary Site at any CoC Facility'] is numeric, then change it to 'non-op'\n",
    "try:\n",
    "    data.loc[data['Surgical Procedure of Primary Site at any CoC Facility'] == '0.0', 'Surgical Procedure of Primary Site at any CoC Facility'] = 'No surgery'\n",
    "except ValueError:\n",
    "    pass"
   ]
  },
  {
   "cell_type": "code",
   "execution_count": 253,
   "metadata": {},
   "outputs": [],
   "source": [
    "def check_numeric(x):\n",
    "    try:\n",
    "        float(x)\n",
    "        return True\n",
    "    except:\n",
    "        return False"
   ]
  },
  {
   "cell_type": "code",
   "execution_count": 254,
   "metadata": {},
   "outputs": [],
   "source": [
    "data.reset_index(inplace=True)"
   ]
  },
  {
   "cell_type": "code",
   "execution_count": 255,
   "metadata": {},
   "outputs": [
    {
     "data": {
      "text/plain": [
       "LAR                    37665\n",
       "APR                    13035\n",
       "Pelvic exenteration     1754\n",
       "Proctocolectomy         1230\n",
       "Name: Surgical Procedure of Primary Site at any CoC Facility, dtype: int64"
      ]
     },
     "execution_count": 255,
     "metadata": {},
     "output_type": "execute_result"
    }
   ],
   "source": [
    "for x in range(len(data)):\n",
    "    if check_numeric(data['Surgical Procedure of Primary Site at any CoC Facility'][x]) == True:\n",
    "        data['Surgical Procedure of Primary Site at any CoC Facility'][x] = 'Local excision'\n",
    "data['Surgical Procedure of Primary Site at any CoC Facility'].value_counts(dropna=False)"
   ]
  },
  {
   "cell_type": "code",
   "execution_count": 256,
   "metadata": {},
   "outputs": [],
   "source": [
    "# data['Location of Radiation Therapy'].value_counts()\n"
   ]
  },
  {
   "cell_type": "code",
   "execution_count": 257,
   "metadata": {},
   "outputs": [],
   "source": [
    "# data.loc[data['Location of Radiation Therapy'] == '0.0', 'Location of Radiation Therapy'] = 'No radiation treatment'\n",
    "# data.loc[data['Location of Radiation Therapy'] == '1.0', 'Location of Radiation Therapy'] = 'This facility'\n",
    "# data.loc[data['Location of Radiation Therapy'] == '2.0', 'Location of Radiation Therapy'] = 'This facility'\n",
    "# data.loc[data['Location of Radiation Therapy'] == '3.0', 'Location of Radiation Therapy'] = 'Elsewhere'\n",
    "# data.loc[data['Location of Radiation Therapy'] == '4.0', 'Location of Radiation Therapy'] = 'Elsewhere'\n",
    "# data.loc[data['Location of Radiation Therapy'] == '8.0', 'Location of Radiation Therapy'] = 'Other'\n",
    "# data.loc[data['Location of Radiation Therapy'] == '9.0', 'Location of Radiation Therapy'] = 'Unknown'\n",
    "\n",
    "# data.loc[data['Location of Radiation Therapy'] == 'None assigned', 'Location of Radiation Therapy'] = np.NaN\n",
    "# data['Location of Radiation Therapy'].fillna('Unknown', inplace=True)\n",
    "# data.loc[data['Location of Radiation Therapy'] == \"Unknown\", 'Location of Radiation Therapy'] = np.NaN\n",
    "# data = data.loc[data['Location of Radiation Therapy'] != 'No radiation treatment']\n",
    "# data['Location of Radiation Therapy'].value_counts(dropna=False)"
   ]
  },
  {
   "cell_type": "code",
   "execution_count": 258,
   "metadata": {},
   "outputs": [],
   "source": [
    "# data['Phase I Radiation Treatment Modality'].value_counts()"
   ]
  },
  {
   "cell_type": "code",
   "execution_count": 259,
   "metadata": {},
   "outputs": [],
   "source": [
    "# data['Brachytherapy'] = 0\n",
    "# data.loc[data['Phase I Radiation Treatment Modality'] == '7.0', 'Brachytherapy'] = 1\n",
    "# data.loc[data['Phase I Radiation Treatment Modality'] == '8.0', 'Brachytherapy'] = 1\n",
    "# data.loc[data['Phase I Radiation Treatment Modality'] == '9.0', 'Brachytherapy'] = 1\n",
    "# data.loc[data['Phase I Radiation Treatment Modality'] == '10.0', 'Brachytherapy'] = 1\n",
    "# data.loc[data['Phase I Radiation Treatment Modality'] == '11.0', 'Brachytherapy'] = 1\n",
    "# data.loc[data['Phase I Radiation Treatment Modality'] == '12.0', 'Brachytherapy'] = 1\n",
    "# data['Brachytherapy'].value_counts()"
   ]
  },
  {
   "cell_type": "code",
   "execution_count": 260,
   "metadata": {},
   "outputs": [],
   "source": [
    "# brachy_pcr = pcr_by_col(data, 'Brachytherapy')\n",
    "# brachy_pcr.to_csv('../results_p/brachy_pcr.csv')"
   ]
  },
  {
   "cell_type": "code",
   "execution_count": 261,
   "metadata": {},
   "outputs": [],
   "source": [
    "# data['Proton'] = 0\n",
    "# data.loc[data['Phase I Radiation Treatment Modality'] == '3.0', 'Proton'] = 1\n",
    "# data['Proton'].value_counts()"
   ]
  },
  {
   "cell_type": "code",
   "execution_count": 262,
   "metadata": {},
   "outputs": [],
   "source": [
    "# proton_pcr = pcr_by_col(data, 'Proton')\n",
    "# proton_pcr.to_csv('../results_p/proton_pcr.csv')"
   ]
  },
  {
   "cell_type": "code",
   "execution_count": 263,
   "metadata": {},
   "outputs": [],
   "source": [
    "# data.drop(['Proton', 'Brachytherapy'], axis=1, inplace=True)"
   ]
  },
  {
   "cell_type": "code",
   "execution_count": 264,
   "metadata": {},
   "outputs": [],
   "source": [
    "# data.loc[data['Location of Radiation Therapy'] == '0.0', 'Location of Radiation Therapy'] = 'No radiation treatment'\n",
    "# data.loc[data['Location of Radiation Therapy'] == '1.0', 'Location of Radiation Therapy'] = 'This facility'\n",
    "# data.loc[data['Location of Radiation Therapy'] == '2.0', 'Location of Radiation Therapy'] = 'This facility'\n",
    "# data.loc[data['Location of Radiation Therapy'] == '3.0', 'Location of Radiation Therapy'] = 'Elsewhere'\n",
    "# data.loc[data['Location of Radiation Therapy'] == '4.0', 'Location of Radiation Therapy'] = 'Elsewhere'\n",
    "# data.loc[data['Location of Radiation Therapy'] == '8.0', 'Location of Radiation Therapy'] = 'Other'\n",
    "# data.loc[data['Location of Radiation Therapy'] == '9.0', 'Location of Radiation Therapy'] = 'Unknown'\n",
    "\n",
    "# data.loc[data['Location of Radiation Therapy'] == 'None assigned', 'Location of Radiation Therapy'] = np.NaN\n",
    "# data['Location of Radiation Therapy'].fillna('Unknown', inplace=True)\n",
    "# data.loc[data['Location of Radiation Therapy'] == \"Unknown\", 'Location of Radiation Therapy'] = np.NaN\n",
    "# data = data.loc[data['Location of Radiation Therapy'] != 'No radiation treatment']\n",
    "# data['Location of Radiation Therapy'].value_counts(dropna=False)"
   ]
  },
  {
   "cell_type": "code",
   "execution_count": 265,
   "metadata": {},
   "outputs": [],
   "source": [
    "# data['Chemotherapy at any CoC Facility'].value_counts()\n"
   ]
  },
  {
   "cell_type": "code",
   "execution_count": 266,
   "metadata": {},
   "outputs": [],
   "source": [
    "# data.loc[data['Chemotherapy at any CoC Facility'] == '0.0', 'Chemotherapy at any CoC Facility'] = 'No chemotherapy'\n",
    "# data.loc[data['Chemotherapy at any CoC Facility'] == '1.0', 'Chemotherapy at any CoC Facility'] = 'Chemotherapy, single-agent'\n",
    "# data.loc[data['Chemotherapy at any CoC Facility'] == '2.0', 'Chemotherapy at any CoC Facility'] = 'Chemotherapy, single-agent'\n",
    "# data.loc[data['Chemotherapy at any CoC Facility'] == '3.0', 'Chemotherapy at any CoC Facility'] = 'Chemotherapy, multi-agent'\n",
    "# data.loc[data['Chemotherapy at any CoC Facility'] == '82.0', 'Chemotherapy at any CoC Facility'] = 'No chemotherapy'\n",
    "# data.loc[data['Chemotherapy at any CoC Facility'] == '85.0', 'Chemotherapy at any CoC Facility'] = 'No chemotherapy'\n",
    "# data.loc[data['Chemotherapy at any CoC Facility'] == '86.0', 'Chemotherapy at any CoC Facility'] = 'No chemotherapy'\n",
    "# data.loc[data['Chemotherapy at any CoC Facility'] == '87.0', 'Chemotherapy at any CoC Facility'] = 'No chemotherapy'\n",
    "# data.loc[data['Chemotherapy at any CoC Facility'] == '88.0', 'Chemotherapy at any CoC Facility'] = 'No chemotherapy'\n",
    "# data.loc[data['Chemotherapy at any CoC Facility'] == 'None assigned', 'Chemotherapy at any CoC Facility'] = np.NaN\n",
    "# data['Chemotherapy at any CoC Facility'].fillna('Unknown', inplace=True)\n",
    "# data.loc[data['Chemotherapy at any CoC Facility'] == \"Unknown\", 'Chemotherapy at any CoC Facility'] = np.NaN\n",
    "\n",
    "# data['Chemotherapy at any CoC Facility'].value_counts(dropna=False)"
   ]
  },
  {
   "cell_type": "code",
   "execution_count": 267,
   "metadata": {},
   "outputs": [],
   "source": [
    "# data['Immunotherapy at any CoC Facility'].value_counts()\n"
   ]
  },
  {
   "cell_type": "code",
   "execution_count": 268,
   "metadata": {},
   "outputs": [],
   "source": [
    "# data.loc[data['Immunotherapy at any CoC Facility'] == '0.0', 'Immunotherapy at any CoC Facility'] = 'No'\n",
    "# data.loc[data['Immunotherapy at any CoC Facility'] == '1.0', 'Immunotherapy at any CoC Facility'] = 'Yes'\n",
    "# data.loc[data['Immunotherapy at any CoC Facility'] == '82.0', 'Immunotherapy at any CoC Facility'] = 'No'\n",
    "# data.loc[data['Immunotherapy at any CoC Facility'] == '86.0', 'Immunotherapy at any CoC Facility'] = 'No'\n",
    "# data.loc[data['Immunotherapy at any CoC Facility'] == '87.0', 'Immunotherapy at any CoC Facility'] = 'No'\n",
    "# data.loc[data['Immunotherapy at any CoC Facility'] == '88.0', 'Immunotherapy at any CoC Facility'] = 'No'\n",
    "\n",
    "\n",
    "# data.loc[data['Immunotherapy at any CoC Facility'] == 'None assigned', 'Immunotherapy at any CoC Facility'] = np.NaN\n",
    "# data['Immunotherapy at any CoC Facility'].fillna('Unknown', inplace=True)\n",
    "# data.loc[data['Immunotherapy at any CoC Facility'] == \"Unknown\", 'Immunotherapy at any CoC Facility'] = np.NaN\n",
    "# data['Immunotherapy at any CoC Facility'].value_counts(dropna=False)"
   ]
  },
  {
   "cell_type": "code",
   "execution_count": 269,
   "metadata": {},
   "outputs": [],
   "source": [
    "# data['Systemic/Surgery Sequence'].value_counts()\n"
   ]
  },
  {
   "cell_type": "code",
   "execution_count": 270,
   "metadata": {},
   "outputs": [],
   "source": [
    "# data.loc[data['Systemic/Surgery Sequence'] == '0.0', 'Systemic/Surgery Sequence'] = 'Not neo-adjuvant'\n",
    "# data.loc[data['Systemic/Surgery Sequence'] == '2.0', 'Systemic/Surgery Sequence'] = 'Neo-adjuvant'\n",
    "# data.loc[data['Systemic/Surgery Sequence'] == '3.0', 'Systemic/Surgery Sequence'] = 'Not neo-adjuvant'\n",
    "# data.loc[data['Systemic/Surgery Sequence'] == '4.0', 'Systemic/Surgery Sequence'] = 'Neo-adjuvant and adjuvant'\n",
    "# data.loc[data['Systemic/Surgery Sequence'] == '5.0', 'Systemic/Surgery Sequence'] = 'Not neo-adjuvant'\n",
    "# data.loc[data['Systemic/Surgery Sequence'] == '6.0', 'Systemic/Surgery Sequence'] = 'Not neo-adjuvant'\n",
    "# data.loc[data['Systemic/Surgery Sequence'] == '9.0', 'Systemic/Surgery Sequence'] = 'Not neo-adjuvant'\n",
    "\n",
    "# data.loc[data['Systemic/Surgery Sequence'] == 'None assigned', 'Systemic/Surgery Sequence'] = np.NaN\n",
    "# data.loc[data['Systemic/Surgery Sequence'] == \"Unknown\", 'Systemic/Surgery Sequence'] = np.NaN\n",
    "# data.loc[data['Systemic/Surgery Sequence'] == 'nan', 'Systemic/Surgery Sequence'] = np.NaN\n",
    "# data['Systemic/Surgery Sequence'].fillna('Unknown', inplace=True)\n",
    "# data.loc[data['Systemic/Surgery Sequence'] == \"Unknown\", 'Systemic/Surgery Sequence'] = np.NaN\n",
    "# data['Systemic/Surgery Sequence'].value_counts(dropna=False)"
   ]
  },
  {
   "cell_type": "code",
   "execution_count": 271,
   "metadata": {},
   "outputs": [],
   "source": [
    "# data['ict'].value_counts()"
   ]
  },
  {
   "cell_type": "code",
   "execution_count": 272,
   "metadata": {},
   "outputs": [],
   "source": [
    "# pcr_by_col(data, 'ict')"
   ]
  },
  {
   "cell_type": "code",
   "execution_count": 273,
   "metadata": {},
   "outputs": [],
   "source": [
    "# pcr_by_col(data, 'cct')"
   ]
  },
  {
   "cell_type": "code",
   "execution_count": 274,
   "metadata": {},
   "outputs": [],
   "source": [
    "# data['Chemotherapy at this Facility'].value_counts()\n"
   ]
  },
  {
   "cell_type": "code",
   "execution_count": 275,
   "metadata": {},
   "outputs": [],
   "source": [
    "# data.loc[data['Chemotherapy at this Facility'] == '0.0', 'Chemotherapy at this Facility'] = 'No chemotherapy'\n",
    "# data.loc[data['Chemotherapy at this Facility'] == '1.0', 'Chemotherapy at this Facility'] = 'Unknown'\n",
    "# data.loc[data['Chemotherapy at this Facility'] == '2.0', 'Chemotherapy at this Facility'] = 'Single-agent'\n",
    "# data.loc[data['Chemotherapy at this Facility'] == '3.0', 'Chemotherapy at this Facility'] = 'Multiagent'\n",
    "# data.loc[data['Chemotherapy at this Facility'] == '82.0', 'Chemotherapy at this Facility'] = 'No chemotherapy'\n",
    "# data.loc[data['Chemotherapy at this Facility'] == '85.0', 'Chemotherapy at this Facility'] = 'No chemotherapy'\n",
    "# data.loc[data['Chemotherapy at this Facility'] == '86.0', 'Chemotherapy at this Facility'] = 'No chemotherapy'\n",
    "# data.loc[data['Chemotherapy at this Facility'] == '87.0', 'Chemotherapy at this Facility'] = 'No chemotherapy'\n",
    "# data.loc[data['Chemotherapy at this Facility'] == '88.0', 'Chemotherapy at this Facility'] = 'Unknown'\n",
    "\n",
    "# data.loc[data['Chemotherapy at this Facility'] == 'nan', 'Chemotherapy at this Facility'] = np.NaN\n",
    "# data.loc[data['Chemotherapy at this Facility'] == 'None assigned', 'Chemotherapy at this Facility'] = np.NaN\n",
    "# data['Chemotherapy at this Facility'].fillna('Unknown', inplace=True)\n",
    "# data.loc[data['Chemotherapy at this Facility'] == \"Unknown\", 'Chemotherapy at this Facility'] = np.NaN\n",
    "# data['Chemotherapy at this Facility'].value_counts(dropna=False)"
   ]
  },
  {
   "cell_type": "code",
   "execution_count": 276,
   "metadata": {},
   "outputs": [],
   "source": [
    "# chemo_pcr = pcr_by_col(data, 'Chemotherapy at this Facility')\n",
    "# chemo_pcr.head()"
   ]
  },
  {
   "cell_type": "code",
   "execution_count": 277,
   "metadata": {},
   "outputs": [],
   "source": [
    "# chemo_pcr.to_csv('../results_p/chemo_pcr.csv')"
   ]
  },
  {
   "cell_type": "code",
   "execution_count": 278,
   "metadata": {},
   "outputs": [],
   "source": [
    "# data['Immunotherapy at this Facility'].value_counts()"
   ]
  },
  {
   "cell_type": "code",
   "execution_count": 279,
   "metadata": {},
   "outputs": [],
   "source": [
    "# data.loc[data['Immunotherapy at this Facility'] == '0.0', 'Immunotherapy at this Facility'] = 0\n",
    "# data.loc[data['Immunotherapy at this Facility'] == '1.0', 'Immunotherapy at this Facility'] = 1\n",
    "# data.loc[data['Immunotherapy at this Facility'] == '82.0', 'Immunotherapy at this Facility'] = 0\n",
    "# data.loc[data['Immunotherapy at this Facility'] == '86.0', 'Immunotherapy at this Facility'] = 0\n",
    "# data.loc[data['Immunotherapy at this Facility'] == '87.0', 'Immunotherapy at this Facility'] = 0\n",
    "# data.loc[data['Immunotherapy at this Facility'] == '88.0', 'Immunotherapy at this Facility'] = 0\n",
    "\n",
    "# data.loc[data['Immunotherapy at this Facility'] == 'nan', 'Immunotherapy at this Facility'] = np.NaN\n",
    "# data.loc[data['Immunotherapy at this Facility'] == 'None assigned', 'Immunotherapy at this Facility'] = np.NaN\n",
    "# data['Immunotherapy at this Facility'].fillna('Unknown', inplace=True)\n",
    "# data.loc[data['Immunotherapy at this Facility'] == \"Unknown\", 'Immunotherapy at this Facility'] = np.NaN\n",
    "# data['Immunotherapy at this Facility'].value_counts(dropna=False)"
   ]
  },
  {
   "cell_type": "code",
   "execution_count": 280,
   "metadata": {},
   "outputs": [
    {
     "data": {
      "text/plain": [
       "0.0    53684\n",
       "Name: Palliative Care at this Facility, dtype: int64"
      ]
     },
     "execution_count": 280,
     "metadata": {},
     "output_type": "execute_result"
    }
   ],
   "source": [
    "data['Palliative Care at this Facility'].value_counts()"
   ]
  },
  {
   "cell_type": "code",
   "execution_count": 281,
   "metadata": {},
   "outputs": [
    {
     "data": {
      "text/plain": [
       "0.0    53684\n",
       "Name: Palliative Care at this Facility, dtype: int64"
      ]
     },
     "execution_count": 281,
     "metadata": {},
     "output_type": "execute_result"
    }
   ],
   "source": [
    "data.loc[data['Palliative Care at this Facility'] == '0', 'Palliative Care at this Facility'] = 'No palliative care provided'\n",
    "data.loc[data['Palliative Care at this Facility'] == '1', 'Palliative Care at this Facility'] = 'Surgery (which may involve a bypass procedure) to alleviate symptoms, but no attempt to diagnose, stage, or treat the primary tumor is made'\n",
    "data.loc[data['Palliative Care at this Facility'] == '2', 'Palliative Care at this Facility'] = 'Radiation therapy to alleviate symptoms, but no attempt to diagnose, stage, or treat the primary tumor is made'\n",
    "data.loc[data['Palliative Care at this Facility'] == '3', 'Palliative Care at this Facility'] = 'Chemotherapy, hormone therapy, or othersystemic drugs to alleviate symptoms, but no attempt to diagnose, stage, or treat the primary tumor is made'\n",
    "data.loc[data['Palliative Care at this Facility'] == '4', 'Palliative Care at this Facility'] = 'Patient received or was referred for pain management therapy with no other palliative care'\n",
    "data.loc[data['Palliative Care at this Facility'] == '5', 'Palliative Care at this Facility'] = 'Any combination of codes 1, 2, and/or 3 without code 4'\n",
    "data.loc[data['Palliative Care at this Facility'] == '6', 'Palliative Care at this Facility'] = 'Any combination of codes 1, 2, and/or 3 with code 4'\n",
    "data.loc[data['Palliative Care at this Facility'] == '7', 'Palliative Care at this Facility'] = 'Palliative care was performed or referred, but no information on the type of procedure is available in the patient record. Palliative care was provided that does not fit the descriptions for codes 1-6'\n",
    "data.loc[data['Palliative Care at this Facility'] == '9', 'Palliative Care at this Facility'] = 'It is unknown if palliative care was performed or referred; not stated in patient record'\n",
    "\n",
    "\n",
    "data.loc[data['Palliative Care at this Facility'] == 'None assigned', 'Palliative Care at this Facility'] = np.NaN\n",
    "data['Palliative Care at this Facility'].fillna('Unknown', inplace=True)\n",
    "data.loc[data['Palliative Care at this Facility'] == \"Unknown\", 'Palliative Care at this Facility'] = np.NaN\n",
    "data['Palliative Care at this Facility'].value_counts(dropna=False)"
   ]
  },
  {
   "cell_type": "code",
   "execution_count": 282,
   "metadata": {},
   "outputs": [],
   "source": [
    "data.drop(['Palliative Care at this Facility'], axis=1, inplace=True)"
   ]
  },
  {
   "cell_type": "code",
   "execution_count": 283,
   "metadata": {},
   "outputs": [
    {
     "data": {
      "text/plain": [
       "Unknown    30344\n",
       "0.0        23205\n",
       "1.0           99\n",
       "9.0           34\n",
       "8.0            2\n",
       "Name: Metastatic Involvement Other, dtype: int64"
      ]
     },
     "execution_count": 283,
     "metadata": {},
     "output_type": "execute_result"
    }
   ],
   "source": [
    "data['Metastatic Involvement Other'].value_counts()\n"
   ]
  },
  {
   "cell_type": "code",
   "execution_count": 284,
   "metadata": {},
   "outputs": [
    {
     "data": {
      "text/plain": [
       "NaN    30380\n",
       "0.0    23205\n",
       "1.0       99\n",
       "Name: Metastatic Involvement Other, dtype: int64"
      ]
     },
     "execution_count": 284,
     "metadata": {},
     "output_type": "execute_result"
    }
   ],
   "source": [
    "data.loc[data['Metastatic Involvement Other'] == '0.0', 'Metastatic Involvement Other'] = 0\n",
    "data.loc[data['Metastatic Involvement Other'] == '1.0', 'Metastatic Involvement Other'] = 1\n",
    "data.loc[data['Metastatic Involvement Other'] == '2.0', 'Metastatic Involvement Other'] = 1\n",
    "data.loc[data['Metastatic Involvement Other'] == '9.0', 'Metastatic Involvement Other'] = np.NaN\n",
    "data.loc[data['Metastatic Involvement Other'] == '8.0', 'Metastatic Involvement Other'] = np.NaN\n",
    "data.loc[data['Metastatic Involvement Other'] == 'nan', 'Metastatic Involvement Other'] = np.NaN\n",
    "\n",
    "\n",
    "data.loc[data['Metastatic Involvement Other'] == 'None assigned', 'Metastatic Involvement Other'] = np.NaN\n",
    "data['Metastatic Involvement Other'].fillna('Unknown', inplace=True)\n",
    "data.loc[data['Metastatic Involvement Other'] == \"Unknown\", 'Metastatic Involvement Other'] = np.NaN\n",
    "data['Metastatic Involvement Other'].value_counts(dropna=False)"
   ]
  },
  {
   "cell_type": "code",
   "execution_count": 285,
   "metadata": {},
   "outputs": [],
   "source": [
    "data.drop(['Metastatic Involvement Other'], axis=1, inplace=True)"
   ]
  },
  {
   "cell_type": "code",
   "execution_count": 286,
   "metadata": {},
   "outputs": [
    {
     "data": {
      "text/plain": [
       "['Metastatic Liver Involvement', 'Metastatic Liver Involvement.1']"
      ]
     },
     "execution_count": 286,
     "metadata": {},
     "output_type": "execute_result"
    }
   ],
   "source": [
    "met_cols = [col for col in data.columns if 'Met' in col]\n",
    "met_cols"
   ]
  },
  {
   "cell_type": "code",
   "execution_count": 287,
   "metadata": {},
   "outputs": [
    {
     "data": {
      "text/plain": [
       "0.0        29877\n",
       "Unknown    23340\n",
       "1.0          412\n",
       "9.0           55\n",
       "Name: Metastatic Liver Involvement, dtype: int64"
      ]
     },
     "execution_count": 287,
     "metadata": {},
     "output_type": "execute_result"
    }
   ],
   "source": [
    "data['Metastatic Liver Involvement'].value_counts()\n"
   ]
  },
  {
   "cell_type": "code",
   "execution_count": 288,
   "metadata": {},
   "outputs": [
    {
     "data": {
      "text/plain": [
       "0.0    52745\n",
       "1.0      857\n",
       "9.0       81\n",
       "8.0        1\n",
       "Name: Metastatic Liver Involvement, dtype: int64"
      ]
     },
     "execution_count": 288,
     "metadata": {},
     "output_type": "execute_result"
    }
   ],
   "source": [
    "#if 'Metastatic Liver Involvement' is missing, fill with Metastatic Liver Involvement.1\n",
    "data.loc[data['Metastatic Liver Involvement'] == 'Unknown', 'Metastatic Liver Involvement'] = data['Metastatic Liver Involvement.1']\n",
    "data.loc[data['Metastatic Liver Involvement'].isnull(), 'Metastatic Liver Involvement'] = data['Metastatic Liver Involvement.1']\n",
    "data['Metastatic Liver Involvement'].value_counts()\n"
   ]
  },
  {
   "cell_type": "code",
   "execution_count": 289,
   "metadata": {},
   "outputs": [
    {
     "data": {
      "text/plain": [
       "0.0    52745\n",
       "1.0      857\n",
       "NaN       82\n",
       "Name: Metastatic Liver Involvement, dtype: int64"
      ]
     },
     "execution_count": 289,
     "metadata": {},
     "output_type": "execute_result"
    }
   ],
   "source": [
    "data.loc[data['Metastatic Liver Involvement'] == '0.0', 'Metastatic Liver Involvement'] = 0\n",
    "data.loc[data['Metastatic Liver Involvement'] == '1.0', 'Metastatic Liver Involvement'] = 1\n",
    "data.loc[data['Metastatic Liver Involvement'] == '8.0', 'Metastatic Liver Involvement'] = 'Unknown'\n",
    "data.loc[data['Metastatic Liver Involvement'] == '9.0', 'Metastatic Liver Involvement'] = 'Unknown'\n",
    "data.loc[data['Metastatic Liver Involvement'] == 'nan', 'Metastatic Liver Involvement'] = 'Unknown'\n",
    "\n",
    "\n",
    "data.loc[data['Metastatic Liver Involvement'] == 'None assigned', 'Metastatic Liver Involvement'] = np.NaN\n",
    "data['Metastatic Liver Involvement'].fillna('Unknown', inplace=True)\n",
    "data.loc[data['Metastatic Liver Involvement'] == \"Unknown\", 'Metastatic Liver Involvement'] = np.NaN\n",
    "data['Metastatic Liver Involvement'].value_counts(dropna=False)"
   ]
  },
  {
   "cell_type": "code",
   "execution_count": 290,
   "metadata": {},
   "outputs": [],
   "source": [
    "data.drop(['Metastatic Liver Involvement.1'], axis=1, inplace=True)"
   ]
  },
  {
   "cell_type": "code",
   "execution_count": 291,
   "metadata": {},
   "outputs": [
    {
     "data": {
      "text/plain": [
       "0.0    19076\n",
       "1.0    15699\n",
       "2.0     8730\n",
       "3.0     7492\n",
       "9.0     2687\n",
       "Name: Medicaid Expansion Status State Group, dtype: int64"
      ]
     },
     "execution_count": 291,
     "metadata": {},
     "output_type": "execute_result"
    }
   ],
   "source": [
    "data['Medicaid Expansion Status State Group'].value_counts()\n"
   ]
  },
  {
   "cell_type": "code",
   "execution_count": 292,
   "metadata": {},
   "outputs": [
    {
     "data": {
      "text/plain": [
       "Early Expansion (before 1/2014)         24429\n",
       "Non-Expansion State                     19076\n",
       "Late Expansion States (after 1/2014)     7492\n",
       "Suppressed for Ages 0-39                 2687\n",
       "Name: Medicaid Expansion Status State Group, dtype: int64"
      ]
     },
     "execution_count": 292,
     "metadata": {},
     "output_type": "execute_result"
    }
   ],
   "source": [
    "data.loc[data['Medicaid Expansion Status State Group'] == '0.0', 'Medicaid Expansion Status State Group'] = 'Non-Expansion State'\n",
    "data.loc[data['Medicaid Expansion Status State Group'] == '1.0', 'Medicaid Expansion Status State Group'] = 'Early Expansion (before 1/2014)'\n",
    "data.loc[data['Medicaid Expansion Status State Group'] == '2.0', 'Medicaid Expansion Status State Group'] = 'Early Expansion (before 1/2014)'\n",
    "data.loc[data['Medicaid Expansion Status State Group'] == '3.0', 'Medicaid Expansion Status State Group'] = 'Late Expansion States (after 1/2014)'\n",
    "data.loc[data['Medicaid Expansion Status State Group'] == '9.0', 'Medicaid Expansion Status State Group'] = 'Suppressed for Ages 0-39'\n",
    "\n",
    "data.loc[data['Medicaid Expansion Status State Group'] == 'nan', 'Medicaid Expansion Status State Group'] = np.NaN\n",
    "data.loc[data['Medicaid Expansion Status State Group'] == 'None assigned', 'Medicaid Expansion Status State Group'] = np.NaN\n",
    "data['Medicaid Expansion Status State Group'].fillna('Unknown', inplace=True)\n",
    "data.loc[data['Medicaid Expansion Status State Group'] == \"Unknown\", 'Medicaid Expansion Status State Group'] = np.NaN\n",
    "data['Medicaid Expansion Status State Group'].value_counts(dropna=False)"
   ]
  },
  {
   "cell_type": "code",
   "execution_count": 293,
   "metadata": {},
   "outputs": [],
   "source": [
    "# data['Number of Phases of Radiation Treatment to this Volume'].value_counts()\n"
   ]
  },
  {
   "cell_type": "code",
   "execution_count": 294,
   "metadata": {},
   "outputs": [],
   "source": [
    "# data.loc[data['Number of Phases of Radiation Treatment to this Volume'] == '0.0', 'Number of Phases of Radiation Treatment to this Volume'] = 'No radiation treatment'\n",
    "# data.loc[data['Number of Phases of Radiation Treatment to this Volume'] == '1.0', 'Number of Phases of Radiation Treatment to this Volume'] = '1 phase'\n",
    "# data.loc[data['Number of Phases of Radiation Treatment to this Volume'] == '2.0', 'Number of Phases of Radiation Treatment to this Volume'] = '2 phases'\n",
    "# data.loc[data['Number of Phases of Radiation Treatment to this Volume'] == '3.0', 'Number of Phases of Radiation Treatment to this Volume'] = '3 phases'\n",
    "# data.loc[data['Number of Phases of Radiation Treatment to this Volume'] == '4.0', 'Number of Phases of Radiation Treatment to this Volume'] = '4 or more phases'\n",
    "\n",
    "\n",
    "# data.loc[data['Number of Phases of Radiation Treatment to this Volume'] == 'None assigned', 'Number of Phases of Radiation Treatment to this Volume'] = np.NaN\n",
    "# data['Number of Phases of Radiation Treatment to this Volume'].fillna('Unknown', inplace=True)\n",
    "# data.loc[data['Number of Phases of Radiation Treatment to this Volume'] == \"Unknown\", 'Number of Phases of Radiation Treatment to this Volume'] = np.NaN\n",
    "# data['Number of Phases of Radiation Treatment to this Volume'].value_counts(dropna=False)"
   ]
  },
  {
   "cell_type": "code",
   "execution_count": 295,
   "metadata": {},
   "outputs": [],
   "source": [
    "# print(data.shape)\n",
    "# data = data[data['Number of Phases of Radiation Treatment to this Volume'] != 'No radiation treatment']\n",
    "# print(data.shape)"
   ]
  },
  {
   "cell_type": "code",
   "execution_count": 296,
   "metadata": {},
   "outputs": [],
   "source": [
    "# data.drop(['Number of Phases of Radiation Treatment to this Volume'], axis=1, inplace=True)"
   ]
  },
  {
   "cell_type": "code",
   "execution_count": 297,
   "metadata": {},
   "outputs": [],
   "source": [
    "# data['Radiation Treatment Discontinued Early'].value_counts()\n"
   ]
  },
  {
   "cell_type": "code",
   "execution_count": 298,
   "metadata": {},
   "outputs": [],
   "source": [
    "# data.loc[data['Radiation Treatment Discontinued Early'] == '0.0', 'Radiation Treatment Discontinued Early'] = 'No radiation treatment'\n",
    "# data.loc[data['Radiation Treatment Discontinued Early'] == '1.0', 'Radiation Treatment Discontinued Early'] = 'Radiation treatment completed as prescribed'\n",
    "# data.loc[data['Radiation Treatment Discontinued Early'] == '2.0', 'Radiation Treatment Discontinued Early'] = 'Radiation treatment discontinued early; toxicity'\n",
    "# data.loc[data['Radiation Treatment Discontinued Early'] == '3.0', 'Radiation Treatment Discontinued Early'] = 'Radiation treatment discontinued early; contraindicated to other patient risk factors (comorbid conditions, advanced age, progression of tumor prior to planned radiation, etc.'\n",
    "# data.loc[data['Radiation Treatment Discontinued Early'] == '4.0', 'Radiation Treatment Discontinued Early'] = 'Radiation treatment discontinued early; patient decision'\n",
    "\n",
    "\n",
    "# data.loc[data['Radiation Treatment Discontinued Early'] == 'None assigned', 'Radiation Treatment Discontinued Early'] = np.NaN\n",
    "# data['Radiation Treatment Discontinued Early'].fillna('Unknown', inplace=True)\n",
    "# data.loc[data['Radiation Treatment Discontinued Early'] == \"Unknown\", 'Radiation Treatment Discontinued Early'] = np.NaN\n",
    "# data['Radiation Treatment Discontinued Early'].value_counts(dropna=False)"
   ]
  },
  {
   "cell_type": "code",
   "execution_count": 299,
   "metadata": {},
   "outputs": [],
   "source": [
    "# data.drop(['Radiation Treatment Discontinued Early'], axis=1, inplace=True)"
   ]
  },
  {
   "cell_type": "code",
   "execution_count": 300,
   "metadata": {},
   "outputs": [
    {
     "data": {
      "text/html": [
       "<div>\n",
       "<style scoped>\n",
       "    .dataframe tbody tr th:only-of-type {\n",
       "        vertical-align: middle;\n",
       "    }\n",
       "\n",
       "    .dataframe tbody tr th {\n",
       "        vertical-align: top;\n",
       "    }\n",
       "\n",
       "    .dataframe thead th {\n",
       "        text-align: right;\n",
       "    }\n",
       "</style>\n",
       "<table border=\"1\" class=\"dataframe\">\n",
       "  <thead>\n",
       "    <tr style=\"text-align: right;\">\n",
       "      <th></th>\n",
       "      <th>Case Key</th>\n",
       "      <th>Facility Type</th>\n",
       "      <th>Facility Location</th>\n",
       "      <th>Age at Diagnosis</th>\n",
       "      <th>Sex</th>\n",
       "      <th>Race</th>\n",
       "      <th>Spanish Hispanic Origin</th>\n",
       "      <th>Primary Payor</th>\n",
       "      <th>Urban/Rural 2013</th>\n",
       "      <th>Great Circle Distance</th>\n",
       "      <th>Charlson-Deyo Score</th>\n",
       "      <th>Year of Diagnosis</th>\n",
       "      <th>Grade</th>\n",
       "      <th>Size of Tumor</th>\n",
       "      <th>Metastatic Liver Involvement</th>\n",
       "      <th>Lymph Vascular Invasion</th>\n",
       "      <th>CEA</th>\n",
       "      <th>CEA value</th>\n",
       "      <th>Microsatellite Instability</th>\n",
       "      <th>Perineural invasion</th>\n",
       "      <th>KRAS</th>\n",
       "      <th>Surgical Procedure of Primary Site at any CoC Facility</th>\n",
       "      <th>Radiation Surgery Sequence at any CoC Facility</th>\n",
       "      <th>Reason For No Radiation</th>\n",
       "      <th>Chemotherapy at any CoC Facility</th>\n",
       "      <th>Last Contact or Death, Months from Dx</th>\n",
       "      <th>Tumor Size Summary 2016</th>\n",
       "      <th>Percent No High School Degree Quartiles 2012-2016</th>\n",
       "      <th>Median Income Quartiles 2012-2016</th>\n",
       "      <th>Medicaid Expansion Status State Group</th>\n",
       "      <th>pstage</th>\n",
       "      <th>pcr</th>\n",
       "      <th>stage</th>\n",
       "      <th>t_stage</th>\n",
       "      <th>n_stage</th>\n",
       "      <th>m_stage</th>\n",
       "      <th>Facility Volume, Quartile</th>\n",
       "      <th>Mucinous</th>\n",
       "      <th>Villous</th>\n",
       "      <th>Signet Ring</th>\n",
       "    </tr>\n",
       "  </thead>\n",
       "  <tbody>\n",
       "    <tr>\n",
       "      <th>0</th>\n",
       "      <td>D0d14a662-dde0-4a0e-a6f0-a0e0db2d19e2</td>\n",
       "      <td>Academic/Research Program</td>\n",
       "      <td>NE</td>\n",
       "      <td>78.0</td>\n",
       "      <td>Female</td>\n",
       "      <td>White</td>\n",
       "      <td>Unknown</td>\n",
       "      <td>Medicare/Public</td>\n",
       "      <td>Urban</td>\n",
       "      <td>7.5</td>\n",
       "      <td>Score of 0</td>\n",
       "      <td>2010.0</td>\n",
       "      <td>Grade II</td>\n",
       "      <td>50.0</td>\n",
       "      <td>0</td>\n",
       "      <td>Unknown</td>\n",
       "      <td>Elevated</td>\n",
       "      <td>32.0</td>\n",
       "      <td>Unknown</td>\n",
       "      <td>NaN</td>\n",
       "      <td>Unknown</td>\n",
       "      <td>LAR</td>\n",
       "      <td>2.0</td>\n",
       "      <td>0.0</td>\n",
       "      <td>2.0</td>\n",
       "      <td>125.57</td>\n",
       "      <td>Unknown</td>\n",
       "      <td>&lt; 6.3%</td>\n",
       "      <td>&gt;=$63,333</td>\n",
       "      <td>Early Expansion (before 1/2014)</td>\n",
       "      <td>3A</td>\n",
       "      <td>0.0</td>\n",
       "      <td>2</td>\n",
       "      <td>3.0</td>\n",
       "      <td>0</td>\n",
       "      <td>0.0</td>\n",
       "      <td>1.0</td>\n",
       "      <td>0.0</td>\n",
       "      <td>0.0</td>\n",
       "      <td>0.0</td>\n",
       "    </tr>\n",
       "    <tr>\n",
       "      <th>1</th>\n",
       "      <td>Dcd9758ae-2308-45cf-bbf1-b3ab4ed2e48f</td>\n",
       "      <td>Academic/Research Program</td>\n",
       "      <td>Midwest</td>\n",
       "      <td>70.0</td>\n",
       "      <td>Male</td>\n",
       "      <td>White</td>\n",
       "      <td>Non-Hispanic</td>\n",
       "      <td>Private Insurance or Managed Care</td>\n",
       "      <td>Urban</td>\n",
       "      <td>26.5</td>\n",
       "      <td>Score of 2 or more</td>\n",
       "      <td>2012.0</td>\n",
       "      <td>Grade II</td>\n",
       "      <td>50.0</td>\n",
       "      <td>0</td>\n",
       "      <td>No</td>\n",
       "      <td>Normal</td>\n",
       "      <td>8.0</td>\n",
       "      <td>MSI high</td>\n",
       "      <td>No</td>\n",
       "      <td>Unknown</td>\n",
       "      <td>LAR</td>\n",
       "      <td>2.0</td>\n",
       "      <td>0.0</td>\n",
       "      <td>1.0</td>\n",
       "      <td>98.53</td>\n",
       "      <td>Unknown</td>\n",
       "      <td>&gt;=17.6%</td>\n",
       "      <td>&lt; $40,227</td>\n",
       "      <td>Non-Expansion State</td>\n",
       "      <td>0</td>\n",
       "      <td>1.0</td>\n",
       "      <td>2</td>\n",
       "      <td>3.0</td>\n",
       "      <td>0</td>\n",
       "      <td>0.0</td>\n",
       "      <td>1.0</td>\n",
       "      <td>0.0</td>\n",
       "      <td>0.0</td>\n",
       "      <td>0.0</td>\n",
       "    </tr>\n",
       "    <tr>\n",
       "      <th>2</th>\n",
       "      <td>D656e0503-a772-440d-a60a-c9d8bd9c520b</td>\n",
       "      <td>Academic/Research Program</td>\n",
       "      <td>NE</td>\n",
       "      <td>82.0</td>\n",
       "      <td>Male</td>\n",
       "      <td>White</td>\n",
       "      <td>Non-Hispanic</td>\n",
       "      <td>Medicare/Public</td>\n",
       "      <td>Urban</td>\n",
       "      <td>7.9</td>\n",
       "      <td>Score of 0</td>\n",
       "      <td>2017.0</td>\n",
       "      <td>Unknown</td>\n",
       "      <td>Unknown</td>\n",
       "      <td>0</td>\n",
       "      <td>Yes</td>\n",
       "      <td>Normal</td>\n",
       "      <td>34.0</td>\n",
       "      <td>MSI stable</td>\n",
       "      <td>No</td>\n",
       "      <td>Unknown</td>\n",
       "      <td>LAR</td>\n",
       "      <td>2.0</td>\n",
       "      <td>0.0</td>\n",
       "      <td>2.0</td>\n",
       "      <td>8.05</td>\n",
       "      <td>80.0</td>\n",
       "      <td>&lt; 6.3%</td>\n",
       "      <td>&gt;=$63,333</td>\n",
       "      <td>Early Expansion (before 1/2014)</td>\n",
       "      <td>3B</td>\n",
       "      <td>0.0</td>\n",
       "      <td>2</td>\n",
       "      <td>3.0</td>\n",
       "      <td>0</td>\n",
       "      <td>0.0</td>\n",
       "      <td>1.0</td>\n",
       "      <td>0.0</td>\n",
       "      <td>0.0</td>\n",
       "      <td>0.0</td>\n",
       "    </tr>\n",
       "    <tr>\n",
       "      <th>3</th>\n",
       "      <td>D67bf0834-7b7d-41c7-a320-ab0438fe764e</td>\n",
       "      <td>Academic/Research Program</td>\n",
       "      <td>Midwest</td>\n",
       "      <td>51.0</td>\n",
       "      <td>Male</td>\n",
       "      <td>White</td>\n",
       "      <td>Non-Hispanic</td>\n",
       "      <td>Private Insurance or Managed Care</td>\n",
       "      <td>Urban</td>\n",
       "      <td>Unknown</td>\n",
       "      <td>Score of 0</td>\n",
       "      <td>2011.0</td>\n",
       "      <td>Grade II</td>\n",
       "      <td>15.0</td>\n",
       "      <td>0</td>\n",
       "      <td>No</td>\n",
       "      <td>Unknown</td>\n",
       "      <td>Unknown</td>\n",
       "      <td>MSI stable</td>\n",
       "      <td>No</td>\n",
       "      <td>Unknown</td>\n",
       "      <td>LAR</td>\n",
       "      <td>2.0</td>\n",
       "      <td>0.0</td>\n",
       "      <td>2.0</td>\n",
       "      <td>69.95</td>\n",
       "      <td>Unknown</td>\n",
       "      <td>Unknown</td>\n",
       "      <td>Unknown</td>\n",
       "      <td>Early Expansion (before 1/2014)</td>\n",
       "      <td>0</td>\n",
       "      <td>1.0</td>\n",
       "      <td>3</td>\n",
       "      <td>3.0</td>\n",
       "      <td>1</td>\n",
       "      <td>0.0</td>\n",
       "      <td>1.0</td>\n",
       "      <td>0.0</td>\n",
       "      <td>0.0</td>\n",
       "      <td>0.0</td>\n",
       "    </tr>\n",
       "    <tr>\n",
       "      <th>4</th>\n",
       "      <td>D1557dfde-4686-4534-8d7f-bf743fdc51bf</td>\n",
       "      <td>Integrated Network Cancer Program</td>\n",
       "      <td>South</td>\n",
       "      <td>84.0</td>\n",
       "      <td>Male</td>\n",
       "      <td>White</td>\n",
       "      <td>Non-Hispanic</td>\n",
       "      <td>Medicare/Public</td>\n",
       "      <td>Urban</td>\n",
       "      <td>2.7</td>\n",
       "      <td>Score of 0</td>\n",
       "      <td>2015.0</td>\n",
       "      <td>Unknown</td>\n",
       "      <td>42.0</td>\n",
       "      <td>0</td>\n",
       "      <td>No</td>\n",
       "      <td>Normal</td>\n",
       "      <td>22.0</td>\n",
       "      <td>Unknown</td>\n",
       "      <td>No</td>\n",
       "      <td>Mutated</td>\n",
       "      <td>LAR</td>\n",
       "      <td>2.0</td>\n",
       "      <td>0.0</td>\n",
       "      <td>2.0</td>\n",
       "      <td>70.18</td>\n",
       "      <td>Unknown</td>\n",
       "      <td>&lt; 6.3%</td>\n",
       "      <td>$50,354 - $63,332</td>\n",
       "      <td>Non-Expansion State</td>\n",
       "      <td>1</td>\n",
       "      <td>0.0</td>\n",
       "      <td>2</td>\n",
       "      <td>3.0</td>\n",
       "      <td>0</td>\n",
       "      <td>0.0</td>\n",
       "      <td>4.0</td>\n",
       "      <td>1.0</td>\n",
       "      <td>0.0</td>\n",
       "      <td>0.0</td>\n",
       "    </tr>\n",
       "  </tbody>\n",
       "</table>\n",
       "</div>"
      ],
      "text/plain": [
       "                                Case Key                      Facility Type  \\\n",
       "0  D0d14a662-dde0-4a0e-a6f0-a0e0db2d19e2          Academic/Research Program   \n",
       "1  Dcd9758ae-2308-45cf-bbf1-b3ab4ed2e48f          Academic/Research Program   \n",
       "2  D656e0503-a772-440d-a60a-c9d8bd9c520b          Academic/Research Program   \n",
       "3  D67bf0834-7b7d-41c7-a320-ab0438fe764e          Academic/Research Program   \n",
       "4  D1557dfde-4686-4534-8d7f-bf743fdc51bf  Integrated Network Cancer Program   \n",
       "\n",
       "  Facility Location  Age at Diagnosis     Sex   Race Spanish Hispanic Origin  \\\n",
       "0                NE              78.0  Female  White                 Unknown   \n",
       "1           Midwest              70.0    Male  White            Non-Hispanic   \n",
       "2                NE              82.0    Male  White            Non-Hispanic   \n",
       "3           Midwest              51.0    Male  White            Non-Hispanic   \n",
       "4             South              84.0    Male  White            Non-Hispanic   \n",
       "\n",
       "                       Primary Payor Urban/Rural 2013 Great Circle Distance  \\\n",
       "0                    Medicare/Public            Urban                   7.5   \n",
       "1  Private Insurance or Managed Care            Urban                  26.5   \n",
       "2                    Medicare/Public            Urban                   7.9   \n",
       "3  Private Insurance or Managed Care            Urban               Unknown   \n",
       "4                    Medicare/Public            Urban                   2.7   \n",
       "\n",
       "  Charlson-Deyo Score Year of Diagnosis     Grade Size of Tumor  \\\n",
       "0          Score of 0            2010.0  Grade II          50.0   \n",
       "1  Score of 2 or more            2012.0  Grade II          50.0   \n",
       "2          Score of 0            2017.0   Unknown       Unknown   \n",
       "3          Score of 0            2011.0  Grade II          15.0   \n",
       "4          Score of 0            2015.0   Unknown          42.0   \n",
       "\n",
       "  Metastatic Liver Involvement Lymph Vascular Invasion       CEA CEA value  \\\n",
       "0                            0                 Unknown  Elevated      32.0   \n",
       "1                            0                      No    Normal       8.0   \n",
       "2                            0                     Yes    Normal      34.0   \n",
       "3                            0                      No   Unknown   Unknown   \n",
       "4                            0                      No    Normal      22.0   \n",
       "\n",
       "  Microsatellite Instability Perineural invasion     KRAS  \\\n",
       "0                    Unknown                 NaN  Unknown   \n",
       "1                   MSI high                  No  Unknown   \n",
       "2                 MSI stable                  No  Unknown   \n",
       "3                 MSI stable                  No  Unknown   \n",
       "4                    Unknown                  No  Mutated   \n",
       "\n",
       "  Surgical Procedure of Primary Site at any CoC Facility  \\\n",
       "0                                                LAR       \n",
       "1                                                LAR       \n",
       "2                                                LAR       \n",
       "3                                                LAR       \n",
       "4                                                LAR       \n",
       "\n",
       "  Radiation Surgery Sequence at any CoC Facility Reason For No Radiation  \\\n",
       "0                                            2.0                     0.0   \n",
       "1                                            2.0                     0.0   \n",
       "2                                            2.0                     0.0   \n",
       "3                                            2.0                     0.0   \n",
       "4                                            2.0                     0.0   \n",
       "\n",
       "  Chemotherapy at any CoC Facility Last Contact or Death, Months from Dx  \\\n",
       "0                              2.0                                125.57   \n",
       "1                              1.0                                 98.53   \n",
       "2                              2.0                                  8.05   \n",
       "3                              2.0                                 69.95   \n",
       "4                              2.0                                 70.18   \n",
       "\n",
       "  Tumor Size Summary 2016 Percent No High School Degree Quartiles 2012-2016  \\\n",
       "0                 Unknown                                            < 6.3%   \n",
       "1                 Unknown                                           >=17.6%   \n",
       "2                    80.0                                            < 6.3%   \n",
       "3                 Unknown                                           Unknown   \n",
       "4                 Unknown                                            < 6.3%   \n",
       "\n",
       "  Median Income Quartiles 2012-2016 Medicaid Expansion Status State Group  \\\n",
       "0                         >=$63,333       Early Expansion (before 1/2014)   \n",
       "1                         < $40,227                   Non-Expansion State   \n",
       "2                         >=$63,333       Early Expansion (before 1/2014)   \n",
       "3                           Unknown       Early Expansion (before 1/2014)   \n",
       "4                 $50,354 - $63,332                   Non-Expansion State   \n",
       "\n",
       "  pstage  pcr stage t_stage n_stage m_stage Facility Volume, Quartile  \\\n",
       "0     3A  0.0     2     3.0       0     0.0                       1.0   \n",
       "1      0  1.0     2     3.0       0     0.0                       1.0   \n",
       "2     3B  0.0     2     3.0       0     0.0                       1.0   \n",
       "3      0  1.0     3     3.0       1     0.0                       1.0   \n",
       "4      1  0.0     2     3.0       0     0.0                       4.0   \n",
       "\n",
       "   Mucinous  Villous  Signet Ring  \n",
       "0       0.0      0.0          0.0  \n",
       "1       0.0      0.0          0.0  \n",
       "2       0.0      0.0          0.0  \n",
       "3       0.0      0.0          0.0  \n",
       "4       1.0      0.0          0.0  "
      ]
     },
     "execution_count": 300,
     "metadata": {},
     "output_type": "execute_result"
    }
   ],
   "source": [
    "data.head()"
   ]
  },
  {
   "cell_type": "markdown",
   "metadata": {},
   "source": [
    "data['AJCC 8th Edition Clinical M'].value_counts()\n"
   ]
  },
  {
   "cell_type": "markdown",
   "metadata": {},
   "source": [
    "data.loc[data['AJCC 8th Edition Clinical M'] == 'CM1B', 'AJCC 8th Edition Clinical M'] = 'cM1b'\n",
    "data.loc[data['AJCC 8th Edition Clinical M'] == 'c0', 'AJCC 8th Edition Clinical M'] = 'cM0'\n",
    "\n",
    "\n",
    "data.loc[data['AJCC 8th Edition Clinical M'] == 'None assigned', 'AJCC 8th Edition Clinical M'] = np.NaN\n",
    "data['AJCC 8th Edition Clinical M'].fillna('Unknown', inplace=True)\n",
    "data.loc[data['AJCC 8th Edition Clinical M'] == \"Unknown\", 'AJCC 8th Edition Clinical M'] = np.NaN\n",
    "data['AJCC 8th Edition Clinical M'].value_counts(dropna=False)"
   ]
  },
  {
   "cell_type": "markdown",
   "metadata": {},
   "source": [
    "data['AJCC 8th Edition Clinical N'].value_counts()\n"
   ]
  },
  {
   "cell_type": "markdown",
   "metadata": {},
   "source": [
    "data.loc[data['AJCC 8th Edition Clinical N'] == 'CN0', 'AJCC 8th Edition Clinical N'] = 'cN0'\n",
    "data.loc[data['AJCC 8th Edition Clinical N'] == 'c0', 'AJCC 8th Edition Clinical N'] = 'cN0'\n",
    "\n",
    "\n",
    "data.loc[data['AJCC 8th Edition Clinical N'] == 'None assigned', 'AJCC 8th Edition Clinical N'] = np.NaN\n",
    "data['AJCC 8th Edition Clinical N'].fillna('Unknown', inplace=True)\n",
    "data.loc[data['AJCC 8th Edition Clinical N'] == \"Unknown\", 'AJCC 8th Edition Clinical N'] = np.NaN\n",
    "data['AJCC 8th Edition Clinical N'].value_counts(dropna=False)"
   ]
  },
  {
   "cell_type": "markdown",
   "metadata": {},
   "source": [
    "data['AJCC 8th Edition Clinical T'].value_counts()\n"
   ]
  },
  {
   "cell_type": "markdown",
   "metadata": {},
   "source": [
    "data.loc[data['AJCC 8th Edition Clinical T'] == 'CT1', 'AJCC 8th Edition Clinical T'] = 'cT1'\n",
    "data.loc[data['AJCC 8th Edition Clinical T'] == 'c3', 'AJCC 8th Edition Clinical T'] = 'cT3'\n",
    "\n",
    "\n",
    "data.loc[data['AJCC 8th Edition Clinical T'] == 'None assigned', 'AJCC 8th Edition Clinical T'] = np.NaN\n",
    "data['AJCC 8th Edition Clinical T'].fillna('Unknown', inplace=True)\n",
    "data.loc[data['AJCC 8th Edition Clinical T'] == \"Unknown\", 'AJCC 8th Edition Clinical T'] = np.NaN\n",
    "data['AJCC 8th Edition Clinical T'].value_counts(dropna=False)"
   ]
  },
  {
   "cell_type": "markdown",
   "metadata": {},
   "source": [
    "data.drop(['AJCC 8th Edition Clinical M', 'AJCC 8th Edition Clinical N', 'AJCC 8th Edition Clinical T'], axis=1, inplace=True)"
   ]
  },
  {
   "cell_type": "markdown",
   "metadata": {},
   "source": [
    "<h1> Define outcomes for the surg group <h1>"
   ]
  },
  {
   "cell_type": "code",
   "execution_count": 301,
   "metadata": {},
   "outputs": [],
   "source": [
    "#if Size of Tumor is missing, then fill it 'Tumor Size Summary 2016'\n",
    "data.loc[data['Size of Tumor'] == 'Unknown', 'Size of Tumor'] = data['Tumor Size Summary 2016']"
   ]
  },
  {
   "cell_type": "code",
   "execution_count": 302,
   "metadata": {},
   "outputs": [],
   "source": [
    "data.drop('Tumor Size Summary 2016', axis=1, inplace=True)"
   ]
  },
  {
   "cell_type": "code",
   "execution_count": 303,
   "metadata": {},
   "outputs": [],
   "source": [
    "num_cols = ['Age at Diagnosis', 'Great Circle Distance', 'Size of Tumor']\n",
    "# 'Surgical Dx and Staging Procedure, Days from Dx','CEA value', 'Treatment Started, Days from Dx', 'First Surgical Procedure, Days from Dx','Definitive Surgical Procedure, Days from Dx','Radiation, Days from Dx','Radiation Ended, Days from Start of Radiation','Systemic, Days from Dx','Chemotherapy, Days from Dx', 'Total Dose','days_chemo_rads'\n",
    "for x in num_cols:\n",
    "    data.loc[data[x] == 'Unknown', x] = np.NaN"
   ]
  },
  {
   "cell_type": "code",
   "execution_count": 304,
   "metadata": {},
   "outputs": [],
   "source": [
    "for x in data.columns.to_list():\n",
    "    data.loc[data[x] == 'Unknown', x] = np.NaN\n",
    "    data.loc[data[x] == 'nan', x] = np.NaN"
   ]
  },
  {
   "cell_type": "code",
   "execution_count": 305,
   "metadata": {},
   "outputs": [],
   "source": [
    "data['Year of Diagnosis'] = data['Year of Diagnosis'].astype(float)"
   ]
  },
  {
   "cell_type": "code",
   "execution_count": 306,
   "metadata": {},
   "outputs": [],
   "source": [
    "data.rename({'CEA':'CEA Interpretation', 'Perineural invasion':'Perineural Invasion', 'Urban/Rural 2013':'Urban/Rural', 'Lymph Vascular Invasion':'Lymphovascular Invasion'}, axis=1, inplace=True)\n"
   ]
  },
  {
   "cell_type": "code",
   "execution_count": 307,
   "metadata": {},
   "outputs": [
    {
     "data": {
      "text/plain": [
       "0.0    0.770844\n",
       "1.0    0.229156\n",
       "Name: pcr, dtype: float64"
      ]
     },
     "execution_count": 307,
     "metadata": {},
     "output_type": "execute_result"
    }
   ],
   "source": [
    "data['pcr'].value_counts(normalize=True)\n"
   ]
  },
  {
   "cell_type": "code",
   "execution_count": 308,
   "metadata": {},
   "outputs": [
    {
     "data": {
      "text/html": [
       "<div>\n",
       "<style scoped>\n",
       "    .dataframe tbody tr th:only-of-type {\n",
       "        vertical-align: middle;\n",
       "    }\n",
       "\n",
       "    .dataframe tbody tr th {\n",
       "        vertical-align: top;\n",
       "    }\n",
       "\n",
       "    .dataframe thead th {\n",
       "        text-align: right;\n",
       "    }\n",
       "</style>\n",
       "<table border=\"1\" class=\"dataframe\">\n",
       "  <thead>\n",
       "    <tr style=\"text-align: right;\">\n",
       "      <th>pcr</th>\n",
       "      <th>0.0</th>\n",
       "      <th>1.0</th>\n",
       "      <th>total</th>\n",
       "    </tr>\n",
       "    <tr>\n",
       "      <th>Year of Diagnosis</th>\n",
       "      <th></th>\n",
       "      <th></th>\n",
       "      <th></th>\n",
       "    </tr>\n",
       "  </thead>\n",
       "  <tbody>\n",
       "    <tr>\n",
       "      <th>2010.0</th>\n",
       "      <td>3191 (74.0%)</td>\n",
       "      <td>1130 (26.0%)</td>\n",
       "      <td>4321</td>\n",
       "    </tr>\n",
       "    <tr>\n",
       "      <th>2011.0</th>\n",
       "      <td>3326 (74.0%)</td>\n",
       "      <td>1176 (26.0%)</td>\n",
       "      <td>4502</td>\n",
       "    </tr>\n",
       "    <tr>\n",
       "      <th>2012.0</th>\n",
       "      <td>3557 (74.0%)</td>\n",
       "      <td>1270 (26.0%)</td>\n",
       "      <td>4827</td>\n",
       "    </tr>\n",
       "    <tr>\n",
       "      <th>2013.0</th>\n",
       "      <td>3908 (75.0%)</td>\n",
       "      <td>1318 (25.0%)</td>\n",
       "      <td>5226</td>\n",
       "    </tr>\n",
       "    <tr>\n",
       "      <th>2014.0</th>\n",
       "      <td>4455 (77.0%)</td>\n",
       "      <td>1349 (23.0%)</td>\n",
       "      <td>5804</td>\n",
       "    </tr>\n",
       "    <tr>\n",
       "      <th>2015.0</th>\n",
       "      <td>4435 (78.0%)</td>\n",
       "      <td>1229 (22.0%)</td>\n",
       "      <td>5664</td>\n",
       "    </tr>\n",
       "    <tr>\n",
       "      <th>2016.0</th>\n",
       "      <td>4513 (78.0%)</td>\n",
       "      <td>1285 (22.0%)</td>\n",
       "      <td>5798</td>\n",
       "    </tr>\n",
       "    <tr>\n",
       "      <th>2017.0</th>\n",
       "      <td>4398 (79.0%)</td>\n",
       "      <td>1182 (21.0%)</td>\n",
       "      <td>5580</td>\n",
       "    </tr>\n",
       "    <tr>\n",
       "      <th>2018.0</th>\n",
       "      <td>4971 (81.0%)</td>\n",
       "      <td>1192 (19.0%)</td>\n",
       "      <td>6163</td>\n",
       "    </tr>\n",
       "    <tr>\n",
       "      <th>2019.0</th>\n",
       "      <td>4628 (80.0%)</td>\n",
       "      <td>1171 (20.0%)</td>\n",
       "      <td>5799</td>\n",
       "    </tr>\n",
       "  </tbody>\n",
       "</table>\n",
       "</div>"
      ],
      "text/plain": [
       "pcr                         0.0           1.0  total\n",
       "Year of Diagnosis                                   \n",
       "2010.0             3191 (74.0%)  1130 (26.0%)   4321\n",
       "2011.0             3326 (74.0%)  1176 (26.0%)   4502\n",
       "2012.0             3557 (74.0%)  1270 (26.0%)   4827\n",
       "2013.0             3908 (75.0%)  1318 (25.0%)   5226\n",
       "2014.0             4455 (77.0%)  1349 (23.0%)   5804\n",
       "2015.0             4435 (78.0%)  1229 (22.0%)   5664\n",
       "2016.0             4513 (78.0%)  1285 (22.0%)   5798\n",
       "2017.0             4398 (79.0%)  1182 (21.0%)   5580\n",
       "2018.0             4971 (81.0%)  1192 (19.0%)   6163\n",
       "2019.0             4628 (80.0%)  1171 (20.0%)   5799"
      ]
     },
     "execution_count": 308,
     "metadata": {},
     "output_type": "execute_result"
    }
   ],
   "source": [
    "pcr_by_year = by_year(data, 'pcr')\n",
    "pcr_by_year.head(10)\n"
   ]
  },
  {
   "cell_type": "code",
   "execution_count": 309,
   "metadata": {},
   "outputs": [],
   "source": [
    "pcr_by_year.to_csv('../results/pcr_by_year.csv')"
   ]
  },
  {
   "cell_type": "code",
   "execution_count": 310,
   "metadata": {},
   "outputs": [],
   "source": [
    "data.drop(['pstage', 'Last Contact or Death, Months from Dx'], axis=1, inplace=True)"
   ]
  },
  {
   "cell_type": "code",
   "execution_count": 311,
   "metadata": {},
   "outputs": [],
   "source": [
    "cols = data.columns.to_list()\n",
    "num_cols = ['Age at Diagnosis', 'Great Circle Distance', 'Size of Tumor', 'CEA value']\n",
    "cat_cols = [x for x in cols if x not in num_cols]"
   ]
  },
  {
   "cell_type": "code",
   "execution_count": 312,
   "metadata": {},
   "outputs": [],
   "source": [
    "cat_cols.remove('pcr')"
   ]
  },
  {
   "cell_type": "code",
   "execution_count": 313,
   "metadata": {},
   "outputs": [
    {
     "name": "stdout",
     "output_type": "stream",
     "text": [
      "Radiation Surgery Sequence at any CoC Facility\n"
     ]
    }
   ],
   "source": [
    "#remove variables that have no variance across 'pcr'\n",
    "for x in cat_cols:\n",
    "    if data[x].value_counts(dropna=False).shape[0] == 1:\n",
    "        print(x)\n",
    "        data.drop(x, axis=1, inplace=True)\n",
    "        cat_cols.remove(x)\n",
    "\n"
   ]
  },
  {
   "cell_type": "code",
   "execution_count": 314,
   "metadata": {},
   "outputs": [],
   "source": [
    "data.drop(columns=['Surgical Procedure of Primary Site at any CoC Facility'], inplace=True)"
   ]
  },
  {
   "cell_type": "code",
   "execution_count": 315,
   "metadata": {},
   "outputs": [],
   "source": [
    "data.set_index('Case Key', inplace=True)\n",
    "data.to_csv('../data/data_clean.csv', index_label='Case Key')"
   ]
  },
  {
   "cell_type": "code",
   "execution_count": 316,
   "metadata": {},
   "outputs": [],
   "source": [
    "cols = data.columns.to_list()\n",
    "num_cols = ['Age at Diagnosis', 'Great Circle Distance', 'Size of Tumor', 'CEA value']\n",
    "cat_cols = [x for x in cols if x not in num_cols]"
   ]
  },
  {
   "cell_type": "code",
   "execution_count": 317,
   "metadata": {},
   "outputs": [
    {
     "name": "stderr",
     "output_type": "stream",
     "text": [
      "/home/kchen/.local/lib/python3.8/site-packages/tableone/tableone.py:991: FutureWarning: Using the level keyword in DataFrame and Series aggregations is deprecated and will be removed in a future version. Use groupby instead. df.sum(level=1) should use df.groupby(level=1).sum().\n",
      "  df['percent'] = df['freq'].div(df.freq.sum(level=0),\n",
      "/home/kchen/.local/lib/python3.8/site-packages/tableone/tableone.py:991: FutureWarning: Using the level keyword in DataFrame and Series aggregations is deprecated and will be removed in a future version. Use groupby instead. df.sum(level=1) should use df.groupby(level=1).sum().\n",
      "  df['percent'] = df['freq'].div(df.freq.sum(level=0),\n"
     ]
    }
   ],
   "source": [
    "tableone = TableOne(data, categorical=cat_cols, groupby='pcr', pval=True)"
   ]
  },
  {
   "cell_type": "code",
   "execution_count": null,
   "metadata": {},
   "outputs": [],
   "source": [
    "tableone.to_excel('../results/table1_raw2.xlsx')"
   ]
  },
  {
   "cell_type": "code",
   "execution_count": null,
   "metadata": {},
   "outputs": [],
   "source": []
  }
 ],
 "metadata": {
  "interpreter": {
   "hash": "916dbcbb3f70747c44a77c7bcd40155683ae19c65e1c03b4aa3499c5328201f1"
  },
  "kernelspec": {
   "display_name": "Python 3.8.10 64-bit",
   "language": "python",
   "name": "python3"
  },
  "language_info": {
   "codemirror_mode": {
    "name": "ipython",
    "version": 3
   },
   "file_extension": ".py",
   "mimetype": "text/x-python",
   "name": "python",
   "nbconvert_exporter": "python",
   "pygments_lexer": "ipython3",
   "version": "3.8.10"
  },
  "orig_nbformat": 4
 },
 "nbformat": 4,
 "nbformat_minor": 2
}
