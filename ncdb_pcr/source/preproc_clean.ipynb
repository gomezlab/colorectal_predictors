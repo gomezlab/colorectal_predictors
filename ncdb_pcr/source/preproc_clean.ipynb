{
 "cells": [
  {
   "cell_type": "code",
   "execution_count": 169,
   "metadata": {},
   "outputs": [],
   "source": [
    "import pandas as pd\n",
    "import numpy as np\n",
    "\n",
    "from eda_utils import *"
   ]
  },
  {
   "cell_type": "code",
   "execution_count": 170,
   "metadata": {},
   "outputs": [],
   "source": [
    "incl = [\n",
    "#IDs/Facility/Demographics/SES\n",
    " 'Case Key',\n",
    " 'Facility Key',\n",
    " 'Facility Location',\n",
    " 'Facility Type',\n",
    " 'Age at Diagnosis',\n",
    " 'Sex',\n",
    " 'Race',\n",
    " 'Spanish Hispanic Origin',\n",
    " 'Primary Payor',\n",
    " 'Census Median Income Quartiles 2008-2012',\n",
    " 'Percent No High School Degree 2008-2012',\n",
    " 'Percent No High School Degree Quartiles 2012-2016',\n",
    " 'Median Income Quartiles 2012-2016',\n",
    " 'Urban/Rural 2013',\n",
    " 'Great Circle Distance',\n",
    " 'Charlson-Deyo Score',\n",
    " 'Year of Diagnosis',\n",
    " 'Medicaid Expansion Status State Group',\n",
    "#Tumor characteristics\n",
    " 'Histology',\n",
    " 'Grade 2004-2017',\n",
    " 'Grade Clinical SSDI Item 3843',\n",
    " 'Size of Tumor',\n",
    " 'AJCC Clinical T',\n",
    " 'AJCC Clinical N',\n",
    " 'AJCC Clinical M',\n",
    " 'AJCC Clinical Stage Group',\n",
    " 'AJCC Pathologic T',\n",
    " 'AJCC Pathologic N',\n",
    " 'AJCC Pathologic M',\n",
    " 'AJCC Pathologic Stage Group',\n",
    "\n",
    " 'AJCC 8th Edition Clinical M',\n",
    " 'AJCC 8th Edition Clinical N',\n",
    " 'AJCC 8th Edition Clinical Stage Group',\n",
    " 'AJCC 8th Edition Clinical T',\n",
    " 'AJCC 8th Edition Pathologic M',\n",
    " 'AJCC 8th Edition Pathologic N',\n",
    " 'AJCC 8th Edition Pathologic Stage Group',\n",
    " 'AJCC 8th Edition Pathologic T',\n",
    " 'AJCC 8th Edition Post Pathologic Stage Group',\n",
    " 'AJCC 8th Edition Post Pathologic M',\n",
    " 'AJCC 8th Edition Post Pathologic N',\n",
    " 'AJCC 8th Edition Post Pathologic Stage Group',\n",
    " 'AJCC 8th Edition Post Pathologic T',\n",
    "\n",
    " 'Metastatic Liver Involvement',\n",
    " 'Lymph Vascular Invasion',\n",
    " 'CS Site Specific Factor 1',\n",
    " 'CS Site Specific Factor 3',\n",
    " 'CS Site Specific Factor 7',\n",
    " 'CS Site Specific Factor 8',\n",
    " 'CS Site Specific Factor 9',\n",
    "\n",
    " 'Tumor Size Summary 2016',\n",
    " 'Metastatic Involvement Other',\n",
    " 'Metastatic Liver Involvement.1',\n",
    "\n",
    " 'CEA Pretreatment Interpretation SSDI Item 3819',\n",
    " 'CEA Pretreatment Lab Value SSDI Item 3820',\n",
    " 'KRAS SSDI Item 3866',\n",
    " 'Perineural Invasion SSDI Item 3909',\n",
    " 'Microsatellite Instability (MSI) SSDI Item 3890',\n",
    "#Overall treatment characteristics\n",
    " 'Palliative Care',\n",
    " 'Palliative Care at this Facility',\n",
    "#Surgery treatment characteristics\n",
    " 'CS Site Specific Factor 5',\n",
    "#  'Surgical Dx and Staging Procedure, Days from Dx',\n",
    "#  'Surgical Diagnostic and Staging Procedure', \n",
    " 'Surgical Procedure of Primary Site at any CoC Facility',\n",
    "#  'Treatment Started, Days from Dx',\n",
    "#  'First Surgical Procedure, Days from Dx',\n",
    "#  'Definitive Surgical Procedure, Days from Dx',\n",
    "#  'Systemic/Surgery Sequence',\n",
    "#  'Reason For No Surgery of Primary Site',\n",
    "#Radiation treatment characteristics\n",
    "#  'Radiation, Days from Dx',\n",
    "#  'Location of Radiation Therapy',\n",
    " 'Radiation Surgery Sequence at any CoC Facility',\n",
    "#  'Radiation Ended, Days from Start of Radiation',\n",
    " 'Reason For No Radiation',\n",
    "#  'Number of Phases of Radiation Treatment to this Volume',\n",
    "#  'Radiation Treatment Discontinued Early',\n",
    "#  'Total Dose',\n",
    "#  'Phase I Radiation Treatment Modality',\n",
    "#Chemotherapy treatment characteristics\n",
    "#  'Systemic, Days from Dx',\n",
    "#  'Chemotherapy, Days from Dx',\n",
    " 'Chemotherapy at any CoC Facility',\n",
    "#  'Immunotherapy at any CoC Facility',\n",
    "#  'Chemotherapy at this Facility',\n",
    "#  'Immunotherapy at this Facility',\n",
    "#Outcomes\n",
    " 'Last Contact or Death, Months from Dx',\n",
    "#  'Vital Status'\n",
    "    ]"
   ]
  },
  {
   "cell_type": "markdown",
   "metadata": {},
   "source": [
    "<h6>incl = ['Case Key',\n",
    " 'Facility Location',\n",
    " 'Age at Diagnosis',\n",
    " 'Sex',\n",
    " 'Race',\n",
    " 'Spanish Hispanic Origin',\n",
    " 'Primary Payor',\n",
    " 'Census Median Income Quartiles 2008-2012',\n",
    " 'Percent No High School Degree 2008-2012',\n",
    " 'Percent No High School Degree Quartiles 2012-2016',\n",
    " 'Median Income Quartiles 2012-2016',\n",
    " 'Urban/Rural 2013',\n",
    " 'Great Circle Distance',\n",
    " 'Charlson-Deyo Score',\n",
    " 'Year of Diagnosis',\n",
    " 'Histology',\n",
    " 'Grade 2004-2017',\n",
    " 'Size of Tumor',\n",
    " 'Surgical Dx and Staging Procedure, Days from Dx',\n",
    " 'Surgical Diagnostic and Staging Procedure',\n",
    " 'AJCC Clinical T',\n",
    " 'AJCC Clinical N',\n",
    " 'AJCC Clinical M',\n",
    " 'AJCC Clinical Stage Group',\n",
    " 'AJCC Pathologic T',\n",
    " 'AJCC Pathologic N',\n",
    " 'AJCC Pathologic M',\n",
    " 'AJCC Pathologic Stage Group',\n",
    " 'TNM Edition Number',\n",
    " 'NCDB Analytic Stage Group',\n",
    " 'Metastatic Liver Involvement',\n",
    " 'Lymph Vascular Invasion',\n",
    " 'CS Site Specific Factor 1',\n",
    " 'CS Site Specific Factor 2',\n",
    " 'CS Site Specific Factor 3',\n",
    " 'CS Site Specific Factor 4',\n",
    " 'CS Site Specific Factor 5',\n",
    " 'CS Site Specific Factor 6',\n",
    " 'CS Site Specific Factor 7',\n",
    " 'CS Site Specific Factor 8',\n",
    " 'CS Site Specific Factor 9',\n",
    " 'CS Site Specific Factor 10',\n",
    " 'CS Version Number',\n",
    " 'Treatment Started, Days from Dx',\n",
    " 'First Surgical Procedure, Days from Dx',\n",
    " 'Definitive Surgical Procedure, Days from Dx',\n",
    " 'Surgical Procedure of Primary Site at any CoC Facility',\n",
    " 'Surgical Approach at this Facility',\n",
    " 'Regional Lymph Node Surgery at any CoC Facility',\n",
    " 'Surgery Other Site at any CoC Facility',\n",
    " 'Radiation, Days from Dx',\n",
    " 'Location of Radiation Therapy',\n",
    " 'Radiation Surgery Sequence at any CoC Facility',\n",
    " 'Radiation Ended, Days from Start of Radiation',\n",
    " 'Reason For No Radiation',\n",
    " 'Systemic, Days from Dx',\n",
    " 'Chemotherapy, Days from Dx',\n",
    " 'Chemotherapy at any CoC Facility',\n",
    " 'Immunotherapy, Days from Dx',\n",
    " 'Immunotherapy at any CoC Facility',\n",
    " 'Systemic/Surgery Sequence',\n",
    " 'Palliative Care',\n",
    " 'Received Treatment or Active Surveillance',\n",
    " 'Surgery of Primary Site at this Facility',\n",
    " 'Chemotherapy at this Facility',\n",
    " 'Immunotherapy at this Facility',\n",
    " 'Palliative Care at this Facility',\n",
    " 'Tumor Size Summary 2016',\n",
    " 'Metastatic Involvement Other',\n",
    " 'Distant Lymph Nodes Metastatic Involvement',\n",
    " 'Metastatic Liver Involvement.1',\n",
    " 'Medicaid Expansion Status State Group',\n",
    " 'Phase I Radiation Primary Treatment Volume',\n",
    " 'Phase I Radiation to Draining Lymph Nodes',\n",
    " 'Phase I Dose Per Fraction',\n",
    " 'Phase I Number of Fractions',\n",
    " 'Phase I External Beam Radiation Planning Technique',\n",
    " 'Phase I Total Dose',\n",
    " 'Phase I Radiation Treatment Modality',\n",
    " 'Phase II Radiation Primary Treatment Volume',\n",
    " 'Phase II Radiation to Draining Lymph Nodes',\n",
    " 'Phase II Dose Per Fraction',\n",
    " 'Phase II Number of Fractions',\n",
    " 'Phase II External Beam Radiation Planning Technique',\n",
    " 'Phase II Total Dose',\n",
    " 'Phase II Radiation Treatment Modality',\n",
    " 'Phase III Radiation Primary Treatment Volume',\n",
    " 'Phase III Radiation to Draining Lymph Nodes',\n",
    " 'Phase III Dose Per Fraction',\n",
    " 'Phase III Number of Fractions',\n",
    " 'Phase III External Beam Radiation Planning Technique',\n",
    " 'Phase III Total Dose',\n",
    " 'Phase III Radiation Treatment Modality',\n",
    " 'Number of Phases of Radiation Treatment to this Volume',\n",
    " 'Radiation Treatment Discontinued Early',\n",
    " 'Total Dose',\n",
    " 'AJCC 8th Edition Clinical M',\n",
    " 'AJCC 8th Edition Clinical N',\n",
    " 'AJCC 8th Edition Clinical N Suffix',\n",
    " 'AJCC 8th Edition Clinical Stage Group',\n",
    " 'AJCC 8th Edition Clinical T',\n",
    " 'AJCC 8th Clinical T Suffix',\n",
    " 'AJCC 8th Edition Pathologic M',\n",
    " 'AJCC 8th Edition Pathologic N',\n",
    " 'AJCC 8th Edition Pathologic N Suffix',\n",
    " 'AJCC 8th Edition Pathologic Stage Group',\n",
    " 'AJCC 8th Edition Pathologic T',\n",
    " 'AJCC 8th Edition Pathologic T Suffix',\n",
    " 'Serum Albumin Pretreatment Level SSDI Item 3930',\n",
    " 'Anemia SSDI Item 3811',\n",
    " 'B Symptoms SSDI Item 3812',\n",
    " 'CA-125 Pretreatment Interpretation SSDI Item 3818',\n",
    " 'CEA Pretreatment Interpretation SSDI Item 3819',\n",
    " 'CEA Pretreatment Lab Value SSDI Item 3820',\n",
    " 'Chromosome 19q: Loss of Heterozygosity (LOH) SSDI Item 3802',\n",
    " 'Chromosome 1p:Loss of Heterozygosity (LOH) SSDI Item 3801',\n",
    " 'Chromosome 3 Status SSDI Item 3821',\n",
    " 'Chromosome 8q Status SSDI Item 3822',\n",
    " 'Circumferential Resection Margin SSDI Item 3823',\n",
    " 'KRAS SSDI Item 3866',]<h6>"
   ]
  },
  {
   "cell_type": "code",
   "execution_count": 171,
   "metadata": {},
   "outputs": [],
   "source": [
    "drop_counts = pd.DataFrame(columns=['criteria', 'before', 'after', 'drop', '% PCR'])"
   ]
  },
  {
   "cell_type": "code",
   "execution_count": 172,
   "metadata": {},
   "outputs": [
    {
     "name": "stderr",
     "output_type": "stream",
     "text": [
      "/home/kchen/.local/lib/python3.8/site-packages/IPython/core/interactiveshell.py:3361: DtypeWarning: Columns (218) have mixed types.Specify dtype option on import or set low_memory=False.\n",
      "  exec(code_obj, self.user_global_ns, self.user_ns)\n"
     ]
    },
    {
     "data": {
      "text/plain": [
       "(363461, 65)"
      ]
     },
     "execution_count": 172,
     "metadata": {},
     "output_type": "execute_result"
    }
   ],
   "source": [
    "data = pd.read_csv('../data/rectum.csv', usecols=incl, na_values=[999, 99])\n",
    "data.shape"
   ]
  },
  {
   "cell_type": "code",
   "execution_count": 173,
   "metadata": {},
   "outputs": [],
   "source": [
    "rename_dict =   {'CS Site Specific Factor 1': 'CEA',\n",
    "                'CS Site Specific Factor 3': 'CEA value',\n",
    "               'CS Site Specific Factor 7': 'Microsatellite Instability',\n",
    "               'CS Site Specific Factor 8': 'Perineural invasion',\n",
    "               'CS Site Specific Factor 9': 'KRAS',\n",
    "               'CS Site Specific Factor 5': 'Tumor Regression Grade'}\n",
    "data.rename(columns=rename_dict, inplace=True, errors='raise')\n"
   ]
  },
  {
   "cell_type": "code",
   "execution_count": 174,
   "metadata": {},
   "outputs": [
    {
     "data": {
      "text/plain": [
       "2017    25982\n",
       "2018    25942\n",
       "2016    25390\n",
       "2019    25133\n",
       "2015    24373\n",
       "2014    24064\n",
       "2013    22738\n",
       "2012    21980\n",
       "2009    21418\n",
       "2011    21279\n",
       "2008    21218\n",
       "2007    21208\n",
       "2010    21180\n",
       "2006    20843\n",
       "2005    20526\n",
       "2004    20187\n",
       "Name: Year of Diagnosis, dtype: int64"
      ]
     },
     "execution_count": 174,
     "metadata": {},
     "output_type": "execute_result"
    }
   ],
   "source": [
    "data['Year of Diagnosis'].value_counts()"
   ]
  },
  {
   "cell_type": "code",
   "execution_count": 175,
   "metadata": {},
   "outputs": [
    {
     "data": {
      "text/plain": [
       "NaN     102840\n",
       "p3       70448\n",
       "pX       68628\n",
       "p2       43749\n",
       "p1       34655\n",
       "pIS      12394\n",
       "p0       11888\n",
       "p1A       4196\n",
       "88        4129\n",
       "p4B       3864\n",
       "p4        3587\n",
       "p4A       2309\n",
       "p1B        665\n",
       "p3B         15\n",
       "P3          13\n",
       "p3A         10\n",
       "PX           9\n",
       "X            8\n",
       "P1           7\n",
       "P2           7\n",
       "p3C          5\n",
       "pTis         5\n",
       "3            4\n",
       "1            3\n",
       "c0           3\n",
       "PIS          3\n",
       "pTX          3\n",
       "2            2\n",
       "p2B          2\n",
       "P0           2\n",
       "CX           1\n",
       "P1A          1\n",
       "P4A          1\n",
       "pT1          1\n",
       "p2A          1\n",
       "pTx          1\n",
       "pT3          1\n",
       "cTX          1\n",
       "Name: AJCC Pathologic T, dtype: int64"
      ]
     },
     "execution_count": 175,
     "metadata": {},
     "output_type": "execute_result"
    }
   ],
   "source": [
    "data['AJCC Pathologic T'].value_counts(dropna=False)"
   ]
  },
  {
   "cell_type": "code",
   "execution_count": 176,
   "metadata": {},
   "outputs": [
    {
     "data": {
      "text/plain": [
       "0      102375\n",
       "NaN     85914\n",
       "1       63524\n",
       "2A      34394\n",
       "3B      27198\n",
       "3A      11121\n",
       "3C      10778\n",
       "4A       7656\n",
       "4        6811\n",
       "88       4479\n",
       "4B       3285\n",
       "2B       2090\n",
       "2C       1894\n",
       "2         907\n",
       "3         746\n",
       "4C        288\n",
       "I           1\n",
       "Name: pstage, dtype: int64"
      ]
     },
     "execution_count": 176,
     "metadata": {},
     "output_type": "execute_result"
    }
   ],
   "source": [
    "#clean 7th edition pathologic T\n",
    "data['AJCC Pathologic T'].value_counts(dropna=False)\n",
    "\n",
    "data.loc[data['AJCC Pathologic T'] == 'P0', 'AJCC Pathologic T'] = 'p0'\n",
    "data.loc[data['AJCC Pathologic T'] == 'p0', 'AJCC Pathologic T'] = 'p0'\n",
    "data.loc[data['AJCC Pathologic T'] == 'PX', 'AJCC Pathologic T'] = 'pX'\n",
    "data.loc[data['AJCC Pathologic T'] == 'X', 'AJCC Pathologic T'] = 'pX'\n",
    "data.loc[data['AJCC Pathologic T'] == 'c0', 'AJCC Pathologic T'] = 'pX'\n",
    "data.loc[data['AJCC Pathologic T'] == 'None assigned', 'AJCC Pathologic T'] = np.NaN\n",
    "data['AJCC Pathologic T'].fillna('Unknown', inplace=True)\n",
    "data.loc[data['AJCC Pathologic T'] == \"Unknown\", 'AJCC Pathologic T'] = np.NaN\n",
    "data['AJCC Pathologic T'].value_counts(dropna=False)\n",
    "\n",
    "#clean 7th edition pathologic N\n",
    "data['AJCC Pathologic N'].value_counts(dropna=False)\n",
    "\n",
    "data.loc[data['AJCC Pathologic N'] == 'c0', 'AJCC Pathologic N'] = 'p0'\n",
    "data.loc[data['AJCC Pathologic N'] == 'P0', 'AJCC Pathologic N'] = 'p0'\n",
    "data.loc[data['AJCC Pathologic N'] == 'PX', 'AJCC Pathologic N'] = 'p0'\n",
    "data.loc[data['AJCC Pathologic N'] == 'X', 'AJCC Pathologic N'] = 'p0'\n",
    "data.loc[data['AJCC Pathologic N'] == '0', 'AJCC Pathologic N'] = 'p0'\n",
    "data.loc[data['AJCC Pathologic N'] == 'p0I-', 'AJCC Pathologic N'] = 'p0'\n",
    "data['AJCC Pathologic N'].value_counts()\n",
    "\n",
    "#clean 8th edition pathologic T\n",
    "data['AJCC 8th Edition Pathologic T'].value_counts(dropna=False)\n",
    "\n",
    "data.loc[data['AJCC 8th Edition Pathologic T'] == 'pX', 'AJCC 8th Edition Pathologic T'] = 'p0'\n",
    "data.loc[data['AJCC 8th Edition Pathologic T'] == 'c0', 'AJCC 8th Edition Pathologic T'] = 'p0'\n",
    "data.loc[data['AJCC 8th Edition Pathologic T'] == 'P0', 'AJCC 8th Edition Pathologic T'] = 'p0'\n",
    "data.loc[data['AJCC 8th Edition Pathologic T'] == 'X', 'AJCC 8th Edition Pathologic T'] = 'p0'\n",
    "data.loc[data['AJCC 8th Edition Pathologic T'] == 'PX', 'AJCC 8th Edition Pathologic T'] = 'p0'\n",
    "data.loc[data['AJCC 8th Edition Pathologic T'] == 'p0I-', 'AJCC 8th Edition Pathologic T'] = 'p0'\n",
    "data.loc[data['AJCC 8th Edition Pathologic T'] == 'p0I+', 'AJCC 8th Edition Pathologic T'] = 'p0'\n",
    "data.loc[data['AJCC 8th Edition Pathologic T'] == '0', 'AJCC 8th Edition Pathologic T'] = 'p0'\n",
    "data['AJCC 8th Edition Pathologic T'].value_counts()\n",
    "\n",
    "#clean 8th edition pathologic N\n",
    "data['AJCC 8th Edition Pathologic N'].value_counts()\n",
    "\n",
    "data.loc[data['AJCC 8th Edition Pathologic T'] == 'p0', 'AJCC 8th Edition Pathologic T'] = 'pN0'\n",
    "data['AJCC 8th Edition Pathologic N'].value_counts()\n",
    "#clean 8th edition post pathologic T\n",
    "data['AJCC 8th Edition Post Pathologic T'].value_counts()\n",
    "data.loc[data['AJCC 8th Edition Post Pathologic T'] == 'ypTX', 'AJCC 8th Edition Post Pathologic T'] = 'ypT0'\n",
    "data['AJCC 8th Edition Post Pathologic T'].value_counts()\n",
    "#clean 8th edition post pathologic N\n",
    "data['AJCC 8th Edition Post Pathologic N'].value_counts()\n",
    "data.loc[data['AJCC 8th Edition Post Pathologic N'] == 'ypNX', 'AJCC 8th Edition Post Pathologic N'] = 'ypN0'\n",
    "data.loc[data['AJCC 8th Edition Post Pathologic N'] == 'P0', 'AJCC 8th Edition Post Pathologic N'] = 'ypN0'\n",
    "data.loc[data['AJCC 8th Edition Post Pathologic N'] == 'YPN0', 'AJCC 8th Edition Post Pathologic N'] = 'ypN0'\n",
    "data['AJCC 8th Edition Post Pathologic N'].value_counts()\n",
    "#create a new variable for combined pathologic stage\n",
    "data['pstage'] = np.NaN\n",
    "#if year of diagnosis is < 2018, stage is 'AJCC Pathologic Stage Group'\n",
    "data.loc[data['Year of Diagnosis'] < 2018, 'pstage'] = data.loc[data['Year of Diagnosis'] < 2018, 'AJCC Pathologic Stage Group']\n",
    "data.loc[data['Year of Diagnosis'] >= 2018, 'pstage'] = data.loc[data['Year of Diagnosis'] >= 2018, 'AJCC 8th Edition Pathologic Stage Group']\n",
    "#if pstage is missing, fill with 7th edition stage\n",
    "data.loc[data['pstage'].isnull(), 'pstage'] = data.loc[data['pstage'].isnull(), 'AJCC Pathologic Stage Group']\n",
    "#if pstage is missing, fill with 8th edition post stage\n",
    "data.loc[data['pstage'].isnull(), 'pstage'] = data.loc[data['pstage'].isnull(), 'AJCC 8th Edition Post Pathologic Stage Group']\n",
    "data['pstage'].value_counts(dropna=False)\n",
    "\n",
    "#use T and N to create combined stage from 8th edition and 8th edition post\n",
    "data.loc[(data['AJCC 8th Edition Pathologic T'] == 'pT0') & (data['AJCC 8th Edition Pathologic N'] == 'pN0'), 'pstage'] = '0'\n",
    "data.loc[(data['AJCC Pathologic T'] == 'p0') & (data['AJCC Pathologic N'] == 'p0'), 'pstage'] = '0'\n",
    "\n",
    "data.loc[(data['AJCC 8th Edition Pathologic T'] == 'pTX') & (data['AJCC 8th Edition Pathologic N'] == 'pN0'), 'pstage'] = '0'\n",
    "data.loc[(data['AJCC Pathologic T'] == 'pX') & (data['AJCC Pathologic N'] == 'p0'), 'pstage'] = '0'\n",
    "\n",
    "data.loc[(data['AJCC 8th Edition Pathologic T'] == 'pT0') & (data['AJCC 8th Edition Pathologic N'] == 'pNX'), 'pstage'] = '0'\n",
    "data.loc[(data['AJCC Pathologic T'] == 'p0') & (data['AJCC Pathologic N'] == 'pX'), 'pstage'] = '0'\n",
    "\n",
    "data.loc[(data['AJCC 8th Edition Pathologic T'] == 'pTX') & (data['AJCC 8th Edition Pathologic N'] == 'pNX'), 'pstage'] = '0'\n",
    "data.loc[(data['AJCC Pathologic T'] == 'pX') & (data['AJCC Pathologic N'] == 'pX'), 'pstage'] = '0'\n",
    "\n",
    "data.loc[(data['AJCC 8th Edition Post Pathologic T'] == 'ypT0') & (data['AJCC 8th Edition Post Pathologic N'] == 'ypN0'), 'pstage'] = '0'\n",
    "data['pstage'].value_counts(dropna=False)\n",
    "#if 'Tumor Regression Grade' is 0, 'pstage' is '0'\n",
    "data.loc[data['Tumor Regression Grade'] == 0, 'pstage'] = '0'\n",
    "# data.loc[data['Tumor Regression Grade'] == 10, 'pstage'] = '1'\n",
    "# data.loc[data['Tumor Regression Grade'] == 20, 'pstage'] = '1'\n",
    "# data.loc[data['Tumor Regression Grade'] == 30, 'pstage'] = '1'\n",
    "data['pstage'].value_counts(dropna=False)\n",
    "\n"
   ]
  },
  {
   "cell_type": "code",
   "execution_count": 177,
   "metadata": {},
   "outputs": [
    {
     "data": {
      "text/plain": [
       "0      91016\n",
       "NaN    83761\n",
       "1      77081\n",
       "2A     34391\n",
       "3B     27193\n",
       "3A     11107\n",
       "3C     10775\n",
       "4A      7644\n",
       "4       6805\n",
       "88      4479\n",
       "4B      3283\n",
       "2B      2090\n",
       "2C      1894\n",
       "2        907\n",
       "3        746\n",
       "4C       288\n",
       "I          1\n",
       "Name: pstage, dtype: int64"
      ]
     },
     "execution_count": 177,
     "metadata": {},
     "output_type": "execute_result"
    }
   ],
   "source": [
    "data.loc[data['AJCC Pathologic T'].str.contains('is', case=False, na=False), 'pstage'] = '1'\n",
    "data.loc[data['AJCC 8th Edition Pathologic T'].str.contains('is', case=False, na=False), 'pstage'] = '1'\n",
    "data['pstage'].value_counts(dropna=False)\n"
   ]
  },
  {
   "cell_type": "code",
   "execution_count": 178,
   "metadata": {},
   "outputs": [
    {
     "data": {
      "text/plain": [
       "0.0    188684\n",
       "1.0     91016\n",
       "NaN     83761\n",
       "Name: pcr, dtype: int64"
      ]
     },
     "execution_count": 178,
     "metadata": {},
     "output_type": "execute_result"
    }
   ],
   "source": [
    "data['pcr'] = np.NaN\n",
    "data.loc[data['pstage'] == '0', 'pcr'] = 1\n",
    "data.loc[(data['pstage'] != '0') & (data['pstage'].notnull()), 'pcr'] = 0\n",
    "data['pcr'].value_counts(dropna=False)"
   ]
  },
  {
   "cell_type": "code",
   "execution_count": 179,
   "metadata": {},
   "outputs": [
    {
     "data": {
      "text/html": [
       "<div>\n",
       "<style scoped>\n",
       "    .dataframe tbody tr th:only-of-type {\n",
       "        vertical-align: middle;\n",
       "    }\n",
       "\n",
       "    .dataframe tbody tr th {\n",
       "        vertical-align: top;\n",
       "    }\n",
       "\n",
       "    .dataframe thead th {\n",
       "        text-align: right;\n",
       "    }\n",
       "</style>\n",
       "<table border=\"1\" class=\"dataframe\">\n",
       "  <thead>\n",
       "    <tr style=\"text-align: right;\">\n",
       "      <th></th>\n",
       "      <th>criteria</th>\n",
       "      <th>before</th>\n",
       "      <th>after</th>\n",
       "      <th>drop</th>\n",
       "      <th>% PCR</th>\n",
       "    </tr>\n",
       "  </thead>\n",
       "  <tbody>\n",
       "    <tr>\n",
       "      <th>0</th>\n",
       "      <td>total</td>\n",
       "      <td>0</td>\n",
       "      <td>363461</td>\n",
       "      <td>0</td>\n",
       "      <td>0.250415</td>\n",
       "    </tr>\n",
       "  </tbody>\n",
       "</table>\n",
       "</div>"
      ],
      "text/plain": [
       "  criteria before   after drop     % PCR\n",
       "0    total      0  363461    0  0.250415"
      ]
     },
     "execution_count": 179,
     "metadata": {},
     "output_type": "execute_result"
    }
   ],
   "source": [
    "drop_counts = drop_counts.append({'criteria': 'total',\n",
    "                                  'before': 0,\n",
    "                                  'after': data.shape[0],\n",
    "                                  'drop': 0,\n",
    "                                  '% PCR': data['pcr'].value_counts()[1]/data.shape[0]}, ignore_index=True)\n",
    "drop_counts.head()"
   ]
  },
  {
   "cell_type": "code",
   "execution_count": 180,
   "metadata": {},
   "outputs": [
    {
     "data": {
      "text/html": [
       "<div>\n",
       "<style scoped>\n",
       "    .dataframe tbody tr th:only-of-type {\n",
       "        vertical-align: middle;\n",
       "    }\n",
       "\n",
       "    .dataframe tbody tr th {\n",
       "        vertical-align: top;\n",
       "    }\n",
       "\n",
       "    .dataframe thead th {\n",
       "        text-align: right;\n",
       "    }\n",
       "</style>\n",
       "<table border=\"1\" class=\"dataframe\">\n",
       "  <thead>\n",
       "    <tr style=\"text-align: right;\">\n",
       "      <th></th>\n",
       "      <th>criteria</th>\n",
       "      <th>before</th>\n",
       "      <th>after</th>\n",
       "      <th>drop</th>\n",
       "      <th>% PCR</th>\n",
       "    </tr>\n",
       "  </thead>\n",
       "  <tbody>\n",
       "    <tr>\n",
       "      <th>0</th>\n",
       "      <td>total</td>\n",
       "      <td>0</td>\n",
       "      <td>363461</td>\n",
       "      <td>0</td>\n",
       "      <td>0.250415</td>\n",
       "    </tr>\n",
       "    <tr>\n",
       "      <th>1</th>\n",
       "      <td>pcr</td>\n",
       "      <td>363461</td>\n",
       "      <td>279700</td>\n",
       "      <td>83761</td>\n",
       "      <td>0.325406</td>\n",
       "    </tr>\n",
       "  </tbody>\n",
       "</table>\n",
       "</div>"
      ],
      "text/plain": [
       "  criteria  before   after   drop     % PCR\n",
       "0    total       0  363461      0  0.250415\n",
       "1      pcr  363461  279700  83761  0.325406"
      ]
     },
     "execution_count": 180,
     "metadata": {},
     "output_type": "execute_result"
    }
   ],
   "source": [
    "before = data.shape[0]\n",
    "data.dropna(subset=['pcr'], inplace=True)\n",
    "after = data.shape[0]\n",
    "drop_counts = drop_counts.append({'criteria': 'pcr',\n",
    "                                    'before': before,\n",
    "                                    'after': after,\n",
    "                                    'drop': before-after,\n",
    "                                    '% PCR': data['pcr'].value_counts()[1]/data.shape[0]}, ignore_index=True)\n",
    "drop_counts.head()"
   ]
  },
  {
   "cell_type": "code",
   "execution_count": 181,
   "metadata": {},
   "outputs": [
    {
     "data": {
      "text/html": [
       "<div>\n",
       "<style scoped>\n",
       "    .dataframe tbody tr th:only-of-type {\n",
       "        vertical-align: middle;\n",
       "    }\n",
       "\n",
       "    .dataframe tbody tr th {\n",
       "        vertical-align: top;\n",
       "    }\n",
       "\n",
       "    .dataframe thead th {\n",
       "        text-align: right;\n",
       "    }\n",
       "</style>\n",
       "<table border=\"1\" class=\"dataframe\">\n",
       "  <thead>\n",
       "    <tr style=\"text-align: right;\">\n",
       "      <th>pcr</th>\n",
       "      <th>0.0</th>\n",
       "      <th>1.0</th>\n",
       "      <th>total</th>\n",
       "    </tr>\n",
       "    <tr>\n",
       "      <th>Year of Diagnosis</th>\n",
       "      <th></th>\n",
       "      <th></th>\n",
       "      <th></th>\n",
       "    </tr>\n",
       "  </thead>\n",
       "  <tbody>\n",
       "    <tr>\n",
       "      <th>2004</th>\n",
       "      <td>10909 (59.0%)</td>\n",
       "      <td>7620 (41.0%)</td>\n",
       "      <td>18529</td>\n",
       "    </tr>\n",
       "    <tr>\n",
       "      <th>2005</th>\n",
       "      <td>10795 (59.0%)</td>\n",
       "      <td>7485 (41.0%)</td>\n",
       "      <td>18280</td>\n",
       "    </tr>\n",
       "    <tr>\n",
       "      <th>2006</th>\n",
       "      <td>10815 (59.0%)</td>\n",
       "      <td>7468 (41.0%)</td>\n",
       "      <td>18283</td>\n",
       "    </tr>\n",
       "    <tr>\n",
       "      <th>2007</th>\n",
       "      <td>10841 (59.0%)</td>\n",
       "      <td>7382 (41.0%)</td>\n",
       "      <td>18223</td>\n",
       "    </tr>\n",
       "    <tr>\n",
       "      <th>2008</th>\n",
       "      <td>10824 (61.0%)</td>\n",
       "      <td>6941 (39.0%)</td>\n",
       "      <td>17765</td>\n",
       "    </tr>\n",
       "    <tr>\n",
       "      <th>2009</th>\n",
       "      <td>11007 (61.0%)</td>\n",
       "      <td>6994 (39.0%)</td>\n",
       "      <td>18001</td>\n",
       "    </tr>\n",
       "    <tr>\n",
       "      <th>2010</th>\n",
       "      <td>11161 (66.0%)</td>\n",
       "      <td>5715 (34.0%)</td>\n",
       "      <td>16876</td>\n",
       "    </tr>\n",
       "    <tr>\n",
       "      <th>2011</th>\n",
       "      <td>11238 (67.0%)</td>\n",
       "      <td>5481 (33.0%)</td>\n",
       "      <td>16719</td>\n",
       "    </tr>\n",
       "    <tr>\n",
       "      <th>2012</th>\n",
       "      <td>11412 (67.0%)</td>\n",
       "      <td>5733 (33.0%)</td>\n",
       "      <td>17145</td>\n",
       "    </tr>\n",
       "    <tr>\n",
       "      <th>2013</th>\n",
       "      <td>12103 (68.0%)</td>\n",
       "      <td>5809 (32.0%)</td>\n",
       "      <td>17912</td>\n",
       "    </tr>\n",
       "    <tr>\n",
       "      <th>2014</th>\n",
       "      <td>12914 (69.0%)</td>\n",
       "      <td>5806 (31.0%)</td>\n",
       "      <td>18720</td>\n",
       "    </tr>\n",
       "    <tr>\n",
       "      <th>2015</th>\n",
       "      <td>13082 (73.0%)</td>\n",
       "      <td>4829 (27.0%)</td>\n",
       "      <td>17911</td>\n",
       "    </tr>\n",
       "    <tr>\n",
       "      <th>2016</th>\n",
       "      <td>13209 (76.0%)</td>\n",
       "      <td>4113 (24.0%)</td>\n",
       "      <td>17322</td>\n",
       "    </tr>\n",
       "    <tr>\n",
       "      <th>2017</th>\n",
       "      <td>13198 (78.0%)</td>\n",
       "      <td>3698 (22.0%)</td>\n",
       "      <td>16896</td>\n",
       "    </tr>\n",
       "    <tr>\n",
       "      <th>2018</th>\n",
       "      <td>13095 (81.0%)</td>\n",
       "      <td>3139 (19.0%)</td>\n",
       "      <td>16234</td>\n",
       "    </tr>\n",
       "    <tr>\n",
       "      <th>2019</th>\n",
       "      <td>12081 (81.0%)</td>\n",
       "      <td>2803 (19.0%)</td>\n",
       "      <td>14884</td>\n",
       "    </tr>\n",
       "  </tbody>\n",
       "</table>\n",
       "</div>"
      ],
      "text/plain": [
       "pcr                          0.0           1.0  total\n",
       "Year of Diagnosis                                    \n",
       "2004               10909 (59.0%)  7620 (41.0%)  18529\n",
       "2005               10795 (59.0%)  7485 (41.0%)  18280\n",
       "2006               10815 (59.0%)  7468 (41.0%)  18283\n",
       "2007               10841 (59.0%)  7382 (41.0%)  18223\n",
       "2008               10824 (61.0%)  6941 (39.0%)  17765\n",
       "2009               11007 (61.0%)  6994 (39.0%)  18001\n",
       "2010               11161 (66.0%)  5715 (34.0%)  16876\n",
       "2011               11238 (67.0%)  5481 (33.0%)  16719\n",
       "2012               11412 (67.0%)  5733 (33.0%)  17145\n",
       "2013               12103 (68.0%)  5809 (32.0%)  17912\n",
       "2014               12914 (69.0%)  5806 (31.0%)  18720\n",
       "2015               13082 (73.0%)  4829 (27.0%)  17911\n",
       "2016               13209 (76.0%)  4113 (24.0%)  17322\n",
       "2017               13198 (78.0%)  3698 (22.0%)  16896\n",
       "2018               13095 (81.0%)  3139 (19.0%)  16234\n",
       "2019               12081 (81.0%)  2803 (19.0%)  14884"
      ]
     },
     "execution_count": 181,
     "metadata": {},
     "output_type": "execute_result"
    }
   ],
   "source": [
    "initial_pcr_by_year = by_year(data, 'pcr')\n",
    "initial_pcr_by_year.head(20)"
   ]
  },
  {
   "cell_type": "code",
   "execution_count": 182,
   "metadata": {},
   "outputs": [],
   "source": [
    "initial_pcr_by_year.to_csv('../results/initial_pcr_by_year.csv')"
   ]
  },
  {
   "cell_type": "code",
   "execution_count": 183,
   "metadata": {},
   "outputs": [
    {
     "data": {
      "text/html": [
       "<div>\n",
       "<style scoped>\n",
       "    .dataframe tbody tr th:only-of-type {\n",
       "        vertical-align: middle;\n",
       "    }\n",
       "\n",
       "    .dataframe tbody tr th {\n",
       "        vertical-align: top;\n",
       "    }\n",
       "\n",
       "    .dataframe thead th {\n",
       "        text-align: right;\n",
       "    }\n",
       "</style>\n",
       "<table border=\"1\" class=\"dataframe\">\n",
       "  <thead>\n",
       "    <tr style=\"text-align: right;\">\n",
       "      <th></th>\n",
       "      <th>criteria</th>\n",
       "      <th>before</th>\n",
       "      <th>after</th>\n",
       "      <th>drop</th>\n",
       "      <th>% PCR</th>\n",
       "    </tr>\n",
       "  </thead>\n",
       "  <tbody>\n",
       "    <tr>\n",
       "      <th>0</th>\n",
       "      <td>total</td>\n",
       "      <td>0</td>\n",
       "      <td>363461</td>\n",
       "      <td>0</td>\n",
       "      <td>0.250415</td>\n",
       "    </tr>\n",
       "    <tr>\n",
       "      <th>1</th>\n",
       "      <td>pcr</td>\n",
       "      <td>363461</td>\n",
       "      <td>279700</td>\n",
       "      <td>83761</td>\n",
       "      <td>0.325406</td>\n",
       "    </tr>\n",
       "    <tr>\n",
       "      <th>2</th>\n",
       "      <td>&gt;2009</td>\n",
       "      <td>279700</td>\n",
       "      <td>170619</td>\n",
       "      <td>109081</td>\n",
       "      <td>0.276206</td>\n",
       "    </tr>\n",
       "  </tbody>\n",
       "</table>\n",
       "</div>"
      ],
      "text/plain": [
       "  criteria  before   after    drop     % PCR\n",
       "0    total       0  363461       0  0.250415\n",
       "1      pcr  363461  279700   83761  0.325406\n",
       "2    >2009  279700  170619  109081  0.276206"
      ]
     },
     "execution_count": 183,
     "metadata": {},
     "output_type": "execute_result"
    }
   ],
   "source": [
    "#2019 PUF \n",
    "before = data.shape[0]\n",
    "data = data[data['Year of Diagnosis'] > 2009]\n",
    "after = data.shape[0]\n",
    "drop = before - after\n",
    "drop_counts = drop_counts.append({'criteria': '>2009', 'before': before, 'after': after, 'drop': drop, '% PCR': data['pcr'].value_counts(dropna=False)[1]/data.shape[0]}, ignore_index=True)\n",
    "drop_counts.head()"
   ]
  },
  {
   "cell_type": "code",
   "execution_count": 184,
   "metadata": {},
   "outputs": [
    {
     "data": {
      "text/html": [
       "<div>\n",
       "<style scoped>\n",
       "    .dataframe tbody tr th:only-of-type {\n",
       "        vertical-align: middle;\n",
       "    }\n",
       "\n",
       "    .dataframe tbody tr th {\n",
       "        vertical-align: top;\n",
       "    }\n",
       "\n",
       "    .dataframe thead th {\n",
       "        text-align: right;\n",
       "    }\n",
       "</style>\n",
       "<table border=\"1\" class=\"dataframe\">\n",
       "  <thead>\n",
       "    <tr style=\"text-align: right;\">\n",
       "      <th>pcr</th>\n",
       "      <th>0.0</th>\n",
       "      <th>1.0</th>\n",
       "      <th>total</th>\n",
       "    </tr>\n",
       "    <tr>\n",
       "      <th>Year of Diagnosis</th>\n",
       "      <th></th>\n",
       "      <th></th>\n",
       "      <th></th>\n",
       "    </tr>\n",
       "  </thead>\n",
       "  <tbody>\n",
       "    <tr>\n",
       "      <th>2010</th>\n",
       "      <td>11161 (66.0%)</td>\n",
       "      <td>5715 (34.0%)</td>\n",
       "      <td>16876</td>\n",
       "    </tr>\n",
       "    <tr>\n",
       "      <th>2011</th>\n",
       "      <td>11238 (67.0%)</td>\n",
       "      <td>5481 (33.0%)</td>\n",
       "      <td>16719</td>\n",
       "    </tr>\n",
       "    <tr>\n",
       "      <th>2012</th>\n",
       "      <td>11412 (67.0%)</td>\n",
       "      <td>5733 (33.0%)</td>\n",
       "      <td>17145</td>\n",
       "    </tr>\n",
       "    <tr>\n",
       "      <th>2013</th>\n",
       "      <td>12103 (68.0%)</td>\n",
       "      <td>5809 (32.0%)</td>\n",
       "      <td>17912</td>\n",
       "    </tr>\n",
       "    <tr>\n",
       "      <th>2014</th>\n",
       "      <td>12914 (69.0%)</td>\n",
       "      <td>5806 (31.0%)</td>\n",
       "      <td>18720</td>\n",
       "    </tr>\n",
       "    <tr>\n",
       "      <th>2015</th>\n",
       "      <td>13082 (73.0%)</td>\n",
       "      <td>4829 (27.0%)</td>\n",
       "      <td>17911</td>\n",
       "    </tr>\n",
       "    <tr>\n",
       "      <th>2016</th>\n",
       "      <td>13209 (76.0%)</td>\n",
       "      <td>4113 (24.0%)</td>\n",
       "      <td>17322</td>\n",
       "    </tr>\n",
       "    <tr>\n",
       "      <th>2017</th>\n",
       "      <td>13198 (78.0%)</td>\n",
       "      <td>3698 (22.0%)</td>\n",
       "      <td>16896</td>\n",
       "    </tr>\n",
       "    <tr>\n",
       "      <th>2018</th>\n",
       "      <td>13095 (81.0%)</td>\n",
       "      <td>3139 (19.0%)</td>\n",
       "      <td>16234</td>\n",
       "    </tr>\n",
       "    <tr>\n",
       "      <th>2019</th>\n",
       "      <td>12081 (81.0%)</td>\n",
       "      <td>2803 (19.0%)</td>\n",
       "      <td>14884</td>\n",
       "    </tr>\n",
       "  </tbody>\n",
       "</table>\n",
       "</div>"
      ],
      "text/plain": [
       "pcr                          0.0           1.0  total\n",
       "Year of Diagnosis                                    \n",
       "2010               11161 (66.0%)  5715 (34.0%)  16876\n",
       "2011               11238 (67.0%)  5481 (33.0%)  16719\n",
       "2012               11412 (67.0%)  5733 (33.0%)  17145\n",
       "2013               12103 (68.0%)  5809 (32.0%)  17912\n",
       "2014               12914 (69.0%)  5806 (31.0%)  18720\n",
       "2015               13082 (73.0%)  4829 (27.0%)  17911\n",
       "2016               13209 (76.0%)  4113 (24.0%)  17322\n",
       "2017               13198 (78.0%)  3698 (22.0%)  16896\n",
       "2018               13095 (81.0%)  3139 (19.0%)  16234\n",
       "2019               12081 (81.0%)  2803 (19.0%)  14884"
      ]
     },
     "execution_count": 184,
     "metadata": {},
     "output_type": "execute_result"
    }
   ],
   "source": [
    "by_year(data, 'pcr')"
   ]
  },
  {
   "cell_type": "markdown",
   "metadata": {},
   "source": [
    "<h1>First, narrow the data to include only patients with locally advanced disease who underwent nCRT<h1>"
   ]
  },
  {
   "cell_type": "code",
   "execution_count": 185,
   "metadata": {},
   "outputs": [
    {
     "data": {
      "text/plain": [
       "132129"
      ]
     },
     "execution_count": 185,
     "metadata": {},
     "output_type": "execute_result"
    }
   ],
   "source": [
    "#if year of diagnosis is < 2018, stage is 'AJCC Clinical Stage Group'\n",
    "data['stage'] = data['AJCC 8th Edition Clinical Stage Group']\n",
    "data.loc[data['Year of Diagnosis'] < 2018, 'stage'] = data.loc[data['Year of Diagnosis'] < 2018, 'AJCC Clinical Stage Group']\n",
    "#if 'stage' is still NaN, then fill with 'AJCC Clinical Stage Group'\n",
    "data.loc[data['stage'].isnull(), 'stage'] = data.loc[data['stage'].isnull(), 'AJCC Clinical Stage Group']\n",
    "#find rows where 'stage' does not equal 'AJCC Clinical Stage Group' and show only those columns\n",
    "data.loc[(data['stage'] != data['AJCC Clinical Stage Group']) & (data['stage'].notnull() & (data['AJCC Clinical Stage Group'].notnull())), ['Case Key', 'stage', 'AJCC Clinical Stage Group']]\n",
    "data['stage'].notnull().sum()\n"
   ]
  },
  {
   "cell_type": "code",
   "execution_count": 186,
   "metadata": {},
   "outputs": [
    {
     "data": {
      "text/plain": [
       "132515"
      ]
     },
     "execution_count": 186,
     "metadata": {},
     "output_type": "execute_result"
    }
   ],
   "source": [
    "\n",
    "#fill 'stage' column based on the 'N' stage, 8th edition\n",
    "data.loc[data['AJCC 8th Edition Clinical N'].str.contains('cN1', case=False, na=False), 'stage'] = 2\n",
    "data.loc[data['AJCC 8th Edition Clinical N'].str.contains('cN2', case=False, na=False), 'stage'] = 3\n",
    "data.loc[data['AJCC 8th Edition Pathologic N'].str.contains('cN1', case=False, na=False), 'stage'] = 2\n",
    "data.loc[data['AJCC 8th Edition Pathologic N'].str.contains('cN2', case=False, na=False), 'stage'] = 3\n",
    "#fill 'stage' column based on the 'N' stage, for the rest\n",
    "data.loc[data['AJCC Clinical N'].str.contains('cN1', case=False, na=False), 'stage'] = 2\n",
    "data.loc[data['AJCC Clinical N'].str.contains('cN2', case=False, na=False), 'stage'] = 3\n",
    "data.loc[data['AJCC Pathologic N'].str.contains('cN1', case=False, na=False), 'stage'] = 2\n",
    "data.loc[data['AJCC Pathologic N'].str.contains('cN2', case=False, na=False), 'stage'] = 3\n",
    "data['stage'].notnull().sum()\n"
   ]
  },
  {
   "cell_type": "code",
   "execution_count": 187,
   "metadata": {},
   "outputs": [
    {
     "data": {
      "text/plain": [
       "c3      54934\n",
       "cX      33169\n",
       "c1      14507\n",
       "c2      13739\n",
       "cT3     12726\n",
       "NaN      8209\n",
       "cTX      6164\n",
       "pIS      5842\n",
       "c4B      5819\n",
       "cT2      3053\n",
       "c4A      2380\n",
       "cT1      1950\n",
       "c1A      1635\n",
       "cT4b     1461\n",
       "88        991\n",
       "cT4a      909\n",
       "cTis      693\n",
       "c4        691\n",
       "cT4       682\n",
       "c0        386\n",
       "c1B       340\n",
       "cT1a      193\n",
       "cT0        52\n",
       "cT1b       46\n",
       "C3         15\n",
       "X           7\n",
       "C2          5\n",
       "3           4\n",
       "CX          4\n",
       "1           3\n",
       "cTx         2\n",
       "2           2\n",
       "cT2a        1\n",
       "cT3c        1\n",
       "4           1\n",
       "C4B         1\n",
       "C1          1\n",
       "C1A         1\n",
       "Name: t_stage, dtype: int64"
      ]
     },
     "execution_count": 187,
     "metadata": {},
     "output_type": "execute_result"
    }
   ],
   "source": [
    "#clean and combine clinical stage\n",
    "data['t_stage'] = data['AJCC Clinical T']\n",
    "data['n_stage'] = data['AJCC Clinical N']\n",
    "data['m_stage'] = data['AJCC Clinical M']\n",
    "data['t_stage'] = data['t_stage'].astype(str)\n",
    "data['n_stage'] = data['n_stage'].astype(str)\n",
    "data['m_stage'] = data['m_stage'].astype(str)\n",
    "data.loc[data['t_stage'] == 'nan', 't_stage'] = np.NaN\n",
    "data.loc[data['n_stage'] == 'nan', 'n_stage'] = np.NaN\n",
    "data.loc[data['m_stage'] == 'nan', 'm_stage'] = np.NaN\n",
    "#if year of diagnosis is >= 2018 and t_stage is null, T stage is 'AJCC 8th Edition Clinical T'\n",
    "data.loc[((data['Year of Diagnosis'] >= 2018) & (data['t_stage'].isnull())), 't_stage'] = data.loc[((data['Year of Diagnosis'] >= 2018) & (data['t_stage'].isnull())), 'AJCC 8th Edition Clinical T']\n",
    "#same for n and m stages\n",
    "data.loc[((data['Year of Diagnosis'] >= 2018) & (data['n_stage'].isnull())), 'n_stage'] = data.loc[((data['Year of Diagnosis'] >= 2018) & (data['n_stage'].isnull())), 'AJCC 8th Edition Clinical N']\n",
    "data.loc[((data['Year of Diagnosis'] >= 2018) & (data['m_stage'].isnull())), 'm_stage'] = data.loc[((data['Year of Diagnosis'] >= 2018) & (data['m_stage'].isnull())), 'AJCC 8th Edition Clinical M']\n",
    "data['t_stage'].value_counts(dropna=False)\n"
   ]
  },
  {
   "cell_type": "code",
   "execution_count": 188,
   "metadata": {},
   "outputs": [
    {
     "data": {
      "text/plain": [
       "3    67680\n",
       "0    55519\n",
       "1    18676\n",
       "2    16800\n",
       "4    11944\n",
       "Name: t_stage, dtype: int64"
      ]
     },
     "execution_count": 188,
     "metadata": {},
     "output_type": "execute_result"
    }
   ],
   "source": [
    "\n",
    "#if t_stage contains 'is' or 'x', t_stage is 0\n",
    "data.loc[data['t_stage'].str.contains('is', na=False), 't_stage'] = 0\n",
    "data.loc[data['t_stage'].str.contains('x', case=False, na=False), 't_stage'] = 0\n",
    "data.loc[data['t_stage'].str.contains('1', case=False, na=False), 't_stage'] = 1\n",
    "data.loc[data['t_stage'].str.contains('2', case=False, na=False), 't_stage'] = 2\n",
    "data.loc[data['t_stage'].str.contains('3', case=False, na=False), 't_stage'] = 3\n",
    "data.loc[data['t_stage'].str.contains('4', case=False, na=False), 't_stage'] = 4\n",
    "data.loc[data['t_stage'].str.contains('is', case=False, na=False), 't_stage'] = 0\n",
    "data.loc[data['t_stage'].str.contains('0', case=False, na=False), 't_stage'] = 0\n",
    "data.loc[data['t_stage'].str.contains('88', case=False, na=False), 't_stage'] = np.NaN\n",
    "data['t_stage'].fillna(0, inplace=True)\n",
    "data['t_stage'].value_counts(dropna=False)\n"
   ]
  },
  {
   "cell_type": "code",
   "execution_count": 189,
   "metadata": {},
   "outputs": [
    {
     "data": {
      "text/plain": [
       "c0      79161\n",
       "c1      23091\n",
       "cN0     14264\n",
       "cX      12920\n",
       "NaN      6652\n",
       "c1B      5200\n",
       "cN1      5177\n",
       "c1A      4442\n",
       "c2       4214\n",
       "c2A      3212\n",
       "cNX      2087\n",
       "c2B      2067\n",
       "cN2      1909\n",
       "cN1b     1556\n",
       "cN2a     1333\n",
       "cN1a     1008\n",
       "88        991\n",
       "cN2b      794\n",
       "c1C       376\n",
       "cN1c      121\n",
       "C0         18\n",
       "0           9\n",
       "X           5\n",
       "C2          3\n",
       "C1          3\n",
       "2           2\n",
       "C1A         1\n",
       "1           1\n",
       "C1B         1\n",
       "CX          1\n",
       "Name: n_stage, dtype: int64"
      ]
     },
     "execution_count": 189,
     "metadata": {},
     "output_type": "execute_result"
    }
   ],
   "source": [
    "data['n_stage'].value_counts(dropna=False)\n"
   ]
  },
  {
   "cell_type": "code",
   "execution_count": 190,
   "metadata": {},
   "outputs": [
    {
     "data": {
      "text/plain": [
       "0.0    115117\n",
       "1.0     40977\n",
       "2.0     13534\n",
       "NaN       991\n",
       "Name: n_stage, dtype: int64"
      ]
     },
     "execution_count": 190,
     "metadata": {},
     "output_type": "execute_result"
    }
   ],
   "source": [
    "\n",
    "data.loc[data['n_stage'].str.contains('is', case=False, na=False), 'n_stage'] = 0\n",
    "data.loc[data['n_stage'].str.contains('0', case=False, na=False), 'n_stage'] = 0\n",
    "data['n_stage'].fillna(0, inplace=True)\n",
    "data.loc[data['n_stage'].str.contains('1', case=False, na=False), 'n_stage'] = 1\n",
    "data.loc[data['n_stage'].str.contains('2', case=False, na=False), 'n_stage'] = 2\n",
    "data.loc[data['n_stage'].str.contains('3', case=False, na=False), 'n_stage'] = 3\n",
    "data.loc[data['n_stage'].str.contains('4', case=False, na=False), 'n_stage'] = 4\n",
    "data.loc[data['n_stage'].str.contains('x', case=False, na=False), 'n_stage'] = 0\n",
    "data.loc[data['n_stage'].str.contains('88', case=False, na=False), 'n_stage'] = np.NaN\n",
    "data['n_stage'].value_counts(dropna=False)\n"
   ]
  },
  {
   "cell_type": "code",
   "execution_count": 191,
   "metadata": {},
   "outputs": [
    {
     "data": {
      "text/plain": [
       "0    148738\n",
       "1     21881\n",
       "Name: m_stage, dtype: int64"
      ]
     },
     "execution_count": 191,
     "metadata": {},
     "output_type": "execute_result"
    }
   ],
   "source": [
    "data['m_stage'].value_counts(dropna=False)\n",
    "data['m_stage'].fillna('0', inplace=True)\n",
    "data.loc[data['m_stage'].str.contains('is', case=False, na=False), 'm_stage'] = '0'\n",
    "data.loc[data['m_stage'].str.contains('0', case=False, na=False), 'm_stage'] = '0'\n",
    "data.loc[data['m_stage'].str.contains('1', case=False, na=False), 'm_stage'] = '1'\n",
    "data.loc[data['m_stage'].str.contains('88', case=False, na=False), 'm_stage'] = '0'\n",
    "data.loc[data['m_stage'].str.contains('x', case=False, na=False), 'm_stage'] = '0'\n",
    "data['m_stage'] = data['m_stage'].astype(int)\n",
    "data['m_stage'].value_counts(dropna=False)\n"
   ]
  },
  {
   "cell_type": "code",
   "execution_count": 192,
   "metadata": {},
   "outputs": [
    {
     "data": {
      "text/plain": [
       "1     27869\n",
       "2A    27297\n",
       "3B    24225\n",
       "4A    10662\n",
       "2      7863\n",
       "0      7065\n",
       "4B     6459\n",
       "3A     4222\n",
       "3C     4138\n",
       "3      4036\n",
       "4      2474\n",
       "2C     2065\n",
       "2B     1171\n",
       "88     1029\n",
       "3       937\n",
       "2       821\n",
       "4C      182\n",
       "Name: stage, dtype: int64"
      ]
     },
     "execution_count": 192,
     "metadata": {},
     "output_type": "execute_result"
    }
   ],
   "source": [
    "data['stage'].value_counts()"
   ]
  },
  {
   "cell_type": "code",
   "execution_count": 193,
   "metadata": {},
   "outputs": [
    {
     "data": {
      "text/plain": [
       "3    67680\n",
       "0    55519\n",
       "1    18676\n",
       "2    16800\n",
       "4    11944\n",
       "Name: t_stage, dtype: int64"
      ]
     },
     "execution_count": 193,
     "metadata": {},
     "output_type": "execute_result"
    }
   ],
   "source": [
    "data['t_stage'].value_counts(dropna=False)"
   ]
  },
  {
   "cell_type": "code",
   "execution_count": 194,
   "metadata": {},
   "outputs": [],
   "source": [
    "data['stage'] = data['stage'].astype(str)"
   ]
  },
  {
   "cell_type": "code",
   "execution_count": 195,
   "metadata": {},
   "outputs": [
    {
     "data": {
      "text/plain": [
       "nan    38104\n",
       "1      27869\n",
       "2A     27297\n",
       "3B     24225\n",
       "4A     10662\n",
       "2       8684\n",
       "0       7065\n",
       "4B      6459\n",
       "3       4973\n",
       "3A      4222\n",
       "3C      4138\n",
       "4       2474\n",
       "2C      2065\n",
       "2B      1171\n",
       "88      1029\n",
       "4C       182\n",
       "Name: stage, dtype: int64"
      ]
     },
     "execution_count": 195,
     "metadata": {},
     "output_type": "execute_result"
    }
   ],
   "source": [
    "data.loc[data['stage'] == 2, 'stage'] = '2'\n",
    "data.loc[data['stage'] == 3, 'stage'] = '3'\n",
    "data['stage'].value_counts(dropna=False)"
   ]
  },
  {
   "cell_type": "markdown",
   "metadata": {},
   "source": [
    "data.loc[(data['stage'] == '2') & (data['t_stage'] == 3) & (data['n_stage'] == 0), 'stage'] = '2A'\n",
    "data.loc[(data['stage'] == '2') & (data['t_stage'] == 3) & (data['n_stage'] == 0), 'stage'] = '2A'\n",
    "data.loc[(data['stage'] == '2') & (data['t_stage'] == 4) & (data['n_stage'] == 0), 'stage'] = '2B'\n",
    "\n",
    "data.loc[(data['stage'] == '2') & (data['t_stage'] == 0) & (data['n_stage'] == 0), 'stage'] = '2A'\n",
    "data.loc[(data['stage'] == '2') & (data['t_stage'] == 1) & (data['n_stage'] == 0), 'stage'] = '2A'\n",
    "data.loc[(data['stage'] == '2') & (data['t_stage'] == 2) & (data['n_stage'] == 0), 'stage'] = '2A'\n",
    "data.loc[(data['stage'] == '2') & (data['t_stage'] == 0) & (data['n_stage'] == 1), 'stage'] = '2A'\n",
    "data.loc[(data['stage'] == '2') & (data['t_stage'] == 1) & (data['n_stage'] == 1), 'stage'] = '3A'\n",
    "data.loc[(data['stage'] == '2') & (data['t_stage'] == 2) & (data['n_stage'] == 1), 'stage'] = '3A'\n",
    "data.loc[(data['stage'] == '2') & (data['t_stage'] == 3) & (data['n_stage'] == 1), 'stage'] = '3A'\n",
    "data.loc[(data['stage'] == '2') & (data['t_stage'] == 4) & (data['n_stage'] == 1), 'stage'] = '3A'\n",
    "data.loc[(data['stage'] == '2') & (data['t_stage'] == 0) & (data['n_stage'] == 2), 'stage'] = '3B'\n",
    "data.loc[(data['stage'] == '2') & (data['t_stage'] == 3) & (data['n_stage'] == 2), 'stage'] = '3B'\n",
    "\n",
    "data.loc[(data['stage'] == '3') & (data['t_stage'] == 1) & (data['n_stage'] == 1), 'stage'] = '3A'\n",
    "data.loc[(data['stage'] == '3') & (data['t_stage'] == 2) & (data['n_stage'] == 1), 'stage'] = '3A'\n",
    "data.loc[(data['stage'] == '3') & (data['t_stage'] == 1) & (data['n_stage'] == 2), 'stage'] = '3A'\n",
    "data.loc[(data['stage'] == '3') & (data['t_stage'] == 3) & (data['n_stage'] == 1), 'stage'] = '3B'\n",
    "data.loc[(data['stage'] == '3') & (data['t_stage'] == 2) & (data['n_stage'] == 2), 'stage'] = '3B'\n",
    "data.loc[(data['stage'] == '3') & (data['t_stage'] == 3) & (data['n_stage'] == 2), 'stage'] = '3B'\n",
    "data.loc[(data['stage'] == '3') & (data['t_stage'] == 4) & (data['n_stage'] == 2), 'stage'] = '3B'\n",
    "data.loc[(data['stage'] == '3') & (data['t_stage'] == 4) & (data['n_stage'] == 2), 'stage'] = '3B'\n",
    "\n",
    "data.loc[(data['stage'] == '3') & (data['t_stage'] == 0) & (data['n_stage'] == 0), 'stage'] = '3A'\n",
    "data.loc[(data['stage'] == '3') & (data['t_stage'] == 1) & (data['n_stage'] == 0), 'stage'] = '3A'\n",
    "data.loc[(data['stage'] == '3') & (data['t_stage'] == 2) & (data['n_stage'] == 0), 'stage'] = '3A'\n",
    "data.loc[(data['stage'] == '3') & (data['t_stage'] == 3) & (data['n_stage'] == 0), 'stage'] = '3A'\n",
    "data.loc[(data['stage'] == '3') & (data['t_stage'] == 4) & (data['n_stage'] == 0), 'stage'] = '3A'\n",
    "data.loc[(data['stage'] == '3') & (data['t_stage'] == 0) & (data['n_stage'] == 1), 'stage'] = '3A'\n",
    "data.loc[(data['stage'] == '3') & (data['t_stage'] == 4) & (data['n_stage'] == 1), 'stage'] = '3A'\n",
    "data.loc[(data['stage'] == '3') & (data['t_stage'] == 0) & (data['n_stage'] == 2), 'stage'] = '3B'\n",
    "data['stage'].value_counts(dropna=False)"
   ]
  },
  {
   "cell_type": "code",
   "execution_count": 196,
   "metadata": {},
   "outputs": [
    {
     "data": {
      "text/html": [
       "<div>\n",
       "<style scoped>\n",
       "    .dataframe tbody tr th:only-of-type {\n",
       "        vertical-align: middle;\n",
       "    }\n",
       "\n",
       "    .dataframe tbody tr th {\n",
       "        vertical-align: top;\n",
       "    }\n",
       "\n",
       "    .dataframe thead th {\n",
       "        text-align: right;\n",
       "    }\n",
       "</style>\n",
       "<table border=\"1\" class=\"dataframe\">\n",
       "  <thead>\n",
       "    <tr style=\"text-align: right;\">\n",
       "      <th></th>\n",
       "      <th>criteria</th>\n",
       "      <th>before</th>\n",
       "      <th>after</th>\n",
       "      <th>drop</th>\n",
       "      <th>% PCR</th>\n",
       "    </tr>\n",
       "  </thead>\n",
       "  <tbody>\n",
       "    <tr>\n",
       "      <th>0</th>\n",
       "      <td>total</td>\n",
       "      <td>0</td>\n",
       "      <td>363461</td>\n",
       "      <td>0</td>\n",
       "      <td>0.250415</td>\n",
       "    </tr>\n",
       "    <tr>\n",
       "      <th>1</th>\n",
       "      <td>pcr</td>\n",
       "      <td>363461</td>\n",
       "      <td>279700</td>\n",
       "      <td>83761</td>\n",
       "      <td>0.325406</td>\n",
       "    </tr>\n",
       "    <tr>\n",
       "      <th>2</th>\n",
       "      <td>&gt;2009</td>\n",
       "      <td>279700</td>\n",
       "      <td>170619</td>\n",
       "      <td>109081</td>\n",
       "      <td>0.276206</td>\n",
       "    </tr>\n",
       "    <tr>\n",
       "      <th>3</th>\n",
       "      <td>missing stage</td>\n",
       "      <td>170619</td>\n",
       "      <td>131486</td>\n",
       "      <td>39133</td>\n",
       "      <td>0.299872</td>\n",
       "    </tr>\n",
       "  </tbody>\n",
       "</table>\n",
       "</div>"
      ],
      "text/plain": [
       "        criteria  before   after    drop     % PCR\n",
       "0          total       0  363461       0  0.250415\n",
       "1            pcr  363461  279700   83761  0.325406\n",
       "2          >2009  279700  170619  109081  0.276206\n",
       "3  missing stage  170619  131486   39133  0.299872"
      ]
     },
     "execution_count": 196,
     "metadata": {},
     "output_type": "execute_result"
    }
   ],
   "source": [
    "#drop rows where 'stage' is NaN or 1\n",
    "data.loc[data['stage'] == 'nan', 'stage'] = np.NaN\n",
    "before = data.shape[0]\n",
    "data = data.dropna(subset=['stage'])\n",
    "data = data[data['stage'] != '88']\n",
    "after = data.shape[0]\n",
    "drop_counts = drop_counts.append({'criteria': 'missing stage', 'before': before, 'after': after, 'drop': before - after, '% PCR': data['pcr'].value_counts()[1]/data.shape[0]}, ignore_index=True)\n",
    "drop_counts.head()\n"
   ]
  },
  {
   "cell_type": "code",
   "execution_count": 197,
   "metadata": {},
   "outputs": [
    {
     "data": {
      "text/html": [
       "<div>\n",
       "<style scoped>\n",
       "    .dataframe tbody tr th:only-of-type {\n",
       "        vertical-align: middle;\n",
       "    }\n",
       "\n",
       "    .dataframe tbody tr th {\n",
       "        vertical-align: top;\n",
       "    }\n",
       "\n",
       "    .dataframe thead th {\n",
       "        text-align: right;\n",
       "    }\n",
       "</style>\n",
       "<table border=\"1\" class=\"dataframe\">\n",
       "  <thead>\n",
       "    <tr style=\"text-align: right;\">\n",
       "      <th></th>\n",
       "      <th>criteria</th>\n",
       "      <th>before</th>\n",
       "      <th>after</th>\n",
       "      <th>drop</th>\n",
       "      <th>% PCR</th>\n",
       "    </tr>\n",
       "  </thead>\n",
       "  <tbody>\n",
       "    <tr>\n",
       "      <th>0</th>\n",
       "      <td>total</td>\n",
       "      <td>0</td>\n",
       "      <td>363461</td>\n",
       "      <td>0</td>\n",
       "      <td>0.250415</td>\n",
       "    </tr>\n",
       "    <tr>\n",
       "      <th>1</th>\n",
       "      <td>pcr</td>\n",
       "      <td>363461</td>\n",
       "      <td>279700</td>\n",
       "      <td>83761</td>\n",
       "      <td>0.325406</td>\n",
       "    </tr>\n",
       "    <tr>\n",
       "      <th>2</th>\n",
       "      <td>&gt;2009</td>\n",
       "      <td>279700</td>\n",
       "      <td>170619</td>\n",
       "      <td>109081</td>\n",
       "      <td>0.276206</td>\n",
       "    </tr>\n",
       "    <tr>\n",
       "      <th>3</th>\n",
       "      <td>missing stage</td>\n",
       "      <td>170619</td>\n",
       "      <td>131486</td>\n",
       "      <td>39133</td>\n",
       "      <td>0.299872</td>\n",
       "    </tr>\n",
       "    <tr>\n",
       "      <th>4</th>\n",
       "      <td>Exclude stage 1</td>\n",
       "      <td>131486</td>\n",
       "      <td>96552</td>\n",
       "      <td>34934</td>\n",
       "      <td>0.324281</td>\n",
       "    </tr>\n",
       "  </tbody>\n",
       "</table>\n",
       "</div>"
      ],
      "text/plain": [
       "          criteria  before   after    drop     % PCR\n",
       "0            total       0  363461       0  0.250415\n",
       "1              pcr  363461  279700   83761  0.325406\n",
       "2            >2009  279700  170619  109081  0.276206\n",
       "3    missing stage  170619  131486   39133  0.299872\n",
       "4  Exclude stage 1  131486   96552   34934  0.324281"
      ]
     },
     "execution_count": 197,
     "metadata": {},
     "output_type": "execute_result"
    }
   ],
   "source": [
    "before = data.shape[0]\n",
    "data = data[data['stage'] != '1']\n",
    "data = data[data['stage'] != 'I']\n",
    "data = data[data['stage'] != 'c1']\n",
    "data = data[data['stage'] != '0']\n",
    "after = data.shape[0]\n",
    "drop_counts = drop_counts.append({'criteria': 'Exclude stage 1', 'before': before, 'after': after, 'drop': before - after, '% PCR': data['pcr'].value_counts()[1]/data.shape[0]}, ignore_index=True)\n",
    "drop_counts.head()\n"
   ]
  },
  {
   "cell_type": "code",
   "execution_count": 198,
   "metadata": {},
   "outputs": [
    {
     "data": {
      "text/html": [
       "<div>\n",
       "<style scoped>\n",
       "    .dataframe tbody tr th:only-of-type {\n",
       "        vertical-align: middle;\n",
       "    }\n",
       "\n",
       "    .dataframe tbody tr th {\n",
       "        vertical-align: top;\n",
       "    }\n",
       "\n",
       "    .dataframe thead th {\n",
       "        text-align: right;\n",
       "    }\n",
       "</style>\n",
       "<table border=\"1\" class=\"dataframe\">\n",
       "  <thead>\n",
       "    <tr style=\"text-align: right;\">\n",
       "      <th></th>\n",
       "      <th>criteria</th>\n",
       "      <th>before</th>\n",
       "      <th>after</th>\n",
       "      <th>drop</th>\n",
       "      <th>% PCR</th>\n",
       "    </tr>\n",
       "  </thead>\n",
       "  <tbody>\n",
       "    <tr>\n",
       "      <th>0</th>\n",
       "      <td>total</td>\n",
       "      <td>0</td>\n",
       "      <td>363461</td>\n",
       "      <td>0</td>\n",
       "      <td>0.250415</td>\n",
       "    </tr>\n",
       "    <tr>\n",
       "      <th>1</th>\n",
       "      <td>pcr</td>\n",
       "      <td>363461</td>\n",
       "      <td>279700</td>\n",
       "      <td>83761</td>\n",
       "      <td>0.325406</td>\n",
       "    </tr>\n",
       "    <tr>\n",
       "      <th>2</th>\n",
       "      <td>&gt;2009</td>\n",
       "      <td>279700</td>\n",
       "      <td>170619</td>\n",
       "      <td>109081</td>\n",
       "      <td>0.276206</td>\n",
       "    </tr>\n",
       "    <tr>\n",
       "      <th>3</th>\n",
       "      <td>missing stage</td>\n",
       "      <td>170619</td>\n",
       "      <td>131486</td>\n",
       "      <td>39133</td>\n",
       "      <td>0.299872</td>\n",
       "    </tr>\n",
       "    <tr>\n",
       "      <th>4</th>\n",
       "      <td>Exclude stage 1</td>\n",
       "      <td>131486</td>\n",
       "      <td>96552</td>\n",
       "      <td>34934</td>\n",
       "      <td>0.324281</td>\n",
       "    </tr>\n",
       "    <tr>\n",
       "      <th>5</th>\n",
       "      <td>Exclude stage 4</td>\n",
       "      <td>96552</td>\n",
       "      <td>79249</td>\n",
       "      <td>17303</td>\n",
       "      <td>0.292925</td>\n",
       "    </tr>\n",
       "  </tbody>\n",
       "</table>\n",
       "</div>"
      ],
      "text/plain": [
       "          criteria  before   after    drop     % PCR\n",
       "0            total       0  363461       0  0.250415\n",
       "1              pcr  363461  279700   83761  0.325406\n",
       "2            >2009  279700  170619  109081  0.276206\n",
       "3    missing stage  170619  131486   39133  0.299872\n",
       "4  Exclude stage 1  131486   96552   34934  0.324281\n",
       "5  Exclude stage 4   96552   79249   17303  0.292925"
      ]
     },
     "execution_count": 198,
     "metadata": {},
     "output_type": "execute_result"
    }
   ],
   "source": [
    "before = data.shape[0]\n",
    "data = data[data['stage'] != '4A']\n",
    "data = data[data['stage'] != '4B']\n",
    "data = data[data['stage'] != '4C']\n",
    "\n",
    "after = data.shape[0]\n",
    "drop_counts = drop_counts.append({'criteria': 'Exclude stage 4', 'before': before, 'after': after, 'drop': before - after, '% PCR': data['pcr'].value_counts()[1]/data.shape[0]}, ignore_index=True)\n",
    "drop_counts.head(6)"
   ]
  },
  {
   "cell_type": "code",
   "execution_count": 199,
   "metadata": {},
   "outputs": [
    {
     "data": {
      "text/plain": [
       "2    39217\n",
       "3    37558\n",
       "4     2474\n",
       "Name: stage, dtype: int64"
      ]
     },
     "execution_count": 199,
     "metadata": {},
     "output_type": "execute_result"
    }
   ],
   "source": [
    "data.loc[data['stage'] == '2A', 'stage'] = '2'\n",
    "data.loc[data['stage'] == '2B', 'stage'] = '2'\n",
    "data.loc[data['stage'] == '2C', 'stage'] = '2'\n",
    "data.loc[data['stage'] == '3A', 'stage'] = '3'\n",
    "data.loc[data['stage'] == '3B', 'stage'] = '3'\n",
    "data.loc[data['stage'] == '3C', 'stage'] = '3'\n",
    "data.loc[data['stage'] == '4A', 'stage'] = '4'\n",
    "data.loc[data['stage'] == '4B', 'stage'] = '4'\n",
    "data.loc[data['stage'] == '4C', 'stage'] = '4'\n",
    "data['stage'].value_counts()"
   ]
  },
  {
   "cell_type": "code",
   "execution_count": 200,
   "metadata": {},
   "outputs": [],
   "source": [
    "clin_stages =  ['AJCC Clinical T',\n",
    " 'AJCC Clinical N',\n",
    " 'AJCC Clinical M',\n",
    " 'AJCC Clinical Stage Group',\n",
    " 'AJCC 8th Edition Clinical M',\n",
    " 'AJCC 8th Edition Clinical N',\n",
    " 'AJCC 8th Edition Clinical Stage Group',\n",
    " 'AJCC 8th Edition Clinical T']\n",
    "data.drop(clin_stages, axis=1, inplace=True)"
   ]
  },
  {
   "cell_type": "code",
   "execution_count": 201,
   "metadata": {},
   "outputs": [],
   "source": [
    "drop = ['AJCC 8th Edition Pathologic M',\n",
    "        'AJCC 8th Edition Pathologic N',\n",
    "        'AJCC 8th Edition Pathologic Stage Group',\n",
    "        'AJCC 8th Edition Pathologic T',\n",
    "        'AJCC 8th Edition Post Pathologic M',\n",
    "        'AJCC 8th Edition Post Pathologic N',\n",
    "        'AJCC 8th Edition Post Pathologic Stage Group',\n",
    "        'AJCC 8th Edition Post Pathologic T',\n",
    "        'AJCC Pathologic M',\n",
    "        'AJCC Pathologic N',\n",
    "        'AJCC Pathologic Stage Group',\n",
    "        'AJCC Pathologic T',\n",
    "        'Tumor Regression Grade',\n",
    " ]\n",
    "data.drop(drop, axis=1, inplace=True)"
   ]
  },
  {
   "cell_type": "code",
   "execution_count": 202,
   "metadata": {},
   "outputs": [
    {
     "data": {
      "text/plain": [
       "0    66670\n",
       "1     8845\n",
       "9     1385\n",
       "7     1044\n",
       "2      920\n",
       "8      160\n",
       "6      151\n",
       "5       74\n",
       "Name: Reason For No Radiation, dtype: int64"
      ]
     },
     "execution_count": 202,
     "metadata": {},
     "output_type": "execute_result"
    }
   ],
   "source": [
    "data['Reason For No Radiation'].value_counts()"
   ]
  },
  {
   "cell_type": "code",
   "execution_count": 203,
   "metadata": {},
   "outputs": [
    {
     "data": {
      "text/html": [
       "<div>\n",
       "<style scoped>\n",
       "    .dataframe tbody tr th:only-of-type {\n",
       "        vertical-align: middle;\n",
       "    }\n",
       "\n",
       "    .dataframe tbody tr th {\n",
       "        vertical-align: top;\n",
       "    }\n",
       "\n",
       "    .dataframe thead th {\n",
       "        text-align: right;\n",
       "    }\n",
       "</style>\n",
       "<table border=\"1\" class=\"dataframe\">\n",
       "  <thead>\n",
       "    <tr style=\"text-align: right;\">\n",
       "      <th></th>\n",
       "      <th>criteria</th>\n",
       "      <th>before</th>\n",
       "      <th>after</th>\n",
       "      <th>drop</th>\n",
       "      <th>% PCR</th>\n",
       "    </tr>\n",
       "  </thead>\n",
       "  <tbody>\n",
       "    <tr>\n",
       "      <th>0</th>\n",
       "      <td>total</td>\n",
       "      <td>0</td>\n",
       "      <td>363461</td>\n",
       "      <td>0</td>\n",
       "      <td>0.250415</td>\n",
       "    </tr>\n",
       "    <tr>\n",
       "      <th>1</th>\n",
       "      <td>pcr</td>\n",
       "      <td>363461</td>\n",
       "      <td>279700</td>\n",
       "      <td>83761</td>\n",
       "      <td>0.325406</td>\n",
       "    </tr>\n",
       "    <tr>\n",
       "      <th>2</th>\n",
       "      <td>&gt;2009</td>\n",
       "      <td>279700</td>\n",
       "      <td>170619</td>\n",
       "      <td>109081</td>\n",
       "      <td>0.276206</td>\n",
       "    </tr>\n",
       "    <tr>\n",
       "      <th>3</th>\n",
       "      <td>missing stage</td>\n",
       "      <td>170619</td>\n",
       "      <td>131486</td>\n",
       "      <td>39133</td>\n",
       "      <td>0.299872</td>\n",
       "    </tr>\n",
       "    <tr>\n",
       "      <th>4</th>\n",
       "      <td>Exclude stage 1</td>\n",
       "      <td>131486</td>\n",
       "      <td>96552</td>\n",
       "      <td>34934</td>\n",
       "      <td>0.324281</td>\n",
       "    </tr>\n",
       "    <tr>\n",
       "      <th>5</th>\n",
       "      <td>Exclude stage 4</td>\n",
       "      <td>96552</td>\n",
       "      <td>79249</td>\n",
       "      <td>17303</td>\n",
       "      <td>0.292925</td>\n",
       "    </tr>\n",
       "    <tr>\n",
       "      <th>6</th>\n",
       "      <td>no radiation</td>\n",
       "      <td>79249</td>\n",
       "      <td>66670</td>\n",
       "      <td>12579</td>\n",
       "      <td>0.289756</td>\n",
       "    </tr>\n",
       "  </tbody>\n",
       "</table>\n",
       "</div>"
      ],
      "text/plain": [
       "          criteria  before   after    drop     % PCR\n",
       "0            total       0  363461       0  0.250415\n",
       "1              pcr  363461  279700   83761  0.325406\n",
       "2            >2009  279700  170619  109081  0.276206\n",
       "3    missing stage  170619  131486   39133  0.299872\n",
       "4  Exclude stage 1  131486   96552   34934  0.324281\n",
       "5  Exclude stage 4   96552   79249   17303  0.292925\n",
       "6     no radiation   79249   66670   12579  0.289756"
      ]
     },
     "execution_count": 203,
     "metadata": {},
     "output_type": "execute_result"
    }
   ],
   "source": [
    "before = data.shape[0]\n",
    "data = data[data['Reason For No Radiation'] == 0]\n",
    "after = data.shape[0]\n",
    "\n",
    "drop_counts = drop_counts.append({'criteria': 'no radiation', 'before': before, 'after': after, 'drop': before - after, '% PCR': data['pcr'].value_counts()[1]/data.shape[0]}, ignore_index=True)\n",
    "drop_counts.head(7)"
   ]
  },
  {
   "cell_type": "code",
   "execution_count": 204,
   "metadata": {},
   "outputs": [
    {
     "data": {
      "text/html": [
       "<div>\n",
       "<style scoped>\n",
       "    .dataframe tbody tr th:only-of-type {\n",
       "        vertical-align: middle;\n",
       "    }\n",
       "\n",
       "    .dataframe tbody tr th {\n",
       "        vertical-align: top;\n",
       "    }\n",
       "\n",
       "    .dataframe thead th {\n",
       "        text-align: right;\n",
       "    }\n",
       "</style>\n",
       "<table border=\"1\" class=\"dataframe\">\n",
       "  <thead>\n",
       "    <tr style=\"text-align: right;\">\n",
       "      <th></th>\n",
       "      <th>criteria</th>\n",
       "      <th>before</th>\n",
       "      <th>after</th>\n",
       "      <th>drop</th>\n",
       "      <th>% PCR</th>\n",
       "    </tr>\n",
       "  </thead>\n",
       "  <tbody>\n",
       "    <tr>\n",
       "      <th>0</th>\n",
       "      <td>total</td>\n",
       "      <td>0</td>\n",
       "      <td>363461</td>\n",
       "      <td>0</td>\n",
       "      <td>0.250415</td>\n",
       "    </tr>\n",
       "    <tr>\n",
       "      <th>1</th>\n",
       "      <td>pcr</td>\n",
       "      <td>363461</td>\n",
       "      <td>279700</td>\n",
       "      <td>83761</td>\n",
       "      <td>0.325406</td>\n",
       "    </tr>\n",
       "    <tr>\n",
       "      <th>2</th>\n",
       "      <td>&gt;2009</td>\n",
       "      <td>279700</td>\n",
       "      <td>170619</td>\n",
       "      <td>109081</td>\n",
       "      <td>0.276206</td>\n",
       "    </tr>\n",
       "    <tr>\n",
       "      <th>3</th>\n",
       "      <td>missing stage</td>\n",
       "      <td>170619</td>\n",
       "      <td>131486</td>\n",
       "      <td>39133</td>\n",
       "      <td>0.299872</td>\n",
       "    </tr>\n",
       "    <tr>\n",
       "      <th>4</th>\n",
       "      <td>Exclude stage 1</td>\n",
       "      <td>131486</td>\n",
       "      <td>96552</td>\n",
       "      <td>34934</td>\n",
       "      <td>0.324281</td>\n",
       "    </tr>\n",
       "    <tr>\n",
       "      <th>5</th>\n",
       "      <td>Exclude stage 4</td>\n",
       "      <td>96552</td>\n",
       "      <td>79249</td>\n",
       "      <td>17303</td>\n",
       "      <td>0.292925</td>\n",
       "    </tr>\n",
       "    <tr>\n",
       "      <th>6</th>\n",
       "      <td>no radiation</td>\n",
       "      <td>79249</td>\n",
       "      <td>66670</td>\n",
       "      <td>12579</td>\n",
       "      <td>0.289756</td>\n",
       "    </tr>\n",
       "  </tbody>\n",
       "</table>\n",
       "</div>"
      ],
      "text/plain": [
       "          criteria  before   after    drop     % PCR\n",
       "0            total       0  363461       0  0.250415\n",
       "1              pcr  363461  279700   83761  0.325406\n",
       "2            >2009  279700  170619  109081  0.276206\n",
       "3    missing stage  170619  131486   39133  0.299872\n",
       "4  Exclude stage 1  131486   96552   34934  0.324281\n",
       "5  Exclude stage 4   96552   79249   17303  0.292925\n",
       "6     no radiation   79249   66670   12579  0.289756"
      ]
     },
     "execution_count": 204,
     "metadata": {},
     "output_type": "execute_result"
    }
   ],
   "source": [
    "drop_counts.head(10)"
   ]
  },
  {
   "cell_type": "code",
   "execution_count": 205,
   "metadata": {},
   "outputs": [],
   "source": [
    "before = data.shape[0]\n",
    "data = data[data['Radiation Surgery Sequence at any CoC Facility'] == 2]\n",
    "after = data.shape[0]\n",
    "\n",
    "drop_counts = drop_counts.append({'criteria': 'nCRT', 'before': before, 'after': after, 'drop': before - after, '% PCR': data['pcr'].value_counts()[1]/data.shape[0]}, ignore_index=True)"
   ]
  },
  {
   "cell_type": "code",
   "execution_count": 206,
   "metadata": {},
   "outputs": [
    {
     "data": {
      "text/html": [
       "<div>\n",
       "<style scoped>\n",
       "    .dataframe tbody tr th:only-of-type {\n",
       "        vertical-align: middle;\n",
       "    }\n",
       "\n",
       "    .dataframe tbody tr th {\n",
       "        vertical-align: top;\n",
       "    }\n",
       "\n",
       "    .dataframe thead th {\n",
       "        text-align: right;\n",
       "    }\n",
       "</style>\n",
       "<table border=\"1\" class=\"dataframe\">\n",
       "  <thead>\n",
       "    <tr style=\"text-align: right;\">\n",
       "      <th></th>\n",
       "      <th>criteria</th>\n",
       "      <th>before</th>\n",
       "      <th>after</th>\n",
       "      <th>drop</th>\n",
       "      <th>% PCR</th>\n",
       "    </tr>\n",
       "  </thead>\n",
       "  <tbody>\n",
       "    <tr>\n",
       "      <th>0</th>\n",
       "      <td>total</td>\n",
       "      <td>0</td>\n",
       "      <td>363461</td>\n",
       "      <td>0</td>\n",
       "      <td>0.250415</td>\n",
       "    </tr>\n",
       "    <tr>\n",
       "      <th>1</th>\n",
       "      <td>pcr</td>\n",
       "      <td>363461</td>\n",
       "      <td>279700</td>\n",
       "      <td>83761</td>\n",
       "      <td>0.325406</td>\n",
       "    </tr>\n",
       "    <tr>\n",
       "      <th>2</th>\n",
       "      <td>&gt;2009</td>\n",
       "      <td>279700</td>\n",
       "      <td>170619</td>\n",
       "      <td>109081</td>\n",
       "      <td>0.276206</td>\n",
       "    </tr>\n",
       "    <tr>\n",
       "      <th>3</th>\n",
       "      <td>missing stage</td>\n",
       "      <td>170619</td>\n",
       "      <td>131486</td>\n",
       "      <td>39133</td>\n",
       "      <td>0.299872</td>\n",
       "    </tr>\n",
       "    <tr>\n",
       "      <th>4</th>\n",
       "      <td>Exclude stage 1</td>\n",
       "      <td>131486</td>\n",
       "      <td>96552</td>\n",
       "      <td>34934</td>\n",
       "      <td>0.324281</td>\n",
       "    </tr>\n",
       "    <tr>\n",
       "      <th>5</th>\n",
       "      <td>Exclude stage 4</td>\n",
       "      <td>96552</td>\n",
       "      <td>79249</td>\n",
       "      <td>17303</td>\n",
       "      <td>0.292925</td>\n",
       "    </tr>\n",
       "    <tr>\n",
       "      <th>6</th>\n",
       "      <td>no radiation</td>\n",
       "      <td>79249</td>\n",
       "      <td>66670</td>\n",
       "      <td>12579</td>\n",
       "      <td>0.289756</td>\n",
       "    </tr>\n",
       "    <tr>\n",
       "      <th>7</th>\n",
       "      <td>nCRT</td>\n",
       "      <td>66670</td>\n",
       "      <td>55819</td>\n",
       "      <td>10851</td>\n",
       "      <td>0.234329</td>\n",
       "    </tr>\n",
       "  </tbody>\n",
       "</table>\n",
       "</div>"
      ],
      "text/plain": [
       "          criteria  before   after    drop     % PCR\n",
       "0            total       0  363461       0  0.250415\n",
       "1              pcr  363461  279700   83761  0.325406\n",
       "2            >2009  279700  170619  109081  0.276206\n",
       "3    missing stage  170619  131486   39133  0.299872\n",
       "4  Exclude stage 1  131486   96552   34934  0.324281\n",
       "5  Exclude stage 4   96552   79249   17303  0.292925\n",
       "6     no radiation   79249   66670   12579  0.289756\n",
       "7             nCRT   66670   55819   10851  0.234329"
      ]
     },
     "execution_count": 206,
     "metadata": {},
     "output_type": "execute_result"
    }
   ],
   "source": [
    "drop_counts.head(8)"
   ]
  },
  {
   "cell_type": "code",
   "execution_count": 207,
   "metadata": {},
   "outputs": [
    {
     "data": {
      "text/plain": [
       "dtype('float64')"
      ]
     },
     "execution_count": 207,
     "metadata": {},
     "output_type": "execute_result"
    }
   ],
   "source": [
    "data['Surgical Procedure of Primary Site at any CoC Facility'].dtypes"
   ]
  },
  {
   "cell_type": "code",
   "execution_count": 208,
   "metadata": {},
   "outputs": [],
   "source": [
    "before = data.shape[0]\n",
    "data.loc[data['Surgical Procedure of Primary Site at any CoC Facility'] == 90] = np.NaN\n",
    "data = data.dropna(subset=['Surgical Procedure of Primary Site at any CoC Facility'])\n",
    "after = data.shape[0]\n",
    "\n",
    "drop_counts = drop_counts.append({'criteria': 'Procedure missing', 'before': before, 'after': after, 'drop': before - after, '% PCR': data['pcr'].value_counts()[1]/data.shape[0]}, ignore_index=True)"
   ]
  },
  {
   "cell_type": "code",
   "execution_count": 209,
   "metadata": {},
   "outputs": [
    {
     "data": {
      "text/html": [
       "<div>\n",
       "<style scoped>\n",
       "    .dataframe tbody tr th:only-of-type {\n",
       "        vertical-align: middle;\n",
       "    }\n",
       "\n",
       "    .dataframe tbody tr th {\n",
       "        vertical-align: top;\n",
       "    }\n",
       "\n",
       "    .dataframe thead th {\n",
       "        text-align: right;\n",
       "    }\n",
       "</style>\n",
       "<table border=\"1\" class=\"dataframe\">\n",
       "  <thead>\n",
       "    <tr style=\"text-align: right;\">\n",
       "      <th></th>\n",
       "      <th>criteria</th>\n",
       "      <th>before</th>\n",
       "      <th>after</th>\n",
       "      <th>drop</th>\n",
       "      <th>% PCR</th>\n",
       "    </tr>\n",
       "  </thead>\n",
       "  <tbody>\n",
       "    <tr>\n",
       "      <th>0</th>\n",
       "      <td>total</td>\n",
       "      <td>0</td>\n",
       "      <td>363461</td>\n",
       "      <td>0</td>\n",
       "      <td>0.250415</td>\n",
       "    </tr>\n",
       "    <tr>\n",
       "      <th>1</th>\n",
       "      <td>pcr</td>\n",
       "      <td>363461</td>\n",
       "      <td>279700</td>\n",
       "      <td>83761</td>\n",
       "      <td>0.325406</td>\n",
       "    </tr>\n",
       "    <tr>\n",
       "      <th>2</th>\n",
       "      <td>&gt;2009</td>\n",
       "      <td>279700</td>\n",
       "      <td>170619</td>\n",
       "      <td>109081</td>\n",
       "      <td>0.276206</td>\n",
       "    </tr>\n",
       "    <tr>\n",
       "      <th>3</th>\n",
       "      <td>missing stage</td>\n",
       "      <td>170619</td>\n",
       "      <td>131486</td>\n",
       "      <td>39133</td>\n",
       "      <td>0.299872</td>\n",
       "    </tr>\n",
       "    <tr>\n",
       "      <th>4</th>\n",
       "      <td>Exclude stage 1</td>\n",
       "      <td>131486</td>\n",
       "      <td>96552</td>\n",
       "      <td>34934</td>\n",
       "      <td>0.324281</td>\n",
       "    </tr>\n",
       "    <tr>\n",
       "      <th>5</th>\n",
       "      <td>Exclude stage 4</td>\n",
       "      <td>96552</td>\n",
       "      <td>79249</td>\n",
       "      <td>17303</td>\n",
       "      <td>0.292925</td>\n",
       "    </tr>\n",
       "    <tr>\n",
       "      <th>6</th>\n",
       "      <td>no radiation</td>\n",
       "      <td>79249</td>\n",
       "      <td>66670</td>\n",
       "      <td>12579</td>\n",
       "      <td>0.289756</td>\n",
       "    </tr>\n",
       "    <tr>\n",
       "      <th>7</th>\n",
       "      <td>nCRT</td>\n",
       "      <td>66670</td>\n",
       "      <td>55819</td>\n",
       "      <td>10851</td>\n",
       "      <td>0.234329</td>\n",
       "    </tr>\n",
       "    <tr>\n",
       "      <th>8</th>\n",
       "      <td>Procedure missing</td>\n",
       "      <td>55819</td>\n",
       "      <td>55076</td>\n",
       "      <td>743</td>\n",
       "      <td>0.232896</td>\n",
       "    </tr>\n",
       "    <tr>\n",
       "      <th>9</th>\n",
       "      <td>No TME</td>\n",
       "      <td>55076</td>\n",
       "      <td>54253</td>\n",
       "      <td>823</td>\n",
       "      <td>0.228227</td>\n",
       "    </tr>\n",
       "  </tbody>\n",
       "</table>\n",
       "</div>"
      ],
      "text/plain": [
       "            criteria  before   after    drop     % PCR\n",
       "0              total       0  363461       0  0.250415\n",
       "1                pcr  363461  279700   83761  0.325406\n",
       "2              >2009  279700  170619  109081  0.276206\n",
       "3      missing stage  170619  131486   39133  0.299872\n",
       "4    Exclude stage 1  131486   96552   34934  0.324281\n",
       "5    Exclude stage 4   96552   79249   17303  0.292925\n",
       "6       no radiation   79249   66670   12579  0.289756\n",
       "7               nCRT   66670   55819   10851  0.234329\n",
       "8  Procedure missing   55819   55076     743  0.232896\n",
       "9             No TME   55076   54253     823  0.228227"
      ]
     },
     "execution_count": 209,
     "metadata": {},
     "output_type": "execute_result"
    }
   ],
   "source": [
    "before = data.shape[0]\n",
    "data = data.loc[data['Surgical Procedure of Primary Site at any CoC Facility'] >= 30]\n",
    "after = data.shape[0]\n",
    "\n",
    "drop_counts = drop_counts.append({'criteria': 'No TME', 'before': before, 'after': after, 'drop': before - after, '% PCR': data['pcr'].value_counts()[1]/data.shape[0]}, ignore_index=True)\n",
    "drop_counts.head(10)"
   ]
  },
  {
   "cell_type": "code",
   "execution_count": 210,
   "metadata": {},
   "outputs": [
    {
     "data": {
      "text/html": [
       "<div>\n",
       "<style scoped>\n",
       "    .dataframe tbody tr th:only-of-type {\n",
       "        vertical-align: middle;\n",
       "    }\n",
       "\n",
       "    .dataframe tbody tr th {\n",
       "        vertical-align: top;\n",
       "    }\n",
       "\n",
       "    .dataframe thead th {\n",
       "        text-align: right;\n",
       "    }\n",
       "</style>\n",
       "<table border=\"1\" class=\"dataframe\">\n",
       "  <thead>\n",
       "    <tr style=\"text-align: right;\">\n",
       "      <th></th>\n",
       "      <th>criteria</th>\n",
       "      <th>before</th>\n",
       "      <th>after</th>\n",
       "      <th>drop</th>\n",
       "      <th>% PCR</th>\n",
       "    </tr>\n",
       "  </thead>\n",
       "  <tbody>\n",
       "    <tr>\n",
       "      <th>0</th>\n",
       "      <td>total</td>\n",
       "      <td>0</td>\n",
       "      <td>363461</td>\n",
       "      <td>0</td>\n",
       "      <td>0.250415</td>\n",
       "    </tr>\n",
       "    <tr>\n",
       "      <th>1</th>\n",
       "      <td>pcr</td>\n",
       "      <td>363461</td>\n",
       "      <td>279700</td>\n",
       "      <td>83761</td>\n",
       "      <td>0.325406</td>\n",
       "    </tr>\n",
       "    <tr>\n",
       "      <th>2</th>\n",
       "      <td>&gt;2009</td>\n",
       "      <td>279700</td>\n",
       "      <td>170619</td>\n",
       "      <td>109081</td>\n",
       "      <td>0.276206</td>\n",
       "    </tr>\n",
       "    <tr>\n",
       "      <th>3</th>\n",
       "      <td>missing stage</td>\n",
       "      <td>170619</td>\n",
       "      <td>131486</td>\n",
       "      <td>39133</td>\n",
       "      <td>0.299872</td>\n",
       "    </tr>\n",
       "    <tr>\n",
       "      <th>4</th>\n",
       "      <td>Exclude stage 1</td>\n",
       "      <td>131486</td>\n",
       "      <td>96552</td>\n",
       "      <td>34934</td>\n",
       "      <td>0.324281</td>\n",
       "    </tr>\n",
       "    <tr>\n",
       "      <th>5</th>\n",
       "      <td>Exclude stage 4</td>\n",
       "      <td>96552</td>\n",
       "      <td>79249</td>\n",
       "      <td>17303</td>\n",
       "      <td>0.292925</td>\n",
       "    </tr>\n",
       "    <tr>\n",
       "      <th>6</th>\n",
       "      <td>no radiation</td>\n",
       "      <td>79249</td>\n",
       "      <td>66670</td>\n",
       "      <td>12579</td>\n",
       "      <td>0.289756</td>\n",
       "    </tr>\n",
       "    <tr>\n",
       "      <th>7</th>\n",
       "      <td>nCRT</td>\n",
       "      <td>66670</td>\n",
       "      <td>55819</td>\n",
       "      <td>10851</td>\n",
       "      <td>0.234329</td>\n",
       "    </tr>\n",
       "    <tr>\n",
       "      <th>8</th>\n",
       "      <td>Procedure missing</td>\n",
       "      <td>55819</td>\n",
       "      <td>55076</td>\n",
       "      <td>743</td>\n",
       "      <td>0.232896</td>\n",
       "    </tr>\n",
       "    <tr>\n",
       "      <th>9</th>\n",
       "      <td>No TME</td>\n",
       "      <td>55076</td>\n",
       "      <td>54253</td>\n",
       "      <td>823</td>\n",
       "      <td>0.228227</td>\n",
       "    </tr>\n",
       "    <tr>\n",
       "      <th>10</th>\n",
       "      <td>palliative care</td>\n",
       "      <td>54253</td>\n",
       "      <td>53684</td>\n",
       "      <td>569</td>\n",
       "      <td>0.229156</td>\n",
       "    </tr>\n",
       "  </tbody>\n",
       "</table>\n",
       "</div>"
      ],
      "text/plain": [
       "             criteria  before   after    drop     % PCR\n",
       "0               total       0  363461       0  0.250415\n",
       "1                 pcr  363461  279700   83761  0.325406\n",
       "2               >2009  279700  170619  109081  0.276206\n",
       "3       missing stage  170619  131486   39133  0.299872\n",
       "4     Exclude stage 1  131486   96552   34934  0.324281\n",
       "5     Exclude stage 4   96552   79249   17303  0.292925\n",
       "6        no radiation   79249   66670   12579  0.289756\n",
       "7                nCRT   66670   55819   10851  0.234329\n",
       "8   Procedure missing   55819   55076     743  0.232896\n",
       "9              No TME   55076   54253     823  0.228227\n",
       "10    palliative care   54253   53684     569  0.229156"
      ]
     },
     "execution_count": 210,
     "metadata": {},
     "output_type": "execute_result"
    }
   ],
   "source": [
    "before = data.shape[0]\n",
    "data = data.loc[data['Palliative Care'] == 0]\n",
    "after = data.shape[0]\n",
    "\n",
    "drop_counts = drop_counts.append({'criteria': 'palliative care', 'before': before, 'after': after, 'drop': before - after, '% PCR': data['pcr'].value_counts()[1]/data.shape[0]}, ignore_index=True)\n",
    "data.drop('Palliative Care', axis=1, inplace=True)\n",
    "drop_counts.head(11)"
   ]
  },
  {
   "cell_type": "code",
   "execution_count": 211,
   "metadata": {},
   "outputs": [],
   "source": [
    "drop_counts.to_csv('../results/drop_counts.csv', index=False)"
   ]
  },
  {
   "cell_type": "code",
   "execution_count": 212,
   "metadata": {},
   "outputs": [
    {
     "data": {
      "text/plain": [
       "2.0     26569\n",
       "3.0     22602\n",
       "1.0      3499\n",
       "0.0       594\n",
       "87.0      187\n",
       "82.0      163\n",
       "88.0       46\n",
       "86.0       11\n",
       "85.0       10\n",
       "Name: Chemotherapy at any CoC Facility, dtype: int64"
      ]
     },
     "execution_count": 212,
     "metadata": {},
     "output_type": "execute_result"
    }
   ],
   "source": [
    "data['Chemotherapy at any CoC Facility'].value_counts()"
   ]
  },
  {
   "cell_type": "code",
   "execution_count": 213,
   "metadata": {},
   "outputs": [
    {
     "data": {
      "text/html": [
       "<div>\n",
       "<style scoped>\n",
       "    .dataframe tbody tr th:only-of-type {\n",
       "        vertical-align: middle;\n",
       "    }\n",
       "\n",
       "    .dataframe tbody tr th {\n",
       "        vertical-align: top;\n",
       "    }\n",
       "\n",
       "    .dataframe thead th {\n",
       "        text-align: right;\n",
       "    }\n",
       "</style>\n",
       "<table border=\"1\" class=\"dataframe\">\n",
       "  <thead>\n",
       "    <tr style=\"text-align: right;\">\n",
       "      <th>pcr</th>\n",
       "      <th>0.0</th>\n",
       "      <th>1.0</th>\n",
       "      <th>total</th>\n",
       "    </tr>\n",
       "    <tr>\n",
       "      <th>Chemotherapy at any CoC Facility</th>\n",
       "      <th></th>\n",
       "      <th></th>\n",
       "      <th></th>\n",
       "    </tr>\n",
       "  </thead>\n",
       "  <tbody>\n",
       "    <tr>\n",
       "      <th>0.0</th>\n",
       "      <td>480 (81.0%)</td>\n",
       "      <td>114 (19.0%)</td>\n",
       "      <td>594</td>\n",
       "    </tr>\n",
       "    <tr>\n",
       "      <th>1.0</th>\n",
       "      <td>2638 (75.0%)</td>\n",
       "      <td>861 (25.0%)</td>\n",
       "      <td>3499</td>\n",
       "    </tr>\n",
       "    <tr>\n",
       "      <th>2.0</th>\n",
       "      <td>19905 (75.0%)</td>\n",
       "      <td>6664 (25.0%)</td>\n",
       "      <td>26569</td>\n",
       "    </tr>\n",
       "    <tr>\n",
       "      <th>3.0</th>\n",
       "      <td>17986 (80.0%)</td>\n",
       "      <td>4616 (20.0%)</td>\n",
       "      <td>22602</td>\n",
       "    </tr>\n",
       "    <tr>\n",
       "      <th>82.0</th>\n",
       "      <td>149 (91.0%)</td>\n",
       "      <td>14 (9.0%)</td>\n",
       "      <td>163</td>\n",
       "    </tr>\n",
       "    <tr>\n",
       "      <th>85.0</th>\n",
       "      <td>10 (100.0%)</td>\n",
       "      <td>0 (0.0%)</td>\n",
       "      <td>10</td>\n",
       "    </tr>\n",
       "    <tr>\n",
       "      <th>86.0</th>\n",
       "      <td>9 (82.0%)</td>\n",
       "      <td>2 (18.0%)</td>\n",
       "      <td>11</td>\n",
       "    </tr>\n",
       "    <tr>\n",
       "      <th>87.0</th>\n",
       "      <td>164 (88.0%)</td>\n",
       "      <td>23 (12.0%)</td>\n",
       "      <td>187</td>\n",
       "    </tr>\n",
       "    <tr>\n",
       "      <th>88.0</th>\n",
       "      <td>40 (87.0%)</td>\n",
       "      <td>6 (13.0%)</td>\n",
       "      <td>46</td>\n",
       "    </tr>\n",
       "  </tbody>\n",
       "</table>\n",
       "</div>"
      ],
      "text/plain": [
       "pcr                                         0.0           1.0  total\n",
       "Chemotherapy at any CoC Facility                                    \n",
       "0.0                                 480 (81.0%)   114 (19.0%)    594\n",
       "1.0                                2638 (75.0%)   861 (25.0%)   3499\n",
       "2.0                               19905 (75.0%)  6664 (25.0%)  26569\n",
       "3.0                               17986 (80.0%)  4616 (20.0%)  22602\n",
       "82.0                                149 (91.0%)     14 (9.0%)    163\n",
       "85.0                                10 (100.0%)      0 (0.0%)     10\n",
       "86.0                                  9 (82.0%)     2 (18.0%)     11\n",
       "87.0                                164 (88.0%)    23 (12.0%)    187\n",
       "88.0                                 40 (87.0%)     6 (13.0%)     46"
      ]
     },
     "execution_count": 213,
     "metadata": {},
     "output_type": "execute_result"
    }
   ],
   "source": [
    "pcr_by_col(data, 'Chemotherapy at any CoC Facility')"
   ]
  },
  {
   "cell_type": "markdown",
   "metadata": {},
   "source": [
    "<h1> 4. Clean the remaining clinical staging and numeric variables <h1>"
   ]
  },
  {
   "cell_type": "code",
   "execution_count": 214,
   "metadata": {},
   "outputs": [
    {
     "data": {
      "text/plain": [
       "<AxesSubplot:>"
      ]
     },
     "execution_count": 214,
     "metadata": {},
     "output_type": "execute_result"
    },
    {
     "data": {
      "image/png": "[encoded data removed]",
      "text/plain": [
       "<Figure size 432x288 with 1 Axes>"
      ]
     },
     "metadata": {
      "needs_background": "light"
     },
     "output_type": "display_data"
    }
   ],
   "source": [
    "data['Size of Tumor'].hist()\n"
   ]
  },
  {
   "cell_type": "code",
   "execution_count": 215,
   "metadata": {},
   "outputs": [
    {
     "data": {
      "text/plain": [
       "80.0"
      ]
     },
     "execution_count": 215,
     "metadata": {},
     "output_type": "execute_result"
    }
   ],
   "source": [
    "data.loc[data['Size of Tumor'] > 900, 'Size of Tumor'] = np.NaN\n",
    "data['Size of Tumor'].quantile(0.9)\n"
   ]
  },
  {
   "cell_type": "code",
   "execution_count": 216,
   "metadata": {},
   "outputs": [
    {
     "data": {
      "text/plain": [
       "<AxesSubplot:>"
      ]
     },
     "execution_count": 216,
     "metadata": {},
     "output_type": "execute_result"
    },
    {
     "data": {
      "image/png": "[encoded data removed]",
      "text/plain": [
       "<Figure size 432x288 with 1 Axes>"
      ]
     },
     "metadata": {
      "needs_background": "light"
     },
     "output_type": "display_data"
    }
   ],
   "source": [
    "data.loc[data['Size of Tumor'] > 100, 'Size of Tumor'] = 100\n",
    "data['Size of Tumor'].hist()"
   ]
  },
  {
   "cell_type": "code",
   "execution_count": 217,
   "metadata": {},
   "outputs": [
    {
     "data": {
      "text/plain": [
       "20.0     16641\n",
       "10.0     13242\n",
       "998.0     3204\n",
       "997.0      483\n",
       "30.0       169\n",
       "988.0       47\n",
       "Name: CEA, dtype: int64"
      ]
     },
     "execution_count": 217,
     "metadata": {},
     "output_type": "execute_result"
    }
   ],
   "source": [
    "data['CEA']\n",
    "data.loc[data['CEA'] == '80.0', 'CEA'] = np.NaN\n",
    "data.loc[data['CEA'] == 'Borderline', 'CEA'] = 'Normal'\n",
    "data['CEA'].value_counts()\n"
   ]
  },
  {
   "cell_type": "code",
   "execution_count": 218,
   "metadata": {},
   "outputs": [
    {
     "data": {
      "text/plain": [
       "<AxesSubplot:>"
      ]
     },
     "execution_count": 218,
     "metadata": {},
     "output_type": "execute_result"
    },
    {
     "data": {
      "image/png": "[encoded data removed]",
      "text/plain": [
       "<Figure size 432x288 with 1 Axes>"
      ]
     },
     "metadata": {
      "needs_background": "light"
     },
     "output_type": "display_data"
    }
   ],
   "source": [
    "data['CEA value'].hist()\n"
   ]
  },
  {
   "cell_type": "code",
   "execution_count": 219,
   "metadata": {},
   "outputs": [
    {
     "data": {
      "text/plain": [
       "<AxesSubplot:>"
      ]
     },
     "execution_count": 219,
     "metadata": {},
     "output_type": "execute_result"
    },
    {
     "data": {
      "image/png": "[encoded data removed]",
      "text/plain": [
       "<Figure size 432x288 with 1 Axes>"
      ]
     },
     "metadata": {
      "needs_background": "light"
     },
     "output_type": "display_data"
    }
   ],
   "source": [
    "data.loc[data['CEA value'] > 900, 'CEA value'] = np.NaN\n",
    "data['CEA value'].hist()\n"
   ]
  },
  {
   "cell_type": "code",
   "execution_count": 220,
   "metadata": {},
   "outputs": [],
   "source": [
    "data.loc[data['CEA Pretreatment Lab Value SSDI Item 3820'] == 'XXXX.9', 'CEA Pretreatment Lab Value SSDI Item 3820'] = np.NaN\n",
    "data.loc[data['CEA Pretreatment Lab Value SSDI Item 3820'] == 'XXXX.7', 'CEA Pretreatment Lab Value SSDI Item 3820'] = np.NaN\n",
    "data.loc[data['CEA Pretreatment Lab Value SSDI Item 3820'] == 'XXXX.8', 'CEA Pretreatment Lab Value SSDI Item 3820'] = np.NaN\n",
    "data.loc[data['CEA Pretreatment Lab Value SSDI Item 3820'] == 'XXXX.1', 'CEA Pretreatment Lab Value SSDI Item 3820'] = 10000\n",
    "\n",
    "data['CEA Pretreatment Lab Value SSDI Item 3820'] = data['CEA Pretreatment Lab Value SSDI Item 3820'].astype(float)\n",
    "data.loc[data['CEA Pretreatment Lab Value SSDI Item 3820'] > 900, 'CEA value'] = np.NaN"
   ]
  },
  {
   "cell_type": "code",
   "execution_count": 221,
   "metadata": {},
   "outputs": [
    {
     "data": {
      "text/plain": [
       "NaN      15045\n",
       "5.0        898\n",
       "10.0       745\n",
       "12.0       713\n",
       "15.0       666\n",
       "         ...  \n",
       "168.4        1\n",
       "118.2        1\n",
       "50.6         1\n",
       "108.4        1\n",
       "86.6         1\n",
       "Name: CEA value, Length: 1506, dtype: int64"
      ]
     },
     "execution_count": 221,
     "metadata": {},
     "output_type": "execute_result"
    }
   ],
   "source": [
    "#if CEA is missing, fill with CEA Pretreatment Lab Value SSDI Item 3820\n",
    "data.loc[data['CEA value'].isnull(), 'CEA value'] = data.loc[data['CEA value'].isnull(), 'CEA Pretreatment Lab Value SSDI Item 3820']\n",
    "data['CEA value'].value_counts(dropna=False)"
   ]
  },
  {
   "cell_type": "code",
   "execution_count": 222,
   "metadata": {},
   "outputs": [
    {
     "data": {
      "text/plain": [
       "145.0"
      ]
     },
     "execution_count": 222,
     "metadata": {},
     "output_type": "execute_result"
    }
   ],
   "source": [
    "data.loc[data['CEA value'] > 900, 'CEA value'] = np.NaN\n",
    "data['CEA value'].quantile(0.9)"
   ]
  },
  {
   "cell_type": "code",
   "execution_count": 223,
   "metadata": {},
   "outputs": [
    {
     "data": {
      "text/plain": [
       "<AxesSubplot:>"
      ]
     },
     "execution_count": 223,
     "metadata": {},
     "output_type": "execute_result"
    },
    {
     "data": {
      "image/png": "[encoded data removed]",
      "text/plain": [
       "<Figure size 432x288 with 1 Axes>"
      ]
     },
     "metadata": {
      "needs_background": "light"
     },
     "output_type": "display_data"
    }
   ],
   "source": [
    "data.loc[data['CEA value'] > 150, 'CEA value'] = 150\n",
    "data['CEA value'].hist()"
   ]
  },
  {
   "cell_type": "code",
   "execution_count": 224,
   "metadata": {},
   "outputs": [],
   "source": [
    "# pd.crosstab(data['Chemotherapy at any CoC Facility'], data['Systemic/Surgery Sequence'])"
   ]
  },
  {
   "cell_type": "code",
   "execution_count": 225,
   "metadata": {},
   "outputs": [],
   "source": [
    "# data['Systemic/Surgery Sequence'].value_counts()"
   ]
  },
  {
   "cell_type": "code",
   "execution_count": 226,
   "metadata": {},
   "outputs": [],
   "source": [
    "#neo-adjuvant chemotherapy if systemic/surgery sequence is 2 or 4 (neo-adjuvant chemotherapy) and chemotherapy is 3 (multi-agent chemotherapy)\n",
    "# data['nct'] = 0\n",
    "# data.loc[((data['Systemic/Surgery Sequence'] == 2) | (data['Systemic/Surgery Sequence'] == 4) & (data['Chemotherapy at any CoC Facility'] == 3)), 'nct'] = 1\n",
    "# data['nct'].value_counts()"
   ]
  },
  {
   "cell_type": "code",
   "execution_count": 227,
   "metadata": {},
   "outputs": [],
   "source": [
    "#days between chemo and radiation is chemo days from dx - radiation days from dx\n",
    "# data['days_chemo_rads'] = data['Chemotherapy, Days from Dx'] - data['Radiation, Days from Dx']"
   ]
  },
  {
   "cell_type": "code",
   "execution_count": 228,
   "metadata": {},
   "outputs": [
    {
     "data": {
      "text/plain": [
       "(53684, 49)"
      ]
     },
     "execution_count": 228,
     "metadata": {},
     "output_type": "execute_result"
    }
   ],
   "source": [
    "data.shape"
   ]
  },
  {
   "cell_type": "code",
   "execution_count": 229,
   "metadata": {},
   "outputs": [],
   "source": [
    "# data.loc[data['days_chemo_rads'] > 300, 'days_chemo_rads'] = np.NaN\n",
    "# data.loc[data['days_chemo_rads'] < -300, 'days_chemo_rads'] = np.NaN"
   ]
  },
  {
   "cell_type": "code",
   "execution_count": 230,
   "metadata": {},
   "outputs": [],
   "source": [
    "# data['days_chemo_rads'].hist(bins=50)"
   ]
  },
  {
   "cell_type": "code",
   "execution_count": 231,
   "metadata": {},
   "outputs": [],
   "source": [
    "#if chemo started 30 days before radiation, then induction chemotherapy (ict) = 1\n",
    "# data['ict'] = 0\n",
    "# data.loc[(data['nct'] == 1) & (data['days_chemo_rads'] < -30), 'ict'] = 1\n",
    "# data['ict'].value_counts()"
   ]
  },
  {
   "cell_type": "code",
   "execution_count": 232,
   "metadata": {},
   "outputs": [],
   "source": [
    "#if radiation started 30 days before chemo, then induction chemotherapy (cct) = 1\n",
    "# data['cct'] = 0\n",
    "# data.loc[(data['nct'] == 1) & (data['days_chemo_rads'] > 14), 'cct'] = 1\n",
    "# data['cct'].value_counts()"
   ]
  },
  {
   "cell_type": "code",
   "execution_count": 233,
   "metadata": {},
   "outputs": [
    {
     "data": {
      "text/html": [
       "<div>\n",
       "<style scoped>\n",
       "    .dataframe tbody tr th:only-of-type {\n",
       "        vertical-align: middle;\n",
       "    }\n",
       "\n",
       "    .dataframe tbody tr th {\n",
       "        vertical-align: top;\n",
       "    }\n",
       "\n",
       "    .dataframe thead th {\n",
       "        text-align: right;\n",
       "    }\n",
       "</style>\n",
       "<table border=\"1\" class=\"dataframe\">\n",
       "  <thead>\n",
       "    <tr style=\"text-align: right;\">\n",
       "      <th></th>\n",
       "      <th>Case Key</th>\n",
       "      <th>Facility Key</th>\n",
       "      <th>Facility Type</th>\n",
       "      <th>Facility Location</th>\n",
       "      <th>Age at Diagnosis</th>\n",
       "      <th>Sex</th>\n",
       "      <th>Race</th>\n",
       "      <th>Spanish Hispanic Origin</th>\n",
       "      <th>Primary Payor</th>\n",
       "      <th>Census Median Income Quartiles 2008-2012</th>\n",
       "      <th>...</th>\n",
       "      <th>Grade Clinical SSDI Item 3843</th>\n",
       "      <th>KRAS SSDI Item 3866</th>\n",
       "      <th>Microsatellite Instability (MSI) SSDI Item 3890</th>\n",
       "      <th>Perineural Invasion SSDI Item 3909</th>\n",
       "      <th>pstage</th>\n",
       "      <th>pcr</th>\n",
       "      <th>stage</th>\n",
       "      <th>t_stage</th>\n",
       "      <th>n_stage</th>\n",
       "      <th>m_stage</th>\n",
       "    </tr>\n",
       "  </thead>\n",
       "  <tbody>\n",
       "    <tr>\n",
       "      <th>2</th>\n",
       "      <td>D0d14a662-dde0-4a0e-a6f0-a0e0db2d19e2</td>\n",
       "      <td>WIEPJSGATB</td>\n",
       "      <td>3.0</td>\n",
       "      <td>2.0</td>\n",
       "      <td>78.0</td>\n",
       "      <td>2.0</td>\n",
       "      <td>1.0</td>\n",
       "      <td>9.0</td>\n",
       "      <td>3.0</td>\n",
       "      <td>4.0</td>\n",
       "      <td>...</td>\n",
       "      <td>NaN</td>\n",
       "      <td>NaN</td>\n",
       "      <td>NaN</td>\n",
       "      <td>NaN</td>\n",
       "      <td>3A</td>\n",
       "      <td>0.0</td>\n",
       "      <td>2</td>\n",
       "      <td>3.0</td>\n",
       "      <td>0</td>\n",
       "      <td>0.0</td>\n",
       "    </tr>\n",
       "    <tr>\n",
       "      <th>6</th>\n",
       "      <td>Dcd9758ae-2308-45cf-bbf1-b3ab4ed2e48f</td>\n",
       "      <td>NWBQYGAYAV</td>\n",
       "      <td>3.0</td>\n",
       "      <td>5.0</td>\n",
       "      <td>70.0</td>\n",
       "      <td>1.0</td>\n",
       "      <td>1.0</td>\n",
       "      <td>0.0</td>\n",
       "      <td>1.0</td>\n",
       "      <td>1.0</td>\n",
       "      <td>...</td>\n",
       "      <td>NaN</td>\n",
       "      <td>NaN</td>\n",
       "      <td>NaN</td>\n",
       "      <td>NaN</td>\n",
       "      <td>0</td>\n",
       "      <td>1.0</td>\n",
       "      <td>2</td>\n",
       "      <td>3.0</td>\n",
       "      <td>0</td>\n",
       "      <td>0.0</td>\n",
       "    </tr>\n",
       "    <tr>\n",
       "      <th>14</th>\n",
       "      <td>D656e0503-a772-440d-a60a-c9d8bd9c520b</td>\n",
       "      <td>KOZLUMSSEP</td>\n",
       "      <td>3.0</td>\n",
       "      <td>2.0</td>\n",
       "      <td>82.0</td>\n",
       "      <td>1.0</td>\n",
       "      <td>1.0</td>\n",
       "      <td>0.0</td>\n",
       "      <td>3.0</td>\n",
       "      <td>4.0</td>\n",
       "      <td>...</td>\n",
       "      <td>NaN</td>\n",
       "      <td>NaN</td>\n",
       "      <td>NaN</td>\n",
       "      <td>NaN</td>\n",
       "      <td>3B</td>\n",
       "      <td>0.0</td>\n",
       "      <td>2</td>\n",
       "      <td>3.0</td>\n",
       "      <td>0</td>\n",
       "      <td>0.0</td>\n",
       "    </tr>\n",
       "    <tr>\n",
       "      <th>24</th>\n",
       "      <td>D67bf0834-7b7d-41c7-a320-ab0438fe764e</td>\n",
       "      <td>QISENWRSZO</td>\n",
       "      <td>3.0</td>\n",
       "      <td>6.0</td>\n",
       "      <td>51.0</td>\n",
       "      <td>1.0</td>\n",
       "      <td>1.0</td>\n",
       "      <td>0.0</td>\n",
       "      <td>1.0</td>\n",
       "      <td>NaN</td>\n",
       "      <td>...</td>\n",
       "      <td>NaN</td>\n",
       "      <td>NaN</td>\n",
       "      <td>NaN</td>\n",
       "      <td>NaN</td>\n",
       "      <td>0</td>\n",
       "      <td>1.0</td>\n",
       "      <td>3</td>\n",
       "      <td>3.0</td>\n",
       "      <td>1</td>\n",
       "      <td>0.0</td>\n",
       "    </tr>\n",
       "    <tr>\n",
       "      <th>29</th>\n",
       "      <td>D1557dfde-4686-4534-8d7f-bf743fdc51bf</td>\n",
       "      <td>OPDMCOUQIW</td>\n",
       "      <td>4.0</td>\n",
       "      <td>3.0</td>\n",
       "      <td>84.0</td>\n",
       "      <td>1.0</td>\n",
       "      <td>1.0</td>\n",
       "      <td>0.0</td>\n",
       "      <td>3.0</td>\n",
       "      <td>3.0</td>\n",
       "      <td>...</td>\n",
       "      <td>NaN</td>\n",
       "      <td>NaN</td>\n",
       "      <td>NaN</td>\n",
       "      <td>NaN</td>\n",
       "      <td>1</td>\n",
       "      <td>0.0</td>\n",
       "      <td>2</td>\n",
       "      <td>3.0</td>\n",
       "      <td>0</td>\n",
       "      <td>0.0</td>\n",
       "    </tr>\n",
       "  </tbody>\n",
       "</table>\n",
       "<p>5 rows × 49 columns</p>\n",
       "</div>"
      ],
      "text/plain": [
       "                                 Case Key Facility Key  Facility Type  \\\n",
       "2   D0d14a662-dde0-4a0e-a6f0-a0e0db2d19e2   WIEPJSGATB            3.0   \n",
       "6   Dcd9758ae-2308-45cf-bbf1-b3ab4ed2e48f   NWBQYGAYAV            3.0   \n",
       "14  D656e0503-a772-440d-a60a-c9d8bd9c520b   KOZLUMSSEP            3.0   \n",
       "24  D67bf0834-7b7d-41c7-a320-ab0438fe764e   QISENWRSZO            3.0   \n",
       "29  D1557dfde-4686-4534-8d7f-bf743fdc51bf   OPDMCOUQIW            4.0   \n",
       "\n",
       "    Facility Location  Age at Diagnosis  Sex  Race  Spanish Hispanic Origin  \\\n",
       "2                 2.0              78.0  2.0   1.0                      9.0   \n",
       "6                 5.0              70.0  1.0   1.0                      0.0   \n",
       "14                2.0              82.0  1.0   1.0                      0.0   \n",
       "24                6.0              51.0  1.0   1.0                      0.0   \n",
       "29                3.0              84.0  1.0   1.0                      0.0   \n",
       "\n",
       "    Primary Payor  Census Median Income Quartiles 2008-2012  ...  \\\n",
       "2             3.0                                       4.0  ...   \n",
       "6             1.0                                       1.0  ...   \n",
       "14            3.0                                       4.0  ...   \n",
       "24            1.0                                       NaN  ...   \n",
       "29            3.0                                       3.0  ...   \n",
       "\n",
       "    Grade Clinical SSDI Item 3843  KRAS SSDI Item 3866  \\\n",
       "2                             NaN                  NaN   \n",
       "6                             NaN                  NaN   \n",
       "14                            NaN                  NaN   \n",
       "24                            NaN                  NaN   \n",
       "29                            NaN                  NaN   \n",
       "\n",
       "    Microsatellite Instability (MSI) SSDI Item 3890  \\\n",
       "2                                               NaN   \n",
       "6                                               NaN   \n",
       "14                                              NaN   \n",
       "24                                              NaN   \n",
       "29                                              NaN   \n",
       "\n",
       "    Perineural Invasion SSDI Item 3909  pstage  pcr  stage  t_stage  n_stage  \\\n",
       "2                                  NaN      3A  0.0      2      3.0        0   \n",
       "6                                  NaN       0  1.0      2      3.0        0   \n",
       "14                                 NaN      3B  0.0      2      3.0        0   \n",
       "24                                 NaN       0  1.0      3      3.0        1   \n",
       "29                                 NaN       1  0.0      2      3.0        0   \n",
       "\n",
       "    m_stage  \n",
       "2       0.0  \n",
       "6       0.0  \n",
       "14      0.0  \n",
       "24      0.0  \n",
       "29      0.0  \n",
       "\n",
       "[5 rows x 49 columns]"
      ]
     },
     "execution_count": 233,
     "metadata": {},
     "output_type": "execute_result"
    }
   ],
   "source": [
    "data.head()"
   ]
  },
  {
   "cell_type": "code",
   "execution_count": 234,
   "metadata": {},
   "outputs": [],
   "source": [
    "#save the data out to use in rename.ipynb\n",
    "data.set_index('Case Key', inplace=True, drop=True)\n",
    "data.to_csv('../data/table1_data.csv', index_label='Case Key')"
   ]
  },
  {
   "cell_type": "code",
   "execution_count": null,
   "metadata": {},
   "outputs": [],
   "source": []
  }
 ],
 "metadata": {
  "interpreter": {
   "hash": "916dbcbb3f70747c44a77c7bcd40155683ae19c65e1c03b4aa3499c5328201f1"
  },
  "kernelspec": {
   "display_name": "Python 3.8.10 64-bit",
   "language": "python",
   "name": "python3"
  },
  "language_info": {
   "codemirror_mode": {
    "name": "ipython",
    "version": 3
   },
   "file_extension": ".py",
   "mimetype": "text/x-python",
   "name": "python",
   "nbconvert_exporter": "python",
   "pygments_lexer": "ipython3",
   "version": "3.8.10"
  },
  "orig_nbformat": 4
 },
 "nbformat": 4,
 "nbformat_minor": 2
}
