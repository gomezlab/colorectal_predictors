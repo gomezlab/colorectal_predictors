{
 "cells": [
  {
   "cell_type": "code",
   "execution_count": 105,
   "metadata": {},
   "outputs": [],
   "source": [
    "import pandas as pd\n",
    "import numpy as np\n",
    "from tableone import TableOne\n",
    "#show more columns\n",
    "pd.set_option('display.max_columns', None)"
   ]
  },
  {
   "cell_type": "code",
   "execution_count": 106,
   "metadata": {},
   "outputs": [
    {
     "name": "stderr",
     "output_type": "stream",
     "text": [
      "/home/kchen/.local/lib/python3.8/site-packages/IPython/core/interactiveshell.py:3361: DtypeWarning: Columns (13) have mixed types.Specify dtype option on import or set low_memory=False.\n",
      "  exec(code_obj, self.user_global_ns, self.user_ns)\n"
     ]
    }
   ],
   "source": [
    "data = pd.read_csv('data/data_os_table1.csv', na_values=['nan'], index_col=0)"
   ]
  },
  {
   "cell_type": "code",
   "execution_count": 107,
   "metadata": {},
   "outputs": [
    {
     "data": {
      "text/html": [
       "<div>\n",
       "<style scoped>\n",
       "    .dataframe tbody tr th:only-of-type {\n",
       "        vertical-align: middle;\n",
       "    }\n",
       "\n",
       "    .dataframe tbody tr th {\n",
       "        vertical-align: top;\n",
       "    }\n",
       "\n",
       "    .dataframe thead th {\n",
       "        text-align: right;\n",
       "    }\n",
       "</style>\n",
       "<table border=\"1\" class=\"dataframe\">\n",
       "  <thead>\n",
       "    <tr style=\"text-align: right;\">\n",
       "      <th></th>\n",
       "      <th>FACILITY_TYPE_CD</th>\n",
       "      <th>FACILITY_LOCATION_CD</th>\n",
       "      <th>AGE</th>\n",
       "      <th>SEX</th>\n",
       "      <th>RACE</th>\n",
       "      <th>SPANISH_HISPANIC_ORIGIN</th>\n",
       "      <th>INSURANCE_STATUS</th>\n",
       "      <th>UR_CD_13</th>\n",
       "      <th>CROWFLY</th>\n",
       "      <th>CDCC_TOTAL_BEST</th>\n",
       "      <th>YEAR_OF_DIAGNOSIS</th>\n",
       "      <th>HISTOLOGY</th>\n",
       "      <th>GRADE</th>\n",
       "      <th>TUMOR_SIZE</th>\n",
       "      <th>LYMPH_VASCULAR_INVASION</th>\n",
       "      <th>RX_SUMM_SURG_PRIM_SITE</th>\n",
       "      <th>RX_SUMM_SURGICAL_MARGINS</th>\n",
       "      <th>SURG_DISCHARGE_DAYS</th>\n",
       "      <th>READM_HOSP_30_DAYS</th>\n",
       "      <th>REASON_FOR_NO_SURGERY</th>\n",
       "      <th>DX_RAD_STARTED_DAYS</th>\n",
       "      <th>RAD_ELAPSED_RX_DAYS</th>\n",
       "      <th>RX_SUMM_CHEMO</th>\n",
       "      <th>NO_HSD_QUAR_2016</th>\n",
       "      <th>MED_INC_QUAR_2016</th>\n",
       "      <th>PUF_MEDICAID_EXPN_CODE</th>\n",
       "      <th>TOTAL_DOSE</th>\n",
       "      <th>APR</th>\n",
       "      <th>stage</th>\n",
       "      <th>t_stage</th>\n",
       "      <th>n_stage</th>\n",
       "      <th>m_stage</th>\n",
       "      <th>p_stage</th>\n",
       "      <th>facs_quart_norm</th>\n",
       "      <th>3yr_mortality</th>\n",
       "    </tr>\n",
       "    <tr>\n",
       "      <th>PUF_CASE_ID</th>\n",
       "      <th></th>\n",
       "      <th></th>\n",
       "      <th></th>\n",
       "      <th></th>\n",
       "      <th></th>\n",
       "      <th></th>\n",
       "      <th></th>\n",
       "      <th></th>\n",
       "      <th></th>\n",
       "      <th></th>\n",
       "      <th></th>\n",
       "      <th></th>\n",
       "      <th></th>\n",
       "      <th></th>\n",
       "      <th></th>\n",
       "      <th></th>\n",
       "      <th></th>\n",
       "      <th></th>\n",
       "      <th></th>\n",
       "      <th></th>\n",
       "      <th></th>\n",
       "      <th></th>\n",
       "      <th></th>\n",
       "      <th></th>\n",
       "      <th></th>\n",
       "      <th></th>\n",
       "      <th></th>\n",
       "      <th></th>\n",
       "      <th></th>\n",
       "      <th></th>\n",
       "      <th></th>\n",
       "      <th></th>\n",
       "      <th></th>\n",
       "      <th></th>\n",
       "      <th></th>\n",
       "    </tr>\n",
       "  </thead>\n",
       "  <tbody>\n",
       "    <tr>\n",
       "      <th>D66f458f9-bdc0-4c95-94a3-a5f8c5bb74f9</th>\n",
       "      <td>3.0</td>\n",
       "      <td>5.0</td>\n",
       "      <td>52</td>\n",
       "      <td>2</td>\n",
       "      <td>1.0</td>\n",
       "      <td>0</td>\n",
       "      <td>0</td>\n",
       "      <td>2.0</td>\n",
       "      <td>3.6</td>\n",
       "      <td>0</td>\n",
       "      <td>2016</td>\n",
       "      <td>8070</td>\n",
       "      <td>2.0</td>\n",
       "      <td>38.0</td>\n",
       "      <td>0.0</td>\n",
       "      <td>0.0</td>\n",
       "      <td>8</td>\n",
       "      <td>NaN</td>\n",
       "      <td>0</td>\n",
       "      <td>1</td>\n",
       "      <td>86.0</td>\n",
       "      <td>NaN</td>\n",
       "      <td>3.0</td>\n",
       "      <td>1.0</td>\n",
       "      <td>1.0</td>\n",
       "      <td>0</td>\n",
       "      <td>0.0</td>\n",
       "      <td>0.0</td>\n",
       "      <td>2A</td>\n",
       "      <td>2.0</td>\n",
       "      <td>0.0</td>\n",
       "      <td>0</td>\n",
       "      <td>No surgery</td>\n",
       "      <td>3.0</td>\n",
       "      <td>0.0</td>\n",
       "    </tr>\n",
       "    <tr>\n",
       "      <th>Dfc68ea23-71aa-4b0d-87c0-587b4ce13d04</th>\n",
       "      <td>3.0</td>\n",
       "      <td>9.0</td>\n",
       "      <td>49</td>\n",
       "      <td>2</td>\n",
       "      <td>1.0</td>\n",
       "      <td>0</td>\n",
       "      <td>1</td>\n",
       "      <td>1.0</td>\n",
       "      <td>11.4</td>\n",
       "      <td>0</td>\n",
       "      <td>2004</td>\n",
       "      <td>8083</td>\n",
       "      <td>2.0</td>\n",
       "      <td>44.0</td>\n",
       "      <td>NaN</td>\n",
       "      <td>0.0</td>\n",
       "      <td>8</td>\n",
       "      <td>NaN</td>\n",
       "      <td>0</td>\n",
       "      <td>1</td>\n",
       "      <td>20.0</td>\n",
       "      <td>NaN</td>\n",
       "      <td>3.0</td>\n",
       "      <td>3.0</td>\n",
       "      <td>3.0</td>\n",
       "      <td>2</td>\n",
       "      <td>NaN</td>\n",
       "      <td>0.0</td>\n",
       "      <td>3A</td>\n",
       "      <td>2.0</td>\n",
       "      <td>1.0</td>\n",
       "      <td>0</td>\n",
       "      <td>No surgery</td>\n",
       "      <td>1.0</td>\n",
       "      <td>0.0</td>\n",
       "    </tr>\n",
       "    <tr>\n",
       "      <th>D54a1d0da-4328-4ca5-8481-87cd73b33dd4</th>\n",
       "      <td>3.0</td>\n",
       "      <td>6.0</td>\n",
       "      <td>58</td>\n",
       "      <td>1</td>\n",
       "      <td>1.0</td>\n",
       "      <td>0</td>\n",
       "      <td>2</td>\n",
       "      <td>1.0</td>\n",
       "      <td>14.0</td>\n",
       "      <td>0</td>\n",
       "      <td>2014</td>\n",
       "      <td>8070</td>\n",
       "      <td>2.0</td>\n",
       "      <td>86.0</td>\n",
       "      <td>0.0</td>\n",
       "      <td>27.0</td>\n",
       "      <td>7</td>\n",
       "      <td>0.0</td>\n",
       "      <td>0</td>\n",
       "      <td>0</td>\n",
       "      <td>35.0</td>\n",
       "      <td>58.0</td>\n",
       "      <td>3.0</td>\n",
       "      <td>4.0</td>\n",
       "      <td>4.0</td>\n",
       "      <td>2</td>\n",
       "      <td>5940.0</td>\n",
       "      <td>missing</td>\n",
       "      <td>2B</td>\n",
       "      <td>3.0</td>\n",
       "      <td>0.0</td>\n",
       "      <td>0</td>\n",
       "      <td>NaN</td>\n",
       "      <td>3.0</td>\n",
       "      <td>0.0</td>\n",
       "    </tr>\n",
       "    <tr>\n",
       "      <th>D62170955-5fc5-434e-8e6a-6a9e139851c4</th>\n",
       "      <td>3.0</td>\n",
       "      <td>6.0</td>\n",
       "      <td>80</td>\n",
       "      <td>2</td>\n",
       "      <td>1.0</td>\n",
       "      <td>0</td>\n",
       "      <td>3</td>\n",
       "      <td>1.0</td>\n",
       "      <td>NaN</td>\n",
       "      <td>0</td>\n",
       "      <td>2017</td>\n",
       "      <td>8070</td>\n",
       "      <td>3.0</td>\n",
       "      <td>25.0</td>\n",
       "      <td>9.0</td>\n",
       "      <td>22.0</td>\n",
       "      <td>0</td>\n",
       "      <td>NaN</td>\n",
       "      <td>0</td>\n",
       "      <td>0</td>\n",
       "      <td>34.0</td>\n",
       "      <td>39.0</td>\n",
       "      <td>3.0</td>\n",
       "      <td>NaN</td>\n",
       "      <td>NaN</td>\n",
       "      <td>2</td>\n",
       "      <td>5220.0</td>\n",
       "      <td>missing</td>\n",
       "      <td>1</td>\n",
       "      <td>1.0</td>\n",
       "      <td>0.0</td>\n",
       "      <td>0</td>\n",
       "      <td>NaN</td>\n",
       "      <td>3.0</td>\n",
       "      <td>0.0</td>\n",
       "    </tr>\n",
       "    <tr>\n",
       "      <th>Dbfa7903c-bd06-4e1c-9d22-a3d39ed96aee</th>\n",
       "      <td>4.0</td>\n",
       "      <td>4.0</td>\n",
       "      <td>42</td>\n",
       "      <td>2</td>\n",
       "      <td>1.0</td>\n",
       "      <td>0</td>\n",
       "      <td>1</td>\n",
       "      <td>1.0</td>\n",
       "      <td>12.7</td>\n",
       "      <td>0</td>\n",
       "      <td>2014</td>\n",
       "      <td>8070</td>\n",
       "      <td>3.0</td>\n",
       "      <td>20.0</td>\n",
       "      <td>0.0</td>\n",
       "      <td>27.0</td>\n",
       "      <td>1</td>\n",
       "      <td>0.0</td>\n",
       "      <td>0</td>\n",
       "      <td>0</td>\n",
       "      <td>45.0</td>\n",
       "      <td>44.0</td>\n",
       "      <td>3.0</td>\n",
       "      <td>4.0</td>\n",
       "      <td>4.0</td>\n",
       "      <td>1</td>\n",
       "      <td>NaN</td>\n",
       "      <td>missing</td>\n",
       "      <td>1</td>\n",
       "      <td>1.0</td>\n",
       "      <td>0.0</td>\n",
       "      <td>0</td>\n",
       "      <td>NaN</td>\n",
       "      <td>4.0</td>\n",
       "      <td>0.0</td>\n",
       "    </tr>\n",
       "  </tbody>\n",
       "</table>\n",
       "</div>"
      ],
      "text/plain": [
       "                                       FACILITY_TYPE_CD  FACILITY_LOCATION_CD  \\\n",
       "PUF_CASE_ID                                                                     \n",
       "D66f458f9-bdc0-4c95-94a3-a5f8c5bb74f9               3.0                   5.0   \n",
       "Dfc68ea23-71aa-4b0d-87c0-587b4ce13d04               3.0                   9.0   \n",
       "D54a1d0da-4328-4ca5-8481-87cd73b33dd4               3.0                   6.0   \n",
       "D62170955-5fc5-434e-8e6a-6a9e139851c4               3.0                   6.0   \n",
       "Dbfa7903c-bd06-4e1c-9d22-a3d39ed96aee               4.0                   4.0   \n",
       "\n",
       "                                       AGE  SEX  RACE  \\\n",
       "PUF_CASE_ID                                             \n",
       "D66f458f9-bdc0-4c95-94a3-a5f8c5bb74f9   52    2   1.0   \n",
       "Dfc68ea23-71aa-4b0d-87c0-587b4ce13d04   49    2   1.0   \n",
       "D54a1d0da-4328-4ca5-8481-87cd73b33dd4   58    1   1.0   \n",
       "D62170955-5fc5-434e-8e6a-6a9e139851c4   80    2   1.0   \n",
       "Dbfa7903c-bd06-4e1c-9d22-a3d39ed96aee   42    2   1.0   \n",
       "\n",
       "                                       SPANISH_HISPANIC_ORIGIN  \\\n",
       "PUF_CASE_ID                                                      \n",
       "D66f458f9-bdc0-4c95-94a3-a5f8c5bb74f9                        0   \n",
       "Dfc68ea23-71aa-4b0d-87c0-587b4ce13d04                        0   \n",
       "D54a1d0da-4328-4ca5-8481-87cd73b33dd4                        0   \n",
       "D62170955-5fc5-434e-8e6a-6a9e139851c4                        0   \n",
       "Dbfa7903c-bd06-4e1c-9d22-a3d39ed96aee                        0   \n",
       "\n",
       "                                       INSURANCE_STATUS  UR_CD_13  CROWFLY  \\\n",
       "PUF_CASE_ID                                                                  \n",
       "D66f458f9-bdc0-4c95-94a3-a5f8c5bb74f9                 0       2.0      3.6   \n",
       "Dfc68ea23-71aa-4b0d-87c0-587b4ce13d04                 1       1.0     11.4   \n",
       "D54a1d0da-4328-4ca5-8481-87cd73b33dd4                 2       1.0     14.0   \n",
       "D62170955-5fc5-434e-8e6a-6a9e139851c4                 3       1.0      NaN   \n",
       "Dbfa7903c-bd06-4e1c-9d22-a3d39ed96aee                 1       1.0     12.7   \n",
       "\n",
       "                                       CDCC_TOTAL_BEST  YEAR_OF_DIAGNOSIS  \\\n",
       "PUF_CASE_ID                                                                 \n",
       "D66f458f9-bdc0-4c95-94a3-a5f8c5bb74f9                0               2016   \n",
       "Dfc68ea23-71aa-4b0d-87c0-587b4ce13d04                0               2004   \n",
       "D54a1d0da-4328-4ca5-8481-87cd73b33dd4                0               2014   \n",
       "D62170955-5fc5-434e-8e6a-6a9e139851c4                0               2017   \n",
       "Dbfa7903c-bd06-4e1c-9d22-a3d39ed96aee                0               2014   \n",
       "\n",
       "                                       HISTOLOGY GRADE  TUMOR_SIZE  \\\n",
       "PUF_CASE_ID                                                          \n",
       "D66f458f9-bdc0-4c95-94a3-a5f8c5bb74f9       8070   2.0        38.0   \n",
       "Dfc68ea23-71aa-4b0d-87c0-587b4ce13d04       8083   2.0        44.0   \n",
       "D54a1d0da-4328-4ca5-8481-87cd73b33dd4       8070   2.0        86.0   \n",
       "D62170955-5fc5-434e-8e6a-6a9e139851c4       8070   3.0        25.0   \n",
       "Dbfa7903c-bd06-4e1c-9d22-a3d39ed96aee       8070   3.0        20.0   \n",
       "\n",
       "                                       LYMPH_VASCULAR_INVASION  \\\n",
       "PUF_CASE_ID                                                      \n",
       "D66f458f9-bdc0-4c95-94a3-a5f8c5bb74f9                      0.0   \n",
       "Dfc68ea23-71aa-4b0d-87c0-587b4ce13d04                      NaN   \n",
       "D54a1d0da-4328-4ca5-8481-87cd73b33dd4                      0.0   \n",
       "D62170955-5fc5-434e-8e6a-6a9e139851c4                      9.0   \n",
       "Dbfa7903c-bd06-4e1c-9d22-a3d39ed96aee                      0.0   \n",
       "\n",
       "                                       RX_SUMM_SURG_PRIM_SITE  \\\n",
       "PUF_CASE_ID                                                     \n",
       "D66f458f9-bdc0-4c95-94a3-a5f8c5bb74f9                     0.0   \n",
       "Dfc68ea23-71aa-4b0d-87c0-587b4ce13d04                     0.0   \n",
       "D54a1d0da-4328-4ca5-8481-87cd73b33dd4                    27.0   \n",
       "D62170955-5fc5-434e-8e6a-6a9e139851c4                    22.0   \n",
       "Dbfa7903c-bd06-4e1c-9d22-a3d39ed96aee                    27.0   \n",
       "\n",
       "                                       RX_SUMM_SURGICAL_MARGINS  \\\n",
       "PUF_CASE_ID                                                       \n",
       "D66f458f9-bdc0-4c95-94a3-a5f8c5bb74f9                         8   \n",
       "Dfc68ea23-71aa-4b0d-87c0-587b4ce13d04                         8   \n",
       "D54a1d0da-4328-4ca5-8481-87cd73b33dd4                         7   \n",
       "D62170955-5fc5-434e-8e6a-6a9e139851c4                         0   \n",
       "Dbfa7903c-bd06-4e1c-9d22-a3d39ed96aee                         1   \n",
       "\n",
       "                                       SURG_DISCHARGE_DAYS  \\\n",
       "PUF_CASE_ID                                                  \n",
       "D66f458f9-bdc0-4c95-94a3-a5f8c5bb74f9                  NaN   \n",
       "Dfc68ea23-71aa-4b0d-87c0-587b4ce13d04                  NaN   \n",
       "D54a1d0da-4328-4ca5-8481-87cd73b33dd4                  0.0   \n",
       "D62170955-5fc5-434e-8e6a-6a9e139851c4                  NaN   \n",
       "Dbfa7903c-bd06-4e1c-9d22-a3d39ed96aee                  0.0   \n",
       "\n",
       "                                       READM_HOSP_30_DAYS  \\\n",
       "PUF_CASE_ID                                                 \n",
       "D66f458f9-bdc0-4c95-94a3-a5f8c5bb74f9                   0   \n",
       "Dfc68ea23-71aa-4b0d-87c0-587b4ce13d04                   0   \n",
       "D54a1d0da-4328-4ca5-8481-87cd73b33dd4                   0   \n",
       "D62170955-5fc5-434e-8e6a-6a9e139851c4                   0   \n",
       "Dbfa7903c-bd06-4e1c-9d22-a3d39ed96aee                   0   \n",
       "\n",
       "                                       REASON_FOR_NO_SURGERY  \\\n",
       "PUF_CASE_ID                                                    \n",
       "D66f458f9-bdc0-4c95-94a3-a5f8c5bb74f9                      1   \n",
       "Dfc68ea23-71aa-4b0d-87c0-587b4ce13d04                      1   \n",
       "D54a1d0da-4328-4ca5-8481-87cd73b33dd4                      0   \n",
       "D62170955-5fc5-434e-8e6a-6a9e139851c4                      0   \n",
       "Dbfa7903c-bd06-4e1c-9d22-a3d39ed96aee                      0   \n",
       "\n",
       "                                       DX_RAD_STARTED_DAYS  \\\n",
       "PUF_CASE_ID                                                  \n",
       "D66f458f9-bdc0-4c95-94a3-a5f8c5bb74f9                 86.0   \n",
       "Dfc68ea23-71aa-4b0d-87c0-587b4ce13d04                 20.0   \n",
       "D54a1d0da-4328-4ca5-8481-87cd73b33dd4                 35.0   \n",
       "D62170955-5fc5-434e-8e6a-6a9e139851c4                 34.0   \n",
       "Dbfa7903c-bd06-4e1c-9d22-a3d39ed96aee                 45.0   \n",
       "\n",
       "                                       RAD_ELAPSED_RX_DAYS  RX_SUMM_CHEMO  \\\n",
       "PUF_CASE_ID                                                                 \n",
       "D66f458f9-bdc0-4c95-94a3-a5f8c5bb74f9                  NaN            3.0   \n",
       "Dfc68ea23-71aa-4b0d-87c0-587b4ce13d04                  NaN            3.0   \n",
       "D54a1d0da-4328-4ca5-8481-87cd73b33dd4                 58.0            3.0   \n",
       "D62170955-5fc5-434e-8e6a-6a9e139851c4                 39.0            3.0   \n",
       "Dbfa7903c-bd06-4e1c-9d22-a3d39ed96aee                 44.0            3.0   \n",
       "\n",
       "                                       NO_HSD_QUAR_2016  MED_INC_QUAR_2016  \\\n",
       "PUF_CASE_ID                                                                  \n",
       "D66f458f9-bdc0-4c95-94a3-a5f8c5bb74f9               1.0                1.0   \n",
       "Dfc68ea23-71aa-4b0d-87c0-587b4ce13d04               3.0                3.0   \n",
       "D54a1d0da-4328-4ca5-8481-87cd73b33dd4               4.0                4.0   \n",
       "D62170955-5fc5-434e-8e6a-6a9e139851c4               NaN                NaN   \n",
       "Dbfa7903c-bd06-4e1c-9d22-a3d39ed96aee               4.0                4.0   \n",
       "\n",
       "                                       PUF_MEDICAID_EXPN_CODE  TOTAL_DOSE  \\\n",
       "PUF_CASE_ID                                                                 \n",
       "D66f458f9-bdc0-4c95-94a3-a5f8c5bb74f9                       0         0.0   \n",
       "Dfc68ea23-71aa-4b0d-87c0-587b4ce13d04                       2         NaN   \n",
       "D54a1d0da-4328-4ca5-8481-87cd73b33dd4                       2      5940.0   \n",
       "D62170955-5fc5-434e-8e6a-6a9e139851c4                       2      5220.0   \n",
       "Dbfa7903c-bd06-4e1c-9d22-a3d39ed96aee                       1         NaN   \n",
       "\n",
       "                                           APR stage  t_stage  n_stage  \\\n",
       "PUF_CASE_ID                                                              \n",
       "D66f458f9-bdc0-4c95-94a3-a5f8c5bb74f9      0.0    2A      2.0      0.0   \n",
       "Dfc68ea23-71aa-4b0d-87c0-587b4ce13d04      0.0    3A      2.0      1.0   \n",
       "D54a1d0da-4328-4ca5-8481-87cd73b33dd4  missing    2B      3.0      0.0   \n",
       "D62170955-5fc5-434e-8e6a-6a9e139851c4  missing     1      1.0      0.0   \n",
       "Dbfa7903c-bd06-4e1c-9d22-a3d39ed96aee  missing     1      1.0      0.0   \n",
       "\n",
       "                                       m_stage     p_stage  facs_quart_norm  \\\n",
       "PUF_CASE_ID                                                                   \n",
       "D66f458f9-bdc0-4c95-94a3-a5f8c5bb74f9        0  No surgery              3.0   \n",
       "Dfc68ea23-71aa-4b0d-87c0-587b4ce13d04        0  No surgery              1.0   \n",
       "D54a1d0da-4328-4ca5-8481-87cd73b33dd4        0         NaN              3.0   \n",
       "D62170955-5fc5-434e-8e6a-6a9e139851c4        0         NaN              3.0   \n",
       "Dbfa7903c-bd06-4e1c-9d22-a3d39ed96aee        0         NaN              4.0   \n",
       "\n",
       "                                       3yr_mortality  \n",
       "PUF_CASE_ID                                           \n",
       "D66f458f9-bdc0-4c95-94a3-a5f8c5bb74f9            0.0  \n",
       "Dfc68ea23-71aa-4b0d-87c0-587b4ce13d04            0.0  \n",
       "D54a1d0da-4328-4ca5-8481-87cd73b33dd4            0.0  \n",
       "D62170955-5fc5-434e-8e6a-6a9e139851c4            0.0  \n",
       "Dbfa7903c-bd06-4e1c-9d22-a3d39ed96aee            0.0  "
      ]
     },
     "execution_count": 107,
     "metadata": {},
     "output_type": "execute_result"
    }
   ],
   "source": [
    "data.head()"
   ]
  },
  {
   "cell_type": "code",
   "execution_count": 108,
   "metadata": {},
   "outputs": [],
   "source": [
    "id_cols = ['PUF_CASE_ID', 'CLASS_OF_CASE', 'YEAR_OF_DIAGNOSIS']\n",
    "\n",
    "fac_cols = [ 'PUF_FACILITY_ID', 'FACILITY_TYPE_CD', 'FACILITY_LOCATION_CD']\n",
    "\n",
    "dem_cols = ['AGE',  'SEX', 'RACE', 'SPANISH_HISPANIC_ORIGIN']\n",
    "\n",
    "ses_cols = ['INSURANCE_STATUS', 'UR_CD_13', 'CROWFLY', 'NO_HSD_QUAR_2016', 'MED_INC_QUAR_2016', 'PUF_MEDICAID_EXPN_CODE']\n",
    "\n",
    "medco_cols = ['CDCC_TOTAL_BEST']\n",
    "\n",
    "tumor_cols = ['HISTOLOGY', 'GRADE', 'TUMOR_SIZE', 'METS_AT_DX_LIVER', 'LYMPH_VASCULAR_INVASION',]\n",
    "\n",
    "rad_cols = ['DX_RX_STARTED_DAYS', 'RAD_ELAPSED_RX_DAYS', 'REASON_FOR_NO_RADIATION', 'RAD_RX_DISC_EARLY','TOTAL_DOSE',]\n",
    "\n",
    "surg_cols = ['DX_SURG_STARTED_DAYS', 'RX_SUMM_SURG_PRIM_SITE', 'RX_SUMM_SURGICAL_MARGINS','SURG_DISCHARGE_DAYS', 'READM_HOSP_30_DAYS', 'REASON_FOR_NO_SURGERY']\n",
    "\n",
    "os_cols = ['DX_LASTCONTACT_DEATH_MONTHS', 'PUF_VITAL_STATUS',]\n",
    "\n",
    "incl = id_cols + fac_cols + dem_cols + ses_cols + medco_cols + tumor_cols + rad_cols + surg_cols + os_cols"
   ]
  },
  {
   "cell_type": "code",
   "execution_count": 109,
   "metadata": {},
   "outputs": [
    {
     "data": {
      "text/plain": [
       "['PUF_CASE_ID',\n",
       " 'CLASS_OF_CASE',\n",
       " 'PUF_FACILITY_ID',\n",
       " 'METS_AT_DX_LIVER',\n",
       " 'DX_RX_STARTED_DAYS',\n",
       " 'REASON_FOR_NO_RADIATION',\n",
       " 'RAD_RX_DISC_EARLY',\n",
       " 'DX_SURG_STARTED_DAYS',\n",
       " 'DX_LASTCONTACT_DEATH_MONTHS',\n",
       " 'PUF_VITAL_STATUS']"
      ]
     },
     "execution_count": 109,
     "metadata": {},
     "output_type": "execute_result"
    }
   ],
   "source": [
    "cols = data.columns.to_list()\n",
    "\n",
    "not_cols = []\n",
    "for x in incl:\n",
    "    if x not in cols:\n",
    "        not_cols.append(x)\n",
    "not_cols"
   ]
  },
  {
   "cell_type": "code",
   "execution_count": 110,
   "metadata": {},
   "outputs": [
    {
     "data": {
      "text/plain": [
       "(33834, 35)"
      ]
     },
     "execution_count": 110,
     "metadata": {},
     "output_type": "execute_result"
    }
   ],
   "source": [
    "data.shape"
   ]
  },
  {
   "cell_type": "code",
   "execution_count": 111,
   "metadata": {},
   "outputs": [],
   "source": [
    "cols = data.columns.to_list()"
   ]
  },
  {
   "cell_type": "code",
   "execution_count": 112,
   "metadata": {},
   "outputs": [
    {
     "data": {
      "text/plain": [
       "['FACILITY_TYPE_CD',\n",
       " 'FACILITY_LOCATION_CD',\n",
       " 'AGE',\n",
       " 'SEX',\n",
       " 'RACE',\n",
       " 'SPANISH_HISPANIC_ORIGIN',\n",
       " 'INSURANCE_STATUS',\n",
       " 'UR_CD_13',\n",
       " 'CROWFLY',\n",
       " 'CDCC_TOTAL_BEST',\n",
       " 'YEAR_OF_DIAGNOSIS',\n",
       " 'HISTOLOGY',\n",
       " 'GRADE',\n",
       " 'TUMOR_SIZE',\n",
       " 'LYMPH_VASCULAR_INVASION',\n",
       " 'RX_SUMM_SURG_PRIM_SITE',\n",
       " 'RX_SUMM_SURGICAL_MARGINS',\n",
       " 'SURG_DISCHARGE_DAYS',\n",
       " 'READM_HOSP_30_DAYS',\n",
       " 'REASON_FOR_NO_SURGERY',\n",
       " 'DX_RAD_STARTED_DAYS',\n",
       " 'RAD_ELAPSED_RX_DAYS',\n",
       " 'RX_SUMM_CHEMO',\n",
       " 'NO_HSD_QUAR_2016',\n",
       " 'MED_INC_QUAR_2016',\n",
       " 'PUF_MEDICAID_EXPN_CODE',\n",
       " 'TOTAL_DOSE',\n",
       " 'APR',\n",
       " 'stage',\n",
       " 't_stage',\n",
       " 'n_stage',\n",
       " 'm_stage',\n",
       " 'p_stage',\n",
       " 'facs_quart_norm',\n",
       " '3yr_mortality']"
      ]
     },
     "execution_count": 112,
     "metadata": {},
     "output_type": "execute_result"
    }
   ],
   "source": [
    "cols"
   ]
  },
  {
   "cell_type": "markdown",
   "metadata": {},
   "source": [
    "['FACILITY_TYPE_CD',\n",
    " 'FACILITY_LOCATION_CD',\n",
    " 'AGE',\n",
    " 'SEX',\n",
    " 'RACE',\n",
    " 'SPANISH_HISPANIC_ORIGIN',\n",
    " 'INSURANCE_STATUS',\n",
    " 'UR_CD_13',\n",
    " 'CROWFLY',\n",
    " 'CDCC_TOTAL_BEST',\n",
    " 'YEAR_OF_DIAGNOSIS',\n",
    " 'HISTOLOGY',\n",
    " 'BEHAVIOR',\n",
    " 'GRADE',\n",
    " 'TUMOR_SIZE',\n",
    " 'LYMPH_VASCULAR_INVASION',\n",
    " 'DX_RX_STARTED_DAYS',\n",
    " 'DX_SURG_STARTED_DAYS',\n",
    " 'RX_SUMM_SURGICAL_MARGINS',\n",
    " 'SURG_DISCHARGE_DAYS',\n",
    " 'READM_HOSP_30_DAYS',\n",
    " 'REASON_FOR_NO_SURGERY',\n",
    " 'RAD_ELAPSED_RX_DAYS',\n",
    " 'NO_HSD_QUAR_2016',\n",
    " 'MED_INC_QUAR_2016',\n",
    " 'PUF_MEDICAID_EXPN_CODE',\n",
    " 'RAD_RX_DISC_EARLY',\n",
    " 'TOTAL_DOSE',\n",
    " 'stage',\n",
    " 'mstage',\n",
    " 'facs_quart',\n",
    " 'pstage',\n",
    " 'tstage',\n",
    " 'nstage',\n",
    " 'APR',\n",
    " '3yr_mortality']"
   ]
  },
  {
   "cell_type": "code",
   "execution_count": 113,
   "metadata": {},
   "outputs": [],
   "source": [
    "cols = data.columns.to_list()\n",
    "num_cols = ['AGE', 'CROWFLY', 'TUMOR_SIZE', 'DX_RAD_STARTED_DAYS','DX_SURG_STARTED_DAYS','RAD_ELAPSED_RX_DAYS','SURG_DISCHARGE_DAYS','READM_HOSP_30_DAYS','TOTAL_DOSE',]\n",
    "cat_cols = [x for x in cols if x not in num_cols]"
   ]
  },
  {
   "cell_type": "code",
   "execution_count": 114,
   "metadata": {},
   "outputs": [],
   "source": [
    "#convert all values in cat_cols to strings except for NaN\n",
    "for col in cat_cols:\n",
    "    data[col] = data[col].astype(str)"
   ]
  },
  {
   "cell_type": "markdown",
   "metadata": {},
   "source": [
    "data.loc[data['X'] == 'Y', 'X'] = 'Z'"
   ]
  },
  {
   "cell_type": "markdown",
   "metadata": {},
   "source": [
    "data['X'].value_counts(dropna=False)"
   ]
  },
  {
   "cell_type": "markdown",
   "metadata": {},
   "source": [
    "data.loc[data['X'] == 'None assigned', 'X'] = np.NaN\n",
    "data['X'].fillna('Unknown', inplace=True)\n",
    "data.loc[data['X'] == \"Unknown\", 'X'] = np.NaN\n",
    "data['X'].value_counts(dropna=False)"
   ]
  },
  {
   "cell_type": "code",
   "execution_count": 115,
   "metadata": {},
   "outputs": [],
   "source": [
    "data.drop(['RX_SUMM_SURG_PRIM_SITE', 'RAD_ELAPSED_RX_DAYS'], axis=1, inplace=True)"
   ]
  },
  {
   "cell_type": "code",
   "execution_count": 116,
   "metadata": {},
   "outputs": [],
   "source": [
    "data.rename({'FACILITY_LOCATION_CD': 'Facility Location',\n",
    "            'FACILITY_TYPE_CD': 'Facility Type',\n",
    "            'AGE': 'Age',\n",
    "            'SEX': 'Sex',\n",
    "            'RACE': 'Race',\n",
    "            'SPANISH_HISPANIC_ORIGIN': 'Hispanic Ethnicity',\n",
    "            'INSURANCE_STATUS': 'Insurance Status',\n",
    "            'UR_CD_13': 'Urban/Rural',\n",
    "            'CROWFLY': 'Distance from Hospital',\n",
    "            'CDCC_TOTAL_BEST': 'Charlson-Deyo Score',\n",
    "            'YEAR_OF_DIAGNOSIS': 'Year of Diagnosis',\n",
    "            'HISTOLOGY': 'Histology',\n",
    "            'GRADE': 'Grade',\n",
    "            'TUMOR_SIZE': 'Tumor Size',\n",
    "            'LYMPH_VASCULAR_INVASION': 'Lymphovascular Invasion',\n",
    "            'DX_RAD_STARTED_DAYS': 'Treatment Started, Days from Dx',\n",
    "            'RX_SUMM_CHEMO': 'Chemotherapy',\n",
    "            'DX_SURG_STARTED_DAYS': 'Surgery, Days from Dx',\n",
    "            'RX_SUMM_SURGICAL_MARGINS': 'Surgical Margins',\n",
    "            'SURG_DISCHARGE_DAYS': 'Post-op Length of Stay',\n",
    "            'READM_HOSP_30_DAYS': 'Post-op Readmission',\n",
    "            'REASON_FOR_NO_SURGERY': 'Reason for No Surgery',\n",
    "            'RAD_ELAPSED_RX_DAYS': 'Duration of Radiation, Days',\n",
    "            'NO_HSD_QUAR_2016': 'No High School Degree, Quartile',\n",
    "            'MED_INC_QUAR_2016': 'Income, Quartile',\n",
    "            'PUF_MEDICAID_EXPN_CODE': 'Medicaid Expansion',\n",
    "            'RAD_RX_DISC_EARLY': 'Radiation Discontinued Early',\n",
    "            'TOTAL_DOSE': 'Total Dose',\n",
    "            'stage': 'Stage',\n",
    "            'm_stage': 'M Stage',\n",
    "            'facs_quart_norm': 'Facility Volume Quartile',\n",
    "            'p_stage': 'Pathologic Stage',\n",
    "            't_stage': 'T Stage',\n",
    "            'n_stage': 'N Stage',\n",
    "            'APR': 'APR performed',\n",
    "            '3yr_mortality': '3-yr Mortality'}, axis=1, inplace=True)"
   ]
  },
  {
   "cell_type": "code",
   "execution_count": 117,
   "metadata": {},
   "outputs": [],
   "source": [
    "cols = data.columns.to_list()\n",
    "num_cols = ['Age', 'Distance from Hospital', 'Tumor Size', 'Treatment Started, Days from Dx', 'Surgery, Days from Dx', 'Post-op Length of Stay', 'Total Dose']\n",
    "cat_cols = [x for x in cols if x not in num_cols]\n",
    "\n",
    "#convert all values in cat_cols to strings except for NaN\n",
    "for col in cat_cols:\n",
    "    data[col] = data[col].astype(str)"
   ]
  },
  {
   "cell_type": "code",
   "execution_count": 118,
   "metadata": {},
   "outputs": [
    {
     "data": {
      "text/plain": [
       "3.0     26951\n",
       "2.0      3361\n",
       "1.0      1491\n",
       "0.0      1441\n",
       "82.0      266\n",
       "87.0      178\n",
       "88.0       87\n",
       "86.0       26\n",
       "nan        22\n",
       "85.0       11\n",
       "Name: Chemotherapy, dtype: int64"
      ]
     },
     "execution_count": 118,
     "metadata": {},
     "output_type": "execute_result"
    }
   ],
   "source": [
    "data['Chemotherapy'].value_counts(dropna=False)"
   ]
  },
  {
   "cell_type": "code",
   "execution_count": 119,
   "metadata": {},
   "outputs": [
    {
     "data": {
      "text/plain": [
       "Multi-agent     26951\n",
       "Single-agent     3361\n",
       "None             1911\n",
       "NaN              1578\n",
       "nan                22\n",
       "Name: Chemotherapy, dtype: int64"
      ]
     },
     "execution_count": 119,
     "metadata": {},
     "output_type": "execute_result"
    }
   ],
   "source": [
    "data.loc[data['Chemotherapy'] == '3.0', 'Chemotherapy'] = 'Multi-agent'\n",
    "data.loc[data['Chemotherapy'] == '2.0', 'Chemotherapy'] = 'Single-agent'\n",
    "data.loc[data['Chemotherapy'] == '1.0', 'Chemotherapy'] = np.NaN\n",
    "data.loc[data['Chemotherapy'] == '0.0', 'Chemotherapy'] = 'None'\n",
    "data.loc[data['Chemotherapy'] == '88.0', 'Chemotherapy'] = np.NaN\n",
    "data.loc[data['Chemotherapy'] == '82.0', 'Chemotherapy'] = 'None'\n",
    "data.loc[data['Chemotherapy'] == '87.0', 'Chemotherapy'] = 'None'\n",
    "data.loc[data['Chemotherapy'] == '86.0', 'Chemotherapy'] = 'None'\n",
    "data = data[data['Chemotherapy'] != '85.0']\n",
    "data['Chemotherapy'].value_counts(dropna=False)"
   ]
  },
  {
   "cell_type": "code",
   "execution_count": 120,
   "metadata": {},
   "outputs": [
    {
     "data": {
      "text/plain": [
       "3.0    7332\n",
       "4.0    5824\n",
       "2.0    4728\n",
       "9.0    4607\n",
       "6.0    2536\n",
       "5.0    2359\n",
       "1.0    2073\n",
       "7.0    1861\n",
       "8.0    1519\n",
       "nan     984\n",
       "Name: Facility Location, dtype: int64"
      ]
     },
     "execution_count": 120,
     "metadata": {},
     "output_type": "execute_result"
    }
   ],
   "source": [
    "data['Facility Location'].value_counts()"
   ]
  },
  {
   "cell_type": "code",
   "execution_count": 121,
   "metadata": {},
   "outputs": [],
   "source": [
    "data.loc[data['Facility Location'] == '1.0', 'Facility Location'] = 'NE'\n",
    "data.loc[data['Facility Location'] == '2.0', 'Facility Location'] = 'NE'\n",
    "data.loc[data['Facility Location'] == '3.0', 'Facility Location'] = 'South'\n",
    "data.loc[data['Facility Location'] == '4.0', 'Facility Location'] = 'Midwest'\n",
    "data.loc[data['Facility Location'] == '5.0', 'Facility Location'] = 'Midwest'\n",
    "data.loc[data['Facility Location'] == '6.0', 'Facility Location'] = 'Midwest'\n",
    "data.loc[data['Facility Location'] == '7.0', 'Facility Location'] = 'South'\n",
    "data.loc[data['Facility Location'] == '8.0', 'Facility Location'] = 'West'\n",
    "data.loc[data['Facility Location'] == '9.0', 'Facility Location'] = 'West'\n"
   ]
  },
  {
   "cell_type": "code",
   "execution_count": 122,
   "metadata": {},
   "outputs": [
    {
     "data": {
      "text/plain": [
       "Midwest    10719\n",
       "South       9193\n",
       "NE          6801\n",
       "West        6126\n",
       "nan          984\n",
       "Name: Facility Location, dtype: int64"
      ]
     },
     "execution_count": 122,
     "metadata": {},
     "output_type": "execute_result"
    }
   ],
   "source": [
    "data.loc[data['Facility Location'] == 'None assigned', 'Facility Location'] = np.NaN\n",
    "data['Facility Location'].fillna('Unknown', inplace=True)\n",
    "data.loc[data['Facility Location'] == \"Unknown\", 'Facility Location'] = np.NaN\n",
    "data['Facility Location'].value_counts(dropna=False)"
   ]
  },
  {
   "cell_type": "code",
   "execution_count": 123,
   "metadata": {},
   "outputs": [
    {
     "data": {
      "text/plain": [
       "2    23145\n",
       "1    10678\n",
       "Name: Sex, dtype: int64"
      ]
     },
     "execution_count": 123,
     "metadata": {},
     "output_type": "execute_result"
    }
   ],
   "source": [
    "data['Sex'].value_counts()\n"
   ]
  },
  {
   "cell_type": "code",
   "execution_count": 124,
   "metadata": {},
   "outputs": [
    {
     "data": {
      "text/plain": [
       "Female    23145\n",
       "Male      10678\n",
       "Name: Sex, dtype: int64"
      ]
     },
     "execution_count": 124,
     "metadata": {},
     "output_type": "execute_result"
    }
   ],
   "source": [
    "data.loc[data['Sex'] == '1', 'Sex'] = 'Male'\n",
    "data.loc[data['Sex'] == '2', 'Sex'] = 'Female'\n",
    "data.loc[data['Sex'] == 'None assigned', 'Sex'] = np.NaN\n",
    "data['Sex'].fillna('Unknown', inplace=True)\n",
    "data.loc[data['Sex'] == \"Unknown\", 'Sex'] = np.NaN\n",
    "data['Sex'].value_counts(dropna=False)"
   ]
  },
  {
   "cell_type": "code",
   "execution_count": 125,
   "metadata": {},
   "outputs": [
    {
     "data": {
      "text/plain": [
       "1.0     29620\n",
       "2.0      3415\n",
       "nan       237\n",
       "98.0      203\n",
       "3.0        91\n",
       "96.0       52\n",
       "5.0        36\n",
       "4.0        32\n",
       "15.0       29\n",
       "8.0        29\n",
       "6.0        27\n",
       "7.0        16\n",
       "10.0       14\n",
       "97.0        6\n",
       "14.0        4\n",
       "13.0        4\n",
       "16.0        3\n",
       "31.0        2\n",
       "27.0        1\n",
       "17.0        1\n",
       "11.0        1\n",
       "Name: Race, dtype: int64"
      ]
     },
     "execution_count": 125,
     "metadata": {},
     "output_type": "execute_result"
    }
   ],
   "source": [
    "data['Race'].value_counts()"
   ]
  },
  {
   "cell_type": "markdown",
   "metadata": {},
   "source": [
    "#Specific labels from the PUF Data Dictionary\n",
    "\n",
    "data.loc[data['Race'] == '1.0', 'Race'] = 'White'\n",
    "\n",
    "data.loc[data['Race'] == '2.0', 'Race'] = 'Black'\n",
    "\n",
    "data.loc[data['Race'] == '3.0', 'Race'] = 'American Indian, Aleutian, or Eskimo'\n",
    "\n",
    "data.loc[data['Race'] == '4.0', 'Race'] = 'Chinese'\n",
    "data.loc[data['Race'] == '5.0', 'Race'] = 'Japanese'\n",
    "data.loc[data['Race'] == '8.0', 'Race'] = 'Korean'\n",
    "\n",
    "data.loc[data['Race'] == '6.0', 'Race'] = 'Filipino'\n",
    "data.loc[data['Race'] == '7.0', 'Race'] = 'Hawaiian'\n",
    "data.loc[data['Race'] == '20.0', 'Race'] = 'Micronesian, NOS'\n",
    "data.loc[data['Race'] == '22.0', 'Race'] = 'Guamanian, NOS'\n",
    "data.loc[data['Race'] == '27.0', 'Race'] = 'Samoan'\n",
    "data.loc[data['Race'] == '28.0', 'Race'] = 'Tongan'\n",
    "data.loc[data['Race'] == '31.0', 'Race'] = 'Fiji Islander'\n",
    "data.loc[data['Race'] == '32.0', 'Race'] = 'New Guinean'\n",
    "data.loc[data['Race'] == '97.0', 'Race'] = 'Pacific Islander, NOS'\n",
    "\n",
    "data.loc[data['Race'] == '10.0', 'Race'] = 'Vietnamese'\n",
    "data.loc[data['Race'] == '11.0', 'Race'] = 'Laotian'\n",
    "data.loc[data['Race'] == '12.0', 'Race'] = 'Hmong'\n",
    "data.loc[data['Race'] == '13.0', 'Race'] = 'Kampuchean (including Khmer and Cambodian)'\n",
    "data.loc[data['Race'] == '14.0', 'Race'] = 'Thai'\n",
    "data.loc[data['Race'] == '30.0', 'Race'] = 'Melanesian, NOS'\n",
    "\n",
    "data.loc[data['Race'] == '15.0', 'Race'] = 'Asian Indian or Pakistani, NOS (formerly code 09)'\n",
    "data.loc[data['Race'] == '16.0', 'Race'] = 'Asian Indian'\n",
    "data.loc[data['Race'] == '17.0', 'Race'] = 'Pakistani'\n",
    "\n",
    "data.loc[data['Race'] == '96.0', 'Race'] = 'Other Asian, including Asian, NOS andOriental, NOS'\n",
    "data.loc[data['Race'] == '98.0', 'Race'] = 'Other'"
   ]
  },
  {
   "cell_type": "code",
   "execution_count": 126,
   "metadata": {},
   "outputs": [
    {
     "data": {
      "text/plain": [
       "White    29620\n",
       "Black     3415\n",
       "Asian      296\n",
       "Other      255\n",
       "NaN        237\n",
       "Name: Race, dtype: int64"
      ]
     },
     "execution_count": 126,
     "metadata": {},
     "output_type": "execute_result"
    }
   ],
   "source": [
    "data.loc[data['Race'] == '1.0', 'Race'] = 'White'\n",
    "\n",
    "data.loc[data['Race'] == '2.0', 'Race'] = 'Black'\n",
    "\n",
    "data.loc[data['Race'] == '3.0', 'Race'] = 'Asian'\n",
    "\n",
    "data.loc[data['Race'] == '4.0', 'Race'] = 'Asian'\n",
    "data.loc[data['Race'] == '5.0', 'Race'] = 'Asian'\n",
    "data.loc[data['Race'] == '8.0', 'Race'] = 'Asian'\n",
    "\n",
    "data.loc[data['Race'] == '6.0', 'Race'] = 'Asian'\n",
    "data.loc[data['Race'] == '7.0', 'Race'] = 'Asian'\n",
    "data.loc[data['Race'] == '20.0', 'Race'] = 'Asian'\n",
    "data.loc[data['Race'] == '21.0', 'Race'] = 'Asian'\n",
    "data.loc[data['Race'] == '22.0', 'Race'] = 'Asian'\n",
    "data.loc[data['Race'] == '27.0', 'Race'] = 'Asian'\n",
    "data.loc[data['Race'] == '28.0', 'Race'] = 'Asian'\n",
    "data.loc[data['Race'] == '31.0', 'Race'] = 'Asian'\n",
    "data.loc[data['Race'] == '32.0', 'Race'] = 'Asian'\n",
    "data.loc[data['Race'] == '97.0', 'Race'] = 'Asian'\n",
    "\n",
    "data.loc[data['Race'] == '10.0', 'Race'] = 'Asian'\n",
    "data.loc[data['Race'] == '11.0', 'Race'] = 'Asian'\n",
    "data.loc[data['Race'] == '12.0', 'Race'] = 'Asian'\n",
    "data.loc[data['Race'] == '13.0', 'Race'] = 'Asian'\n",
    "data.loc[data['Race'] == '14.0', 'Race'] = 'Asian'\n",
    "data.loc[data['Race'] == '30.0', 'Race'] = 'Asian'\n",
    "\n",
    "data.loc[data['Race'] == '15.0', 'Race'] = 'Asian'\n",
    "data.loc[data['Race'] == '16.0', 'Race'] = 'Asian'\n",
    "data.loc[data['Race'] == '17.0', 'Race'] = 'Asian'\n",
    "\n",
    "data.loc[data['Race'] == '96.0', 'Race'] = 'Other'\n",
    "data.loc[data['Race'] == '98.0', 'Race'] = 'Other'\n",
    "\n",
    "\n",
    "data.loc[data['Race'] == 'None assigned', 'Race'] = np.NaN\n",
    "data.loc[data['Race'] == 'nan', 'Race'] = np.NaN\n",
    "data['Race'].fillna('Unknown', inplace=True)\n",
    "data.loc[data['Race'] == \"Unknown\", 'Race'] = np.NaN\n",
    "data['Race'].value_counts(dropna=False)"
   ]
  },
  {
   "cell_type": "code",
   "execution_count": 127,
   "metadata": {},
   "outputs": [
    {
     "data": {
      "text/plain": [
       "0    30884\n",
       "9     1480\n",
       "6      839\n",
       "1      153\n",
       "2      150\n",
       "4      123\n",
       "3       67\n",
       "7       53\n",
       "5       52\n",
       "8       22\n",
       "Name: Hispanic Ethnicity, dtype: int64"
      ]
     },
     "execution_count": 127,
     "metadata": {},
     "output_type": "execute_result"
    }
   ],
   "source": [
    "data['Hispanic Ethnicity'].value_counts()"
   ]
  },
  {
   "cell_type": "code",
   "execution_count": 128,
   "metadata": {},
   "outputs": [
    {
     "data": {
      "text/plain": [
       "Non-Hispanic    30884\n",
       "NaN              1480\n",
       "Hispanic         1459\n",
       "Name: Hispanic Ethnicity, dtype: int64"
      ]
     },
     "execution_count": 128,
     "metadata": {},
     "output_type": "execute_result"
    }
   ],
   "source": [
    "data.loc[data['Hispanic Ethnicity'] == '0', 'Hispanic Ethnicity'] = 'Non-Hispanic'\n",
    "data.loc[data['Hispanic Ethnicity'] == '1', 'Hispanic Ethnicity'] = 'Hispanic'\n",
    "data.loc[data['Hispanic Ethnicity'] == '2', 'Hispanic Ethnicity'] = 'Hispanic'\n",
    "data.loc[data['Hispanic Ethnicity'] == '3', 'Hispanic Ethnicity'] = 'Hispanic'\n",
    "data.loc[data['Hispanic Ethnicity'] == '4', 'Hispanic Ethnicity'] = 'Hispanic'\n",
    "data.loc[data['Hispanic Ethnicity'] == '5', 'Hispanic Ethnicity'] = 'Hispanic'\n",
    "data.loc[data['Hispanic Ethnicity'] == '6', 'Hispanic Ethnicity'] = 'Hispanic'\n",
    "data.loc[data['Hispanic Ethnicity'] == '7', 'Hispanic Ethnicity'] = 'Hispanic'\n",
    "data.loc[data['Hispanic Ethnicity'] == '8', 'Hispanic Ethnicity'] = 'Hispanic'\n",
    "data.loc[data['Hispanic Ethnicity'] == '9', 'Hispanic Ethnicity'] = 'Unknown'\n",
    "\n",
    "data.loc[data['Hispanic Ethnicity'] == 'None assigned', 'Hispanic Ethnicity'] = np.NaN\n",
    "data['Hispanic Ethnicity'].fillna('Unknown', inplace=True)\n",
    "data.loc[data['Hispanic Ethnicity'] == \"Unknown\", 'Hispanic Ethnicity'] = np.NaN\n",
    "data['Hispanic Ethnicity'].value_counts(dropna=False)"
   ]
  },
  {
   "cell_type": "code",
   "execution_count": 129,
   "metadata": {},
   "outputs": [],
   "source": [
    "data.rename({'INSURANCE_STATUS': 'Primary Payor'}, axis=1, inplace=True)"
   ]
  },
  {
   "cell_type": "code",
   "execution_count": 130,
   "metadata": {},
   "outputs": [
    {
     "data": {
      "text/plain": [
       "1    14912\n",
       "3    12983\n",
       "2     3208\n",
       "0     1579\n",
       "4      586\n",
       "9      555\n",
       "Name: Insurance Status, dtype: int64"
      ]
     },
     "execution_count": 130,
     "metadata": {},
     "output_type": "execute_result"
    }
   ],
   "source": [
    "data['Insurance Status'].value_counts()"
   ]
  },
  {
   "cell_type": "code",
   "execution_count": 131,
   "metadata": {},
   "outputs": [
    {
     "data": {
      "text/plain": [
       "Private Insurance or Managed Care    14912\n",
       "Medicare/Public                      13569\n",
       "Medicaid                              3208\n",
       "Not Insured                           1579\n",
       "NaN                                    555\n",
       "Name: Insurance Status, dtype: int64"
      ]
     },
     "execution_count": 131,
     "metadata": {},
     "output_type": "execute_result"
    }
   ],
   "source": [
    "data.loc[data['Insurance Status'] == '0', 'Insurance Status'] = 'Not Insured'\n",
    "data.loc[data['Insurance Status'] == '1', 'Insurance Status'] = 'Private Insurance or Managed Care'\n",
    "data.loc[data['Insurance Status'] == '2', 'Insurance Status'] = 'Medicaid'\n",
    "data.loc[data['Insurance Status'] == '3', 'Insurance Status'] = 'Medicare/Public'\n",
    "data.loc[data['Insurance Status'] == '4', 'Insurance Status'] = 'Medicare/Public'\n",
    "data.loc[data['Insurance Status'] == '9', 'Insurance Status'] = 'Unknown'\n",
    "\n",
    "data.loc[data['Insurance Status'] == 'None assigned', 'Insurance Status'] = np.NaN\n",
    "data['Insurance Status'].fillna('Unknown', inplace=True)\n",
    "data.loc[data['Insurance Status'] == \"Unknown\", 'Insurance Status'] = np.NaN\n",
    "data['Insurance Status'].value_counts(dropna=False)"
   ]
  },
  {
   "cell_type": "code",
   "execution_count": 132,
   "metadata": {},
   "outputs": [
    {
     "data": {
      "text/plain": [
       ">=$46,000            10117\n",
       "$30,000 - $34,999     7098\n",
       "$35,000 - $45,999     7037\n",
       "< $30,000             5953\n",
       "NaN                   3618\n",
       "Name: Income, Quartile, dtype: int64"
      ]
     },
     "execution_count": 132,
     "metadata": {},
     "output_type": "execute_result"
    }
   ],
   "source": [
    "data.loc[data['Income, Quartile'] == '1.0', 'Income, Quartile'] = '< $30,000'\n",
    "data.loc[data['Income, Quartile'] == '2.0', 'Income, Quartile'] = '$30,000 - $34,999'\n",
    "data.loc[data['Income, Quartile'] == '3.0', 'Income, Quartile'] = '$35,000 - $45,999'\n",
    "data.loc[data['Income, Quartile'] == '4.0', 'Income, Quartile'] = '>=$46,000'\n",
    "\n",
    "data.loc[data['Income, Quartile'] == 'None assigned', 'Income, Quartile'] = np.NaN\n",
    "data.loc[data['Income, Quartile'] == 'nan', 'Income, Quartile'] = np.NaN\n",
    "data['Income, Quartile'].fillna('Unknown', inplace=True)\n",
    "data.loc[data['Income, Quartile'] == \"Unknown\", 'Income, Quartile'] = np.NaN\n",
    "data['Income, Quartile'].value_counts(dropna=False)"
   ]
  },
  {
   "cell_type": "code",
   "execution_count": 133,
   "metadata": {},
   "outputs": [
    {
     "data": {
      "text/plain": [
       "7.0-12.9%     8388\n",
       "13.0-20.9%    8278\n",
       "<7.0%         7328\n",
       ">=21.0%       6262\n",
       "NaN           3567\n",
       "Name: No High School Degree, Quartile, dtype: int64"
      ]
     },
     "execution_count": 133,
     "metadata": {},
     "output_type": "execute_result"
    }
   ],
   "source": [
    "data.loc[data['No High School Degree, Quartile'] == '1.0', 'No High School Degree, Quartile'] = '>=21.0%'\n",
    "data.loc[data['No High School Degree, Quartile'] == '2.0', 'No High School Degree, Quartile'] = '13.0-20.9%'\n",
    "data.loc[data['No High School Degree, Quartile'] == '3.0', 'No High School Degree, Quartile'] = '7.0-12.9%'\n",
    "data.loc[data['No High School Degree, Quartile'] == '4.0', 'No High School Degree, Quartile'] = '<7.0%'\n",
    "\n",
    "data.loc[data['No High School Degree, Quartile'] == 'None assigned', 'No High School Degree, Quartile'] = np.NaN\n",
    "data.loc[data['No High School Degree, Quartile'] == 'nan', 'No High School Degree, Quartile'] = np.NaN\n",
    "data['No High School Degree, Quartile'].fillna('Unknown', inplace=True)\n",
    "data.loc[data['No High School Degree, Quartile'] == \"Unknown\", 'No High School Degree, Quartile'] = np.NaN\n",
    "data['No High School Degree, Quartile'].value_counts(dropna=False)"
   ]
  },
  {
   "cell_type": "code",
   "execution_count": 134,
   "metadata": {},
   "outputs": [
    {
     "data": {
      "text/plain": [
       "1.0    17556\n",
       "2.0     7037\n",
       "3.0     3434\n",
       "6.0     1696\n",
       "4.0     1475\n",
       "nan      886\n",
       "7.0      647\n",
       "5.0      536\n",
       "8.0      302\n",
       "9.0      254\n",
       "Name: Urban/Rural, dtype: int64"
      ]
     },
     "execution_count": 134,
     "metadata": {},
     "output_type": "execute_result"
    }
   ],
   "source": [
    "data['Urban/Rural'].value_counts()"
   ]
  },
  {
   "cell_type": "code",
   "execution_count": 135,
   "metadata": {},
   "outputs": [
    {
     "data": {
      "text/plain": [
       "Urban       28027\n",
       "Suburban     3707\n",
       "Rural        1203\n",
       "NaN           886\n",
       "Name: Urban/Rural, dtype: int64"
      ]
     },
     "execution_count": 135,
     "metadata": {},
     "output_type": "execute_result"
    }
   ],
   "source": [
    "data.loc[data['Urban/Rural'] == '1.0', 'Urban/Rural'] = 'Urban'\n",
    "data.loc[data['Urban/Rural'] == '2.0', 'Urban/Rural'] = 'Urban'\n",
    "data.loc[data['Urban/Rural'] == '3.0', 'Urban/Rural'] = 'Urban'\n",
    "data.loc[data['Urban/Rural'] == '4.0', 'Urban/Rural'] = 'Suburban'\n",
    "data.loc[data['Urban/Rural'] == '5.0', 'Urban/Rural'] = 'Suburban'\n",
    "data.loc[data['Urban/Rural'] == '6.0', 'Urban/Rural'] = 'Suburban'\n",
    "data.loc[data['Urban/Rural'] == '7.0', 'Urban/Rural'] = 'Rural'\n",
    "data.loc[data['Urban/Rural'] == '8.0', 'Urban/Rural'] = 'Rural'\n",
    "data.loc[data['Urban/Rural'] == '9.0', 'Urban/Rural'] = 'Rural'\n",
    "\n",
    "data.loc[data['Urban/Rural'] == 'None assigned', 'Urban/Rural'] = np.NaN\n",
    "data.loc[data['Urban/Rural'] == 'nan', 'Urban/Rural'] = np.NaN\n",
    "data['Urban/Rural'].fillna('Unknown', inplace=True)\n",
    "data.loc[data['Urban/Rural'] == \"Unknown\", 'Urban/Rural'] = np.NaN\n",
    "data['Urban/Rural'].value_counts(dropna=False)"
   ]
  },
  {
   "cell_type": "code",
   "execution_count": 136,
   "metadata": {},
   "outputs": [
    {
     "data": {
      "text/plain": [
       "0    26938\n",
       "1     4210\n",
       "3     1579\n",
       "2     1096\n",
       "Name: Charlson-Deyo Score, dtype: int64"
      ]
     },
     "execution_count": 136,
     "metadata": {},
     "output_type": "execute_result"
    }
   ],
   "source": [
    "data['Charlson-Deyo Score'].value_counts()\n"
   ]
  },
  {
   "cell_type": "code",
   "execution_count": 137,
   "metadata": {},
   "outputs": [
    {
     "data": {
      "text/plain": [
       "0            26938\n",
       "1             4210\n",
       "3 or more     1579\n",
       "2             1096\n",
       "Name: Charlson-Deyo Score, dtype: int64"
      ]
     },
     "execution_count": 137,
     "metadata": {},
     "output_type": "execute_result"
    }
   ],
   "source": [
    "data.loc[data['Charlson-Deyo Score'] == '0', 'Charlson-Deyo Score'] = '0'\n",
    "data.loc[data['Charlson-Deyo Score'] == '1', 'Charlson-Deyo Score'] = '1'\n",
    "data.loc[data['Charlson-Deyo Score'] == '2', 'Charlson-Deyo Score'] = '2'\n",
    "data.loc[data['Charlson-Deyo Score'] == '3', 'Charlson-Deyo Score'] = '3 or more'\n",
    "\n",
    "\n",
    "data.loc[data['Charlson-Deyo Score'] == 'None assigned', 'Charlson-Deyo Score'] = np.NaN\n",
    "data.loc[data['Charlson-Deyo Score'] == 'nan', 'Charlson-Deyo Score'] = np.NaN\n",
    "data['Charlson-Deyo Score'].fillna('Unknown', inplace=True)\n",
    "data.loc[data['Charlson-Deyo Score'] == \"Unknown\", 'Charlson-Deyo Score'] = np.NaN\n",
    "data['Charlson-Deyo Score'].value_counts(dropna=False)"
   ]
  },
  {
   "cell_type": "code",
   "execution_count": 138,
   "metadata": {},
   "outputs": [
    {
     "data": {
      "text/plain": [
       "8070    26068\n",
       "8071     2611\n",
       "8083     2392\n",
       "8072     1091\n",
       "8124      804\n",
       "8123      368\n",
       "8010      164\n",
       "8051       97\n",
       "8560       60\n",
       "8076       47\n",
       "8481       41\n",
       "8073       30\n",
       "8000       22\n",
       "8074       16\n",
       "8075        7\n",
       "8120        3\n",
       "8078        1\n",
       "8077        1\n",
       "Name: Histology, dtype: int64"
      ]
     },
     "execution_count": 138,
     "metadata": {},
     "output_type": "execute_result"
    }
   ],
   "source": [
    "data['Histology'].value_counts()\n"
   ]
  },
  {
   "cell_type": "code",
   "execution_count": 139,
   "metadata": {},
   "outputs": [
    {
     "data": {
      "text/plain": [
       "Squamous cell carcinoma in situ, NOS     26068\n",
       "Basaloid squamous cell carcinoma          3483\n",
       "Sq. cell carcinoma, keratinizing, NOS     2611\n",
       "Cloacogenic carcinoma                      804\n",
       "Basaloid carcinoma                         368\n",
       "Carcinoma, NOS                             164\n",
       "8051                                        97\n",
       "Adenosquamous carcinoma                     60\n",
       "8076                                        47\n",
       "Mucin-producing adenocarcinoma              41\n",
       "8073                                        30\n",
       "Neoplasm, benign                            22\n",
       "Squamous cell carcinoma, spindle cell       16\n",
       "8075                                         7\n",
       "Urothelial papilloma, NOS                    3\n",
       "8078                                         1\n",
       "8077                                         1\n",
       "Name: Histology, dtype: int64"
      ]
     },
     "execution_count": 139,
     "metadata": {},
     "output_type": "execute_result"
    }
   ],
   "source": [
    "data.loc[data['Histology'] == '8000', 'Histology'] = 'Neoplasm, benign'\n",
    "data.loc[data['Histology'] == '8010', 'Histology'] = 'Carcinoma, NOS'\n",
    "data.loc[data['Histology'] == '8012', 'Histology'] = 'Large cell carcinoma, NOS'\n",
    "data.loc[data['Histology'] == '8013', 'Histology'] = 'Large cell neuroendocrine carcinoma'\n",
    "data.loc[data['Histology'] == '8014', 'Histology'] = 'Large cell carcinoma with rhabdoid phenotype'\n",
    "data.loc[data['Histology'] == '8020', 'Histology'] = 'Dedifferentiated carcinoma'\n",
    "data.loc[data['Histology'] == '8021', 'Histology'] = 'Carcinoma, anaplastic, NOS'\n",
    "data.loc[data['Histology'] == '8022', 'Histology'] = 'Pleomorphic carcinoma'\n",
    "data.loc[data['Histology'] == '8033', 'Histology'] = 'Pseudosarcomatous carcinoma'\n",
    "data.loc[data['Histology'] == '8041', 'Histology'] = 'Small cell carcinoma, NOS'\n",
    "data.loc[data['Histology'] == '8046', 'Histology'] = 'Non-small cell carcinoma'\n",
    "data.loc[data['Histology'] == '8070', 'Histology'] = 'Squamous cell carcinoma in situ, NOS'\n",
    "data.loc[data['Histology'] == '8071', 'Histology'] = 'Sq. cell carcinoma, keratinizing, NOS'\n",
    "data.loc[data['Histology'] == '8072', 'Histology'] = 'Basaloid squamous cell carcinoma'\n",
    "data.loc[data['Histology'] == '8074', 'Histology'] = 'Squamous cell carcinoma, spindle cell'\n",
    "data.loc[data['Histology'] == '8083', 'Histology'] = 'Basaloid squamous cell carcinoma'\n",
    "data.loc[data['Histology'] == '8084', 'Histology'] = 'Clear cell acanthoma'\n",
    "data.loc[data['Histology'] == '8120', 'Histology'] = 'Urothelial papilloma, NOS'\n",
    "data.loc[data['Histology'] == '8123', 'Histology'] = 'Basaloid carcinoma'\n",
    "data.loc[data['Histology'] == '8124', 'Histology'] = 'Cloacogenic carcinoma'\n",
    "data.loc[data['Histology'] == '8140', 'Histology'] = 'Adenoma, NOS'\n",
    "data.loc[data['Histology'] == '8144', 'Histology'] = 'Adenoma, intestinal type'\n",
    "data.loc[data['Histology'] == '8201', 'Histology'] = 'Cribriform carcinoma in situ'\n",
    "data.loc[data['Histology'] == '8210', 'Histology'] = 'Adenomatous polyp, NOS'\n",
    "data.loc[data['Histology'] == '8211', 'Histology'] = 'Tubular adenoma, NOS'\n",
    "data.loc[data['Histology'] == '8213', 'Histology'] = 'Serrated adenoma, NOS'\n",
    "data.loc[data['Histology'] == '8220', 'Histology'] = 'Adenomatous polyposis coli'\n",
    "data.loc[data['Histology'] == '8221', 'Histology'] = 'Multiple adenomatous polyps'\n",
    "data.loc[data['Histology'] == '8230', 'Histology'] = 'Ductal carcinoma in situ, solid type'\n",
    "data.loc[data['Histology'] == '8240', 'Histology'] = 'Neuroendocrine tumor, NOS'\n",
    "data.loc[data['Histology'] == '8243', 'Histology'] = 'Goblet cell carcinoid'\n",
    "data.loc[data['Histology'] == '8244', 'Histology'] = 'Mixed adenoneuroendocrine carcinoma'\n",
    "data.loc[data['Histology'] == '8245', 'Histology'] = 'Tubular carcinoid'\n",
    "data.loc[data['Histology'] == '8246', 'Histology'] = 'Neuroendocrine carcinoma, NOS'\n",
    "data.loc[data['Histology'] == '8249', 'Histology'] = 'Neuroendocrine tumor, grade 2'\n",
    "data.loc[data['Histology'] == '8255', 'Histology'] = 'Adenocarcinoma with mixed subtypes'\n",
    "data.loc[data['Histology'] == '8260', 'Histology'] = 'Papillary adenoma, NOS'\n",
    "data.loc[data['Histology'] == '8261', 'Histology'] = 'Villous adenoma, NOS'\n",
    "data.loc[data['Histology'] == '8262', 'Histology'] = 'Villous adenocarcinoma'\n",
    "data.loc[data['Histology'] == '8263', 'Histology'] = 'Tubulovillous adenoma, NOS'\n",
    "data.loc[data['Histology'] == '8310', 'Histology'] = 'Clear cell adenoma'\n",
    "data.loc[data['Histology'] == '8323', 'Histology'] = 'Mixed cell adenoma'\n",
    "data.loc[data['Histology'] == '8401', 'Histology'] = 'Apocrine adenoma'\n",
    "data.loc[data['Histology'] == '8410', 'Histology'] = 'Sebaceoma'\n",
    "data.loc[data['Histology'] == '8470', 'Histology'] = 'Mucinous cystadenoma, NOS'\n",
    "data.loc[data['Histology'] == '8480', 'Histology'] = 'Mucinous adenoma'\n",
    "data.loc[data['Histology'] == '8481', 'Histology'] = 'Mucin-producing adenocarcinoma'\n",
    "data.loc[data['Histology'] == '8482', 'Histology'] = 'Mucinous carcinoma, gastric type'\n",
    "data.loc[data['Histology'] == '8490', 'Histology'] = 'Signet ring cell carcinoma'\n",
    "data.loc[data['Histology'] == '8507', 'Histology'] = 'Intraductal micropapillary carcinoma'\n",
    "data.loc[data['Histology'] == '8510', 'Histology'] = 'Medullary carcinoma, NOS'\n",
    "data.loc[data['Histology'] == '8542', 'Histology'] = 'Paget disease, extramammary'\n",
    "data.loc[data['Histology'] == '8560', 'Histology'] = 'Adenosquamous carcinoma'\n",
    "data.loc[data['Histology'] == '8570', 'Histology'] = 'Adenocarcinoma with squamous metaplasia'\n",
    "data.loc[data['Histology'] == '8571', 'Histology'] = 'Adenocarcinoma with cartilaginous and osseous metaplasia'\n",
    "data.loc[data['Histology'] == '8574', 'Histology'] = 'Adenocarcinoma with neuroendocrine differentiation'\n",
    "data.loc[data['Histology'] == '8576', 'Histology'] = 'Hepatoid adenocarcinoma'\n",
    "data.loc[data['Histology'] == '8936', 'Histology'] = 'Gastrointestinal stromal tumor'\n",
    "\n",
    "\n",
    "data.loc[data['Histology'] == 'None assigned', 'Histology'] = np.NaN\n",
    "data['Histology'].fillna('Unknown', inplace=True)\n",
    "data.loc[data['Histology'] == \"Unknown\", 'Histology'] = np.NaN\n",
    "data['Histology'].value_counts(dropna=False)"
   ]
  },
  {
   "cell_type": "code",
   "execution_count": 140,
   "metadata": {},
   "outputs": [
    {
     "data": {
      "text/plain": [
       "Not Keratinizing    0.922804\n",
       "Keratinizing        0.077196\n",
       "Name: Keratinizing, dtype: float64"
      ]
     },
     "execution_count": 140,
     "metadata": {},
     "output_type": "execute_result"
    }
   ],
   "source": [
    "data['Keratinizing'] = data['Histology']\n",
    "data.loc[data['Keratinizing'].str.contains('Keratinizing', case=False, na=False), 'Keratinizing'] = 'Keratinizing'\n",
    "data.loc[data['Keratinizing'] != 'Keratinizing', 'Keratinizing'] = 'Not Keratinizing'\n",
    "data['Keratinizing'].value_counts(dropna=False, normalize=True)"
   ]
  },
  {
   "cell_type": "code",
   "execution_count": 141,
   "metadata": {},
   "outputs": [
    {
     "data": {
      "text/plain": [
       "Not Basaloid    0.886143\n",
       "Basaloid        0.113857\n",
       "Name: Basaloid, dtype: float64"
      ]
     },
     "execution_count": 141,
     "metadata": {},
     "output_type": "execute_result"
    }
   ],
   "source": [
    "data['Basaloid'] = data['Histology']\n",
    "data.loc[data['Basaloid'].str.contains('Basaloid', case=False, na=False), 'Basaloid'] = 'Basaloid'\n",
    "data.loc[data['Basaloid'] != 'Basaloid', 'Basaloid'] = 'Not Basaloid'\n",
    "data['Basaloid'].value_counts(dropna=False, normalize=True)"
   ]
  },
  {
   "cell_type": "code",
   "execution_count": 142,
   "metadata": {},
   "outputs": [
    {
     "data": {
      "text/plain": [
       "Not Cloacogenic    0.976229\n",
       "Cloacogenic        0.023771\n",
       "Name: Cloacogenic, dtype: float64"
      ]
     },
     "execution_count": 142,
     "metadata": {},
     "output_type": "execute_result"
    }
   ],
   "source": [
    "data['Cloacogenic'] = data['Histology']\n",
    "data.loc[data['Cloacogenic'].str.contains('Cloacogenic', case=False, na=False), 'Cloacogenic'] = 'Cloacogenic'\n",
    "data.loc[data['Cloacogenic'] != 'Cloacogenic', 'Cloacogenic'] = 'Not Cloacogenic'\n",
    "data['Cloacogenic'].value_counts(dropna=False, normalize=True)"
   ]
  },
  {
   "cell_type": "code",
   "execution_count": 143,
   "metadata": {},
   "outputs": [],
   "source": [
    "data.drop('Histology', axis=1, inplace=True)"
   ]
  },
  {
   "cell_type": "code",
   "execution_count": 144,
   "metadata": {},
   "outputs": [
    {
     "data": {
      "text/plain": [
       "2.0    11758\n",
       "9.0     9757\n",
       "3.0     9011\n",
       "1.0     2808\n",
       "9        277\n",
       "4.0      205\n",
       "H          7\n",
       "Name: Grade, dtype: int64"
      ]
     },
     "execution_count": 144,
     "metadata": {},
     "output_type": "execute_result"
    }
   ],
   "source": [
    "data['Grade'].value_counts()"
   ]
  },
  {
   "cell_type": "code",
   "execution_count": 145,
   "metadata": {},
   "outputs": [
    {
     "data": {
      "text/plain": [
       "Grade II, Moderately differentiated                       11758\n",
       "Cell type not determined, not stated or not applicable    10041\n",
       "Grade III, Poorly differentiated                           9011\n",
       "Grade I, Well differentiated                               2808\n",
       "Grade IV, Undifferentiated or anaplastic                    205\n",
       "Name: Grade, dtype: int64"
      ]
     },
     "execution_count": 145,
     "metadata": {},
     "output_type": "execute_result"
    }
   ],
   "source": [
    "data.loc[data['Grade'] == '1.0', 'Grade'] = 'Grade I, Well differentiated'\n",
    "data.loc[data['Grade'] == '2.0', 'Grade'] = 'Grade II, Moderately differentiated'\n",
    "data.loc[data['Grade'] == '3.0', 'Grade'] = 'Grade III, Poorly differentiated'\n",
    "data.loc[data['Grade'] == '4.0', 'Grade'] = 'Grade IV, Undifferentiated or anaplastic'\n",
    "data.loc[data['Grade'] == '9.0', 'Grade'] = 'Cell type not determined, not stated or not applicable'\n",
    "data.loc[data['Grade'] == '9', 'Grade'] = 'Cell type not determined, not stated or not applicable'\n",
    "data.loc[data['Grade'] == 'H', 'Grade'] = 'Cell type not determined, not stated or not applicable'\n",
    "\n",
    "\n",
    "data.loc[data['Grade'] == 'None assigned', 'Grade'] = np.NaN\n",
    "data['Grade'].fillna('Unknown', inplace=True)\n",
    "data.loc[data['Grade'] == \"Unknown\", 'Grade'] = np.NaN\n",
    "data['Grade'].value_counts(dropna=False)"
   ]
  },
  {
   "cell_type": "code",
   "execution_count": 146,
   "metadata": {},
   "outputs": [
    {
     "data": {
      "text/plain": [
       "9.0    16793\n",
       "nan    11135\n",
       "0.0     4819\n",
       "1.0     1070\n",
       "8.0        6\n",
       "Name: Lymphovascular Invasion, dtype: int64"
      ]
     },
     "execution_count": 146,
     "metadata": {},
     "output_type": "execute_result"
    }
   ],
   "source": [
    "data['Lymphovascular Invasion'].value_counts()\n"
   ]
  },
  {
   "cell_type": "code",
   "execution_count": 147,
   "metadata": {},
   "outputs": [
    {
     "data": {
      "text/plain": [
       "NaN    27934\n",
       "No      4819\n",
       "Yes     1070\n",
       "Name: Lymphovascular Invasion, dtype: int64"
      ]
     },
     "execution_count": 147,
     "metadata": {},
     "output_type": "execute_result"
    }
   ],
   "source": [
    "data.loc[data['Lymphovascular Invasion'] == '0.0', 'Lymphovascular Invasion'] = 'No'\n",
    "data.loc[data['Lymphovascular Invasion'] == '1.0', 'Lymphovascular Invasion'] = 'Yes'\n",
    "data.loc[data['Lymphovascular Invasion'] == '8.0', 'Lymphovascular Invasion'] = 'Unknown'\n",
    "data.loc[data['Lymphovascular Invasion'] == '9.0', 'Lymphovascular Invasion'] = 'Unknown'\n",
    "data.loc[data['Lymphovascular Invasion'] == 'nan', 'Lymphovascular Invasion'] = 'Unknown'\n",
    "\n",
    "\n",
    "data.loc[data['Lymphovascular Invasion'] == 'None assigned', 'Lymphovascular Invasion'] = np.NaN\n",
    "data['Lymphovascular Invasion'].fillna('Unknown', inplace=True)\n",
    "data.loc[data['Lymphovascular Invasion'] == \"Unknown\", 'Lymphovascular Invasion'] = np.NaN\n",
    "data['Lymphovascular Invasion'].value_counts(dropna=False)"
   ]
  },
  {
   "cell_type": "code",
   "execution_count": 148,
   "metadata": {},
   "outputs": [
    {
     "data": {
      "text/plain": [
       "8    25356\n",
       "0     2964\n",
       "2     1909\n",
       "1     1586\n",
       "9      905\n",
       "7      792\n",
       "3      311\n",
       "Name: Surgical Margins, dtype: int64"
      ]
     },
     "execution_count": 148,
     "metadata": {},
     "output_type": "execute_result"
    }
   ],
   "source": [
    "data['Surgical Margins'].value_counts()"
   ]
  },
  {
   "cell_type": "code",
   "execution_count": 149,
   "metadata": {},
   "outputs": [
    {
     "data": {
      "text/plain": [
       "No Surgery    25356\n",
       "Positive       3806\n",
       "Negative       2964\n",
       "NaN            1697\n",
       "Name: Surgical Margins, dtype: int64"
      ]
     },
     "execution_count": 149,
     "metadata": {},
     "output_type": "execute_result"
    }
   ],
   "source": [
    "data.loc[data['Surgical Margins'] == '0', 'Surgical Margins'] = 'Negative'\n",
    "data.loc[data['Surgical Margins'] == '1', 'Surgical Margins'] = 'Positive'\n",
    "data.loc[data['Surgical Margins'] == '2', 'Surgical Margins'] = 'Positive'\n",
    "data.loc[data['Surgical Margins'] == '3', 'Surgical Margins'] = 'Positive'\n",
    "data.loc[data['Surgical Margins'] == '7', 'Surgical Margins'] = 'Unknown'\n",
    "data.loc[data['Surgical Margins'] == '8', 'Surgical Margins'] = 'No Surgery'\n",
    "data.loc[data['Surgical Margins'] == '9', 'Surgical Margins'] = 'Unknown'\n",
    "data.loc[data['Surgical Margins'] == 'nan', 'Surgical Margins'] = 'Unknown'\n",
    "\n",
    "data.loc[data['Surgical Margins'] == 'None assigned', 'Surgical Margins'] = np.NaN\n",
    "data['Surgical Margins'].fillna('Unknown', inplace=True)\n",
    "data.loc[data['Surgical Margins'] == \"Unknown\", 'Surgical Margins'] = np.NaN\n",
    "data['Surgical Margins'].value_counts(dropna=False)"
   ]
  },
  {
   "cell_type": "code",
   "execution_count": 150,
   "metadata": {},
   "outputs": [
    {
     "data": {
      "text/plain": [
       "0.0        23526\n",
       "missing     9448\n",
       "1.0          849\n",
       "Name: APR performed, dtype: int64"
      ]
     },
     "execution_count": 150,
     "metadata": {},
     "output_type": "execute_result"
    }
   ],
   "source": [
    "data['APR performed'].value_counts()"
   ]
  },
  {
   "cell_type": "code",
   "execution_count": 151,
   "metadata": {},
   "outputs": [
    {
     "data": {
      "text/plain": [
       "No Surgery    32974\n",
       "Negative        628\n",
       "Positive        187\n",
       "NaN              34\n",
       "Name: Surgical Margins, dtype: int64"
      ]
     },
     "execution_count": 151,
     "metadata": {},
     "output_type": "execute_result"
    }
   ],
   "source": [
    "data.loc[data['APR performed'] != '1.0', 'Surgical Margins'] = 'No Surgery'\n",
    "data['Surgical Margins'].value_counts(dropna=False)"
   ]
  },
  {
   "cell_type": "code",
   "execution_count": 152,
   "metadata": {},
   "outputs": [
    {
     "data": {
      "text/plain": [
       "2.0    13330\n",
       "3.0    10544\n",
       "4.0     6440\n",
       "1.0     2525\n",
       "nan      984\n",
       "Name: Facility Type, dtype: int64"
      ]
     },
     "execution_count": 152,
     "metadata": {},
     "output_type": "execute_result"
    }
   ],
   "source": [
    "data['Facility Type'].value_counts()"
   ]
  },
  {
   "cell_type": "code",
   "execution_count": 153,
   "metadata": {},
   "outputs": [
    {
     "data": {
      "text/plain": [
       "Comprehensive Community Cancer Program    13330\n",
       "Academic/Research Program                 10544\n",
       "Integrated Network Cancer Program          6440\n",
       "Community Cancer Program                   2525\n",
       "NaN                                         984\n",
       "Name: Facility Type, dtype: int64"
      ]
     },
     "execution_count": 153,
     "metadata": {},
     "output_type": "execute_result"
    }
   ],
   "source": [
    "data.loc[data['Facility Type'] == '1.0', 'Facility Type'] = 'Community Cancer Program'\n",
    "data.loc[data['Facility Type'] == '2.0', 'Facility Type'] = 'Comprehensive Community Cancer Program'\n",
    "data.loc[data['Facility Type'] == '3.0', 'Facility Type'] = 'Academic/Research Program'\n",
    "data.loc[data['Facility Type'] == '4.0', 'Facility Type'] = 'Integrated Network Cancer Program'\n",
    "\n",
    "data.loc[data['Facility Type'] == 'nan', 'Facility Type'] = 'Unknown'\n",
    "data.loc[data['Facility Type'] == 'None assigned', 'Facility Type'] = np.NaN\n",
    "data['Facility Type'].fillna('Unknown', inplace=True)\n",
    "data.loc[data['Facility Type'] == \"Unknown\", 'Facility Type'] = np.NaN\n",
    "data['Facility Type'].value_counts(dropna=False)"
   ]
  },
  {
   "cell_type": "code",
   "execution_count": 154,
   "metadata": {},
   "outputs": [
    {
     "data": {
      "text/plain": [
       "<AxesSubplot:>"
      ]
     },
     "execution_count": 154,
     "metadata": {},
     "output_type": "execute_result"
    },
    {
     "data": {
      "image/png": "[encoded data removed]",
      "text/plain": [
       "<Figure size 432x288 with 1 Axes>"
      ]
     },
     "metadata": {
      "needs_background": "light"
     },
     "output_type": "display_data"
    }
   ],
   "source": [
    "data.loc[data['Post-op Length of Stay'] == 'nan', 'Post-op Length of Stay'] = np.NaN\n",
    "data.loc[data['Post-op Length of Stay'] == '0.0', 'Post-op Length of Stay'] = np.NaN\n",
    "data['Post-op Length of Stay'].astype(float)\n",
    "data['Post-op Length of Stay'].hist()"
   ]
  },
  {
   "cell_type": "code",
   "execution_count": 155,
   "metadata": {},
   "outputs": [
    {
     "data": {
      "text/plain": [
       "Early Expansion (before 1/2014)         16488\n",
       "Non-Expansion State                     11938\n",
       "Late Expansion States (after 1/2014)     4413\n",
       "Suppressed for Ages 0-39                  984\n",
       "Name: Medicaid Expansion, dtype: int64"
      ]
     },
     "execution_count": 155,
     "metadata": {},
     "output_type": "execute_result"
    }
   ],
   "source": [
    "data.loc[data['Medicaid Expansion'] == '0', 'Medicaid Expansion'] = 'Non-Expansion State'\n",
    "data.loc[data['Medicaid Expansion'] == '1', 'Medicaid Expansion'] = 'Early Expansion (before 1/2014)'\n",
    "data.loc[data['Medicaid Expansion'] == '2', 'Medicaid Expansion'] = 'Early Expansion (before 1/2014)'\n",
    "data.loc[data['Medicaid Expansion'] == '3', 'Medicaid Expansion'] = 'Late Expansion States (after 1/2014)'\n",
    "data.loc[data['Medicaid Expansion'] == '9', 'Medicaid Expansion'] = 'Suppressed for Ages 0-39'\n",
    "\n",
    "data.loc[data['Medicaid Expansion'] == 'nan', 'Medicaid Expansion'] = np.NaN\n",
    "data.loc[data['Medicaid Expansion'] == 'None assigned', 'Medicaid Expansion'] = np.NaN\n",
    "data['Medicaid Expansion'].fillna('Unknown', inplace=True)\n",
    "data.loc[data['Medicaid Expansion'] == \"Unknown\", 'Medicaid Expansion'] = np.NaN\n",
    "data['Medicaid Expansion'].value_counts(dropna=False)"
   ]
  },
  {
   "cell_type": "code",
   "execution_count": 156,
   "metadata": {},
   "outputs": [
    {
     "data": {
      "text/plain": [
       "No surgery/readmission    32663\n",
       "NaN                         593\n",
       "Readmission                 567\n",
       "Name: Post-op Readmission, dtype: int64"
      ]
     },
     "execution_count": 156,
     "metadata": {},
     "output_type": "execute_result"
    }
   ],
   "source": [
    "data.loc[data['Post-op Readmission'] == '0', 'Post-op Readmission'] = 'No surgery/readmission'\n",
    "data.loc[data['Post-op Readmission'] == '1', 'Post-op Readmission'] = 'Readmission'\n",
    "data.loc[data['Post-op Readmission'] == '2', 'Post-op Readmission'] = 'Readmission'\n",
    "data.loc[data['Post-op Readmission'] == '3', 'Post-op Readmission'] = 'Readmission'\n",
    "data.loc[data['Post-op Readmission'] == '9', 'Post-op Readmission'] = np.NaN\n",
    "\n",
    "data.loc[data['Post-op Readmission'] == 'nan', 'Post-op Readmission'] = np.NaN\n",
    "data.loc[data['Post-op Readmission'] == 'None assigned', 'Post-op Readmission'] = np.NaN\n",
    "data['Post-op Readmission'].fillna('Unknown', inplace=True)\n",
    "data.loc[data['Post-op Readmission'] == \"Unknown\", 'Post-op Readmission'] = np.NaN\n",
    "data['Post-op Readmission'].value_counts(dropna=False)"
   ]
  },
  {
   "cell_type": "code",
   "execution_count": 157,
   "metadata": {},
   "outputs": [
    {
     "data": {
      "text/plain": [
       "N/A                 32487\n",
       "Unknown reason        423\n",
       "Contra-indicated      392\n",
       "NaN                   315\n",
       "Refused               173\n",
       "Patient died           33\n",
       "Name: Reason for No Surgery, dtype: int64"
      ]
     },
     "execution_count": 157,
     "metadata": {},
     "output_type": "execute_result"
    }
   ],
   "source": [
    "data.loc[data['Reason for No Surgery'] == '0', 'Reason for No Surgery'] = 'N/A'\n",
    "data.loc[data['Reason for No Surgery'] == '1', 'Reason for No Surgery'] = 'N/A'\n",
    "data.loc[data['Reason for No Surgery'] == '2', 'Reason for No Surgery'] = 'Contra-indicated'\n",
    "data.loc[data['Reason for No Surgery'] == '5', 'Reason for No Surgery'] = 'Patient died'\n",
    "data.loc[data['Reason for No Surgery'] == '6', 'Reason for No Surgery'] = 'Unknown reason'\n",
    "data.loc[data['Reason for No Surgery'] == '7', 'Reason for No Surgery'] = 'Refused'\n",
    "data.loc[data['Reason for No Surgery'] == '8', 'Reason for No Surgery'] = 'Unknown reason'\n",
    "\n",
    "data.loc[data['Reason for No Surgery'] == '9', 'Reason for No Surgery'] = np.NaN\n",
    "\n",
    "data.loc[data['Reason for No Surgery'] == 'nan', 'Reason for No Surgery'] = np.NaN\n",
    "data.loc[data['Reason for No Surgery'] == 'None assigned', 'Reason for No Surgery'] = np.NaN\n",
    "data['Reason for No Surgery'].fillna('Unknown', inplace=True)\n",
    "data.loc[data['Reason for No Surgery'] == \"Unknown\", 'Reason for No Surgery'] = np.NaN\n",
    "data['Reason for No Surgery'].value_counts(dropna=False)"
   ]
  },
  {
   "cell_type": "code",
   "execution_count": 158,
   "metadata": {},
   "outputs": [],
   "source": [
    "data = data.loc[data['Reason for No Surgery'] != 'Patient died']"
   ]
  },
  {
   "cell_type": "code",
   "execution_count": 159,
   "metadata": {},
   "outputs": [
    {
     "data": {
      "text/plain": [
       "No surgery    23526\n",
       "nan            7110\n",
       "0              3136\n",
       "2                 9\n",
       "3                 5\n",
       "1                 2\n",
       "4                 2\n",
       "Name: Pathologic Stage, dtype: int64"
      ]
     },
     "execution_count": 159,
     "metadata": {},
     "output_type": "execute_result"
    }
   ],
   "source": [
    "data['Pathologic Stage'].value_counts()"
   ]
  },
  {
   "cell_type": "code",
   "execution_count": 160,
   "metadata": {},
   "outputs": [
    {
     "data": {
      "text/plain": [
       "0.0        23526\n",
       "missing     9415\n",
       "1.0          849\n",
       "Name: APR performed, dtype: int64"
      ]
     },
     "execution_count": 160,
     "metadata": {},
     "output_type": "execute_result"
    }
   ],
   "source": [
    "data['APR performed'].value_counts()"
   ]
  },
  {
   "cell_type": "code",
   "execution_count": 161,
   "metadata": {},
   "outputs": [
    {
     "data": {
      "text/plain": [
       "No surgery    32941\n",
       "nan             629\n",
       "0               216\n",
       "2                 3\n",
       "3                 1\n",
       "Name: Pathologic Stage, dtype: int64"
      ]
     },
     "execution_count": 161,
     "metadata": {},
     "output_type": "execute_result"
    }
   ],
   "source": [
    "data.loc[data['APR performed'] == '0.0', 'Pathologic Stage'] = 'No surgery'\n",
    "data.loc[data['APR performed'] != '1.0', 'Pathologic Stage'] = 'No surgery'\n",
    "data['Pathologic Stage'].value_counts(dropna=False)"
   ]
  },
  {
   "cell_type": "code",
   "execution_count": 162,
   "metadata": {},
   "outputs": [
    {
     "data": {
      "text/plain": [
       "No surgery    32941\n",
       "0               216\n",
       "2                 3\n",
       "3                 1\n",
       "Name: Pathologic Stage, dtype: int64"
      ]
     },
     "execution_count": 162,
     "metadata": {},
     "output_type": "execute_result"
    }
   ],
   "source": [
    "data.loc[data['Pathologic Stage'].str.contains('1'), 'Pathologic Stage'] = '1'\n",
    "data.loc[data['Pathologic Stage'].str.contains('2'), 'Pathologic Stage'] = '2'\n",
    "data.loc[data['Pathologic Stage'].str.contains('3'), 'Pathologic Stage'] = '3'\n",
    "data.loc[data['Pathologic Stage'].str.contains('4'), 'Pathologic Stage'] = '4'\n",
    "data.loc[data['Pathologic Stage'] == '0.0', 'Pathologic Stage'] = '0'\n",
    "data.loc[data['Pathologic Stage'] == 'nan', 'Pathologic Stage'] = np.NaN\n",
    "data['Pathologic Stage'].value_counts()"
   ]
  },
  {
   "cell_type": "code",
   "execution_count": 163,
   "metadata": {},
   "outputs": [],
   "source": [
    "for x in num_cols:\n",
    "    try:\n",
    "        data.loc[data[x] == 'nan', x] = np.NaN\n",
    "    except:\n",
    "        pass"
   ]
  },
  {
   "cell_type": "code",
   "execution_count": 164,
   "metadata": {},
   "outputs": [
    {
     "data": {
      "text/html": [
       "<div>\n",
       "<style scoped>\n",
       "    .dataframe tbody tr th:only-of-type {\n",
       "        vertical-align: middle;\n",
       "    }\n",
       "\n",
       "    .dataframe tbody tr th {\n",
       "        vertical-align: top;\n",
       "    }\n",
       "\n",
       "    .dataframe thead th {\n",
       "        text-align: right;\n",
       "    }\n",
       "</style>\n",
       "<table border=\"1\" class=\"dataframe\">\n",
       "  <thead>\n",
       "    <tr style=\"text-align: right;\">\n",
       "      <th></th>\n",
       "      <th>Facility Type</th>\n",
       "      <th>Facility Location</th>\n",
       "      <th>Age</th>\n",
       "      <th>Sex</th>\n",
       "      <th>Race</th>\n",
       "      <th>Hispanic Ethnicity</th>\n",
       "      <th>Insurance Status</th>\n",
       "      <th>Urban/Rural</th>\n",
       "      <th>Distance from Hospital</th>\n",
       "      <th>Charlson-Deyo Score</th>\n",
       "      <th>Year of Diagnosis</th>\n",
       "      <th>Grade</th>\n",
       "      <th>Tumor Size</th>\n",
       "      <th>Lymphovascular Invasion</th>\n",
       "      <th>Surgical Margins</th>\n",
       "      <th>Post-op Length of Stay</th>\n",
       "      <th>Post-op Readmission</th>\n",
       "      <th>Reason for No Surgery</th>\n",
       "      <th>Treatment Started, Days from Dx</th>\n",
       "      <th>Chemotherapy</th>\n",
       "      <th>No High School Degree, Quartile</th>\n",
       "      <th>Income, Quartile</th>\n",
       "      <th>Medicaid Expansion</th>\n",
       "      <th>Total Dose</th>\n",
       "      <th>APR performed</th>\n",
       "      <th>Stage</th>\n",
       "      <th>T Stage</th>\n",
       "      <th>N Stage</th>\n",
       "      <th>M Stage</th>\n",
       "      <th>Pathologic Stage</th>\n",
       "      <th>Facility Volume Quartile</th>\n",
       "      <th>3-yr Mortality</th>\n",
       "      <th>Keratinizing</th>\n",
       "      <th>Basaloid</th>\n",
       "      <th>Cloacogenic</th>\n",
       "    </tr>\n",
       "    <tr>\n",
       "      <th>PUF_CASE_ID</th>\n",
       "      <th></th>\n",
       "      <th></th>\n",
       "      <th></th>\n",
       "      <th></th>\n",
       "      <th></th>\n",
       "      <th></th>\n",
       "      <th></th>\n",
       "      <th></th>\n",
       "      <th></th>\n",
       "      <th></th>\n",
       "      <th></th>\n",
       "      <th></th>\n",
       "      <th></th>\n",
       "      <th></th>\n",
       "      <th></th>\n",
       "      <th></th>\n",
       "      <th></th>\n",
       "      <th></th>\n",
       "      <th></th>\n",
       "      <th></th>\n",
       "      <th></th>\n",
       "      <th></th>\n",
       "      <th></th>\n",
       "      <th></th>\n",
       "      <th></th>\n",
       "      <th></th>\n",
       "      <th></th>\n",
       "      <th></th>\n",
       "      <th></th>\n",
       "      <th></th>\n",
       "      <th></th>\n",
       "      <th></th>\n",
       "      <th></th>\n",
       "      <th></th>\n",
       "      <th></th>\n",
       "    </tr>\n",
       "  </thead>\n",
       "  <tbody>\n",
       "    <tr>\n",
       "      <th>D66f458f9-bdc0-4c95-94a3-a5f8c5bb74f9</th>\n",
       "      <td>Academic/Research Program</td>\n",
       "      <td>Midwest</td>\n",
       "      <td>52.0</td>\n",
       "      <td>Female</td>\n",
       "      <td>White</td>\n",
       "      <td>Non-Hispanic</td>\n",
       "      <td>Not Insured</td>\n",
       "      <td>Urban</td>\n",
       "      <td>3.6</td>\n",
       "      <td>0</td>\n",
       "      <td>2016</td>\n",
       "      <td>Grade II, Moderately differentiated</td>\n",
       "      <td>38.0</td>\n",
       "      <td>No</td>\n",
       "      <td>No Surgery</td>\n",
       "      <td>NaN</td>\n",
       "      <td>No surgery/readmission</td>\n",
       "      <td>N/A</td>\n",
       "      <td>86.0</td>\n",
       "      <td>Multi-agent</td>\n",
       "      <td>&gt;=21.0%</td>\n",
       "      <td>&lt; $30,000</td>\n",
       "      <td>Non-Expansion State</td>\n",
       "      <td>0.0</td>\n",
       "      <td>0.0</td>\n",
       "      <td>2A</td>\n",
       "      <td>2.0</td>\n",
       "      <td>0.0</td>\n",
       "      <td>0</td>\n",
       "      <td>No surgery</td>\n",
       "      <td>3.0</td>\n",
       "      <td>0.0</td>\n",
       "      <td>Not Keratinizing</td>\n",
       "      <td>Not Basaloid</td>\n",
       "      <td>Not Cloacogenic</td>\n",
       "    </tr>\n",
       "    <tr>\n",
       "      <th>Dfc68ea23-71aa-4b0d-87c0-587b4ce13d04</th>\n",
       "      <td>Academic/Research Program</td>\n",
       "      <td>West</td>\n",
       "      <td>49.0</td>\n",
       "      <td>Female</td>\n",
       "      <td>White</td>\n",
       "      <td>Non-Hispanic</td>\n",
       "      <td>Private Insurance or Managed Care</td>\n",
       "      <td>Urban</td>\n",
       "      <td>11.4</td>\n",
       "      <td>0</td>\n",
       "      <td>2004</td>\n",
       "      <td>Grade II, Moderately differentiated</td>\n",
       "      <td>44.0</td>\n",
       "      <td>NaN</td>\n",
       "      <td>No Surgery</td>\n",
       "      <td>NaN</td>\n",
       "      <td>No surgery/readmission</td>\n",
       "      <td>N/A</td>\n",
       "      <td>20.0</td>\n",
       "      <td>Multi-agent</td>\n",
       "      <td>7.0-12.9%</td>\n",
       "      <td>$35,000 - $45,999</td>\n",
       "      <td>Early Expansion (before 1/2014)</td>\n",
       "      <td>NaN</td>\n",
       "      <td>0.0</td>\n",
       "      <td>3A</td>\n",
       "      <td>2.0</td>\n",
       "      <td>1.0</td>\n",
       "      <td>0</td>\n",
       "      <td>No surgery</td>\n",
       "      <td>1.0</td>\n",
       "      <td>0.0</td>\n",
       "      <td>Not Keratinizing</td>\n",
       "      <td>Basaloid</td>\n",
       "      <td>Not Cloacogenic</td>\n",
       "    </tr>\n",
       "    <tr>\n",
       "      <th>D54a1d0da-4328-4ca5-8481-87cd73b33dd4</th>\n",
       "      <td>Academic/Research Program</td>\n",
       "      <td>Midwest</td>\n",
       "      <td>58.0</td>\n",
       "      <td>Male</td>\n",
       "      <td>White</td>\n",
       "      <td>Non-Hispanic</td>\n",
       "      <td>Medicaid</td>\n",
       "      <td>Urban</td>\n",
       "      <td>14.0</td>\n",
       "      <td>0</td>\n",
       "      <td>2014</td>\n",
       "      <td>Grade II, Moderately differentiated</td>\n",
       "      <td>86.0</td>\n",
       "      <td>No</td>\n",
       "      <td>No Surgery</td>\n",
       "      <td>0.0</td>\n",
       "      <td>No surgery/readmission</td>\n",
       "      <td>N/A</td>\n",
       "      <td>35.0</td>\n",
       "      <td>Multi-agent</td>\n",
       "      <td>&lt;7.0%</td>\n",
       "      <td>&gt;=$46,000</td>\n",
       "      <td>Early Expansion (before 1/2014)</td>\n",
       "      <td>5940.0</td>\n",
       "      <td>missing</td>\n",
       "      <td>2B</td>\n",
       "      <td>3.0</td>\n",
       "      <td>0.0</td>\n",
       "      <td>0</td>\n",
       "      <td>No surgery</td>\n",
       "      <td>3.0</td>\n",
       "      <td>0.0</td>\n",
       "      <td>Not Keratinizing</td>\n",
       "      <td>Not Basaloid</td>\n",
       "      <td>Not Cloacogenic</td>\n",
       "    </tr>\n",
       "    <tr>\n",
       "      <th>D62170955-5fc5-434e-8e6a-6a9e139851c4</th>\n",
       "      <td>Academic/Research Program</td>\n",
       "      <td>Midwest</td>\n",
       "      <td>80.0</td>\n",
       "      <td>Female</td>\n",
       "      <td>White</td>\n",
       "      <td>Non-Hispanic</td>\n",
       "      <td>Medicare/Public</td>\n",
       "      <td>Urban</td>\n",
       "      <td>NaN</td>\n",
       "      <td>0</td>\n",
       "      <td>2017</td>\n",
       "      <td>Grade III, Poorly differentiated</td>\n",
       "      <td>25.0</td>\n",
       "      <td>NaN</td>\n",
       "      <td>No Surgery</td>\n",
       "      <td>NaN</td>\n",
       "      <td>No surgery/readmission</td>\n",
       "      <td>N/A</td>\n",
       "      <td>34.0</td>\n",
       "      <td>Multi-agent</td>\n",
       "      <td>NaN</td>\n",
       "      <td>NaN</td>\n",
       "      <td>Early Expansion (before 1/2014)</td>\n",
       "      <td>5220.0</td>\n",
       "      <td>missing</td>\n",
       "      <td>1</td>\n",
       "      <td>1.0</td>\n",
       "      <td>0.0</td>\n",
       "      <td>0</td>\n",
       "      <td>No surgery</td>\n",
       "      <td>3.0</td>\n",
       "      <td>0.0</td>\n",
       "      <td>Not Keratinizing</td>\n",
       "      <td>Not Basaloid</td>\n",
       "      <td>Not Cloacogenic</td>\n",
       "    </tr>\n",
       "    <tr>\n",
       "      <th>Dbfa7903c-bd06-4e1c-9d22-a3d39ed96aee</th>\n",
       "      <td>Integrated Network Cancer Program</td>\n",
       "      <td>Midwest</td>\n",
       "      <td>42.0</td>\n",
       "      <td>Female</td>\n",
       "      <td>White</td>\n",
       "      <td>Non-Hispanic</td>\n",
       "      <td>Private Insurance or Managed Care</td>\n",
       "      <td>Urban</td>\n",
       "      <td>12.7</td>\n",
       "      <td>0</td>\n",
       "      <td>2014</td>\n",
       "      <td>Grade III, Poorly differentiated</td>\n",
       "      <td>20.0</td>\n",
       "      <td>No</td>\n",
       "      <td>No Surgery</td>\n",
       "      <td>0.0</td>\n",
       "      <td>No surgery/readmission</td>\n",
       "      <td>N/A</td>\n",
       "      <td>45.0</td>\n",
       "      <td>Multi-agent</td>\n",
       "      <td>&lt;7.0%</td>\n",
       "      <td>&gt;=$46,000</td>\n",
       "      <td>Early Expansion (before 1/2014)</td>\n",
       "      <td>NaN</td>\n",
       "      <td>missing</td>\n",
       "      <td>1</td>\n",
       "      <td>1.0</td>\n",
       "      <td>0.0</td>\n",
       "      <td>0</td>\n",
       "      <td>No surgery</td>\n",
       "      <td>4.0</td>\n",
       "      <td>0.0</td>\n",
       "      <td>Not Keratinizing</td>\n",
       "      <td>Not Basaloid</td>\n",
       "      <td>Not Cloacogenic</td>\n",
       "    </tr>\n",
       "  </tbody>\n",
       "</table>\n",
       "</div>"
      ],
      "text/plain": [
       "                                                           Facility Type  \\\n",
       "PUF_CASE_ID                                                                \n",
       "D66f458f9-bdc0-4c95-94a3-a5f8c5bb74f9          Academic/Research Program   \n",
       "Dfc68ea23-71aa-4b0d-87c0-587b4ce13d04          Academic/Research Program   \n",
       "D54a1d0da-4328-4ca5-8481-87cd73b33dd4          Academic/Research Program   \n",
       "D62170955-5fc5-434e-8e6a-6a9e139851c4          Academic/Research Program   \n",
       "Dbfa7903c-bd06-4e1c-9d22-a3d39ed96aee  Integrated Network Cancer Program   \n",
       "\n",
       "                                      Facility Location   Age     Sex   Race  \\\n",
       "PUF_CASE_ID                                                                    \n",
       "D66f458f9-bdc0-4c95-94a3-a5f8c5bb74f9           Midwest  52.0  Female  White   \n",
       "Dfc68ea23-71aa-4b0d-87c0-587b4ce13d04              West  49.0  Female  White   \n",
       "D54a1d0da-4328-4ca5-8481-87cd73b33dd4           Midwest  58.0    Male  White   \n",
       "D62170955-5fc5-434e-8e6a-6a9e139851c4           Midwest  80.0  Female  White   \n",
       "Dbfa7903c-bd06-4e1c-9d22-a3d39ed96aee           Midwest  42.0  Female  White   \n",
       "\n",
       "                                      Hispanic Ethnicity  \\\n",
       "PUF_CASE_ID                                                \n",
       "D66f458f9-bdc0-4c95-94a3-a5f8c5bb74f9       Non-Hispanic   \n",
       "Dfc68ea23-71aa-4b0d-87c0-587b4ce13d04       Non-Hispanic   \n",
       "D54a1d0da-4328-4ca5-8481-87cd73b33dd4       Non-Hispanic   \n",
       "D62170955-5fc5-434e-8e6a-6a9e139851c4       Non-Hispanic   \n",
       "Dbfa7903c-bd06-4e1c-9d22-a3d39ed96aee       Non-Hispanic   \n",
       "\n",
       "                                                        Insurance Status  \\\n",
       "PUF_CASE_ID                                                                \n",
       "D66f458f9-bdc0-4c95-94a3-a5f8c5bb74f9                        Not Insured   \n",
       "Dfc68ea23-71aa-4b0d-87c0-587b4ce13d04  Private Insurance or Managed Care   \n",
       "D54a1d0da-4328-4ca5-8481-87cd73b33dd4                           Medicaid   \n",
       "D62170955-5fc5-434e-8e6a-6a9e139851c4                    Medicare/Public   \n",
       "Dbfa7903c-bd06-4e1c-9d22-a3d39ed96aee  Private Insurance or Managed Care   \n",
       "\n",
       "                                      Urban/Rural  Distance from Hospital  \\\n",
       "PUF_CASE_ID                                                                 \n",
       "D66f458f9-bdc0-4c95-94a3-a5f8c5bb74f9       Urban                     3.6   \n",
       "Dfc68ea23-71aa-4b0d-87c0-587b4ce13d04       Urban                    11.4   \n",
       "D54a1d0da-4328-4ca5-8481-87cd73b33dd4       Urban                    14.0   \n",
       "D62170955-5fc5-434e-8e6a-6a9e139851c4       Urban                     NaN   \n",
       "Dbfa7903c-bd06-4e1c-9d22-a3d39ed96aee       Urban                    12.7   \n",
       "\n",
       "                                      Charlson-Deyo Score Year of Diagnosis  \\\n",
       "PUF_CASE_ID                                                                   \n",
       "D66f458f9-bdc0-4c95-94a3-a5f8c5bb74f9                   0              2016   \n",
       "Dfc68ea23-71aa-4b0d-87c0-587b4ce13d04                   0              2004   \n",
       "D54a1d0da-4328-4ca5-8481-87cd73b33dd4                   0              2014   \n",
       "D62170955-5fc5-434e-8e6a-6a9e139851c4                   0              2017   \n",
       "Dbfa7903c-bd06-4e1c-9d22-a3d39ed96aee                   0              2014   \n",
       "\n",
       "                                                                     Grade  \\\n",
       "PUF_CASE_ID                                                                  \n",
       "D66f458f9-bdc0-4c95-94a3-a5f8c5bb74f9  Grade II, Moderately differentiated   \n",
       "Dfc68ea23-71aa-4b0d-87c0-587b4ce13d04  Grade II, Moderately differentiated   \n",
       "D54a1d0da-4328-4ca5-8481-87cd73b33dd4  Grade II, Moderately differentiated   \n",
       "D62170955-5fc5-434e-8e6a-6a9e139851c4     Grade III, Poorly differentiated   \n",
       "Dbfa7903c-bd06-4e1c-9d22-a3d39ed96aee     Grade III, Poorly differentiated   \n",
       "\n",
       "                                       Tumor Size Lymphovascular Invasion  \\\n",
       "PUF_CASE_ID                                                                 \n",
       "D66f458f9-bdc0-4c95-94a3-a5f8c5bb74f9        38.0                      No   \n",
       "Dfc68ea23-71aa-4b0d-87c0-587b4ce13d04        44.0                     NaN   \n",
       "D54a1d0da-4328-4ca5-8481-87cd73b33dd4        86.0                      No   \n",
       "D62170955-5fc5-434e-8e6a-6a9e139851c4        25.0                     NaN   \n",
       "Dbfa7903c-bd06-4e1c-9d22-a3d39ed96aee        20.0                      No   \n",
       "\n",
       "                                      Surgical Margins  \\\n",
       "PUF_CASE_ID                                              \n",
       "D66f458f9-bdc0-4c95-94a3-a5f8c5bb74f9       No Surgery   \n",
       "Dfc68ea23-71aa-4b0d-87c0-587b4ce13d04       No Surgery   \n",
       "D54a1d0da-4328-4ca5-8481-87cd73b33dd4       No Surgery   \n",
       "D62170955-5fc5-434e-8e6a-6a9e139851c4       No Surgery   \n",
       "Dbfa7903c-bd06-4e1c-9d22-a3d39ed96aee       No Surgery   \n",
       "\n",
       "                                       Post-op Length of Stay  \\\n",
       "PUF_CASE_ID                                                     \n",
       "D66f458f9-bdc0-4c95-94a3-a5f8c5bb74f9                     NaN   \n",
       "Dfc68ea23-71aa-4b0d-87c0-587b4ce13d04                     NaN   \n",
       "D54a1d0da-4328-4ca5-8481-87cd73b33dd4                     0.0   \n",
       "D62170955-5fc5-434e-8e6a-6a9e139851c4                     NaN   \n",
       "Dbfa7903c-bd06-4e1c-9d22-a3d39ed96aee                     0.0   \n",
       "\n",
       "                                          Post-op Readmission  \\\n",
       "PUF_CASE_ID                                                     \n",
       "D66f458f9-bdc0-4c95-94a3-a5f8c5bb74f9  No surgery/readmission   \n",
       "Dfc68ea23-71aa-4b0d-87c0-587b4ce13d04  No surgery/readmission   \n",
       "D54a1d0da-4328-4ca5-8481-87cd73b33dd4  No surgery/readmission   \n",
       "D62170955-5fc5-434e-8e6a-6a9e139851c4  No surgery/readmission   \n",
       "Dbfa7903c-bd06-4e1c-9d22-a3d39ed96aee  No surgery/readmission   \n",
       "\n",
       "                                      Reason for No Surgery  \\\n",
       "PUF_CASE_ID                                                   \n",
       "D66f458f9-bdc0-4c95-94a3-a5f8c5bb74f9                   N/A   \n",
       "Dfc68ea23-71aa-4b0d-87c0-587b4ce13d04                   N/A   \n",
       "D54a1d0da-4328-4ca5-8481-87cd73b33dd4                   N/A   \n",
       "D62170955-5fc5-434e-8e6a-6a9e139851c4                   N/A   \n",
       "Dbfa7903c-bd06-4e1c-9d22-a3d39ed96aee                   N/A   \n",
       "\n",
       "                                       Treatment Started, Days from Dx  \\\n",
       "PUF_CASE_ID                                                              \n",
       "D66f458f9-bdc0-4c95-94a3-a5f8c5bb74f9                             86.0   \n",
       "Dfc68ea23-71aa-4b0d-87c0-587b4ce13d04                             20.0   \n",
       "D54a1d0da-4328-4ca5-8481-87cd73b33dd4                             35.0   \n",
       "D62170955-5fc5-434e-8e6a-6a9e139851c4                             34.0   \n",
       "Dbfa7903c-bd06-4e1c-9d22-a3d39ed96aee                             45.0   \n",
       "\n",
       "                                      Chemotherapy  \\\n",
       "PUF_CASE_ID                                          \n",
       "D66f458f9-bdc0-4c95-94a3-a5f8c5bb74f9  Multi-agent   \n",
       "Dfc68ea23-71aa-4b0d-87c0-587b4ce13d04  Multi-agent   \n",
       "D54a1d0da-4328-4ca5-8481-87cd73b33dd4  Multi-agent   \n",
       "D62170955-5fc5-434e-8e6a-6a9e139851c4  Multi-agent   \n",
       "Dbfa7903c-bd06-4e1c-9d22-a3d39ed96aee  Multi-agent   \n",
       "\n",
       "                                      No High School Degree, Quartile  \\\n",
       "PUF_CASE_ID                                                             \n",
       "D66f458f9-bdc0-4c95-94a3-a5f8c5bb74f9                         >=21.0%   \n",
       "Dfc68ea23-71aa-4b0d-87c0-587b4ce13d04                       7.0-12.9%   \n",
       "D54a1d0da-4328-4ca5-8481-87cd73b33dd4                           <7.0%   \n",
       "D62170955-5fc5-434e-8e6a-6a9e139851c4                             NaN   \n",
       "Dbfa7903c-bd06-4e1c-9d22-a3d39ed96aee                           <7.0%   \n",
       "\n",
       "                                        Income, Quartile  \\\n",
       "PUF_CASE_ID                                                \n",
       "D66f458f9-bdc0-4c95-94a3-a5f8c5bb74f9          < $30,000   \n",
       "Dfc68ea23-71aa-4b0d-87c0-587b4ce13d04  $35,000 - $45,999   \n",
       "D54a1d0da-4328-4ca5-8481-87cd73b33dd4          >=$46,000   \n",
       "D62170955-5fc5-434e-8e6a-6a9e139851c4                NaN   \n",
       "Dbfa7903c-bd06-4e1c-9d22-a3d39ed96aee          >=$46,000   \n",
       "\n",
       "                                                    Medicaid Expansion  \\\n",
       "PUF_CASE_ID                                                              \n",
       "D66f458f9-bdc0-4c95-94a3-a5f8c5bb74f9              Non-Expansion State   \n",
       "Dfc68ea23-71aa-4b0d-87c0-587b4ce13d04  Early Expansion (before 1/2014)   \n",
       "D54a1d0da-4328-4ca5-8481-87cd73b33dd4  Early Expansion (before 1/2014)   \n",
       "D62170955-5fc5-434e-8e6a-6a9e139851c4  Early Expansion (before 1/2014)   \n",
       "Dbfa7903c-bd06-4e1c-9d22-a3d39ed96aee  Early Expansion (before 1/2014)   \n",
       "\n",
       "                                       Total Dose APR performed Stage T Stage  \\\n",
       "PUF_CASE_ID                                                                     \n",
       "D66f458f9-bdc0-4c95-94a3-a5f8c5bb74f9         0.0           0.0    2A     2.0   \n",
       "Dfc68ea23-71aa-4b0d-87c0-587b4ce13d04         NaN           0.0    3A     2.0   \n",
       "D54a1d0da-4328-4ca5-8481-87cd73b33dd4      5940.0       missing    2B     3.0   \n",
       "D62170955-5fc5-434e-8e6a-6a9e139851c4      5220.0       missing     1     1.0   \n",
       "Dbfa7903c-bd06-4e1c-9d22-a3d39ed96aee         NaN       missing     1     1.0   \n",
       "\n",
       "                                      N Stage M Stage Pathologic Stage  \\\n",
       "PUF_CASE_ID                                                              \n",
       "D66f458f9-bdc0-4c95-94a3-a5f8c5bb74f9     0.0       0       No surgery   \n",
       "Dfc68ea23-71aa-4b0d-87c0-587b4ce13d04     1.0       0       No surgery   \n",
       "D54a1d0da-4328-4ca5-8481-87cd73b33dd4     0.0       0       No surgery   \n",
       "D62170955-5fc5-434e-8e6a-6a9e139851c4     0.0       0       No surgery   \n",
       "Dbfa7903c-bd06-4e1c-9d22-a3d39ed96aee     0.0       0       No surgery   \n",
       "\n",
       "                                      Facility Volume Quartile 3-yr Mortality  \\\n",
       "PUF_CASE_ID                                                                     \n",
       "D66f458f9-bdc0-4c95-94a3-a5f8c5bb74f9                      3.0            0.0   \n",
       "Dfc68ea23-71aa-4b0d-87c0-587b4ce13d04                      1.0            0.0   \n",
       "D54a1d0da-4328-4ca5-8481-87cd73b33dd4                      3.0            0.0   \n",
       "D62170955-5fc5-434e-8e6a-6a9e139851c4                      3.0            0.0   \n",
       "Dbfa7903c-bd06-4e1c-9d22-a3d39ed96aee                      4.0            0.0   \n",
       "\n",
       "                                           Keratinizing      Basaloid  \\\n",
       "PUF_CASE_ID                                                             \n",
       "D66f458f9-bdc0-4c95-94a3-a5f8c5bb74f9  Not Keratinizing  Not Basaloid   \n",
       "Dfc68ea23-71aa-4b0d-87c0-587b4ce13d04  Not Keratinizing      Basaloid   \n",
       "D54a1d0da-4328-4ca5-8481-87cd73b33dd4  Not Keratinizing  Not Basaloid   \n",
       "D62170955-5fc5-434e-8e6a-6a9e139851c4  Not Keratinizing  Not Basaloid   \n",
       "Dbfa7903c-bd06-4e1c-9d22-a3d39ed96aee  Not Keratinizing  Not Basaloid   \n",
       "\n",
       "                                           Cloacogenic  \n",
       "PUF_CASE_ID                                             \n",
       "D66f458f9-bdc0-4c95-94a3-a5f8c5bb74f9  Not Cloacogenic  \n",
       "Dfc68ea23-71aa-4b0d-87c0-587b4ce13d04  Not Cloacogenic  \n",
       "D54a1d0da-4328-4ca5-8481-87cd73b33dd4  Not Cloacogenic  \n",
       "D62170955-5fc5-434e-8e6a-6a9e139851c4  Not Cloacogenic  \n",
       "Dbfa7903c-bd06-4e1c-9d22-a3d39ed96aee  Not Cloacogenic  "
      ]
     },
     "execution_count": 164,
     "metadata": {},
     "output_type": "execute_result"
    }
   ],
   "source": [
    "data.head()"
   ]
  },
  {
   "cell_type": "code",
   "execution_count": 165,
   "metadata": {},
   "outputs": [],
   "source": [
    "data.loc[data['APR performed'] != '1.0', 'APR performed'] = '0.0'"
   ]
  },
  {
   "cell_type": "code",
   "execution_count": 166,
   "metadata": {},
   "outputs": [],
   "source": [
    "num_cols.remove('Surgery, Days from Dx')"
   ]
  },
  {
   "cell_type": "code",
   "execution_count": 167,
   "metadata": {},
   "outputs": [],
   "source": [
    "for x in num_cols:\n",
    "    data.loc[data[x] == 'Unknown', x] = np.NaN"
   ]
  },
  {
   "cell_type": "code",
   "execution_count": 168,
   "metadata": {},
   "outputs": [],
   "source": [
    "for x in data.columns.to_list():\n",
    "    data.loc[data[x] == 'Unknown', x] = np.NaN\n",
    "    data.loc[data[x] == 'nan', x] = np.NaN"
   ]
  },
  {
   "cell_type": "code",
   "execution_count": 169,
   "metadata": {},
   "outputs": [],
   "source": [
    "cols = data.columns.to_list()\n",
    "cat_cols = [x for x in cols if x not in num_cols]"
   ]
  },
  {
   "cell_type": "code",
   "execution_count": 170,
   "metadata": {},
   "outputs": [],
   "source": [
    "data['Year of Diagnosis'] = data['Year of Diagnosis'].astype(int)"
   ]
  },
  {
   "cell_type": "code",
   "execution_count": 171,
   "metadata": {},
   "outputs": [],
   "source": [
    "data.to_csv('data/data_os_clean.csv', index_label='PUF_CASE_ID')"
   ]
  },
  {
   "cell_type": "code",
   "execution_count": 172,
   "metadata": {},
   "outputs": [],
   "source": [
    "#define a function that returns value counts and value percentages for a given column\n",
    "def table(df, col):\n",
    "    return pd.concat([df[col].value_counts(), df[col].value_counts(normalize=True)], axis=1, keys=('counts', 'percent'))\n",
    "def by_year(df, col):\n",
    "    return pd.crosstab(df['YEAR_OF_DIAGNOSIS'], df[col], margins=True, dropna=False)"
   ]
  },
  {
   "cell_type": "code",
   "execution_count": 173,
   "metadata": {},
   "outputs": [
    {
     "data": {
      "text/html": [
       "<div>\n",
       "<style scoped>\n",
       "    .dataframe tbody tr th:only-of-type {\n",
       "        vertical-align: middle;\n",
       "    }\n",
       "\n",
       "    .dataframe tbody tr th {\n",
       "        vertical-align: top;\n",
       "    }\n",
       "\n",
       "    .dataframe thead th {\n",
       "        text-align: right;\n",
       "    }\n",
       "</style>\n",
       "<table border=\"1\" class=\"dataframe\">\n",
       "  <thead>\n",
       "    <tr style=\"text-align: right;\">\n",
       "      <th></th>\n",
       "      <th>counts</th>\n",
       "      <th>percent</th>\n",
       "    </tr>\n",
       "  </thead>\n",
       "  <tbody>\n",
       "    <tr>\n",
       "      <th>2016</th>\n",
       "      <td>3177</td>\n",
       "      <td>0.094022</td>\n",
       "    </tr>\n",
       "    <tr>\n",
       "      <th>2014</th>\n",
       "      <td>3054</td>\n",
       "      <td>0.090382</td>\n",
       "    </tr>\n",
       "    <tr>\n",
       "      <th>2015</th>\n",
       "      <td>2975</td>\n",
       "      <td>0.088044</td>\n",
       "    </tr>\n",
       "    <tr>\n",
       "      <th>2013</th>\n",
       "      <td>2899</td>\n",
       "      <td>0.085795</td>\n",
       "    </tr>\n",
       "    <tr>\n",
       "      <th>2012</th>\n",
       "      <td>2634</td>\n",
       "      <td>0.077952</td>\n",
       "    </tr>\n",
       "    <tr>\n",
       "      <th>2011</th>\n",
       "      <td>2458</td>\n",
       "      <td>0.072743</td>\n",
       "    </tr>\n",
       "    <tr>\n",
       "      <th>2017</th>\n",
       "      <td>2405</td>\n",
       "      <td>0.071175</td>\n",
       "    </tr>\n",
       "    <tr>\n",
       "      <th>2009</th>\n",
       "      <td>2307</td>\n",
       "      <td>0.068275</td>\n",
       "    </tr>\n",
       "    <tr>\n",
       "      <th>2010</th>\n",
       "      <td>2276</td>\n",
       "      <td>0.067357</td>\n",
       "    </tr>\n",
       "    <tr>\n",
       "      <th>2008</th>\n",
       "      <td>2145</td>\n",
       "      <td>0.063480</td>\n",
       "    </tr>\n",
       "    <tr>\n",
       "      <th>2007</th>\n",
       "      <td>1870</td>\n",
       "      <td>0.055342</td>\n",
       "    </tr>\n",
       "    <tr>\n",
       "      <th>2006</th>\n",
       "      <td>1672</td>\n",
       "      <td>0.049482</td>\n",
       "    </tr>\n",
       "    <tr>\n",
       "      <th>2005</th>\n",
       "      <td>1566</td>\n",
       "      <td>0.046345</td>\n",
       "    </tr>\n",
       "    <tr>\n",
       "      <th>2004</th>\n",
       "      <td>1562</td>\n",
       "      <td>0.046227</td>\n",
       "    </tr>\n",
       "    <tr>\n",
       "      <th>2018</th>\n",
       "      <td>790</td>\n",
       "      <td>0.023380</td>\n",
       "    </tr>\n",
       "  </tbody>\n",
       "</table>\n",
       "</div>"
      ],
      "text/plain": [
       "      counts   percent\n",
       "2016    3177  0.094022\n",
       "2014    3054  0.090382\n",
       "2015    2975  0.088044\n",
       "2013    2899  0.085795\n",
       "2012    2634  0.077952\n",
       "2011    2458  0.072743\n",
       "2017    2405  0.071175\n",
       "2009    2307  0.068275\n",
       "2010    2276  0.067357\n",
       "2008    2145  0.063480\n",
       "2007    1870  0.055342\n",
       "2006    1672  0.049482\n",
       "2005    1566  0.046345\n",
       "2004    1562  0.046227\n",
       "2018     790  0.023380"
      ]
     },
     "execution_count": 173,
     "metadata": {},
     "output_type": "execute_result"
    }
   ],
   "source": [
    "table(data, 'Year of Diagnosis')"
   ]
  },
  {
   "cell_type": "code",
   "execution_count": 174,
   "metadata": {},
   "outputs": [
    {
     "data": {
      "text/html": [
       "<div>\n",
       "<style scoped>\n",
       "    .dataframe tbody tr th:only-of-type {\n",
       "        vertical-align: middle;\n",
       "    }\n",
       "\n",
       "    .dataframe tbody tr th {\n",
       "        vertical-align: top;\n",
       "    }\n",
       "\n",
       "    .dataframe thead th {\n",
       "        text-align: right;\n",
       "    }\n",
       "</style>\n",
       "<table border=\"1\" class=\"dataframe\">\n",
       "  <thead>\n",
       "    <tr style=\"text-align: right;\">\n",
       "      <th></th>\n",
       "      <th>counts</th>\n",
       "      <th>percent</th>\n",
       "    </tr>\n",
       "  </thead>\n",
       "  <tbody>\n",
       "    <tr>\n",
       "      <th>0.0</th>\n",
       "      <td>32941</td>\n",
       "      <td>0.974874</td>\n",
       "    </tr>\n",
       "    <tr>\n",
       "      <th>1.0</th>\n",
       "      <td>849</td>\n",
       "      <td>0.025126</td>\n",
       "    </tr>\n",
       "  </tbody>\n",
       "</table>\n",
       "</div>"
      ],
      "text/plain": [
       "     counts   percent\n",
       "0.0   32941  0.974874\n",
       "1.0     849  0.025126"
      ]
     },
     "execution_count": 174,
     "metadata": {},
     "output_type": "execute_result"
    }
   ],
   "source": [
    "table(data, 'APR performed')"
   ]
  },
  {
   "cell_type": "code",
   "execution_count": 175,
   "metadata": {},
   "outputs": [
    {
     "data": {
      "text/html": [
       "<div>\n",
       "<style scoped>\n",
       "    .dataframe tbody tr th:only-of-type {\n",
       "        vertical-align: middle;\n",
       "    }\n",
       "\n",
       "    .dataframe tbody tr th {\n",
       "        vertical-align: top;\n",
       "    }\n",
       "\n",
       "    .dataframe thead th {\n",
       "        text-align: right;\n",
       "    }\n",
       "</style>\n",
       "<table border=\"1\" class=\"dataframe\">\n",
       "  <thead>\n",
       "    <tr style=\"text-align: right;\">\n",
       "      <th></th>\n",
       "      <th>counts</th>\n",
       "      <th>percent</th>\n",
       "    </tr>\n",
       "  </thead>\n",
       "  <tbody>\n",
       "    <tr>\n",
       "      <th>0.0</th>\n",
       "      <td>25802</td>\n",
       "      <td>0.763599</td>\n",
       "    </tr>\n",
       "    <tr>\n",
       "      <th>1.0</th>\n",
       "      <td>7988</td>\n",
       "      <td>0.236401</td>\n",
       "    </tr>\n",
       "  </tbody>\n",
       "</table>\n",
       "</div>"
      ],
      "text/plain": [
       "     counts   percent\n",
       "0.0   25802  0.763599\n",
       "1.0    7988  0.236401"
      ]
     },
     "execution_count": 175,
     "metadata": {},
     "output_type": "execute_result"
    }
   ],
   "source": [
    "table(data, '3-yr Mortality')"
   ]
  },
  {
   "cell_type": "code",
   "execution_count": 176,
   "metadata": {},
   "outputs": [
    {
     "data": {
      "text/plain": [
       "0.0    25802\n",
       "1.0     7988\n",
       "Name: 3-yr Mortality, dtype: int64"
      ]
     },
     "execution_count": 176,
     "metadata": {},
     "output_type": "execute_result"
    }
   ],
   "source": [
    "data['3-yr Mortality'].value_counts(dropna=False)"
   ]
  },
  {
   "cell_type": "code",
   "execution_count": 177,
   "metadata": {},
   "outputs": [
    {
     "name": "stderr",
     "output_type": "stream",
     "text": [
      "/home/kchen/.local/lib/python3.8/site-packages/tableone/tableone.py:991: FutureWarning: Using the level keyword in DataFrame and Series aggregations is deprecated and will be removed in a future version. Use groupby instead. df.sum(level=1) should use df.groupby(level=1).sum().\n",
      "  df['percent'] = df['freq'].div(df.freq.sum(level=0),\n",
      "/home/kchen/.local/lib/python3.8/site-packages/tableone/tableone.py:991: FutureWarning: Using the level keyword in DataFrame and Series aggregations is deprecated and will be removed in a future version. Use groupby instead. df.sum(level=1) should use df.groupby(level=1).sum().\n",
      "  df['percent'] = df['freq'].div(df.freq.sum(level=0),\n"
     ]
    }
   ],
   "source": [
    "tableone = TableOne(data, categorical=cat_cols, groupby='3-yr Mortality', pval=True)\n"
   ]
  },
  {
   "cell_type": "code",
   "execution_count": null,
   "metadata": {},
   "outputs": [],
   "source": [
    "tableone.to_excel('results/table1_os_raw.xlsx')"
   ]
  }
 ],
 "metadata": {
  "interpreter": {
   "hash": "916dbcbb3f70747c44a77c7bcd40155683ae19c65e1c03b4aa3499c5328201f1"
  },
  "kernelspec": {
   "display_name": "Python 3.8.10 64-bit",
   "language": "python",
   "name": "python3"
  },
  "language_info": {
   "codemirror_mode": {
    "name": "ipython",
    "version": 3
   },
   "file_extension": ".py",
   "mimetype": "text/x-python",
   "name": "python",
   "nbconvert_exporter": "python",
   "pygments_lexer": "ipython3",
   "version": "3.8.10"
  },
  "orig_nbformat": 4
 },
 "nbformat": 4,
 "nbformat_minor": 2
}
