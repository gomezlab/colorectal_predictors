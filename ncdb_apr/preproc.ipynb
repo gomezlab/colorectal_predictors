{
 "cells": [
  {
   "cell_type": "code",
   "execution_count": 5,
   "metadata": {},
   "outputs": [],
   "source": [
    "import pandas as pd\n",
    "import numpy as np\n",
    "import matplotlib.pyplot as plt"
   ]
  },
  {
   "cell_type": "code",
   "execution_count": 9,
   "metadata": {},
   "outputs": [],
   "source": [
    "id_cols = ['PUF_CASE_ID', 'YEAR_OF_DIAGNOSIS', 'CLASS_OF_CASE']\n",
    "\n",
    "fac_cols = [ 'PUF_FACILITY_ID', 'FACILITY_TYPE_CD', 'FACILITY_LOCATION_CD']\n",
    "\n",
    "dem_cols = ['AGE', 'SEX', 'RACE', 'SPANISH_HISPANIC_ORIGIN']\n",
    "\n",
    "ses_cols = ['INSURANCE_STATUS', 'UR_CD_13', 'CROWFLY', 'NO_HSD_QUAR_2016', 'MED_INC_QUAR_2016', 'PUF_MEDICAID_EXPN_CODE']\n",
    " \n",
    "medco_cols = ['CDCC_TOTAL_BEST']\n",
    "\n",
    "tumor_cols = ['HISTOLOGY', 'GRADE', 'GRADE_CLIN', 'TUMOR_SIZE', 'TUMOR_SIZE_SUMMARY_2016', 'TNM_CLIN_T', 'TNM_CLIN_N', 'TNM_CLIN_M', 'TNM_CLIN_STAGE_GROUP', 'TNM_PATH_T', 'TNM_PATH_N', 'TNM_PATH_M', 'TNM_PATH_STAGE_GROUP', 'AJCC_TNM_CLIN_T', 'AJCC_TNM_CLIN_N', 'AJCC_TNM_CLIN_M', 'AJCC_TNM_CLIN_STG_GRP', 'AJCC_TNM_PATH_T', 'AJCC_TNM_PATH_N', 'AJCC_TNM_PATH_M', 'AJCC_TNM_PATH_STG_GRP', 'AJCC_TNM_POST_PATH_T',  'AJCC_TNM_POST_PATH_N', 'AJCC_TNM_POST_PATH_M', 'AJCC_TNM_POST_PATH_STG_GRP', 'LYMPH_VASCULAR_INVASION',]\n",
    "\n",
    "rad_cols = ['RAD_LOCATION_OF_RX','DX_RAD_STARTED_DAYS', 'RAD_ELAPSED_RX_DAYS', 'REASON_FOR_NO_RADIATION', 'TOTAL_DOSE',]\n",
    "\n",
    "chemo_cols = ['RX_SUMM_CHEMO', 'DX_CHEMO_STARTED_DAYS', 'RX_SUMM_SYSTEMIC_SUR_SEQ']\n",
    "\n",
    "surg_cols = ['RX_SUMM_SURGRAD_SEQ', 'PALLIATIVE_CARE', 'DX_SURG_STARTED_DAYS', 'DX_DEFSURG_STARTED_DAYS', 'RX_SUMM_SURG_PRIM_SITE', 'RX_SUMM_SURGICAL_MARGINS','SURG_DISCHARGE_DAYS', 'READM_HOSP_30_DAYS', 'REASON_FOR_NO_SURGERY', ]\n",
    "\n",
    "os_cols = ['DX_LASTCONTACT_DEATH_MONTHS', 'PUF_VITAL_STATUS',]\n",
    " \n",
    "incl = id_cols + fac_cols + dem_cols + ses_cols + medco_cols + tumor_cols + rad_cols + chemo_cols + surg_cols + os_cols"
   ]
  },
  {
   "cell_type": "code",
   "execution_count": 10,
   "metadata": {},
   "outputs": [
    {
     "data": {
      "text/plain": [
       "62"
      ]
     },
     "execution_count": 10,
     "metadata": {},
     "output_type": "execute_result"
    }
   ],
   "source": [
    "len(incl)"
   ]
  },
  {
   "cell_type": "code",
   "execution_count": 11,
   "metadata": {},
   "outputs": [
    {
     "data": {
      "text/plain": [
       "(85027, 62)"
      ]
     },
     "execution_count": 11,
     "metadata": {},
     "output_type": "execute_result"
    }
   ],
   "source": [
    "data = pd.read_csv('data/ascc.csv', usecols=incl, na_values=[999, 99], low_memory=False)\n",
    "data.shape"
   ]
  },
  {
   "cell_type": "code",
   "execution_count": null,
   "metadata": {},
   "outputs": [],
   "source": []
  },
  {
   "cell_type": "code",
   "execution_count": 12,
   "metadata": {},
   "outputs": [],
   "source": [
    "data = data[data['CLASS_OF_CASE'] != 0]\n",
    "data.drop('CLASS_OF_CASE', axis=1, inplace=True)"
   ]
  },
  {
   "cell_type": "code",
   "execution_count": 13,
   "metadata": {},
   "outputs": [],
   "source": [
    "#define a function that returns value counts and value percentages for a given column\n",
    "def table(df, col):\n",
    "    return pd.concat([df[col].value_counts(), df[col].value_counts(normalize=True)], axis=1, keys=('counts', 'percent'))\n",
    "def perc_APR(df):\n",
    "    return table(df, 'APR')['percent'][1]"
   ]
  },
  {
   "cell_type": "code",
   "execution_count": 14,
   "metadata": {},
   "outputs": [],
   "source": [
    "#create a dataframe with the counts and percentages of a variable by year\n",
    "def by_year(df, col):\n",
    "    cts = pd.crosstab(df['YEAR_OF_DIAGNOSIS'], df[col])\n",
    "    percs = pd.crosstab(df['YEAR_OF_DIAGNOSIS'], df[col], normalize='index')\n",
    "    percs = percs.round(2) * 100\n",
    "    percs = percs.astype(str)\n",
    "    cts = cts.astype(str)\n",
    "    comb = cts + ' (' + percs + '%)'\n",
    "    comb['total'] = df['YEAR_OF_DIAGNOSIS'].value_counts().sort_index()\n",
    "    return comb\n",
    "def by_stage(df, col):\n",
    "    cts = pd.crosstab(df['stage'], df[col])\n",
    "    percs = pd.crosstab(df['stage'], df[col], normalize='index')\n",
    "    percs = percs.round(2) * 100\n",
    "    percs = percs.astype(str)\n",
    "    cts = cts.astype(str)\n",
    "    comb = cts + ' (' + percs + '%)'\n",
    "    comb['total'] = df['stage'].value_counts().sort_index()\n",
    "    return comb"
   ]
  },
  {
   "cell_type": "markdown",
   "metadata": {},
   "source": [
    "<h1> First, define the primary outcome 'APR' <h1>\n",
    "<h3> APR 1 is codes 60-63, APR 0 requires 1 year of follow-up, no palliative care, surgery 'not planned' <h3>"
   ]
  },
  {
   "cell_type": "code",
   "execution_count": 15,
   "metadata": {},
   "outputs": [
    {
     "data": {
      "text/plain": [
       "NaN    53360\n",
       "0.0    21566\n",
       "1.0     5202\n",
       "Name: APR, dtype: int64"
      ]
     },
     "execution_count": 15,
     "metadata": {},
     "output_type": "execute_result"
    }
   ],
   "source": [
    "data['APR'] = np.NaN\n",
    "data.loc[data['RX_SUMM_SURG_PRIM_SITE'] == 60, 'APR'] = 1\n",
    "data.loc[data['RX_SUMM_SURG_PRIM_SITE'] == 61, 'APR'] = 1\n",
    "data.loc[data['RX_SUMM_SURG_PRIM_SITE'] == 62, 'APR'] = 1\n",
    "data.loc[data['RX_SUMM_SURG_PRIM_SITE'] == 63, 'APR'] = 1\n",
    "\n",
    "data.loc[(\n",
    "            (data['REASON_FOR_NO_SURGERY'] == 1) & \n",
    "            (data['RX_SUMM_SURG_PRIM_SITE'] == 0) & \n",
    "            (data['PALLIATIVE_CARE'] == 0) &\n",
    "            (data['DX_LASTCONTACT_DEATH_MONTHS'] >= 36) &\n",
    "            (data['RX_SUMM_SURGRAD_SEQ'] == 0)\n",
    "            ), 'APR'] = 0\n",
    "data['APR'].value_counts(dropna=False)"
   ]
  },
  {
   "cell_type": "code",
   "execution_count": 16,
   "metadata": {},
   "outputs": [
    {
     "data": {
      "text/html": [
       "<div>\n",
       "<style scoped>\n",
       "    .dataframe tbody tr th:only-of-type {\n",
       "        vertical-align: middle;\n",
       "    }\n",
       "\n",
       "    .dataframe tbody tr th {\n",
       "        vertical-align: top;\n",
       "    }\n",
       "\n",
       "    .dataframe thead th {\n",
       "        text-align: right;\n",
       "    }\n",
       "</style>\n",
       "<table border=\"1\" class=\"dataframe\">\n",
       "  <thead>\n",
       "    <tr style=\"text-align: right;\">\n",
       "      <th></th>\n",
       "      <th>counts</th>\n",
       "      <th>percent</th>\n",
       "    </tr>\n",
       "  </thead>\n",
       "  <tbody>\n",
       "    <tr>\n",
       "      <th>0.0</th>\n",
       "      <td>21566</td>\n",
       "      <td>0.805663</td>\n",
       "    </tr>\n",
       "    <tr>\n",
       "      <th>1.0</th>\n",
       "      <td>5202</td>\n",
       "      <td>0.194337</td>\n",
       "    </tr>\n",
       "  </tbody>\n",
       "</table>\n",
       "</div>"
      ],
      "text/plain": [
       "     counts   percent\n",
       "0.0   21566  0.805663\n",
       "1.0    5202  0.194337"
      ]
     },
     "execution_count": 16,
     "metadata": {},
     "output_type": "execute_result"
    }
   ],
   "source": [
    "table(data, 'APR')"
   ]
  },
  {
   "cell_type": "code",
   "execution_count": 17,
   "metadata": {},
   "outputs": [
    {
     "data": {
      "text/html": [
       "<div>\n",
       "<style scoped>\n",
       "    .dataframe tbody tr th:only-of-type {\n",
       "        vertical-align: middle;\n",
       "    }\n",
       "\n",
       "    .dataframe tbody tr th {\n",
       "        vertical-align: top;\n",
       "    }\n",
       "\n",
       "    .dataframe thead th {\n",
       "        text-align: right;\n",
       "    }\n",
       "</style>\n",
       "<table border=\"1\" class=\"dataframe\">\n",
       "  <thead>\n",
       "    <tr style=\"text-align: right;\">\n",
       "      <th>APR</th>\n",
       "      <th>0.0</th>\n",
       "      <th>1.0</th>\n",
       "      <th>All</th>\n",
       "    </tr>\n",
       "    <tr>\n",
       "      <th>HISTOLOGY</th>\n",
       "      <th></th>\n",
       "      <th></th>\n",
       "      <th></th>\n",
       "    </tr>\n",
       "  </thead>\n",
       "  <tbody>\n",
       "    <tr>\n",
       "      <th>All</th>\n",
       "      <td>21566</td>\n",
       "      <td>5202</td>\n",
       "      <td>80128</td>\n",
       "    </tr>\n",
       "    <tr>\n",
       "      <th>8070</th>\n",
       "      <td>15939</td>\n",
       "      <td>1905</td>\n",
       "      <td>53068</td>\n",
       "    </tr>\n",
       "    <tr>\n",
       "      <th>8140</th>\n",
       "      <td>386</td>\n",
       "      <td>1587</td>\n",
       "      <td>4807</td>\n",
       "    </tr>\n",
       "    <tr>\n",
       "      <th>8480</th>\n",
       "      <td>63</td>\n",
       "      <td>389</td>\n",
       "      <td>859</td>\n",
       "    </tr>\n",
       "    <tr>\n",
       "      <th>8071</th>\n",
       "      <td>1314</td>\n",
       "      <td>296</td>\n",
       "      <td>5030</td>\n",
       "    </tr>\n",
       "    <tr>\n",
       "      <th>8720</th>\n",
       "      <td>17</td>\n",
       "      <td>230</td>\n",
       "      <td>971</td>\n",
       "    </tr>\n",
       "    <tr>\n",
       "      <th>8083</th>\n",
       "      <td>1630</td>\n",
       "      <td>123</td>\n",
       "      <td>3876</td>\n",
       "    </tr>\n",
       "    <tr>\n",
       "      <th>8263</th>\n",
       "      <td>12</td>\n",
       "      <td>57</td>\n",
       "      <td>365</td>\n",
       "    </tr>\n",
       "    <tr>\n",
       "      <th>8210</th>\n",
       "      <td>13</td>\n",
       "      <td>56</td>\n",
       "      <td>339</td>\n",
       "    </tr>\n",
       "    <tr>\n",
       "      <th>8072</th>\n",
       "      <td>740</td>\n",
       "      <td>48</td>\n",
       "      <td>1979</td>\n",
       "    </tr>\n",
       "  </tbody>\n",
       "</table>\n",
       "</div>"
      ],
      "text/plain": [
       "APR          0.0   1.0    All\n",
       "HISTOLOGY                    \n",
       "All        21566  5202  80128\n",
       "8070       15939  1905  53068\n",
       "8140         386  1587   4807\n",
       "8480          63   389    859\n",
       "8071        1314   296   5030\n",
       "8720          17   230    971\n",
       "8083        1630   123   3876\n",
       "8263          12    57    365\n",
       "8210          13    56    339\n",
       "8072         740    48   1979"
      ]
     },
     "execution_count": 17,
     "metadata": {},
     "output_type": "execute_result"
    }
   ],
   "source": [
    "pd.crosstab(data['HISTOLOGY'], data['APR'], margins=True, dropna=False).sort_values(by=1, ascending=False).head(10)"
   ]
  },
  {
   "cell_type": "code",
   "execution_count": 18,
   "metadata": {},
   "outputs": [],
   "source": [
    "histo_tsikitis = [8000, 8010, 8083, 8120, 8124, 8560, 8070, 8071, 8072, 8076, 8083, 8481, 8051, 8123]\n"
   ]
  },
  {
   "cell_type": "code",
   "execution_count": 19,
   "metadata": {},
   "outputs": [
    {
     "data": {
      "text/plain": [
       "[8070,\n",
       " 8071,\n",
       " 8072,\n",
       " 8073,\n",
       " 8074,\n",
       " 8075,\n",
       " 8076,\n",
       " 8077,\n",
       " 8078,\n",
       " 8000,\n",
       " 8010,\n",
       " 8083,\n",
       " 8120,\n",
       " 8124,\n",
       " 8560,\n",
       " 8481,\n",
       " 8051,\n",
       " 8123]"
      ]
     },
     "execution_count": 19,
     "metadata": {},
     "output_type": "execute_result"
    }
   ],
   "source": [
    "#create a list of numbers between 8070 and 8078\n",
    "histo_list = []\n",
    "for i in range(8070, 8079):\n",
    "    histo_list.append(i)\n",
    "#add the codes in histo_tiskitis to the list, unless they are already in the list\n",
    "for x in histo_tsikitis:\n",
    "    if x not in histo_list:\n",
    "        histo_list.append(x)\n",
    "\n",
    "histo_list"
   ]
  },
  {
   "cell_type": "code",
   "execution_count": 20,
   "metadata": {},
   "outputs": [
    {
     "data": {
      "text/html": [
       "<div>\n",
       "<style scoped>\n",
       "    .dataframe tbody tr th:only-of-type {\n",
       "        vertical-align: middle;\n",
       "    }\n",
       "\n",
       "    .dataframe tbody tr th {\n",
       "        vertical-align: top;\n",
       "    }\n",
       "\n",
       "    .dataframe thead th {\n",
       "        text-align: right;\n",
       "    }\n",
       "</style>\n",
       "<table border=\"1\" class=\"dataframe\">\n",
       "  <thead>\n",
       "    <tr style=\"text-align: right;\">\n",
       "      <th></th>\n",
       "      <th>criteria</th>\n",
       "      <th>before</th>\n",
       "      <th>after</th>\n",
       "      <th>drop</th>\n",
       "      <th>% APR</th>\n",
       "    </tr>\n",
       "  </thead>\n",
       "  <tbody>\n",
       "  </tbody>\n",
       "</table>\n",
       "</div>"
      ],
      "text/plain": [
       "Empty DataFrame\n",
       "Columns: [criteria, before, after, drop, % APR]\n",
       "Index: []"
      ]
     },
     "execution_count": 20,
     "metadata": {},
     "output_type": "execute_result"
    }
   ],
   "source": [
    "drop_counts = pd.DataFrame(columns=['criteria', 'before', 'after', 'drop', '% APR'])\n",
    "drop_counts.head()"
   ]
  },
  {
   "cell_type": "code",
   "execution_count": 21,
   "metadata": {},
   "outputs": [],
   "source": [
    "drop_counts = drop_counts.append({'criteria': 'total', 'before': 0, 'after': data.shape[0], 'drop': 0, '% APR': table(data, 'APR')['percent'][1]}, ignore_index=True)"
   ]
  },
  {
   "cell_type": "code",
   "execution_count": 22,
   "metadata": {},
   "outputs": [
    {
     "data": {
      "text/html": [
       "<div>\n",
       "<style scoped>\n",
       "    .dataframe tbody tr th:only-of-type {\n",
       "        vertical-align: middle;\n",
       "    }\n",
       "\n",
       "    .dataframe tbody tr th {\n",
       "        vertical-align: top;\n",
       "    }\n",
       "\n",
       "    .dataframe thead th {\n",
       "        text-align: right;\n",
       "    }\n",
       "</style>\n",
       "<table border=\"1\" class=\"dataframe\">\n",
       "  <thead>\n",
       "    <tr style=\"text-align: right;\">\n",
       "      <th></th>\n",
       "      <th>criteria</th>\n",
       "      <th>before</th>\n",
       "      <th>after</th>\n",
       "      <th>drop</th>\n",
       "      <th>% APR</th>\n",
       "    </tr>\n",
       "  </thead>\n",
       "  <tbody>\n",
       "    <tr>\n",
       "      <th>0</th>\n",
       "      <td>total</td>\n",
       "      <td>0</td>\n",
       "      <td>80128</td>\n",
       "      <td>0</td>\n",
       "      <td>0.194337</td>\n",
       "    </tr>\n",
       "    <tr>\n",
       "      <th>1</th>\n",
       "      <td>histology</td>\n",
       "      <td>80128</td>\n",
       "      <td>70610</td>\n",
       "      <td>9518</td>\n",
       "      <td>0.108838</td>\n",
       "    </tr>\n",
       "  </tbody>\n",
       "</table>\n",
       "</div>"
      ],
      "text/plain": [
       "    criteria before  after  drop     % APR\n",
       "0      total      0  80128     0  0.194337\n",
       "1  histology  80128  70610  9518  0.108838"
      ]
     },
     "execution_count": 22,
     "metadata": {},
     "output_type": "execute_result"
    }
   ],
   "source": [
    "#keep only histologies in the list\n",
    "before = data.shape[0]\n",
    "data = data[data['HISTOLOGY'].isin(histo_list)]\n",
    "after = data.shape[0]\n",
    "drop = before - after\n",
    "drop_counts = drop_counts.append({'criteria': 'histology', 'before': before, 'after': after, 'drop': drop, '% APR': table(data, 'APR')['percent'][1]}, ignore_index=True)\n",
    "drop_counts.head()"
   ]
  },
  {
   "cell_type": "code",
   "execution_count": 23,
   "metadata": {},
   "outputs": [
    {
     "data": {
      "text/html": [
       "<div>\n",
       "<style scoped>\n",
       "    .dataframe tbody tr th:only-of-type {\n",
       "        vertical-align: middle;\n",
       "    }\n",
       "\n",
       "    .dataframe tbody tr th {\n",
       "        vertical-align: top;\n",
       "    }\n",
       "\n",
       "    .dataframe thead th {\n",
       "        text-align: right;\n",
       "    }\n",
       "</style>\n",
       "<table border=\"1\" class=\"dataframe\">\n",
       "  <thead>\n",
       "    <tr style=\"text-align: right;\">\n",
       "      <th></th>\n",
       "      <th>counts</th>\n",
       "      <th>percent</th>\n",
       "    </tr>\n",
       "  </thead>\n",
       "  <tbody>\n",
       "    <tr>\n",
       "      <th>0.0</th>\n",
       "      <td>20912</td>\n",
       "      <td>0.891162</td>\n",
       "    </tr>\n",
       "    <tr>\n",
       "      <th>1.0</th>\n",
       "      <td>2554</td>\n",
       "      <td>0.108838</td>\n",
       "    </tr>\n",
       "  </tbody>\n",
       "</table>\n",
       "</div>"
      ],
      "text/plain": [
       "     counts   percent\n",
       "0.0   20912  0.891162\n",
       "1.0    2554  0.108838"
      ]
     },
     "execution_count": 23,
     "metadata": {},
     "output_type": "execute_result"
    }
   ],
   "source": [
    "table(data, 'APR')"
   ]
  },
  {
   "cell_type": "code",
   "execution_count": 24,
   "metadata": {},
   "outputs": [
    {
     "data": {
      "text/plain": [
       "0    51796\n",
       "1    15728\n",
       "9     1251\n",
       "7      784\n",
       "2      458\n",
       "8      273\n",
       "6      225\n",
       "5       95\n",
       "Name: REASON_FOR_NO_RADIATION, dtype: int64"
      ]
     },
     "execution_count": 24,
     "metadata": {},
     "output_type": "execute_result"
    }
   ],
   "source": [
    "data['REASON_FOR_NO_RADIATION'].value_counts(dropna=False)"
   ]
  },
  {
   "cell_type": "code",
   "execution_count": 25,
   "metadata": {},
   "outputs": [
    {
     "data": {
      "text/html": [
       "<div>\n",
       "<style scoped>\n",
       "    .dataframe tbody tr th:only-of-type {\n",
       "        vertical-align: middle;\n",
       "    }\n",
       "\n",
       "    .dataframe tbody tr th {\n",
       "        vertical-align: top;\n",
       "    }\n",
       "\n",
       "    .dataframe thead th {\n",
       "        text-align: right;\n",
       "    }\n",
       "</style>\n",
       "<table border=\"1\" class=\"dataframe\">\n",
       "  <thead>\n",
       "    <tr style=\"text-align: right;\">\n",
       "      <th></th>\n",
       "      <th>criteria</th>\n",
       "      <th>before</th>\n",
       "      <th>after</th>\n",
       "      <th>drop</th>\n",
       "      <th>% APR</th>\n",
       "    </tr>\n",
       "  </thead>\n",
       "  <tbody>\n",
       "    <tr>\n",
       "      <th>0</th>\n",
       "      <td>total</td>\n",
       "      <td>0</td>\n",
       "      <td>80128</td>\n",
       "      <td>0</td>\n",
       "      <td>0.194337</td>\n",
       "    </tr>\n",
       "    <tr>\n",
       "      <th>1</th>\n",
       "      <td>histology</td>\n",
       "      <td>80128</td>\n",
       "      <td>70610</td>\n",
       "      <td>9518</td>\n",
       "      <td>0.108838</td>\n",
       "    </tr>\n",
       "    <tr>\n",
       "      <th>2</th>\n",
       "      <td>no radiation</td>\n",
       "      <td>70610</td>\n",
       "      <td>51796</td>\n",
       "      <td>18814</td>\n",
       "      <td>0.066959</td>\n",
       "    </tr>\n",
       "  </tbody>\n",
       "</table>\n",
       "</div>"
      ],
      "text/plain": [
       "       criteria before  after   drop     % APR\n",
       "0         total      0  80128      0  0.194337\n",
       "1     histology  80128  70610   9518  0.108838\n",
       "2  no radiation  70610  51796  18814  0.066959"
      ]
     },
     "execution_count": 25,
     "metadata": {},
     "output_type": "execute_result"
    }
   ],
   "source": [
    "before = data.shape[0]\n",
    "data = data[data['REASON_FOR_NO_RADIATION'] == 0]\n",
    "after = data.shape[0]\n",
    "data.drop(columns=['REASON_FOR_NO_RADIATION'], inplace=True)\n",
    "drop = before - after\n",
    "drop_counts = drop_counts.append({'criteria': 'no radiation', 'before': before, 'after': after, 'drop': drop, '% APR': perc_APR(data)}, ignore_index=True)\n",
    "drop_counts.head()"
   ]
  },
  {
   "cell_type": "code",
   "execution_count": 26,
   "metadata": {},
   "outputs": [
    {
     "data": {
      "text/plain": [
       "3.0     40754\n",
       "2.0      5161\n",
       "0.0      2581\n",
       "1.0      2326\n",
       "82.0      424\n",
       "87.0      309\n",
       "88.0      143\n",
       "86.0       38\n",
       "85.0       22\n",
       "Name: RX_SUMM_CHEMO, dtype: int64"
      ]
     },
     "execution_count": 26,
     "metadata": {},
     "output_type": "execute_result"
    }
   ],
   "source": [
    "data['RX_SUMM_CHEMO'].value_counts()"
   ]
  },
  {
   "cell_type": "code",
   "execution_count": 27,
   "metadata": {},
   "outputs": [],
   "source": [
    "# before = data.shape[0]\n",
    "# data = data[data['RX_SUMM_CHEMO'] == 3]\n",
    "# after = data.shape[0]\n",
    "# data.drop(columns=['RX_SUMM_CHEMO'], inplace=True)\n",
    "# drop = before - after\n",
    "# drop_counts = drop_counts.append({'criteria': 'multi-agent chemo', 'before': before, 'after': after, 'drop': drop, '% APR': perc_APR(data)}, ignore_index=True)\n",
    "# drop_counts.head()"
   ]
  },
  {
   "cell_type": "code",
   "execution_count": 28,
   "metadata": {},
   "outputs": [
    {
     "data": {
      "text/html": [
       "<div>\n",
       "<style scoped>\n",
       "    .dataframe tbody tr th:only-of-type {\n",
       "        vertical-align: middle;\n",
       "    }\n",
       "\n",
       "    .dataframe tbody tr th {\n",
       "        vertical-align: top;\n",
       "    }\n",
       "\n",
       "    .dataframe thead th {\n",
       "        text-align: right;\n",
       "    }\n",
       "</style>\n",
       "<table border=\"1\" class=\"dataframe\">\n",
       "  <thead>\n",
       "    <tr style=\"text-align: right;\">\n",
       "      <th></th>\n",
       "      <th>counts</th>\n",
       "      <th>percent</th>\n",
       "    </tr>\n",
       "  </thead>\n",
       "  <tbody>\n",
       "    <tr>\n",
       "      <th>0.0</th>\n",
       "      <td>19773</td>\n",
       "      <td>0.933041</td>\n",
       "    </tr>\n",
       "    <tr>\n",
       "      <th>1.0</th>\n",
       "      <td>1419</td>\n",
       "      <td>0.066959</td>\n",
       "    </tr>\n",
       "  </tbody>\n",
       "</table>\n",
       "</div>"
      ],
      "text/plain": [
       "     counts   percent\n",
       "0.0   19773  0.933041\n",
       "1.0    1419  0.066959"
      ]
     },
     "execution_count": 28,
     "metadata": {},
     "output_type": "execute_result"
    }
   ],
   "source": [
    "table(data, 'APR')\n"
   ]
  },
  {
   "cell_type": "code",
   "execution_count": 29,
   "metadata": {},
   "outputs": [
    {
     "data": {
      "text/plain": [
       "count     23911.000000\n",
       "mean      25886.553093\n",
       "std      145148.837999\n",
       "min           0.000000\n",
       "25%         333.000000\n",
       "50%        5040.000000\n",
       "75%        5400.000000\n",
       "max      999999.000000\n",
       "Name: TOTAL_DOSE, dtype: float64"
      ]
     },
     "execution_count": 29,
     "metadata": {},
     "output_type": "execute_result"
    }
   ],
   "source": [
    "data['TOTAL_DOSE'].describe()"
   ]
  },
  {
   "cell_type": "code",
   "execution_count": 30,
   "metadata": {},
   "outputs": [
    {
     "data": {
      "text/plain": [
       "<AxesSubplot:>"
      ]
     },
     "execution_count": 30,
     "metadata": {},
     "output_type": "execute_result"
    },
    {
     "data": {
      "image/png": "[encoded data removed]",
      "text/plain": [
       "<Figure size 432x288 with 1 Axes>"
      ]
     },
     "metadata": {
      "needs_background": "light"
     },
     "output_type": "display_data"
    }
   ],
   "source": [
    "data.loc[data['TOTAL_DOSE'] > 20000, 'TOTAL_DOSE'] = np.NaN\n",
    "data.loc[data['TOTAL_DOSE'] > 10000, 'TOTAL_DOSE'] = 10000\n",
    "data['TOTAL_DOSE'].hist()"
   ]
  },
  {
   "cell_type": "code",
   "execution_count": 31,
   "metadata": {},
   "outputs": [
    {
     "data": {
      "text/plain": [
       "NaN    28496\n",
       "1.0    16871\n",
       "0.0     6429\n",
       "Name: Radiation Dose, >30 Gy, dtype: int64"
      ]
     },
     "execution_count": 31,
     "metadata": {},
     "output_type": "execute_result"
    }
   ],
   "source": [
    "data['Radiation Dose, >30 Gy'] = np.NaN\n",
    "data.loc[data['TOTAL_DOSE'] >= 3000, 'Radiation Dose, >30 Gy'] = 1\n",
    "data.loc[data['TOTAL_DOSE'] < 3000, 'Radiation Dose, >30 Gy'] = 0\n",
    "\n",
    "data['Radiation Dose, >30 Gy'].value_counts(dropna=False)\n"
   ]
  },
  {
   "cell_type": "code",
   "execution_count": 32,
   "metadata": {},
   "outputs": [
    {
     "data": {
      "text/html": [
       "<div>\n",
       "<style scoped>\n",
       "    .dataframe tbody tr th:only-of-type {\n",
       "        vertical-align: middle;\n",
       "    }\n",
       "\n",
       "    .dataframe tbody tr th {\n",
       "        vertical-align: top;\n",
       "    }\n",
       "\n",
       "    .dataframe thead th {\n",
       "        text-align: right;\n",
       "    }\n",
       "</style>\n",
       "<table border=\"1\" class=\"dataframe\">\n",
       "  <thead>\n",
       "    <tr style=\"text-align: right;\">\n",
       "      <th></th>\n",
       "      <th>counts</th>\n",
       "      <th>percent</th>\n",
       "    </tr>\n",
       "  </thead>\n",
       "  <tbody>\n",
       "    <tr>\n",
       "      <th>0.0</th>\n",
       "      <td>4746</td>\n",
       "      <td>0.930588</td>\n",
       "    </tr>\n",
       "    <tr>\n",
       "      <th>1.0</th>\n",
       "      <td>354</td>\n",
       "      <td>0.069412</td>\n",
       "    </tr>\n",
       "  </tbody>\n",
       "</table>\n",
       "</div>"
      ],
      "text/plain": [
       "     counts   percent\n",
       "0.0    4746  0.930588\n",
       "1.0     354  0.069412"
      ]
     },
     "execution_count": 32,
     "metadata": {},
     "output_type": "execute_result"
    }
   ],
   "source": [
    "data_rad = data[data['Radiation Dose, >30 Gy'] == 1]\n",
    "table(data_rad, 'APR')\n"
   ]
  },
  {
   "cell_type": "code",
   "execution_count": 33,
   "metadata": {},
   "outputs": [
    {
     "data": {
      "text/html": [
       "<div>\n",
       "<style scoped>\n",
       "    .dataframe tbody tr th:only-of-type {\n",
       "        vertical-align: middle;\n",
       "    }\n",
       "\n",
       "    .dataframe tbody tr th {\n",
       "        vertical-align: top;\n",
       "    }\n",
       "\n",
       "    .dataframe thead th {\n",
       "        text-align: right;\n",
       "    }\n",
       "</style>\n",
       "<table border=\"1\" class=\"dataframe\">\n",
       "  <thead>\n",
       "    <tr style=\"text-align: right;\">\n",
       "      <th>Radiation Dose, &gt;30 Gy</th>\n",
       "      <th>0.0</th>\n",
       "      <th>1.0</th>\n",
       "      <th>All</th>\n",
       "    </tr>\n",
       "    <tr>\n",
       "      <th>APR</th>\n",
       "      <th></th>\n",
       "      <th></th>\n",
       "      <th></th>\n",
       "    </tr>\n",
       "  </thead>\n",
       "  <tbody>\n",
       "    <tr>\n",
       "      <th>0.0</th>\n",
       "      <td>0.384526</td>\n",
       "      <td>0.553018</td>\n",
       "      <td>0.933041</td>\n",
       "    </tr>\n",
       "    <tr>\n",
       "      <th>1.0</th>\n",
       "      <td>0.021207</td>\n",
       "      <td>0.041249</td>\n",
       "      <td>0.066959</td>\n",
       "    </tr>\n",
       "    <tr>\n",
       "      <th>All</th>\n",
       "      <td>0.275923</td>\n",
       "      <td>0.724077</td>\n",
       "      <td>1.000000</td>\n",
       "    </tr>\n",
       "  </tbody>\n",
       "</table>\n",
       "</div>"
      ],
      "text/plain": [
       "Radiation Dose, >30 Gy       0.0       1.0       All\n",
       "APR                                                 \n",
       "0.0                     0.384526  0.553018  0.933041\n",
       "1.0                     0.021207  0.041249  0.066959\n",
       "All                     0.275923  0.724077  1.000000"
      ]
     },
     "execution_count": 33,
     "metadata": {},
     "output_type": "execute_result"
    }
   ],
   "source": [
    "pd.crosstab(data['APR'], data['Radiation Dose, >30 Gy'], margins=True, dropna=False, normalize=True)"
   ]
  },
  {
   "cell_type": "code",
   "execution_count": 34,
   "metadata": {},
   "outputs": [],
   "source": [
    "data['stage'] = np.NaN"
   ]
  },
  {
   "cell_type": "code",
   "execution_count": 35,
   "metadata": {},
   "outputs": [
    {
     "data": {
      "text/plain": [
       "('AJCC_TNM_CLIN_M',\n",
       " 'AJCC_TNM_CLIN_N',\n",
       " 'AJCC_TNM_CLIN_N_SFX',\n",
       " 'AJCC_TNM_CLIN_STG_GRP',\n",
       " 'AJCC_TNM_CLIN_T')"
      ]
     },
     "execution_count": 35,
     "metadata": {},
     "output_type": "execute_result"
    }
   ],
   "source": [
    "'TNM_CLIN_T', 'TNM_CLIN_N', 'TNM_CLIN_M',\n",
    "'TNM_CLIN_T', 'TNM_CLIN_N', 'TNM_CLIN_M', 'TNM_CLIN_STAGE_GROUP',\n",
    "'AJCC_TNM_CLIN_M', 'AJCC_TNM_CLIN_N', 'AJCC_TNM_CLIN_N_SFX', 'AJCC_TNM_CLIN_STG_GRP', 'AJCC_TNM_CLIN_T',"
   ]
  },
  {
   "cell_type": "code",
   "execution_count": 36,
   "metadata": {},
   "outputs": [
    {
     "data": {
      "text/html": [
       "<div>\n",
       "<style scoped>\n",
       "    .dataframe tbody tr th:only-of-type {\n",
       "        vertical-align: middle;\n",
       "    }\n",
       "\n",
       "    .dataframe tbody tr th {\n",
       "        vertical-align: top;\n",
       "    }\n",
       "\n",
       "    .dataframe thead th {\n",
       "        text-align: right;\n",
       "    }\n",
       "</style>\n",
       "<table border=\"1\" class=\"dataframe\">\n",
       "  <thead>\n",
       "    <tr style=\"text-align: right;\">\n",
       "      <th></th>\n",
       "      <th>stage</th>\n",
       "      <th>TNM_CLIN_STAGE_GROUP</th>\n",
       "    </tr>\n",
       "  </thead>\n",
       "  <tbody>\n",
       "  </tbody>\n",
       "</table>\n",
       "</div>"
      ],
      "text/plain": [
       "Empty DataFrame\n",
       "Columns: [stage, TNM_CLIN_STAGE_GROUP]\n",
       "Index: []"
      ]
     },
     "execution_count": 36,
     "metadata": {},
     "output_type": "execute_result"
    }
   ],
   "source": [
    "#if YEAR_OF_DIAGNOSIS is < 2018, stage is 'AJCC Clinical Stage Group'\n",
    "data['stage'] = data['AJCC_TNM_CLIN_STG_GRP']\n",
    "data.loc[data['YEAR_OF_DIAGNOSIS'] < 2018, 'stage'] = data.loc[data['YEAR_OF_DIAGNOSIS'] < 2018, 'TNM_CLIN_STAGE_GROUP']\n",
    "#if 'stage' is still NaN, then fill with 'AJCC Clinical Stage Group'\n",
    "data.loc[data['stage'].isnull(), 'stage'] = data.loc[data['stage'].isnull(), 'TNM_CLIN_STAGE_GROUP']\n",
    "#find rows where 'stage' does not equal 'TNM_CLIN_STAGE_GROUP' and show only those columns\n",
    "data.loc[(data['stage'] != data['TNM_CLIN_STAGE_GROUP']) & (data['stage'].notnull() & (data['TNM_CLIN_STAGE_GROUP'].notnull())), ['stage', 'TNM_CLIN_STAGE_GROUP']]\n",
    "#find rows where 'stage' does not equal 'TNM_CLIN_STAGE_GROUP' and show only those columns\n",
    "data.loc[(data['stage'] != data['TNM_CLIN_STAGE_GROUP']) & (data['stage'].notnull() & (data['TNM_CLIN_STAGE_GROUP'].notnull())), ['stage', 'TNM_CLIN_STAGE_GROUP']]"
   ]
  },
  {
   "cell_type": "code",
   "execution_count": 37,
   "metadata": {},
   "outputs": [
    {
     "data": {
      "text/plain": [
       "2     15353\n",
       "3B     9069\n",
       "1      7053\n",
       "3A     6329\n",
       "4      2462\n",
       "2A     2205\n",
       "3C     1613\n",
       "2B      667\n",
       "0       647\n",
       "3       198\n",
       "88       35\n",
       "Name: stage, dtype: int64"
      ]
     },
     "execution_count": 37,
     "metadata": {},
     "output_type": "execute_result"
    }
   ],
   "source": [
    "data['stage'].value_counts()"
   ]
  },
  {
   "cell_type": "code",
   "execution_count": 38,
   "metadata": {},
   "outputs": [
    {
     "data": {
      "text/plain": [
       "0    49351\n",
       "1     2445\n",
       "Name: m_stage, dtype: int64"
      ]
     },
     "execution_count": 38,
     "metadata": {},
     "output_type": "execute_result"
    }
   ],
   "source": [
    "data['t_stage'] = data['TNM_CLIN_T']\n",
    "data['n_stage'] = data['TNM_CLIN_N']\n",
    "data['m_stage'] = data['TNM_CLIN_M']\n",
    "\n",
    "data['t_stage'].value_counts(dropna=False)\n",
    "#if YEAR_OF_DIAGNOSIS is >= 2018 and t_stage is null, T stage is 'AJCC_TNM_CLIN_T'\n",
    "data.loc[((data['YEAR_OF_DIAGNOSIS'] >= 2018) & (data['t_stage'].isnull())), 't_stage'] = data.loc[((data['YEAR_OF_DIAGNOSIS'] >= 2018) & (data['t_stage'].isnull())), 'AJCC_TNM_CLIN_T']\n",
    "\n",
    "#same for n and m stages\n",
    "data.loc[((data['YEAR_OF_DIAGNOSIS'] >= 2018) & (data['n_stage'].isnull())), 'n_stage'] = data.loc[((data['YEAR_OF_DIAGNOSIS'] >= 2018) & (data['n_stage'].isnull())), 'AJCC_TNM_CLIN_N']\n",
    "data.loc[((data['YEAR_OF_DIAGNOSIS'] >= 2018) & (data['m_stage'].isnull())), 'm_stage'] = data.loc[((data['YEAR_OF_DIAGNOSIS'] >= 2018) & (data['m_stage'].isnull())), 'AJCC_TNM_CLIN_M']\n",
    "data['t_stage'].value_counts(dropna=False)\n",
    "#if t_stage contains 'is' or 'x', t_stage is 0\n",
    "data.loc[data['t_stage'].str.contains('is', na=False), 't_stage'] = 0\n",
    "data.loc[data['t_stage'].str.contains('x', case=False, na=False), 't_stage'] = np.NaN\n",
    "data.loc[data['t_stage'].str.contains('1', case=False, na=False), 't_stage'] = 1\n",
    "data.loc[data['t_stage'].str.contains('2', case=False, na=False), 't_stage'] = 2\n",
    "data.loc[data['t_stage'].str.contains('3', case=False, na=False), 't_stage'] = 3\n",
    "data.loc[data['t_stage'].str.contains('4', case=False, na=False), 't_stage'] = 4\n",
    "data.loc[data['t_stage'].str.contains('is', case=False, na=False), 't_stage'] = 0\n",
    "data.loc[data['t_stage'].str.contains('0', case=False, na=False), 't_stage'] = 0\n",
    "# data['t_stage'].fillna(0, inplace=True)\n",
    "data['t_stage'].value_counts(dropna=False)\n",
    "data['n_stage'].value_counts(dropna=False)\n",
    "data.loc[data['n_stage'].str.contains('is', case=False, na=False), 'n_stage'] = 0\n",
    "data.loc[data['n_stage'].str.contains('0', case=False, na=False), 'n_stage'] = 0\n",
    "# data['n_stage'].fillna(0, inplace=True)\n",
    "data.loc[data['n_stage'].str.contains('1', case=False, na=False), 'n_stage'] = 1\n",
    "data.loc[data['n_stage'].str.contains('2', case=False, na=False), 'n_stage'] = 1\n",
    "data.loc[data['n_stage'].str.contains('3', case=False, na=False), 'n_stage'] = 1\n",
    "data.loc[data['n_stage'].str.contains('4', case=False, na=False), 'n_stage'] = 1\n",
    "data.loc[data['n_stage'].str.contains('X', case=False, na=False), 'n_stage'] = np.NaN\n",
    "data['n_stage'].value_counts(dropna=False)\n",
    "data['m_stage'].value_counts(dropna=False)\n",
    "data['m_stage'].fillna(0, inplace=True)\n",
    "data.loc[data['m_stage'].str.contains('is', case=False, na=False), 'm_stage'] = 0\n",
    "data.loc[data['m_stage'].str.contains('0', case=False, na=False), 'm_stage'] = 0\n",
    "data.loc[data['m_stage'].str.contains('1', case=False, na=False), 'm_stage'] = 1\n",
    "data.loc[data['m_stage'].str.contains('88', case=False, na=False), 'm_stage'] = 0\n",
    "data.loc[data['m_stage'].str.contains('x', case=False, na=False), 'm_stage'] = 0\n",
    "data['m_stage'].value_counts(dropna=False)\n"
   ]
  },
  {
   "cell_type": "code",
   "execution_count": 39,
   "metadata": {},
   "outputs": [
    {
     "data": {
      "text/html": [
       "<div>\n",
       "<style scoped>\n",
       "    .dataframe tbody tr th:only-of-type {\n",
       "        vertical-align: middle;\n",
       "    }\n",
       "\n",
       "    .dataframe tbody tr th {\n",
       "        vertical-align: top;\n",
       "    }\n",
       "\n",
       "    .dataframe thead th {\n",
       "        text-align: right;\n",
       "    }\n",
       "</style>\n",
       "<table border=\"1\" class=\"dataframe\">\n",
       "  <thead>\n",
       "    <tr style=\"text-align: right;\">\n",
       "      <th></th>\n",
       "      <th>criteria</th>\n",
       "      <th>before</th>\n",
       "      <th>after</th>\n",
       "      <th>drop</th>\n",
       "      <th>% APR</th>\n",
       "    </tr>\n",
       "  </thead>\n",
       "  <tbody>\n",
       "    <tr>\n",
       "      <th>0</th>\n",
       "      <td>total</td>\n",
       "      <td>0</td>\n",
       "      <td>80128</td>\n",
       "      <td>0</td>\n",
       "      <td>0.194337</td>\n",
       "    </tr>\n",
       "    <tr>\n",
       "      <th>1</th>\n",
       "      <td>histology</td>\n",
       "      <td>80128</td>\n",
       "      <td>70610</td>\n",
       "      <td>9518</td>\n",
       "      <td>0.108838</td>\n",
       "    </tr>\n",
       "    <tr>\n",
       "      <th>2</th>\n",
       "      <td>no radiation</td>\n",
       "      <td>70610</td>\n",
       "      <td>51796</td>\n",
       "      <td>18814</td>\n",
       "      <td>0.066959</td>\n",
       "    </tr>\n",
       "    <tr>\n",
       "      <th>3</th>\n",
       "      <td>stage IV</td>\n",
       "      <td>51796</td>\n",
       "      <td>49284</td>\n",
       "      <td>2512</td>\n",
       "      <td>0.066505</td>\n",
       "    </tr>\n",
       "  </tbody>\n",
       "</table>\n",
       "</div>"
      ],
      "text/plain": [
       "       criteria before  after   drop     % APR\n",
       "0         total      0  80128      0  0.194337\n",
       "1     histology  80128  70610   9518  0.108838\n",
       "2  no radiation  70610  51796  18814  0.066959\n",
       "3      stage IV  51796  49284   2512  0.066505"
      ]
     },
     "execution_count": 39,
     "metadata": {},
     "output_type": "execute_result"
    }
   ],
   "source": [
    "before = data.shape[0]\n",
    "data.loc[data['m_stage'] == 1, 'stage'] = 4\n",
    "data = data.loc[data['m_stage'] == 0]\n",
    "data = data.loc[data['stage'] != 4]\n",
    "data = data.loc[data['stage'] != '4']\n",
    "after = data.shape[0]\n",
    "drop = before - after\n",
    "\n",
    "drop_counts = drop_counts.append({'criteria': 'stage IV', 'before': before, 'after': after, 'drop': drop, '% APR': perc_APR(data)}, ignore_index=True)\n",
    "drop_counts.head()"
   ]
  },
  {
   "cell_type": "code",
   "execution_count": 40,
   "metadata": {},
   "outputs": [
    {
     "data": {
      "text/html": [
       "<div>\n",
       "<style scoped>\n",
       "    .dataframe tbody tr th:only-of-type {\n",
       "        vertical-align: middle;\n",
       "    }\n",
       "\n",
       "    .dataframe tbody tr th {\n",
       "        vertical-align: top;\n",
       "    }\n",
       "\n",
       "    .dataframe thead th {\n",
       "        text-align: right;\n",
       "    }\n",
       "</style>\n",
       "<table border=\"1\" class=\"dataframe\">\n",
       "  <thead>\n",
       "    <tr style=\"text-align: right;\">\n",
       "      <th></th>\n",
       "      <th>counts</th>\n",
       "      <th>percent</th>\n",
       "    </tr>\n",
       "  </thead>\n",
       "  <tbody>\n",
       "    <tr>\n",
       "      <th>0.0</th>\n",
       "      <td>19286</td>\n",
       "      <td>0.933495</td>\n",
       "    </tr>\n",
       "    <tr>\n",
       "      <th>1.0</th>\n",
       "      <td>1374</td>\n",
       "      <td>0.066505</td>\n",
       "    </tr>\n",
       "  </tbody>\n",
       "</table>\n",
       "</div>"
      ],
      "text/plain": [
       "     counts   percent\n",
       "0.0   19286  0.933495\n",
       "1.0    1374  0.066505"
      ]
     },
     "execution_count": 40,
     "metadata": {},
     "output_type": "execute_result"
    }
   ],
   "source": [
    "table(data, 'APR')"
   ]
  },
  {
   "cell_type": "code",
   "execution_count": 41,
   "metadata": {},
   "outputs": [],
   "source": [
    "data.loc[data['AJCC_TNM_CLIN_N'].str.contains('cN1', case=False, na=False), 'stage'] = '3'\n",
    "data.loc[data['TNM_CLIN_N'].str.contains('cN1', case=False, na=False), 'stage'] = '3'"
   ]
  },
  {
   "cell_type": "code",
   "execution_count": 42,
   "metadata": {},
   "outputs": [
    {
     "data": {
      "text/plain": [
       "(361, 66)"
      ]
     },
     "execution_count": 42,
     "metadata": {},
     "output_type": "execute_result"
    }
   ],
   "source": [
    "#create a dataframe including only rows where 'stage' is null\n",
    "data_stage_null = data.loc[data['stage'].isna()]\n",
    "data_stage_null = data_stage_null.loc[data['APR'] == 1]\n",
    "data_stage_null.shape"
   ]
  },
  {
   "cell_type": "code",
   "execution_count": 43,
   "metadata": {},
   "outputs": [],
   "source": [
    "tnm_cols = [col for col in data.columns if 'TNM' in col]\n",
    "data.drop(tnm_cols, axis=1, inplace=True)"
   ]
  },
  {
   "cell_type": "code",
   "execution_count": 44,
   "metadata": {},
   "outputs": [
    {
     "data": {
      "text/html": [
       "<div>\n",
       "<style scoped>\n",
       "    .dataframe tbody tr th:only-of-type {\n",
       "        vertical-align: middle;\n",
       "    }\n",
       "\n",
       "    .dataframe tbody tr th {\n",
       "        vertical-align: top;\n",
       "    }\n",
       "\n",
       "    .dataframe thead th {\n",
       "        text-align: right;\n",
       "    }\n",
       "</style>\n",
       "<table border=\"1\" class=\"dataframe\">\n",
       "  <thead>\n",
       "    <tr style=\"text-align: right;\">\n",
       "      <th></th>\n",
       "      <th>criteria</th>\n",
       "      <th>before</th>\n",
       "      <th>after</th>\n",
       "      <th>drop</th>\n",
       "      <th>% APR</th>\n",
       "    </tr>\n",
       "  </thead>\n",
       "  <tbody>\n",
       "    <tr>\n",
       "      <th>0</th>\n",
       "      <td>total</td>\n",
       "      <td>0</td>\n",
       "      <td>80128</td>\n",
       "      <td>0</td>\n",
       "      <td>0.194337</td>\n",
       "    </tr>\n",
       "    <tr>\n",
       "      <th>1</th>\n",
       "      <td>histology</td>\n",
       "      <td>80128</td>\n",
       "      <td>70610</td>\n",
       "      <td>9518</td>\n",
       "      <td>0.108838</td>\n",
       "    </tr>\n",
       "    <tr>\n",
       "      <th>2</th>\n",
       "      <td>no radiation</td>\n",
       "      <td>70610</td>\n",
       "      <td>51796</td>\n",
       "      <td>18814</td>\n",
       "      <td>0.066959</td>\n",
       "    </tr>\n",
       "    <tr>\n",
       "      <th>3</th>\n",
       "      <td>stage IV</td>\n",
       "      <td>51796</td>\n",
       "      <td>49284</td>\n",
       "      <td>2512</td>\n",
       "      <td>0.066505</td>\n",
       "    </tr>\n",
       "    <tr>\n",
       "      <th>4</th>\n",
       "      <td>stage 0</td>\n",
       "      <td>49284</td>\n",
       "      <td>48640</td>\n",
       "      <td>644</td>\n",
       "      <td>0.066413</td>\n",
       "    </tr>\n",
       "  </tbody>\n",
       "</table>\n",
       "</div>"
      ],
      "text/plain": [
       "       criteria before  after   drop     % APR\n",
       "0         total      0  80128      0  0.194337\n",
       "1     histology  80128  70610   9518  0.108838\n",
       "2  no radiation  70610  51796  18814  0.066959\n",
       "3      stage IV  51796  49284   2512  0.066505\n",
       "4       stage 0  49284  48640    644  0.066413"
      ]
     },
     "execution_count": 44,
     "metadata": {},
     "output_type": "execute_result"
    }
   ],
   "source": [
    "# data.loc[data['stage'] == '<NA>', 'stage'] = np.NaN\n",
    "before = data.shape[0]\n",
    "data = data[data['stage'] != '0']\n",
    "after = data.shape[0]\n",
    "drop = before - after\n",
    "\n",
    "drop_counts = drop_counts.append({'criteria': 'stage 0', 'before': before, 'after': after, 'drop': drop, '% APR': perc_APR(data)}, ignore_index=True)\n",
    "drop_counts.head()\n"
   ]
  },
  {
   "cell_type": "code",
   "execution_count": 45,
   "metadata": {},
   "outputs": [
    {
     "data": {
      "text/plain": [
       "2      15348\n",
       "3B      9020\n",
       "1       7045\n",
       "NaN     6034\n",
       "3A      4725\n",
       "3       3579\n",
       "2A      2190\n",
       "2B       656\n",
       "88        35\n",
       "3C         8\n",
       "Name: stage, dtype: int64"
      ]
     },
     "execution_count": 45,
     "metadata": {},
     "output_type": "execute_result"
    }
   ],
   "source": [
    "data.loc[data['stage'] == 3, 'stage'] = '3'\n",
    "data['stage'].value_counts(dropna=False)"
   ]
  },
  {
   "cell_type": "code",
   "execution_count": 46,
   "metadata": {},
   "outputs": [
    {
     "data": {
      "text/plain": [
       "2A     14390\n",
       "3A      7793\n",
       "3C      7530\n",
       "1       6787\n",
       "NaN     5555\n",
       "2B      4529\n",
       "3B      2006\n",
       "88        35\n",
       "2         11\n",
       "3          4\n",
       "Name: stage, dtype: int64"
      ]
     },
     "execution_count": 46,
     "metadata": {},
     "output_type": "execute_result"
    }
   ],
   "source": [
    "#if the stage is 2 and t_stage is null, t_stage is 2\n",
    "data.loc[(data['stage'] == '2') & (data['t_stage'].isna()), 't_stage'] = 2\n",
    "\n",
    "#if the stage is 3 and t_stage is null, t_stage is 1\n",
    "data.loc[(data['stage'] == '3') & (data['t_stage'].isna()), 't_stage'] = 1\n",
    "#if the stage is 3 and n_stage is null, n_stage is 1\n",
    "data.loc[(data['stage'] == '3') & (data['n_stage'].isna()) & (data['t_stage'] != 4), 'n_stage'] = 1\n",
    "\n",
    "\n",
    "data.loc[(data['t_stage'] == 1) & (data['n_stage'] == 0), 'stage'] = '1'\n",
    "data.loc[(data['t_stage'] == 2) & (data['n_stage'] == 0), 'stage'] = '2A'\n",
    "data.loc[(data['t_stage'] == 2) & (data['n_stage'].isna()), 'stage'] = '2A'\n",
    "\n",
    "data.loc[(data['t_stage'] == 3) & (data['n_stage'] == 0), 'stage'] = '2B'\n",
    "data.loc[(data['t_stage'] == 3) & (data['n_stage'].isna()), 'stage'] = '2B'\n",
    "data.loc[(data['t_stage'] == 0) & (data['n_stage'] == 1), 'stage'] = '3A'\n",
    "data.loc[(data['t_stage'] == 1) & (data['n_stage'] == 1), 'stage'] = '3A'\n",
    "data.loc[(data['t_stage'] == 2) & (data['n_stage'] == 1), 'stage'] = '3A'\n",
    "data.loc[(data['t_stage'] == 4) & (data['n_stage'] == 0), 'stage'] = '3B'\n",
    "data.loc[(data['t_stage'] == 3) & (data['n_stage'] == 1), 'stage'] = '3C'\n",
    "data.loc[(data['t_stage'] == 4) & (data['n_stage'] == 1), 'stage'] = '3C'\n",
    "data['stage'].value_counts(dropna=False)"
   ]
  },
  {
   "cell_type": "code",
   "execution_count": 47,
   "metadata": {},
   "outputs": [
    {
     "data": {
      "text/html": [
       "<div>\n",
       "<style scoped>\n",
       "    .dataframe tbody tr th:only-of-type {\n",
       "        vertical-align: middle;\n",
       "    }\n",
       "\n",
       "    .dataframe tbody tr th {\n",
       "        vertical-align: top;\n",
       "    }\n",
       "\n",
       "    .dataframe thead th {\n",
       "        text-align: right;\n",
       "    }\n",
       "</style>\n",
       "<table border=\"1\" class=\"dataframe\">\n",
       "  <thead>\n",
       "    <tr style=\"text-align: right;\">\n",
       "      <th>n_stage</th>\n",
       "    </tr>\n",
       "    <tr>\n",
       "      <th>t_stage</th>\n",
       "    </tr>\n",
       "  </thead>\n",
       "  <tbody>\n",
       "  </tbody>\n",
       "</table>\n",
       "</div>"
      ],
      "text/plain": [
       "Empty DataFrame\n",
       "Columns: []\n",
       "Index: []"
      ]
     },
     "execution_count": 47,
     "metadata": {},
     "output_type": "execute_result"
    }
   ],
   "source": [
    "data_2 = data.loc[data['stage'] == 2]\n",
    "pd.crosstab(data_2['t_stage'], data_2['n_stage'])"
   ]
  },
  {
   "cell_type": "code",
   "execution_count": 48,
   "metadata": {},
   "outputs": [],
   "source": [
    "data.loc[(data['stage'] == '2') & (data['n_stage'] == 0) & (data['t_stage'] == 0), 'stage'] = '2A'\n",
    "data.loc[data['stage'] == 2, 'stage'] = '2A'\n",
    "data.loc[(data['stage'] == '3') & (data['n_stage'] == 0) & (data['t_stage'] == 0), 'stage'] = '3A'\n",
    "data.loc[data['stage'] == 3, 'stage'] = '3A'"
   ]
  },
  {
   "cell_type": "code",
   "execution_count": 49,
   "metadata": {},
   "outputs": [
    {
     "data": {
      "text/plain": [
       "2A     14397\n",
       "3A      7793\n",
       "3C      7530\n",
       "1       6787\n",
       "NaN     5555\n",
       "2B      4529\n",
       "3B      2006\n",
       "88        35\n",
       "2          4\n",
       "3          4\n",
       "Name: stage, dtype: int64"
      ]
     },
     "execution_count": 49,
     "metadata": {},
     "output_type": "execute_result"
    }
   ],
   "source": [
    "data['stage'].value_counts(dropna=False)"
   ]
  },
  {
   "cell_type": "code",
   "execution_count": 50,
   "metadata": {},
   "outputs": [],
   "source": [
    "# data_stage_null = data.loc[data['stage'].isna()]\n",
    "# data_stage_null = data_stage_null.loc[data['APR'] == 1]\n",
    "# data_stage_null = data_stage_null.loc[data['RX_SUMM_SURGRAD_SEQ'] == 2]\n",
    "# data_stage_null.shape"
   ]
  },
  {
   "cell_type": "code",
   "execution_count": 51,
   "metadata": {},
   "outputs": [],
   "source": [
    "# pd.crosstab(data_stage_null['t_stage'], data_stage_null['n_stage'])"
   ]
  },
  {
   "cell_type": "code",
   "execution_count": 52,
   "metadata": {},
   "outputs": [],
   "source": [
    "# data_stage_null.loc[(data_stage_null['t_stage'] == 0) & (data_stage_null['n_stage'] == 0), 'stage'] = '0'\n",
    "# data['stage'].update(data_stage_null['stage'])\n",
    "# data['stage'].value_counts(dropna=False)"
   ]
  },
  {
   "cell_type": "code",
   "execution_count": 53,
   "metadata": {},
   "outputs": [
    {
     "data": {
      "text/html": [
       "<div>\n",
       "<style scoped>\n",
       "    .dataframe tbody tr th:only-of-type {\n",
       "        vertical-align: middle;\n",
       "    }\n",
       "\n",
       "    .dataframe tbody tr th {\n",
       "        vertical-align: top;\n",
       "    }\n",
       "\n",
       "    .dataframe thead th {\n",
       "        text-align: right;\n",
       "    }\n",
       "</style>\n",
       "<table border=\"1\" class=\"dataframe\">\n",
       "  <thead>\n",
       "    <tr style=\"text-align: right;\">\n",
       "      <th></th>\n",
       "      <th>criteria</th>\n",
       "      <th>before</th>\n",
       "      <th>after</th>\n",
       "      <th>drop</th>\n",
       "      <th>% APR</th>\n",
       "    </tr>\n",
       "  </thead>\n",
       "  <tbody>\n",
       "    <tr>\n",
       "      <th>0</th>\n",
       "      <td>total</td>\n",
       "      <td>0</td>\n",
       "      <td>80128</td>\n",
       "      <td>0</td>\n",
       "      <td>0.194337</td>\n",
       "    </tr>\n",
       "    <tr>\n",
       "      <th>1</th>\n",
       "      <td>histology</td>\n",
       "      <td>80128</td>\n",
       "      <td>70610</td>\n",
       "      <td>9518</td>\n",
       "      <td>0.108838</td>\n",
       "    </tr>\n",
       "    <tr>\n",
       "      <th>2</th>\n",
       "      <td>no radiation</td>\n",
       "      <td>70610</td>\n",
       "      <td>51796</td>\n",
       "      <td>18814</td>\n",
       "      <td>0.066959</td>\n",
       "    </tr>\n",
       "    <tr>\n",
       "      <th>3</th>\n",
       "      <td>stage IV</td>\n",
       "      <td>51796</td>\n",
       "      <td>49284</td>\n",
       "      <td>2512</td>\n",
       "      <td>0.066505</td>\n",
       "    </tr>\n",
       "    <tr>\n",
       "      <th>4</th>\n",
       "      <td>stage 0</td>\n",
       "      <td>49284</td>\n",
       "      <td>48640</td>\n",
       "      <td>644</td>\n",
       "      <td>0.066413</td>\n",
       "    </tr>\n",
       "    <tr>\n",
       "      <th>5</th>\n",
       "      <td>stage missing</td>\n",
       "      <td>48640</td>\n",
       "      <td>43050</td>\n",
       "      <td>5590</td>\n",
       "      <td>0.053483</td>\n",
       "    </tr>\n",
       "  </tbody>\n",
       "</table>\n",
       "</div>"
      ],
      "text/plain": [
       "        criteria before  after   drop     % APR\n",
       "0          total      0  80128      0  0.194337\n",
       "1      histology  80128  70610   9518  0.108838\n",
       "2   no radiation  70610  51796  18814  0.066959\n",
       "3       stage IV  51796  49284   2512  0.066505\n",
       "4        stage 0  49284  48640    644  0.066413\n",
       "5  stage missing  48640  43050   5590  0.053483"
      ]
     },
     "execution_count": 53,
     "metadata": {},
     "output_type": "execute_result"
    }
   ],
   "source": [
    "data.loc[data['stage'] == '<NA>', 'stage'] = np.NaN\n",
    "before = data.shape[0]\n",
    "data.loc[data['stage'] == '88', 'stage'] = np.NaN\n",
    "data = data.dropna(subset=['stage'])\n",
    "\n",
    "after = data.shape[0]\n",
    "drop = before - after\n",
    "\n",
    "drop_counts = drop_counts.append({'criteria': 'stage missing', 'before': before, 'after': after, 'drop': drop, '% APR': perc_APR(data)}, ignore_index=True)\n",
    "drop_counts.head(10)\n"
   ]
  },
  {
   "cell_type": "code",
   "execution_count": 54,
   "metadata": {},
   "outputs": [
    {
     "data": {
      "text/html": [
       "<div>\n",
       "<style scoped>\n",
       "    .dataframe tbody tr th:only-of-type {\n",
       "        vertical-align: middle;\n",
       "    }\n",
       "\n",
       "    .dataframe tbody tr th {\n",
       "        vertical-align: top;\n",
       "    }\n",
       "\n",
       "    .dataframe thead th {\n",
       "        text-align: right;\n",
       "    }\n",
       "</style>\n",
       "<table border=\"1\" class=\"dataframe\">\n",
       "  <thead>\n",
       "    <tr style=\"text-align: right;\">\n",
       "      <th>APR</th>\n",
       "      <th>0.0</th>\n",
       "      <th>1.0</th>\n",
       "      <th>total</th>\n",
       "    </tr>\n",
       "    <tr>\n",
       "      <th>stage</th>\n",
       "      <th></th>\n",
       "      <th></th>\n",
       "      <th></th>\n",
       "    </tr>\n",
       "  </thead>\n",
       "  <tbody>\n",
       "    <tr>\n",
       "      <th>1</th>\n",
       "      <td>2462 (98.0%)</td>\n",
       "      <td>56 (2.0%)</td>\n",
       "      <td>6787</td>\n",
       "    </tr>\n",
       "    <tr>\n",
       "      <th>2</th>\n",
       "      <td>3 (100.0%)</td>\n",
       "      <td>0 (0.0%)</td>\n",
       "      <td>4</td>\n",
       "    </tr>\n",
       "    <tr>\n",
       "      <th>2A</th>\n",
       "      <td>6677 (97.0%)</td>\n",
       "      <td>239 (3.0%)</td>\n",
       "      <td>14397</td>\n",
       "    </tr>\n",
       "    <tr>\n",
       "      <th>2B</th>\n",
       "      <td>1917 (91.0%)</td>\n",
       "      <td>190 (9.0%)</td>\n",
       "      <td>4529</td>\n",
       "    </tr>\n",
       "    <tr>\n",
       "      <th>3A</th>\n",
       "      <td>3361 (96.0%)</td>\n",
       "      <td>137 (4.0%)</td>\n",
       "      <td>7793</td>\n",
       "    </tr>\n",
       "    <tr>\n",
       "      <th>3B</th>\n",
       "      <td>788 (90.0%)</td>\n",
       "      <td>90 (10.0%)</td>\n",
       "      <td>2006</td>\n",
       "    </tr>\n",
       "    <tr>\n",
       "      <th>3C</th>\n",
       "      <td>2755 (90.0%)</td>\n",
       "      <td>303 (10.0%)</td>\n",
       "      <td>7530</td>\n",
       "    </tr>\n",
       "  </tbody>\n",
       "</table>\n",
       "</div>"
      ],
      "text/plain": [
       "APR             0.0          1.0  total\n",
       "stage                                  \n",
       "1      2462 (98.0%)    56 (2.0%)   6787\n",
       "2        3 (100.0%)     0 (0.0%)      4\n",
       "2A     6677 (97.0%)   239 (3.0%)  14397\n",
       "2B     1917 (91.0%)   190 (9.0%)   4529\n",
       "3A     3361 (96.0%)   137 (4.0%)   7793\n",
       "3B      788 (90.0%)   90 (10.0%)   2006\n",
       "3C     2755 (90.0%)  303 (10.0%)   7530"
      ]
     },
     "execution_count": 54,
     "metadata": {},
     "output_type": "execute_result"
    }
   ],
   "source": [
    "by_stage(data, 'APR')"
   ]
  },
  {
   "cell_type": "code",
   "execution_count": 60,
   "metadata": {},
   "outputs": [
    {
     "data": {
      "text/plain": [
       "count    10289.000000\n",
       "mean         4.428127\n",
       "std         30.332414\n",
       "min          0.000000\n",
       "25%          0.000000\n",
       "50%          0.000000\n",
       "75%          0.000000\n",
       "max        737.000000\n",
       "Name: def_interval, dtype: float64"
      ]
     },
     "execution_count": 60,
     "metadata": {},
     "output_type": "execute_result"
    }
   ],
   "source": [
    "data['def_interval'] = data['DX_DEFSURG_STARTED_DAYS'] - data['DX_SURG_STARTED_DAYS']\n",
    "data['def_interval'].describe()"
   ]
  },
  {
   "cell_type": "code",
   "execution_count": 61,
   "metadata": {},
   "outputs": [
    {
     "data": {
      "text/plain": [
       "<AxesSubplot:>"
      ]
     },
     "execution_count": 61,
     "metadata": {},
     "output_type": "execute_result"
    },
    {
     "data": {
      "image/png": "[encoded data removed]",
      "text/plain": [
       "<Figure size 432x288 with 1 Axes>"
      ]
     },
     "metadata": {
      "needs_background": "light"
     },
     "output_type": "display_data"
    }
   ],
   "source": [
    "data.loc[data['def_interval'] != 0, 'def_interval'] = 1\n",
    "data['def_interval'].hist()"
   ]
  },
  {
   "cell_type": "code",
   "execution_count": 63,
   "metadata": {},
   "outputs": [
    {
     "data": {
      "text/html": [
       "<div>\n",
       "<style scoped>\n",
       "    .dataframe tbody tr th:only-of-type {\n",
       "        vertical-align: middle;\n",
       "    }\n",
       "\n",
       "    .dataframe tbody tr th {\n",
       "        vertical-align: top;\n",
       "    }\n",
       "\n",
       "    .dataframe thead th {\n",
       "        text-align: right;\n",
       "    }\n",
       "</style>\n",
       "<table border=\"1\" class=\"dataframe\">\n",
       "  <thead>\n",
       "    <tr style=\"text-align: right;\">\n",
       "      <th>APR</th>\n",
       "      <th>0.0</th>\n",
       "      <th>1.0</th>\n",
       "    </tr>\n",
       "    <tr>\n",
       "      <th>def_interval</th>\n",
       "      <th></th>\n",
       "      <th></th>\n",
       "    </tr>\n",
       "  </thead>\n",
       "  <tbody>\n",
       "    <tr>\n",
       "      <th>0.0</th>\n",
       "      <td>0</td>\n",
       "      <td>870</td>\n",
       "    </tr>\n",
       "    <tr>\n",
       "      <th>1.0</th>\n",
       "      <td>17963</td>\n",
       "      <td>145</td>\n",
       "    </tr>\n",
       "  </tbody>\n",
       "</table>\n",
       "</div>"
      ],
      "text/plain": [
       "APR             0.0  1.0\n",
       "def_interval            \n",
       "0.0               0  870\n",
       "1.0           17963  145"
      ]
     },
     "execution_count": 63,
     "metadata": {},
     "output_type": "execute_result"
    }
   ],
   "source": [
    "pd.crosstab(data['def_interval'], data['APR'])"
   ]
  },
  {
   "cell_type": "code",
   "execution_count": 58,
   "metadata": {},
   "outputs": [
    {
     "data": {
      "text/plain": [
       "<AxesSubplot:>"
      ]
     },
     "execution_count": 58,
     "metadata": {},
     "output_type": "execute_result"
    },
    {
     "data": {
      "image/png": "[encoded data removed]",
      "text/plain": [
       "<Figure size 432x288 with 1 Axes>"
      ]
     },
     "metadata": {
      "needs_background": "light"
     },
     "output_type": "display_data"
    }
   ],
   "source": [
    "data['def_interval'].hist()"
   ]
  },
  {
   "cell_type": "code",
   "execution_count": 47,
   "metadata": {},
   "outputs": [
    {
     "data": {
      "text/html": [
       "<div>\n",
       "<style scoped>\n",
       "    .dataframe tbody tr th:only-of-type {\n",
       "        vertical-align: middle;\n",
       "    }\n",
       "\n",
       "    .dataframe tbody tr th {\n",
       "        vertical-align: top;\n",
       "    }\n",
       "\n",
       "    .dataframe thead th {\n",
       "        text-align: right;\n",
       "    }\n",
       "</style>\n",
       "<table border=\"1\" class=\"dataframe\">\n",
       "  <thead>\n",
       "    <tr style=\"text-align: right;\">\n",
       "      <th></th>\n",
       "      <th>criteria</th>\n",
       "      <th>before</th>\n",
       "      <th>after</th>\n",
       "      <th>drop</th>\n",
       "      <th>% APR</th>\n",
       "    </tr>\n",
       "  </thead>\n",
       "  <tbody>\n",
       "    <tr>\n",
       "      <th>0</th>\n",
       "      <td>total</td>\n",
       "      <td>0</td>\n",
       "      <td>80128</td>\n",
       "      <td>0</td>\n",
       "      <td>0.194337</td>\n",
       "    </tr>\n",
       "    <tr>\n",
       "      <th>1</th>\n",
       "      <td>histology</td>\n",
       "      <td>80128</td>\n",
       "      <td>70610</td>\n",
       "      <td>9518</td>\n",
       "      <td>0.108838</td>\n",
       "    </tr>\n",
       "    <tr>\n",
       "      <th>2</th>\n",
       "      <td>no radiation</td>\n",
       "      <td>70610</td>\n",
       "      <td>51796</td>\n",
       "      <td>18814</td>\n",
       "      <td>0.066959</td>\n",
       "    </tr>\n",
       "    <tr>\n",
       "      <th>3</th>\n",
       "      <td>stage IV</td>\n",
       "      <td>51796</td>\n",
       "      <td>49284</td>\n",
       "      <td>2512</td>\n",
       "      <td>0.066505</td>\n",
       "    </tr>\n",
       "    <tr>\n",
       "      <th>4</th>\n",
       "      <td>stage 0</td>\n",
       "      <td>49284</td>\n",
       "      <td>48640</td>\n",
       "      <td>644</td>\n",
       "      <td>0.066413</td>\n",
       "    </tr>\n",
       "    <tr>\n",
       "      <th>5</th>\n",
       "      <td>stage missing</td>\n",
       "      <td>48640</td>\n",
       "      <td>43050</td>\n",
       "      <td>5590</td>\n",
       "      <td>0.053483</td>\n",
       "    </tr>\n",
       "    <tr>\n",
       "      <th>6</th>\n",
       "      <td>f/u missing</td>\n",
       "      <td>43050</td>\n",
       "      <td>18978</td>\n",
       "      <td>24072</td>\n",
       "      <td>0.053483</td>\n",
       "    </tr>\n",
       "  </tbody>\n",
       "</table>\n",
       "</div>"
      ],
      "text/plain": [
       "        criteria before  after   drop     % APR\n",
       "0          total      0  80128      0  0.194337\n",
       "1      histology  80128  70610   9518  0.108838\n",
       "2   no radiation  70610  51796  18814  0.066959\n",
       "3       stage IV  51796  49284   2512  0.066505\n",
       "4        stage 0  49284  48640    644  0.066413\n",
       "5  stage missing  48640  43050   5590  0.053483\n",
       "6    f/u missing  43050  18978  24072  0.053483"
      ]
     },
     "execution_count": 47,
     "metadata": {},
     "output_type": "execute_result"
    }
   ],
   "source": [
    "before = data.shape[0]\n",
    "data = data.dropna(subset=['APR'])\n",
    "after = data.shape[0]\n",
    "drop = before - after\n",
    "drop_counts = drop_counts.append({'criteria': 'f/u missing', 'before': before, 'after': after, 'drop': drop, '% APR': perc_APR(data)}, ignore_index=True)\n",
    "drop_counts.head(10)"
   ]
  },
  {
   "cell_type": "code",
   "execution_count": 97,
   "metadata": {},
   "outputs": [
    {
     "data": {
      "text/html": [
       "<div>\n",
       "<style scoped>\n",
       "    .dataframe tbody tr th:only-of-type {\n",
       "        vertical-align: middle;\n",
       "    }\n",
       "\n",
       "    .dataframe tbody tr th {\n",
       "        vertical-align: top;\n",
       "    }\n",
       "\n",
       "    .dataframe thead th {\n",
       "        text-align: right;\n",
       "    }\n",
       "</style>\n",
       "<table border=\"1\" class=\"dataframe\">\n",
       "  <thead>\n",
       "    <tr style=\"text-align: right;\">\n",
       "      <th></th>\n",
       "      <th>counts</th>\n",
       "      <th>percent</th>\n",
       "    </tr>\n",
       "  </thead>\n",
       "  <tbody>\n",
       "    <tr>\n",
       "      <th>0.0</th>\n",
       "      <td>17963</td>\n",
       "      <td>0.946517</td>\n",
       "    </tr>\n",
       "    <tr>\n",
       "      <th>1.0</th>\n",
       "      <td>1015</td>\n",
       "      <td>0.053483</td>\n",
       "    </tr>\n",
       "  </tbody>\n",
       "</table>\n",
       "</div>"
      ],
      "text/plain": [
       "     counts   percent\n",
       "0.0   17963  0.946517\n",
       "1.0    1015  0.053483"
      ]
     },
     "execution_count": 97,
     "metadata": {},
     "output_type": "execute_result"
    }
   ],
   "source": [
    "table(data, 'APR')"
   ]
  },
  {
   "cell_type": "code",
   "execution_count": 48,
   "metadata": {},
   "outputs": [],
   "source": [
    "drop_counts.to_csv('results/drop_counts.csv', index=False)"
   ]
  },
  {
   "cell_type": "code",
   "execution_count": 49,
   "metadata": {},
   "outputs": [
    {
     "data": {
      "text/html": [
       "<div>\n",
       "<style scoped>\n",
       "    .dataframe tbody tr th:only-of-type {\n",
       "        vertical-align: middle;\n",
       "    }\n",
       "\n",
       "    .dataframe tbody tr th {\n",
       "        vertical-align: top;\n",
       "    }\n",
       "\n",
       "    .dataframe thead th {\n",
       "        text-align: right;\n",
       "    }\n",
       "</style>\n",
       "<table border=\"1\" class=\"dataframe\">\n",
       "  <thead>\n",
       "    <tr style=\"text-align: right;\">\n",
       "      <th>APR</th>\n",
       "      <th>0.0</th>\n",
       "      <th>1.0</th>\n",
       "      <th>total</th>\n",
       "    </tr>\n",
       "    <tr>\n",
       "      <th>stage</th>\n",
       "      <th></th>\n",
       "      <th></th>\n",
       "      <th></th>\n",
       "    </tr>\n",
       "  </thead>\n",
       "  <tbody>\n",
       "    <tr>\n",
       "      <th>1</th>\n",
       "      <td>2462 (98.0%)</td>\n",
       "      <td>56 (2.0%)</td>\n",
       "      <td>2518</td>\n",
       "    </tr>\n",
       "    <tr>\n",
       "      <th>2</th>\n",
       "      <td>3 (100.0%)</td>\n",
       "      <td>0 (0.0%)</td>\n",
       "      <td>3</td>\n",
       "    </tr>\n",
       "    <tr>\n",
       "      <th>2A</th>\n",
       "      <td>6677 (97.0%)</td>\n",
       "      <td>239 (3.0%)</td>\n",
       "      <td>6916</td>\n",
       "    </tr>\n",
       "    <tr>\n",
       "      <th>2B</th>\n",
       "      <td>1917 (91.0%)</td>\n",
       "      <td>190 (9.0%)</td>\n",
       "      <td>2107</td>\n",
       "    </tr>\n",
       "    <tr>\n",
       "      <th>3A</th>\n",
       "      <td>3361 (96.0%)</td>\n",
       "      <td>137 (4.0%)</td>\n",
       "      <td>3498</td>\n",
       "    </tr>\n",
       "    <tr>\n",
       "      <th>3B</th>\n",
       "      <td>788 (90.0%)</td>\n",
       "      <td>90 (10.0%)</td>\n",
       "      <td>878</td>\n",
       "    </tr>\n",
       "    <tr>\n",
       "      <th>3C</th>\n",
       "      <td>2755 (90.0%)</td>\n",
       "      <td>303 (10.0%)</td>\n",
       "      <td>3058</td>\n",
       "    </tr>\n",
       "  </tbody>\n",
       "</table>\n",
       "</div>"
      ],
      "text/plain": [
       "APR             0.0          1.0  total\n",
       "stage                                  \n",
       "1      2462 (98.0%)    56 (2.0%)   2518\n",
       "2        3 (100.0%)     0 (0.0%)      3\n",
       "2A     6677 (97.0%)   239 (3.0%)   6916\n",
       "2B     1917 (91.0%)   190 (9.0%)   2107\n",
       "3A     3361 (96.0%)   137 (4.0%)   3498\n",
       "3B      788 (90.0%)   90 (10.0%)    878\n",
       "3C     2755 (90.0%)  303 (10.0%)   3058"
      ]
     },
     "execution_count": 49,
     "metadata": {},
     "output_type": "execute_result"
    }
   ],
   "source": [
    "by_stage(data, 'APR')"
   ]
  },
  {
   "cell_type": "code",
   "execution_count": 50,
   "metadata": {},
   "outputs": [
    {
     "data": {
      "text/plain": [
       "<AxesSubplot:>"
      ]
     },
     "execution_count": 50,
     "metadata": {},
     "output_type": "execute_result"
    },
    {
     "data": {
      "image/png": "[encoded data removed]",
      "text/plain": [
       "<Figure size 432x288 with 1 Axes>"
      ]
     },
     "metadata": {
      "needs_background": "light"
     },
     "output_type": "display_data"
    }
   ],
   "source": [
    "data['TUMOR_SIZE'].hist()"
   ]
  },
  {
   "cell_type": "code",
   "execution_count": 51,
   "metadata": {},
   "outputs": [
    {
     "data": {
      "text/html": [
       "<div>\n",
       "<style scoped>\n",
       "    .dataframe tbody tr th:only-of-type {\n",
       "        vertical-align: middle;\n",
       "    }\n",
       "\n",
       "    .dataframe tbody tr th {\n",
       "        vertical-align: top;\n",
       "    }\n",
       "\n",
       "    .dataframe thead th {\n",
       "        text-align: right;\n",
       "    }\n",
       "</style>\n",
       "<table border=\"1\" class=\"dataframe\">\n",
       "  <thead>\n",
       "    <tr style=\"text-align: right;\">\n",
       "      <th></th>\n",
       "      <th>counts</th>\n",
       "      <th>percent</th>\n",
       "    </tr>\n",
       "  </thead>\n",
       "  <tbody>\n",
       "    <tr>\n",
       "      <th>0.0</th>\n",
       "      <td>17963</td>\n",
       "      <td>0.946517</td>\n",
       "    </tr>\n",
       "    <tr>\n",
       "      <th>1.0</th>\n",
       "      <td>1015</td>\n",
       "      <td>0.053483</td>\n",
       "    </tr>\n",
       "  </tbody>\n",
       "</table>\n",
       "</div>"
      ],
      "text/plain": [
       "     counts   percent\n",
       "0.0   17963  0.946517\n",
       "1.0    1015  0.053483"
      ]
     },
     "execution_count": 51,
     "metadata": {},
     "output_type": "execute_result"
    }
   ],
   "source": [
    "table(data, 'APR')"
   ]
  },
  {
   "cell_type": "code",
   "execution_count": 52,
   "metadata": {},
   "outputs": [
    {
     "data": {
      "text/plain": [
       "<AxesSubplot:>"
      ]
     },
     "execution_count": 52,
     "metadata": {},
     "output_type": "execute_result"
    },
    {
     "data": {
      "image/png": "[encoded data removed]",
      "text/plain": [
       "<Figure size 432x288 with 1 Axes>"
      ]
     },
     "metadata": {
      "needs_background": "light"
     },
     "output_type": "display_data"
    }
   ],
   "source": [
    "#if TUMOR_SIZE is missing, fill with TUMOR_SIZE_SUMMARY_2016\n",
    "data.loc[data['TUMOR_SIZE'].isnull(), 'TUMOR_SIZE'] = data.loc[data['TUMOR_SIZE'].isnull(), 'TUMOR_SIZE_SUMMARY_2016']\n",
    "data['TUMOR_SIZE'].hist()\n"
   ]
  },
  {
   "cell_type": "code",
   "execution_count": 53,
   "metadata": {},
   "outputs": [
    {
     "data": {
      "text/plain": [
       "<AxesSubplot:>"
      ]
     },
     "execution_count": 53,
     "metadata": {},
     "output_type": "execute_result"
    },
    {
     "data": {
      "image/png": "[encoded data removed]",
      "text/plain": [
       "<Figure size 432x288 with 1 Axes>"
      ]
     },
     "metadata": {
      "needs_background": "light"
     },
     "output_type": "display_data"
    }
   ],
   "source": [
    "data.loc[data['TUMOR_SIZE'] > 800, 'TUMOR_SIZE'] = np.NaN\n",
    "data['TUMOR_SIZE'].hist()\n"
   ]
  },
  {
   "cell_type": "code",
   "execution_count": 54,
   "metadata": {},
   "outputs": [
    {
     "data": {
      "text/plain": [
       "<AxesSubplot:>"
      ]
     },
     "execution_count": 54,
     "metadata": {},
     "output_type": "execute_result"
    },
    {
     "data": {
      "image/png": "[encoded data removed]",
      "text/plain": [
       "<Figure size 432x288 with 1 Axes>"
      ]
     },
     "metadata": {
      "needs_background": "light"
     },
     "output_type": "display_data"
    }
   ],
   "source": [
    "data.loc[data['TUMOR_SIZE'] > 200, 'TUMOR_SIZE'] = 200\n",
    "data['TUMOR_SIZE'].hist()"
   ]
  },
  {
   "cell_type": "code",
   "execution_count": 55,
   "metadata": {},
   "outputs": [],
   "source": [
    "data.drop('TUMOR_SIZE_SUMMARY_2016', axis=1, inplace=True)"
   ]
  },
  {
   "cell_type": "code",
   "execution_count": 56,
   "metadata": {},
   "outputs": [
    {
     "data": {
      "text/html": [
       "<div>\n",
       "<style scoped>\n",
       "    .dataframe tbody tr th:only-of-type {\n",
       "        vertical-align: middle;\n",
       "    }\n",
       "\n",
       "    .dataframe tbody tr th {\n",
       "        vertical-align: top;\n",
       "    }\n",
       "\n",
       "    .dataframe thead th {\n",
       "        text-align: right;\n",
       "    }\n",
       "</style>\n",
       "<table border=\"1\" class=\"dataframe\">\n",
       "  <thead>\n",
       "    <tr style=\"text-align: right;\">\n",
       "      <th></th>\n",
       "      <th>counts</th>\n",
       "      <th>percent</th>\n",
       "    </tr>\n",
       "  </thead>\n",
       "  <tbody>\n",
       "    <tr>\n",
       "      <th>0.0</th>\n",
       "      <td>17963</td>\n",
       "      <td>0.946517</td>\n",
       "    </tr>\n",
       "    <tr>\n",
       "      <th>1.0</th>\n",
       "      <td>1015</td>\n",
       "      <td>0.053483</td>\n",
       "    </tr>\n",
       "  </tbody>\n",
       "</table>\n",
       "</div>"
      ],
      "text/plain": [
       "     counts   percent\n",
       "0.0   17963  0.946517\n",
       "1.0    1015  0.053483"
      ]
     },
     "execution_count": 56,
     "metadata": {},
     "output_type": "execute_result"
    }
   ],
   "source": [
    "table(data, 'APR')"
   ]
  },
  {
   "cell_type": "code",
   "execution_count": 57,
   "metadata": {},
   "outputs": [
    {
     "data": {
      "text/html": [
       "<div>\n",
       "<style scoped>\n",
       "    .dataframe tbody tr th:only-of-type {\n",
       "        vertical-align: middle;\n",
       "    }\n",
       "\n",
       "    .dataframe tbody tr th {\n",
       "        vertical-align: top;\n",
       "    }\n",
       "\n",
       "    .dataframe thead th {\n",
       "        text-align: right;\n",
       "    }\n",
       "</style>\n",
       "<table border=\"1\" class=\"dataframe\">\n",
       "  <thead>\n",
       "    <tr style=\"text-align: right;\">\n",
       "      <th></th>\n",
       "      <th>counts</th>\n",
       "      <th>percent</th>\n",
       "    </tr>\n",
       "  </thead>\n",
       "  <tbody>\n",
       "    <tr>\n",
       "      <th>0.0</th>\n",
       "      <td>13196</td>\n",
       "      <td>0.940288</td>\n",
       "    </tr>\n",
       "    <tr>\n",
       "      <th>1.0</th>\n",
       "      <td>838</td>\n",
       "      <td>0.059712</td>\n",
       "    </tr>\n",
       "  </tbody>\n",
       "</table>\n",
       "</div>"
      ],
      "text/plain": [
       "     counts   percent\n",
       "0.0   13196  0.940288\n",
       "1.0     838  0.059712"
      ]
     },
     "execution_count": 57,
     "metadata": {},
     "output_type": "execute_result"
    }
   ],
   "source": [
    "data_tumor_size = data[data['TUMOR_SIZE'].notnull()]\n",
    "table(data_tumor_size, 'APR')"
   ]
  },
  {
   "cell_type": "code",
   "execution_count": 58,
   "metadata": {},
   "outputs": [
    {
     "data": {
      "text/plain": [
       "(18978, 44)"
      ]
     },
     "execution_count": 58,
     "metadata": {},
     "output_type": "execute_result"
    }
   ],
   "source": [
    "data.shape"
   ]
  },
  {
   "cell_type": "code",
   "execution_count": 59,
   "metadata": {},
   "outputs": [
    {
     "data": {
      "text/plain": [
       "<AxesSubplot:>"
      ]
     },
     "execution_count": 59,
     "metadata": {},
     "output_type": "execute_result"
    },
    {
     "data": {
      "image/png": "[encoded data removed]",
      "text/plain": [
       "<Figure size 432x288 with 1 Axes>"
      ]
     },
     "metadata": {
      "needs_background": "light"
     },
     "output_type": "display_data"
    }
   ],
   "source": [
    "#find the distribution of days between diagnosis and surgery\n",
    "data['DX_SURG_STARTED_DAYS'].hist(bins=50)"
   ]
  },
  {
   "cell_type": "code",
   "execution_count": 60,
   "metadata": {},
   "outputs": [
    {
     "data": {
      "text/plain": [
       "327.0"
      ]
     },
     "execution_count": 60,
     "metadata": {},
     "output_type": "execute_result"
    }
   ],
   "source": [
    "data['DX_SURG_STARTED_DAYS'].quantile(0.9)"
   ]
  },
  {
   "cell_type": "code",
   "execution_count": 61,
   "metadata": {},
   "outputs": [
    {
     "data": {
      "text/plain": [
       "<AxesSubplot:>"
      ]
     },
     "execution_count": 61,
     "metadata": {},
     "output_type": "execute_result"
    },
    {
     "data": {
      "image/png": "[encoded data removed]",
      "text/plain": [
       "<Figure size 432x288 with 1 Axes>"
      ]
     },
     "metadata": {
      "needs_background": "light"
     },
     "output_type": "display_data"
    }
   ],
   "source": [
    "data.loc[data['DX_SURG_STARTED_DAYS'] <30, 'DX_SURG_STARTED_DAYS'] = np.NaN\n",
    "data.loc[data['DX_SURG_STARTED_DAYS'] > 600, 'DX_SURG_STARTED_DAYS'] = 600\n",
    "\n",
    "data['DX_SURG_STARTED_DAYS'].hist(bins=50)"
   ]
  },
  {
   "cell_type": "code",
   "execution_count": 62,
   "metadata": {},
   "outputs": [],
   "source": [
    "data['rad_end'] = data['RAD_ELAPSED_RX_DAYS'] + data['DX_RAD_STARTED_DAYS']"
   ]
  },
  {
   "cell_type": "code",
   "execution_count": 63,
   "metadata": {},
   "outputs": [
    {
     "data": {
      "text/plain": [
       "<AxesSubplot:>"
      ]
     },
     "execution_count": 63,
     "metadata": {},
     "output_type": "execute_result"
    },
    {
     "data": {
      "image/png": "[encoded data removed]",
      "text/plain": [
       "<Figure size 432x288 with 1 Axes>"
      ]
     },
     "metadata": {
      "needs_background": "light"
     },
     "output_type": "display_data"
    }
   ],
   "source": [
    "data.loc[data['rad_end'] > 300, 'rad_end'] = 300\n",
    "data['rad_end'].hist(bins=50)"
   ]
  },
  {
   "cell_type": "code",
   "execution_count": 64,
   "metadata": {},
   "outputs": [
    {
     "data": {
      "text/plain": [
       "<AxesSubplot:>"
      ]
     },
     "execution_count": 64,
     "metadata": {},
     "output_type": "execute_result"
    },
    {
     "data": {
      "image/png": "[encoded data removed]",
      "text/plain": [
       "<Figure size 432x288 with 1 Axes>"
      ]
     },
     "metadata": {
      "needs_background": "light"
     },
     "output_type": "display_data"
    }
   ],
   "source": [
    "data['surg_rad_days'] = data['DX_SURG_STARTED_DAYS'] - data['rad_end']\n",
    "data['surg_rad_days'].hist(bins=50)"
   ]
  },
  {
   "cell_type": "code",
   "execution_count": 65,
   "metadata": {},
   "outputs": [
    {
     "data": {
      "image/png": "[encoded data removed]",
      "text/plain": [
       "<Figure size 432x288 with 1 Axes>"
      ]
     },
     "metadata": {
      "needs_background": "light"
     },
     "output_type": "display_data"
    }
   ],
   "source": [
    "data_apr = data[data['APR'] == 1]\n",
    "data_apr['surg_rad_days'].hist(bins=50)\n",
    "#save the figure\n",
    "plt.savefig('results/surg_rad_days.png', bbox_inches='tight')"
   ]
  },
  {
   "cell_type": "code",
   "execution_count": 66,
   "metadata": {},
   "outputs": [],
   "source": [
    "data.drop(columns=['surg_rad_days', 'rad_end'], inplace=True)"
   ]
  },
  {
   "cell_type": "code",
   "execution_count": 67,
   "metadata": {},
   "outputs": [
    {
     "data": {
      "text/plain": [
       "<AxesSubplot:>"
      ]
     },
     "execution_count": 67,
     "metadata": {},
     "output_type": "execute_result"
    },
    {
     "data": {
      "image/png": "[encoded data removed]",
      "text/plain": [
       "<Figure size 432x288 with 1 Axes>"
      ]
     },
     "metadata": {
      "needs_background": "light"
     },
     "output_type": "display_data"
    }
   ],
   "source": [
    "data.loc[data['DX_RAD_STARTED_DAYS'] > 700, 'DX_RAD_STARTED_DAYS'] = np.NaN\n",
    "data.loc[data['DX_RAD_STARTED_DAYS'] > 125, 'DX_RAD_STARTED_DAYS'] = 125\n",
    "data['DX_RAD_STARTED_DAYS'].hist(bins=50)"
   ]
  },
  {
   "cell_type": "code",
   "execution_count": 68,
   "metadata": {},
   "outputs": [
    {
     "data": {
      "text/plain": [
       "<AxesSubplot:>"
      ]
     },
     "execution_count": 68,
     "metadata": {},
     "output_type": "execute_result"
    },
    {
     "data": {
      "image/png": "[encoded data removed]",
      "text/plain": [
       "<Figure size 432x288 with 1 Axes>"
      ]
     },
     "metadata": {
      "needs_background": "light"
     },
     "output_type": "display_data"
    }
   ],
   "source": [
    "data['RAD_ELAPSED_RX_DAYS'].hist(bins=50)"
   ]
  },
  {
   "cell_type": "code",
   "execution_count": 69,
   "metadata": {},
   "outputs": [
    {
     "data": {
      "text/plain": [
       "<AxesSubplot:>"
      ]
     },
     "execution_count": 69,
     "metadata": {},
     "output_type": "execute_result"
    },
    {
     "data": {
      "image/png": "[encoded data removed]",
      "text/plain": [
       "<Figure size 432x288 with 1 Axes>"
      ]
     },
     "metadata": {
      "needs_background": "light"
     },
     "output_type": "display_data"
    }
   ],
   "source": [
    "data.loc[data['RAD_ELAPSED_RX_DAYS'] > 700, 'RAD_ELAPSED_RX_DAYS'] = np.NaN\n",
    "data.loc[data['RAD_ELAPSED_RX_DAYS'] > 100, 'RAD_ELAPSED_RX_DAYS'] = 100\n",
    "data['RAD_ELAPSED_RX_DAYS'].hist(bins=50)"
   ]
  },
  {
   "cell_type": "code",
   "execution_count": 70,
   "metadata": {},
   "outputs": [],
   "source": [
    "rad_cols = ['RAD_LOCATION_OF_RX', 'REASON_FOR_NO_RADIATION', 'RX_SUMM_SURGRAD_SEQ']\n",
    "\n",
    "chemo_cols = ['DX_CHEMO_STARTED_DAYS', 'RX_SUMM_SYSTEMIC_SUR_SEQ']\n",
    "\n",
    "surg_cols = ['PALLIATIVE_CARE', 'DX_SURG_STARTED_DAYS', 'RX_SUMM_SURG_PRIM_SITE', 'RX_SUMM_SURGICAL_MARGINS', 'SURG_DISCHARGE_DAYS', 'READM_HOSP_30_DAYS', 'REASON_FOR_NO_SURGERY']"
   ]
  },
  {
   "cell_type": "code",
   "execution_count": 71,
   "metadata": {},
   "outputs": [],
   "source": [
    "#drop all columns related to the treatment\n",
    "for x in rad_cols:\n",
    "    try:\n",
    "        data.drop(x, axis=1, inplace=True)\n",
    "    except KeyError:\n",
    "        pass\n",
    "for x in surg_cols:\n",
    "    try:\n",
    "        data.drop(x, axis=1, inplace=True)\n",
    "    except KeyError:\n",
    "        pass\n",
    "for x in os_cols:\n",
    "    try:\n",
    "        data.drop(x, axis=1, inplace=True)\n",
    "    except KeyError:\n",
    "        pass\n",
    "for x in chemo_cols:\n",
    "    try:\n",
    "        data.drop(x, axis=1, inplace=True)\n",
    "    except KeyError:\n",
    "        pass"
   ]
  },
  {
   "cell_type": "code",
   "execution_count": 72,
   "metadata": {},
   "outputs": [
    {
     "data": {
      "text/html": [
       "<div>\n",
       "<style scoped>\n",
       "    .dataframe tbody tr th:only-of-type {\n",
       "        vertical-align: middle;\n",
       "    }\n",
       "\n",
       "    .dataframe tbody tr th {\n",
       "        vertical-align: top;\n",
       "    }\n",
       "\n",
       "    .dataframe thead th {\n",
       "        text-align: right;\n",
       "    }\n",
       "</style>\n",
       "<table border=\"1\" class=\"dataframe\">\n",
       "  <thead>\n",
       "    <tr style=\"text-align: right;\">\n",
       "      <th></th>\n",
       "      <th>0</th>\n",
       "    </tr>\n",
       "  </thead>\n",
       "  <tbody>\n",
       "    <tr>\n",
       "      <th>GRADE_CLIN</th>\n",
       "      <td>18632</td>\n",
       "    </tr>\n",
       "    <tr>\n",
       "      <th>Radiation Dose, &gt;30 Gy</th>\n",
       "      <td>11170</td>\n",
       "    </tr>\n",
       "    <tr>\n",
       "      <th>TOTAL_DOSE</th>\n",
       "      <td>11170</td>\n",
       "    </tr>\n",
       "    <tr>\n",
       "      <th>LYMPH_VASCULAR_INVASION</th>\n",
       "      <td>5946</td>\n",
       "    </tr>\n",
       "    <tr>\n",
       "      <th>TUMOR_SIZE</th>\n",
       "      <td>4944</td>\n",
       "    </tr>\n",
       "    <tr>\n",
       "      <th>RAD_ELAPSED_RX_DAYS</th>\n",
       "      <td>4569</td>\n",
       "    </tr>\n",
       "    <tr>\n",
       "      <th>MED_INC_QUAR_2016</th>\n",
       "      <td>2060</td>\n",
       "    </tr>\n",
       "    <tr>\n",
       "      <th>NO_HSD_QUAR_2016</th>\n",
       "      <td>2030</td>\n",
       "    </tr>\n",
       "    <tr>\n",
       "      <th>CROWFLY</th>\n",
       "      <td>1834</td>\n",
       "    </tr>\n",
       "    <tr>\n",
       "      <th>UR_CD_13</th>\n",
       "      <td>530</td>\n",
       "    </tr>\n",
       "    <tr>\n",
       "      <th>FACILITY_LOCATION_CD</th>\n",
       "      <td>466</td>\n",
       "    </tr>\n",
       "    <tr>\n",
       "      <th>FACILITY_TYPE_CD</th>\n",
       "      <td>466</td>\n",
       "    </tr>\n",
       "    <tr>\n",
       "      <th>n_stage</th>\n",
       "      <td>389</td>\n",
       "    </tr>\n",
       "    <tr>\n",
       "      <th>GRADE</th>\n",
       "      <td>346</td>\n",
       "    </tr>\n",
       "    <tr>\n",
       "      <th>DX_RAD_STARTED_DAYS</th>\n",
       "      <td>268</td>\n",
       "    </tr>\n",
       "    <tr>\n",
       "      <th>t_stage</th>\n",
       "      <td>233</td>\n",
       "    </tr>\n",
       "    <tr>\n",
       "      <th>RACE</th>\n",
       "      <td>142</td>\n",
       "    </tr>\n",
       "    <tr>\n",
       "      <th>RX_SUMM_CHEMO</th>\n",
       "      <td>7</td>\n",
       "    </tr>\n",
       "    <tr>\n",
       "      <th>stage</th>\n",
       "      <td>0</td>\n",
       "    </tr>\n",
       "    <tr>\n",
       "      <th>APR</th>\n",
       "      <td>0</td>\n",
       "    </tr>\n",
       "  </tbody>\n",
       "</table>\n",
       "</div>"
      ],
      "text/plain": [
       "                             0\n",
       "GRADE_CLIN               18632\n",
       "Radiation Dose, >30 Gy   11170\n",
       "TOTAL_DOSE               11170\n",
       "LYMPH_VASCULAR_INVASION   5946\n",
       "TUMOR_SIZE                4944\n",
       "RAD_ELAPSED_RX_DAYS       4569\n",
       "MED_INC_QUAR_2016         2060\n",
       "NO_HSD_QUAR_2016          2030\n",
       "CROWFLY                   1834\n",
       "UR_CD_13                   530\n",
       "FACILITY_LOCATION_CD       466\n",
       "FACILITY_TYPE_CD           466\n",
       "n_stage                    389\n",
       "GRADE                      346\n",
       "DX_RAD_STARTED_DAYS        268\n",
       "t_stage                    233\n",
       "RACE                       142\n",
       "RX_SUMM_CHEMO                7\n",
       "stage                        0\n",
       "APR                          0"
      ]
     },
     "execution_count": 72,
     "metadata": {},
     "output_type": "execute_result"
    }
   ],
   "source": [
    "#find the columns with the greatest proportion of missing values\n",
    "missing_values = data.isnull().sum()\n",
    "pd.DataFrame(missing_values.sort_values(ascending=False)).head(20)\n"
   ]
  },
  {
   "cell_type": "code",
   "execution_count": 73,
   "metadata": {},
   "outputs": [
    {
     "data": {
      "text/plain": [
       "2.0    6201\n",
       "9.0    5931\n",
       "3.0    5223\n",
       "1.0    1167\n",
       "NaN     346\n",
       "4.0     110\n",
       "Name: GRADE, dtype: int64"
      ]
     },
     "execution_count": 73,
     "metadata": {},
     "output_type": "execute_result"
    }
   ],
   "source": [
    "data['GRADE'].value_counts(dropna=False)"
   ]
  },
  {
   "cell_type": "code",
   "execution_count": 74,
   "metadata": {},
   "outputs": [
    {
     "data": {
      "text/plain": [
       "2.0    6324\n",
       "9.0    5931\n",
       "3.0    5294\n",
       "1.0    1196\n",
       "9       116\n",
       "4.0     110\n",
       "H         7\n",
       "Name: GRADE, dtype: int64"
      ]
     },
     "execution_count": 74,
     "metadata": {},
     "output_type": "execute_result"
    }
   ],
   "source": [
    "data['GRADE'] = data['GRADE'].astype(str)\n",
    "data['GRADE_CLIN'] = data['GRADE_CLIN'].astype(str)\n",
    "data.loc[data['GRADE'] == 'nan', 'GRADE'] = data.loc[data['GRADE'] == 'nan', 'GRADE_CLIN']\n",
    "data.loc[data['GRADE'].str.contains('1'), 'GRADE'] = '1.0'\n",
    "data.loc[data['GRADE'].str.contains('2'), 'GRADE'] = '2.0'\n",
    "data.loc[data['GRADE'].str.contains('3'), 'GRADE'] = '3.0'\n",
    "data.loc[data['GRADE'].str.contains('4'), 'GRADE'] = '4.0'\n",
    "data['GRADE'].value_counts(dropna=False)\n"
   ]
  },
  {
   "cell_type": "code",
   "execution_count": 75,
   "metadata": {},
   "outputs": [],
   "source": [
    "drop = ['GRADE_CLIN']\n",
    "data.drop(drop, axis=1, inplace=True)"
   ]
  },
  {
   "cell_type": "code",
   "execution_count": 76,
   "metadata": {},
   "outputs": [
    {
     "data": {
      "text/plain": [
       "16"
      ]
     },
     "execution_count": 76,
     "metadata": {},
     "output_type": "execute_result"
    }
   ],
   "source": [
    "len(data['YEAR_OF_DIAGNOSIS'].unique())"
   ]
  },
  {
   "cell_type": "code",
   "execution_count": 77,
   "metadata": {},
   "outputs": [],
   "source": [
    "facility_by_year = pd.DataFrame(pd.crosstab(data['PUF_FACILITY_ID'], data['YEAR_OF_DIAGNOSIS'], margins=True))\n",
    "facility_counts = pd.DataFrame(facility_by_year['All'])\n",
    "#drop the last row, which is the total\n",
    "facility_counts.drop(facility_counts.tail(1).index, inplace=True)"
   ]
  },
  {
   "cell_type": "code",
   "execution_count": 78,
   "metadata": {},
   "outputs": [],
   "source": [
    "facility_by_year = pd.DataFrame(pd.crosstab(data['PUF_FACILITY_ID'], data['YEAR_OF_DIAGNOSIS']))\n",
    "facility_by_year['num_zero'] = 1000\n",
    "for i,row in facility_by_year.iterrows():\n",
    "    try:\n",
    "        row['num_zero'] = pd.DataFrame(facility_by_year.loc[i].value_counts()).loc[0][0]\n",
    "    except KeyError:\n",
    "        row['num_zero'] = 0"
   ]
  },
  {
   "cell_type": "code",
   "execution_count": 79,
   "metadata": {},
   "outputs": [
    {
     "data": {
      "text/html": [
       "<div>\n",
       "<style scoped>\n",
       "    .dataframe tbody tr th:only-of-type {\n",
       "        vertical-align: middle;\n",
       "    }\n",
       "\n",
       "    .dataframe tbody tr th {\n",
       "        vertical-align: top;\n",
       "    }\n",
       "\n",
       "    .dataframe thead th {\n",
       "        text-align: right;\n",
       "    }\n",
       "</style>\n",
       "<table border=\"1\" class=\"dataframe\">\n",
       "  <thead>\n",
       "    <tr style=\"text-align: right;\">\n",
       "      <th>YEAR_OF_DIAGNOSIS</th>\n",
       "      <th>2004</th>\n",
       "      <th>2005</th>\n",
       "      <th>2006</th>\n",
       "      <th>2007</th>\n",
       "      <th>2008</th>\n",
       "      <th>2009</th>\n",
       "      <th>2010</th>\n",
       "      <th>2011</th>\n",
       "      <th>2012</th>\n",
       "      <th>2013</th>\n",
       "      <th>2014</th>\n",
       "      <th>2015</th>\n",
       "      <th>2016</th>\n",
       "      <th>2017</th>\n",
       "      <th>2018</th>\n",
       "      <th>2019</th>\n",
       "      <th>num_zero</th>\n",
       "    </tr>\n",
       "    <tr>\n",
       "      <th>PUF_FACILITY_ID</th>\n",
       "      <th></th>\n",
       "      <th></th>\n",
       "      <th></th>\n",
       "      <th></th>\n",
       "      <th></th>\n",
       "      <th></th>\n",
       "      <th></th>\n",
       "      <th></th>\n",
       "      <th></th>\n",
       "      <th></th>\n",
       "      <th></th>\n",
       "      <th></th>\n",
       "      <th></th>\n",
       "      <th></th>\n",
       "      <th></th>\n",
       "      <th></th>\n",
       "      <th></th>\n",
       "    </tr>\n",
       "  </thead>\n",
       "  <tbody>\n",
       "    <tr>\n",
       "      <th>ABZFZYJZCA</th>\n",
       "      <td>0</td>\n",
       "      <td>0</td>\n",
       "      <td>0</td>\n",
       "      <td>0</td>\n",
       "      <td>0</td>\n",
       "      <td>1</td>\n",
       "      <td>0</td>\n",
       "      <td>0</td>\n",
       "      <td>0</td>\n",
       "      <td>0</td>\n",
       "      <td>0</td>\n",
       "      <td>0</td>\n",
       "      <td>0</td>\n",
       "      <td>1</td>\n",
       "      <td>0</td>\n",
       "      <td>0</td>\n",
       "      <td>2</td>\n",
       "    </tr>\n",
       "    <tr>\n",
       "      <th>ADSHBUUWZC</th>\n",
       "      <td>0</td>\n",
       "      <td>0</td>\n",
       "      <td>1</td>\n",
       "      <td>0</td>\n",
       "      <td>2</td>\n",
       "      <td>1</td>\n",
       "      <td>2</td>\n",
       "      <td>2</td>\n",
       "      <td>1</td>\n",
       "      <td>2</td>\n",
       "      <td>0</td>\n",
       "      <td>0</td>\n",
       "      <td>1</td>\n",
       "      <td>0</td>\n",
       "      <td>0</td>\n",
       "      <td>0</td>\n",
       "      <td>8</td>\n",
       "    </tr>\n",
       "    <tr>\n",
       "      <th>ADXGCKXJNR</th>\n",
       "      <td>0</td>\n",
       "      <td>0</td>\n",
       "      <td>0</td>\n",
       "      <td>0</td>\n",
       "      <td>0</td>\n",
       "      <td>0</td>\n",
       "      <td>0</td>\n",
       "      <td>4</td>\n",
       "      <td>2</td>\n",
       "      <td>5</td>\n",
       "      <td>3</td>\n",
       "      <td>3</td>\n",
       "      <td>2</td>\n",
       "      <td>5</td>\n",
       "      <td>0</td>\n",
       "      <td>0</td>\n",
       "      <td>7</td>\n",
       "    </tr>\n",
       "    <tr>\n",
       "      <th>ADXQMZWWTZ</th>\n",
       "      <td>0</td>\n",
       "      <td>1</td>\n",
       "      <td>1</td>\n",
       "      <td>1</td>\n",
       "      <td>2</td>\n",
       "      <td>0</td>\n",
       "      <td>1</td>\n",
       "      <td>0</td>\n",
       "      <td>0</td>\n",
       "      <td>3</td>\n",
       "      <td>1</td>\n",
       "      <td>0</td>\n",
       "      <td>0</td>\n",
       "      <td>0</td>\n",
       "      <td>1</td>\n",
       "      <td>0</td>\n",
       "      <td>8</td>\n",
       "    </tr>\n",
       "    <tr>\n",
       "      <th>AEFZNJSMJI</th>\n",
       "      <td>1</td>\n",
       "      <td>0</td>\n",
       "      <td>0</td>\n",
       "      <td>0</td>\n",
       "      <td>0</td>\n",
       "      <td>1</td>\n",
       "      <td>0</td>\n",
       "      <td>2</td>\n",
       "      <td>0</td>\n",
       "      <td>0</td>\n",
       "      <td>0</td>\n",
       "      <td>0</td>\n",
       "      <td>0</td>\n",
       "      <td>0</td>\n",
       "      <td>0</td>\n",
       "      <td>0</td>\n",
       "      <td>3</td>\n",
       "    </tr>\n",
       "  </tbody>\n",
       "</table>\n",
       "</div>"
      ],
      "text/plain": [
       "YEAR_OF_DIAGNOSIS  2004  2005  2006  2007  2008  2009  2010  2011  2012  2013  \\\n",
       "PUF_FACILITY_ID                                                                 \n",
       "ABZFZYJZCA            0     0     0     0     0     1     0     0     0     0   \n",
       "ADSHBUUWZC            0     0     1     0     2     1     2     2     1     2   \n",
       "ADXGCKXJNR            0     0     0     0     0     0     0     4     2     5   \n",
       "ADXQMZWWTZ            0     1     1     1     2     0     1     0     0     3   \n",
       "AEFZNJSMJI            1     0     0     0     0     1     0     2     0     0   \n",
       "\n",
       "YEAR_OF_DIAGNOSIS  2014  2015  2016  2017  2018  2019  num_zero  \n",
       "PUF_FACILITY_ID                                                  \n",
       "ABZFZYJZCA            0     0     0     1     0     0         2  \n",
       "ADSHBUUWZC            0     0     1     0     0     0         8  \n",
       "ADXGCKXJNR            3     3     2     5     0     0         7  \n",
       "ADXQMZWWTZ            1     0     0     0     1     0         8  \n",
       "AEFZNJSMJI            0     0     0     0     0     0         3  "
      ]
     },
     "execution_count": 79,
     "metadata": {},
     "output_type": "execute_result"
    }
   ],
   "source": [
    "facility_by_year['num_zero'] = 16 - facility_by_year['num_zero']\n",
    "\n",
    "facility_by_year.head()"
   ]
  },
  {
   "cell_type": "code",
   "execution_count": 80,
   "metadata": {},
   "outputs": [
    {
     "data": {
      "text/html": [
       "<div>\n",
       "<style scoped>\n",
       "    .dataframe tbody tr th:only-of-type {\n",
       "        vertical-align: middle;\n",
       "    }\n",
       "\n",
       "    .dataframe tbody tr th {\n",
       "        vertical-align: top;\n",
       "    }\n",
       "\n",
       "    .dataframe thead th {\n",
       "        text-align: right;\n",
       "    }\n",
       "</style>\n",
       "<table border=\"1\" class=\"dataframe\">\n",
       "  <thead>\n",
       "    <tr style=\"text-align: right;\">\n",
       "      <th></th>\n",
       "      <th>All</th>\n",
       "      <th>num_zero</th>\n",
       "    </tr>\n",
       "    <tr>\n",
       "      <th>PUF_FACILITY_ID</th>\n",
       "      <th></th>\n",
       "      <th></th>\n",
       "    </tr>\n",
       "  </thead>\n",
       "  <tbody>\n",
       "    <tr>\n",
       "      <th>ABZFZYJZCA</th>\n",
       "      <td>2</td>\n",
       "      <td>2</td>\n",
       "    </tr>\n",
       "    <tr>\n",
       "      <th>ADSHBUUWZC</th>\n",
       "      <td>12</td>\n",
       "      <td>8</td>\n",
       "    </tr>\n",
       "    <tr>\n",
       "      <th>ADXGCKXJNR</th>\n",
       "      <td>24</td>\n",
       "      <td>7</td>\n",
       "    </tr>\n",
       "    <tr>\n",
       "      <th>ADXQMZWWTZ</th>\n",
       "      <td>11</td>\n",
       "      <td>8</td>\n",
       "    </tr>\n",
       "    <tr>\n",
       "      <th>AEFZNJSMJI</th>\n",
       "      <td>4</td>\n",
       "      <td>3</td>\n",
       "    </tr>\n",
       "  </tbody>\n",
       "</table>\n",
       "</div>"
      ],
      "text/plain": [
       "                 All  num_zero\n",
       "PUF_FACILITY_ID               \n",
       "ABZFZYJZCA         2         2\n",
       "ADSHBUUWZC        12         8\n",
       "ADXGCKXJNR        24         7\n",
       "ADXQMZWWTZ        11         8\n",
       "AEFZNJSMJI         4         3"
      ]
     },
     "execution_count": 80,
     "metadata": {},
     "output_type": "execute_result"
    }
   ],
   "source": [
    "facility_counts['num_zero'] = facility_by_year['num_zero']\n",
    "facility_counts.head()"
   ]
  },
  {
   "cell_type": "code",
   "execution_count": 81,
   "metadata": {},
   "outputs": [
    {
     "data": {
      "text/html": [
       "<div>\n",
       "<style scoped>\n",
       "    .dataframe tbody tr th:only-of-type {\n",
       "        vertical-align: middle;\n",
       "    }\n",
       "\n",
       "    .dataframe tbody tr th {\n",
       "        vertical-align: top;\n",
       "    }\n",
       "\n",
       "    .dataframe thead th {\n",
       "        text-align: right;\n",
       "    }\n",
       "</style>\n",
       "<table border=\"1\" class=\"dataframe\">\n",
       "  <thead>\n",
       "    <tr style=\"text-align: right;\">\n",
       "      <th></th>\n",
       "      <th>All</th>\n",
       "      <th>num_zero</th>\n",
       "      <th>norm</th>\n",
       "    </tr>\n",
       "    <tr>\n",
       "      <th>PUF_FACILITY_ID</th>\n",
       "      <th></th>\n",
       "      <th></th>\n",
       "      <th></th>\n",
       "    </tr>\n",
       "  </thead>\n",
       "  <tbody>\n",
       "    <tr>\n",
       "      <th>ABZFZYJZCA</th>\n",
       "      <td>2</td>\n",
       "      <td>2</td>\n",
       "      <td>1.000000</td>\n",
       "    </tr>\n",
       "    <tr>\n",
       "      <th>ADSHBUUWZC</th>\n",
       "      <td>12</td>\n",
       "      <td>8</td>\n",
       "      <td>1.500000</td>\n",
       "    </tr>\n",
       "    <tr>\n",
       "      <th>ADXGCKXJNR</th>\n",
       "      <td>24</td>\n",
       "      <td>7</td>\n",
       "      <td>3.428571</td>\n",
       "    </tr>\n",
       "    <tr>\n",
       "      <th>ADXQMZWWTZ</th>\n",
       "      <td>11</td>\n",
       "      <td>8</td>\n",
       "      <td>1.375000</td>\n",
       "    </tr>\n",
       "    <tr>\n",
       "      <th>AEFZNJSMJI</th>\n",
       "      <td>4</td>\n",
       "      <td>3</td>\n",
       "      <td>1.333333</td>\n",
       "    </tr>\n",
       "  </tbody>\n",
       "</table>\n",
       "</div>"
      ],
      "text/plain": [
       "                 All  num_zero      norm\n",
       "PUF_FACILITY_ID                         \n",
       "ABZFZYJZCA         2         2  1.000000\n",
       "ADSHBUUWZC        12         8  1.500000\n",
       "ADXGCKXJNR        24         7  3.428571\n",
       "ADXQMZWWTZ        11         8  1.375000\n",
       "AEFZNJSMJI         4         3  1.333333"
      ]
     },
     "execution_count": 81,
     "metadata": {},
     "output_type": "execute_result"
    }
   ],
   "source": [
    "facility_counts['norm'] = facility_counts['All'] / facility_counts['num_zero']\n",
    "facility_counts.head()"
   ]
  },
  {
   "cell_type": "code",
   "execution_count": 82,
   "metadata": {},
   "outputs": [
    {
     "data": {
      "text/plain": [
       "count    1224.000000\n",
       "mean        1.826100\n",
       "std         1.072992\n",
       "min         1.000000\n",
       "25%         1.200000\n",
       "50%         1.500000\n",
       "75%         2.071429\n",
       "max        18.000000\n",
       "Name: norm, dtype: float64"
      ]
     },
     "execution_count": 82,
     "metadata": {},
     "output_type": "execute_result"
    }
   ],
   "source": [
    "facility_counts['norm'].describe()"
   ]
  },
  {
   "cell_type": "code",
   "execution_count": 83,
   "metadata": {},
   "outputs": [
    {
     "data": {
      "text/plain": [
       "1224"
      ]
     },
     "execution_count": 83,
     "metadata": {},
     "output_type": "execute_result"
    }
   ],
   "source": [
    "fac_ids = facility_counts.index.to_list()\n",
    "len(fac_ids)"
   ]
  },
  {
   "cell_type": "code",
   "execution_count": 84,
   "metadata": {},
   "outputs": [
    {
     "data": {
      "text/plain": [
       "4.0    5232\n",
       "3.0    4700\n",
       "1.0    4649\n",
       "2.0    4397\n",
       "Name: facs_quart_norm, dtype: int64"
      ]
     },
     "execution_count": 84,
     "metadata": {},
     "output_type": "execute_result"
    }
   ],
   "source": [
    "fac_ids1 = fac_ids[:len(fac_ids)//4]\n",
    "fac_ids2 = fac_ids[(len(fac_ids)//4):((len(fac_ids)//4)*2)]\n",
    "fac_ids3 = fac_ids[((len(fac_ids)//4) * 2):((len(fac_ids)//4)*3)]\n",
    "fac_ids4 = fac_ids[((len(fac_ids)//4) * 3):]\n",
    "\n",
    "data['facs_quart_norm'] = np.NaN\n",
    "data.loc[data['PUF_FACILITY_ID'].isin(fac_ids1), 'facs_quart_norm'] = 1\n",
    "data.loc[data['PUF_FACILITY_ID'].isin(fac_ids2), 'facs_quart_norm'] = 2\n",
    "data.loc[data['PUF_FACILITY_ID'].isin(fac_ids3), 'facs_quart_norm'] = 3\n",
    "data.loc[data['PUF_FACILITY_ID'].isin(fac_ids4), 'facs_quart_norm'] = 4\n",
    "data['facs_quart_norm'].value_counts(dropna=False)"
   ]
  },
  {
   "cell_type": "code",
   "execution_count": 85,
   "metadata": {},
   "outputs": [
    {
     "data": {
      "text/plain": [
       "1224"
      ]
     },
     "execution_count": 85,
     "metadata": {},
     "output_type": "execute_result"
    }
   ],
   "source": [
    "facs = pd.DataFrame(data['PUF_FACILITY_ID'].value_counts()).index.to_list()\n",
    "len(facs)"
   ]
  },
  {
   "cell_type": "code",
   "execution_count": 86,
   "metadata": {},
   "outputs": [
    {
     "data": {
      "text/plain": [
       "1.0    11381\n",
       "2.0     4525\n",
       "3.0     2281\n",
       "4.0      791\n",
       "Name: facs_quart, dtype: int64"
      ]
     },
     "execution_count": 86,
     "metadata": {},
     "output_type": "execute_result"
    }
   ],
   "source": [
    "facs1 = facs[:len(facs)//4]\n",
    "facs2 = facs[(len(facs)//4):((len(facs)//4)*2)]\n",
    "facs3 = facs[((len(facs)//4) * 2):((len(facs)//4)*3)]\n",
    "facs4 = facs[((len(facs)//4) * 3):]\n",
    "\n",
    "data['facs_quart'] = np.NaN\n",
    "data.loc[data['PUF_FACILITY_ID'].isin(facs1), 'facs_quart'] = 1\n",
    "data.loc[data['PUF_FACILITY_ID'].isin(facs2), 'facs_quart'] = 2\n",
    "data.loc[data['PUF_FACILITY_ID'].isin(facs3), 'facs_quart'] = 3\n",
    "data.loc[data['PUF_FACILITY_ID'].isin(facs4), 'facs_quart'] = 4\n",
    "data['facs_quart'].value_counts(dropna=False)"
   ]
  },
  {
   "cell_type": "code",
   "execution_count": 87,
   "metadata": {},
   "outputs": [
    {
     "name": "stdout",
     "output_type": "stream",
     "text": [
      "0.0244240240156557 -0.00647317970692248\n"
     ]
    }
   ],
   "source": [
    "corr = data['facs_quart'].corr(data['APR'])\n",
    "corr_norm = data['facs_quart_norm'].corr(data['APR'])\n",
    "print(corr, corr_norm)"
   ]
  },
  {
   "cell_type": "code",
   "execution_count": 88,
   "metadata": {},
   "outputs": [],
   "source": [
    "data.drop(['facs_quart_norm'], axis=1, inplace=True)"
   ]
  },
  {
   "cell_type": "code",
   "execution_count": 89,
   "metadata": {},
   "outputs": [],
   "source": [
    "data.drop('PUF_FACILITY_ID', axis=1, inplace=True)"
   ]
  },
  {
   "cell_type": "code",
   "execution_count": 90,
   "metadata": {},
   "outputs": [
    {
     "data": {
      "text/plain": [
       "['PUF_CASE_ID', 'GRADE', 'stage', 't_stage', 'n_stage', 'm_stage']"
      ]
     },
     "execution_count": 90,
     "metadata": {},
     "output_type": "execute_result"
    }
   ],
   "source": [
    "#find columns with data type object\n",
    "cat_cols = data.select_dtypes(include=['object']).columns.to_list()\n",
    "cat_cols"
   ]
  },
  {
   "cell_type": "code",
   "execution_count": 91,
   "metadata": {},
   "outputs": [],
   "source": [
    "data.set_index('PUF_CASE_ID', inplace=True)"
   ]
  },
  {
   "cell_type": "code",
   "execution_count": 92,
   "metadata": {},
   "outputs": [
    {
     "data": {
      "text/html": [
       "<div>\n",
       "<style scoped>\n",
       "    .dataframe tbody tr th:only-of-type {\n",
       "        vertical-align: middle;\n",
       "    }\n",
       "\n",
       "    .dataframe tbody tr th {\n",
       "        vertical-align: top;\n",
       "    }\n",
       "\n",
       "    .dataframe thead th {\n",
       "        text-align: right;\n",
       "    }\n",
       "</style>\n",
       "<table border=\"1\" class=\"dataframe\">\n",
       "  <thead>\n",
       "    <tr style=\"text-align: right;\">\n",
       "      <th></th>\n",
       "      <th>FACILITY_TYPE_CD</th>\n",
       "      <th>FACILITY_LOCATION_CD</th>\n",
       "      <th>AGE</th>\n",
       "      <th>SEX</th>\n",
       "      <th>RACE</th>\n",
       "      <th>SPANISH_HISPANIC_ORIGIN</th>\n",
       "      <th>INSURANCE_STATUS</th>\n",
       "      <th>UR_CD_13</th>\n",
       "      <th>CROWFLY</th>\n",
       "      <th>CDCC_TOTAL_BEST</th>\n",
       "      <th>...</th>\n",
       "      <th>MED_INC_QUAR_2016</th>\n",
       "      <th>PUF_MEDICAID_EXPN_CODE</th>\n",
       "      <th>TOTAL_DOSE</th>\n",
       "      <th>APR</th>\n",
       "      <th>Radiation Dose, &gt;30 Gy</th>\n",
       "      <th>stage</th>\n",
       "      <th>t_stage</th>\n",
       "      <th>n_stage</th>\n",
       "      <th>m_stage</th>\n",
       "      <th>facs_quart</th>\n",
       "    </tr>\n",
       "    <tr>\n",
       "      <th>PUF_CASE_ID</th>\n",
       "      <th></th>\n",
       "      <th></th>\n",
       "      <th></th>\n",
       "      <th></th>\n",
       "      <th></th>\n",
       "      <th></th>\n",
       "      <th></th>\n",
       "      <th></th>\n",
       "      <th></th>\n",
       "      <th></th>\n",
       "      <th></th>\n",
       "      <th></th>\n",
       "      <th></th>\n",
       "      <th></th>\n",
       "      <th></th>\n",
       "      <th></th>\n",
       "      <th></th>\n",
       "      <th></th>\n",
       "      <th></th>\n",
       "      <th></th>\n",
       "      <th></th>\n",
       "    </tr>\n",
       "  </thead>\n",
       "  <tbody>\n",
       "    <tr>\n",
       "      <th>D66f458f9-bdc0-4c95-94a3-a5f8c5bb74f9</th>\n",
       "      <td>3.0</td>\n",
       "      <td>5.0</td>\n",
       "      <td>52</td>\n",
       "      <td>2</td>\n",
       "      <td>1.0</td>\n",
       "      <td>0</td>\n",
       "      <td>0</td>\n",
       "      <td>2.0</td>\n",
       "      <td>3.6</td>\n",
       "      <td>0</td>\n",
       "      <td>...</td>\n",
       "      <td>1.0</td>\n",
       "      <td>0</td>\n",
       "      <td>0.0</td>\n",
       "      <td>0.0</td>\n",
       "      <td>0.0</td>\n",
       "      <td>2A</td>\n",
       "      <td>2</td>\n",
       "      <td>0</td>\n",
       "      <td>0</td>\n",
       "      <td>1.0</td>\n",
       "    </tr>\n",
       "    <tr>\n",
       "      <th>Dfc68ea23-71aa-4b0d-87c0-587b4ce13d04</th>\n",
       "      <td>3.0</td>\n",
       "      <td>9.0</td>\n",
       "      <td>49</td>\n",
       "      <td>2</td>\n",
       "      <td>1.0</td>\n",
       "      <td>0</td>\n",
       "      <td>1</td>\n",
       "      <td>1.0</td>\n",
       "      <td>11.4</td>\n",
       "      <td>0</td>\n",
       "      <td>...</td>\n",
       "      <td>3.0</td>\n",
       "      <td>2</td>\n",
       "      <td>NaN</td>\n",
       "      <td>0.0</td>\n",
       "      <td>NaN</td>\n",
       "      <td>3A</td>\n",
       "      <td>2</td>\n",
       "      <td>1</td>\n",
       "      <td>0</td>\n",
       "      <td>1.0</td>\n",
       "    </tr>\n",
       "    <tr>\n",
       "      <th>D7a846888-d7d5-42ab-bd7f-8dd4e268adba</th>\n",
       "      <td>2.0</td>\n",
       "      <td>3.0</td>\n",
       "      <td>88</td>\n",
       "      <td>2</td>\n",
       "      <td>1.0</td>\n",
       "      <td>0</td>\n",
       "      <td>3</td>\n",
       "      <td>4.0</td>\n",
       "      <td>32.0</td>\n",
       "      <td>0</td>\n",
       "      <td>...</td>\n",
       "      <td>1.0</td>\n",
       "      <td>0</td>\n",
       "      <td>NaN</td>\n",
       "      <td>0.0</td>\n",
       "      <td>NaN</td>\n",
       "      <td>2B</td>\n",
       "      <td>3</td>\n",
       "      <td>0</td>\n",
       "      <td>0</td>\n",
       "      <td>3.0</td>\n",
       "    </tr>\n",
       "    <tr>\n",
       "      <th>D6a94c44a-86b9-4b34-8f6b-bcc0da65cc59</th>\n",
       "      <td>4.0</td>\n",
       "      <td>9.0</td>\n",
       "      <td>53</td>\n",
       "      <td>2</td>\n",
       "      <td>1.0</td>\n",
       "      <td>0</td>\n",
       "      <td>3</td>\n",
       "      <td>5.0</td>\n",
       "      <td>NaN</td>\n",
       "      <td>3</td>\n",
       "      <td>...</td>\n",
       "      <td>NaN</td>\n",
       "      <td>2</td>\n",
       "      <td>NaN</td>\n",
       "      <td>0.0</td>\n",
       "      <td>NaN</td>\n",
       "      <td>2B</td>\n",
       "      <td>3</td>\n",
       "      <td>0</td>\n",
       "      <td>0</td>\n",
       "      <td>1.0</td>\n",
       "    </tr>\n",
       "    <tr>\n",
       "      <th>D9733f795-06f9-44bd-a94c-cfff0110c969</th>\n",
       "      <td>1.0</td>\n",
       "      <td>7.0</td>\n",
       "      <td>53</td>\n",
       "      <td>2</td>\n",
       "      <td>1.0</td>\n",
       "      <td>0</td>\n",
       "      <td>1</td>\n",
       "      <td>3.0</td>\n",
       "      <td>3.9</td>\n",
       "      <td>0</td>\n",
       "      <td>...</td>\n",
       "      <td>3.0</td>\n",
       "      <td>3</td>\n",
       "      <td>5400.0</td>\n",
       "      <td>0.0</td>\n",
       "      <td>1.0</td>\n",
       "      <td>3C</td>\n",
       "      <td>3</td>\n",
       "      <td>1</td>\n",
       "      <td>0</td>\n",
       "      <td>4.0</td>\n",
       "    </tr>\n",
       "  </tbody>\n",
       "</table>\n",
       "<p>5 rows × 29 columns</p>\n",
       "</div>"
      ],
      "text/plain": [
       "                                       FACILITY_TYPE_CD  FACILITY_LOCATION_CD  \\\n",
       "PUF_CASE_ID                                                                     \n",
       "D66f458f9-bdc0-4c95-94a3-a5f8c5bb74f9               3.0                   5.0   \n",
       "Dfc68ea23-71aa-4b0d-87c0-587b4ce13d04               3.0                   9.0   \n",
       "D7a846888-d7d5-42ab-bd7f-8dd4e268adba               2.0                   3.0   \n",
       "D6a94c44a-86b9-4b34-8f6b-bcc0da65cc59               4.0                   9.0   \n",
       "D9733f795-06f9-44bd-a94c-cfff0110c969               1.0                   7.0   \n",
       "\n",
       "                                       AGE  SEX  RACE  \\\n",
       "PUF_CASE_ID                                             \n",
       "D66f458f9-bdc0-4c95-94a3-a5f8c5bb74f9   52    2   1.0   \n",
       "Dfc68ea23-71aa-4b0d-87c0-587b4ce13d04   49    2   1.0   \n",
       "D7a846888-d7d5-42ab-bd7f-8dd4e268adba   88    2   1.0   \n",
       "D6a94c44a-86b9-4b34-8f6b-bcc0da65cc59   53    2   1.0   \n",
       "D9733f795-06f9-44bd-a94c-cfff0110c969   53    2   1.0   \n",
       "\n",
       "                                       SPANISH_HISPANIC_ORIGIN  \\\n",
       "PUF_CASE_ID                                                      \n",
       "D66f458f9-bdc0-4c95-94a3-a5f8c5bb74f9                        0   \n",
       "Dfc68ea23-71aa-4b0d-87c0-587b4ce13d04                        0   \n",
       "D7a846888-d7d5-42ab-bd7f-8dd4e268adba                        0   \n",
       "D6a94c44a-86b9-4b34-8f6b-bcc0da65cc59                        0   \n",
       "D9733f795-06f9-44bd-a94c-cfff0110c969                        0   \n",
       "\n",
       "                                       INSURANCE_STATUS  UR_CD_13  CROWFLY  \\\n",
       "PUF_CASE_ID                                                                  \n",
       "D66f458f9-bdc0-4c95-94a3-a5f8c5bb74f9                 0       2.0      3.6   \n",
       "Dfc68ea23-71aa-4b0d-87c0-587b4ce13d04                 1       1.0     11.4   \n",
       "D7a846888-d7d5-42ab-bd7f-8dd4e268adba                 3       4.0     32.0   \n",
       "D6a94c44a-86b9-4b34-8f6b-bcc0da65cc59                 3       5.0      NaN   \n",
       "D9733f795-06f9-44bd-a94c-cfff0110c969                 1       3.0      3.9   \n",
       "\n",
       "                                       CDCC_TOTAL_BEST  ...  \\\n",
       "PUF_CASE_ID                                             ...   \n",
       "D66f458f9-bdc0-4c95-94a3-a5f8c5bb74f9                0  ...   \n",
       "Dfc68ea23-71aa-4b0d-87c0-587b4ce13d04                0  ...   \n",
       "D7a846888-d7d5-42ab-bd7f-8dd4e268adba                0  ...   \n",
       "D6a94c44a-86b9-4b34-8f6b-bcc0da65cc59                3  ...   \n",
       "D9733f795-06f9-44bd-a94c-cfff0110c969                0  ...   \n",
       "\n",
       "                                       MED_INC_QUAR_2016  \\\n",
       "PUF_CASE_ID                                                \n",
       "D66f458f9-bdc0-4c95-94a3-a5f8c5bb74f9                1.0   \n",
       "Dfc68ea23-71aa-4b0d-87c0-587b4ce13d04                3.0   \n",
       "D7a846888-d7d5-42ab-bd7f-8dd4e268adba                1.0   \n",
       "D6a94c44a-86b9-4b34-8f6b-bcc0da65cc59                NaN   \n",
       "D9733f795-06f9-44bd-a94c-cfff0110c969                3.0   \n",
       "\n",
       "                                       PUF_MEDICAID_EXPN_CODE TOTAL_DOSE  APR  \\\n",
       "PUF_CASE_ID                                                                     \n",
       "D66f458f9-bdc0-4c95-94a3-a5f8c5bb74f9                       0        0.0  0.0   \n",
       "Dfc68ea23-71aa-4b0d-87c0-587b4ce13d04                       2        NaN  0.0   \n",
       "D7a846888-d7d5-42ab-bd7f-8dd4e268adba                       0        NaN  0.0   \n",
       "D6a94c44a-86b9-4b34-8f6b-bcc0da65cc59                       2        NaN  0.0   \n",
       "D9733f795-06f9-44bd-a94c-cfff0110c969                       3     5400.0  0.0   \n",
       "\n",
       "                                       Radiation Dose, >30 Gy  stage  t_stage  \\\n",
       "PUF_CASE_ID                                                                     \n",
       "D66f458f9-bdc0-4c95-94a3-a5f8c5bb74f9                     0.0     2A        2   \n",
       "Dfc68ea23-71aa-4b0d-87c0-587b4ce13d04                     NaN     3A        2   \n",
       "D7a846888-d7d5-42ab-bd7f-8dd4e268adba                     NaN     2B        3   \n",
       "D6a94c44a-86b9-4b34-8f6b-bcc0da65cc59                     NaN     2B        3   \n",
       "D9733f795-06f9-44bd-a94c-cfff0110c969                     1.0     3C        3   \n",
       "\n",
       "                                       n_stage  m_stage  facs_quart  \n",
       "PUF_CASE_ID                                                          \n",
       "D66f458f9-bdc0-4c95-94a3-a5f8c5bb74f9        0        0         1.0  \n",
       "Dfc68ea23-71aa-4b0d-87c0-587b4ce13d04        1        0         1.0  \n",
       "D7a846888-d7d5-42ab-bd7f-8dd4e268adba        0        0         3.0  \n",
       "D6a94c44a-86b9-4b34-8f6b-bcc0da65cc59        0        0         1.0  \n",
       "D9733f795-06f9-44bd-a94c-cfff0110c969        1        0         4.0  \n",
       "\n",
       "[5 rows x 29 columns]"
      ]
     },
     "execution_count": 92,
     "metadata": {},
     "output_type": "execute_result"
    }
   ],
   "source": [
    "cat_cols.remove('PUF_CASE_ID')\n",
    "data.head()"
   ]
  },
  {
   "cell_type": "code",
   "execution_count": 93,
   "metadata": {},
   "outputs": [
    {
     "data": {
      "text/plain": [
       "(18978, 29)"
      ]
     },
     "execution_count": 93,
     "metadata": {},
     "output_type": "execute_result"
    }
   ],
   "source": [
    "data.shape"
   ]
  },
  {
   "cell_type": "code",
   "execution_count": 94,
   "metadata": {},
   "outputs": [],
   "source": [
    "data.to_csv('data/table1_data.csv', index_label='Case Key')\n"
   ]
  },
  {
   "cell_type": "code",
   "execution_count": null,
   "metadata": {},
   "outputs": [],
   "source": []
  }
 ],
 "metadata": {
  "interpreter": {
   "hash": "916dbcbb3f70747c44a77c7bcd40155683ae19c65e1c03b4aa3499c5328201f1"
  },
  "kernelspec": {
   "display_name": "Python 3.8.10 64-bit",
   "language": "python",
   "name": "python3"
  },
  "language_info": {
   "codemirror_mode": {
    "name": "ipython",
    "version": 3
   },
   "file_extension": ".py",
   "mimetype": "text/x-python",
   "name": "python",
   "nbconvert_exporter": "python",
   "pygments_lexer": "ipython3",
   "version": "3.8.10"
  },
  "orig_nbformat": 4
 },
 "nbformat": 4,
 "nbformat_minor": 2
}
