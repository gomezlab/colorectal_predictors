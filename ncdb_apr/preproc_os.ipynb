{
 "cells": [
  {
   "cell_type": "code",
   "execution_count": 84,
   "metadata": {},
   "outputs": [],
   "source": [
    "import pandas as pd\n",
    "import numpy as np"
   ]
  },
  {
   "cell_type": "code",
   "execution_count": 85,
   "metadata": {},
   "outputs": [
    {
     "name": "stderr",
     "output_type": "stream",
     "text": [
      "/home/kchen/.local/lib/python3.8/site-packages/IPython/core/interactiveshell.py:3361: DtypeWarning: Columns (164,167,170,173,176,179,190,193,200,203,219,220,245,246,266,307) have mixed types.Specify dtype option on import or set low_memory=False.\n",
      "  exec(code_obj, self.user_global_ns, self.user_ns)\n"
     ]
    },
    {
     "data": {
      "text/plain": [
       "['HIV_STATUS']"
      ]
     },
     "execution_count": 85,
     "metadata": {},
     "output_type": "execute_result"
    }
   ],
   "source": [
    "data = pd.read_csv('data/ascc.csv', index_col='PUF_CASE_ID')\n",
    "hpv_cols = [col for col in data.columns if 'hiv' in col.lower()]\n",
    "hpv_cols"
   ]
  },
  {
   "cell_type": "code",
   "execution_count": 86,
   "metadata": {},
   "outputs": [
    {
     "data": {
      "text/plain": [
       "['PUF_FACILITY_ID',\n",
       " 'FACILITY_TYPE_CD',\n",
       " 'FACILITY_LOCATION_CD',\n",
       " 'AGE',\n",
       " 'SEX',\n",
       " 'RACE',\n",
       " 'SPANISH_HISPANIC_ORIGIN',\n",
       " 'INSURANCE_STATUS',\n",
       " 'MED_INC_QUAR_00',\n",
       " 'NO_HSD_QUAR_00',\n",
       " 'UR_CD_03',\n",
       " 'MED_INC_QUAR_12',\n",
       " 'NO_HSD_QUAR_12',\n",
       " 'UR_CD_13',\n",
       " 'CROWFLY',\n",
       " 'CDCC_TOTAL_BEST',\n",
       " 'SEQUENCE_NUMBER',\n",
       " 'CLASS_OF_CASE',\n",
       " 'YEAR_OF_DIAGNOSIS',\n",
       " 'PRIMARY_SITE',\n",
       " 'LATERALITY',\n",
       " 'HISTOLOGY',\n",
       " 'BEHAVIOR',\n",
       " 'GRADE',\n",
       " 'DIAGNOSTIC_CONFIRMATION',\n",
       " 'TUMOR_SIZE',\n",
       " 'REGIONAL_NODES_POSITIVE',\n",
       " 'REGIONAL_NODES_EXAMINED',\n",
       " 'DX_STAGING_PROC_DAYS',\n",
       " 'RX_SUMM_DXSTG_PROC',\n",
       " 'TNM_CLIN_T',\n",
       " 'TNM_CLIN_N',\n",
       " 'TNM_CLIN_M',\n",
       " 'TNM_CLIN_STAGE_GROUP',\n",
       " 'TNM_PATH_T',\n",
       " 'TNM_PATH_N',\n",
       " 'TNM_PATH_M',\n",
       " 'TNM_PATH_STAGE_GROUP',\n",
       " 'TNM_EDITION_NUMBER',\n",
       " 'ANALYTIC_STAGE_GROUP',\n",
       " 'CS_METS_AT_DX',\n",
       " 'CS_METS_EVAL',\n",
       " 'CS_EXTENSION',\n",
       " 'CS_TUMOR_SIZEEXT_EVAL',\n",
       " 'CS_METS_DX_BONE',\n",
       " 'CS_METS_DX_BRAIN',\n",
       " 'CS_METS_DX_LIVER',\n",
       " 'CS_METS_DX_LUNG',\n",
       " 'LYMPH_VASCULAR_INVASION',\n",
       " 'CS_SITESPECIFIC_FACTOR_1',\n",
       " 'CS_SITESPECIFIC_FACTOR_2',\n",
       " 'CS_SITESPECIFIC_FACTOR_3',\n",
       " 'CS_SITESPECIFIC_FACTOR_4',\n",
       " 'CS_SITESPECIFIC_FACTOR_5',\n",
       " 'CS_SITESPECIFIC_FACTOR_6',\n",
       " 'CS_SITESPECIFIC_FACTOR_7',\n",
       " 'CS_SITESPECIFIC_FACTOR_8',\n",
       " 'CS_SITESPECIFIC_FACTOR_9',\n",
       " 'CS_SITESPECIFIC_FACTOR_10',\n",
       " 'CS_SITESPECIFIC_FACTOR_11',\n",
       " 'CS_SITESPECIFIC_FACTOR_12',\n",
       " 'CS_SITESPECIFIC_FACTOR_13',\n",
       " 'CS_SITESPECIFIC_FACTOR_14',\n",
       " 'CS_SITESPECIFIC_FACTOR_15',\n",
       " 'CS_SITESPECIFIC_FACTOR_16',\n",
       " 'CS_SITESPECIFIC_FACTOR_17',\n",
       " 'CS_SITESPECIFIC_FACTOR_18',\n",
       " 'CS_SITESPECIFIC_FACTOR_19',\n",
       " 'CS_SITESPECIFIC_FACTOR_20',\n",
       " 'CS_SITESPECIFIC_FACTOR_21',\n",
       " 'CS_SITESPECIFIC_FACTOR_22',\n",
       " 'CS_SITESPECIFIC_FACTOR_23',\n",
       " 'CS_SITESPECIFIC_FACTOR_24',\n",
       " 'CS_SITESPECIFIC_FACTOR_25',\n",
       " 'CS_VERSION_LATEST',\n",
       " 'DX_RX_STARTED_DAYS',\n",
       " 'DX_SURG_STARTED_DAYS',\n",
       " 'DX_DEFSURG_STARTED_DAYS',\n",
       " 'RX_SUMM_SURG_PRIM_SITE',\n",
       " 'RX_HOSP_SURG_APPR_2010',\n",
       " 'RX_SUMM_SURGICAL_MARGINS',\n",
       " 'RX_SUMM_SCOPE_REG_LN_SUR',\n",
       " 'RX_SUMM_SURG_OTH_REGDIS',\n",
       " 'SURG_DISCHARGE_DAYS',\n",
       " 'READM_HOSP_30_DAYS',\n",
       " 'REASON_FOR_NO_SURGERY',\n",
       " 'DX_RAD_STARTED_DAYS',\n",
       " 'RAD_LOCATION_OF_RX',\n",
       " 'RX_SUMM_SURGRAD_SEQ',\n",
       " 'RAD_ELAPSED_RX_DAYS',\n",
       " 'REASON_FOR_NO_RADIATION',\n",
       " 'DX_SYSTEMIC_STARTED_DAYS',\n",
       " 'DX_CHEMO_STARTED_DAYS',\n",
       " 'RX_SUMM_CHEMO',\n",
       " 'DX_HORMONE_STARTED_DAYS',\n",
       " 'RX_SUMM_HORMONE',\n",
       " 'DX_IMMUNO_STARTED_DAYS',\n",
       " 'RX_SUMM_IMMUNOTHERAPY',\n",
       " 'RX_SUMM_TRNSPLNT_ENDO',\n",
       " 'RX_SUMM_SYSTEMIC_SUR_SEQ',\n",
       " 'DX_OTHER_STARTED_DAYS',\n",
       " 'RX_SUMM_OTHER',\n",
       " 'PALLIATIVE_CARE',\n",
       " 'RX_SUMM_TREATMENT_STATUS',\n",
       " 'PUF_30_DAY_MORT_CD',\n",
       " 'PUF_90_DAY_MORT_CD',\n",
       " 'DX_LASTCONTACT_DEATH_MONTHS',\n",
       " 'PUF_VITAL_STATUS',\n",
       " 'RX_HOSP_SURG_PRIM_SITE',\n",
       " 'RX_HOSP_CHEMO',\n",
       " 'RX_HOSP_IMMUNOTHERAPY',\n",
       " 'RX_HOSP_HORMONE',\n",
       " 'RX_HOSP_OTHER',\n",
       " 'PUF_MULT_SOURCE',\n",
       " 'PUF_REFERENCE_DATE_FLAG',\n",
       " 'RX_SUMM_SCOPE_REG_LN_2012',\n",
       " 'RX_HOSP_DXSTG_PROC',\n",
       " 'PALLIATIVE_CARE_HOSP',\n",
       " 'TUMOR_SIZE_SUMMARY_2016',\n",
       " 'METS_AT_DX_OTHER',\n",
       " 'METS_AT_DX_DISTANT_LN',\n",
       " 'METS_AT_DX_BONE',\n",
       " 'METS_AT_DX_BRAIN',\n",
       " 'METS_AT_DX_LIVER',\n",
       " 'METS_AT_DX_LUNG',\n",
       " 'NO_HSD_QUAR_2016',\n",
       " 'MED_INC_QUAR_2016',\n",
       " 'PUF_MEDICAID_EXPN_CODE',\n",
       " 'PHASE_I_RT_VOLUME',\n",
       " 'PHASE_I_RT_TO_LN',\n",
       " 'PHASE_I_DOSE_FRACT',\n",
       " 'PHASE_I_NUM_FRACT',\n",
       " 'PHASE_I_BEAM_TECH',\n",
       " 'PHASE_I_TOTAL_DOSE',\n",
       " 'PHASE_I_RT_MODALITY',\n",
       " 'PHASE_II_RT_VOLUME',\n",
       " 'PHASE_II_RT_TO_LN',\n",
       " 'PHASE_II_DOSE_FRACT',\n",
       " 'PHASE_II_NUM_FRACT',\n",
       " 'PHASE_II_BEAM_TECH',\n",
       " 'PHASE_II_TOTAL_DOSE',\n",
       " 'PHASE_II_RT_MODALITY',\n",
       " 'PHASE_III_RT_VOLUME',\n",
       " 'PHASE_III_RT_TO_LN',\n",
       " 'PHASE_III_DOSE_FRACT',\n",
       " 'PHASE_III_NUM_FRACT',\n",
       " 'PHASE_III_BEAM_TECH',\n",
       " 'PHASE_III_TOTAL_DOSE',\n",
       " 'PHASE_III_RT_MODALITY',\n",
       " 'NUMBER_PHASES_RAD_RX',\n",
       " 'RAD_RX_DISC_EARLY',\n",
       " 'TOTAL_DOSE',\n",
       " 'ADENOID_CYSTIC_BSLD',\n",
       " 'ADENOPATHY',\n",
       " 'AFP_POST_ORCH_RANGE',\n",
       " 'AFP_POST_ORCH_VALUE',\n",
       " 'AFP_PRE_INTERP',\n",
       " 'AFP_PRE_ORCH_RANGE',\n",
       " 'AFP_PRE_ORCH_VALUE',\n",
       " 'AFP_PRE_VALUE',\n",
       " 'AJCC_ID',\n",
       " 'AJCC_TNM_CLIN_M',\n",
       " 'AJCC_TNM_CLIN_N',\n",
       " 'AJCC_TNM_CLIN_N_SFX',\n",
       " 'AJCC_TNM_CLIN_STG_GRP',\n",
       " 'AJCC_TNM_CLIN_T',\n",
       " 'AJCC_TNM_CLIN_T_SFX',\n",
       " 'AJCC_TNM_PATH_M',\n",
       " 'AJCC_TNM_PATH_N',\n",
       " 'AJCC_TNM_PATH_N_SFX',\n",
       " 'AJCC_TNM_PATH_STG_GRP',\n",
       " 'AJCC_TNM_PATH_T',\n",
       " 'AJCC_TNM_PATH_T_SFX',\n",
       " 'AJCC_TNM_POST_PATH_M',\n",
       " 'AJCC_TNM_POST_PATH_N',\n",
       " 'AJCC_TNM_POST_PATH_N_SFX',\n",
       " 'AJCC_TNM_POST_PATH_STG_GRP',\n",
       " 'AJCC_TNM_POST_PATH_T',\n",
       " 'AJCC_TNM_POST_PATH_T_SFX',\n",
       " 'ALBUMIN_PRE_TX_LEVL',\n",
       " 'ANEMIA',\n",
       " 'B_SYMPTOMS',\n",
       " 'BASAL_DIAMETER',\n",
       " 'BETA2MG_PRE_TX_LVL',\n",
       " 'BEYOND_CAPSULE',\n",
       " 'BILIRUBIN_PRE_UNIT',\n",
       " 'BILIRUBIN_PRE_VALUE',\n",
       " 'BONE_INVASION',\n",
       " 'BRAIN_MOL_MARKERS',\n",
       " 'BRESLOW_THICKNESS',\n",
       " 'CA125_PRE_INTERP',\n",
       " 'CEA_PRE_INTERP',\n",
       " 'CEA_PRE_VALUE',\n",
       " 'CHROMOSOME_19QLOH',\n",
       " 'CHROMOSOME_1PLOH',\n",
       " 'CHROMOSOME_3_STATUS',\n",
       " 'CHROMOSOME_8Q_STAT',\n",
       " 'CREATININE_PRE_UNIT',\n",
       " 'CREATININE_PRE_VALU',\n",
       " 'CRM',\n",
       " 'ENE_CLIN_HN',\n",
       " 'ENE_CLIN_NOT_HN',\n",
       " 'ENE_PATH_HN',\n",
       " 'ENE_PATH_NOT_HN',\n",
       " 'ER_PERCENT_POS_OR_RNG',\n",
       " 'ER_SUMMARY',\n",
       " 'ER_TOTAL_ALLRED',\n",
       " 'ESOPH_EPICENTER',\n",
       " 'EXTRAVASC_MATRIX',\n",
       " 'FIBROSIS_SCORE',\n",
       " 'FIGO_STAGE',\n",
       " 'GEST_PROGNOST_INDEX',\n",
       " 'GLEASON_PAT_CLIN',\n",
       " 'GLEASON_PAT_PATH',\n",
       " 'GLEASON_SCORE_CLIN',\n",
       " 'GLEASON_SCORE_PATH',\n",
       " 'GLEASON_SCORE_TERTIARY_PT',\n",
       " 'GRADE_CLIN',\n",
       " 'GRADE_PATH',\n",
       " 'GRADE_PATH_POST',\n",
       " 'HCG_POST_ORCH_RANGE',\n",
       " 'HCG_POST_ORCH_VALUE',\n",
       " 'HCG_PRE_ORCH_RANGE',\n",
       " 'HCG_PRE_ORCH_VALUE',\n",
       " 'HER2_ICH_SUMMARY',\n",
       " 'HER2_ISH_DUAL_NUM',\n",
       " 'HER2_ISH_DUAL_RATIO',\n",
       " 'HER2_ISH_SINGLE_NUM',\n",
       " 'HER2_ISH_SUMMARY',\n",
       " 'HER2_OVERALL_SUMM',\n",
       " 'HERITABLE_TRAIT',\n",
       " 'HIGH_RISK_CYTOGENET',\n",
       " 'HIGH_RISK_HIST_FEAT',\n",
       " 'HIV_STATUS',\n",
       " 'IMMUNE_SUPP',\n",
       " 'INR_PRO_TIME',\n",
       " 'IPSI_ADRENAL_INVOL',\n",
       " 'JAK2',\n",
       " 'KI67',\n",
       " 'KIT_GENE_IHC',\n",
       " 'KRAS',\n",
       " 'LDH_POST_ORCH_RANGE',\n",
       " 'LDH_PRE_ORCH_RANGE',\n",
       " 'LDH_PRE_TX_LEVEL',\n",
       " 'LDH_PRE_TX_VALUE',\n",
       " 'LDH_UPPER_NORMAL',\n",
       " 'LN_DIST_MEDIAS_SCALN',\n",
       " 'LN_DISTANT_METHOD',\n",
       " 'LN_FEM_ING_PARA_APELV',\n",
       " 'LN_ITC',\n",
       " 'LN_LATERALITY',\n",
       " 'LN_METHOD_FEMING',\n",
       " 'LN_METHOD_PARA_AORT',\n",
       " 'LN_METHOD_PELVIC',\n",
       " 'LN_POS_AX_LEVELS_I_II',\n",
       " 'LN_SIZE',\n",
       " 'LNHN_LEVELS_I_III',\n",
       " 'LNHN_LEVELS_IV_V',\n",
       " 'LNHN_LEVELS_OTHER',\n",
       " 'LNHN_LEVELS_VI_VII',\n",
       " 'LYMPHOCYTOSIS',\n",
       " 'MAJOR_VEIN_INVOLV',\n",
       " 'METHYLATION_O6MGMT',\n",
       " 'MICROVASC_DENSITY',\n",
       " 'MITOTIC_COUNT_UVEA',\n",
       " 'MITOTIC_RATE_MELANO',\n",
       " 'MSI',\n",
       " 'MULTIGENE_METHOD',\n",
       " 'MULTIGENE_RESULTS',\n",
       " 'NCCN_IPI',\n",
       " 'NUM_CORES_EXAM',\n",
       " 'NUM_CORES_POS',\n",
       " 'NUM_NODES_EXAM_PARA_A',\n",
       " 'NUM_NODES_POS_PARA_A',\n",
       " 'NUM_PELV_NODES_EXAM',\n",
       " 'NUM_PELV_NODES_POS',\n",
       " 'ONCOTYPE_RISK_DCIS',\n",
       " 'ONCOTYPE_RISK_INVAS',\n",
       " 'ONCOTYPE_SCORE_DCIS',\n",
       " 'ONCOTYPE_SCORE_INV',\n",
       " 'ORGANOMEGALY',\n",
       " 'P_SCLER_CHOLANGITIS',\n",
       " 'PERCNT_NECROS_POST',\n",
       " 'PERINEURAL_INV',\n",
       " 'PERIPH_BLOOD_INV',\n",
       " 'PERITONEAL_CYTOL',\n",
       " 'PLEURAL_EFFUSION',\n",
       " 'PLEURAL_INV',\n",
       " 'PR_PERCENT_POS_OR_RNG',\n",
       " 'PR_SUMMARY',\n",
       " 'PR_TOTAL_ALLRED',\n",
       " 'PROSTATE_PATH_EXT',\n",
       " 'PSA',\n",
       " 'RSPNS_TO_NEOADJUVT',\n",
       " 'S_CAT_CLIN',\n",
       " 'S_CAT_PATH',\n",
       " 'SARCOMATOID',\n",
       " 'SCHEMA_DISC_1',\n",
       " 'SCHEMA_DISC_2',\n",
       " 'SCHEMA_DISC_3',\n",
       " 'SCHEMA_ID',\n",
       " 'SEP_NODULES',\n",
       " 'SLN_EXAM',\n",
       " 'SLN_POS',\n",
       " 'THICKNESS',\n",
       " 'THROMBOCYTOPENIA',\n",
       " 'TUMOR_DEPOSITS',\n",
       " 'TUMOR_GROWTH_PAT',\n",
       " 'ULCERATION',\n",
       " 'SENTINEL_LNBX_STARTED_DAY',\n",
       " 'REG_LN_DISS_STARTED_DAY',\n",
       " 'RESID_POST_CYTOREDU']"
      ]
     },
     "execution_count": 86,
     "metadata": {},
     "output_type": "execute_result"
    }
   ],
   "source": [
    "data.columns.to_list()"
   ]
  },
  {
   "cell_type": "code",
   "execution_count": 87,
   "metadata": {},
   "outputs": [],
   "source": [
    "id_cols = ['PUF_CASE_ID', 'YEAR_OF_DIAGNOSIS', 'CLASS_OF_CASE']\n",
    "\n",
    "fac_cols = [ 'PUF_FACILITY_ID', 'FACILITY_TYPE_CD', 'FACILITY_LOCATION_CD']\n",
    "\n",
    "dem_cols = ['AGE', 'SEX', 'RACE', 'SPANISH_HISPANIC_ORIGIN']\n",
    "\n",
    "ses_cols = ['INSURANCE_STATUS', 'UR_CD_13', 'CROWFLY', 'NO_HSD_QUAR_2016', 'MED_INC_QUAR_2016', 'PUF_MEDICAID_EXPN_CODE']\n",
    " \n",
    "medco_cols = ['CDCC_TOTAL_BEST']\n",
    "\n",
    "tumor_cols = ['HISTOLOGY', 'GRADE', 'GRADE_CLIN', 'TUMOR_SIZE', 'TUMOR_SIZE_SUMMARY_2016', 'TNM_CLIN_T', 'TNM_CLIN_N', 'TNM_CLIN_M', 'TNM_CLIN_STAGE_GROUP', 'TNM_PATH_T', 'TNM_PATH_N', 'TNM_PATH_M', 'TNM_PATH_STAGE_GROUP', 'AJCC_TNM_CLIN_T', 'AJCC_TNM_CLIN_N', 'AJCC_TNM_CLIN_M', 'AJCC_TNM_CLIN_STG_GRP', 'AJCC_TNM_PATH_T', 'AJCC_TNM_PATH_N', 'AJCC_TNM_PATH_M', 'AJCC_TNM_PATH_STG_GRP', 'AJCC_TNM_POST_PATH_T',  'AJCC_TNM_POST_PATH_N', 'AJCC_TNM_POST_PATH_M', 'AJCC_TNM_POST_PATH_STG_GRP', 'LYMPH_VASCULAR_INVASION',]\n",
    "\n",
    "rad_cols = ['RAD_LOCATION_OF_RX','DX_RAD_STARTED_DAYS', 'RAD_ELAPSED_RX_DAYS', 'REASON_FOR_NO_RADIATION', 'TOTAL_DOSE',]\n",
    "\n",
    "chemo_cols = ['RX_SUMM_CHEMO', 'DX_CHEMO_STARTED_DAYS', 'RX_SUMM_SYSTEMIC_SUR_SEQ']\n",
    "\n",
    "surg_cols = ['RX_SUMM_SURGRAD_SEQ', 'PALLIATIVE_CARE', 'DX_SURG_STARTED_DAYS', 'RX_SUMM_SURG_PRIM_SITE', 'RX_SUMM_SURGICAL_MARGINS','SURG_DISCHARGE_DAYS', 'READM_HOSP_30_DAYS', 'REASON_FOR_NO_SURGERY', ]\n",
    "\n",
    "os_cols = ['DX_LASTCONTACT_DEATH_MONTHS', 'PUF_VITAL_STATUS',]\n",
    " \n",
    "incl = id_cols + fac_cols + dem_cols + ses_cols + medco_cols + tumor_cols + rad_cols + chemo_cols + surg_cols + os_cols"
   ]
  },
  {
   "cell_type": "code",
   "execution_count": 88,
   "metadata": {},
   "outputs": [
    {
     "data": {
      "text/plain": [
       "61"
      ]
     },
     "execution_count": 88,
     "metadata": {},
     "output_type": "execute_result"
    }
   ],
   "source": [
    "len(incl)"
   ]
  },
  {
   "cell_type": "code",
   "execution_count": 89,
   "metadata": {},
   "outputs": [
    {
     "data": {
      "text/plain": [
       "(85027, 60)"
      ]
     },
     "execution_count": 89,
     "metadata": {},
     "output_type": "execute_result"
    }
   ],
   "source": [
    "data = pd.read_csv('data/ascc.csv', usecols=incl, na_values=[999, 99, 999999], low_memory=False, index_col='PUF_CASE_ID')\n",
    "data.shape"
   ]
  },
  {
   "cell_type": "code",
   "execution_count": 90,
   "metadata": {},
   "outputs": [
    {
     "name": "stdout",
     "output_type": "stream",
     "text": [
      "(85027, 60)\n",
      "(80128, 60)\n"
     ]
    }
   ],
   "source": [
    "print(data.shape)\n",
    "data = data[data['CLASS_OF_CASE'] != 0]\n",
    "print(data.shape)\n",
    "data.drop(columns=['CLASS_OF_CASE'], inplace=True)"
   ]
  },
  {
   "cell_type": "code",
   "execution_count": 91,
   "metadata": {},
   "outputs": [],
   "source": [
    "\n",
    "#define a function that returns value counts and value percentages for a given column\n",
    "def table(df, col):\n",
    "    return pd.concat([df[col].value_counts(), df[col].value_counts(normalize=True)], axis=1, keys=('counts', 'percent'))\n",
    "def perc_APR(df):\n",
    "    return table(df, 'APR')['percent'][1]\n",
    "#create a dataframe with the counts and percentages of a variable by year\n",
    "def by_year(df, col):\n",
    "    cts = pd.crosstab(df['YEAR_OF_DIAGNOSIS'], df[col])\n",
    "    percs = pd.crosstab(df['YEAR_OF_DIAGNOSIS'], df[col], normalize='index')\n",
    "    percs = percs.round(2) * 100\n",
    "    percs = percs.astype(str)\n",
    "    cts = cts.astype(str)\n",
    "    comb = cts + ' (' + percs + '%)'\n",
    "    comb['total'] = df['YEAR_OF_DIAGNOSIS'].value_counts().sort_index()\n",
    "    return comb\n",
    "def by_stage(df, col):\n",
    "    cts = pd.crosstab(df['stage'], df[col])\n",
    "    percs = pd.crosstab(df['stage'], df[col], normalize='index')\n",
    "    percs = percs.round(2) * 100\n",
    "    percs = percs.astype(str)\n",
    "    cts = cts.astype(str)\n",
    "    comb = cts + ' (' + percs + '%)'\n",
    "    comb['total'] = df['stage'].value_counts().sort_index()\n",
    "    return comb"
   ]
  },
  {
   "cell_type": "code",
   "execution_count": 92,
   "metadata": {},
   "outputs": [
    {
     "data": {
      "text/plain": [
       "1    42095\n",
       "0    34607\n",
       "2      945\n",
       "9      836\n",
       "7      653\n",
       "8      527\n",
       "6      374\n",
       "5       91\n",
       "Name: REASON_FOR_NO_SURGERY, dtype: int64"
      ]
     },
     "execution_count": 92,
     "metadata": {},
     "output_type": "execute_result"
    }
   ],
   "source": [
    "data['REASON_FOR_NO_SURGERY'].value_counts()"
   ]
  },
  {
   "cell_type": "code",
   "execution_count": 93,
   "metadata": {},
   "outputs": [
    {
     "data": {
      "text/plain": [
       "0.0    39630\n",
       "NaN    35296\n",
       "1.0     5202\n",
       "Name: APR, dtype: int64"
      ]
     },
     "execution_count": 93,
     "metadata": {},
     "output_type": "execute_result"
    }
   ],
   "source": [
    "data['APR'] = np.NaN\n",
    "data.loc[data['RX_SUMM_SURG_PRIM_SITE'] == 60, 'APR'] = 1\n",
    "data.loc[data['RX_SUMM_SURG_PRIM_SITE'] == 61, 'APR'] = 1\n",
    "data.loc[data['RX_SUMM_SURG_PRIM_SITE'] == 62, 'APR'] = 1\n",
    "data.loc[data['RX_SUMM_SURG_PRIM_SITE'] == 63, 'APR'] = 1\n",
    "\n",
    "data.loc[(\n",
    "            (data['REASON_FOR_NO_SURGERY'] == 1) &\n",
    "            (data['RX_SUMM_SURG_PRIM_SITE'] == 0) & \n",
    "            (data['PALLIATIVE_CARE'] == 0) &\n",
    "            # (data['DX_LASTCONTACT_DEATH_MONTHS'] >= 36) &\n",
    "            (data['RX_SUMM_SURGRAD_SEQ'] == 0)\n",
    "            ), 'APR'] = 0\n",
    "data['APR'].value_counts(dropna=False)"
   ]
  },
  {
   "cell_type": "code",
   "execution_count": 94,
   "metadata": {},
   "outputs": [],
   "source": [
    "histo_tsikitis = [8000, 8010, 8083, 8120, 8124, 8560, 8070, 8071, 8072, 8076, 8083, 8481, 8051, 8123]"
   ]
  },
  {
   "cell_type": "code",
   "execution_count": 95,
   "metadata": {},
   "outputs": [],
   "source": [
    "#create a list of numbers between 8070 and 8078\n",
    "histo_list = []\n",
    "for i in range(8070, 8079):\n",
    "    histo_list.append(i)\n",
    "#add the codes in histo_tiskitis to the list, unless they are already in the list\n",
    "for x in histo_tsikitis:\n",
    "    if x not in histo_list:\n",
    "        histo_list.append(x)"
   ]
  },
  {
   "cell_type": "code",
   "execution_count": 96,
   "metadata": {},
   "outputs": [
    {
     "data": {
      "text/html": [
       "<div>\n",
       "<style scoped>\n",
       "    .dataframe tbody tr th:only-of-type {\n",
       "        vertical-align: middle;\n",
       "    }\n",
       "\n",
       "    .dataframe tbody tr th {\n",
       "        vertical-align: top;\n",
       "    }\n",
       "\n",
       "    .dataframe thead th {\n",
       "        text-align: right;\n",
       "    }\n",
       "</style>\n",
       "<table border=\"1\" class=\"dataframe\">\n",
       "  <thead>\n",
       "    <tr style=\"text-align: right;\">\n",
       "      <th></th>\n",
       "      <th>criteria</th>\n",
       "      <th>before</th>\n",
       "      <th>after</th>\n",
       "      <th>drop</th>\n",
       "      <th>% APR</th>\n",
       "    </tr>\n",
       "  </thead>\n",
       "  <tbody>\n",
       "  </tbody>\n",
       "</table>\n",
       "</div>"
      ],
      "text/plain": [
       "Empty DataFrame\n",
       "Columns: [criteria, before, after, drop, % APR]\n",
       "Index: []"
      ]
     },
     "execution_count": 96,
     "metadata": {},
     "output_type": "execute_result"
    }
   ],
   "source": [
    "drop_counts = pd.DataFrame(columns=['criteria', 'before', 'after', 'drop', '% APR'])\n",
    "drop_counts.head()"
   ]
  },
  {
   "cell_type": "code",
   "execution_count": 97,
   "metadata": {},
   "outputs": [],
   "source": [
    "drop_counts = drop_counts.append({'criteria': 'total', 'before': 0, 'after': data.shape[0], 'drop': 0, '% APR': table(data, 'APR')['percent'][1]}, ignore_index=True)"
   ]
  },
  {
   "cell_type": "code",
   "execution_count": 98,
   "metadata": {},
   "outputs": [
    {
     "data": {
      "text/html": [
       "<div>\n",
       "<style scoped>\n",
       "    .dataframe tbody tr th:only-of-type {\n",
       "        vertical-align: middle;\n",
       "    }\n",
       "\n",
       "    .dataframe tbody tr th {\n",
       "        vertical-align: top;\n",
       "    }\n",
       "\n",
       "    .dataframe thead th {\n",
       "        text-align: right;\n",
       "    }\n",
       "</style>\n",
       "<table border=\"1\" class=\"dataframe\">\n",
       "  <thead>\n",
       "    <tr style=\"text-align: right;\">\n",
       "      <th></th>\n",
       "      <th>criteria</th>\n",
       "      <th>before</th>\n",
       "      <th>after</th>\n",
       "      <th>drop</th>\n",
       "      <th>% APR</th>\n",
       "    </tr>\n",
       "  </thead>\n",
       "  <tbody>\n",
       "    <tr>\n",
       "      <th>0</th>\n",
       "      <td>total</td>\n",
       "      <td>0</td>\n",
       "      <td>80128</td>\n",
       "      <td>0</td>\n",
       "      <td>0.116033</td>\n",
       "    </tr>\n",
       "    <tr>\n",
       "      <th>1</th>\n",
       "      <td>histology</td>\n",
       "      <td>80128</td>\n",
       "      <td>70610</td>\n",
       "      <td>9518</td>\n",
       "      <td>0.063928</td>\n",
       "    </tr>\n",
       "  </tbody>\n",
       "</table>\n",
       "</div>"
      ],
      "text/plain": [
       "    criteria before  after  drop     % APR\n",
       "0      total      0  80128     0  0.116033\n",
       "1  histology  80128  70610  9518  0.063928"
      ]
     },
     "execution_count": 98,
     "metadata": {},
     "output_type": "execute_result"
    }
   ],
   "source": [
    "#keep only histologies in the list\n",
    "before = data.shape[0]\n",
    "data = data[data['HISTOLOGY'].isin(histo_list)]\n",
    "after = data.shape[0]\n",
    "drop = before - after\n",
    "drop_counts = drop_counts.append({'criteria': 'histology', 'before': before, 'after': after, 'drop': drop, '% APR': table(data, 'APR')['percent'][1]}, ignore_index=True)\n",
    "drop_counts.head()"
   ]
  },
  {
   "cell_type": "code",
   "execution_count": 99,
   "metadata": {},
   "outputs": [
    {
     "data": {
      "text/html": [
       "<div>\n",
       "<style scoped>\n",
       "    .dataframe tbody tr th:only-of-type {\n",
       "        vertical-align: middle;\n",
       "    }\n",
       "\n",
       "    .dataframe tbody tr th {\n",
       "        vertical-align: top;\n",
       "    }\n",
       "\n",
       "    .dataframe thead th {\n",
       "        text-align: right;\n",
       "    }\n",
       "</style>\n",
       "<table border=\"1\" class=\"dataframe\">\n",
       "  <thead>\n",
       "    <tr style=\"text-align: right;\">\n",
       "      <th></th>\n",
       "      <th>criteria</th>\n",
       "      <th>before</th>\n",
       "      <th>after</th>\n",
       "      <th>drop</th>\n",
       "      <th>% APR</th>\n",
       "    </tr>\n",
       "  </thead>\n",
       "  <tbody>\n",
       "    <tr>\n",
       "      <th>0</th>\n",
       "      <td>total</td>\n",
       "      <td>0</td>\n",
       "      <td>80128</td>\n",
       "      <td>0</td>\n",
       "      <td>0.116033</td>\n",
       "    </tr>\n",
       "    <tr>\n",
       "      <th>1</th>\n",
       "      <td>histology</td>\n",
       "      <td>80128</td>\n",
       "      <td>70610</td>\n",
       "      <td>9518</td>\n",
       "      <td>0.063928</td>\n",
       "    </tr>\n",
       "    <tr>\n",
       "      <th>2</th>\n",
       "      <td>no radiation</td>\n",
       "      <td>70610</td>\n",
       "      <td>51796</td>\n",
       "      <td>18814</td>\n",
       "      <td>0.039923</td>\n",
       "    </tr>\n",
       "  </tbody>\n",
       "</table>\n",
       "</div>"
      ],
      "text/plain": [
       "       criteria before  after   drop     % APR\n",
       "0         total      0  80128      0  0.116033\n",
       "1     histology  80128  70610   9518  0.063928\n",
       "2  no radiation  70610  51796  18814  0.039923"
      ]
     },
     "execution_count": 99,
     "metadata": {},
     "output_type": "execute_result"
    }
   ],
   "source": [
    "before = data.shape[0]\n",
    "data = data[data['REASON_FOR_NO_RADIATION'] == 0]\n",
    "after = data.shape[0]\n",
    "data.drop(columns=['REASON_FOR_NO_RADIATION'], inplace=True)\n",
    "drop = before - after\n",
    "drop_counts = drop_counts.append({'criteria': 'no radiation', 'before': before, 'after': after, 'drop': drop, '% APR': perc_APR(data)}, ignore_index=True)\n",
    "drop_counts.head()"
   ]
  },
  {
   "cell_type": "code",
   "execution_count": 100,
   "metadata": {},
   "outputs": [
    {
     "data": {
      "text/plain": [
       "count     23462.000000\n",
       "mean       7244.643253\n",
       "std       54440.472918\n",
       "min           0.000000\n",
       "25%           0.000000\n",
       "50%        5040.000000\n",
       "75%        5400.000000\n",
       "max      999998.000000\n",
       "Name: TOTAL_DOSE, dtype: float64"
      ]
     },
     "execution_count": 100,
     "metadata": {},
     "output_type": "execute_result"
    }
   ],
   "source": [
    "data['TOTAL_DOSE'].describe()"
   ]
  },
  {
   "cell_type": "code",
   "execution_count": 101,
   "metadata": {},
   "outputs": [
    {
     "data": {
      "text/plain": [
       "<AxesSubplot:>"
      ]
     },
     "execution_count": 101,
     "metadata": {},
     "output_type": "execute_result"
    },
    {
     "data": {
      "image/png": "[encoded data removed]",
      "text/plain": [
       "<Figure size 432x288 with 1 Axes>"
      ]
     },
     "metadata": {
      "needs_background": "light"
     },
     "output_type": "display_data"
    }
   ],
   "source": [
    "data.loc[data['TOTAL_DOSE'] > 20000, 'TOTAL_DOSE'] = np.NaN\n",
    "data.loc[data['TOTAL_DOSE'] > 10000, 'TOTAL_DOSE'] = 10000\n",
    "data['TOTAL_DOSE'].hist()"
   ]
  },
  {
   "cell_type": "code",
   "execution_count": 102,
   "metadata": {},
   "outputs": [],
   "source": [
    "data['stage'] = np.NaN"
   ]
  },
  {
   "cell_type": "code",
   "execution_count": 103,
   "metadata": {},
   "outputs": [
    {
     "data": {
      "text/html": [
       "<div>\n",
       "<style scoped>\n",
       "    .dataframe tbody tr th:only-of-type {\n",
       "        vertical-align: middle;\n",
       "    }\n",
       "\n",
       "    .dataframe tbody tr th {\n",
       "        vertical-align: top;\n",
       "    }\n",
       "\n",
       "    .dataframe thead th {\n",
       "        text-align: right;\n",
       "    }\n",
       "</style>\n",
       "<table border=\"1\" class=\"dataframe\">\n",
       "  <thead>\n",
       "    <tr style=\"text-align: right;\">\n",
       "      <th></th>\n",
       "      <th>criteria</th>\n",
       "      <th>before</th>\n",
       "      <th>after</th>\n",
       "      <th>drop</th>\n",
       "      <th>% APR</th>\n",
       "    </tr>\n",
       "  </thead>\n",
       "  <tbody>\n",
       "    <tr>\n",
       "      <th>0</th>\n",
       "      <td>total</td>\n",
       "      <td>0</td>\n",
       "      <td>80128</td>\n",
       "      <td>0</td>\n",
       "      <td>0.116033</td>\n",
       "    </tr>\n",
       "    <tr>\n",
       "      <th>1</th>\n",
       "      <td>histology</td>\n",
       "      <td>80128</td>\n",
       "      <td>70610</td>\n",
       "      <td>9518</td>\n",
       "      <td>0.063928</td>\n",
       "    </tr>\n",
       "    <tr>\n",
       "      <th>2</th>\n",
       "      <td>no radiation</td>\n",
       "      <td>70610</td>\n",
       "      <td>51796</td>\n",
       "      <td>18814</td>\n",
       "      <td>0.039923</td>\n",
       "    </tr>\n",
       "    <tr>\n",
       "      <th>3</th>\n",
       "      <td>stage IV</td>\n",
       "      <td>51796</td>\n",
       "      <td>49284</td>\n",
       "      <td>2512</td>\n",
       "      <td>0.040543</td>\n",
       "    </tr>\n",
       "  </tbody>\n",
       "</table>\n",
       "</div>"
      ],
      "text/plain": [
       "       criteria before  after   drop     % APR\n",
       "0         total      0  80128      0  0.116033\n",
       "1     histology  80128  70610   9518  0.063928\n",
       "2  no radiation  70610  51796  18814  0.039923\n",
       "3      stage IV  51796  49284   2512  0.040543"
      ]
     },
     "execution_count": 103,
     "metadata": {},
     "output_type": "execute_result"
    }
   ],
   "source": [
    "#if YEAR_OF_DIAGNOSIS is < 2018, stage is 'AJCC Clinical Stage Group'\n",
    "data['stage'] = data['AJCC_TNM_CLIN_STG_GRP']\n",
    "data.loc[data['YEAR_OF_DIAGNOSIS'] < 2018, 'stage'] = data.loc[data['YEAR_OF_DIAGNOSIS'] < 2018, 'TNM_CLIN_STAGE_GROUP']\n",
    "#if 'stage' is still NaN, then fill with 'AJCC Clinical Stage Group'\n",
    "data.loc[data['stage'].isnull(), 'stage'] = data.loc[data['stage'].isnull(), 'TNM_CLIN_STAGE_GROUP']\n",
    "#find rows where 'stage' does not equal 'TNM_CLIN_STAGE_GROUP' and show only those columns\n",
    "data.loc[(data['stage'] != data['TNM_CLIN_STAGE_GROUP']) & (data['stage'].notnull() & (data['TNM_CLIN_STAGE_GROUP'].notnull())), ['stage', 'TNM_CLIN_STAGE_GROUP']]\n",
    "#find rows where 'stage' does not equal 'TNM_CLIN_STAGE_GROUP' and show only those columns\n",
    "data.loc[(data['stage'] != data['TNM_CLIN_STAGE_GROUP']) & (data['stage'].notnull() & (data['TNM_CLIN_STAGE_GROUP'].notnull())), ['stage', 'TNM_CLIN_STAGE_GROUP']]\n",
    "\n",
    "data['t_stage'] = data['TNM_CLIN_T']\n",
    "data['n_stage'] = data['TNM_CLIN_N']\n",
    "data['m_stage'] = data['TNM_CLIN_M']\n",
    "\n",
    "data['t_stage'].value_counts(dropna=False)\n",
    "#if YEAR_OF_DIAGNOSIS is >= 2018 and t_stage is null, T stage is 'AJCC_TNM_CLIN_T'\n",
    "data.loc[((data['YEAR_OF_DIAGNOSIS'] >= 2018) & (data['t_stage'].isnull())), 't_stage'] = data.loc[((data['YEAR_OF_DIAGNOSIS'] >= 2018) & (data['t_stage'].isnull())), 'AJCC_TNM_CLIN_T']\n",
    "\n",
    "#same for n and m stages\n",
    "data.loc[((data['YEAR_OF_DIAGNOSIS'] >= 2018) & (data['n_stage'].isnull())), 'n_stage'] = data.loc[((data['YEAR_OF_DIAGNOSIS'] >= 2018) & (data['n_stage'].isnull())), 'AJCC_TNM_CLIN_N']\n",
    "data.loc[((data['YEAR_OF_DIAGNOSIS'] >= 2018) & (data['m_stage'].isnull())), 'm_stage'] = data.loc[((data['YEAR_OF_DIAGNOSIS'] >= 2018) & (data['m_stage'].isnull())), 'AJCC_TNM_CLIN_M']\n",
    "data['t_stage'].value_counts(dropna=False)\n",
    "#if t_stage contains 'is' or 'x', t_stage is 0\n",
    "data.loc[data['t_stage'].str.contains('is', na=False), 't_stage'] = 0\n",
    "data.loc[data['t_stage'].str.contains('x', case=False, na=False), 't_stage'] = np.NaN\n",
    "data.loc[data['t_stage'].str.contains('1', case=False, na=False), 't_stage'] = 1\n",
    "data.loc[data['t_stage'].str.contains('2', case=False, na=False), 't_stage'] = 2\n",
    "data.loc[data['t_stage'].str.contains('3', case=False, na=False), 't_stage'] = 3\n",
    "data.loc[data['t_stage'].str.contains('4', case=False, na=False), 't_stage'] = 4\n",
    "data.loc[data['t_stage'].str.contains('is', case=False, na=False), 't_stage'] = 0\n",
    "data.loc[data['t_stage'].str.contains('0', case=False, na=False), 't_stage'] = 0\n",
    "# data['t_stage'].fillna(0, inplace=True)\n",
    "data['t_stage'].value_counts(dropna=False)\n",
    "data['n_stage'].value_counts(dropna=False)\n",
    "data.loc[data['n_stage'].str.contains('is', case=False, na=False), 'n_stage'] = 0\n",
    "data.loc[data['n_stage'].str.contains('0', case=False, na=False), 'n_stage'] = 0\n",
    "# data['n_stage'].fillna(0, inplace=True)\n",
    "data.loc[data['n_stage'].str.contains('1', case=False, na=False), 'n_stage'] = 1\n",
    "data.loc[data['n_stage'].str.contains('2', case=False, na=False), 'n_stage'] = 1\n",
    "data.loc[data['n_stage'].str.contains('3', case=False, na=False), 'n_stage'] = 1\n",
    "data.loc[data['n_stage'].str.contains('4', case=False, na=False), 'n_stage'] = 1\n",
    "data.loc[data['n_stage'].str.contains('X', case=False, na=False), 'n_stage'] = np.NaN\n",
    "data['n_stage'].value_counts(dropna=False)\n",
    "data['m_stage'].value_counts(dropna=False)\n",
    "data['m_stage'].fillna(0, inplace=True)\n",
    "data.loc[data['m_stage'].str.contains('is', case=False, na=False), 'm_stage'] = 0\n",
    "data.loc[data['m_stage'].str.contains('0', case=False, na=False), 'm_stage'] = 0\n",
    "data.loc[data['m_stage'].str.contains('1', case=False, na=False), 'm_stage'] = 1\n",
    "data.loc[data['m_stage'].str.contains('88', case=False, na=False), 'm_stage'] = 0\n",
    "data.loc[data['m_stage'].str.contains('x', case=False, na=False), 'm_stage'] = 0\n",
    "data['m_stage'].value_counts(dropna=False)\n",
    "before = data.shape[0]\n",
    "data.loc[data['m_stage'] == 1, 'stage'] = 4\n",
    "data = data.loc[data['m_stage'] == 0]\n",
    "data = data.loc[data['stage'] != 4]\n",
    "data = data.loc[data['stage'] != '4']\n",
    "after = data.shape[0]\n",
    "drop = before - after\n",
    "\n",
    "drop_counts = drop_counts.append({'criteria': 'stage IV', 'before': before, 'after': after, 'drop': drop, '% APR': perc_APR(data)}, ignore_index=True)\n",
    "drop_counts.head()"
   ]
  },
  {
   "cell_type": "code",
   "execution_count": 104,
   "metadata": {},
   "outputs": [],
   "source": [
    "data.loc[data['AJCC_TNM_CLIN_N'].str.contains('cN1', case=False, na=False), 'stage'] = '3'\n",
    "data.loc[data['TNM_CLIN_N'].str.contains('cN1', case=False, na=False), 'stage'] = '3'"
   ]
  },
  {
   "cell_type": "code",
   "execution_count": null,
   "metadata": {},
   "outputs": [],
   "source": []
  },
  {
   "cell_type": "code",
   "execution_count": 105,
   "metadata": {},
   "outputs": [
    {
     "data": {
      "text/html": [
       "<div>\n",
       "<style scoped>\n",
       "    .dataframe tbody tr th:only-of-type {\n",
       "        vertical-align: middle;\n",
       "    }\n",
       "\n",
       "    .dataframe tbody tr th {\n",
       "        vertical-align: top;\n",
       "    }\n",
       "\n",
       "    .dataframe thead th {\n",
       "        text-align: right;\n",
       "    }\n",
       "</style>\n",
       "<table border=\"1\" class=\"dataframe\">\n",
       "  <thead>\n",
       "    <tr style=\"text-align: right;\">\n",
       "      <th></th>\n",
       "      <th>criteria</th>\n",
       "      <th>before</th>\n",
       "      <th>after</th>\n",
       "      <th>drop</th>\n",
       "      <th>% APR</th>\n",
       "    </tr>\n",
       "  </thead>\n",
       "  <tbody>\n",
       "    <tr>\n",
       "      <th>0</th>\n",
       "      <td>total</td>\n",
       "      <td>0</td>\n",
       "      <td>80128</td>\n",
       "      <td>0</td>\n",
       "      <td>0.116033</td>\n",
       "    </tr>\n",
       "    <tr>\n",
       "      <th>1</th>\n",
       "      <td>histology</td>\n",
       "      <td>80128</td>\n",
       "      <td>70610</td>\n",
       "      <td>9518</td>\n",
       "      <td>0.063928</td>\n",
       "    </tr>\n",
       "    <tr>\n",
       "      <th>2</th>\n",
       "      <td>no radiation</td>\n",
       "      <td>70610</td>\n",
       "      <td>51796</td>\n",
       "      <td>18814</td>\n",
       "      <td>0.039923</td>\n",
       "    </tr>\n",
       "    <tr>\n",
       "      <th>3</th>\n",
       "      <td>stage IV</td>\n",
       "      <td>51796</td>\n",
       "      <td>49284</td>\n",
       "      <td>2512</td>\n",
       "      <td>0.040543</td>\n",
       "    </tr>\n",
       "    <tr>\n",
       "      <th>4</th>\n",
       "      <td>stage 0</td>\n",
       "      <td>49284</td>\n",
       "      <td>48640</td>\n",
       "      <td>644</td>\n",
       "      <td>0.040459</td>\n",
       "    </tr>\n",
       "  </tbody>\n",
       "</table>\n",
       "</div>"
      ],
      "text/plain": [
       "       criteria before  after   drop     % APR\n",
       "0         total      0  80128      0  0.116033\n",
       "1     histology  80128  70610   9518  0.063928\n",
       "2  no radiation  70610  51796  18814  0.039923\n",
       "3      stage IV  51796  49284   2512  0.040543\n",
       "4       stage 0  49284  48640    644  0.040459"
      ]
     },
     "execution_count": 105,
     "metadata": {},
     "output_type": "execute_result"
    }
   ],
   "source": [
    "# data.loc[data['stage'] == '<NA>', 'stage'] = np.NaN\n",
    "before = data.shape[0]\n",
    "data = data[data['stage'] != '0']\n",
    "after = data.shape[0]\n",
    "drop = before - after\n",
    "\n",
    "drop_counts = drop_counts.append({'criteria': 'stage 0', 'before': before, 'after': after, 'drop': drop, '% APR': perc_APR(data)}, ignore_index=True)\n",
    "drop_counts.head()"
   ]
  },
  {
   "cell_type": "code",
   "execution_count": 106,
   "metadata": {},
   "outputs": [
    {
     "data": {
      "text/plain": [
       "2A     14397\n",
       "3A      7793\n",
       "3C      7530\n",
       "1       6787\n",
       "NaN     5555\n",
       "2B      4529\n",
       "3B      2006\n",
       "88        35\n",
       "2          4\n",
       "3          4\n",
       "Name: stage, dtype: int64"
      ]
     },
     "execution_count": 106,
     "metadata": {},
     "output_type": "execute_result"
    }
   ],
   "source": [
    "data.loc[data['stage'] == 3, 'stage'] = '3'\n",
    "#if the stage is 2 and t_stage is null, t_stage is 2\n",
    "data.loc[(data['stage'] == '2') & (data['t_stage'].isna()), 't_stage'] = 2\n",
    "\n",
    "#if the stage is 3 and t_stage is null, t_stage is 1\n",
    "data.loc[(data['stage'] == '3') & (data['t_stage'].isna()), 't_stage'] = 1\n",
    "#if the stage is 3 and n_stage is null, n_stage is 1\n",
    "data.loc[(data['stage'] == '3') & (data['n_stage'].isna()) & (data['t_stage'] != 4), 'n_stage'] = 1\n",
    "\n",
    "\n",
    "data.loc[(data['t_stage'] == 1) & (data['n_stage'] == 0), 'stage'] = '1'\n",
    "data.loc[(data['t_stage'] == 2) & (data['n_stage'] == 0), 'stage'] = '2A'\n",
    "data.loc[(data['t_stage'] == 2) & (data['n_stage'].isna()), 'stage'] = '2A'\n",
    "\n",
    "data.loc[(data['t_stage'] == 3) & (data['n_stage'] == 0), 'stage'] = '2B'\n",
    "data.loc[(data['t_stage'] == 3) & (data['n_stage'].isna()), 'stage'] = '2B'\n",
    "data.loc[(data['t_stage'] == 0) & (data['n_stage'] == 1), 'stage'] = '3A'\n",
    "data.loc[(data['t_stage'] == 1) & (data['n_stage'] == 1), 'stage'] = '3A'\n",
    "data.loc[(data['t_stage'] == 2) & (data['n_stage'] == 1), 'stage'] = '3A'\n",
    "data.loc[(data['t_stage'] == 4) & (data['n_stage'] == 0), 'stage'] = '3B'\n",
    "data.loc[(data['t_stage'] == 3) & (data['n_stage'] == 1), 'stage'] = '3C'\n",
    "data.loc[(data['t_stage'] == 4) & (data['n_stage'] == 1), 'stage'] = '3C'\n",
    "\n",
    "data.loc[(data['stage'] == '2') & (data['n_stage'] == 0) & (data['t_stage'] == 0), 'stage'] = '2A'\n",
    "data.loc[data['stage'] == 2, 'stage'] = '2A'\n",
    "data.loc[(data['stage'] == '3') & (data['n_stage'] == 0) & (data['t_stage'] == 0), 'stage'] = '3A'\n",
    "data.loc[data['stage'] == 3, 'stage'] = '3A'\n",
    "data['stage'].value_counts(dropna=False)"
   ]
  },
  {
   "cell_type": "code",
   "execution_count": 107,
   "metadata": {},
   "outputs": [
    {
     "data": {
      "text/plain": [
       "1    3\n",
       "4    1\n",
       "Name: t_stage, dtype: int64"
      ]
     },
     "execution_count": 107,
     "metadata": {},
     "output_type": "execute_result"
    }
   ],
   "source": [
    "data.loc[(data['stage'] == '2')]['t_stage'].value_counts(dropna=False)"
   ]
  },
  {
   "cell_type": "code",
   "execution_count": 108,
   "metadata": {},
   "outputs": [
    {
     "data": {
      "text/plain": [
       "NaN    4\n",
       "Name: n_stage, dtype: int64"
      ]
     },
     "execution_count": 108,
     "metadata": {},
     "output_type": "execute_result"
    }
   ],
   "source": [
    "data.loc[(data['stage'] == '2')]['n_stage'].value_counts(dropna=False)"
   ]
  },
  {
   "cell_type": "code",
   "execution_count": 109,
   "metadata": {},
   "outputs": [
    {
     "data": {
      "text/plain": [
       "2A     14397\n",
       "3A      7793\n",
       "3C      7530\n",
       "1       6790\n",
       "NaN     5555\n",
       "2B      4529\n",
       "3B      2007\n",
       "88        35\n",
       "3          4\n",
       "Name: stage, dtype: int64"
      ]
     },
     "execution_count": 109,
     "metadata": {},
     "output_type": "execute_result"
    }
   ],
   "source": [
    "data.loc[(data['stage'] == '2') & (data['n_stage'].isna()) & (data['t_stage'] == 1), 'stage'] = '1'\n",
    "data.loc[(data['stage'] == '2') & (data['n_stage'].isna()) & (data['t_stage'] == 4), 'stage'] = '3B'\n",
    "data['stage'].value_counts(dropna=False)"
   ]
  },
  {
   "cell_type": "code",
   "execution_count": 110,
   "metadata": {},
   "outputs": [
    {
     "data": {
      "text/plain": [
       "4    4\n",
       "Name: t_stage, dtype: int64"
      ]
     },
     "execution_count": 110,
     "metadata": {},
     "output_type": "execute_result"
    }
   ],
   "source": [
    "data.loc[(data['stage'] == '3')]['t_stage'].value_counts(dropna=False)"
   ]
  },
  {
   "cell_type": "code",
   "execution_count": 111,
   "metadata": {},
   "outputs": [
    {
     "data": {
      "text/plain": [
       "NaN    4\n",
       "Name: n_stage, dtype: int64"
      ]
     },
     "execution_count": 111,
     "metadata": {},
     "output_type": "execute_result"
    }
   ],
   "source": [
    "data.loc[(data['stage'] == '3')]['n_stage'].value_counts(dropna=False)"
   ]
  },
  {
   "cell_type": "code",
   "execution_count": 112,
   "metadata": {},
   "outputs": [
    {
     "data": {
      "text/plain": [
       "2A     14397\n",
       "3A      7793\n",
       "3C      7530\n",
       "1       6790\n",
       "NaN     5555\n",
       "2B      4529\n",
       "3B      2011\n",
       "88        35\n",
       "Name: stage, dtype: int64"
      ]
     },
     "execution_count": 112,
     "metadata": {},
     "output_type": "execute_result"
    }
   ],
   "source": [
    "data.loc[(data['stage'] == '3') & (data['n_stage'].isna()) & (data['t_stage'] == 4), 'stage'] = '3B'\n",
    "data['stage'].value_counts(dropna=False)"
   ]
  },
  {
   "cell_type": "code",
   "execution_count": 113,
   "metadata": {},
   "outputs": [
    {
     "data": {
      "text/html": [
       "<div>\n",
       "<style scoped>\n",
       "    .dataframe tbody tr th:only-of-type {\n",
       "        vertical-align: middle;\n",
       "    }\n",
       "\n",
       "    .dataframe tbody tr th {\n",
       "        vertical-align: top;\n",
       "    }\n",
       "\n",
       "    .dataframe thead th {\n",
       "        text-align: right;\n",
       "    }\n",
       "</style>\n",
       "<table border=\"1\" class=\"dataframe\">\n",
       "  <thead>\n",
       "    <tr style=\"text-align: right;\">\n",
       "      <th></th>\n",
       "      <th>criteria</th>\n",
       "      <th>before</th>\n",
       "      <th>after</th>\n",
       "      <th>drop</th>\n",
       "      <th>% APR</th>\n",
       "    </tr>\n",
       "  </thead>\n",
       "  <tbody>\n",
       "    <tr>\n",
       "      <th>0</th>\n",
       "      <td>total</td>\n",
       "      <td>0</td>\n",
       "      <td>80128</td>\n",
       "      <td>0</td>\n",
       "      <td>0.116033</td>\n",
       "    </tr>\n",
       "    <tr>\n",
       "      <th>1</th>\n",
       "      <td>histology</td>\n",
       "      <td>80128</td>\n",
       "      <td>70610</td>\n",
       "      <td>9518</td>\n",
       "      <td>0.063928</td>\n",
       "    </tr>\n",
       "    <tr>\n",
       "      <th>2</th>\n",
       "      <td>no radiation</td>\n",
       "      <td>70610</td>\n",
       "      <td>51796</td>\n",
       "      <td>18814</td>\n",
       "      <td>0.039923</td>\n",
       "    </tr>\n",
       "    <tr>\n",
       "      <th>3</th>\n",
       "      <td>stage IV</td>\n",
       "      <td>51796</td>\n",
       "      <td>49284</td>\n",
       "      <td>2512</td>\n",
       "      <td>0.040543</td>\n",
       "    </tr>\n",
       "    <tr>\n",
       "      <th>4</th>\n",
       "      <td>stage 0</td>\n",
       "      <td>49284</td>\n",
       "      <td>48640</td>\n",
       "      <td>644</td>\n",
       "      <td>0.040459</td>\n",
       "    </tr>\n",
       "    <tr>\n",
       "      <th>5</th>\n",
       "      <td>stage missing</td>\n",
       "      <td>48640</td>\n",
       "      <td>43050</td>\n",
       "      <td>5590</td>\n",
       "      <td>0.032337</td>\n",
       "    </tr>\n",
       "  </tbody>\n",
       "</table>\n",
       "</div>"
      ],
      "text/plain": [
       "        criteria before  after   drop     % APR\n",
       "0          total      0  80128      0  0.116033\n",
       "1      histology  80128  70610   9518  0.063928\n",
       "2   no radiation  70610  51796  18814  0.039923\n",
       "3       stage IV  51796  49284   2512  0.040543\n",
       "4        stage 0  49284  48640    644  0.040459\n",
       "5  stage missing  48640  43050   5590  0.032337"
      ]
     },
     "execution_count": 113,
     "metadata": {},
     "output_type": "execute_result"
    }
   ],
   "source": [
    "\n",
    "data.loc[data['stage'] == '<NA>', 'stage'] = np.NaN\n",
    "before = data.shape[0]\n",
    "data.loc[data['stage'] == '88', 'stage'] = np.NaN\n",
    "data = data.dropna(subset=['stage'])\n",
    "\n",
    "after = data.shape[0]\n",
    "drop = before - after\n",
    "\n",
    "drop_counts = drop_counts.append({'criteria': 'stage missing', 'before': before, 'after': after, 'drop': drop, '% APR': perc_APR(data)}, ignore_index=True)\n",
    "drop_counts.head(10)"
   ]
  },
  {
   "cell_type": "code",
   "execution_count": 114,
   "metadata": {},
   "outputs": [
    {
     "data": {
      "text/plain": [
       "NaN    38893\n",
       "2       1608\n",
       "1       1234\n",
       "3B       573\n",
       "3A       439\n",
       "2A       105\n",
       "0         80\n",
       "4         41\n",
       "3C        34\n",
       "2B        22\n",
       "3         21\n",
       "Name: p_stage, dtype: int64"
      ]
     },
     "execution_count": 114,
     "metadata": {},
     "output_type": "execute_result"
    }
   ],
   "source": [
    "data['p_stage'] = data['AJCC_TNM_PATH_STG_GRP']\n",
    "data.loc[data['YEAR_OF_DIAGNOSIS'] < 2018, 'p_stage'] = data.loc[data['YEAR_OF_DIAGNOSIS'] < 2018, 'TNM_PATH_STAGE_GROUP']\n",
    "data['p_stage'].value_counts(dropna=False)"
   ]
  },
  {
   "cell_type": "code",
   "execution_count": 115,
   "metadata": {},
   "outputs": [
    {
     "data": {
      "text/plain": [
       "NaN    38788\n",
       "2       1608\n",
       "1       1243\n",
       "3B       596\n",
       "3A       446\n",
       "2A       130\n",
       "0         90\n",
       "2B        44\n",
       "4         43\n",
       "3C        41\n",
       "3         21\n",
       "Name: p_stage, dtype: int64"
      ]
     },
     "execution_count": 115,
     "metadata": {},
     "output_type": "execute_result"
    }
   ],
   "source": [
    "data.loc[data['p_stage'].isnull(), 'p_stage'] = data.loc[data['p_stage'].isnull(), 'AJCC_TNM_POST_PATH_STG_GRP']\n",
    "data['p_stage'].value_counts(dropna=False)"
   ]
  },
  {
   "cell_type": "code",
   "execution_count": 116,
   "metadata": {},
   "outputs": [
    {
     "data": {
      "text/plain": [
       "NaN    42721\n",
       "2A       105\n",
       "1         77\n",
       "3A        62\n",
       "3C        34\n",
       "2B        22\n",
       "0         17\n",
       "3B         6\n",
       "4          6\n",
       "Name: p_stage, dtype: int64"
      ]
     },
     "execution_count": 116,
     "metadata": {},
     "output_type": "execute_result"
    }
   ],
   "source": [
    "data['p_stage'] = np.NaN\n",
    "data['p_stage'].fillna(data['AJCC_TNM_PATH_STG_GRP'], inplace=True)\n",
    "data['p_stage'].fillna(data['AJCC_TNM_PATH_STG_GRP'], inplace=True)\n",
    "data['p_stage'].value_counts(dropna=False)"
   ]
  },
  {
   "cell_type": "code",
   "execution_count": 117,
   "metadata": {},
   "outputs": [],
   "source": [
    "n_list = ['TNM_PATH_N', 'AJCC_TNM_PATH_N', 'AJCC_TNM_POST_PATH_N']\n",
    "for col in n_list:\n",
    "    data.loc[data[col].isnull(), col] = '0'\n",
    "    data.loc[data[col].str.contains('0', case=False, na=False), col] = '0'\n",
    "    data.loc[data[col].str.contains('X', case=False, na=False), col] = '0'\n",
    "    data.loc[data[col].str.contains('1', case=False, na=False), col] = '1'\n",
    "    data.loc[data[col].str.contains('2', case=False, na=False), col] = '2'\n",
    "    data.loc[data[col].str.contains('3', case=False, na=False), col] = '3'"
   ]
  },
  {
   "cell_type": "code",
   "execution_count": 118,
   "metadata": {},
   "outputs": [],
   "source": [
    "n_list = ['TNM_PATH_T', 'AJCC_TNM_PATH_T', 'AJCC_TNM_POST_PATH_T']\n",
    "for col in n_list:\n",
    "    data.loc[data[col].str.contains('0', case=False, na=False), col] = '0'\n",
    "    data.loc[data[col].str.contains('X', case=False, na=False), col] = '0'\n",
    "    data.loc[data[col].str.contains('1', case=False, na=False), col] = '1'\n",
    "    data.loc[data[col].str.contains('2', case=False, na=False), col] = '2'\n",
    "    data.loc[data[col].str.contains('3', case=False, na=False), col] = '3'\n",
    "    data.loc[data[col].str.contains('4', case=False, na=False), col] = '4'"
   ]
  },
  {
   "cell_type": "code",
   "execution_count": 119,
   "metadata": {},
   "outputs": [
    {
     "data": {
      "text/plain": [
       "NaN    27307\n",
       "0      15431\n",
       "2A       105\n",
       "1         77\n",
       "3A        62\n",
       "3C        34\n",
       "2B        22\n",
       "3B         6\n",
       "4          6\n",
       "Name: p_stage, dtype: int64"
      ]
     },
     "execution_count": 119,
     "metadata": {},
     "output_type": "execute_result"
    }
   ],
   "source": [
    "data.loc[(data['p_stage'].isnull()) & (data['AJCC_TNM_PATH_T'] == '0') & (data['AJCC_TNM_PATH_N'] == '0'), 'p_stage'] = '0'\n",
    "data.loc[(data['p_stage'].isnull()) & (data['AJCC_TNM_POST_PATH_T'] == '0') & (data['AJCC_TNM_POST_PATH_N'] == '0'), 'p_stage'] = '0'\n",
    "data.loc[(data['p_stage'].isnull()) & (data['TNM_PATH_T'] == '0') & (data['TNM_PATH_N'] == '0'), 'p_stage'] = '0'\n",
    "data['p_stage'].value_counts(dropna=False)"
   ]
  },
  {
   "cell_type": "code",
   "execution_count": 120,
   "metadata": {},
   "outputs": [],
   "source": [
    "data.loc[data['p_stage'].str.contains('0', case=False, na=False), 'p_stage'] = '0'\n",
    "data.loc[data['p_stage'].str.contains('1', case=False, na=False), 'p_stage'] = '1'\n",
    "data.loc[data['p_stage'].str.contains('2', case=False, na=False), 'p_stage'] = '2'\n",
    "data.loc[data['p_stage'].str.contains('3', case=False, na=False), 'p_stage'] = '3'\n",
    "data.loc[data['p_stage'].str.contains('4', case=False, na=False), 'p_stage'] = '4'"
   ]
  },
  {
   "cell_type": "code",
   "execution_count": 121,
   "metadata": {},
   "outputs": [
    {
     "data": {
      "text/plain": [
       "NaN    27307\n",
       "0      15431\n",
       "2        127\n",
       "3        102\n",
       "1         77\n",
       "4          6\n",
       "Name: p_stage, dtype: int64"
      ]
     },
     "execution_count": 121,
     "metadata": {},
     "output_type": "execute_result"
    }
   ],
   "source": [
    "data['p_stage'].value_counts(dropna=False)"
   ]
  },
  {
   "cell_type": "code",
   "execution_count": 122,
   "metadata": {},
   "outputs": [
    {
     "data": {
      "text/plain": [
       "No surgery    30373\n",
       "NaN            8953\n",
       "0              3483\n",
       "2               102\n",
       "1                71\n",
       "3                66\n",
       "4                 2\n",
       "Name: p_stage, dtype: int64"
      ]
     },
     "execution_count": 122,
     "metadata": {},
     "output_type": "execute_result"
    }
   ],
   "source": [
    "data.loc[data['APR'] == 0, 'p_stage'] = 'No surgery'\n",
    "data['p_stage'].value_counts(dropna=False)"
   ]
  },
  {
   "cell_type": "code",
   "execution_count": 123,
   "metadata": {},
   "outputs": [
    {
     "data": {
      "text/plain": [
       "No surgery    30373\n",
       "NaN            8953\n",
       "0              3483\n",
       "2               102\n",
       "1                71\n",
       "3                66\n",
       "4                 2\n",
       "Name: p_stage, dtype: int64"
      ]
     },
     "execution_count": 123,
     "metadata": {},
     "output_type": "execute_result"
    }
   ],
   "source": [
    "data['p_stage'].value_counts(dropna=False)"
   ]
  },
  {
   "cell_type": "code",
   "execution_count": 124,
   "metadata": {},
   "outputs": [],
   "source": [
    "tnm_cols = [col for col in data.columns if 'TNM' in col]\n",
    "data.drop(tnm_cols, axis=1, inplace=True)"
   ]
  },
  {
   "cell_type": "code",
   "execution_count": 125,
   "metadata": {},
   "outputs": [
    {
     "data": {
      "text/plain": [
       "<AxesSubplot:>"
      ]
     },
     "execution_count": 125,
     "metadata": {},
     "output_type": "execute_result"
    },
    {
     "data": {
      "image/png": "[encoded data removed]",
      "text/plain": [
       "<Figure size 432x288 with 1 Axes>"
      ]
     },
     "metadata": {
      "needs_background": "light"
     },
     "output_type": "display_data"
    }
   ],
   "source": [
    "#if TUMOR_SIZE is missing, fill with TUMOR_SIZE_SUMMARY_2016\n",
    "data.loc[data['TUMOR_SIZE'].isnull(), 'TUMOR_SIZE'] = data.loc[data['TUMOR_SIZE'].isnull(), 'TUMOR_SIZE_SUMMARY_2016']\n",
    "data.loc[data['TUMOR_SIZE'] > 800, 'TUMOR_SIZE'] = np.NaN\n",
    "data.loc[data['TUMOR_SIZE'] > 200, 'TUMOR_SIZE'] = 200\n",
    "data['TUMOR_SIZE'].hist()\n"
   ]
  },
  {
   "cell_type": "code",
   "execution_count": 126,
   "metadata": {},
   "outputs": [],
   "source": [
    "data.drop('TUMOR_SIZE_SUMMARY_2016', axis=1, inplace=True)"
   ]
  },
  {
   "cell_type": "code",
   "execution_count": 127,
   "metadata": {},
   "outputs": [
    {
     "data": {
      "text/plain": [
       "<AxesSubplot:>"
      ]
     },
     "execution_count": 127,
     "metadata": {},
     "output_type": "execute_result"
    },
    {
     "data": {
      "image/png": "[encoded data removed]",
      "text/plain": [
       "<Figure size 432x288 with 1 Axes>"
      ]
     },
     "metadata": {
      "needs_background": "light"
     },
     "output_type": "display_data"
    }
   ],
   "source": [
    "#find the distribution of days between diagnosis and surgery\n",
    "data['DX_SURG_STARTED_DAYS'].hist(bins=50)\n",
    "data.loc[data['DX_SURG_STARTED_DAYS'] <30, 'DX_SURG_STARTED_DAYS'] = np.NaN\n",
    "data.loc[data['DX_SURG_STARTED_DAYS'] > 600, 'DX_SURG_STARTED_DAYS'] = 600\n",
    "\n",
    "data['DX_SURG_STARTED_DAYS'].hist(bins=50)"
   ]
  },
  {
   "cell_type": "code",
   "execution_count": 128,
   "metadata": {},
   "outputs": [
    {
     "data": {
      "text/plain": [
       "<AxesSubplot:>"
      ]
     },
     "execution_count": 128,
     "metadata": {},
     "output_type": "execute_result"
    },
    {
     "data": {
      "image/png": "[encoded data removed]",
      "text/plain": [
       "<Figure size 432x288 with 1 Axes>"
      ]
     },
     "metadata": {
      "needs_background": "light"
     },
     "output_type": "display_data"
    }
   ],
   "source": [
    "data['rad_end'] = data['RAD_ELAPSED_RX_DAYS'] + data['DX_RAD_STARTED_DAYS']\n",
    "data.loc[data['rad_end'] > 300, 'rad_end'] = 300\n",
    "data['rad_end'].hist(bins=50)\n",
    "data['surg_rad_days'] = data['DX_SURG_STARTED_DAYS'] - data['rad_end']\n",
    "data['surg_rad_days'].hist(bins=50)\n"
   ]
  },
  {
   "cell_type": "code",
   "execution_count": 129,
   "metadata": {},
   "outputs": [
    {
     "data": {
      "text/plain": [
       "<AxesSubplot:>"
      ]
     },
     "execution_count": 129,
     "metadata": {},
     "output_type": "execute_result"
    },
    {
     "data": {
      "image/png": "[encoded data removed]",
      "text/plain": [
       "<Figure size 432x288 with 1 Axes>"
      ]
     },
     "metadata": {
      "needs_background": "light"
     },
     "output_type": "display_data"
    }
   ],
   "source": [
    "#if 'surg_rad_days' is <0, make it nan\n",
    "data.loc[data['surg_rad_days'] < 0, 'surg_rad_days'] = np.NaN\n",
    "data['surg_rad_days'].hist(bins=50)"
   ]
  },
  {
   "cell_type": "code",
   "execution_count": 130,
   "metadata": {},
   "outputs": [
    {
     "data": {
      "text/plain": [
       "<AxesSubplot:>"
      ]
     },
     "execution_count": 130,
     "metadata": {},
     "output_type": "execute_result"
    },
    {
     "data": {
      "image/png": "[encoded data removed]",
      "text/plain": [
       "<Figure size 432x288 with 1 Axes>"
      ]
     },
     "metadata": {
      "needs_background": "light"
     },
     "output_type": "display_data"
    }
   ],
   "source": [
    "data.loc[data['DX_RAD_STARTED_DAYS'] > 700, 'DX_RAD_STARTED_DAYS'] = np.NaN\n",
    "data.loc[data['DX_RAD_STARTED_DAYS'] > 125, 'DX_RAD_STARTED_DAYS'] = 125\n",
    "data['DX_RAD_STARTED_DAYS'].hist(bins=50)"
   ]
  },
  {
   "cell_type": "code",
   "execution_count": 131,
   "metadata": {},
   "outputs": [
    {
     "data": {
      "text/plain": [
       "<AxesSubplot:>"
      ]
     },
     "execution_count": 131,
     "metadata": {},
     "output_type": "execute_result"
    },
    {
     "data": {
      "image/png": "[encoded data removed]",
      "text/plain": [
       "<Figure size 432x288 with 1 Axes>"
      ]
     },
     "metadata": {
      "needs_background": "light"
     },
     "output_type": "display_data"
    }
   ],
   "source": [
    "data.loc[data['RAD_ELAPSED_RX_DAYS'] > 700, 'RAD_ELAPSED_RX_DAYS'] = np.NaN\n",
    "data.loc[data['RAD_ELAPSED_RX_DAYS'] > 100, 'RAD_ELAPSED_RX_DAYS'] = 100\n",
    "data['RAD_ELAPSED_RX_DAYS'].hist(bins=50)"
   ]
  },
  {
   "cell_type": "code",
   "execution_count": 132,
   "metadata": {},
   "outputs": [
    {
     "name": "stdout",
     "output_type": "stream",
     "text": [
      "(43050, 45)\n",
      "(43050, 37)\n"
     ]
    }
   ],
   "source": [
    "print(data.shape)\n",
    "drop_cols = ['DX_SURG_STARTED_DAYS', 'surg_rad_days', 'rad_end', 'RAD_LOCATION_OF_RX', 'REASON_FOR_NO_RADIATION', 'RX_SUMM_SURGRAD_SEQ', 'DX_CHEMO_STARTED_DAYS', 'RX_SUMM_SYSTEMIC_SUR_SEQ', 'PALLIATIVE_CARE']\n",
    "for x in drop_cols:\n",
    "    try:\n",
    "        data.drop(x, axis=1, inplace=True)\n",
    "    except:\n",
    "        pass\n",
    "print(data.shape)"
   ]
  },
  {
   "cell_type": "code",
   "execution_count": 133,
   "metadata": {},
   "outputs": [
    {
     "data": {
      "text/html": [
       "<div>\n",
       "<style scoped>\n",
       "    .dataframe tbody tr th:only-of-type {\n",
       "        vertical-align: middle;\n",
       "    }\n",
       "\n",
       "    .dataframe tbody tr th {\n",
       "        vertical-align: top;\n",
       "    }\n",
       "\n",
       "    .dataframe thead th {\n",
       "        text-align: right;\n",
       "    }\n",
       "</style>\n",
       "<table border=\"1\" class=\"dataframe\">\n",
       "  <thead>\n",
       "    <tr style=\"text-align: right;\">\n",
       "      <th></th>\n",
       "      <th>0</th>\n",
       "    </tr>\n",
       "  </thead>\n",
       "  <tbody>\n",
       "    <tr>\n",
       "      <th>GRADE_CLIN</th>\n",
       "      <td>35571</td>\n",
       "    </tr>\n",
       "    <tr>\n",
       "      <th>SURG_DISCHARGE_DAYS</th>\n",
       "      <td>34540</td>\n",
       "    </tr>\n",
       "    <tr>\n",
       "      <th>TOTAL_DOSE</th>\n",
       "      <td>23232</td>\n",
       "    </tr>\n",
       "    <tr>\n",
       "      <th>RAD_ELAPSED_RX_DAYS</th>\n",
       "      <td>15396</td>\n",
       "    </tr>\n",
       "    <tr>\n",
       "      <th>APR</th>\n",
       "      <td>11662</td>\n",
       "    </tr>\n",
       "    <tr>\n",
       "      <th>LYMPH_VASCULAR_INVASION</th>\n",
       "      <td>11476</td>\n",
       "    </tr>\n",
       "    <tr>\n",
       "      <th>TUMOR_SIZE</th>\n",
       "      <td>11450</td>\n",
       "    </tr>\n",
       "    <tr>\n",
       "      <th>p_stage</th>\n",
       "      <td>8953</td>\n",
       "    </tr>\n",
       "    <tr>\n",
       "      <th>GRADE</th>\n",
       "      <td>7479</td>\n",
       "    </tr>\n",
       "    <tr>\n",
       "      <th>MED_INC_QUAR_2016</th>\n",
       "      <td>4917</td>\n",
       "    </tr>\n",
       "    <tr>\n",
       "      <th>NO_HSD_QUAR_2016</th>\n",
       "      <td>4857</td>\n",
       "    </tr>\n",
       "    <tr>\n",
       "      <th>CROWFLY</th>\n",
       "      <td>4461</td>\n",
       "    </tr>\n",
       "  </tbody>\n",
       "</table>\n",
       "</div>"
      ],
      "text/plain": [
       "                             0\n",
       "GRADE_CLIN               35571\n",
       "SURG_DISCHARGE_DAYS      34540\n",
       "TOTAL_DOSE               23232\n",
       "RAD_ELAPSED_RX_DAYS      15396\n",
       "APR                      11662\n",
       "LYMPH_VASCULAR_INVASION  11476\n",
       "TUMOR_SIZE               11450\n",
       "p_stage                   8953\n",
       "GRADE                     7479\n",
       "MED_INC_QUAR_2016         4917\n",
       "NO_HSD_QUAR_2016          4857\n",
       "CROWFLY                   4461"
      ]
     },
     "execution_count": 133,
     "metadata": {},
     "output_type": "execute_result"
    }
   ],
   "source": [
    "#find the columns with the greatest proportion of missing values\n",
    "missing_values = data.isnull().sum()\n",
    "pd.DataFrame(missing_values.sort_values(ascending=False)).head(12)"
   ]
  },
  {
   "cell_type": "code",
   "execution_count": 134,
   "metadata": {},
   "outputs": [
    {
     "data": {
      "text/plain": [
       "2.0    14881\n",
       "3.0    11110\n",
       "9.0    10545\n",
       "1.0     3440\n",
       "9       2773\n",
       "4.0      223\n",
       "H         77\n",
       "L          1\n",
       "Name: GRADE, dtype: int64"
      ]
     },
     "execution_count": 134,
     "metadata": {},
     "output_type": "execute_result"
    }
   ],
   "source": [
    "data['GRADE'] = data['GRADE'].astype(str)\n",
    "data['GRADE_CLIN'] = data['GRADE_CLIN'].astype(str)\n",
    "data.loc[data['GRADE'] == 'nan', 'GRADE'] = data.loc[data['GRADE'] == 'nan', 'GRADE_CLIN']\n",
    "data.loc[data['GRADE'].str.contains('1'), 'GRADE'] = '1.0'\n",
    "data.loc[data['GRADE'].str.contains('2'), 'GRADE'] = '2.0'\n",
    "data.loc[data['GRADE'].str.contains('3'), 'GRADE'] = '3.0'\n",
    "data.loc[data['GRADE'].str.contains('4'), 'GRADE'] = '4.0'\n",
    "data['GRADE'].value_counts(dropna=False)"
   ]
  },
  {
   "cell_type": "code",
   "execution_count": 135,
   "metadata": {},
   "outputs": [],
   "source": [
    "drop = ['GRADE_CLIN']\n",
    "data.drop(drop, axis=1, inplace=True)"
   ]
  },
  {
   "cell_type": "code",
   "execution_count": 136,
   "metadata": {},
   "outputs": [],
   "source": [
    "facility_by_year = pd.DataFrame(pd.crosstab(data['PUF_FACILITY_ID'], data['YEAR_OF_DIAGNOSIS'], margins=True))\n",
    "facility_counts = pd.DataFrame(facility_by_year['All'])\n",
    "#drop the last row, which is the total\n",
    "facility_counts.drop(facility_counts.tail(1).index, inplace=True)"
   ]
  },
  {
   "cell_type": "code",
   "execution_count": 137,
   "metadata": {},
   "outputs": [
    {
     "data": {
      "text/plain": [
       "4.0    11458\n",
       "3.0    10827\n",
       "1.0    10503\n",
       "2.0    10262\n",
       "Name: facs_quart_norm, dtype: int64"
      ]
     },
     "execution_count": 137,
     "metadata": {},
     "output_type": "execute_result"
    }
   ],
   "source": [
    "facility_by_year = pd.DataFrame(pd.crosstab(data['PUF_FACILITY_ID'], data['YEAR_OF_DIAGNOSIS']))\n",
    "facility_by_year['num_zero'] = 1000\n",
    "for i,row in facility_by_year.iterrows():\n",
    "    try:\n",
    "        row['num_zero'] = pd.DataFrame(facility_by_year.loc[i].value_counts()).loc[0][0]\n",
    "    except KeyError:\n",
    "        row['num_zero'] = 0\n",
    "facility_by_year['num_zero'] = 16 - facility_by_year['num_zero']\n",
    "\n",
    "facility_counts['num_zero'] = facility_by_year['num_zero']\n",
    "facility_counts['norm'] = facility_counts['All'] / facility_counts['num_zero']\n",
    "\n",
    "fac_ids = facility_counts.index.to_list()\n",
    "len(fac_ids)\n",
    "\n",
    "fac_ids1 = fac_ids[:len(fac_ids)//4]\n",
    "fac_ids2 = fac_ids[(len(fac_ids)//4):((len(fac_ids)//4)*2)]\n",
    "fac_ids3 = fac_ids[((len(fac_ids)//4) * 2):((len(fac_ids)//4)*3)]\n",
    "fac_ids4 = fac_ids[((len(fac_ids)//4) * 3):]\n",
    "\n",
    "data['facs_quart_norm'] = np.NaN\n",
    "data.loc[data['PUF_FACILITY_ID'].isin(fac_ids1), 'facs_quart_norm'] = 1\n",
    "data.loc[data['PUF_FACILITY_ID'].isin(fac_ids2), 'facs_quart_norm'] = 2\n",
    "data.loc[data['PUF_FACILITY_ID'].isin(fac_ids3), 'facs_quart_norm'] = 3\n",
    "data.loc[data['PUF_FACILITY_ID'].isin(fac_ids4), 'facs_quart_norm'] = 4\n",
    "data['facs_quart_norm'].value_counts(dropna=False)"
   ]
  },
  {
   "cell_type": "code",
   "execution_count": 138,
   "metadata": {},
   "outputs": [],
   "source": [
    "data.drop('PUF_FACILITY_ID', axis=1, inplace=True)"
   ]
  },
  {
   "cell_type": "code",
   "execution_count": 139,
   "metadata": {},
   "outputs": [
    {
     "data": {
      "text/plain": [
       "['GRADE', 'stage', 't_stage', 'n_stage', 'm_stage', 'p_stage']"
      ]
     },
     "execution_count": 139,
     "metadata": {},
     "output_type": "execute_result"
    }
   ],
   "source": [
    "#find columns with data type object\n",
    "cat_cols = data.select_dtypes(include=['object']).columns.to_list()\n",
    "cat_cols"
   ]
  },
  {
   "cell_type": "code",
   "execution_count": 140,
   "metadata": {},
   "outputs": [
    {
     "data": {
      "text/html": [
       "<div>\n",
       "<style scoped>\n",
       "    .dataframe tbody tr th:only-of-type {\n",
       "        vertical-align: middle;\n",
       "    }\n",
       "\n",
       "    .dataframe tbody tr th {\n",
       "        vertical-align: top;\n",
       "    }\n",
       "\n",
       "    .dataframe thead th {\n",
       "        text-align: right;\n",
       "    }\n",
       "</style>\n",
       "<table border=\"1\" class=\"dataframe\">\n",
       "  <thead>\n",
       "    <tr style=\"text-align: right;\">\n",
       "      <th></th>\n",
       "      <th>FACILITY_TYPE_CD</th>\n",
       "      <th>FACILITY_LOCATION_CD</th>\n",
       "      <th>AGE</th>\n",
       "      <th>SEX</th>\n",
       "      <th>RACE</th>\n",
       "      <th>SPANISH_HISPANIC_ORIGIN</th>\n",
       "      <th>INSURANCE_STATUS</th>\n",
       "      <th>UR_CD_13</th>\n",
       "      <th>CROWFLY</th>\n",
       "      <th>CDCC_TOTAL_BEST</th>\n",
       "      <th>...</th>\n",
       "      <th>MED_INC_QUAR_2016</th>\n",
       "      <th>PUF_MEDICAID_EXPN_CODE</th>\n",
       "      <th>TOTAL_DOSE</th>\n",
       "      <th>APR</th>\n",
       "      <th>stage</th>\n",
       "      <th>t_stage</th>\n",
       "      <th>n_stage</th>\n",
       "      <th>m_stage</th>\n",
       "      <th>p_stage</th>\n",
       "      <th>facs_quart_norm</th>\n",
       "    </tr>\n",
       "    <tr>\n",
       "      <th>PUF_CASE_ID</th>\n",
       "      <th></th>\n",
       "      <th></th>\n",
       "      <th></th>\n",
       "      <th></th>\n",
       "      <th></th>\n",
       "      <th></th>\n",
       "      <th></th>\n",
       "      <th></th>\n",
       "      <th></th>\n",
       "      <th></th>\n",
       "      <th></th>\n",
       "      <th></th>\n",
       "      <th></th>\n",
       "      <th></th>\n",
       "      <th></th>\n",
       "      <th></th>\n",
       "      <th></th>\n",
       "      <th></th>\n",
       "      <th></th>\n",
       "      <th></th>\n",
       "      <th></th>\n",
       "    </tr>\n",
       "  </thead>\n",
       "  <tbody>\n",
       "    <tr>\n",
       "      <th>D66f458f9-bdc0-4c95-94a3-a5f8c5bb74f9</th>\n",
       "      <td>3.0</td>\n",
       "      <td>5.0</td>\n",
       "      <td>52</td>\n",
       "      <td>2</td>\n",
       "      <td>1.0</td>\n",
       "      <td>0</td>\n",
       "      <td>0</td>\n",
       "      <td>2.0</td>\n",
       "      <td>3.6</td>\n",
       "      <td>0</td>\n",
       "      <td>...</td>\n",
       "      <td>1.0</td>\n",
       "      <td>0</td>\n",
       "      <td>0.0</td>\n",
       "      <td>0.0</td>\n",
       "      <td>2A</td>\n",
       "      <td>2</td>\n",
       "      <td>0</td>\n",
       "      <td>0</td>\n",
       "      <td>No surgery</td>\n",
       "      <td>3.0</td>\n",
       "    </tr>\n",
       "    <tr>\n",
       "      <th>Dfc68ea23-71aa-4b0d-87c0-587b4ce13d04</th>\n",
       "      <td>3.0</td>\n",
       "      <td>9.0</td>\n",
       "      <td>49</td>\n",
       "      <td>2</td>\n",
       "      <td>1.0</td>\n",
       "      <td>0</td>\n",
       "      <td>1</td>\n",
       "      <td>1.0</td>\n",
       "      <td>11.4</td>\n",
       "      <td>0</td>\n",
       "      <td>...</td>\n",
       "      <td>3.0</td>\n",
       "      <td>2</td>\n",
       "      <td>NaN</td>\n",
       "      <td>0.0</td>\n",
       "      <td>3A</td>\n",
       "      <td>2</td>\n",
       "      <td>1</td>\n",
       "      <td>0</td>\n",
       "      <td>No surgery</td>\n",
       "      <td>1.0</td>\n",
       "    </tr>\n",
       "    <tr>\n",
       "      <th>D54a1d0da-4328-4ca5-8481-87cd73b33dd4</th>\n",
       "      <td>3.0</td>\n",
       "      <td>6.0</td>\n",
       "      <td>58</td>\n",
       "      <td>1</td>\n",
       "      <td>1.0</td>\n",
       "      <td>0</td>\n",
       "      <td>2</td>\n",
       "      <td>1.0</td>\n",
       "      <td>14.0</td>\n",
       "      <td>0</td>\n",
       "      <td>...</td>\n",
       "      <td>4.0</td>\n",
       "      <td>2</td>\n",
       "      <td>5940.0</td>\n",
       "      <td>NaN</td>\n",
       "      <td>2B</td>\n",
       "      <td>3</td>\n",
       "      <td>0</td>\n",
       "      <td>0</td>\n",
       "      <td>NaN</td>\n",
       "      <td>3.0</td>\n",
       "    </tr>\n",
       "    <tr>\n",
       "      <th>D62170955-5fc5-434e-8e6a-6a9e139851c4</th>\n",
       "      <td>3.0</td>\n",
       "      <td>6.0</td>\n",
       "      <td>80</td>\n",
       "      <td>2</td>\n",
       "      <td>1.0</td>\n",
       "      <td>0</td>\n",
       "      <td>3</td>\n",
       "      <td>1.0</td>\n",
       "      <td>NaN</td>\n",
       "      <td>0</td>\n",
       "      <td>...</td>\n",
       "      <td>NaN</td>\n",
       "      <td>2</td>\n",
       "      <td>5220.0</td>\n",
       "      <td>NaN</td>\n",
       "      <td>1</td>\n",
       "      <td>1</td>\n",
       "      <td>0</td>\n",
       "      <td>0</td>\n",
       "      <td>NaN</td>\n",
       "      <td>3.0</td>\n",
       "    </tr>\n",
       "    <tr>\n",
       "      <th>D2cfdabba-8277-463e-bf64-7c3139b45372</th>\n",
       "      <td>3.0</td>\n",
       "      <td>2.0</td>\n",
       "      <td>81</td>\n",
       "      <td>2</td>\n",
       "      <td>1.0</td>\n",
       "      <td>0</td>\n",
       "      <td>1</td>\n",
       "      <td>1.0</td>\n",
       "      <td>30.3</td>\n",
       "      <td>0</td>\n",
       "      <td>...</td>\n",
       "      <td>4.0</td>\n",
       "      <td>1</td>\n",
       "      <td>5400.0</td>\n",
       "      <td>0.0</td>\n",
       "      <td>2B</td>\n",
       "      <td>3</td>\n",
       "      <td>0</td>\n",
       "      <td>0</td>\n",
       "      <td>No surgery</td>\n",
       "      <td>3.0</td>\n",
       "    </tr>\n",
       "  </tbody>\n",
       "</table>\n",
       "<p>5 rows × 36 columns</p>\n",
       "</div>"
      ],
      "text/plain": [
       "                                       FACILITY_TYPE_CD  FACILITY_LOCATION_CD  \\\n",
       "PUF_CASE_ID                                                                     \n",
       "D66f458f9-bdc0-4c95-94a3-a5f8c5bb74f9               3.0                   5.0   \n",
       "Dfc68ea23-71aa-4b0d-87c0-587b4ce13d04               3.0                   9.0   \n",
       "D54a1d0da-4328-4ca5-8481-87cd73b33dd4               3.0                   6.0   \n",
       "D62170955-5fc5-434e-8e6a-6a9e139851c4               3.0                   6.0   \n",
       "D2cfdabba-8277-463e-bf64-7c3139b45372               3.0                   2.0   \n",
       "\n",
       "                                       AGE  SEX  RACE  \\\n",
       "PUF_CASE_ID                                             \n",
       "D66f458f9-bdc0-4c95-94a3-a5f8c5bb74f9   52    2   1.0   \n",
       "Dfc68ea23-71aa-4b0d-87c0-587b4ce13d04   49    2   1.0   \n",
       "D54a1d0da-4328-4ca5-8481-87cd73b33dd4   58    1   1.0   \n",
       "D62170955-5fc5-434e-8e6a-6a9e139851c4   80    2   1.0   \n",
       "D2cfdabba-8277-463e-bf64-7c3139b45372   81    2   1.0   \n",
       "\n",
       "                                       SPANISH_HISPANIC_ORIGIN  \\\n",
       "PUF_CASE_ID                                                      \n",
       "D66f458f9-bdc0-4c95-94a3-a5f8c5bb74f9                        0   \n",
       "Dfc68ea23-71aa-4b0d-87c0-587b4ce13d04                        0   \n",
       "D54a1d0da-4328-4ca5-8481-87cd73b33dd4                        0   \n",
       "D62170955-5fc5-434e-8e6a-6a9e139851c4                        0   \n",
       "D2cfdabba-8277-463e-bf64-7c3139b45372                        0   \n",
       "\n",
       "                                       INSURANCE_STATUS  UR_CD_13  CROWFLY  \\\n",
       "PUF_CASE_ID                                                                  \n",
       "D66f458f9-bdc0-4c95-94a3-a5f8c5bb74f9                 0       2.0      3.6   \n",
       "Dfc68ea23-71aa-4b0d-87c0-587b4ce13d04                 1       1.0     11.4   \n",
       "D54a1d0da-4328-4ca5-8481-87cd73b33dd4                 2       1.0     14.0   \n",
       "D62170955-5fc5-434e-8e6a-6a9e139851c4                 3       1.0      NaN   \n",
       "D2cfdabba-8277-463e-bf64-7c3139b45372                 1       1.0     30.3   \n",
       "\n",
       "                                       CDCC_TOTAL_BEST  ...  \\\n",
       "PUF_CASE_ID                                             ...   \n",
       "D66f458f9-bdc0-4c95-94a3-a5f8c5bb74f9                0  ...   \n",
       "Dfc68ea23-71aa-4b0d-87c0-587b4ce13d04                0  ...   \n",
       "D54a1d0da-4328-4ca5-8481-87cd73b33dd4                0  ...   \n",
       "D62170955-5fc5-434e-8e6a-6a9e139851c4                0  ...   \n",
       "D2cfdabba-8277-463e-bf64-7c3139b45372                0  ...   \n",
       "\n",
       "                                       MED_INC_QUAR_2016  \\\n",
       "PUF_CASE_ID                                                \n",
       "D66f458f9-bdc0-4c95-94a3-a5f8c5bb74f9                1.0   \n",
       "Dfc68ea23-71aa-4b0d-87c0-587b4ce13d04                3.0   \n",
       "D54a1d0da-4328-4ca5-8481-87cd73b33dd4                4.0   \n",
       "D62170955-5fc5-434e-8e6a-6a9e139851c4                NaN   \n",
       "D2cfdabba-8277-463e-bf64-7c3139b45372                4.0   \n",
       "\n",
       "                                       PUF_MEDICAID_EXPN_CODE TOTAL_DOSE  APR  \\\n",
       "PUF_CASE_ID                                                                     \n",
       "D66f458f9-bdc0-4c95-94a3-a5f8c5bb74f9                       0        0.0  0.0   \n",
       "Dfc68ea23-71aa-4b0d-87c0-587b4ce13d04                       2        NaN  0.0   \n",
       "D54a1d0da-4328-4ca5-8481-87cd73b33dd4                       2     5940.0  NaN   \n",
       "D62170955-5fc5-434e-8e6a-6a9e139851c4                       2     5220.0  NaN   \n",
       "D2cfdabba-8277-463e-bf64-7c3139b45372                       1     5400.0  0.0   \n",
       "\n",
       "                                       stage  t_stage  n_stage  m_stage  \\\n",
       "PUF_CASE_ID                                                               \n",
       "D66f458f9-bdc0-4c95-94a3-a5f8c5bb74f9     2A        2        0        0   \n",
       "Dfc68ea23-71aa-4b0d-87c0-587b4ce13d04     3A        2        1        0   \n",
       "D54a1d0da-4328-4ca5-8481-87cd73b33dd4     2B        3        0        0   \n",
       "D62170955-5fc5-434e-8e6a-6a9e139851c4      1        1        0        0   \n",
       "D2cfdabba-8277-463e-bf64-7c3139b45372     2B        3        0        0   \n",
       "\n",
       "                                          p_stage  facs_quart_norm  \n",
       "PUF_CASE_ID                                                         \n",
       "D66f458f9-bdc0-4c95-94a3-a5f8c5bb74f9  No surgery              3.0  \n",
       "Dfc68ea23-71aa-4b0d-87c0-587b4ce13d04  No surgery              1.0  \n",
       "D54a1d0da-4328-4ca5-8481-87cd73b33dd4         NaN              3.0  \n",
       "D62170955-5fc5-434e-8e6a-6a9e139851c4         NaN              3.0  \n",
       "D2cfdabba-8277-463e-bf64-7c3139b45372  No surgery              3.0  \n",
       "\n",
       "[5 rows x 36 columns]"
      ]
     },
     "execution_count": 140,
     "metadata": {},
     "output_type": "execute_result"
    }
   ],
   "source": [
    "data.head()"
   ]
  },
  {
   "cell_type": "code",
   "execution_count": 141,
   "metadata": {},
   "outputs": [
    {
     "data": {
      "text/plain": [
       "62.91999999999971"
      ]
     },
     "execution_count": 141,
     "metadata": {},
     "output_type": "execute_result"
    }
   ],
   "source": [
    "#get the 90th percentile\n",
    "data['CROWFLY'].quantile(0.95)"
   ]
  },
  {
   "cell_type": "code",
   "execution_count": 142,
   "metadata": {},
   "outputs": [
    {
     "data": {
      "text/plain": [
       "<AxesSubplot:>"
      ]
     },
     "execution_count": 142,
     "metadata": {},
     "output_type": "execute_result"
    },
    {
     "data": {
      "image/png": "[encoded data removed]",
      "text/plain": [
       "<Figure size 432x288 with 1 Axes>"
      ]
     },
     "metadata": {
      "needs_background": "light"
     },
     "output_type": "display_data"
    }
   ],
   "source": [
    "data.loc[data['CROWFLY'] > 63, 'CROWFLY'] = 63\n",
    "data['CROWFLY'].hist()"
   ]
  },
  {
   "cell_type": "code",
   "execution_count": 143,
   "metadata": {},
   "outputs": [
    {
     "data": {
      "text/plain": [
       "<AxesSubplot:>"
      ]
     },
     "execution_count": 143,
     "metadata": {},
     "output_type": "execute_result"
    },
    {
     "data": {
      "image/png": "[encoded data removed]",
      "text/plain": [
       "<Figure size 432x288 with 1 Axes>"
      ]
     },
     "metadata": {
      "needs_background": "light"
     },
     "output_type": "display_data"
    }
   ],
   "source": [
    "data['DX_LASTCONTACT_DEATH_MONTHS'].hist()"
   ]
  },
  {
   "cell_type": "code",
   "execution_count": 144,
   "metadata": {},
   "outputs": [
    {
     "data": {
      "text/plain": [
       "count    39331.000000\n",
       "mean        63.596507\n",
       "std         45.536624\n",
       "min          0.000000\n",
       "25%         27.430000\n",
       "50%         53.160000\n",
       "75%         91.960000\n",
       "max        208.790000\n",
       "Name: DX_LASTCONTACT_DEATH_MONTHS, dtype: float64"
      ]
     },
     "execution_count": 144,
     "metadata": {},
     "output_type": "execute_result"
    }
   ],
   "source": [
    "data['DX_LASTCONTACT_DEATH_MONTHS'].describe()"
   ]
  },
  {
   "cell_type": "code",
   "execution_count": 145,
   "metadata": {},
   "outputs": [
    {
     "data": {
      "text/plain": [
       "0.0    30999\n",
       "1.0     6121\n",
       "NaN     5930\n",
       "Name: 2yr_mortality, dtype: int64"
      ]
     },
     "execution_count": 145,
     "metadata": {},
     "output_type": "execute_result"
    }
   ],
   "source": [
    "data['2yr_mortality'] = np.NaN\n",
    "data.loc[((data['DX_LASTCONTACT_DEATH_MONTHS'] >= 24) & (data['PUF_VITAL_STATUS'] == 1)), '2yr_mortality'] = 0\n",
    "data.loc[((data['DX_LASTCONTACT_DEATH_MONTHS'] >= 24) & (data['PUF_VITAL_STATUS'] == 0)), '2yr_mortality'] = 0\n",
    "data.loc[((data['DX_LASTCONTACT_DEATH_MONTHS'] < 24) & (data['PUF_VITAL_STATUS'] == 0)), '2yr_mortality'] = 1\n",
    "data['2yr_mortality'].value_counts(dropna=False)"
   ]
  },
  {
   "cell_type": "code",
   "execution_count": 146,
   "metadata": {},
   "outputs": [
    {
     "data": {
      "text/plain": [
       "0.0    25804\n",
       "NaN     9216\n",
       "1.0     8030\n",
       "Name: 3yr_mortality, dtype: int64"
      ]
     },
     "execution_count": 146,
     "metadata": {},
     "output_type": "execute_result"
    }
   ],
   "source": [
    "data['3yr_mortality'] = np.NaN\n",
    "data.loc[((data['DX_LASTCONTACT_DEATH_MONTHS'] >= 36) & (data['PUF_VITAL_STATUS'] == 1)), '3yr_mortality'] = 0\n",
    "data.loc[((data['DX_LASTCONTACT_DEATH_MONTHS'] >= 36) & (data['PUF_VITAL_STATUS'] == 0)), '3yr_mortality'] = 0\n",
    "data.loc[((data['DX_LASTCONTACT_DEATH_MONTHS'] < 36) & (data['PUF_VITAL_STATUS'] == 0)), '3yr_mortality'] = 1\n",
    "data['3yr_mortality'].value_counts(dropna=False)"
   ]
  },
  {
   "cell_type": "code",
   "execution_count": 147,
   "metadata": {},
   "outputs": [
    {
     "data": {
      "text/plain": [
       "0.0    17519\n",
       "NaN    15270\n",
       "1.0    10261\n",
       "Name: 5yr_mortality, dtype: int64"
      ]
     },
     "execution_count": 147,
     "metadata": {},
     "output_type": "execute_result"
    }
   ],
   "source": [
    "data['5yr_mortality'] = np.NaN\n",
    "data.loc[((data['DX_LASTCONTACT_DEATH_MONTHS'] >= 60) & (data['PUF_VITAL_STATUS'] == 1)), '5yr_mortality'] = 0\n",
    "data.loc[((data['DX_LASTCONTACT_DEATH_MONTHS'] >= 60) & (data['PUF_VITAL_STATUS'] == 0)), '5yr_mortality'] = 0\n",
    "data.loc[((data['DX_LASTCONTACT_DEATH_MONTHS'] < 60) & (data['PUF_VITAL_STATUS'] == 0)), '5yr_mortality'] = 1\n",
    "data['5yr_mortality'].value_counts(dropna=False)"
   ]
  },
  {
   "cell_type": "code",
   "execution_count": 148,
   "metadata": {},
   "outputs": [
    {
     "data": {
      "text/plain": [
       "2018    3765\n",
       "2019    3714\n",
       "2016    3537\n",
       "2017    3532\n",
       "2015    3206\n",
       "2014    3205\n",
       "2013    2993\n",
       "2012    2736\n",
       "2011    2547\n",
       "2009    2397\n",
       "2010    2339\n",
       "2008    2197\n",
       "2007    1907\n",
       "2006    1724\n",
       "2004    1632\n",
       "2005    1619\n",
       "Name: YEAR_OF_DIAGNOSIS, dtype: int64"
      ]
     },
     "execution_count": 148,
     "metadata": {},
     "output_type": "execute_result"
    }
   ],
   "source": [
    "data['YEAR_OF_DIAGNOSIS'].value_counts(dropna=False)"
   ]
  },
  {
   "cell_type": "code",
   "execution_count": 149,
   "metadata": {},
   "outputs": [],
   "source": [
    "# mortality_df = {}\n",
    "# for year in ['2', '3', '5']:\n",
    "#     pd.DataFrame(data.groupby('YEAR_OF_DIAGNOSIS')['{}yr_mortality'.format(year)].value_counts(normalize=False)).to_csv('data/{}_yr_mortality_counts.csv'.format(year))"
   ]
  },
  {
   "cell_type": "code",
   "execution_count": 150,
   "metadata": {},
   "outputs": [
    {
     "data": {
      "text/html": [
       "<div>\n",
       "<style scoped>\n",
       "    .dataframe tbody tr th:only-of-type {\n",
       "        vertical-align: middle;\n",
       "    }\n",
       "\n",
       "    .dataframe tbody tr th {\n",
       "        vertical-align: top;\n",
       "    }\n",
       "\n",
       "    .dataframe thead th {\n",
       "        text-align: right;\n",
       "    }\n",
       "</style>\n",
       "<table border=\"1\" class=\"dataframe\">\n",
       "  <thead>\n",
       "    <tr style=\"text-align: right;\">\n",
       "      <th>2yr_mortality</th>\n",
       "      <th>0.0</th>\n",
       "      <th>1.0</th>\n",
       "    </tr>\n",
       "    <tr>\n",
       "      <th>YEAR_OF_DIAGNOSIS</th>\n",
       "      <th></th>\n",
       "      <th></th>\n",
       "    </tr>\n",
       "  </thead>\n",
       "  <tbody>\n",
       "    <tr>\n",
       "      <th>2004</th>\n",
       "      <td>0.788071</td>\n",
       "      <td>0.211929</td>\n",
       "    </tr>\n",
       "    <tr>\n",
       "      <th>2005</th>\n",
       "      <td>0.798223</td>\n",
       "      <td>0.201777</td>\n",
       "    </tr>\n",
       "    <tr>\n",
       "      <th>2006</th>\n",
       "      <td>0.819362</td>\n",
       "      <td>0.180638</td>\n",
       "    </tr>\n",
       "    <tr>\n",
       "      <th>2007</th>\n",
       "      <td>0.831383</td>\n",
       "      <td>0.168617</td>\n",
       "    </tr>\n",
       "    <tr>\n",
       "      <th>2008</th>\n",
       "      <td>0.825185</td>\n",
       "      <td>0.174815</td>\n",
       "    </tr>\n",
       "    <tr>\n",
       "      <th>2009</th>\n",
       "      <td>0.825255</td>\n",
       "      <td>0.174745</td>\n",
       "    </tr>\n",
       "    <tr>\n",
       "      <th>2010</th>\n",
       "      <td>0.839791</td>\n",
       "      <td>0.160209</td>\n",
       "    </tr>\n",
       "    <tr>\n",
       "      <th>2011</th>\n",
       "      <td>0.841136</td>\n",
       "      <td>0.158864</td>\n",
       "    </tr>\n",
       "    <tr>\n",
       "      <th>2012</th>\n",
       "      <td>0.840790</td>\n",
       "      <td>0.159210</td>\n",
       "    </tr>\n",
       "    <tr>\n",
       "      <th>2013</th>\n",
       "      <td>0.830221</td>\n",
       "      <td>0.169779</td>\n",
       "    </tr>\n",
       "    <tr>\n",
       "      <th>2014</th>\n",
       "      <td>0.849245</td>\n",
       "      <td>0.150755</td>\n",
       "    </tr>\n",
       "    <tr>\n",
       "      <th>2015</th>\n",
       "      <td>0.848661</td>\n",
       "      <td>0.151339</td>\n",
       "    </tr>\n",
       "    <tr>\n",
       "      <th>2016</th>\n",
       "      <td>0.855120</td>\n",
       "      <td>0.144880</td>\n",
       "    </tr>\n",
       "    <tr>\n",
       "      <th>2017</th>\n",
       "      <td>0.850267</td>\n",
       "      <td>0.149733</td>\n",
       "    </tr>\n",
       "    <tr>\n",
       "      <th>2018</th>\n",
       "      <td>0.828283</td>\n",
       "      <td>0.171717</td>\n",
       "    </tr>\n",
       "  </tbody>\n",
       "</table>\n",
       "</div>"
      ],
      "text/plain": [
       "2yr_mortality           0.0       1.0\n",
       "YEAR_OF_DIAGNOSIS                    \n",
       "2004               0.788071  0.211929\n",
       "2005               0.798223  0.201777\n",
       "2006               0.819362  0.180638\n",
       "2007               0.831383  0.168617\n",
       "2008               0.825185  0.174815\n",
       "2009               0.825255  0.174745\n",
       "2010               0.839791  0.160209\n",
       "2011               0.841136  0.158864\n",
       "2012               0.840790  0.159210\n",
       "2013               0.830221  0.169779\n",
       "2014               0.849245  0.150755\n",
       "2015               0.848661  0.151339\n",
       "2016               0.855120  0.144880\n",
       "2017               0.850267  0.149733\n",
       "2018               0.828283  0.171717"
      ]
     },
     "execution_count": 150,
     "metadata": {},
     "output_type": "execute_result"
    }
   ],
   "source": [
    "pd.crosstab(data['YEAR_OF_DIAGNOSIS'], data['2yr_mortality'], normalize='index')"
   ]
  },
  {
   "cell_type": "code",
   "execution_count": 151,
   "metadata": {},
   "outputs": [
    {
     "data": {
      "text/html": [
       "<div>\n",
       "<style scoped>\n",
       "    .dataframe tbody tr th:only-of-type {\n",
       "        vertical-align: middle;\n",
       "    }\n",
       "\n",
       "    .dataframe tbody tr th {\n",
       "        vertical-align: top;\n",
       "    }\n",
       "\n",
       "    .dataframe thead th {\n",
       "        text-align: right;\n",
       "    }\n",
       "</style>\n",
       "<table border=\"1\" class=\"dataframe\">\n",
       "  <thead>\n",
       "    <tr style=\"text-align: right;\">\n",
       "      <th>3yr_mortality</th>\n",
       "      <th>0.0</th>\n",
       "      <th>1.0</th>\n",
       "    </tr>\n",
       "    <tr>\n",
       "      <th>YEAR_OF_DIAGNOSIS</th>\n",
       "      <th></th>\n",
       "      <th></th>\n",
       "    </tr>\n",
       "  </thead>\n",
       "  <tbody>\n",
       "    <tr>\n",
       "      <th>2004</th>\n",
       "      <td>0.730351</td>\n",
       "      <td>0.269649</td>\n",
       "    </tr>\n",
       "    <tr>\n",
       "      <th>2005</th>\n",
       "      <td>0.736607</td>\n",
       "      <td>0.263393</td>\n",
       "    </tr>\n",
       "    <tr>\n",
       "      <th>2006</th>\n",
       "      <td>0.763268</td>\n",
       "      <td>0.236732</td>\n",
       "    </tr>\n",
       "    <tr>\n",
       "      <th>2007</th>\n",
       "      <td>0.766310</td>\n",
       "      <td>0.233690</td>\n",
       "    </tr>\n",
       "    <tr>\n",
       "      <th>2008</th>\n",
       "      <td>0.768622</td>\n",
       "      <td>0.231378</td>\n",
       "    </tr>\n",
       "    <tr>\n",
       "      <th>2009</th>\n",
       "      <td>0.766667</td>\n",
       "      <td>0.233333</td>\n",
       "    </tr>\n",
       "    <tr>\n",
       "      <th>2010</th>\n",
       "      <td>0.777339</td>\n",
       "      <td>0.222661</td>\n",
       "    </tr>\n",
       "    <tr>\n",
       "      <th>2011</th>\n",
       "      <td>0.784959</td>\n",
       "      <td>0.215041</td>\n",
       "    </tr>\n",
       "    <tr>\n",
       "      <th>2012</th>\n",
       "      <td>0.785146</td>\n",
       "      <td>0.214854</td>\n",
       "    </tr>\n",
       "    <tr>\n",
       "      <th>2013</th>\n",
       "      <td>0.772226</td>\n",
       "      <td>0.227774</td>\n",
       "    </tr>\n",
       "    <tr>\n",
       "      <th>2014</th>\n",
       "      <td>0.796798</td>\n",
       "      <td>0.203202</td>\n",
       "    </tr>\n",
       "    <tr>\n",
       "      <th>2015</th>\n",
       "      <td>0.795905</td>\n",
       "      <td>0.204095</td>\n",
       "    </tr>\n",
       "    <tr>\n",
       "      <th>2016</th>\n",
       "      <td>0.796034</td>\n",
       "      <td>0.203966</td>\n",
       "    </tr>\n",
       "    <tr>\n",
       "      <th>2017</th>\n",
       "      <td>0.738481</td>\n",
       "      <td>0.261519</td>\n",
       "    </tr>\n",
       "    <tr>\n",
       "      <th>2018</th>\n",
       "      <td>0.301768</td>\n",
       "      <td>0.698232</td>\n",
       "    </tr>\n",
       "  </tbody>\n",
       "</table>\n",
       "</div>"
      ],
      "text/plain": [
       "3yr_mortality           0.0       1.0\n",
       "YEAR_OF_DIAGNOSIS                    \n",
       "2004               0.730351  0.269649\n",
       "2005               0.736607  0.263393\n",
       "2006               0.763268  0.236732\n",
       "2007               0.766310  0.233690\n",
       "2008               0.768622  0.231378\n",
       "2009               0.766667  0.233333\n",
       "2010               0.777339  0.222661\n",
       "2011               0.784959  0.215041\n",
       "2012               0.785146  0.214854\n",
       "2013               0.772226  0.227774\n",
       "2014               0.796798  0.203202\n",
       "2015               0.795905  0.204095\n",
       "2016               0.796034  0.203966\n",
       "2017               0.738481  0.261519\n",
       "2018               0.301768  0.698232"
      ]
     },
     "execution_count": 151,
     "metadata": {},
     "output_type": "execute_result"
    }
   ],
   "source": [
    "pd.crosstab(data['YEAR_OF_DIAGNOSIS'], data['3yr_mortality'], normalize='index')"
   ]
  },
  {
   "cell_type": "code",
   "execution_count": 152,
   "metadata": {},
   "outputs": [
    {
     "data": {
      "text/html": [
       "<div>\n",
       "<style scoped>\n",
       "    .dataframe tbody tr th:only-of-type {\n",
       "        vertical-align: middle;\n",
       "    }\n",
       "\n",
       "    .dataframe tbody tr th {\n",
       "        vertical-align: top;\n",
       "    }\n",
       "\n",
       "    .dataframe thead th {\n",
       "        text-align: right;\n",
       "    }\n",
       "</style>\n",
       "<table border=\"1\" class=\"dataframe\">\n",
       "  <thead>\n",
       "    <tr style=\"text-align: right;\">\n",
       "      <th>5yr_mortality</th>\n",
       "      <th>0.0</th>\n",
       "      <th>1.0</th>\n",
       "    </tr>\n",
       "    <tr>\n",
       "      <th>YEAR_OF_DIAGNOSIS</th>\n",
       "      <th></th>\n",
       "      <th></th>\n",
       "    </tr>\n",
       "  </thead>\n",
       "  <tbody>\n",
       "    <tr>\n",
       "      <th>2004</th>\n",
       "      <td>0.648316</td>\n",
       "      <td>0.351684</td>\n",
       "    </tr>\n",
       "    <tr>\n",
       "      <th>2005</th>\n",
       "      <td>0.654994</td>\n",
       "      <td>0.345006</td>\n",
       "    </tr>\n",
       "    <tr>\n",
       "      <th>2006</th>\n",
       "      <td>0.680073</td>\n",
       "      <td>0.319927</td>\n",
       "    </tr>\n",
       "    <tr>\n",
       "      <th>2007</th>\n",
       "      <td>0.678748</td>\n",
       "      <td>0.321252</td>\n",
       "    </tr>\n",
       "    <tr>\n",
       "      <th>2008</th>\n",
       "      <td>0.685769</td>\n",
       "      <td>0.314231</td>\n",
       "    </tr>\n",
       "    <tr>\n",
       "      <th>2009</th>\n",
       "      <td>0.693122</td>\n",
       "      <td>0.306878</td>\n",
       "    </tr>\n",
       "    <tr>\n",
       "      <th>2010</th>\n",
       "      <td>0.692654</td>\n",
       "      <td>0.307346</td>\n",
       "    </tr>\n",
       "    <tr>\n",
       "      <th>2011</th>\n",
       "      <td>0.688476</td>\n",
       "      <td>0.311524</td>\n",
       "    </tr>\n",
       "    <tr>\n",
       "      <th>2012</th>\n",
       "      <td>0.699642</td>\n",
       "      <td>0.300358</td>\n",
       "    </tr>\n",
       "    <tr>\n",
       "      <th>2013</th>\n",
       "      <td>0.686419</td>\n",
       "      <td>0.313581</td>\n",
       "    </tr>\n",
       "    <tr>\n",
       "      <th>2014</th>\n",
       "      <td>0.688009</td>\n",
       "      <td>0.311991</td>\n",
       "    </tr>\n",
       "    <tr>\n",
       "      <th>2015</th>\n",
       "      <td>0.619897</td>\n",
       "      <td>0.380103</td>\n",
       "    </tr>\n",
       "    <tr>\n",
       "      <th>2016</th>\n",
       "      <td>0.177914</td>\n",
       "      <td>0.822086</td>\n",
       "    </tr>\n",
       "    <tr>\n",
       "      <th>2017</th>\n",
       "      <td>0.000000</td>\n",
       "      <td>1.000000</td>\n",
       "    </tr>\n",
       "    <tr>\n",
       "      <th>2018</th>\n",
       "      <td>0.000000</td>\n",
       "      <td>1.000000</td>\n",
       "    </tr>\n",
       "  </tbody>\n",
       "</table>\n",
       "</div>"
      ],
      "text/plain": [
       "5yr_mortality           0.0       1.0\n",
       "YEAR_OF_DIAGNOSIS                    \n",
       "2004               0.648316  0.351684\n",
       "2005               0.654994  0.345006\n",
       "2006               0.680073  0.319927\n",
       "2007               0.678748  0.321252\n",
       "2008               0.685769  0.314231\n",
       "2009               0.693122  0.306878\n",
       "2010               0.692654  0.307346\n",
       "2011               0.688476  0.311524\n",
       "2012               0.699642  0.300358\n",
       "2013               0.686419  0.313581\n",
       "2014               0.688009  0.311991\n",
       "2015               0.619897  0.380103\n",
       "2016               0.177914  0.822086\n",
       "2017               0.000000  1.000000\n",
       "2018               0.000000  1.000000"
      ]
     },
     "execution_count": 152,
     "metadata": {},
     "output_type": "execute_result"
    }
   ],
   "source": [
    "pd.crosstab(data['YEAR_OF_DIAGNOSIS'], data['5yr_mortality'], normalize='index')"
   ]
  },
  {
   "cell_type": "code",
   "execution_count": 157,
   "metadata": {},
   "outputs": [
    {
     "data": {
      "text/html": [
       "<div>\n",
       "<style scoped>\n",
       "    .dataframe tbody tr th:only-of-type {\n",
       "        vertical-align: middle;\n",
       "    }\n",
       "\n",
       "    .dataframe tbody tr th {\n",
       "        vertical-align: top;\n",
       "    }\n",
       "\n",
       "    .dataframe thead th {\n",
       "        text-align: right;\n",
       "    }\n",
       "</style>\n",
       "<table border=\"1\" class=\"dataframe\">\n",
       "  <thead>\n",
       "    <tr style=\"text-align: right;\">\n",
       "      <th></th>\n",
       "      <th>DX_LASTCONTACT_DEATH_MONTHS</th>\n",
       "      <th>PUF_VITAL_STATUS</th>\n",
       "    </tr>\n",
       "    <tr>\n",
       "      <th>PUF_CASE_ID</th>\n",
       "      <th></th>\n",
       "      <th></th>\n",
       "    </tr>\n",
       "  </thead>\n",
       "  <tbody>\n",
       "    <tr>\n",
       "      <th>D66f458f9-bdc0-4c95-94a3-a5f8c5bb74f9</th>\n",
       "      <td>48.82</td>\n",
       "      <td>1.0</td>\n",
       "    </tr>\n",
       "    <tr>\n",
       "      <th>Dfc68ea23-71aa-4b0d-87c0-587b4ce13d04</th>\n",
       "      <td>65.64</td>\n",
       "      <td>0.0</td>\n",
       "    </tr>\n",
       "    <tr>\n",
       "      <th>D54a1d0da-4328-4ca5-8481-87cd73b33dd4</th>\n",
       "      <td>67.48</td>\n",
       "      <td>1.0</td>\n",
       "    </tr>\n",
       "    <tr>\n",
       "      <th>D62170955-5fc5-434e-8e6a-6a9e139851c4</th>\n",
       "      <td>37.19</td>\n",
       "      <td>1.0</td>\n",
       "    </tr>\n",
       "    <tr>\n",
       "      <th>D2cfdabba-8277-463e-bf64-7c3139b45372</th>\n",
       "      <td>15.47</td>\n",
       "      <td>1.0</td>\n",
       "    </tr>\n",
       "  </tbody>\n",
       "</table>\n",
       "</div>"
      ],
      "text/plain": [
       "                                       DX_LASTCONTACT_DEATH_MONTHS  \\\n",
       "PUF_CASE_ID                                                          \n",
       "D66f458f9-bdc0-4c95-94a3-a5f8c5bb74f9                        48.82   \n",
       "Dfc68ea23-71aa-4b0d-87c0-587b4ce13d04                        65.64   \n",
       "D54a1d0da-4328-4ca5-8481-87cd73b33dd4                        67.48   \n",
       "D62170955-5fc5-434e-8e6a-6a9e139851c4                        37.19   \n",
       "D2cfdabba-8277-463e-bf64-7c3139b45372                        15.47   \n",
       "\n",
       "                                       PUF_VITAL_STATUS  \n",
       "PUF_CASE_ID                                              \n",
       "D66f458f9-bdc0-4c95-94a3-a5f8c5bb74f9               1.0  \n",
       "Dfc68ea23-71aa-4b0d-87c0-587b4ce13d04               0.0  \n",
       "D54a1d0da-4328-4ca5-8481-87cd73b33dd4               1.0  \n",
       "D62170955-5fc5-434e-8e6a-6a9e139851c4               1.0  \n",
       "D2cfdabba-8277-463e-bf64-7c3139b45372               1.0  "
      ]
     },
     "execution_count": 157,
     "metadata": {},
     "output_type": "execute_result"
    }
   ],
   "source": [
    "km_cols = ['DX_LASTCONTACT_DEATH_MONTHS', 'PUF_VITAL_STATUS']\n",
    "data_km = data[km_cols]\n",
    "data_km.head()"
   ]
  },
  {
   "cell_type": "code",
   "execution_count": 158,
   "metadata": {},
   "outputs": [],
   "source": [
    "data_km.to_csv('data/data_km.csv', index_label='PUF_CASE_ID')"
   ]
  },
  {
   "cell_type": "code",
   "execution_count": 70,
   "metadata": {},
   "outputs": [],
   "source": [
    "data.drop(columns=['DX_LASTCONTACT_DEATH_MONTHS', 'PUF_VITAL_STATUS', '2yr_mortality', '5yr_mortality'], inplace=True)"
   ]
  },
  {
   "cell_type": "code",
   "execution_count": 71,
   "metadata": {},
   "outputs": [
    {
     "data": {
      "text/html": [
       "<div>\n",
       "<style scoped>\n",
       "    .dataframe tbody tr th:only-of-type {\n",
       "        vertical-align: middle;\n",
       "    }\n",
       "\n",
       "    .dataframe tbody tr th {\n",
       "        vertical-align: top;\n",
       "    }\n",
       "\n",
       "    .dataframe thead th {\n",
       "        text-align: right;\n",
       "    }\n",
       "</style>\n",
       "<table border=\"1\" class=\"dataframe\">\n",
       "  <thead>\n",
       "    <tr style=\"text-align: right;\">\n",
       "      <th></th>\n",
       "      <th>criteria</th>\n",
       "      <th>before</th>\n",
       "      <th>after</th>\n",
       "      <th>drop</th>\n",
       "      <th>% APR</th>\n",
       "    </tr>\n",
       "  </thead>\n",
       "  <tbody>\n",
       "    <tr>\n",
       "      <th>0</th>\n",
       "      <td>total</td>\n",
       "      <td>0</td>\n",
       "      <td>80128</td>\n",
       "      <td>0</td>\n",
       "      <td>0.116033</td>\n",
       "    </tr>\n",
       "    <tr>\n",
       "      <th>1</th>\n",
       "      <td>histology</td>\n",
       "      <td>80128</td>\n",
       "      <td>70610</td>\n",
       "      <td>9518</td>\n",
       "      <td>0.063928</td>\n",
       "    </tr>\n",
       "    <tr>\n",
       "      <th>2</th>\n",
       "      <td>no radiation</td>\n",
       "      <td>70610</td>\n",
       "      <td>51796</td>\n",
       "      <td>18814</td>\n",
       "      <td>0.039923</td>\n",
       "    </tr>\n",
       "    <tr>\n",
       "      <th>3</th>\n",
       "      <td>stage IV</td>\n",
       "      <td>51796</td>\n",
       "      <td>49284</td>\n",
       "      <td>2512</td>\n",
       "      <td>0.040543</td>\n",
       "    </tr>\n",
       "    <tr>\n",
       "      <th>4</th>\n",
       "      <td>stage 0</td>\n",
       "      <td>49284</td>\n",
       "      <td>48640</td>\n",
       "      <td>644</td>\n",
       "      <td>0.040459</td>\n",
       "    </tr>\n",
       "    <tr>\n",
       "      <th>5</th>\n",
       "      <td>stage missing</td>\n",
       "      <td>48640</td>\n",
       "      <td>43050</td>\n",
       "      <td>5590</td>\n",
       "      <td>0.032337</td>\n",
       "    </tr>\n",
       "    <tr>\n",
       "      <th>6</th>\n",
       "      <td>3yr f/u</td>\n",
       "      <td>43050</td>\n",
       "      <td>33834</td>\n",
       "      <td>9216</td>\n",
       "      <td>0.034824</td>\n",
       "    </tr>\n",
       "  </tbody>\n",
       "</table>\n",
       "</div>"
      ],
      "text/plain": [
       "        criteria before  after   drop     % APR\n",
       "0          total      0  80128      0  0.116033\n",
       "1      histology  80128  70610   9518  0.063928\n",
       "2   no radiation  70610  51796  18814  0.039923\n",
       "3       stage IV  51796  49284   2512  0.040543\n",
       "4        stage 0  49284  48640    644  0.040459\n",
       "5  stage missing  48640  43050   5590  0.032337\n",
       "6        3yr f/u  43050  33834   9216  0.034824"
      ]
     },
     "execution_count": 71,
     "metadata": {},
     "output_type": "execute_result"
    }
   ],
   "source": [
    "before = data.shape[0]\n",
    "data.dropna(subset=['3yr_mortality'], inplace=True)\n",
    "after = data.shape[0]\n",
    "drop = before - after\n",
    "\n",
    "drop_counts = drop_counts.append({'criteria': '3yr f/u', 'before': before, 'after': after, 'drop': drop, '% APR': table(data, 'APR')['percent'][1]}, ignore_index=True)\n",
    "drop_counts.head(20)"
   ]
  },
  {
   "cell_type": "code",
   "execution_count": 72,
   "metadata": {},
   "outputs": [],
   "source": [
    "data.dropna(subset=['3yr_mortality'], inplace=True)"
   ]
  },
  {
   "cell_type": "code",
   "execution_count": 73,
   "metadata": {},
   "outputs": [
    {
     "data": {
      "text/plain": [
       "0.0    23531\n",
       "NaN     9454\n",
       "1.0      849\n",
       "Name: APR, dtype: int64"
      ]
     },
     "execution_count": 73,
     "metadata": {},
     "output_type": "execute_result"
    }
   ],
   "source": [
    "data['APR'].value_counts(dropna=False)"
   ]
  },
  {
   "cell_type": "code",
   "execution_count": 74,
   "metadata": {},
   "outputs": [
    {
     "data": {
      "text/plain": [
       "0.0    0.965176\n",
       "1.0    0.034824\n",
       "Name: APR, dtype: float64"
      ]
     },
     "execution_count": 74,
     "metadata": {},
     "output_type": "execute_result"
    }
   ],
   "source": [
    "data['APR'].value_counts(normalize=True)"
   ]
  },
  {
   "cell_type": "code",
   "execution_count": 75,
   "metadata": {},
   "outputs": [
    {
     "data": {
      "text/plain": [
       "0.0        23531\n",
       "missing     9454\n",
       "1.0          849\n",
       "Name: APR, dtype: int64"
      ]
     },
     "execution_count": 75,
     "metadata": {},
     "output_type": "execute_result"
    }
   ],
   "source": [
    "data['APR'].fillna('missing', inplace=True)\n",
    "data['APR'].value_counts()"
   ]
  },
  {
   "cell_type": "code",
   "execution_count": 76,
   "metadata": {},
   "outputs": [
    {
     "data": {
      "text/html": [
       "<div>\n",
       "<style scoped>\n",
       "    .dataframe tbody tr th:only-of-type {\n",
       "        vertical-align: middle;\n",
       "    }\n",
       "\n",
       "    .dataframe tbody tr th {\n",
       "        vertical-align: top;\n",
       "    }\n",
       "\n",
       "    .dataframe thead th {\n",
       "        text-align: right;\n",
       "    }\n",
       "</style>\n",
       "<table border=\"1\" class=\"dataframe\">\n",
       "  <thead>\n",
       "    <tr style=\"text-align: right;\">\n",
       "      <th>3yr_mortality</th>\n",
       "      <th>0.0</th>\n",
       "      <th>1.0</th>\n",
       "    </tr>\n",
       "    <tr>\n",
       "      <th>APR</th>\n",
       "      <th></th>\n",
       "      <th></th>\n",
       "    </tr>\n",
       "  </thead>\n",
       "  <tbody>\n",
       "    <tr>\n",
       "      <th>0.0</th>\n",
       "      <td>0.763376</td>\n",
       "      <td>0.236624</td>\n",
       "    </tr>\n",
       "    <tr>\n",
       "      <th>1.0</th>\n",
       "      <td>0.521790</td>\n",
       "      <td>0.478210</td>\n",
       "    </tr>\n",
       "    <tr>\n",
       "      <th>missing</th>\n",
       "      <td>0.782526</td>\n",
       "      <td>0.217474</td>\n",
       "    </tr>\n",
       "  </tbody>\n",
       "</table>\n",
       "</div>"
      ],
      "text/plain": [
       "3yr_mortality       0.0       1.0\n",
       "APR                              \n",
       "0.0            0.763376  0.236624\n",
       "1.0            0.521790  0.478210\n",
       "missing        0.782526  0.217474"
      ]
     },
     "execution_count": 76,
     "metadata": {},
     "output_type": "execute_result"
    }
   ],
   "source": [
    "pd.crosstab(data['APR'], data['3yr_mortality'], normalize='index')"
   ]
  },
  {
   "cell_type": "code",
   "execution_count": 77,
   "metadata": {},
   "outputs": [
    {
     "data": {
      "text/plain": [
       "2016    3177\n",
       "2014    3061\n",
       "2015    2979\n",
       "2013    2902\n",
       "2012    2639\n",
       "2011    2460\n",
       "2017    2409\n",
       "2009    2310\n",
       "2010    2277\n",
       "2008    2148\n",
       "2007    1870\n",
       "2006    1677\n",
       "2005    1568\n",
       "2004    1565\n",
       "2018     792\n",
       "Name: YEAR_OF_DIAGNOSIS, dtype: int64"
      ]
     },
     "execution_count": 77,
     "metadata": {},
     "output_type": "execute_result"
    }
   ],
   "source": [
    "data['YEAR_OF_DIAGNOSIS'].value_counts(dropna=False)"
   ]
  },
  {
   "cell_type": "code",
   "execution_count": 78,
   "metadata": {},
   "outputs": [],
   "source": [
    "# data = data[data['YEAR_OF_DIAGNOSIS'] != 2017]\n",
    "# data = data[data['YEAR_OF_DIAGNOSIS'] != 2018]"
   ]
  },
  {
   "cell_type": "code",
   "execution_count": 79,
   "metadata": {},
   "outputs": [
    {
     "data": {
      "text/plain": [
       "(33834, 35)"
      ]
     },
     "execution_count": 79,
     "metadata": {},
     "output_type": "execute_result"
    }
   ],
   "source": [
    "data.shape"
   ]
  },
  {
   "cell_type": "code",
   "execution_count": 80,
   "metadata": {},
   "outputs": [
    {
     "data": {
      "text/html": [
       "<div>\n",
       "<style scoped>\n",
       "    .dataframe tbody tr th:only-of-type {\n",
       "        vertical-align: middle;\n",
       "    }\n",
       "\n",
       "    .dataframe tbody tr th {\n",
       "        vertical-align: top;\n",
       "    }\n",
       "\n",
       "    .dataframe thead th {\n",
       "        text-align: right;\n",
       "    }\n",
       "</style>\n",
       "<table border=\"1\" class=\"dataframe\">\n",
       "  <thead>\n",
       "    <tr style=\"text-align: right;\">\n",
       "      <th></th>\n",
       "      <th>0</th>\n",
       "    </tr>\n",
       "  </thead>\n",
       "  <tbody>\n",
       "    <tr>\n",
       "      <th>SURG_DISCHARGE_DAYS</th>\n",
       "      <td>27036</td>\n",
       "    </tr>\n",
       "    <tr>\n",
       "      <th>TOTAL_DOSE</th>\n",
       "      <td>21238</td>\n",
       "    </tr>\n",
       "    <tr>\n",
       "      <th>LYMPH_VASCULAR_INVASION</th>\n",
       "      <td>11138</td>\n",
       "    </tr>\n",
       "    <tr>\n",
       "      <th>RAD_ELAPSED_RX_DAYS</th>\n",
       "      <td>10053</td>\n",
       "    </tr>\n",
       "    <tr>\n",
       "      <th>TUMOR_SIZE</th>\n",
       "      <td>9103</td>\n",
       "    </tr>\n",
       "    <tr>\n",
       "      <th>p_stage</th>\n",
       "      <td>7133</td>\n",
       "    </tr>\n",
       "    <tr>\n",
       "      <th>MED_INC_QUAR_2016</th>\n",
       "      <td>3619</td>\n",
       "    </tr>\n",
       "    <tr>\n",
       "      <th>NO_HSD_QUAR_2016</th>\n",
       "      <td>3568</td>\n",
       "    </tr>\n",
       "    <tr>\n",
       "      <th>CROWFLY</th>\n",
       "      <td>3249</td>\n",
       "    </tr>\n",
       "    <tr>\n",
       "      <th>FACILITY_LOCATION_CD</th>\n",
       "      <td>985</td>\n",
       "    </tr>\n",
       "    <tr>\n",
       "      <th>FACILITY_TYPE_CD</th>\n",
       "      <td>985</td>\n",
       "    </tr>\n",
       "    <tr>\n",
       "      <th>UR_CD_13</th>\n",
       "      <td>887</td>\n",
       "    </tr>\n",
       "    <tr>\n",
       "      <th>n_stage</th>\n",
       "      <td>840</td>\n",
       "    </tr>\n",
       "    <tr>\n",
       "      <th>t_stage</th>\n",
       "      <td>582</td>\n",
       "    </tr>\n",
       "    <tr>\n",
       "      <th>DX_RAD_STARTED_DAYS</th>\n",
       "      <td>520</td>\n",
       "    </tr>\n",
       "    <tr>\n",
       "      <th>RACE</th>\n",
       "      <td>237</td>\n",
       "    </tr>\n",
       "    <tr>\n",
       "      <th>RX_SUMM_SURG_PRIM_SITE</th>\n",
       "      <td>115</td>\n",
       "    </tr>\n",
       "    <tr>\n",
       "      <th>RX_SUMM_CHEMO</th>\n",
       "      <td>22</td>\n",
       "    </tr>\n",
       "    <tr>\n",
       "      <th>HISTOLOGY</th>\n",
       "      <td>0</td>\n",
       "    </tr>\n",
       "    <tr>\n",
       "      <th>SEX</th>\n",
       "      <td>0</td>\n",
       "    </tr>\n",
       "  </tbody>\n",
       "</table>\n",
       "</div>"
      ],
      "text/plain": [
       "                             0\n",
       "SURG_DISCHARGE_DAYS      27036\n",
       "TOTAL_DOSE               21238\n",
       "LYMPH_VASCULAR_INVASION  11138\n",
       "RAD_ELAPSED_RX_DAYS      10053\n",
       "TUMOR_SIZE                9103\n",
       "p_stage                   7133\n",
       "MED_INC_QUAR_2016         3619\n",
       "NO_HSD_QUAR_2016          3568\n",
       "CROWFLY                   3249\n",
       "FACILITY_LOCATION_CD       985\n",
       "FACILITY_TYPE_CD           985\n",
       "UR_CD_13                   887\n",
       "n_stage                    840\n",
       "t_stage                    582\n",
       "DX_RAD_STARTED_DAYS        520\n",
       "RACE                       237\n",
       "RX_SUMM_SURG_PRIM_SITE     115\n",
       "RX_SUMM_CHEMO               22\n",
       "HISTOLOGY                    0\n",
       "SEX                          0"
      ]
     },
     "execution_count": 80,
     "metadata": {},
     "output_type": "execute_result"
    }
   ],
   "source": [
    "#find the columns with the greatest proportion of missing values\n",
    "missing_values = data.isnull().sum()\n",
    "pd.DataFrame(missing_values.sort_values(ascending=False)).head(20)\n"
   ]
  },
  {
   "cell_type": "code",
   "execution_count": 81,
   "metadata": {},
   "outputs": [
    {
     "data": {
      "text/plain": [
       "0.0        23531\n",
       "missing     9454\n",
       "1.0          849\n",
       "Name: APR, dtype: int64"
      ]
     },
     "execution_count": 81,
     "metadata": {},
     "output_type": "execute_result"
    }
   ],
   "source": [
    "data['APR'].value_counts(dropna=False)"
   ]
  },
  {
   "cell_type": "code",
   "execution_count": 82,
   "metadata": {},
   "outputs": [
    {
     "data": {
      "text/plain": [
       "Series([], Name: 3yr_mortality, dtype: int64)"
      ]
     },
     "execution_count": 82,
     "metadata": {},
     "output_type": "execute_result"
    }
   ],
   "source": [
    "data_na = data[data['APR'].isnull()]\n",
    "data_na['3yr_mortality'].value_counts(dropna=False)"
   ]
  },
  {
   "cell_type": "code",
   "execution_count": 83,
   "metadata": {},
   "outputs": [],
   "source": [
    "data.to_csv('data/data_os_table1.csv', index=True, index_label='PUF_CASE_ID')"
   ]
  }
 ],
 "metadata": {
  "interpreter": {
   "hash": "916dbcbb3f70747c44a77c7bcd40155683ae19c65e1c03b4aa3499c5328201f1"
  },
  "kernelspec": {
   "display_name": "Python 3.8.10 64-bit",
   "language": "python",
   "name": "python3"
  },
  "language_info": {
   "codemirror_mode": {
    "name": "ipython",
    "version": 3
   },
   "file_extension": ".py",
   "mimetype": "text/x-python",
   "name": "python",
   "nbconvert_exporter": "python",
   "pygments_lexer": "ipython3",
   "version": "3.8.10"
  },
  "orig_nbformat": 4
 },
 "nbformat": 4,
 "nbformat_minor": 2
}
