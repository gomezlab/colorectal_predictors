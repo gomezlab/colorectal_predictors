{
 "cells": [
  {
   "cell_type": "code",
   "execution_count": 1,
   "metadata": {},
   "outputs": [],
   "source": [
    "import pandas as pd\n",
    "import numpy as np\n",
    "from tableone import TableOne\n",
    "#show more columns\n",
    "pd.set_option('display.max_columns', None)"
   ]
  },
  {
   "cell_type": "code",
   "execution_count": 2,
   "metadata": {},
   "outputs": [],
   "source": [
    "#create a dataframe with the counts and percentages of a variable by year\n",
    "def by_year(df, col):\n",
    "    cts = pd.crosstab(df['YEAR_OF_DIAGNOSIS'], df[col])\n",
    "    percs = pd.crosstab(df['YEAR_OF_DIAGNOSIS'], df[col], normalize='index')\n",
    "    percs = percs.round(2) * 100\n",
    "    percs = percs.astype(str)\n",
    "    cts = cts.astype(str)\n",
    "    comb = cts + ' (' + percs + '%)'\n",
    "    comb['total'] = df['YEAR_OF_DIAGNOSIS'].value_counts().sort_index()\n",
    "    return comb\n",
    "def by_stage(df, col):\n",
    "    cts = pd.crosstab(df['stage'], df[col])\n",
    "    percs = pd.crosstab(df['stage'], df[col], normalize='index')\n",
    "    percs = percs.round(2) * 100\n",
    "    percs = percs.astype(str)\n",
    "    cts = cts.astype(str)\n",
    "    comb = cts + ' (' + percs + '%)'\n",
    "    comb['total'] = df['stage'].value_counts().sort_index()\n",
    "    return comb"
   ]
  },
  {
   "cell_type": "code",
   "execution_count": 3,
   "metadata": {},
   "outputs": [],
   "source": [
    "data = pd.read_csv('data/table1_data.csv', index_col=0)"
   ]
  },
  {
   "cell_type": "code",
   "execution_count": 4,
   "metadata": {},
   "outputs": [
    {
     "data": {
      "text/html": [
       "<div>\n",
       "<style scoped>\n",
       "    .dataframe tbody tr th:only-of-type {\n",
       "        vertical-align: middle;\n",
       "    }\n",
       "\n",
       "    .dataframe tbody tr th {\n",
       "        vertical-align: top;\n",
       "    }\n",
       "\n",
       "    .dataframe thead th {\n",
       "        text-align: right;\n",
       "    }\n",
       "</style>\n",
       "<table border=\"1\" class=\"dataframe\">\n",
       "  <thead>\n",
       "    <tr style=\"text-align: right;\">\n",
       "      <th></th>\n",
       "      <th>FACILITY_TYPE_CD</th>\n",
       "      <th>FACILITY_LOCATION_CD</th>\n",
       "      <th>AGE</th>\n",
       "      <th>SEX</th>\n",
       "      <th>RACE</th>\n",
       "      <th>SPANISH_HISPANIC_ORIGIN</th>\n",
       "      <th>INSURANCE_STATUS</th>\n",
       "      <th>UR_CD_13</th>\n",
       "      <th>CROWFLY</th>\n",
       "      <th>CDCC_TOTAL_BEST</th>\n",
       "      <th>YEAR_OF_DIAGNOSIS</th>\n",
       "      <th>HISTOLOGY</th>\n",
       "      <th>GRADE</th>\n",
       "      <th>TUMOR_SIZE</th>\n",
       "      <th>LYMPH_VASCULAR_INVASION</th>\n",
       "      <th>DX_RAD_STARTED_DAYS</th>\n",
       "      <th>RAD_ELAPSED_RX_DAYS</th>\n",
       "      <th>RX_SUMM_CHEMO</th>\n",
       "      <th>NO_HSD_QUAR_2016</th>\n",
       "      <th>MED_INC_QUAR_2016</th>\n",
       "      <th>PUF_MEDICAID_EXPN_CODE</th>\n",
       "      <th>TOTAL_DOSE</th>\n",
       "      <th>APR</th>\n",
       "      <th>Radiation Dose, &gt;30 Gy</th>\n",
       "      <th>stage</th>\n",
       "      <th>t_stage</th>\n",
       "      <th>n_stage</th>\n",
       "      <th>m_stage</th>\n",
       "      <th>facs_quart</th>\n",
       "    </tr>\n",
       "    <tr>\n",
       "      <th>Case Key</th>\n",
       "      <th></th>\n",
       "      <th></th>\n",
       "      <th></th>\n",
       "      <th></th>\n",
       "      <th></th>\n",
       "      <th></th>\n",
       "      <th></th>\n",
       "      <th></th>\n",
       "      <th></th>\n",
       "      <th></th>\n",
       "      <th></th>\n",
       "      <th></th>\n",
       "      <th></th>\n",
       "      <th></th>\n",
       "      <th></th>\n",
       "      <th></th>\n",
       "      <th></th>\n",
       "      <th></th>\n",
       "      <th></th>\n",
       "      <th></th>\n",
       "      <th></th>\n",
       "      <th></th>\n",
       "      <th></th>\n",
       "      <th></th>\n",
       "      <th></th>\n",
       "      <th></th>\n",
       "      <th></th>\n",
       "      <th></th>\n",
       "      <th></th>\n",
       "    </tr>\n",
       "  </thead>\n",
       "  <tbody>\n",
       "    <tr>\n",
       "      <th>D66f458f9-bdc0-4c95-94a3-a5f8c5bb74f9</th>\n",
       "      <td>3.0</td>\n",
       "      <td>5.0</td>\n",
       "      <td>52</td>\n",
       "      <td>2</td>\n",
       "      <td>1.0</td>\n",
       "      <td>0</td>\n",
       "      <td>0</td>\n",
       "      <td>2.0</td>\n",
       "      <td>3.6</td>\n",
       "      <td>0</td>\n",
       "      <td>2016</td>\n",
       "      <td>8070</td>\n",
       "      <td>2.0</td>\n",
       "      <td>38.0</td>\n",
       "      <td>0.0</td>\n",
       "      <td>86.0</td>\n",
       "      <td>NaN</td>\n",
       "      <td>3.0</td>\n",
       "      <td>1.0</td>\n",
       "      <td>1.0</td>\n",
       "      <td>0</td>\n",
       "      <td>0.0</td>\n",
       "      <td>0.0</td>\n",
       "      <td>0.0</td>\n",
       "      <td>2A</td>\n",
       "      <td>2.0</td>\n",
       "      <td>0.0</td>\n",
       "      <td>0</td>\n",
       "      <td>1.0</td>\n",
       "    </tr>\n",
       "    <tr>\n",
       "      <th>Dfc68ea23-71aa-4b0d-87c0-587b4ce13d04</th>\n",
       "      <td>3.0</td>\n",
       "      <td>9.0</td>\n",
       "      <td>49</td>\n",
       "      <td>2</td>\n",
       "      <td>1.0</td>\n",
       "      <td>0</td>\n",
       "      <td>1</td>\n",
       "      <td>1.0</td>\n",
       "      <td>11.4</td>\n",
       "      <td>0</td>\n",
       "      <td>2004</td>\n",
       "      <td>8083</td>\n",
       "      <td>2.0</td>\n",
       "      <td>44.0</td>\n",
       "      <td>NaN</td>\n",
       "      <td>20.0</td>\n",
       "      <td>NaN</td>\n",
       "      <td>3.0</td>\n",
       "      <td>3.0</td>\n",
       "      <td>3.0</td>\n",
       "      <td>2</td>\n",
       "      <td>NaN</td>\n",
       "      <td>0.0</td>\n",
       "      <td>NaN</td>\n",
       "      <td>3A</td>\n",
       "      <td>2.0</td>\n",
       "      <td>1.0</td>\n",
       "      <td>0</td>\n",
       "      <td>1.0</td>\n",
       "    </tr>\n",
       "    <tr>\n",
       "      <th>D7a846888-d7d5-42ab-bd7f-8dd4e268adba</th>\n",
       "      <td>2.0</td>\n",
       "      <td>3.0</td>\n",
       "      <td>88</td>\n",
       "      <td>2</td>\n",
       "      <td>1.0</td>\n",
       "      <td>0</td>\n",
       "      <td>3</td>\n",
       "      <td>4.0</td>\n",
       "      <td>32.0</td>\n",
       "      <td>0</td>\n",
       "      <td>2014</td>\n",
       "      <td>8070</td>\n",
       "      <td>9.0</td>\n",
       "      <td>NaN</td>\n",
       "      <td>9.0</td>\n",
       "      <td>49.0</td>\n",
       "      <td>70.0</td>\n",
       "      <td>1.0</td>\n",
       "      <td>1.0</td>\n",
       "      <td>1.0</td>\n",
       "      <td>0</td>\n",
       "      <td>NaN</td>\n",
       "      <td>0.0</td>\n",
       "      <td>NaN</td>\n",
       "      <td>2B</td>\n",
       "      <td>3.0</td>\n",
       "      <td>0.0</td>\n",
       "      <td>0</td>\n",
       "      <td>3.0</td>\n",
       "    </tr>\n",
       "    <tr>\n",
       "      <th>D6a94c44a-86b9-4b34-8f6b-bcc0da65cc59</th>\n",
       "      <td>4.0</td>\n",
       "      <td>9.0</td>\n",
       "      <td>53</td>\n",
       "      <td>2</td>\n",
       "      <td>1.0</td>\n",
       "      <td>0</td>\n",
       "      <td>3</td>\n",
       "      <td>5.0</td>\n",
       "      <td>NaN</td>\n",
       "      <td>3</td>\n",
       "      <td>2011</td>\n",
       "      <td>8070</td>\n",
       "      <td>3.0</td>\n",
       "      <td>NaN</td>\n",
       "      <td>0.0</td>\n",
       "      <td>19.0</td>\n",
       "      <td>46.0</td>\n",
       "      <td>3.0</td>\n",
       "      <td>NaN</td>\n",
       "      <td>NaN</td>\n",
       "      <td>2</td>\n",
       "      <td>NaN</td>\n",
       "      <td>0.0</td>\n",
       "      <td>NaN</td>\n",
       "      <td>2B</td>\n",
       "      <td>3.0</td>\n",
       "      <td>0.0</td>\n",
       "      <td>0</td>\n",
       "      <td>1.0</td>\n",
       "    </tr>\n",
       "    <tr>\n",
       "      <th>D9733f795-06f9-44bd-a94c-cfff0110c969</th>\n",
       "      <td>1.0</td>\n",
       "      <td>7.0</td>\n",
       "      <td>53</td>\n",
       "      <td>2</td>\n",
       "      <td>1.0</td>\n",
       "      <td>0</td>\n",
       "      <td>1</td>\n",
       "      <td>3.0</td>\n",
       "      <td>3.9</td>\n",
       "      <td>0</td>\n",
       "      <td>2015</td>\n",
       "      <td>8070</td>\n",
       "      <td>2.0</td>\n",
       "      <td>69.0</td>\n",
       "      <td>9.0</td>\n",
       "      <td>45.0</td>\n",
       "      <td>44.0</td>\n",
       "      <td>3.0</td>\n",
       "      <td>1.0</td>\n",
       "      <td>3.0</td>\n",
       "      <td>3</td>\n",
       "      <td>5400.0</td>\n",
       "      <td>0.0</td>\n",
       "      <td>1.0</td>\n",
       "      <td>3C</td>\n",
       "      <td>3.0</td>\n",
       "      <td>1.0</td>\n",
       "      <td>0</td>\n",
       "      <td>4.0</td>\n",
       "    </tr>\n",
       "  </tbody>\n",
       "</table>\n",
       "</div>"
      ],
      "text/plain": [
       "                                       FACILITY_TYPE_CD  FACILITY_LOCATION_CD  \\\n",
       "Case Key                                                                        \n",
       "D66f458f9-bdc0-4c95-94a3-a5f8c5bb74f9               3.0                   5.0   \n",
       "Dfc68ea23-71aa-4b0d-87c0-587b4ce13d04               3.0                   9.0   \n",
       "D7a846888-d7d5-42ab-bd7f-8dd4e268adba               2.0                   3.0   \n",
       "D6a94c44a-86b9-4b34-8f6b-bcc0da65cc59               4.0                   9.0   \n",
       "D9733f795-06f9-44bd-a94c-cfff0110c969               1.0                   7.0   \n",
       "\n",
       "                                       AGE  SEX  RACE  \\\n",
       "Case Key                                                \n",
       "D66f458f9-bdc0-4c95-94a3-a5f8c5bb74f9   52    2   1.0   \n",
       "Dfc68ea23-71aa-4b0d-87c0-587b4ce13d04   49    2   1.0   \n",
       "D7a846888-d7d5-42ab-bd7f-8dd4e268adba   88    2   1.0   \n",
       "D6a94c44a-86b9-4b34-8f6b-bcc0da65cc59   53    2   1.0   \n",
       "D9733f795-06f9-44bd-a94c-cfff0110c969   53    2   1.0   \n",
       "\n",
       "                                       SPANISH_HISPANIC_ORIGIN  \\\n",
       "Case Key                                                         \n",
       "D66f458f9-bdc0-4c95-94a3-a5f8c5bb74f9                        0   \n",
       "Dfc68ea23-71aa-4b0d-87c0-587b4ce13d04                        0   \n",
       "D7a846888-d7d5-42ab-bd7f-8dd4e268adba                        0   \n",
       "D6a94c44a-86b9-4b34-8f6b-bcc0da65cc59                        0   \n",
       "D9733f795-06f9-44bd-a94c-cfff0110c969                        0   \n",
       "\n",
       "                                       INSURANCE_STATUS  UR_CD_13  CROWFLY  \\\n",
       "Case Key                                                                     \n",
       "D66f458f9-bdc0-4c95-94a3-a5f8c5bb74f9                 0       2.0      3.6   \n",
       "Dfc68ea23-71aa-4b0d-87c0-587b4ce13d04                 1       1.0     11.4   \n",
       "D7a846888-d7d5-42ab-bd7f-8dd4e268adba                 3       4.0     32.0   \n",
       "D6a94c44a-86b9-4b34-8f6b-bcc0da65cc59                 3       5.0      NaN   \n",
       "D9733f795-06f9-44bd-a94c-cfff0110c969                 1       3.0      3.9   \n",
       "\n",
       "                                       CDCC_TOTAL_BEST  YEAR_OF_DIAGNOSIS  \\\n",
       "Case Key                                                                    \n",
       "D66f458f9-bdc0-4c95-94a3-a5f8c5bb74f9                0               2016   \n",
       "Dfc68ea23-71aa-4b0d-87c0-587b4ce13d04                0               2004   \n",
       "D7a846888-d7d5-42ab-bd7f-8dd4e268adba                0               2014   \n",
       "D6a94c44a-86b9-4b34-8f6b-bcc0da65cc59                3               2011   \n",
       "D9733f795-06f9-44bd-a94c-cfff0110c969                0               2015   \n",
       "\n",
       "                                       HISTOLOGY GRADE  TUMOR_SIZE  \\\n",
       "Case Key                                                             \n",
       "D66f458f9-bdc0-4c95-94a3-a5f8c5bb74f9       8070   2.0        38.0   \n",
       "Dfc68ea23-71aa-4b0d-87c0-587b4ce13d04       8083   2.0        44.0   \n",
       "D7a846888-d7d5-42ab-bd7f-8dd4e268adba       8070   9.0         NaN   \n",
       "D6a94c44a-86b9-4b34-8f6b-bcc0da65cc59       8070   3.0         NaN   \n",
       "D9733f795-06f9-44bd-a94c-cfff0110c969       8070   2.0        69.0   \n",
       "\n",
       "                                       LYMPH_VASCULAR_INVASION  \\\n",
       "Case Key                                                         \n",
       "D66f458f9-bdc0-4c95-94a3-a5f8c5bb74f9                      0.0   \n",
       "Dfc68ea23-71aa-4b0d-87c0-587b4ce13d04                      NaN   \n",
       "D7a846888-d7d5-42ab-bd7f-8dd4e268adba                      9.0   \n",
       "D6a94c44a-86b9-4b34-8f6b-bcc0da65cc59                      0.0   \n",
       "D9733f795-06f9-44bd-a94c-cfff0110c969                      9.0   \n",
       "\n",
       "                                       DX_RAD_STARTED_DAYS  \\\n",
       "Case Key                                                     \n",
       "D66f458f9-bdc0-4c95-94a3-a5f8c5bb74f9                 86.0   \n",
       "Dfc68ea23-71aa-4b0d-87c0-587b4ce13d04                 20.0   \n",
       "D7a846888-d7d5-42ab-bd7f-8dd4e268adba                 49.0   \n",
       "D6a94c44a-86b9-4b34-8f6b-bcc0da65cc59                 19.0   \n",
       "D9733f795-06f9-44bd-a94c-cfff0110c969                 45.0   \n",
       "\n",
       "                                       RAD_ELAPSED_RX_DAYS  RX_SUMM_CHEMO  \\\n",
       "Case Key                                                                    \n",
       "D66f458f9-bdc0-4c95-94a3-a5f8c5bb74f9                  NaN            3.0   \n",
       "Dfc68ea23-71aa-4b0d-87c0-587b4ce13d04                  NaN            3.0   \n",
       "D7a846888-d7d5-42ab-bd7f-8dd4e268adba                 70.0            1.0   \n",
       "D6a94c44a-86b9-4b34-8f6b-bcc0da65cc59                 46.0            3.0   \n",
       "D9733f795-06f9-44bd-a94c-cfff0110c969                 44.0            3.0   \n",
       "\n",
       "                                       NO_HSD_QUAR_2016  MED_INC_QUAR_2016  \\\n",
       "Case Key                                                                     \n",
       "D66f458f9-bdc0-4c95-94a3-a5f8c5bb74f9               1.0                1.0   \n",
       "Dfc68ea23-71aa-4b0d-87c0-587b4ce13d04               3.0                3.0   \n",
       "D7a846888-d7d5-42ab-bd7f-8dd4e268adba               1.0                1.0   \n",
       "D6a94c44a-86b9-4b34-8f6b-bcc0da65cc59               NaN                NaN   \n",
       "D9733f795-06f9-44bd-a94c-cfff0110c969               1.0                3.0   \n",
       "\n",
       "                                       PUF_MEDICAID_EXPN_CODE  TOTAL_DOSE  \\\n",
       "Case Key                                                                    \n",
       "D66f458f9-bdc0-4c95-94a3-a5f8c5bb74f9                       0         0.0   \n",
       "Dfc68ea23-71aa-4b0d-87c0-587b4ce13d04                       2         NaN   \n",
       "D7a846888-d7d5-42ab-bd7f-8dd4e268adba                       0         NaN   \n",
       "D6a94c44a-86b9-4b34-8f6b-bcc0da65cc59                       2         NaN   \n",
       "D9733f795-06f9-44bd-a94c-cfff0110c969                       3      5400.0   \n",
       "\n",
       "                                       APR  Radiation Dose, >30 Gy stage  \\\n",
       "Case Key                                                                   \n",
       "D66f458f9-bdc0-4c95-94a3-a5f8c5bb74f9  0.0                     0.0    2A   \n",
       "Dfc68ea23-71aa-4b0d-87c0-587b4ce13d04  0.0                     NaN    3A   \n",
       "D7a846888-d7d5-42ab-bd7f-8dd4e268adba  0.0                     NaN    2B   \n",
       "D6a94c44a-86b9-4b34-8f6b-bcc0da65cc59  0.0                     NaN    2B   \n",
       "D9733f795-06f9-44bd-a94c-cfff0110c969  0.0                     1.0    3C   \n",
       "\n",
       "                                       t_stage  n_stage  m_stage  facs_quart  \n",
       "Case Key                                                                      \n",
       "D66f458f9-bdc0-4c95-94a3-a5f8c5bb74f9      2.0      0.0        0         1.0  \n",
       "Dfc68ea23-71aa-4b0d-87c0-587b4ce13d04      2.0      1.0        0         1.0  \n",
       "D7a846888-d7d5-42ab-bd7f-8dd4e268adba      3.0      0.0        0         3.0  \n",
       "D6a94c44a-86b9-4b34-8f6b-bcc0da65cc59      3.0      0.0        0         1.0  \n",
       "D9733f795-06f9-44bd-a94c-cfff0110c969      3.0      1.0        0         4.0  "
      ]
     },
     "execution_count": 4,
     "metadata": {},
     "output_type": "execute_result"
    }
   ],
   "source": [
    "data.head()"
   ]
  },
  {
   "cell_type": "code",
   "execution_count": 5,
   "metadata": {},
   "outputs": [
    {
     "data": {
      "text/plain": [
       "(18978, 29)"
      ]
     },
     "execution_count": 5,
     "metadata": {},
     "output_type": "execute_result"
    }
   ],
   "source": [
    "data.shape"
   ]
  },
  {
   "cell_type": "code",
   "execution_count": 6,
   "metadata": {},
   "outputs": [],
   "source": [
    "cols = data.columns.to_list()"
   ]
  },
  {
   "cell_type": "code",
   "execution_count": 7,
   "metadata": {},
   "outputs": [
    {
     "data": {
      "text/plain": [
       "['FACILITY_TYPE_CD',\n",
       " 'FACILITY_LOCATION_CD',\n",
       " 'AGE',\n",
       " 'SEX',\n",
       " 'RACE',\n",
       " 'SPANISH_HISPANIC_ORIGIN',\n",
       " 'INSURANCE_STATUS',\n",
       " 'UR_CD_13',\n",
       " 'CROWFLY',\n",
       " 'CDCC_TOTAL_BEST',\n",
       " 'YEAR_OF_DIAGNOSIS',\n",
       " 'HISTOLOGY',\n",
       " 'GRADE',\n",
       " 'TUMOR_SIZE',\n",
       " 'LYMPH_VASCULAR_INVASION',\n",
       " 'DX_RAD_STARTED_DAYS',\n",
       " 'RAD_ELAPSED_RX_DAYS',\n",
       " 'RX_SUMM_CHEMO',\n",
       " 'NO_HSD_QUAR_2016',\n",
       " 'MED_INC_QUAR_2016',\n",
       " 'PUF_MEDICAID_EXPN_CODE',\n",
       " 'TOTAL_DOSE',\n",
       " 'APR',\n",
       " 'Radiation Dose, >30 Gy',\n",
       " 'stage',\n",
       " 't_stage',\n",
       " 'n_stage',\n",
       " 'm_stage',\n",
       " 'facs_quart']"
      ]
     },
     "execution_count": 7,
     "metadata": {},
     "output_type": "execute_result"
    }
   ],
   "source": [
    "cols"
   ]
  },
  {
   "cell_type": "code",
   "execution_count": 8,
   "metadata": {},
   "outputs": [],
   "source": [
    "cols = data.columns.to_list()\n",
    "num_cols = ['AGE', 'CROWFLY', 'TUMOR_SIZE', 'Radiation Dose, Rads', 'DX_RAD_STARTED_DAYS', 'RAD_ELAPSED_DAYS', 'TOTAL_DOSE']\n",
    "cat_cols = [x for x in cols if x not in num_cols]"
   ]
  },
  {
   "cell_type": "code",
   "execution_count": 9,
   "metadata": {},
   "outputs": [],
   "source": [
    "#convert all values in cat_cols to strings except for NaN\n",
    "for col in cat_cols:\n",
    "    data[col] = data[col].astype(str)"
   ]
  },
  {
   "cell_type": "markdown",
   "metadata": {},
   "source": [
    "data.loc[data['X'] == 'Y', 'X'] = 'Z'"
   ]
  },
  {
   "cell_type": "markdown",
   "metadata": {},
   "source": [
    "data['X'].value_counts(dropna=False)"
   ]
  },
  {
   "cell_type": "markdown",
   "metadata": {},
   "source": [
    "data.loc[data['X'] == 'nan', 'X'] = np.NaN\n",
    "data['X'].fillna('Unknown', inplace=True)\n",
    "data.loc[data['X'] == \"Unknown\", 'X'] = np.NaN\n",
    "data['X'].value_counts(dropna=False)"
   ]
  },
  {
   "cell_type": "code",
   "execution_count": 10,
   "metadata": {},
   "outputs": [],
   "source": [
    "data.rename(columns={'RX_SUMM_CHEMO':'Chemotherapy'}, inplace=True)"
   ]
  },
  {
   "cell_type": "code",
   "execution_count": 11,
   "metadata": {},
   "outputs": [
    {
     "data": {
      "text/plain": [
       "Multi-agent     15995\n",
       "Single-agent     1598\n",
       "NaN               841\n",
       "None              544\n",
       "Name: Chemotherapy, dtype: int64"
      ]
     },
     "execution_count": 11,
     "metadata": {},
     "output_type": "execute_result"
    }
   ],
   "source": [
    "data.loc[data['Chemotherapy'] == '3.0', 'Chemotherapy'] = 'Multi-agent'\n",
    "data.loc[data['Chemotherapy'] == '2.0', 'Chemotherapy'] = 'Single-agent'\n",
    "data.loc[data['Chemotherapy'] == '1.0', 'Chemotherapy'] = np.NaN\n",
    "data.loc[data['Chemotherapy'] == '0.0', 'Chemotherapy'] = 'None'\n",
    "data.loc[data['Chemotherapy'] == '88.0', 'Chemotherapy'] = np.NaN\n",
    "data.loc[data['Chemotherapy'] == '82.0', 'Chemotherapy'] = 'None'\n",
    "data.loc[data['Chemotherapy'] == '87.0', 'Chemotherapy'] = 'None'\n",
    "data.loc[data['Chemotherapy'] == '86.0', 'Chemotherapy'] = 'None'\n",
    "data.loc[data['Chemotherapy'] == 'nan', 'Chemotherapy'] = np.NaN\n",
    "data = data[data['Chemotherapy'] != '85.0']\n",
    "data['Chemotherapy'].value_counts(dropna=False)"
   ]
  },
  {
   "cell_type": "code",
   "execution_count": 12,
   "metadata": {},
   "outputs": [],
   "source": [
    "data.rename({'FACILITY_LOCATION_CD': 'Facility Location'}, axis=1, inplace=True)"
   ]
  },
  {
   "cell_type": "code",
   "execution_count": 13,
   "metadata": {},
   "outputs": [
    {
     "data": {
      "text/plain": [
       "3.0    4124\n",
       "4.0    3235\n",
       "9.0    2763\n",
       "2.0    2666\n",
       "6.0    1483\n",
       "5.0    1316\n",
       "1.0    1178\n",
       "7.0     970\n",
       "8.0     777\n",
       "nan     466\n",
       "Name: Facility Location, dtype: int64"
      ]
     },
     "execution_count": 13,
     "metadata": {},
     "output_type": "execute_result"
    }
   ],
   "source": [
    "data['Facility Location'].value_counts()"
   ]
  },
  {
   "cell_type": "code",
   "execution_count": 14,
   "metadata": {},
   "outputs": [],
   "source": [
    "data.loc[data['Facility Location'] == '1.0', 'Facility Location'] = 'NE'\n",
    "data.loc[data['Facility Location'] == '2.0', 'Facility Location'] = 'NE'\n",
    "data.loc[data['Facility Location'] == '3.0', 'Facility Location'] = 'South'\n",
    "data.loc[data['Facility Location'] == '4.0', 'Facility Location'] = 'Midwest'\n",
    "data.loc[data['Facility Location'] == '5.0', 'Facility Location'] = 'Midwest'\n",
    "data.loc[data['Facility Location'] == '6.0', 'Facility Location'] = 'Midwest'\n",
    "data.loc[data['Facility Location'] == '7.0', 'Facility Location'] = 'South'\n",
    "data.loc[data['Facility Location'] == '8.0', 'Facility Location'] = 'West'\n",
    "data.loc[data['Facility Location'] == '9.0', 'Facility Location'] = 'West'\n"
   ]
  },
  {
   "cell_type": "code",
   "execution_count": 15,
   "metadata": {},
   "outputs": [
    {
     "data": {
      "text/plain": [
       "Midwest    6034\n",
       "South      5094\n",
       "NE         3844\n",
       "West       3540\n",
       "NaN         466\n",
       "Name: Facility Location, dtype: int64"
      ]
     },
     "execution_count": 15,
     "metadata": {},
     "output_type": "execute_result"
    }
   ],
   "source": [
    "data.loc[data['Facility Location'] == 'nan', 'Facility Location'] = np.NaN\n",
    "data['Facility Location'].fillna('Unknown', inplace=True)\n",
    "data.loc[data['Facility Location'] == \"Unknown\", 'Facility Location'] = np.NaN\n",
    "data['Facility Location'].value_counts(dropna=False)"
   ]
  },
  {
   "cell_type": "code",
   "execution_count": 16,
   "metadata": {},
   "outputs": [],
   "source": [
    "data.rename({'SEX':'Sex'}, axis=1, inplace=True)"
   ]
  },
  {
   "cell_type": "code",
   "execution_count": 17,
   "metadata": {},
   "outputs": [
    {
     "data": {
      "text/plain": [
       "2    13872\n",
       "1     5106\n",
       "Name: Sex, dtype: int64"
      ]
     },
     "execution_count": 17,
     "metadata": {},
     "output_type": "execute_result"
    }
   ],
   "source": [
    "data['Sex'].value_counts()\n"
   ]
  },
  {
   "cell_type": "code",
   "execution_count": 18,
   "metadata": {},
   "outputs": [
    {
     "data": {
      "text/plain": [
       "Female    13872\n",
       "Male       5106\n",
       "Name: Sex, dtype: int64"
      ]
     },
     "execution_count": 18,
     "metadata": {},
     "output_type": "execute_result"
    }
   ],
   "source": [
    "data.loc[data['Sex'] == '1', 'Sex'] = 'Male'\n",
    "data.loc[data['Sex'] == '2', 'Sex'] = 'Female'\n",
    "data.loc[data['Sex'] == 'nan', 'Sex'] = np.NaN\n",
    "data['Sex'].fillna('Unknown', inplace=True)\n",
    "data.loc[data['Sex'] == \"Unknown\", 'Sex'] = np.NaN\n",
    "data['Sex'].value_counts(dropna=False)"
   ]
  },
  {
   "cell_type": "code",
   "execution_count": 19,
   "metadata": {},
   "outputs": [],
   "source": [
    "data.rename({'RACE':'Race'}, axis=1, inplace=True)"
   ]
  },
  {
   "cell_type": "code",
   "execution_count": 20,
   "metadata": {},
   "outputs": [
    {
     "data": {
      "text/plain": [
       "1.0     16770\n",
       "2.0      1732\n",
       "nan       142\n",
       "98.0      125\n",
       "3.0        60\n",
       "96.0       31\n",
       "5.0        22\n",
       "15.0       19\n",
       "4.0        19\n",
       "8.0        15\n",
       "6.0        15\n",
       "10.0        9\n",
       "7.0         6\n",
       "97.0        4\n",
       "13.0        4\n",
       "16.0        3\n",
       "21.0        1\n",
       "11.0        1\n",
       "Name: Race, dtype: int64"
      ]
     },
     "execution_count": 20,
     "metadata": {},
     "output_type": "execute_result"
    }
   ],
   "source": [
    "data['Race'].value_counts()"
   ]
  },
  {
   "cell_type": "markdown",
   "metadata": {},
   "source": [
    "#Specific labels from the PUF Data Dictionary\n",
    "\n",
    "data.loc[data['Race'] == '1.0', 'Race'] = 'White'\n",
    "\n",
    "data.loc[data['Race'] == '2.0', 'Race'] = 'Black'\n",
    "\n",
    "data.loc[data['Race'] == '3.0', 'Race'] = 'American Indian, Aleutian, or Eskimo'\n",
    "\n",
    "data.loc[data['Race'] == '4.0', 'Race'] = 'Chinese'\n",
    "data.loc[data['Race'] == '5.0', 'Race'] = 'Japanese'\n",
    "data.loc[data['Race'] == '8.0', 'Race'] = 'Korean'\n",
    "\n",
    "data.loc[data['Race'] == '6.0', 'Race'] = 'Filipino'\n",
    "data.loc[data['Race'] == '7.0', 'Race'] = 'Hawaiian'\n",
    "data.loc[data['Race'] == '20.0', 'Race'] = 'Micronesian, NOS'\n",
    "data.loc[data['Race'] == '22.0', 'Race'] = 'Guamanian, NOS'\n",
    "data.loc[data['Race'] == '27.0', 'Race'] = 'Samoan'\n",
    "data.loc[data['Race'] == '28.0', 'Race'] = 'Tongan'\n",
    "data.loc[data['Race'] == '31.0', 'Race'] = 'Fiji Islander'\n",
    "data.loc[data['Race'] == '32.0', 'Race'] = 'New Guinean'\n",
    "data.loc[data['Race'] == '97.0', 'Race'] = 'Pacific Islander, NOS'\n",
    "\n",
    "data.loc[data['Race'] == '10.0', 'Race'] = 'Vietnamese'\n",
    "data.loc[data['Race'] == '11.0', 'Race'] = 'Laotian'\n",
    "data.loc[data['Race'] == '12.0', 'Race'] = 'Hmong'\n",
    "data.loc[data['Race'] == '13.0', 'Race'] = 'Kampuchean (including Khmer and Cambodian)'\n",
    "data.loc[data['Race'] == '14.0', 'Race'] = 'Thai'\n",
    "data.loc[data['Race'] == '30.0', 'Race'] = 'Melanesian, NOS'\n",
    "\n",
    "data.loc[data['Race'] == '15.0', 'Race'] = 'Asian Indian or Pakistani, NOS (formerly code 09)'\n",
    "data.loc[data['Race'] == '16.0', 'Race'] = 'Asian Indian'\n",
    "data.loc[data['Race'] == '17.0', 'Race'] = 'Pakistani'\n",
    "\n",
    "data.loc[data['Race'] == '96.0', 'Race'] = 'Other Asian, including Asian, NOS andOriental, NOS'\n",
    "data.loc[data['Race'] == '98.0', 'Race'] = 'Other'"
   ]
  },
  {
   "cell_type": "code",
   "execution_count": 21,
   "metadata": {},
   "outputs": [
    {
     "data": {
      "text/plain": [
       "White    16770\n",
       "Black     1732\n",
       "Asian      178\n",
       "Other      156\n",
       "NaN        142\n",
       "Name: Race, dtype: int64"
      ]
     },
     "execution_count": 21,
     "metadata": {},
     "output_type": "execute_result"
    }
   ],
   "source": [
    "data.loc[data['Race'] == '1.0', 'Race'] = 'White'\n",
    "\n",
    "data.loc[data['Race'] == '2.0', 'Race'] = 'Black'\n",
    "\n",
    "data.loc[data['Race'] == '3.0', 'Race'] = 'Asian'\n",
    "\n",
    "data.loc[data['Race'] == '4.0', 'Race'] = 'Asian'\n",
    "data.loc[data['Race'] == '5.0', 'Race'] = 'Asian'\n",
    "data.loc[data['Race'] == '8.0', 'Race'] = 'Asian'\n",
    "\n",
    "data.loc[data['Race'] == '6.0', 'Race'] = 'Asian'\n",
    "data.loc[data['Race'] == '7.0', 'Race'] = 'Asian'\n",
    "data.loc[data['Race'] == '20.0', 'Race'] = 'Asian'\n",
    "data.loc[data['Race'] == '21.0', 'Race'] = 'Asian'\n",
    "data.loc[data['Race'] == '22.0', 'Race'] = 'Asian'\n",
    "data.loc[data['Race'] == '27.0', 'Race'] = 'Asian'\n",
    "data.loc[data['Race'] == '28.0', 'Race'] = 'Asian'\n",
    "data.loc[data['Race'] == '31.0', 'Race'] = 'Asian'\n",
    "data.loc[data['Race'] == '32.0', 'Race'] = 'Asian'\n",
    "data.loc[data['Race'] == '97.0', 'Race'] = 'Asian'\n",
    "\n",
    "data.loc[data['Race'] == '10.0', 'Race'] = 'Asian'\n",
    "data.loc[data['Race'] == '11.0', 'Race'] = 'Asian'\n",
    "data.loc[data['Race'] == '12.0', 'Race'] = 'Asian'\n",
    "data.loc[data['Race'] == '13.0', 'Race'] = 'Asian'\n",
    "data.loc[data['Race'] == '14.0', 'Race'] = 'Asian'\n",
    "data.loc[data['Race'] == '30.0', 'Race'] = 'Asian'\n",
    "\n",
    "data.loc[data['Race'] == '15.0', 'Race'] = 'Asian'\n",
    "data.loc[data['Race'] == '16.0', 'Race'] = 'Asian'\n",
    "data.loc[data['Race'] == '17.0', 'Race'] = 'Asian'\n",
    "\n",
    "data.loc[data['Race'] == '96.0', 'Race'] = 'Other'\n",
    "data.loc[data['Race'] == '98.0', 'Race'] = 'Other'\n",
    "\n",
    "\n",
    "data.loc[data['Race'] == 'nan', 'Race'] = np.NaN\n",
    "data['Race'].fillna('Unknown', inplace=True)\n",
    "data.loc[data['Race'] == \"Unknown\", 'Race'] = np.NaN\n",
    "data['Race'].value_counts(dropna=False)"
   ]
  },
  {
   "cell_type": "code",
   "execution_count": 22,
   "metadata": {},
   "outputs": [],
   "source": [
    "data.rename({'SPANISH_HISPANIC_ORIGIN': 'Spanish Hispanic Origin'}, axis=1, inplace=True)"
   ]
  },
  {
   "cell_type": "code",
   "execution_count": 23,
   "metadata": {},
   "outputs": [
    {
     "data": {
      "text/plain": [
       "0    17333\n",
       "9      802\n",
       "6      484\n",
       "1       88\n",
       "2       84\n",
       "4       77\n",
       "3       38\n",
       "5       28\n",
       "7       27\n",
       "8       17\n",
       "Name: Spanish Hispanic Origin, dtype: int64"
      ]
     },
     "execution_count": 23,
     "metadata": {},
     "output_type": "execute_result"
    }
   ],
   "source": [
    "data['Spanish Hispanic Origin'].value_counts()"
   ]
  },
  {
   "cell_type": "code",
   "execution_count": 24,
   "metadata": {},
   "outputs": [
    {
     "data": {
      "text/plain": [
       "Non-Hispanic    17333\n",
       "Hispanic          843\n",
       "NaN               802\n",
       "Name: Spanish Hispanic Origin, dtype: int64"
      ]
     },
     "execution_count": 24,
     "metadata": {},
     "output_type": "execute_result"
    }
   ],
   "source": [
    "data.loc[data['Spanish Hispanic Origin'] == '0', 'Spanish Hispanic Origin'] = 'Non-Hispanic'\n",
    "data.loc[data['Spanish Hispanic Origin'] == '1', 'Spanish Hispanic Origin'] = 'Hispanic'\n",
    "data.loc[data['Spanish Hispanic Origin'] == '2', 'Spanish Hispanic Origin'] = 'Hispanic'\n",
    "data.loc[data['Spanish Hispanic Origin'] == '3', 'Spanish Hispanic Origin'] = 'Hispanic'\n",
    "data.loc[data['Spanish Hispanic Origin'] == '4', 'Spanish Hispanic Origin'] = 'Hispanic'\n",
    "data.loc[data['Spanish Hispanic Origin'] == '5', 'Spanish Hispanic Origin'] = 'Hispanic'\n",
    "data.loc[data['Spanish Hispanic Origin'] == '6', 'Spanish Hispanic Origin'] = 'Hispanic'\n",
    "data.loc[data['Spanish Hispanic Origin'] == '7', 'Spanish Hispanic Origin'] = 'Hispanic'\n",
    "data.loc[data['Spanish Hispanic Origin'] == '8', 'Spanish Hispanic Origin'] = 'Hispanic'\n",
    "data.loc[data['Spanish Hispanic Origin'] == '9', 'Spanish Hispanic Origin'] = 'Unknown'\n",
    "\n",
    "data.loc[data['Spanish Hispanic Origin'] == 'nan', 'Spanish Hispanic Origin'] = np.NaN\n",
    "data['Spanish Hispanic Origin'].fillna('Unknown', inplace=True)\n",
    "data.loc[data['Spanish Hispanic Origin'] == \"Unknown\", 'Spanish Hispanic Origin'] = np.NaN\n",
    "data['Spanish Hispanic Origin'].value_counts(dropna=False)"
   ]
  },
  {
   "cell_type": "code",
   "execution_count": 25,
   "metadata": {},
   "outputs": [],
   "source": [
    "data.rename({'INSURANCE_STATUS': 'Primary Payor'}, axis=1, inplace=True)"
   ]
  },
  {
   "cell_type": "code",
   "execution_count": 26,
   "metadata": {},
   "outputs": [
    {
     "data": {
      "text/plain": [
       "1    9296\n",
       "3    6548\n",
       "2    1632\n",
       "0     884\n",
       "4     337\n",
       "9     281\n",
       "Name: Primary Payor, dtype: int64"
      ]
     },
     "execution_count": 26,
     "metadata": {},
     "output_type": "execute_result"
    }
   ],
   "source": [
    "data['Primary Payor'].value_counts()"
   ]
  },
  {
   "cell_type": "code",
   "execution_count": 27,
   "metadata": {},
   "outputs": [
    {
     "data": {
      "text/plain": [
       "Private Insurance or Managed Care    9296\n",
       "Medicare/Public                      6885\n",
       "Medicaid                             1632\n",
       "Not Insured                           884\n",
       "NaN                                   281\n",
       "Name: Primary Payor, dtype: int64"
      ]
     },
     "execution_count": 27,
     "metadata": {},
     "output_type": "execute_result"
    }
   ],
   "source": [
    "data.loc[data['Primary Payor'] == '0', 'Primary Payor'] = 'Not Insured'\n",
    "data.loc[data['Primary Payor'] == '1', 'Primary Payor'] = 'Private Insurance or Managed Care'\n",
    "data.loc[data['Primary Payor'] == '2', 'Primary Payor'] = 'Medicaid'\n",
    "data.loc[data['Primary Payor'] == '3', 'Primary Payor'] = 'Medicare/Public'\n",
    "data.loc[data['Primary Payor'] == '4', 'Primary Payor'] = 'Medicare/Public'\n",
    "data.loc[data['Primary Payor'] == '9', 'Primary Payor'] = 'Unknown'\n",
    "\n",
    "data.loc[data['Primary Payor'] == 'nan', 'Primary Payor'] = np.NaN\n",
    "data['Primary Payor'].fillna('Unknown', inplace=True)\n",
    "data.loc[data['Primary Payor'] == \"Unknown\", 'Primary Payor'] = np.NaN\n",
    "data['Primary Payor'].value_counts(dropna=False)"
   ]
  },
  {
   "cell_type": "code",
   "execution_count": 28,
   "metadata": {},
   "outputs": [],
   "source": [
    "data.rename({'MED_INC_QUAR_2016': 'Median Income Quartile'}, axis=1, inplace=True)"
   ]
  },
  {
   "cell_type": "code",
   "execution_count": 29,
   "metadata": {},
   "outputs": [
    {
     "data": {
      "text/plain": [
       "4.0    5860\n",
       "3.0    3981\n",
       "2.0    3931\n",
       "1.0    3146\n",
       "nan    2060\n",
       "Name: Median Income Quartile, dtype: int64"
      ]
     },
     "execution_count": 29,
     "metadata": {},
     "output_type": "execute_result"
    }
   ],
   "source": [
    "data['Median Income Quartile'].value_counts()"
   ]
  },
  {
   "cell_type": "code",
   "execution_count": 30,
   "metadata": {},
   "outputs": [
    {
     "data": {
      "text/plain": [
       ">=$46,000            5860\n",
       "$35,000 - $45,999    3981\n",
       "$30,000 - $34,999    3931\n",
       "< $30,000            3146\n",
       "NaN                  2060\n",
       "Name: Median Income Quartile, dtype: int64"
      ]
     },
     "execution_count": 30,
     "metadata": {},
     "output_type": "execute_result"
    }
   ],
   "source": [
    "data.loc[data['Median Income Quartile'] == '1.0', 'Median Income Quartile'] = '< $30,000'\n",
    "data.loc[data['Median Income Quartile'] == '2.0', 'Median Income Quartile'] = '$30,000 - $34,999'\n",
    "data.loc[data['Median Income Quartile'] == '3.0', 'Median Income Quartile'] = '$35,000 - $45,999'\n",
    "data.loc[data['Median Income Quartile'] == '4.0', 'Median Income Quartile'] = '>=$46,000'\n",
    "\n",
    "data.loc[data['Median Income Quartile'] == 'nan', 'Median Income Quartile'] = np.NaN\n",
    "data['Median Income Quartile'].fillna('Unknown', inplace=True)\n",
    "data.loc[data['Median Income Quartile'] == \"Unknown\", 'Median Income Quartile'] = np.NaN\n",
    "data['Median Income Quartile'].value_counts(dropna=False)"
   ]
  },
  {
   "cell_type": "code",
   "execution_count": 31,
   "metadata": {},
   "outputs": [],
   "source": [
    "data.rename({'NO_HSD_QUAR_2016':'No High School Degree (%)'}, axis=1, inplace=True)"
   ]
  },
  {
   "cell_type": "code",
   "execution_count": 32,
   "metadata": {},
   "outputs": [
    {
     "data": {
      "text/plain": [
       "3.0    4742\n",
       "2.0    4545\n",
       "4.0    4265\n",
       "1.0    3396\n",
       "nan    2030\n",
       "Name: No High School Degree (%), dtype: int64"
      ]
     },
     "execution_count": 32,
     "metadata": {},
     "output_type": "execute_result"
    }
   ],
   "source": [
    "data['No High School Degree (%)'].value_counts()"
   ]
  },
  {
   "cell_type": "code",
   "execution_count": 33,
   "metadata": {},
   "outputs": [
    {
     "data": {
      "text/plain": [
       "7.0-12.9%     4742\n",
       "13.0-20.9%    4545\n",
       "<7.0%         4265\n",
       ">=21.0%       3396\n",
       "NaN           2030\n",
       "Name: No High School Degree (%), dtype: int64"
      ]
     },
     "execution_count": 33,
     "metadata": {},
     "output_type": "execute_result"
    }
   ],
   "source": [
    "data.loc[data['No High School Degree (%)'] == '1.0', 'No High School Degree (%)'] = '>=21.0%'\n",
    "data.loc[data['No High School Degree (%)'] == '2.0', 'No High School Degree (%)'] = '13.0-20.9%'\n",
    "data.loc[data['No High School Degree (%)'] == '3.0', 'No High School Degree (%)'] = '7.0-12.9%'\n",
    "data.loc[data['No High School Degree (%)'] == '4.0', 'No High School Degree (%)'] = '<7.0%'\n",
    "\n",
    "data.loc[data['No High School Degree (%)'] == 'nan', 'No High School Degree (%)'] = np.NaN\n",
    "data['No High School Degree (%)'].fillna('Unknown', inplace=True)\n",
    "data.loc[data['No High School Degree (%)'] == \"Unknown\", 'No High School Degree (%)'] = np.NaN\n",
    "data['No High School Degree (%)'].value_counts(dropna=False)"
   ]
  },
  {
   "cell_type": "code",
   "execution_count": 34,
   "metadata": {},
   "outputs": [],
   "source": [
    "data.rename({'UR_CD_13':'Urban/Rural Classification'}, axis=1, inplace=True)"
   ]
  },
  {
   "cell_type": "code",
   "execution_count": 35,
   "metadata": {},
   "outputs": [
    {
     "data": {
      "text/plain": [
       "1.0    9855\n",
       "2.0    3878\n",
       "3.0    1944\n",
       "6.0     967\n",
       "4.0     817\n",
       "nan     530\n",
       "7.0     360\n",
       "5.0     317\n",
       "8.0     161\n",
       "9.0     149\n",
       "Name: Urban/Rural Classification, dtype: int64"
      ]
     },
     "execution_count": 35,
     "metadata": {},
     "output_type": "execute_result"
    }
   ],
   "source": [
    "data['Urban/Rural Classification'].value_counts()"
   ]
  },
  {
   "cell_type": "code",
   "execution_count": 36,
   "metadata": {},
   "outputs": [
    {
     "data": {
      "text/plain": [
       "Urban       15677\n",
       "Suburban     2101\n",
       "Rural         670\n",
       "NaN           530\n",
       "Name: Urban/Rural Classification, dtype: int64"
      ]
     },
     "execution_count": 36,
     "metadata": {},
     "output_type": "execute_result"
    }
   ],
   "source": [
    "data.loc[data['Urban/Rural Classification'] == '1.0', 'Urban/Rural Classification'] = 'Urban'\n",
    "data.loc[data['Urban/Rural Classification'] == '2.0', 'Urban/Rural Classification'] = 'Urban'\n",
    "data.loc[data['Urban/Rural Classification'] == '3.0', 'Urban/Rural Classification'] = 'Urban'\n",
    "data.loc[data['Urban/Rural Classification'] == '4.0', 'Urban/Rural Classification'] = 'Suburban'\n",
    "data.loc[data['Urban/Rural Classification'] == '5.0', 'Urban/Rural Classification'] = 'Suburban'\n",
    "data.loc[data['Urban/Rural Classification'] == '6.0', 'Urban/Rural Classification'] = 'Suburban'\n",
    "data.loc[data['Urban/Rural Classification'] == '7.0', 'Urban/Rural Classification'] = 'Rural'\n",
    "data.loc[data['Urban/Rural Classification'] == '8.0', 'Urban/Rural Classification'] = 'Rural'\n",
    "data.loc[data['Urban/Rural Classification'] == '9.0', 'Urban/Rural Classification'] = 'Rural'\n",
    "\n",
    "data.loc[data['Urban/Rural Classification'] == 'nan', 'Urban/Rural Classification'] = np.NaN\n",
    "data['Urban/Rural Classification'].fillna('Unknown', inplace=True)\n",
    "data.loc[data['Urban/Rural Classification'] == \"Unknown\", 'Urban/Rural Classification'] = np.NaN\n",
    "data['Urban/Rural Classification'].value_counts(dropna=False)"
   ]
  },
  {
   "cell_type": "code",
   "execution_count": 37,
   "metadata": {},
   "outputs": [],
   "source": [
    "data.rename({'CDCC_TOTAL_BEST':'Charlson-Deyo Score'}, axis=1, inplace=True)"
   ]
  },
  {
   "cell_type": "code",
   "execution_count": 38,
   "metadata": {},
   "outputs": [
    {
     "data": {
      "text/plain": [
       "0    15669\n",
       "1     2187\n",
       "3      626\n",
       "2      496\n",
       "Name: Charlson-Deyo Score, dtype: int64"
      ]
     },
     "execution_count": 38,
     "metadata": {},
     "output_type": "execute_result"
    }
   ],
   "source": [
    "data['Charlson-Deyo Score'].value_counts()\n"
   ]
  },
  {
   "cell_type": "code",
   "execution_count": 39,
   "metadata": {},
   "outputs": [
    {
     "data": {
      "text/plain": [
       "0            15669\n",
       "1             2187\n",
       "3 or more      626\n",
       "2              496\n",
       "Name: Charlson-Deyo Score, dtype: int64"
      ]
     },
     "execution_count": 39,
     "metadata": {},
     "output_type": "execute_result"
    }
   ],
   "source": [
    "data.loc[data['Charlson-Deyo Score'] == '0', 'Charlson-Deyo Score'] = '0'\n",
    "data.loc[data['Charlson-Deyo Score'] == '1', 'Charlson-Deyo Score'] = '1'\n",
    "data.loc[data['Charlson-Deyo Score'] == '2', 'Charlson-Deyo Score'] = '2'\n",
    "data.loc[data['Charlson-Deyo Score'] == '3', 'Charlson-Deyo Score'] = '3 or more'\n",
    "\n",
    "\n",
    "data.loc[data['Charlson-Deyo Score'] == 'nan', 'Charlson-Deyo Score'] = np.NaN\n",
    "data['Charlson-Deyo Score'].fillna('Unknown', inplace=True)\n",
    "data.loc[data['Charlson-Deyo Score'] == \"Unknown\", 'Charlson-Deyo Score'] = np.NaN\n",
    "data['Charlson-Deyo Score'].value_counts(dropna=False)"
   ]
  },
  {
   "cell_type": "code",
   "execution_count": 40,
   "metadata": {},
   "outputs": [],
   "source": [
    "data.rename({'HISTOLOGY': 'Histology'}, axis=1, inplace=True)"
   ]
  },
  {
   "cell_type": "code",
   "execution_count": 41,
   "metadata": {},
   "outputs": [
    {
     "data": {
      "text/plain": [
       "8070    14607\n",
       "8083     1478\n",
       "8071     1272\n",
       "8072      683\n",
       "8124      482\n",
       "8123      226\n",
       "8010       81\n",
       "8560       31\n",
       "8051       27\n",
       "8481       25\n",
       "8076       23\n",
       "8073       18\n",
       "8000       14\n",
       "8074        6\n",
       "8120        3\n",
       "8075        2\n",
       "Name: Histology, dtype: int64"
      ]
     },
     "execution_count": 41,
     "metadata": {},
     "output_type": "execute_result"
    }
   ],
   "source": [
    "data['Histology'].value_counts()\n"
   ]
  },
  {
   "cell_type": "code",
   "execution_count": 42,
   "metadata": {},
   "outputs": [
    {
     "data": {
      "text/plain": [
       "Squamous cell carcinoma in situ, NOS     14607\n",
       "Basaloid squamous cell carcinoma          2161\n",
       "Sq. cell carcinoma, keratinizing, NOS     1272\n",
       "Cloacogenic carcinoma                      482\n",
       "Basaloid carcinoma                         226\n",
       "Carcinoma, NOS                              81\n",
       "Adenosquamous carcinoma                     31\n",
       "8051                                        27\n",
       "Mucin-producing adenocarcinoma              25\n",
       "8076                                        23\n",
       "8073                                        18\n",
       "Neoplasm, benign                            14\n",
       "Squamous cell carcinoma, spindle cell        6\n",
       "Urothelial papilloma, NOS                    3\n",
       "8075                                         2\n",
       "Name: Histology, dtype: int64"
      ]
     },
     "execution_count": 42,
     "metadata": {},
     "output_type": "execute_result"
    }
   ],
   "source": [
    "data.loc[data['Histology'] == '8000', 'Histology'] = 'Neoplasm, benign'\n",
    "data.loc[data['Histology'] == '8010', 'Histology'] = 'Carcinoma, NOS'\n",
    "data.loc[data['Histology'] == '8012', 'Histology'] = 'Large cell carcinoma, NOS'\n",
    "data.loc[data['Histology'] == '8013', 'Histology'] = 'Large cell neuroendocrine carcinoma'\n",
    "data.loc[data['Histology'] == '8014', 'Histology'] = 'Large cell carcinoma with rhabdoid phenotype'\n",
    "data.loc[data['Histology'] == '8020', 'Histology'] = 'Dedifferentiated carcinoma'\n",
    "data.loc[data['Histology'] == '8021', 'Histology'] = 'Carcinoma, anaplastic, NOS'\n",
    "data.loc[data['Histology'] == '8022', 'Histology'] = 'Pleomorphic carcinoma'\n",
    "data.loc[data['Histology'] == '8033', 'Histology'] = 'Pseudosarcomatous carcinoma'\n",
    "data.loc[data['Histology'] == '8041', 'Histology'] = 'Small cell carcinoma, NOS'\n",
    "data.loc[data['Histology'] == '8046', 'Histology'] = 'Non-small cell carcinoma'\n",
    "data.loc[data['Histology'] == '8070', 'Histology'] = 'Squamous cell carcinoma in situ, NOS'\n",
    "data.loc[data['Histology'] == '8071', 'Histology'] = 'Sq. cell carcinoma, keratinizing, NOS'\n",
    "data.loc[data['Histology'] == '8072', 'Histology'] = 'Basaloid squamous cell carcinoma'\n",
    "data.loc[data['Histology'] == '8074', 'Histology'] = 'Squamous cell carcinoma, spindle cell'\n",
    "data.loc[data['Histology'] == '8083', 'Histology'] = 'Basaloid squamous cell carcinoma'\n",
    "data.loc[data['Histology'] == '8084', 'Histology'] = 'Clear cell acanthoma'\n",
    "data.loc[data['Histology'] == '8120', 'Histology'] = 'Urothelial papilloma, NOS'\n",
    "data.loc[data['Histology'] == '8123', 'Histology'] = 'Basaloid carcinoma'\n",
    "data.loc[data['Histology'] == '8124', 'Histology'] = 'Cloacogenic carcinoma'\n",
    "data.loc[data['Histology'] == '8140', 'Histology'] = 'Adenoma, NOS'\n",
    "data.loc[data['Histology'] == '8144', 'Histology'] = 'Adenoma, intestinal type'\n",
    "data.loc[data['Histology'] == '8201', 'Histology'] = 'Cribriform carcinoma in situ'\n",
    "data.loc[data['Histology'] == '8210', 'Histology'] = 'Adenomatous polyp, NOS'\n",
    "data.loc[data['Histology'] == '8211', 'Histology'] = 'Tubular adenoma, NOS'\n",
    "data.loc[data['Histology'] == '8213', 'Histology'] = 'Serrated adenoma, NOS'\n",
    "data.loc[data['Histology'] == '8220', 'Histology'] = 'Adenomatous polyposis coli'\n",
    "data.loc[data['Histology'] == '8221', 'Histology'] = 'Multiple adenomatous polyps'\n",
    "data.loc[data['Histology'] == '8230', 'Histology'] = 'Ductal carcinoma in situ, solid type'\n",
    "data.loc[data['Histology'] == '8240', 'Histology'] = 'Neuroendocrine tumor, NOS'\n",
    "data.loc[data['Histology'] == '8243', 'Histology'] = 'Goblet cell carcinoid'\n",
    "data.loc[data['Histology'] == '8244', 'Histology'] = 'Mixed adenoneuroendocrine carcinoma'\n",
    "data.loc[data['Histology'] == '8245', 'Histology'] = 'Tubular carcinoid'\n",
    "data.loc[data['Histology'] == '8246', 'Histology'] = 'Neuroendocrine carcinoma, NOS'\n",
    "data.loc[data['Histology'] == '8249', 'Histology'] = 'Neuroendocrine tumor, grade 2'\n",
    "data.loc[data['Histology'] == '8255', 'Histology'] = 'Adenocarcinoma with mixed subtypes'\n",
    "data.loc[data['Histology'] == '8260', 'Histology'] = 'Papillary adenoma, NOS'\n",
    "data.loc[data['Histology'] == '8261', 'Histology'] = 'Villous adenoma, NOS'\n",
    "data.loc[data['Histology'] == '8262', 'Histology'] = 'Villous adenocarcinoma'\n",
    "data.loc[data['Histology'] == '8263', 'Histology'] = 'Tubulovillous adenoma, NOS'\n",
    "data.loc[data['Histology'] == '8310', 'Histology'] = 'Clear cell adenoma'\n",
    "data.loc[data['Histology'] == '8323', 'Histology'] = 'Mixed cell adenoma'\n",
    "data.loc[data['Histology'] == '8401', 'Histology'] = 'Apocrine adenoma'\n",
    "data.loc[data['Histology'] == '8410', 'Histology'] = 'Sebaceoma'\n",
    "data.loc[data['Histology'] == '8470', 'Histology'] = 'Mucinous cystadenoma, NOS'\n",
    "data.loc[data['Histology'] == '8480', 'Histology'] = 'Mucinous adenoma'\n",
    "data.loc[data['Histology'] == '8481', 'Histology'] = 'Mucin-producing adenocarcinoma'\n",
    "data.loc[data['Histology'] == '8482', 'Histology'] = 'Mucinous carcinoma, gastric type'\n",
    "data.loc[data['Histology'] == '8490', 'Histology'] = 'Signet ring cell carcinoma'\n",
    "data.loc[data['Histology'] == '8507', 'Histology'] = 'Intraductal micropapillary carcinoma'\n",
    "data.loc[data['Histology'] == '8510', 'Histology'] = 'Medullary carcinoma, NOS'\n",
    "data.loc[data['Histology'] == '8542', 'Histology'] = 'Paget disease, extramammary'\n",
    "data.loc[data['Histology'] == '8560', 'Histology'] = 'Adenosquamous carcinoma'\n",
    "data.loc[data['Histology'] == '8570', 'Histology'] = 'Adenocarcinoma with squamous metaplasia'\n",
    "data.loc[data['Histology'] == '8571', 'Histology'] = 'Adenocarcinoma with cartilaginous and osseous metaplasia'\n",
    "data.loc[data['Histology'] == '8574', 'Histology'] = 'Adenocarcinoma with neuroendocrine differentiation'\n",
    "data.loc[data['Histology'] == '8576', 'Histology'] = 'Hepatoid adenocarcinoma'\n",
    "data.loc[data['Histology'] == '8936', 'Histology'] = 'Gastrointestinal stromal tumor'\n",
    "\n",
    "\n",
    "data.loc[data['Histology'] == 'nan', 'Histology'] = np.NaN\n",
    "data['Histology'].fillna('Unknown', inplace=True)\n",
    "data.loc[data['Histology'] == \"Unknown\", 'Histology'] = np.NaN\n",
    "data['Histology'].value_counts(dropna=False)"
   ]
  },
  {
   "cell_type": "code",
   "execution_count": 43,
   "metadata": {},
   "outputs": [
    {
     "data": {
      "text/plain": [
       "0    0.932975\n",
       "1    0.067025\n",
       "Name: Keratinizing, dtype: float64"
      ]
     },
     "execution_count": 43,
     "metadata": {},
     "output_type": "execute_result"
    }
   ],
   "source": [
    "data['Keratinizing'] = data['Histology']\n",
    "data.loc[data['Keratinizing'].str.contains('Keratinizing', case=False, na=False), 'Keratinizing'] = 1\n",
    "data.loc[data['Keratinizing'] != 1, 'Keratinizing'] = 0\n",
    "data['Keratinizing'].value_counts(dropna=False, normalize=True)"
   ]
  },
  {
   "cell_type": "code",
   "execution_count": 44,
   "metadata": {},
   "outputs": [
    {
     "data": {
      "text/plain": [
       "0    0.874223\n",
       "1    0.125777\n",
       "Name: Basaloid, dtype: float64"
      ]
     },
     "execution_count": 44,
     "metadata": {},
     "output_type": "execute_result"
    }
   ],
   "source": [
    "data['Basaloid'] = data['Histology']\n",
    "data.loc[data['Basaloid'].str.contains('Basaloid', case=False, na=False), 'Basaloid'] = 1\n",
    "data.loc[data['Basaloid'] != 1, 'Basaloid'] = 0\n",
    "data['Basaloid'].value_counts(dropna=False, normalize=True)"
   ]
  },
  {
   "cell_type": "code",
   "execution_count": 45,
   "metadata": {},
   "outputs": [],
   "source": [
    "data.drop('Histology', axis=1, inplace=True)"
   ]
  },
  {
   "cell_type": "code",
   "execution_count": 46,
   "metadata": {},
   "outputs": [],
   "source": [
    "data.rename(columns=({'GRADE': 'Grade'}), inplace=True)"
   ]
  },
  {
   "cell_type": "code",
   "execution_count": 47,
   "metadata": {},
   "outputs": [
    {
     "data": {
      "text/plain": [
       "2.0    6324\n",
       "9.0    5931\n",
       "3.0    5294\n",
       "1.0    1196\n",
       "9       116\n",
       "4.0     110\n",
       "H         7\n",
       "Name: Grade, dtype: int64"
      ]
     },
     "execution_count": 47,
     "metadata": {},
     "output_type": "execute_result"
    }
   ],
   "source": [
    "data['Grade'].value_counts()"
   ]
  },
  {
   "cell_type": "code",
   "execution_count": 48,
   "metadata": {},
   "outputs": [
    {
     "data": {
      "text/plain": [
       "Grade II, Moderately differentiated                       6324\n",
       "Cell type not determined, not stated or not applicable    6047\n",
       "Grade III, Poorly differentiated                          5294\n",
       "Grade I, Well differentiated                              1196\n",
       "Grade IV, Undifferentiated or anaplastic                   110\n",
       "NaN                                                          7\n",
       "Name: Grade, dtype: int64"
      ]
     },
     "execution_count": 48,
     "metadata": {},
     "output_type": "execute_result"
    }
   ],
   "source": [
    "data.loc[data['Grade'] == '1.0', 'Grade'] = 'Grade I, Well differentiated'\n",
    "data.loc[data['Grade'] == '2.0', 'Grade'] = 'Grade II, Moderately differentiated'\n",
    "data.loc[data['Grade'] == '3.0', 'Grade'] = 'Grade III, Poorly differentiated'\n",
    "data.loc[data['Grade'] == '4.0', 'Grade'] = 'Grade IV, Undifferentiated or anaplastic'\n",
    "data.loc[data['Grade'] == '9.0', 'Grade'] = 'Cell type not determined, not stated or not applicable'\n",
    "data.loc[data['Grade'] == '9', 'Grade'] = 'Cell type not determined, not stated or not applicable'\n",
    "\n",
    "data.loc[data['Grade'] == 'H', 'Grade'] = np.NaN\n",
    "data.loc[data['Grade'] == 'nan', 'Grade'] = np.NaN\n",
    "data['Grade'].fillna('Unknown', inplace=True)\n",
    "data.loc[data['Grade'] == \"Unknown\", 'Grade'] = np.NaN\n",
    "data['Grade'].value_counts(dropna=False)"
   ]
  },
  {
   "cell_type": "code",
   "execution_count": 49,
   "metadata": {},
   "outputs": [],
   "source": [
    "data.rename(columns=({'LYMPH_VASCULAR_INVASION': 'Lymphovascular Invasion'}), inplace=True)"
   ]
  },
  {
   "cell_type": "code",
   "execution_count": 50,
   "metadata": {},
   "outputs": [
    {
     "data": {
      "text/plain": [
       "9.0    10300\n",
       "nan     5946\n",
       "0.0     2293\n",
       "1.0      438\n",
       "8.0        1\n",
       "Name: Lymphovascular Invasion, dtype: int64"
      ]
     },
     "execution_count": 50,
     "metadata": {},
     "output_type": "execute_result"
    }
   ],
   "source": [
    "data['Lymphovascular Invasion'].value_counts()\n"
   ]
  },
  {
   "cell_type": "code",
   "execution_count": 51,
   "metadata": {},
   "outputs": [
    {
     "data": {
      "text/plain": [
       "NaN    16247\n",
       "No      2293\n",
       "Yes      438\n",
       "Name: Lymphovascular Invasion, dtype: int64"
      ]
     },
     "execution_count": 51,
     "metadata": {},
     "output_type": "execute_result"
    }
   ],
   "source": [
    "data.loc[data['Lymphovascular Invasion'] == '0.0', 'Lymphovascular Invasion'] = 'No'\n",
    "data.loc[data['Lymphovascular Invasion'] == '1.0', 'Lymphovascular Invasion'] = 'Yes'\n",
    "data.loc[data['Lymphovascular Invasion'] == '8.0', 'Lymphovascular Invasion'] = 'Unknown'\n",
    "data.loc[data['Lymphovascular Invasion'] == '9.0', 'Lymphovascular Invasion'] = 'Unknown'\n",
    "data.loc[data['Lymphovascular Invasion'] == 'nan', 'Lymphovascular Invasion'] = 'Unknown'\n",
    "\n",
    "\n",
    "data.loc[data['Lymphovascular Invasion'] == 'nan', 'Lymphovascular Invasion'] = np.NaN\n",
    "data['Lymphovascular Invasion'].fillna('Unknown', inplace=True)\n",
    "data.loc[data['Lymphovascular Invasion'] == \"Unknown\", 'Lymphovascular Invasion'] = np.NaN\n",
    "data['Lymphovascular Invasion'].value_counts(dropna=False)"
   ]
  },
  {
   "cell_type": "code",
   "execution_count": 52,
   "metadata": {},
   "outputs": [],
   "source": [
    "data.rename(columns=({'PUF_MEDICAID_EXPN_CODE': 'Medicaid Expansion'}), inplace=True)"
   ]
  },
  {
   "cell_type": "code",
   "execution_count": 53,
   "metadata": {},
   "outputs": [
    {
     "data": {
      "text/plain": [
       "Early Expansion (before 1/2014)         9420\n",
       "Non-Expansion State                     6701\n",
       "Late Expansion States (after 1/2014)    2391\n",
       "Suppressed for Ages 0-39                 466\n",
       "Name: Medicaid Expansion, dtype: int64"
      ]
     },
     "execution_count": 53,
     "metadata": {},
     "output_type": "execute_result"
    }
   ],
   "source": [
    "data.loc[data['Medicaid Expansion'] == '0', 'Medicaid Expansion'] = 'Non-Expansion State'\n",
    "data.loc[data['Medicaid Expansion'] == '1', 'Medicaid Expansion'] = 'Early Expansion (before 1/2014)'\n",
    "data.loc[data['Medicaid Expansion'] == '2', 'Medicaid Expansion'] = 'Early Expansion (before 1/2014)'\n",
    "data.loc[data['Medicaid Expansion'] == '3', 'Medicaid Expansion'] = 'Late Expansion States (after 1/2014)'\n",
    "data.loc[data['Medicaid Expansion'] == '9', 'Medicaid Expansion'] = 'Suppressed for Ages 0-39'\n",
    "\n",
    "data.loc[data['Medicaid Expansion'] == 'nan', 'Medicaid Expansion'] = np.NaN\n",
    "data.loc[data['Medicaid Expansion'] == 'None assigned', 'Medicaid Expansion'] = np.NaN\n",
    "data['Medicaid Expansion'].fillna('Unknown', inplace=True)\n",
    "data.loc[data['Medicaid Expansion'] == \"Unknown\", 'Medicaid Expansion'] = np.NaN\n",
    "data['Medicaid Expansion'].value_counts(dropna=False)"
   ]
  },
  {
   "cell_type": "code",
   "execution_count": 54,
   "metadata": {},
   "outputs": [],
   "source": [
    "data.rename(columns=({'FACILITY_TYPE_CD': 'Facility Type'}), inplace=True)"
   ]
  },
  {
   "cell_type": "code",
   "execution_count": 55,
   "metadata": {},
   "outputs": [
    {
     "data": {
      "text/plain": [
       "Comprehensive Community Cancer Program    7399\n",
       "Academic/Research Program                 6183\n",
       "Integrated Network Cancer Program         3601\n",
       "Community Cancer Program                  1329\n",
       "NaN                                        466\n",
       "Name: Facility Type, dtype: int64"
      ]
     },
     "execution_count": 55,
     "metadata": {},
     "output_type": "execute_result"
    }
   ],
   "source": [
    "data.loc[data['Facility Type'] == '1.0', 'Facility Type'] = 'Community Cancer Program'\n",
    "data.loc[data['Facility Type'] == '2.0', 'Facility Type'] = 'Comprehensive Community Cancer Program'\n",
    "data.loc[data['Facility Type'] == '3.0', 'Facility Type'] = 'Academic/Research Program'\n",
    "data.loc[data['Facility Type'] == '4.0', 'Facility Type'] = 'Integrated Network Cancer Program'\n",
    "\n",
    "data.loc[data['Facility Type'] == 'nan', 'Facility Type'] = 'Unknown'\n",
    "data.loc[data['Facility Type'] == 'None assigned', 'Facility Type'] = np.NaN\n",
    "data['Facility Type'].fillna('Unknown', inplace=True)\n",
    "data.loc[data['Facility Type'] == \"Unknown\", 'Facility Type'] = np.NaN\n",
    "data['Facility Type'].value_counts(dropna=False)"
   ]
  },
  {
   "cell_type": "code",
   "execution_count": 56,
   "metadata": {},
   "outputs": [
    {
     "data": {
      "text/plain": [
       "Comprehensive Community Cancer Program    7399\n",
       "Academic/Research Program                 6183\n",
       "Integrated Network Cancer Program         3601\n",
       "Community Cancer Program                  1329\n",
       "NaN                                        466\n",
       "Name: Facility Type, dtype: int64"
      ]
     },
     "execution_count": 56,
     "metadata": {},
     "output_type": "execute_result"
    }
   ],
   "source": [
    "data.loc[data['Facility Type'] == '1.0', 'Facility Type'] = 'Community Cancer Program'\n",
    "data.loc[data['Facility Type'] == '2.0', 'Facility Type'] = 'Comprehensive Community Cancer Program'\n",
    "data.loc[data['Facility Type'] == '3.0', 'Facility Type'] = 'Academic/Research Program'\n",
    "data.loc[data['Facility Type'] == '4.0', 'Facility Type'] = 'Integrated Network Cancer Program'\n",
    "\n",
    "data.loc[data['Facility Type'] == 'nan', 'Facility Type'] = 'Unknown'\n",
    "data.loc[data['Facility Type'] == 'None assigned', 'Facility Type'] = np.NaN\n",
    "data['Facility Type'].fillna('Unknown', inplace=True)\n",
    "data.loc[data['Facility Type'] == \"Unknown\", 'Facility Type'] = np.NaN\n",
    "data['Facility Type'].value_counts(dropna=False)"
   ]
  },
  {
   "cell_type": "code",
   "execution_count": 57,
   "metadata": {},
   "outputs": [],
   "source": [
    "data.rename(columns=({'DX_RAD_STARTED_DAYS': 'Diagnosis/Radiation Interval, Days', 'RAD_ELAPSED_RX_DAYS': 'Duration of Radiation, Days', 'TOTAL_DOSE': 'Radiation Dose, Rads'}), inplace=True)"
   ]
  },
  {
   "cell_type": "code",
   "execution_count": 58,
   "metadata": {},
   "outputs": [
    {
     "data": {
      "text/html": [
       "<div>\n",
       "<style scoped>\n",
       "    .dataframe tbody tr th:only-of-type {\n",
       "        vertical-align: middle;\n",
       "    }\n",
       "\n",
       "    .dataframe tbody tr th {\n",
       "        vertical-align: top;\n",
       "    }\n",
       "\n",
       "    .dataframe thead th {\n",
       "        text-align: right;\n",
       "    }\n",
       "</style>\n",
       "<table border=\"1\" class=\"dataframe\">\n",
       "  <thead>\n",
       "    <tr style=\"text-align: right;\">\n",
       "      <th></th>\n",
       "      <th>Facility Type</th>\n",
       "      <th>Facility Location</th>\n",
       "      <th>AGE</th>\n",
       "      <th>Sex</th>\n",
       "      <th>Race</th>\n",
       "      <th>Spanish Hispanic Origin</th>\n",
       "      <th>Primary Payor</th>\n",
       "      <th>Urban/Rural Classification</th>\n",
       "      <th>CROWFLY</th>\n",
       "      <th>Charlson-Deyo Score</th>\n",
       "      <th>YEAR_OF_DIAGNOSIS</th>\n",
       "      <th>Grade</th>\n",
       "      <th>TUMOR_SIZE</th>\n",
       "      <th>Lymphovascular Invasion</th>\n",
       "      <th>Diagnosis/Radiation Interval, Days</th>\n",
       "      <th>Duration of Radiation, Days</th>\n",
       "      <th>Chemotherapy</th>\n",
       "      <th>No High School Degree (%)</th>\n",
       "      <th>Median Income Quartile</th>\n",
       "      <th>Medicaid Expansion</th>\n",
       "      <th>Radiation Dose, Rads</th>\n",
       "      <th>APR</th>\n",
       "      <th>Radiation Dose, &gt;30 Gy</th>\n",
       "      <th>stage</th>\n",
       "      <th>t_stage</th>\n",
       "      <th>n_stage</th>\n",
       "      <th>m_stage</th>\n",
       "      <th>facs_quart</th>\n",
       "      <th>Keratinizing</th>\n",
       "      <th>Basaloid</th>\n",
       "    </tr>\n",
       "    <tr>\n",
       "      <th>Case Key</th>\n",
       "      <th></th>\n",
       "      <th></th>\n",
       "      <th></th>\n",
       "      <th></th>\n",
       "      <th></th>\n",
       "      <th></th>\n",
       "      <th></th>\n",
       "      <th></th>\n",
       "      <th></th>\n",
       "      <th></th>\n",
       "      <th></th>\n",
       "      <th></th>\n",
       "      <th></th>\n",
       "      <th></th>\n",
       "      <th></th>\n",
       "      <th></th>\n",
       "      <th></th>\n",
       "      <th></th>\n",
       "      <th></th>\n",
       "      <th></th>\n",
       "      <th></th>\n",
       "      <th></th>\n",
       "      <th></th>\n",
       "      <th></th>\n",
       "      <th></th>\n",
       "      <th></th>\n",
       "      <th></th>\n",
       "      <th></th>\n",
       "      <th></th>\n",
       "      <th></th>\n",
       "    </tr>\n",
       "  </thead>\n",
       "  <tbody>\n",
       "    <tr>\n",
       "      <th>D66f458f9-bdc0-4c95-94a3-a5f8c5bb74f9</th>\n",
       "      <td>Academic/Research Program</td>\n",
       "      <td>Midwest</td>\n",
       "      <td>52</td>\n",
       "      <td>Female</td>\n",
       "      <td>White</td>\n",
       "      <td>Non-Hispanic</td>\n",
       "      <td>Not Insured</td>\n",
       "      <td>Urban</td>\n",
       "      <td>3.6</td>\n",
       "      <td>0</td>\n",
       "      <td>2016</td>\n",
       "      <td>Grade II, Moderately differentiated</td>\n",
       "      <td>38.0</td>\n",
       "      <td>No</td>\n",
       "      <td>86.0</td>\n",
       "      <td>nan</td>\n",
       "      <td>Multi-agent</td>\n",
       "      <td>&gt;=21.0%</td>\n",
       "      <td>&lt; $30,000</td>\n",
       "      <td>Non-Expansion State</td>\n",
       "      <td>0.0</td>\n",
       "      <td>0.0</td>\n",
       "      <td>0.0</td>\n",
       "      <td>2A</td>\n",
       "      <td>2.0</td>\n",
       "      <td>0.0</td>\n",
       "      <td>0</td>\n",
       "      <td>1.0</td>\n",
       "      <td>0</td>\n",
       "      <td>0</td>\n",
       "    </tr>\n",
       "    <tr>\n",
       "      <th>Dfc68ea23-71aa-4b0d-87c0-587b4ce13d04</th>\n",
       "      <td>Academic/Research Program</td>\n",
       "      <td>West</td>\n",
       "      <td>49</td>\n",
       "      <td>Female</td>\n",
       "      <td>White</td>\n",
       "      <td>Non-Hispanic</td>\n",
       "      <td>Private Insurance or Managed Care</td>\n",
       "      <td>Urban</td>\n",
       "      <td>11.4</td>\n",
       "      <td>0</td>\n",
       "      <td>2004</td>\n",
       "      <td>Grade II, Moderately differentiated</td>\n",
       "      <td>44.0</td>\n",
       "      <td>NaN</td>\n",
       "      <td>20.0</td>\n",
       "      <td>nan</td>\n",
       "      <td>Multi-agent</td>\n",
       "      <td>7.0-12.9%</td>\n",
       "      <td>$35,000 - $45,999</td>\n",
       "      <td>Early Expansion (before 1/2014)</td>\n",
       "      <td>NaN</td>\n",
       "      <td>0.0</td>\n",
       "      <td>nan</td>\n",
       "      <td>3A</td>\n",
       "      <td>2.0</td>\n",
       "      <td>1.0</td>\n",
       "      <td>0</td>\n",
       "      <td>1.0</td>\n",
       "      <td>0</td>\n",
       "      <td>1</td>\n",
       "    </tr>\n",
       "    <tr>\n",
       "      <th>D7a846888-d7d5-42ab-bd7f-8dd4e268adba</th>\n",
       "      <td>Comprehensive Community Cancer Program</td>\n",
       "      <td>South</td>\n",
       "      <td>88</td>\n",
       "      <td>Female</td>\n",
       "      <td>White</td>\n",
       "      <td>Non-Hispanic</td>\n",
       "      <td>Medicare/Public</td>\n",
       "      <td>Suburban</td>\n",
       "      <td>32.0</td>\n",
       "      <td>0</td>\n",
       "      <td>2014</td>\n",
       "      <td>Cell type not determined, not stated or not ap...</td>\n",
       "      <td>NaN</td>\n",
       "      <td>NaN</td>\n",
       "      <td>49.0</td>\n",
       "      <td>70.0</td>\n",
       "      <td>NaN</td>\n",
       "      <td>&gt;=21.0%</td>\n",
       "      <td>&lt; $30,000</td>\n",
       "      <td>Non-Expansion State</td>\n",
       "      <td>NaN</td>\n",
       "      <td>0.0</td>\n",
       "      <td>nan</td>\n",
       "      <td>2B</td>\n",
       "      <td>3.0</td>\n",
       "      <td>0.0</td>\n",
       "      <td>0</td>\n",
       "      <td>3.0</td>\n",
       "      <td>0</td>\n",
       "      <td>0</td>\n",
       "    </tr>\n",
       "    <tr>\n",
       "      <th>D6a94c44a-86b9-4b34-8f6b-bcc0da65cc59</th>\n",
       "      <td>Integrated Network Cancer Program</td>\n",
       "      <td>West</td>\n",
       "      <td>53</td>\n",
       "      <td>Female</td>\n",
       "      <td>White</td>\n",
       "      <td>Non-Hispanic</td>\n",
       "      <td>Medicare/Public</td>\n",
       "      <td>Suburban</td>\n",
       "      <td>NaN</td>\n",
       "      <td>3 or more</td>\n",
       "      <td>2011</td>\n",
       "      <td>Grade III, Poorly differentiated</td>\n",
       "      <td>NaN</td>\n",
       "      <td>No</td>\n",
       "      <td>19.0</td>\n",
       "      <td>46.0</td>\n",
       "      <td>Multi-agent</td>\n",
       "      <td>NaN</td>\n",
       "      <td>NaN</td>\n",
       "      <td>Early Expansion (before 1/2014)</td>\n",
       "      <td>NaN</td>\n",
       "      <td>0.0</td>\n",
       "      <td>nan</td>\n",
       "      <td>2B</td>\n",
       "      <td>3.0</td>\n",
       "      <td>0.0</td>\n",
       "      <td>0</td>\n",
       "      <td>1.0</td>\n",
       "      <td>0</td>\n",
       "      <td>0</td>\n",
       "    </tr>\n",
       "    <tr>\n",
       "      <th>D9733f795-06f9-44bd-a94c-cfff0110c969</th>\n",
       "      <td>Community Cancer Program</td>\n",
       "      <td>South</td>\n",
       "      <td>53</td>\n",
       "      <td>Female</td>\n",
       "      <td>White</td>\n",
       "      <td>Non-Hispanic</td>\n",
       "      <td>Private Insurance or Managed Care</td>\n",
       "      <td>Urban</td>\n",
       "      <td>3.9</td>\n",
       "      <td>0</td>\n",
       "      <td>2015</td>\n",
       "      <td>Grade II, Moderately differentiated</td>\n",
       "      <td>69.0</td>\n",
       "      <td>NaN</td>\n",
       "      <td>45.0</td>\n",
       "      <td>44.0</td>\n",
       "      <td>Multi-agent</td>\n",
       "      <td>&gt;=21.0%</td>\n",
       "      <td>$35,000 - $45,999</td>\n",
       "      <td>Late Expansion States (after 1/2014)</td>\n",
       "      <td>5400.0</td>\n",
       "      <td>0.0</td>\n",
       "      <td>1.0</td>\n",
       "      <td>3C</td>\n",
       "      <td>3.0</td>\n",
       "      <td>1.0</td>\n",
       "      <td>0</td>\n",
       "      <td>4.0</td>\n",
       "      <td>0</td>\n",
       "      <td>0</td>\n",
       "    </tr>\n",
       "  </tbody>\n",
       "</table>\n",
       "</div>"
      ],
      "text/plain": [
       "                                                                Facility Type  \\\n",
       "Case Key                                                                        \n",
       "D66f458f9-bdc0-4c95-94a3-a5f8c5bb74f9               Academic/Research Program   \n",
       "Dfc68ea23-71aa-4b0d-87c0-587b4ce13d04               Academic/Research Program   \n",
       "D7a846888-d7d5-42ab-bd7f-8dd4e268adba  Comprehensive Community Cancer Program   \n",
       "D6a94c44a-86b9-4b34-8f6b-bcc0da65cc59       Integrated Network Cancer Program   \n",
       "D9733f795-06f9-44bd-a94c-cfff0110c969                Community Cancer Program   \n",
       "\n",
       "                                      Facility Location  AGE     Sex   Race  \\\n",
       "Case Key                                                                      \n",
       "D66f458f9-bdc0-4c95-94a3-a5f8c5bb74f9           Midwest   52  Female  White   \n",
       "Dfc68ea23-71aa-4b0d-87c0-587b4ce13d04              West   49  Female  White   \n",
       "D7a846888-d7d5-42ab-bd7f-8dd4e268adba             South   88  Female  White   \n",
       "D6a94c44a-86b9-4b34-8f6b-bcc0da65cc59              West   53  Female  White   \n",
       "D9733f795-06f9-44bd-a94c-cfff0110c969             South   53  Female  White   \n",
       "\n",
       "                                      Spanish Hispanic Origin  \\\n",
       "Case Key                                                        \n",
       "D66f458f9-bdc0-4c95-94a3-a5f8c5bb74f9            Non-Hispanic   \n",
       "Dfc68ea23-71aa-4b0d-87c0-587b4ce13d04            Non-Hispanic   \n",
       "D7a846888-d7d5-42ab-bd7f-8dd4e268adba            Non-Hispanic   \n",
       "D6a94c44a-86b9-4b34-8f6b-bcc0da65cc59            Non-Hispanic   \n",
       "D9733f795-06f9-44bd-a94c-cfff0110c969            Non-Hispanic   \n",
       "\n",
       "                                                           Primary Payor  \\\n",
       "Case Key                                                                   \n",
       "D66f458f9-bdc0-4c95-94a3-a5f8c5bb74f9                        Not Insured   \n",
       "Dfc68ea23-71aa-4b0d-87c0-587b4ce13d04  Private Insurance or Managed Care   \n",
       "D7a846888-d7d5-42ab-bd7f-8dd4e268adba                    Medicare/Public   \n",
       "D6a94c44a-86b9-4b34-8f6b-bcc0da65cc59                    Medicare/Public   \n",
       "D9733f795-06f9-44bd-a94c-cfff0110c969  Private Insurance or Managed Care   \n",
       "\n",
       "                                      Urban/Rural Classification  CROWFLY  \\\n",
       "Case Key                                                                    \n",
       "D66f458f9-bdc0-4c95-94a3-a5f8c5bb74f9                      Urban      3.6   \n",
       "Dfc68ea23-71aa-4b0d-87c0-587b4ce13d04                      Urban     11.4   \n",
       "D7a846888-d7d5-42ab-bd7f-8dd4e268adba                   Suburban     32.0   \n",
       "D6a94c44a-86b9-4b34-8f6b-bcc0da65cc59                   Suburban      NaN   \n",
       "D9733f795-06f9-44bd-a94c-cfff0110c969                      Urban      3.9   \n",
       "\n",
       "                                      Charlson-Deyo Score YEAR_OF_DIAGNOSIS  \\\n",
       "Case Key                                                                      \n",
       "D66f458f9-bdc0-4c95-94a3-a5f8c5bb74f9                   0              2016   \n",
       "Dfc68ea23-71aa-4b0d-87c0-587b4ce13d04                   0              2004   \n",
       "D7a846888-d7d5-42ab-bd7f-8dd4e268adba                   0              2014   \n",
       "D6a94c44a-86b9-4b34-8f6b-bcc0da65cc59           3 or more              2011   \n",
       "D9733f795-06f9-44bd-a94c-cfff0110c969                   0              2015   \n",
       "\n",
       "                                                                                   Grade  \\\n",
       "Case Key                                                                                   \n",
       "D66f458f9-bdc0-4c95-94a3-a5f8c5bb74f9                Grade II, Moderately differentiated   \n",
       "Dfc68ea23-71aa-4b0d-87c0-587b4ce13d04                Grade II, Moderately differentiated   \n",
       "D7a846888-d7d5-42ab-bd7f-8dd4e268adba  Cell type not determined, not stated or not ap...   \n",
       "D6a94c44a-86b9-4b34-8f6b-bcc0da65cc59                   Grade III, Poorly differentiated   \n",
       "D9733f795-06f9-44bd-a94c-cfff0110c969                Grade II, Moderately differentiated   \n",
       "\n",
       "                                       TUMOR_SIZE Lymphovascular Invasion  \\\n",
       "Case Key                                                                    \n",
       "D66f458f9-bdc0-4c95-94a3-a5f8c5bb74f9        38.0                      No   \n",
       "Dfc68ea23-71aa-4b0d-87c0-587b4ce13d04        44.0                     NaN   \n",
       "D7a846888-d7d5-42ab-bd7f-8dd4e268adba         NaN                     NaN   \n",
       "D6a94c44a-86b9-4b34-8f6b-bcc0da65cc59         NaN                      No   \n",
       "D9733f795-06f9-44bd-a94c-cfff0110c969        69.0                     NaN   \n",
       "\n",
       "                                       Diagnosis/Radiation Interval, Days  \\\n",
       "Case Key                                                                    \n",
       "D66f458f9-bdc0-4c95-94a3-a5f8c5bb74f9                                86.0   \n",
       "Dfc68ea23-71aa-4b0d-87c0-587b4ce13d04                                20.0   \n",
       "D7a846888-d7d5-42ab-bd7f-8dd4e268adba                                49.0   \n",
       "D6a94c44a-86b9-4b34-8f6b-bcc0da65cc59                                19.0   \n",
       "D9733f795-06f9-44bd-a94c-cfff0110c969                                45.0   \n",
       "\n",
       "                                      Duration of Radiation, Days  \\\n",
       "Case Key                                                            \n",
       "D66f458f9-bdc0-4c95-94a3-a5f8c5bb74f9                         nan   \n",
       "Dfc68ea23-71aa-4b0d-87c0-587b4ce13d04                         nan   \n",
       "D7a846888-d7d5-42ab-bd7f-8dd4e268adba                        70.0   \n",
       "D6a94c44a-86b9-4b34-8f6b-bcc0da65cc59                        46.0   \n",
       "D9733f795-06f9-44bd-a94c-cfff0110c969                        44.0   \n",
       "\n",
       "                                      Chemotherapy No High School Degree (%)  \\\n",
       "Case Key                                                                       \n",
       "D66f458f9-bdc0-4c95-94a3-a5f8c5bb74f9  Multi-agent                   >=21.0%   \n",
       "Dfc68ea23-71aa-4b0d-87c0-587b4ce13d04  Multi-agent                 7.0-12.9%   \n",
       "D7a846888-d7d5-42ab-bd7f-8dd4e268adba          NaN                   >=21.0%   \n",
       "D6a94c44a-86b9-4b34-8f6b-bcc0da65cc59  Multi-agent                       NaN   \n",
       "D9733f795-06f9-44bd-a94c-cfff0110c969  Multi-agent                   >=21.0%   \n",
       "\n",
       "                                      Median Income Quartile  \\\n",
       "Case Key                                                       \n",
       "D66f458f9-bdc0-4c95-94a3-a5f8c5bb74f9              < $30,000   \n",
       "Dfc68ea23-71aa-4b0d-87c0-587b4ce13d04      $35,000 - $45,999   \n",
       "D7a846888-d7d5-42ab-bd7f-8dd4e268adba              < $30,000   \n",
       "D6a94c44a-86b9-4b34-8f6b-bcc0da65cc59                    NaN   \n",
       "D9733f795-06f9-44bd-a94c-cfff0110c969      $35,000 - $45,999   \n",
       "\n",
       "                                                         Medicaid Expansion  \\\n",
       "Case Key                                                                      \n",
       "D66f458f9-bdc0-4c95-94a3-a5f8c5bb74f9                   Non-Expansion State   \n",
       "Dfc68ea23-71aa-4b0d-87c0-587b4ce13d04       Early Expansion (before 1/2014)   \n",
       "D7a846888-d7d5-42ab-bd7f-8dd4e268adba                   Non-Expansion State   \n",
       "D6a94c44a-86b9-4b34-8f6b-bcc0da65cc59       Early Expansion (before 1/2014)   \n",
       "D9733f795-06f9-44bd-a94c-cfff0110c969  Late Expansion States (after 1/2014)   \n",
       "\n",
       "                                       Radiation Dose, Rads  APR  \\\n",
       "Case Key                                                           \n",
       "D66f458f9-bdc0-4c95-94a3-a5f8c5bb74f9                   0.0  0.0   \n",
       "Dfc68ea23-71aa-4b0d-87c0-587b4ce13d04                   NaN  0.0   \n",
       "D7a846888-d7d5-42ab-bd7f-8dd4e268adba                   NaN  0.0   \n",
       "D6a94c44a-86b9-4b34-8f6b-bcc0da65cc59                   NaN  0.0   \n",
       "D9733f795-06f9-44bd-a94c-cfff0110c969                5400.0  0.0   \n",
       "\n",
       "                                      Radiation Dose, >30 Gy stage t_stage  \\\n",
       "Case Key                                                                     \n",
       "D66f458f9-bdc0-4c95-94a3-a5f8c5bb74f9                    0.0    2A     2.0   \n",
       "Dfc68ea23-71aa-4b0d-87c0-587b4ce13d04                    nan    3A     2.0   \n",
       "D7a846888-d7d5-42ab-bd7f-8dd4e268adba                    nan    2B     3.0   \n",
       "D6a94c44a-86b9-4b34-8f6b-bcc0da65cc59                    nan    2B     3.0   \n",
       "D9733f795-06f9-44bd-a94c-cfff0110c969                    1.0    3C     3.0   \n",
       "\n",
       "                                      n_stage m_stage facs_quart Keratinizing  \\\n",
       "Case Key                                                                        \n",
       "D66f458f9-bdc0-4c95-94a3-a5f8c5bb74f9     0.0       0        1.0            0   \n",
       "Dfc68ea23-71aa-4b0d-87c0-587b4ce13d04     1.0       0        1.0            0   \n",
       "D7a846888-d7d5-42ab-bd7f-8dd4e268adba     0.0       0        3.0            0   \n",
       "D6a94c44a-86b9-4b34-8f6b-bcc0da65cc59     0.0       0        1.0            0   \n",
       "D9733f795-06f9-44bd-a94c-cfff0110c969     1.0       0        4.0            0   \n",
       "\n",
       "                                      Basaloid  \n",
       "Case Key                                        \n",
       "D66f458f9-bdc0-4c95-94a3-a5f8c5bb74f9        0  \n",
       "Dfc68ea23-71aa-4b0d-87c0-587b4ce13d04        1  \n",
       "D7a846888-d7d5-42ab-bd7f-8dd4e268adba        0  \n",
       "D6a94c44a-86b9-4b34-8f6b-bcc0da65cc59        0  \n",
       "D9733f795-06f9-44bd-a94c-cfff0110c969        0  "
      ]
     },
     "execution_count": 58,
     "metadata": {},
     "output_type": "execute_result"
    }
   ],
   "source": [
    "data.head()"
   ]
  },
  {
   "cell_type": "code",
   "execution_count": 59,
   "metadata": {},
   "outputs": [
    {
     "data": {
      "text/plain": [
       "['AGE',\n",
       " 'CROWFLY',\n",
       " 'TUMOR_SIZE',\n",
       " 'Radiation Dose, Rads',\n",
       " 'DX_RAD_STARTED_DAYS',\n",
       " 'RAD_ELAPSED_DAYS',\n",
       " 'TOTAL_DOSE']"
      ]
     },
     "execution_count": 59,
     "metadata": {},
     "output_type": "execute_result"
    }
   ],
   "source": [
    "num_cols"
   ]
  },
  {
   "cell_type": "code",
   "execution_count": 60,
   "metadata": {},
   "outputs": [],
   "source": [
    "data.rename({'AGE': 'Age', 'CROWFLY': 'Distance From Facility', 'TUMOR_SIZE': 'Tumor Size'}, axis=1, inplace=True)"
   ]
  },
  {
   "cell_type": "code",
   "execution_count": 61,
   "metadata": {},
   "outputs": [],
   "source": [
    "num_cols = ['Age', 'Distance From Facility', 'Tumor Size', 'Diagnosis/Radiation Interval, Days', 'Duration of Radiation, Days', 'Radiation Dose, Rads']"
   ]
  },
  {
   "cell_type": "code",
   "execution_count": 62,
   "metadata": {},
   "outputs": [],
   "source": [
    "for x in num_cols:\n",
    "    data.loc[data[x] == 'Unknown', x] = np.NaN"
   ]
  },
  {
   "cell_type": "code",
   "execution_count": 63,
   "metadata": {},
   "outputs": [],
   "source": [
    "for x in data.columns.to_list():\n",
    "    data.loc[data[x] == 'Unknown', x] = np.NaN\n",
    "    data.loc[data[x] == 'nan', x] = np.NaN"
   ]
  },
  {
   "cell_type": "code",
   "execution_count": 64,
   "metadata": {},
   "outputs": [],
   "source": [
    "data.rename(columns=({'stage': 'Stage',\n",
    "                      't_stage': 'T Stage',\n",
    "                      'n_stage': 'N Stage',\n",
    "                      'facs_quart' : 'Facility Volume, Quartile'\n",
    "                      }), inplace=True)"
   ]
  },
  {
   "cell_type": "code",
   "execution_count": 65,
   "metadata": {},
   "outputs": [],
   "source": [
    "data.drop(['m_stage'], axis=1, inplace=True)"
   ]
  },
  {
   "cell_type": "code",
   "execution_count": 66,
   "metadata": {},
   "outputs": [],
   "source": [
    "data['YEAR_OF_DIAGNOSIS'] = data['YEAR_OF_DIAGNOSIS'].astype(int)"
   ]
  },
  {
   "cell_type": "code",
   "execution_count": 67,
   "metadata": {},
   "outputs": [
    {
     "data": {
      "text/plain": [
       "(18978, 29)"
      ]
     },
     "execution_count": 67,
     "metadata": {},
     "output_type": "execute_result"
    }
   ],
   "source": [
    "data.shape"
   ]
  },
  {
   "cell_type": "code",
   "execution_count": 68,
   "metadata": {},
   "outputs": [],
   "source": [
    "data.to_csv('data/data_rename.csv', index=False)"
   ]
  },
  {
   "cell_type": "code",
   "execution_count": 69,
   "metadata": {},
   "outputs": [
    {
     "data": {
      "text/plain": [
       "0.0    17963\n",
       "1.0     1015\n",
       "Name: APR, dtype: int64"
      ]
     },
     "execution_count": 69,
     "metadata": {},
     "output_type": "execute_result"
    }
   ],
   "source": [
    "data['APR'].value_counts()"
   ]
  },
  {
   "cell_type": "code",
   "execution_count": 70,
   "metadata": {},
   "outputs": [
    {
     "data": {
      "text/plain": [
       "0.0    0.946517\n",
       "1.0    0.053483\n",
       "Name: APR, dtype: float64"
      ]
     },
     "execution_count": 70,
     "metadata": {},
     "output_type": "execute_result"
    }
   ],
   "source": [
    "data['APR'].value_counts(normalize=True)"
   ]
  },
  {
   "cell_type": "code",
   "execution_count": 71,
   "metadata": {},
   "outputs": [],
   "source": [
    "cols = data.columns.to_list()\n",
    "num_cols = ['Age', 'Distance From Facility', 'Tumor Size', 'Diagnosis/Radiation Interval, Days', 'Duration of Radiation, Days', 'Radiation Dose, Rads']\n",
    "cat_cols = [x for x in cols if x not in num_cols]"
   ]
  },
  {
   "cell_type": "code",
   "execution_count": 72,
   "metadata": {},
   "outputs": [],
   "source": [
    "incl = data.columns.to_list()\n",
    "incl.remove('APR')\n",
    "cat_cols.remove('APR')"
   ]
  },
  {
   "cell_type": "code",
   "execution_count": 73,
   "metadata": {},
   "outputs": [
    {
     "name": "stderr",
     "output_type": "stream",
     "text": [
      "/home/kchen/.local/lib/python3.8/site-packages/tableone/tableone.py:991: FutureWarning: Using the level keyword in DataFrame and Series aggregations is deprecated and will be removed in a future version. Use groupby instead. df.sum(level=1) should use df.groupby(level=1).sum().\n",
      "  df['percent'] = df['freq'].div(df.freq.sum(level=0),\n",
      "/home/kchen/.local/lib/python3.8/site-packages/tableone/tableone.py:991: FutureWarning: Using the level keyword in DataFrame and Series aggregations is deprecated and will be removed in a future version. Use groupby instead. df.sum(level=1) should use df.groupby(level=1).sum().\n",
      "  df['percent'] = df['freq'].div(df.freq.sum(level=0),\n"
     ]
    }
   ],
   "source": [
    "tableone = TableOne(data, columns=incl, categorical=cat_cols, groupby='APR', pval=True)\n",
    "tableone.to_excel('results/table1_apr.xlsx')"
   ]
  }
 ],
 "metadata": {
  "interpreter": {
   "hash": "916dbcbb3f70747c44a77c7bcd40155683ae19c65e1c03b4aa3499c5328201f1"
  },
  "kernelspec": {
   "display_name": "Python 3.8.10 64-bit",
   "language": "python",
   "name": "python3"
  },
  "language_info": {
   "codemirror_mode": {
    "name": "ipython",
    "version": 3
   },
   "file_extension": ".py",
   "mimetype": "text/x-python",
   "name": "python",
   "nbconvert_exporter": "python",
   "pygments_lexer": "ipython3",
   "version": "3.8.10 (default, Nov 14 2022, 12:59:47) \n[GCC 9.4.0]"
  },
  "orig_nbformat": 4
 },
 "nbformat": 4,
 "nbformat_minor": 2
}
