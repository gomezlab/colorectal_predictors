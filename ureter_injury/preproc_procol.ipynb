{
 "cells": [
  {
   "cell_type": "code",
   "execution_count": 1,
   "metadata": {},
   "outputs": [],
   "source": [
    "import numpy as np\n",
    "import pandas as pd\n",
    "from sklearn.preprocessing import OneHotEncoder\n",
    "from sklearn.preprocessing import RobustScaler\n",
    "from sklearn.impute import SimpleImputer\n",
    "from sklearn.preprocessing import LabelEncoder\n",
    "import seaborn as sn\n",
    "from matplotlib import pyplot"
   ]
  },
  {
   "cell_type": "code",
   "execution_count": 2,
   "metadata": {},
   "outputs": [],
   "source": [
    "pd.options.display.max_rows = 100\n",
    "pd.options.display.max_columns = 200"
   ]
  },
  {
   "cell_type": "code",
   "execution_count": 3,
   "metadata": {},
   "outputs": [],
   "source": [
    "include = ['CaseID', 'SEX', 'RACE_NEW', 'ETHNICITY_HISPANIC', 'PRNCPTX', 'CPT', 'WORKRVU', 'Age', 'ANESTHES', 'SURGSPEC', 'ELECTSURG', 'EMERGNCY', 'WNDCLAS', 'ASACLAS', 'DIABETES', 'SMOKE', 'DYSPNEA', 'FNSTATUS2', 'VENTILAT', 'HXCOPD', 'ASCITES', 'HXCHF', 'HYPERMED', 'RENAFAIL', 'DIALYSIS', 'DISCANCR', 'WNDINF', 'STEROID', 'WTLOSS', 'BLEEDDIS', 'TRANSFUS', 'PRSEPIS', 'HEIGHT', 'WEIGHT', 'PRSODM', 'PRBUN', 'PRCREAT', 'PRALBUM', 'PRBILI', 'PRSGOT', 'PRALKPH', 'PRWBC', 'PRHCT', 'PRPLATE', 'PRPTT', 'PRINR', 'PRPT', 'SEPSHOCKPATOS', 'OTHERCPT1', 'CONCPT1', 'INOUT', 'TRANST','OperYR',  'HtoODay', 'SSSIPATOS', 'DSSIPATOS', 'OSSIPATOS', 'PNAPATOS', 'VENTPATOS', 'UTIPATOS', 'SEPSISPATOS', 'SEPSHOCKPATOS', 'OTHERCPT1', 'OTHERCPT2', 'OTHERCPT3', 'OTHERCPT4', 'OTHERCPT5', 'OTHERCPT6', 'OTHERCPT7', 'OTHERCPT8', 'OTHERCPT9', 'OTHERCPT10', 'CONCPT1', 'CONCPT2','CONCPT3','CONCPT4','CONCPT5','CONCPT6','CONCPT7','CONCPT8','CONCPT9','CONCPT10','RETURNOR','REOPORCPT1','REOPERATION1','REOPORICD91','REOPOR1ICD101','REOPERATION2','REOPOR2ICD91','REOPOR2ICD101','REOPOR2CPT1','PODIAG','PODIAGTX','PODIAG10','PODIAGTX10', 'PODIAG_OTHER', 'PODIAG_OTHER10']\n",
    "\n",
    "col_features = ['COL_STEROID', 'COL_MECH_BOWEL_PREP', 'COL_ORAL_ANTIBIOTIC', 'COL_CHEMO', 'COL_INDICATION', 'COL_ICD9_INDICATION', 'COL_EMERGENT', 'COL_ICD9_EMERGENT', 'COL_APPROACH', 'COL_ICD10_INDICATION', 'COL_ICD10_EMERGENT']\n",
    "incl = list(map(lambda x:x.upper(), include))\n",
    "total = col_features + incl"
   ]
  },
  {
   "cell_type": "code",
   "execution_count": 4,
   "metadata": {},
   "outputs": [],
   "source": [
    "CPT = ['OTHERCPT1', 'OTHERCPT2', 'OTHERCPT3', 'OTHERCPT4', 'OTHERCPT5', 'OTHERCPT6', 'OTHERCPT7', 'OTHERCPT8', 'OTHERCPT9', 'OTHERCPT10', 'CONCPT1', 'CONCPT2','CONCPT3','CONCPT4','CONCPT5','CONCPT6','CONCPT7','CONCPT8','CONCPT9','CONCPT10']"
   ]
  },
  {
   "cell_type": "code",
   "execution_count": 5,
   "metadata": {},
   "outputs": [],
   "source": [
    "CPT_dict = {'OTHERCPT1': str, 'OTHERCPT2':str, 'OTHERCPT3':str, 'OTHERCPT4':str, 'OTHERCPT5':str, 'OTHERCPT6':str, 'OTHERCPT7':str, 'OTHERCPT8':str, 'OTHERCPT9':str, 'OTHERCPT10':str, 'CONCPT1':str, 'CONCPT2':str,'CONCPT3':str,'CONCPT4':str,'CONCPT5':str,'CONCPT6':str,'CONCPT7':str,'CONCPT8':str,'CONCPT9':str,'CONCPT10':str, 'REOPORCPT1':str, 'REOPOR2CPT1':str}"
   ]
  },
  {
   "cell_type": "code",
   "execution_count": 6,
   "metadata": {},
   "outputs": [],
   "source": [
    "data = pd.read_csv(r'/home/kchen/Documents/nsqip_raw/procol/procol.csv', index_col='CASEID', usecols=total, dtype=CPT_dict, low_memory=False, na_values=[-99, '-99', 'Unknown'])"
   ]
  },
  {
   "cell_type": "code",
   "execution_count": 7,
   "metadata": {},
   "outputs": [
    {
     "data": {
      "text/plain": [
       "(276232, 104)"
      ]
     },
     "execution_count": 7,
     "metadata": {},
     "output_type": "execute_result"
    }
   ],
   "source": [
    "data.shape"
   ]
  },
  {
   "cell_type": "code",
   "execution_count": 8,
   "metadata": {},
   "outputs": [],
   "source": [
    "strICDIU = ['867.2','867.3']\n",
    "ICDIU = [867.2,867.3]\n",
    "strICD10 = ['S37']"
   ]
  },
  {
   "cell_type": "code",
   "execution_count": 9,
   "metadata": {},
   "outputs": [
    {
     "data": {
      "text/plain": [
       "NaN                                                                                89883\n",
       "Malignant neoplasm of rectum                                                       12398\n",
       "Malignant neoplasm of ascending colon                                               9507\n",
       "Malignant neoplasm of sigmoid colon                                                 9264\n",
       "Diverticulitis of large intestine with perforation and abscess without bleeding     8286\n",
       "                                                                                   ...  \n",
       "DVRTCLOS OF SM INT W/O PERF OR ABSCESS W BLEED                                         1\n",
       "OTHER HEMORRHOIDS                                                                      1\n",
       "OTH COMPLICATIONS OF PROCEDURES, NEC, INIT                                             1\n",
       "ADV EFFECT OF ANTINEOPL AND IMMUNOSUP DRUGS INIT                                       1\n",
       "Foreign body in anus and rectum                                                        1\n",
       "Name: PODIAGTX10, Length: 2351, dtype: int64"
      ]
     },
     "execution_count": 9,
     "metadata": {},
     "output_type": "execute_result"
    }
   ],
   "source": [
    "data['PODIAGTX10'].value_counts(dropna=False)"
   ]
  },
  {
   "cell_type": "code",
   "execution_count": 10,
   "metadata": {},
   "outputs": [],
   "source": [
    "data['URETER'] = 0"
   ]
  },
  {
   "cell_type": "code",
   "execution_count": 11,
   "metadata": {},
   "outputs": [
    {
     "data": {
      "text/plain": [
       "0    276232\n",
       "Name: URETER, dtype: int64"
      ]
     },
     "execution_count": 11,
     "metadata": {},
     "output_type": "execute_result"
    }
   ],
   "source": [
    "for icd in strICDIU:\n",
    "    data.loc[data['PODIAG'].str.contains(icd, na=False, regex=False), 'URETER'] = 1\n",
    "data['URETER'].value_counts()"
   ]
  },
  {
   "cell_type": "code",
   "execution_count": 12,
   "metadata": {},
   "outputs": [
    {
     "data": {
      "text/plain": [
       "0    276231\n",
       "1         1\n",
       "Name: URETER, dtype: int64"
      ]
     },
     "execution_count": 12,
     "metadata": {},
     "output_type": "execute_result"
    }
   ],
   "source": [
    "for icd in strICDIU:\n",
    "    data.loc[data['PODIAG10'].str.contains('S37.1', na=False), 'URETER'] = 1\n",
    "data['URETER'].value_counts()"
   ]
  },
  {
   "cell_type": "code",
   "execution_count": 13,
   "metadata": {},
   "outputs": [
    {
     "data": {
      "text/plain": [
       "0    276218\n",
       "1        14\n",
       "Name: URETER, dtype: int64"
      ]
     },
     "execution_count": 13,
     "metadata": {},
     "output_type": "execute_result"
    }
   ],
   "source": [
    "for icd in strICDIU:\n",
    "    data.loc[data['REOPORICD91'].str.contains(icd, na=False), 'URETER'] = 1\n",
    "data['URETER'].value_counts(dropna=False)"
   ]
  },
  {
   "cell_type": "code",
   "execution_count": 14,
   "metadata": {},
   "outputs": [
    {
     "data": {
      "text/plain": [
       "0    276173\n",
       "1        59\n",
       "Name: URETER, dtype: int64"
      ]
     },
     "execution_count": 14,
     "metadata": {},
     "output_type": "execute_result"
    }
   ],
   "source": [
    "for icd in strICDIU:\n",
    "    data.loc[data['REOPOR1ICD101'].str.contains('S37', na=False), 'URETER'] = 1\n",
    "data['URETER'].value_counts()"
   ]
  },
  {
   "cell_type": "code",
   "execution_count": 15,
   "metadata": {},
   "outputs": [
    {
     "data": {
      "text/plain": [
       "0    276173\n",
       "1        59\n",
       "Name: URETER, dtype: int64"
      ]
     },
     "execution_count": 15,
     "metadata": {},
     "output_type": "execute_result"
    }
   ],
   "source": [
    "IUI = [50740, 50750, 50760, 50770, 50780, 50783, 50785, 50800, 50810, 50815, 50820, 50825, 50840, 50845, 50860, 50900, 50947, 50948, 50949, 52334, 50040]\n",
    "for CPT in IUI:\n",
    "    data.loc[data['REOPORCPT1'] == CPT, 'URETER'] = 1\n",
    "    data.loc[data['REOPOR2CPT1'] == CPT, 'URETER'] = 1\n",
    "data['URETER'].value_counts()"
   ]
  },
  {
   "cell_type": "code",
   "execution_count": 16,
   "metadata": {},
   "outputs": [],
   "source": [
    "strIUI = []\n",
    "for cpt in IUI:\n",
    "    strIUI.append(str(cpt))"
   ]
  },
  {
   "cell_type": "code",
   "execution_count": 17,
   "metadata": {},
   "outputs": [
    {
     "data": {
      "text/plain": [
       "0    276146\n",
       "1        86\n",
       "Name: URETER, dtype: int64"
      ]
     },
     "execution_count": 17,
     "metadata": {},
     "output_type": "execute_result"
    }
   ],
   "source": [
    "for CPT in strIUI:\n",
    "    data.loc[data['REOPORCPT1'].str.contains(CPT, na=False), 'URETER'] = 1\n",
    "    data.loc[data['REOPOR2CPT1'].str.contains(CPT, na=False), 'URETER'] = 1\n",
    "data['URETER'].value_counts()"
   ]
  },
  {
   "cell_type": "code",
   "execution_count": 18,
   "metadata": {},
   "outputs": [],
   "source": [
    "for i in range(1,11):\n",
    "    for CPT in strIUI:\n",
    "        data.loc[data['OTHERCPT%s' % i].str.contains(CPT, na=False), 'URETER'] = 1\n",
    "        data.loc[data['CONCPT%s' % i].str.contains(CPT, na=False), 'URETER'] = 1"
   ]
  },
  {
   "cell_type": "code",
   "execution_count": 19,
   "metadata": {},
   "outputs": [
    {
     "data": {
      "text/plain": [
       "0    0.99411\n",
       "1    0.00589\n",
       "Name: URETER, dtype: float64"
      ]
     },
     "execution_count": 19,
     "metadata": {},
     "output_type": "execute_result"
    }
   ],
   "source": [
    "data['URETER'].value_counts(dropna=False, normalize=True)"
   ]
  },
  {
   "cell_type": "code",
   "execution_count": 20,
   "metadata": {},
   "outputs": [
    {
     "data": {
      "text/plain": [
       "0    0.99411\n",
       "1    0.00589\n",
       "Name: URETER, dtype: float64"
      ]
     },
     "execution_count": 20,
     "metadata": {},
     "output_type": "execute_result"
    }
   ],
   "source": [
    "data.loc[data['URETER'].isna(), 'URETER'] = 0\n",
    "data['URETER'].value_counts(dropna=False, normalize=True)"
   ]
  },
  {
   "cell_type": "code",
   "execution_count": 21,
   "metadata": {},
   "outputs": [],
   "source": [
    "data['STENT'] = 0"
   ]
  },
  {
   "cell_type": "code",
   "execution_count": 22,
   "metadata": {},
   "outputs": [],
   "source": [
    "for i in range(1,11):\n",
    "    data.loc[data['OTHERCPT%s' % i] == 52005, 'STENT'] = 1\n",
    "    data.loc[data['CONCPT%s' % i] == 52005, 'STENT'] = 1"
   ]
  },
  {
   "cell_type": "code",
   "execution_count": 23,
   "metadata": {},
   "outputs": [
    {
     "data": {
      "text/plain": [
       "0    264003\n",
       "1     12229\n",
       "Name: STENT, dtype: int64"
      ]
     },
     "execution_count": 23,
     "metadata": {},
     "output_type": "execute_result"
    }
   ],
   "source": [
    "for i in range(1,11):\n",
    "    data.loc[data['OTHERCPT%s' % i].str.contains('52005', na=False), 'STENT'] = 1\n",
    "    data.loc[data['CONCPT%s' % i].str.contains('52005', na=False), 'STENT'] = 1\n",
    "data['STENT'].value_counts()"
   ]
  },
  {
   "cell_type": "code",
   "execution_count": 24,
   "metadata": {},
   "outputs": [
    {
     "data": {
      "text/plain": [
       "0    0.955729\n",
       "1    0.044271\n",
       "Name: STENT, dtype: float64"
      ]
     },
     "execution_count": 24,
     "metadata": {},
     "output_type": "execute_result"
    }
   ],
   "source": [
    "data.loc[data['STENT'].isna(), 'STENT'] = 0\n",
    "data['STENT'].value_counts(dropna=False, normalize=True)"
   ]
  },
  {
   "cell_type": "code",
   "execution_count": 25,
   "metadata": {},
   "outputs": [
    {
     "data": {
      "text/plain": [
       "OPERYR  URETER\n",
       "2012.0  0         0.994936\n",
       "        1         0.005064\n",
       "2013.0  0         0.992699\n",
       "        1         0.007301\n",
       "2014.0  0         0.993864\n",
       "        1         0.006136\n",
       "2015.0  0         0.992941\n",
       "        1         0.007059\n",
       "2016.0  0         0.994293\n",
       "        1         0.005707\n",
       "2017.0  0         0.994381\n",
       "        1         0.005619\n",
       "2018.0  0         0.994827\n",
       "        1         0.005173\n",
       "2019.0  0         0.994127\n",
       "        1         0.005873\n",
       "Name: URETER, dtype: float64"
      ]
     },
     "execution_count": 25,
     "metadata": {},
     "output_type": "execute_result"
    }
   ],
   "source": [
    "data.groupby('OPERYR')['URETER'].value_counts(normalize=True)"
   ]
  },
  {
   "cell_type": "code",
   "execution_count": 26,
   "metadata": {},
   "outputs": [],
   "source": [
    "uirate = pd.DataFrame(data.groupby('PRNCPTX')['URETER'].value_counts(ascending=False))"
   ]
  },
  {
   "cell_type": "code",
   "execution_count": 27,
   "metadata": {},
   "outputs": [
    {
     "data": {
      "text/html": [
       "<div>\n",
       "<style scoped>\n",
       "    .dataframe tbody tr th:only-of-type {\n",
       "        vertical-align: middle;\n",
       "    }\n",
       "\n",
       "    .dataframe tbody tr th {\n",
       "        vertical-align: top;\n",
       "    }\n",
       "\n",
       "    .dataframe thead th {\n",
       "        text-align: right;\n",
       "    }\n",
       "</style>\n",
       "<table border=\"1\" class=\"dataframe\">\n",
       "  <thead>\n",
       "    <tr style=\"text-align: right;\">\n",
       "      <th></th>\n",
       "      <th></th>\n",
       "      <th>URETER</th>\n",
       "    </tr>\n",
       "    <tr>\n",
       "      <th>PRNCPTX</th>\n",
       "      <th>URETER</th>\n",
       "      <th></th>\n",
       "    </tr>\n",
       "  </thead>\n",
       "  <tbody>\n",
       "    <tr>\n",
       "      <th rowspan=\"2\" valign=\"top\">COLCT TOT ABDL W/O PRCTECT W/CONTINENT ILEOST</th>\n",
       "      <th>0</th>\n",
       "      <td>304</td>\n",
       "    </tr>\n",
       "    <tr>\n",
       "      <th>1</th>\n",
       "      <td>2</td>\n",
       "    </tr>\n",
       "    <tr>\n",
       "      <th rowspan=\"2\" valign=\"top\">COLCT TOT ABDL W/O PRCTECT W/ILEOST/ILEOPXTS</th>\n",
       "      <th>0</th>\n",
       "      <td>6687</td>\n",
       "    </tr>\n",
       "    <tr>\n",
       "      <th>1</th>\n",
       "      <td>24</td>\n",
       "    </tr>\n",
       "    <tr>\n",
       "      <th>COLCT TTL ABD W/PRCTECT ILEOANAL ANAST &amp; RSVR</th>\n",
       "      <th>0</th>\n",
       "      <td>420</td>\n",
       "    </tr>\n",
       "    <tr>\n",
       "      <th rowspan=\"2\" valign=\"top\">COLECTOMY PARTIAL W/ANASTOMOSIS</th>\n",
       "      <th>0</th>\n",
       "      <td>31932</td>\n",
       "    </tr>\n",
       "    <tr>\n",
       "      <th>1</th>\n",
       "      <td>147</td>\n",
       "    </tr>\n",
       "    <tr>\n",
       "      <th>COLECTOMY PRTL ABDOMINAL &amp; TRANSANAL APPR</th>\n",
       "      <th>0</th>\n",
       "      <td>54</td>\n",
       "    </tr>\n",
       "    <tr>\n",
       "      <th rowspan=\"2\" valign=\"top\">COLECTOMY PRTL ABDOMINAL &amp; TRANSANAL APPROACH</th>\n",
       "      <th>0</th>\n",
       "      <td>335</td>\n",
       "    </tr>\n",
       "    <tr>\n",
       "      <th>1</th>\n",
       "      <td>3</td>\n",
       "    </tr>\n",
       "  </tbody>\n",
       "</table>\n",
       "</div>"
      ],
      "text/plain": [
       "                                                      URETER\n",
       "PRNCPTX                                       URETER        \n",
       "COLCT TOT ABDL W/O PRCTECT W/CONTINENT ILEOST 0          304\n",
       "                                              1            2\n",
       "COLCT TOT ABDL W/O PRCTECT W/ILEOST/ILEOPXTS  0         6687\n",
       "                                              1           24\n",
       "COLCT TTL ABD W/PRCTECT ILEOANAL ANAST & RSVR 0          420\n",
       "COLECTOMY PARTIAL W/ANASTOMOSIS               0        31932\n",
       "                                              1          147\n",
       "COLECTOMY PRTL ABDOMINAL & TRANSANAL APPR     0           54\n",
       "COLECTOMY PRTL ABDOMINAL & TRANSANAL APPROACH 0          335\n",
       "                                              1            3"
      ]
     },
     "execution_count": 27,
     "metadata": {},
     "output_type": "execute_result"
    }
   ],
   "source": [
    "uirate.head(10)"
   ]
  },
  {
   "cell_type": "code",
   "execution_count": 28,
   "metadata": {},
   "outputs": [],
   "source": [
    "#Create BMI column\n",
    "lbs_to_kg_ratio = 0.453592\n",
    "inch_to_meter_ratio = 0.0254\n",
    "\n",
    "data['HEIGHT'] *= inch_to_meter_ratio\n",
    "data['WEIGHT'] *= lbs_to_kg_ratio\n",
    "\n",
    "data['BMI'] = data['WEIGHT']/(data['HEIGHT']**2)\n",
    "\n",
    "#BMI <10 set to 10, BMI >50 set to 50\n",
    "data.loc[data['BMI'] > 60, 'BMI'] = 60\n",
    "data.loc[data['BMI'] < 12, 'BMI'] = 12\n"
   ]
  },
  {
   "cell_type": "code",
   "execution_count": 29,
   "metadata": {},
   "outputs": [
    {
     "data": {
      "text/plain": [
       "CASEID\n",
       "6629599     44.0\n",
       "6629786     38.0\n",
       "6630805     84.0\n",
       "6630866     71.0\n",
       "6631518     50.0\n",
       "            ... \n",
       "10363850    53.0\n",
       "10363894     NaN\n",
       "10363959    65.0\n",
       "10363964    41.0\n",
       "10363966    72.0\n",
       "Name: AGE, Length: 276232, dtype: float64"
      ]
     },
     "execution_count": 29,
     "metadata": {},
     "output_type": "execute_result"
    }
   ],
   "source": [
    "#Convert 90+ to 91 and AGE to int32\n",
    "data.loc[data['AGE'] == '90+', 'AGE'] = 91\n",
    "pd.to_numeric(data['AGE'], downcast='integer')"
   ]
  },
  {
   "cell_type": "code",
   "execution_count": 30,
   "metadata": {},
   "outputs": [],
   "source": [
    "#condense 'CPT' categories to fewer/simpler categories\n",
    "data.loc[data['CPT'] == 44204, 'COMBCPT'] = 'Laparoscopic partial colectomy'\n",
    "data.loc[data['CPT'] == 44207, 'COMBCPT'] = 'Laparoscopic L colectomy'\n",
    "data.loc[data['CPT'] == 44208, 'COMBCPT'] = 'Laparoscopic L colectomy'\n",
    "data.loc[data['CPT'] == 44206, 'COMBCPT'] = 'Laparoscopic L colectomy'\n",
    "data.loc[data['CPT'] == 44205, 'COMBCPT'] = 'Laparoscopic R colectomy'\n",
    "data.loc[data['CPT'] == 44140, 'COMBCPT'] = 'Partial colectomy'\n",
    "data.loc[data['CPT'] == 44144, 'COMBCPT'] = 'Partial colectomy'\n",
    "data.loc[data['CPT'] == 44141, 'COMBCPT'] = 'Partial colectomy'\n",
    "data.loc[data['CPT'] == 44160, 'COMBCPT'] = 'R colectomy'\n",
    "data.loc[data['CPT'] == 44145, 'COMBCPT'] = 'L colectomy'\n",
    "data.loc[data['CPT'] == 44143, 'COMBCPT'] = 'L colectomy'\n",
    "data.loc[data['CPT'] == 44146, 'COMBCPT'] = 'L colectomy'\n",
    "data.loc[data['CPT'] == 44146, 'COMBCPT'] = 'L colectomy'\n",
    "data.loc[data['CPT'] == 44210, 'COMBCPT'] = 'Laparoscopic total colectomy'\n",
    "data.loc[data['CPT'] == 44150, 'COMBCPT'] = 'Total colectomy'\n",
    "data.loc[data['CPT'] == 44151, 'COMBCPT'] = 'Total colectomy'\n",
    "data.loc[data['CPT'] == 44156, 'COMBCPT'] = 'Total colectomy'\n",
    "data.loc[data['CPT'] == 44157, 'COMBCPT'] = 'Total colectomy'\n",
    "data.loc[data['CPT'] == 44158, 'COMBCPT'] = 'Total colectomy'\n",
    "data.loc[data['CPT'] == 45110, 'COMBCPT'] = 'APR'\n",
    "data.loc[data['CPT'] == 45112, 'COMBCPT'] = 'APR'\n",
    "data.loc[data['CPT'] == 45395, 'COMBCPT'] = 'Laparoscopic APR'\n",
    "data.loc[data['CPT'] == 45130, 'COMBCPT'] = 'Proctectomy, perineal approach'\n",
    "data.loc[data['CPT'] == 45123, 'COMBCPT'] = 'Proctectomy, perineal approach'\n",
    "data.loc[data['CPT'] == 45135, 'COMBCPT'] = 'Proctectomy, perineal approach'\n",
    "data.loc[data['CPT'] == 45121, 'COMBCPT'] = 'Proctectomy, perineal approach'\n",
    "data.loc[data['CPT'] == 45395, 'COMBCPT'] = 'Laparoscopic LAR'\n",
    "data.loc[data['CPT'] == 45111, 'COMBCPT'] = 'LAR'\n",
    "data.loc[data['CPT'] == 45113, 'COMBCPT'] = 'LAR'\n",
    "data.loc[data['CPT'] == 45119, 'COMBCPT'] = 'LAR'\n",
    "data.loc[data['CPT'] == 45120, 'COMBCPT'] = 'LAR'\n",
    "data.loc[data['CPT'] == 45397, 'COMBCPT'] = 'LAR'\n",
    "\n",
    "data.loc[data['CPT'] == 44212, 'COMBCPT'] = 'Laparoscopic proctocolectomy'\n",
    "data.loc[data['CPT'] == 44211, 'COMBCPT'] = 'Laparoscopic proctocolectomy'\n",
    "data.loc[data['CPT'] == 44155, 'COMBCPT'] = 'Proctocolectomy'\n",
    "data.loc[data['CPT'] == 44156, 'COMBCPT'] = 'Proctocolectomy'\n",
    "\n",
    "\n",
    "data.loc[data['CPT'] == 45126, 'COMBCPT'] = 'Pelvic exenteration'\n",
    "\n",
    "data.loc[data['CPT'] == 44147, 'COMBCPT'] = 'Colectomy, combined transanal approach'\n",
    "data.loc[data['CPT'] == 45550, 'COMBCPT'] = 'Laparoscopic rectopexy'\n",
    "data.loc[data['CPT'] == 45402, 'COMBCPT'] = 'Laparoscopic rectopexy'\n",
    "\n",
    "data.loc[data['CPT'] == 45114, 'COMBCPT'] = 'Proctectomy, transsacral approach'\n",
    "data.loc[data['CPT'] == 45160, 'COMBCPT'] = 'Proctectomy, transsacral approach'\n",
    "data.loc[data['CPT'] == 45116, 'COMBCPT'] = 'Proctectomy, transsacral approach'"
   ]
  },
  {
   "cell_type": "code",
   "execution_count": 31,
   "metadata": {},
   "outputs": [
    {
     "data": {
      "text/plain": [
       "Laparoscopic                                    132108\n",
       "Open (planned)                                  100463\n",
       "Robotic                                          25555\n",
       "Laparoscopic w/ unplanned conversion to open     17614\n",
       "Other                                              405\n",
       "Name: COL_APPROACH, dtype: int64"
      ]
     },
     "execution_count": 31,
     "metadata": {},
     "output_type": "execute_result"
    }
   ],
   "source": [
    "data.loc[data['COL_APPROACH'] == 'SILS', 'COL_APPROACH'] = 'Laparoscopic'\n",
    "data.loc[data['COL_APPROACH'] == 'SILS w/ open assist', 'COL_APPROACH'] = 'Laparoscopic'\n",
    "data.loc[data['COL_APPROACH'] == 'SILS w/ unplanned conversion to open', 'COL_APPROACH'] = 'Laparoscopic'\n",
    "\n",
    "data.loc[data['COL_APPROACH'] == 'Endoscopic', 'COL_APPROACH'] = 'Laparoscopic'\n",
    "data.loc[data['COL_APPROACH'] == 'Endoscopic w/ open assist', 'COL_APPROACH'] = 'Laparoscopic'\n",
    "data.loc[data['COL_APPROACH'] == 'Endoscopic w/ unplanned conversion to open', 'COL_APPROACH'] = 'Laparoscopic'\n",
    "\n",
    "data.loc[data['COL_APPROACH'] == 'NOTES', 'COL_APPROACH'] = 'Laparoscopic'\n",
    "data.loc[data['COL_APPROACH'] == 'NOTES w/ open assist', 'COL_APPROACH'] = 'Laparoscopic'\n",
    "data.loc[data['COL_APPROACH'] == 'NOTES w/ unplanned conversion to open', 'COL_APPROACH'] = 'Laparoscopic'\n",
    "\n",
    "data.loc[data['COL_APPROACH'] == 'Other MIS approach', 'COL_APPROACH'] = 'Laparoscopic'\n",
    "data.loc[data['COL_APPROACH'] == 'Other MIS approach w/ open assist', 'COL_APPROACH'] = 'Laparoscopic'\n",
    "data.loc[data['COL_APPROACH'] == 'Other MIS approach w/ unplanned conversion to open', 'COL_APPROACH'] = 'Laparoscopic'\n",
    "\n",
    "data.loc[data['COL_APPROACH'] == 'Hybrid', 'COL_APPROACH'] = 'Laparoscopic'\n",
    "data.loc[data['COL_APPROACH'] == 'Hybrid w/ open assist', 'COL_APPROACH'] = 'Laparoscopic'\n",
    "data.loc[data['COL_APPROACH'] == 'Hybrid w/ unplanned conversion to open', 'COL_APPROACH'] = 'Laparoscopic'\n",
    "\n",
    "data.loc[data['COL_APPROACH'] == 'Robotic', 'COL_APPROACH'] = 'Robotic'\n",
    "data.loc[data['COL_APPROACH'] == 'Robotic w/ open assist', 'COL_APPROACH'] = 'Robotic'\n",
    "data.loc[data['COL_APPROACH'] == 'Robotic w/ unplanned conversion to open', 'COL_APPROACH'] = 'Robotic'\n",
    "\n",
    "data.loc[data['COL_APPROACH'] == 'Laparoscopic w/ open assist', 'COL_APPROACH'] = 'Laparoscopic'\n",
    "data.loc[data['COL_APPROACH'] == 'Laparoscopic Hand Assisted', 'COL_APPROACH'] = 'Laparoscopic'\n",
    "data.loc[data['COL_APPROACH'] == 'Laparoscopic w/ unplanned conversion to Open', 'COL_APPROACH'] = 'Laparoscopic'\n",
    "\n",
    "data.loc[data['COL_APPROACH'] == 'Open', 'COL_APPROACH'] = 'Open (planned)'\n",
    "\n",
    "data['COL_APPROACH'].value_counts()"
   ]
  },
  {
   "cell_type": "code",
   "execution_count": 32,
   "metadata": {},
   "outputs": [
    {
     "data": {
      "text/plain": [
       "RACE_NEW                             ETHNICITY_HISPANIC\n",
       "American Indian or Alaska Native     No                      1029\n",
       "                                     Yes                       92\n",
       "Asian                                No                      8158\n",
       "                                     Yes                       53\n",
       "Black or African American            No                     23525\n",
       "                                     Yes                      234\n",
       "Native Hawaiian or Pacific Islander  No                       551\n",
       "                                     Yes                       32\n",
       "Unknown/Not Reported                 No                      5116\n",
       "                                     Yes                     4394\n",
       "White                                No                    190646\n",
       "                                     Yes                     8937\n",
       "Name: ETHNICITY_HISPANIC, dtype: int64"
      ]
     },
     "execution_count": 32,
     "metadata": {},
     "output_type": "execute_result"
    }
   ],
   "source": [
    "data.groupby('RACE_NEW')['ETHNICITY_HISPANIC'].value_counts()"
   ]
  },
  {
   "cell_type": "code",
   "execution_count": 33,
   "metadata": {},
   "outputs": [],
   "source": [
    "data['RACE'] = data['RACE_NEW']"
   ]
  },
  {
   "cell_type": "code",
   "execution_count": 34,
   "metadata": {},
   "outputs": [
    {
     "data": {
      "text/plain": [
       "White                                  194329\n",
       "Unknown/Not Reported                    32965\n",
       "Black or African American               24277\n",
       "Hispanic                                13742\n",
       "Asian                                    8244\n",
       "NaN                                      1080\n",
       "American Indian or Alaska Native         1039\n",
       "Native Hawaiian or Pacific Islander       556\n",
       "Name: RACE, dtype: int64"
      ]
     },
     "execution_count": 34,
     "metadata": {},
     "output_type": "execute_result"
    }
   ],
   "source": [
    "data.loc[data['ETHNICITY_HISPANIC'] == 'Yes', 'RACE'] = 'Hispanic'\n",
    "data['RACE'].value_counts(dropna=False)"
   ]
  },
  {
   "cell_type": "code",
   "execution_count": 35,
   "metadata": {},
   "outputs": [
    {
     "data": {
      "text/plain": [
       "White                                  194329\n",
       "Unknown                                 34045\n",
       "Black or African American               24277\n",
       "Hispanic                                13742\n",
       "Asian                                    8244\n",
       "American Indian or Alaska Native         1039\n",
       "Native Hawaiian or Pacific Islander       556\n",
       "Name: RACE, dtype: int64"
      ]
     },
     "execution_count": 35,
     "metadata": {},
     "output_type": "execute_result"
    }
   ],
   "source": [
    "data['RACE'] = data['RACE'].fillna('Unknown/Not Reported')\n",
    "\n",
    "#Replace 'Unknown/Not Reported' with 'Unknown'\n",
    "\n",
    "data['RACE'] = data['RACE'].replace('Unknown/Not Reported', 'Unknown')\n",
    "data['RACE'].value_counts(dropna=False)"
   ]
  },
  {
   "cell_type": "code",
   "execution_count": 36,
   "metadata": {},
   "outputs": [],
   "source": [
    "data.drop(['RACE_NEW', 'ETHNICITY_HISPANIC'], axis=1, inplace=True)"
   ]
  },
  {
   "cell_type": "code",
   "execution_count": 37,
   "metadata": {},
   "outputs": [
    {
     "data": {
      "text/plain": [
       "Colon cancer                         90518\n",
       "Chronic diverticular disease         36189\n",
       "Other-Enter ICD-10 for diagnosis     30063\n",
       "Acute diverticulitis                 21806\n",
       "Non-malignant polyp                  20128\n",
       "Other-Enter ICD-9 for diagnosis      16393\n",
       "Crohn's Disease                      16026\n",
       "Colon cancer w/ obstruction          11920\n",
       "Ulcerative colitis                    8688\n",
       "Rectal cancer                         8571\n",
       "Volvulus                              7141\n",
       "Rectal prolapse                       2472\n",
       "Bleeding                              1795\n",
       "Enterocolitis (e.g. C. Difficile)     1471\n",
       "Anal cancer                            420\n",
       "Name: COL_INDICATION, dtype: int64"
      ]
     },
     "execution_count": 37,
     "metadata": {},
     "output_type": "execute_result"
    }
   ],
   "source": [
    "data['COL_INDICATION'].value_counts()"
   ]
  },
  {
   "cell_type": "code",
   "execution_count": 38,
   "metadata": {},
   "outputs": [
    {
     "data": {
      "text/plain": [
       "Colon cancer                         90515\n",
       "Chronic diverticular disease         36189\n",
       "Other-Enter ICD-10 for diagnosis     30063\n",
       "Acute diverticulitis                 21806\n",
       "Non-malignant polyp                  20851\n",
       "Crohn's Disease                      16026\n",
       "Other-Enter ICD-9 for diagnosis      15674\n",
       "Colon cancer w/ obstruction          11919\n",
       "Ulcerative colitis                    8688\n",
       "Rectal cancer                         8571\n",
       "Volvulus                              7141\n",
       "Rectal prolapse                       2472\n",
       "Bleeding                              1795\n",
       "Enterocolitis (e.g. C. Difficile)     1471\n",
       "Anal cancer                            420\n",
       "Name: COL_INDICATION, dtype: int64"
      ]
     },
     "execution_count": 38,
     "metadata": {},
     "output_type": "execute_result"
    }
   ],
   "source": [
    "data.loc[data['COL_ICD9_INDICATION'] == '211.3', 'COL_INDICATION'] = 'Non-malignant polyp'\n",
    "data['COL_INDICATION'].value_counts()"
   ]
  },
  {
   "cell_type": "markdown",
   "metadata": {},
   "source": [
    "569.83 - perforation\n",
    "560.9 - obstruction\n",
    "557 - ischemic colitis\n",
    "211.3 - polyp\n",
    "596.1 - colovesicular fistula\n",
    "\n",
    "K63.1 - perforation\n",
    "K32.1 - ???\n",
    "K57.20 - diverticulitis w/ perforation\n",
    "K56.609 - obstruction, unspecified\n",
    "K56.699 - obstruction, unspecified\n"
   ]
  },
  {
   "cell_type": "code",
   "execution_count": 39,
   "metadata": {},
   "outputs": [
    {
     "data": {
      "text/plain": [
       "NaN                                                                             237496\n",
       "Perforation                                                                      18366\n",
       "Obstruction                                                                      10548\n",
       "Other (enter ICD-10 code)                                                         3357\n",
       "Toxic colitis (Toxic Megacolon, C. diff w/out perforation, Ischemic Colitis)      2668\n",
       "Other (enter ICD-9 code)                                                          2014\n",
       "Bleeding                                                                          1783\n",
       "Name: COL_EMERGENT, dtype: int64"
      ]
     },
     "execution_count": 39,
     "metadata": {},
     "output_type": "execute_result"
    }
   ],
   "source": [
    "data['COL_EMERGENT'].value_counts(dropna=False)"
   ]
  },
  {
   "cell_type": "code",
   "execution_count": 40,
   "metadata": {},
   "outputs": [],
   "source": [
    "outcomes = ['RETURNOR','REOPORCPT1','REOPERATION1','REOPORICD91','REOPOR1ICD101','REOPERATION2','REOPOR2ICD91','REOPOR2ICD101','REOPOR2CPT1','PODIAG','PODIAGTX','PODIAG10','PODIAGTX10', 'OTHERCPT1', 'OTHERCPT2', 'OTHERCPT3', 'OTHERCPT4', 'OTHERCPT5', 'OTHERCPT6', 'OTHERCPT7', 'OTHERCPT8', 'OTHERCPT9', 'OTHERCPT10', 'CONCPT1', 'CONCPT2','CONCPT3','CONCPT4','CONCPT5','CONCPT6','CONCPT7','CONCPT8','CONCPT9','CONCPT10', 'PODIAG_OTHER', 'PODIAG_OTHER10','STENT']"
   ]
  },
  {
   "cell_type": "code",
   "execution_count": 41,
   "metadata": {},
   "outputs": [],
   "source": [
    "data.drop(outcomes, axis=1, inplace=True)"
   ]
  },
  {
   "cell_type": "code",
   "execution_count": 42,
   "metadata": {},
   "outputs": [],
   "source": [
    "num_cols = ['AGE','HEIGHT','WEIGHT','BMI','PRSODM','PRBUN','PRCREAT','PRALBUM','PRBILI','PRSGOT','PRALKPH','PRWBC','PRHCT','PRPLATE','PRPTT','PRINR','PRPT','HTOODAY']\n",
    "cat_cols = list(set(data.columns) - set(num_cols) - set(outcomes) - set(['CASEID','ETHNICITY_HISPANIC','RACE_NEW']))\n",
    "cat_cols.append('RACE')"
   ]
  },
  {
   "cell_type": "code",
   "execution_count": 43,
   "metadata": {},
   "outputs": [],
   "source": [
    "data_imputed = data.copy()"
   ]
  },
  {
   "cell_type": "code",
   "execution_count": 44,
   "metadata": {},
   "outputs": [],
   "source": [
    "data_imputed.to_csv('table1_data.csv')"
   ]
  },
  {
   "cell_type": "code",
   "execution_count": 51,
   "metadata": {},
   "outputs": [],
   "source": [
    "for col in cat_cols:\n",
    "    data_imputed[col].fillna(value='Unknown', inplace=True)"
   ]
  },
  {
   "cell_type": "code",
   "execution_count": 52,
   "metadata": {},
   "outputs": [
    {
     "data": {
      "text/plain": [
       "2019.0     51250\n",
       "2018.0     46007\n",
       "2017.0     42715\n",
       "2016.0     40125\n",
       "2015.0     31307\n",
       "2014.0     25262\n",
       "2013.0     21505\n",
       "2012.0     16981\n",
       "Unknown     1080\n",
       "Name: OPERYR, dtype: int64"
      ]
     },
     "execution_count": 52,
     "metadata": {},
     "output_type": "execute_result"
    }
   ],
   "source": [
    "data_imputed['OPERYR'].value_counts()"
   ]
  },
  {
   "cell_type": "code",
   "execution_count": 53,
   "metadata": {},
   "outputs": [
    {
     "data": {
      "text/html": [
       "<div>\n",
       "<style scoped>\n",
       "    .dataframe tbody tr th:only-of-type {\n",
       "        vertical-align: middle;\n",
       "    }\n",
       "\n",
       "    .dataframe tbody tr th {\n",
       "        vertical-align: top;\n",
       "    }\n",
       "\n",
       "    .dataframe thead th {\n",
       "        text-align: right;\n",
       "    }\n",
       "</style>\n",
       "<table border=\"1\" class=\"dataframe\">\n",
       "  <thead>\n",
       "    <tr style=\"text-align: right;\">\n",
       "      <th></th>\n",
       "      <th>0</th>\n",
       "    </tr>\n",
       "  </thead>\n",
       "  <tbody>\n",
       "    <tr>\n",
       "      <th>PRPT</th>\n",
       "      <td>0.992861</td>\n",
       "    </tr>\n",
       "    <tr>\n",
       "      <th>PRPTT</th>\n",
       "      <td>0.641273</td>\n",
       "    </tr>\n",
       "    <tr>\n",
       "      <th>PRINR</th>\n",
       "      <td>0.509622</td>\n",
       "    </tr>\n",
       "    <tr>\n",
       "      <th>PRSGOT</th>\n",
       "      <td>0.300458</td>\n",
       "    </tr>\n",
       "    <tr>\n",
       "      <th>PRALKPH</th>\n",
       "      <td>0.280985</td>\n",
       "    </tr>\n",
       "    <tr>\n",
       "      <th>PRBILI</th>\n",
       "      <td>0.280445</td>\n",
       "    </tr>\n",
       "    <tr>\n",
       "      <th>PRALBUM</th>\n",
       "      <td>0.278701</td>\n",
       "    </tr>\n",
       "    <tr>\n",
       "      <th>PRBUN</th>\n",
       "      <td>0.102696</td>\n",
       "    </tr>\n",
       "    <tr>\n",
       "      <th>PRSODM</th>\n",
       "      <td>0.071150</td>\n",
       "    </tr>\n",
       "    <tr>\n",
       "      <th>PRCREAT</th>\n",
       "      <td>0.064909</td>\n",
       "    </tr>\n",
       "    <tr>\n",
       "      <th>PRPLATE</th>\n",
       "      <td>0.056112</td>\n",
       "    </tr>\n",
       "    <tr>\n",
       "      <th>PRWBC</th>\n",
       "      <td>0.055109</td>\n",
       "    </tr>\n",
       "    <tr>\n",
       "      <th>PRHCT</th>\n",
       "      <td>0.048463</td>\n",
       "    </tr>\n",
       "    <tr>\n",
       "      <th>BMI</th>\n",
       "      <td>0.023929</td>\n",
       "    </tr>\n",
       "    <tr>\n",
       "      <th>HEIGHT</th>\n",
       "      <td>0.022774</td>\n",
       "    </tr>\n",
       "    <tr>\n",
       "      <th>WEIGHT</th>\n",
       "      <td>0.015089</td>\n",
       "    </tr>\n",
       "    <tr>\n",
       "      <th>HTOODAY</th>\n",
       "      <td>0.004015</td>\n",
       "    </tr>\n",
       "    <tr>\n",
       "      <th>AGE</th>\n",
       "      <td>0.003913</td>\n",
       "    </tr>\n",
       "  </tbody>\n",
       "</table>\n",
       "</div>"
      ],
      "text/plain": [
       "                0\n",
       "PRPT     0.992861\n",
       "PRPTT    0.641273\n",
       "PRINR    0.509622\n",
       "PRSGOT   0.300458\n",
       "PRALKPH  0.280985\n",
       "PRBILI   0.280445\n",
       "PRALBUM  0.278701\n",
       "PRBUN    0.102696\n",
       "PRSODM   0.071150\n",
       "PRCREAT  0.064909\n",
       "PRPLATE  0.056112\n",
       "PRWBC    0.055109\n",
       "PRHCT    0.048463\n",
       "BMI      0.023929\n",
       "HEIGHT   0.022774\n",
       "WEIGHT   0.015089\n",
       "HTOODAY  0.004015\n",
       "AGE      0.003913"
      ]
     },
     "execution_count": 53,
     "metadata": {},
     "output_type": "execute_result"
    }
   ],
   "source": [
    "col_missing = data_imputed.isnull().sum()/data.shape[0]\n",
    "col_missing = col_missing.sort_values(ascending=False)\n",
    "col_missing = col_missing[col_missing > 0]\n",
    "(pd.DataFrame(col_missing)).head(20)"
   ]
  },
  {
   "cell_type": "code",
   "execution_count": 54,
   "metadata": {},
   "outputs": [],
   "source": [
    "drop = ['PRPT', 'PRPTT','PRSGOT', 'PRALKPH','PRBILI','PRINR','PRALBUM']\n",
    "data_imputed.drop(drop, axis=1, inplace=True)"
   ]
  },
  {
   "cell_type": "code",
   "execution_count": 55,
   "metadata": {},
   "outputs": [],
   "source": [
    "num_cols = list(set(num_cols) - set(drop))"
   ]
  },
  {
   "cell_type": "code",
   "execution_count": 56,
   "metadata": {},
   "outputs": [],
   "source": [
    "num_imputer = SimpleImputer(strategy = 'median')\n",
    "\n",
    "# Imputation for numeric:\n",
    "for ncol in num_cols:\n",
    "    data_imputed[ncol] = num_imputer.fit_transform(data_imputed[ncol].values.reshape(-1, 1))"
   ]
  },
  {
   "cell_type": "code",
   "execution_count": 58,
   "metadata": {},
   "outputs": [],
   "source": [
    "for col in num_cols:\n",
    "    data_imputed[col] = RobustScaler().fit_transform(data_imputed[col].values.reshape(-1,1))"
   ]
  },
  {
   "cell_type": "code",
   "execution_count": 59,
   "metadata": {},
   "outputs": [],
   "source": [
    "le=LabelEncoder()\n",
    "for col in cat_cols:\n",
    "        data_imputed[col] = le.fit_transform(data_imputed[col].astype(str))"
   ]
  },
  {
   "cell_type": "code",
   "execution_count": 60,
   "metadata": {},
   "outputs": [
    {
     "data": {
      "text/plain": [
       "OPERYR  URETER\n",
       "0       0         16895\n",
       "        1            86\n",
       "1       0         21348\n",
       "        1           157\n",
       "2       0         25107\n",
       "        1           155\n",
       "3       0         31086\n",
       "        1           221\n",
       "4       0         39896\n",
       "        1           229\n",
       "5       0         42475\n",
       "        1           240\n",
       "6       0         45769\n",
       "        1           238\n",
       "7       0         50949\n",
       "        1           301\n",
       "8       0          1080\n",
       "Name: URETER, dtype: int64"
      ]
     },
     "execution_count": 60,
     "metadata": {},
     "output_type": "execute_result"
    }
   ],
   "source": [
    "data_imputed.groupby('OPERYR')['URETER'].value_counts()"
   ]
  },
  {
   "cell_type": "code",
   "execution_count": 61,
   "metadata": {},
   "outputs": [
    {
     "data": {
      "text/plain": [
       "OPERYR  URETER\n",
       "0       0         16895\n",
       "        1            86\n",
       "1       0         21348\n",
       "        1           157\n",
       "2       0         25107\n",
       "        1           155\n",
       "3       0         31086\n",
       "        1           221\n",
       "4       0         39896\n",
       "        1           229\n",
       "5       0         42475\n",
       "        1           240\n",
       "6       0         45769\n",
       "        1           238\n",
       "7       0         50949\n",
       "        1           301\n",
       "Name: URETER, dtype: int64"
      ]
     },
     "execution_count": 61,
     "metadata": {},
     "output_type": "execute_result"
    }
   ],
   "source": [
    "data_imputed = data_imputed[data_imputed['OPERYR'] != 8]\n",
    "data_imputed.groupby('OPERYR')['URETER'].value_counts()"
   ]
  },
  {
   "cell_type": "code",
   "execution_count": 63,
   "metadata": {},
   "outputs": [],
   "source": [
    "data_imputed.to_csv(r'ui_procol.csv')"
   ]
  },
  {
   "cell_type": "code",
   "execution_count": 64,
   "metadata": {},
   "outputs": [],
   "source": [
    "data_imputed['OPERYR'].value_counts()\n",
    "data19 = data_imputed[data_imputed['OPERYR'] == 7]\n",
    "\n",
    "drop19 = data_imputed[data_imputed['OPERYR'] != 7]\n",
    "\n",
    "data19 = data19.drop(['OPERYR'], axis=1)\n",
    "\n",
    "drop19 = drop19.drop(['OPERYR'], axis=1)"
   ]
  },
  {
   "cell_type": "code",
   "execution_count": 65,
   "metadata": {},
   "outputs": [],
   "source": [
    "data19.to_csv(r'procol_test.csv')\n",
    "drop19.to_csv(r'procol_train.csv')\n"
   ]
  },
  {
   "cell_type": "code",
   "execution_count": 92,
   "metadata": {},
   "outputs": [],
   "source": [
    "#dum_cols is cat_cols minus columns including variables including string CPT or ICD\n",
    "dum_cols = cat_cols\n",
    "for x in cat_cols:\n",
    "    if 'CPT' in x or 'ICD' in x:\n",
    "        dum_cols.remove(x)\n"
   ]
  },
  {
   "cell_type": "code",
   "execution_count": 95,
   "metadata": {},
   "outputs": [],
   "source": [
    "dum_cols.remove('URETER')"
   ]
  },
  {
   "cell_type": "code",
   "execution_count": 98,
   "metadata": {},
   "outputs": [],
   "source": [
    "dum_data = pd.get_dummies(data_imputed, columns=dum_cols)"
   ]
  },
  {
   "cell_type": "code",
   "execution_count": 99,
   "metadata": {},
   "outputs": [],
   "source": [
    "test19 = dum_data[dum_data['OPERYR'] == 7]\n",
    "train = dum_data[dum_data['OPERYR'] != 7]\n",
    "test19 = test19.drop(['OPERYR'], axis=1)\n",
    "train = train.drop(['OPERYR'], axis=1)"
   ]
  },
  {
   "cell_type": "code",
   "execution_count": 100,
   "metadata": {},
   "outputs": [
    {
     "name": "stdout",
     "output_type": "stream",
     "text": [
      "(223902, 218) (51250, 218)\n"
     ]
    }
   ],
   "source": [
    "print(train.shape, test19.shape)"
   ]
  },
  {
   "cell_type": "code",
   "execution_count": 101,
   "metadata": {},
   "outputs": [],
   "source": [
    "test19.to_csv('procol_test_oh.csv')\n",
    "train.to_csv('procol_train_oh.csv')"
   ]
  }
 ],
 "metadata": {
  "interpreter": {
   "hash": "31f2aee4e71d21fbe5cf8b01ff0e069b9275f58929596ceb00d14d90e3e16cd6"
  },
  "kernelspec": {
   "display_name": "Python 3.9.5 64-bit",
   "name": "python3"
  },
  "language_info": {
   "codemirror_mode": {
    "name": "ipython",
    "version": 3
   },
   "file_extension": ".py",
   "mimetype": "text/x-python",
   "name": "python",
   "nbconvert_exporter": "python",
   "pygments_lexer": "ipython3",
   "version": "3.8.10"
  },
  "orig_nbformat": 4
 },
 "nbformat": 4,
 "nbformat_minor": 2
}
