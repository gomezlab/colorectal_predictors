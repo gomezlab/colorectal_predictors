{
 "cells": [
  {
   "cell_type": "code",
   "execution_count": 11,
   "metadata": {},
   "outputs": [],
   "source": [
    "import numpy as np\n",
    "import pandas as pd\n",
    "from sklearn.metrics import confusion_matrix, roc_auc_score, roc_curve, accuracy_score, auc, precision_recall_curve\n",
    "from sklearn.model_selection import train_test_split\n",
    "from sklearn.metrics import roc_auc_score\n",
    "from sklearn.model_selection import cross_val_score\n",
    "from sklearn.metrics import recall_score\n",
    "from sklearn.ensemble import RandomForestClassifier\n",
    "from sklearn.model_selection import train_test_split\n",
    "from xgboost.sklearn import XGBClassifier\n",
    "from matplotlib import pyplot as plt\n",
    "from math import sqrt\n",
    "from sklearn.linear_model import LogisticRegression"
   ]
  },
  {
   "cell_type": "code",
   "execution_count": 12,
   "metadata": {},
   "outputs": [],
   "source": [
    "pd.options.display.max_rows = 20\n",
    "pd.options.display.max_columns = 200"
   ]
  },
  {
   "cell_type": "code",
   "execution_count": 13,
   "metadata": {},
   "outputs": [],
   "source": [
    "data = pd.read_csv(r'/home/kchen/Documents/ureterinjury/ui_procol.csv', index_col='CASEID')\n"
   ]
  },
  {
   "cell_type": "code",
   "execution_count": 14,
   "metadata": {},
   "outputs": [
    {
     "data": {
      "text/html": [
       "<div>\n",
       "<style scoped>\n",
       "    .dataframe tbody tr th:only-of-type {\n",
       "        vertical-align: middle;\n",
       "    }\n",
       "\n",
       "    .dataframe tbody tr th {\n",
       "        vertical-align: top;\n",
       "    }\n",
       "\n",
       "    .dataframe thead th {\n",
       "        text-align: right;\n",
       "    }\n",
       "</style>\n",
       "<table border=\"1\" class=\"dataframe\">\n",
       "  <thead>\n",
       "    <tr style=\"text-align: right;\">\n",
       "      <th></th>\n",
       "      <th>COL_CHEMO</th>\n",
       "      <th>COL_APPROACH</th>\n",
       "      <th>SEX</th>\n",
       "      <th>PRNCPTX</th>\n",
       "      <th>CPT</th>\n",
       "      <th>WORKRVU</th>\n",
       "      <th>INOUT</th>\n",
       "      <th>TRANST</th>\n",
       "      <th>AGE</th>\n",
       "      <th>OPERYR</th>\n",
       "      <th>ANESTHES</th>\n",
       "      <th>SURGSPEC</th>\n",
       "      <th>ELECTSURG</th>\n",
       "      <th>HEIGHT</th>\n",
       "      <th>WEIGHT</th>\n",
       "      <th>DIABETES</th>\n",
       "      <th>SMOKE</th>\n",
       "      <th>DYSPNEA</th>\n",
       "      <th>FNSTATUS2</th>\n",
       "      <th>VENTILAT</th>\n",
       "      <th>HXCOPD</th>\n",
       "      <th>ASCITES</th>\n",
       "      <th>HXCHF</th>\n",
       "      <th>HYPERMED</th>\n",
       "      <th>RENAFAIL</th>\n",
       "      <th>DIALYSIS</th>\n",
       "      <th>DISCANCR</th>\n",
       "      <th>WNDINF</th>\n",
       "      <th>STEROID</th>\n",
       "      <th>WTLOSS</th>\n",
       "      <th>BLEEDDIS</th>\n",
       "      <th>TRANSFUS</th>\n",
       "      <th>PRSEPIS</th>\n",
       "      <th>PRSODM</th>\n",
       "      <th>PRBUN</th>\n",
       "      <th>PRCREAT</th>\n",
       "      <th>PRWBC</th>\n",
       "      <th>PRHCT</th>\n",
       "      <th>PRPLATE</th>\n",
       "      <th>EMERGNCY</th>\n",
       "      <th>WNDCLAS</th>\n",
       "      <th>ASACLAS</th>\n",
       "      <th>OPTIME</th>\n",
       "      <th>HTOODAY</th>\n",
       "      <th>SSSIPATOS</th>\n",
       "      <th>DSSIPATOS</th>\n",
       "      <th>OSSIPATOS</th>\n",
       "      <th>PNAPATOS</th>\n",
       "      <th>VENTPATOS</th>\n",
       "      <th>UTIPATOS</th>\n",
       "      <th>OTHBLEED</th>\n",
       "      <th>SEPSISPATOS</th>\n",
       "      <th>SEPSHOCKPATOS</th>\n",
       "      <th>COL_INDICATION</th>\n",
       "      <th>COL_STEROID</th>\n",
       "      <th>COL_ORAL_ANTIBIOTIC</th>\n",
       "      <th>COL_MECH_BOWEL_PREP</th>\n",
       "      <th>COL_EMERGENT</th>\n",
       "      <th>COL_ICD9_INDICATION</th>\n",
       "      <th>COL_ICD9_EMERGENT</th>\n",
       "      <th>COL_ICD10_INDICATION</th>\n",
       "      <th>COL_ICD10_EMERGENT</th>\n",
       "      <th>URETER</th>\n",
       "      <th>STENT</th>\n",
       "      <th>BMI</th>\n",
       "      <th>RACE</th>\n",
       "    </tr>\n",
       "    <tr>\n",
       "      <th>CASEID</th>\n",
       "      <th></th>\n",
       "      <th></th>\n",
       "      <th></th>\n",
       "      <th></th>\n",
       "      <th></th>\n",
       "      <th></th>\n",
       "      <th></th>\n",
       "      <th></th>\n",
       "      <th></th>\n",
       "      <th></th>\n",
       "      <th></th>\n",
       "      <th></th>\n",
       "      <th></th>\n",
       "      <th></th>\n",
       "      <th></th>\n",
       "      <th></th>\n",
       "      <th></th>\n",
       "      <th></th>\n",
       "      <th></th>\n",
       "      <th></th>\n",
       "      <th></th>\n",
       "      <th></th>\n",
       "      <th></th>\n",
       "      <th></th>\n",
       "      <th></th>\n",
       "      <th></th>\n",
       "      <th></th>\n",
       "      <th></th>\n",
       "      <th></th>\n",
       "      <th></th>\n",
       "      <th></th>\n",
       "      <th></th>\n",
       "      <th></th>\n",
       "      <th></th>\n",
       "      <th></th>\n",
       "      <th></th>\n",
       "      <th></th>\n",
       "      <th></th>\n",
       "      <th></th>\n",
       "      <th></th>\n",
       "      <th></th>\n",
       "      <th></th>\n",
       "      <th></th>\n",
       "      <th></th>\n",
       "      <th></th>\n",
       "      <th></th>\n",
       "      <th></th>\n",
       "      <th></th>\n",
       "      <th></th>\n",
       "      <th></th>\n",
       "      <th></th>\n",
       "      <th></th>\n",
       "      <th></th>\n",
       "      <th></th>\n",
       "      <th></th>\n",
       "      <th></th>\n",
       "      <th></th>\n",
       "      <th></th>\n",
       "      <th></th>\n",
       "      <th></th>\n",
       "      <th></th>\n",
       "      <th></th>\n",
       "      <th></th>\n",
       "      <th></th>\n",
       "      <th></th>\n",
       "      <th></th>\n",
       "    </tr>\n",
       "  </thead>\n",
       "  <tbody>\n",
       "    <tr>\n",
       "      <th>6629599</th>\n",
       "      <td>0</td>\n",
       "      <td>2</td>\n",
       "      <td>2</td>\n",
       "      <td>35</td>\n",
       "      <td>22</td>\n",
       "      <td>20</td>\n",
       "      <td>0</td>\n",
       "      <td>1</td>\n",
       "      <td>-1.132038</td>\n",
       "      <td>5</td>\n",
       "      <td>1</td>\n",
       "      <td>1</td>\n",
       "      <td>2</td>\n",
       "      <td>0.495799</td>\n",
       "      <td>0.926619</td>\n",
       "      <td>1</td>\n",
       "      <td>0</td>\n",
       "      <td>2</td>\n",
       "      <td>0</td>\n",
       "      <td>0</td>\n",
       "      <td>0</td>\n",
       "      <td>0</td>\n",
       "      <td>0</td>\n",
       "      <td>0</td>\n",
       "      <td>0</td>\n",
       "      <td>0</td>\n",
       "      <td>0</td>\n",
       "      <td>0</td>\n",
       "      <td>0</td>\n",
       "      <td>0</td>\n",
       "      <td>0</td>\n",
       "      <td>0</td>\n",
       "      <td>0</td>\n",
       "      <td>0.968202</td>\n",
       "      <td>-0.378258</td>\n",
       "      <td>0.177864</td>\n",
       "      <td>-0.158850</td>\n",
       "      <td>1.620996</td>\n",
       "      <td>-0.393103</td>\n",
       "      <td>0</td>\n",
       "      <td>1</td>\n",
       "      <td>1</td>\n",
       "      <td>-0.479416</td>\n",
       "      <td>-0.219223</td>\n",
       "      <td>0</td>\n",
       "      <td>0</td>\n",
       "      <td>0</td>\n",
       "      <td>0</td>\n",
       "      <td>0</td>\n",
       "      <td>0</td>\n",
       "      <td>0</td>\n",
       "      <td>0</td>\n",
       "      <td>0</td>\n",
       "      <td>12</td>\n",
       "      <td>1</td>\n",
       "      <td>1</td>\n",
       "      <td>1</td>\n",
       "      <td>6</td>\n",
       "      <td>545</td>\n",
       "      <td>205</td>\n",
       "      <td>540</td>\n",
       "      <td>164</td>\n",
       "      <td>0</td>\n",
       "      <td>0</td>\n",
       "      <td>0.758064</td>\n",
       "      <td>6</td>\n",
       "    </tr>\n",
       "    <tr>\n",
       "      <th>6629786</th>\n",
       "      <td>0</td>\n",
       "      <td>2</td>\n",
       "      <td>2</td>\n",
       "      <td>34</td>\n",
       "      <td>28</td>\n",
       "      <td>26</td>\n",
       "      <td>0</td>\n",
       "      <td>1</td>\n",
       "      <td>-1.520921</td>\n",
       "      <td>5</td>\n",
       "      <td>1</td>\n",
       "      <td>1</td>\n",
       "      <td>2</td>\n",
       "      <td>0.495799</td>\n",
       "      <td>1.117948</td>\n",
       "      <td>1</td>\n",
       "      <td>0</td>\n",
       "      <td>2</td>\n",
       "      <td>0</td>\n",
       "      <td>0</td>\n",
       "      <td>0</td>\n",
       "      <td>0</td>\n",
       "      <td>0</td>\n",
       "      <td>0</td>\n",
       "      <td>0</td>\n",
       "      <td>0</td>\n",
       "      <td>0</td>\n",
       "      <td>0</td>\n",
       "      <td>0</td>\n",
       "      <td>0</td>\n",
       "      <td>0</td>\n",
       "      <td>0</td>\n",
       "      <td>0</td>\n",
       "      <td>0.350507</td>\n",
       "      <td>-0.088853</td>\n",
       "      <td>0.120423</td>\n",
       "      <td>0.012503</td>\n",
       "      <td>1.620996</td>\n",
       "      <td>-0.652370</td>\n",
       "      <td>0</td>\n",
       "      <td>1</td>\n",
       "      <td>2</td>\n",
       "      <td>0.306833</td>\n",
       "      <td>-0.219223</td>\n",
       "      <td>0</td>\n",
       "      <td>0</td>\n",
       "      <td>0</td>\n",
       "      <td>0</td>\n",
       "      <td>0</td>\n",
       "      <td>0</td>\n",
       "      <td>0</td>\n",
       "      <td>0</td>\n",
       "      <td>0</td>\n",
       "      <td>12</td>\n",
       "      <td>1</td>\n",
       "      <td>1</td>\n",
       "      <td>1</td>\n",
       "      <td>6</td>\n",
       "      <td>545</td>\n",
       "      <td>205</td>\n",
       "      <td>540</td>\n",
       "      <td>164</td>\n",
       "      <td>0</td>\n",
       "      <td>0</td>\n",
       "      <td>0.963444</td>\n",
       "      <td>3</td>\n",
       "    </tr>\n",
       "    <tr>\n",
       "      <th>6630805</th>\n",
       "      <td>0</td>\n",
       "      <td>0</td>\n",
       "      <td>1</td>\n",
       "      <td>42</td>\n",
       "      <td>31</td>\n",
       "      <td>3</td>\n",
       "      <td>0</td>\n",
       "      <td>1</td>\n",
       "      <td>1.460514</td>\n",
       "      <td>5</td>\n",
       "      <td>1</td>\n",
       "      <td>1</td>\n",
       "      <td>2</td>\n",
       "      <td>0.253275</td>\n",
       "      <td>-0.986672</td>\n",
       "      <td>2</td>\n",
       "      <td>0</td>\n",
       "      <td>2</td>\n",
       "      <td>0</td>\n",
       "      <td>0</td>\n",
       "      <td>0</td>\n",
       "      <td>0</td>\n",
       "      <td>0</td>\n",
       "      <td>2</td>\n",
       "      <td>0</td>\n",
       "      <td>0</td>\n",
       "      <td>0</td>\n",
       "      <td>0</td>\n",
       "      <td>0</td>\n",
       "      <td>0</td>\n",
       "      <td>0</td>\n",
       "      <td>0</td>\n",
       "      <td>0</td>\n",
       "      <td>0.659355</td>\n",
       "      <td>1.358173</td>\n",
       "      <td>-0.109340</td>\n",
       "      <td>-0.303148</td>\n",
       "      <td>-0.496155</td>\n",
       "      <td>0.135404</td>\n",
       "      <td>0</td>\n",
       "      <td>1</td>\n",
       "      <td>2</td>\n",
       "      <td>-1.096471</td>\n",
       "      <td>-0.219223</td>\n",
       "      <td>0</td>\n",
       "      <td>0</td>\n",
       "      <td>0</td>\n",
       "      <td>0</td>\n",
       "      <td>0</td>\n",
       "      <td>0</td>\n",
       "      <td>0</td>\n",
       "      <td>0</td>\n",
       "      <td>0</td>\n",
       "      <td>12</td>\n",
       "      <td>1</td>\n",
       "      <td>1</td>\n",
       "      <td>1</td>\n",
       "      <td>6</td>\n",
       "      <td>545</td>\n",
       "      <td>205</td>\n",
       "      <td>540</td>\n",
       "      <td>164</td>\n",
       "      <td>0</td>\n",
       "      <td>0</td>\n",
       "      <td>-1.206519</td>\n",
       "      <td>6</td>\n",
       "    </tr>\n",
       "    <tr>\n",
       "      <th>6630866</th>\n",
       "      <td>0</td>\n",
       "      <td>2</td>\n",
       "      <td>1</td>\n",
       "      <td>31</td>\n",
       "      <td>37</td>\n",
       "      <td>34</td>\n",
       "      <td>0</td>\n",
       "      <td>1</td>\n",
       "      <td>0.617934</td>\n",
       "      <td>5</td>\n",
       "      <td>1</td>\n",
       "      <td>1</td>\n",
       "      <td>2</td>\n",
       "      <td>-0.474295</td>\n",
       "      <td>-0.710308</td>\n",
       "      <td>1</td>\n",
       "      <td>0</td>\n",
       "      <td>2</td>\n",
       "      <td>0</td>\n",
       "      <td>0</td>\n",
       "      <td>0</td>\n",
       "      <td>0</td>\n",
       "      <td>0</td>\n",
       "      <td>0</td>\n",
       "      <td>0</td>\n",
       "      <td>0</td>\n",
       "      <td>0</td>\n",
       "      <td>0</td>\n",
       "      <td>0</td>\n",
       "      <td>0</td>\n",
       "      <td>0</td>\n",
       "      <td>0</td>\n",
       "      <td>0</td>\n",
       "      <td>0.659355</td>\n",
       "      <td>-0.667663</td>\n",
       "      <td>-0.396544</td>\n",
       "      <td>0.463432</td>\n",
       "      <td>0.232145</td>\n",
       "      <td>-0.243525</td>\n",
       "      <td>0</td>\n",
       "      <td>1</td>\n",
       "      <td>2</td>\n",
       "      <td>1.212511</td>\n",
       "      <td>-0.219223</td>\n",
       "      <td>0</td>\n",
       "      <td>0</td>\n",
       "      <td>0</td>\n",
       "      <td>0</td>\n",
       "      <td>0</td>\n",
       "      <td>0</td>\n",
       "      <td>0</td>\n",
       "      <td>0</td>\n",
       "      <td>0</td>\n",
       "      <td>10</td>\n",
       "      <td>1</td>\n",
       "      <td>1</td>\n",
       "      <td>1</td>\n",
       "      <td>6</td>\n",
       "      <td>545</td>\n",
       "      <td>205</td>\n",
       "      <td>540</td>\n",
       "      <td>164</td>\n",
       "      <td>0</td>\n",
       "      <td>0</td>\n",
       "      <td>-0.578421</td>\n",
       "      <td>6</td>\n",
       "    </tr>\n",
       "    <tr>\n",
       "      <th>6631518</th>\n",
       "      <td>0</td>\n",
       "      <td>4</td>\n",
       "      <td>1</td>\n",
       "      <td>24</td>\n",
       "      <td>21</td>\n",
       "      <td>30</td>\n",
       "      <td>0</td>\n",
       "      <td>1</td>\n",
       "      <td>-0.743155</td>\n",
       "      <td>5</td>\n",
       "      <td>1</td>\n",
       "      <td>1</td>\n",
       "      <td>2</td>\n",
       "      <td>0.253275</td>\n",
       "      <td>-0.837860</td>\n",
       "      <td>1</td>\n",
       "      <td>0</td>\n",
       "      <td>2</td>\n",
       "      <td>0</td>\n",
       "      <td>0</td>\n",
       "      <td>0</td>\n",
       "      <td>0</td>\n",
       "      <td>0</td>\n",
       "      <td>0</td>\n",
       "      <td>0</td>\n",
       "      <td>0</td>\n",
       "      <td>0</td>\n",
       "      <td>0</td>\n",
       "      <td>0</td>\n",
       "      <td>0</td>\n",
       "      <td>0</td>\n",
       "      <td>0</td>\n",
       "      <td>0</td>\n",
       "      <td>0.041660</td>\n",
       "      <td>-0.571195</td>\n",
       "      <td>-0.382183</td>\n",
       "      <td>0.305607</td>\n",
       "      <td>-0.326783</td>\n",
       "      <td>-0.213610</td>\n",
       "      <td>0</td>\n",
       "      <td>1</td>\n",
       "      <td>2</td>\n",
       "      <td>2.556100</td>\n",
       "      <td>-0.219223</td>\n",
       "      <td>0</td>\n",
       "      <td>0</td>\n",
       "      <td>0</td>\n",
       "      <td>0</td>\n",
       "      <td>0</td>\n",
       "      <td>0</td>\n",
       "      <td>0</td>\n",
       "      <td>0</td>\n",
       "      <td>0</td>\n",
       "      <td>10</td>\n",
       "      <td>1</td>\n",
       "      <td>1</td>\n",
       "      <td>1</td>\n",
       "      <td>6</td>\n",
       "      <td>545</td>\n",
       "      <td>205</td>\n",
       "      <td>540</td>\n",
       "      <td>164</td>\n",
       "      <td>0</td>\n",
       "      <td>0</td>\n",
       "      <td>-1.041975</td>\n",
       "      <td>6</td>\n",
       "    </tr>\n",
       "  </tbody>\n",
       "</table>\n",
       "</div>"
      ],
      "text/plain": [
       "         COL_CHEMO  COL_APPROACH  SEX  PRNCPTX  CPT  WORKRVU  INOUT  TRANST  \\\n",
       "CASEID                                                                        \n",
       "6629599          0             2    2       35   22       20      0       1   \n",
       "6629786          0             2    2       34   28       26      0       1   \n",
       "6630805          0             0    1       42   31        3      0       1   \n",
       "6630866          0             2    1       31   37       34      0       1   \n",
       "6631518          0             4    1       24   21       30      0       1   \n",
       "\n",
       "              AGE  OPERYR  ANESTHES  SURGSPEC  ELECTSURG    HEIGHT    WEIGHT  \\\n",
       "CASEID                                                                         \n",
       "6629599 -1.132038       5         1         1          2  0.495799  0.926619   \n",
       "6629786 -1.520921       5         1         1          2  0.495799  1.117948   \n",
       "6630805  1.460514       5         1         1          2  0.253275 -0.986672   \n",
       "6630866  0.617934       5         1         1          2 -0.474295 -0.710308   \n",
       "6631518 -0.743155       5         1         1          2  0.253275 -0.837860   \n",
       "\n",
       "         DIABETES  SMOKE  DYSPNEA  FNSTATUS2  VENTILAT  HXCOPD  ASCITES  \\\n",
       "CASEID                                                                    \n",
       "6629599         1      0        2          0         0       0        0   \n",
       "6629786         1      0        2          0         0       0        0   \n",
       "6630805         2      0        2          0         0       0        0   \n",
       "6630866         1      0        2          0         0       0        0   \n",
       "6631518         1      0        2          0         0       0        0   \n",
       "\n",
       "         HXCHF  HYPERMED  RENAFAIL  DIALYSIS  DISCANCR  WNDINF  STEROID  \\\n",
       "CASEID                                                                    \n",
       "6629599      0         0         0         0         0       0        0   \n",
       "6629786      0         0         0         0         0       0        0   \n",
       "6630805      0         2         0         0         0       0        0   \n",
       "6630866      0         0         0         0         0       0        0   \n",
       "6631518      0         0         0         0         0       0        0   \n",
       "\n",
       "         WTLOSS  BLEEDDIS  TRANSFUS  PRSEPIS    PRSODM     PRBUN   PRCREAT  \\\n",
       "CASEID                                                                       \n",
       "6629599       0         0         0        0  0.968202 -0.378258  0.177864   \n",
       "6629786       0         0         0        0  0.350507 -0.088853  0.120423   \n",
       "6630805       0         0         0        0  0.659355  1.358173 -0.109340   \n",
       "6630866       0         0         0        0  0.659355 -0.667663 -0.396544   \n",
       "6631518       0         0         0        0  0.041660 -0.571195 -0.382183   \n",
       "\n",
       "            PRWBC     PRHCT   PRPLATE  EMERGNCY  WNDCLAS  ASACLAS    OPTIME  \\\n",
       "CASEID                                                                        \n",
       "6629599 -0.158850  1.620996 -0.393103         0        1        1 -0.479416   \n",
       "6629786  0.012503  1.620996 -0.652370         0        1        2  0.306833   \n",
       "6630805 -0.303148 -0.496155  0.135404         0        1        2 -1.096471   \n",
       "6630866  0.463432  0.232145 -0.243525         0        1        2  1.212511   \n",
       "6631518  0.305607 -0.326783 -0.213610         0        1        2  2.556100   \n",
       "\n",
       "          HTOODAY  SSSIPATOS  DSSIPATOS  OSSIPATOS  PNAPATOS  VENTPATOS  \\\n",
       "CASEID                                                                    \n",
       "6629599 -0.219223          0          0          0         0          0   \n",
       "6629786 -0.219223          0          0          0         0          0   \n",
       "6630805 -0.219223          0          0          0         0          0   \n",
       "6630866 -0.219223          0          0          0         0          0   \n",
       "6631518 -0.219223          0          0          0         0          0   \n",
       "\n",
       "         UTIPATOS  OTHBLEED  SEPSISPATOS  SEPSHOCKPATOS  COL_INDICATION  \\\n",
       "CASEID                                                                    \n",
       "6629599         0         0            0              0              12   \n",
       "6629786         0         0            0              0              12   \n",
       "6630805         0         0            0              0              12   \n",
       "6630866         0         0            0              0              10   \n",
       "6631518         0         0            0              0              10   \n",
       "\n",
       "         COL_STEROID  COL_ORAL_ANTIBIOTIC  COL_MECH_BOWEL_PREP  COL_EMERGENT  \\\n",
       "CASEID                                                                         \n",
       "6629599            1                    1                    1             6   \n",
       "6629786            1                    1                    1             6   \n",
       "6630805            1                    1                    1             6   \n",
       "6630866            1                    1                    1             6   \n",
       "6631518            1                    1                    1             6   \n",
       "\n",
       "         COL_ICD9_INDICATION  COL_ICD9_EMERGENT  COL_ICD10_INDICATION  \\\n",
       "CASEID                                                                  \n",
       "6629599                  545                205                   540   \n",
       "6629786                  545                205                   540   \n",
       "6630805                  545                205                   540   \n",
       "6630866                  545                205                   540   \n",
       "6631518                  545                205                   540   \n",
       "\n",
       "         COL_ICD10_EMERGENT  URETER  STENT       BMI  RACE  \n",
       "CASEID                                                      \n",
       "6629599                 164       0      0  0.758064     6  \n",
       "6629786                 164       0      0  0.963444     3  \n",
       "6630805                 164       0      0 -1.206519     6  \n",
       "6630866                 164       0      0 -0.578421     6  \n",
       "6631518                 164       0      0 -1.041975     6  "
      ]
     },
     "execution_count": 14,
     "metadata": {},
     "output_type": "execute_result"
    }
   ],
   "source": [
    "data.head()"
   ]
  },
  {
   "cell_type": "code",
   "execution_count": 15,
   "metadata": {},
   "outputs": [],
   "source": [
    "y = data['URETER']\n",
    "X = data.drop(['URETER','OPTIME'], axis=1)\n",
    "X_train, X_valid, y_train, y_valid = train_test_split(X, y, train_size=0.8, test_size=0.2, random_state=2)"
   ]
  },
  {
   "cell_type": "markdown",
   "metadata": {},
   "source": [
    "y = data['URETER']\n",
    "X = data.drop(['URETER','OPTIME'], axis=1)\n",
    "X_train, X_test, y_train, y_test = train_test_split(X, y, train_size=0.8, test_size=0.2, random_state=2)"
   ]
  },
  {
   "cell_type": "code",
   "execution_count": 16,
   "metadata": {},
   "outputs": [
    {
     "data": {
      "text/html": [
       "<div>\n",
       "<style scoped>\n",
       "    .dataframe tbody tr th:only-of-type {\n",
       "        vertical-align: middle;\n",
       "    }\n",
       "\n",
       "    .dataframe tbody tr th {\n",
       "        vertical-align: top;\n",
       "    }\n",
       "\n",
       "    .dataframe thead th {\n",
       "        text-align: right;\n",
       "    }\n",
       "</style>\n",
       "<table border=\"1\" class=\"dataframe\">\n",
       "  <thead>\n",
       "    <tr style=\"text-align: right;\">\n",
       "      <th></th>\n",
       "      <th>COL_CHEMO</th>\n",
       "      <th>COL_APPROACH</th>\n",
       "      <th>SEX</th>\n",
       "      <th>PRNCPTX</th>\n",
       "      <th>CPT</th>\n",
       "      <th>WORKRVU</th>\n",
       "      <th>INOUT</th>\n",
       "      <th>TRANST</th>\n",
       "      <th>AGE</th>\n",
       "      <th>OPERYR</th>\n",
       "      <th>ANESTHES</th>\n",
       "      <th>SURGSPEC</th>\n",
       "      <th>ELECTSURG</th>\n",
       "      <th>HEIGHT</th>\n",
       "      <th>WEIGHT</th>\n",
       "      <th>DIABETES</th>\n",
       "      <th>SMOKE</th>\n",
       "      <th>DYSPNEA</th>\n",
       "      <th>FNSTATUS2</th>\n",
       "      <th>VENTILAT</th>\n",
       "      <th>HXCOPD</th>\n",
       "      <th>ASCITES</th>\n",
       "      <th>HXCHF</th>\n",
       "      <th>HYPERMED</th>\n",
       "      <th>RENAFAIL</th>\n",
       "      <th>DIALYSIS</th>\n",
       "      <th>DISCANCR</th>\n",
       "      <th>WNDINF</th>\n",
       "      <th>STEROID</th>\n",
       "      <th>WTLOSS</th>\n",
       "      <th>BLEEDDIS</th>\n",
       "      <th>TRANSFUS</th>\n",
       "      <th>PRSEPIS</th>\n",
       "      <th>PRSODM</th>\n",
       "      <th>PRBUN</th>\n",
       "      <th>PRCREAT</th>\n",
       "      <th>PRWBC</th>\n",
       "      <th>PRHCT</th>\n",
       "      <th>PRPLATE</th>\n",
       "      <th>EMERGNCY</th>\n",
       "      <th>WNDCLAS</th>\n",
       "      <th>ASACLAS</th>\n",
       "      <th>OPTIME</th>\n",
       "      <th>HTOODAY</th>\n",
       "      <th>SSSIPATOS</th>\n",
       "      <th>DSSIPATOS</th>\n",
       "      <th>OSSIPATOS</th>\n",
       "      <th>PNAPATOS</th>\n",
       "      <th>VENTPATOS</th>\n",
       "      <th>UTIPATOS</th>\n",
       "      <th>OTHBLEED</th>\n",
       "      <th>SEPSISPATOS</th>\n",
       "      <th>SEPSHOCKPATOS</th>\n",
       "      <th>COL_INDICATION</th>\n",
       "      <th>COL_STEROID</th>\n",
       "      <th>COL_ORAL_ANTIBIOTIC</th>\n",
       "      <th>COL_MECH_BOWEL_PREP</th>\n",
       "      <th>COL_EMERGENT</th>\n",
       "      <th>COL_ICD9_INDICATION</th>\n",
       "      <th>COL_ICD9_EMERGENT</th>\n",
       "      <th>COL_ICD10_INDICATION</th>\n",
       "      <th>COL_ICD10_EMERGENT</th>\n",
       "      <th>URETER</th>\n",
       "      <th>STENT</th>\n",
       "      <th>BMI</th>\n",
       "      <th>RACE</th>\n",
       "    </tr>\n",
       "    <tr>\n",
       "      <th>CASEID</th>\n",
       "      <th></th>\n",
       "      <th></th>\n",
       "      <th></th>\n",
       "      <th></th>\n",
       "      <th></th>\n",
       "      <th></th>\n",
       "      <th></th>\n",
       "      <th></th>\n",
       "      <th></th>\n",
       "      <th></th>\n",
       "      <th></th>\n",
       "      <th></th>\n",
       "      <th></th>\n",
       "      <th></th>\n",
       "      <th></th>\n",
       "      <th></th>\n",
       "      <th></th>\n",
       "      <th></th>\n",
       "      <th></th>\n",
       "      <th></th>\n",
       "      <th></th>\n",
       "      <th></th>\n",
       "      <th></th>\n",
       "      <th></th>\n",
       "      <th></th>\n",
       "      <th></th>\n",
       "      <th></th>\n",
       "      <th></th>\n",
       "      <th></th>\n",
       "      <th></th>\n",
       "      <th></th>\n",
       "      <th></th>\n",
       "      <th></th>\n",
       "      <th></th>\n",
       "      <th></th>\n",
       "      <th></th>\n",
       "      <th></th>\n",
       "      <th></th>\n",
       "      <th></th>\n",
       "      <th></th>\n",
       "      <th></th>\n",
       "      <th></th>\n",
       "      <th></th>\n",
       "      <th></th>\n",
       "      <th></th>\n",
       "      <th></th>\n",
       "      <th></th>\n",
       "      <th></th>\n",
       "      <th></th>\n",
       "      <th></th>\n",
       "      <th></th>\n",
       "      <th></th>\n",
       "      <th></th>\n",
       "      <th></th>\n",
       "      <th></th>\n",
       "      <th></th>\n",
       "      <th></th>\n",
       "      <th></th>\n",
       "      <th></th>\n",
       "      <th></th>\n",
       "      <th></th>\n",
       "      <th></th>\n",
       "      <th></th>\n",
       "      <th></th>\n",
       "      <th></th>\n",
       "      <th></th>\n",
       "    </tr>\n",
       "  </thead>\n",
       "  <tbody>\n",
       "    <tr>\n",
       "      <th>6629599</th>\n",
       "      <td>0</td>\n",
       "      <td>2</td>\n",
       "      <td>2</td>\n",
       "      <td>35</td>\n",
       "      <td>22</td>\n",
       "      <td>20</td>\n",
       "      <td>0</td>\n",
       "      <td>1</td>\n",
       "      <td>-1.132038</td>\n",
       "      <td>5</td>\n",
       "      <td>1</td>\n",
       "      <td>1</td>\n",
       "      <td>2</td>\n",
       "      <td>0.495799</td>\n",
       "      <td>0.926619</td>\n",
       "      <td>1</td>\n",
       "      <td>0</td>\n",
       "      <td>2</td>\n",
       "      <td>0</td>\n",
       "      <td>0</td>\n",
       "      <td>0</td>\n",
       "      <td>0</td>\n",
       "      <td>0</td>\n",
       "      <td>0</td>\n",
       "      <td>0</td>\n",
       "      <td>0</td>\n",
       "      <td>0</td>\n",
       "      <td>0</td>\n",
       "      <td>0</td>\n",
       "      <td>0</td>\n",
       "      <td>0</td>\n",
       "      <td>0</td>\n",
       "      <td>0</td>\n",
       "      <td>0.968202</td>\n",
       "      <td>-0.378258</td>\n",
       "      <td>0.177864</td>\n",
       "      <td>-0.158850</td>\n",
       "      <td>1.620996</td>\n",
       "      <td>-0.393103</td>\n",
       "      <td>0</td>\n",
       "      <td>1</td>\n",
       "      <td>1</td>\n",
       "      <td>-0.479416</td>\n",
       "      <td>-0.219223</td>\n",
       "      <td>0</td>\n",
       "      <td>0</td>\n",
       "      <td>0</td>\n",
       "      <td>0</td>\n",
       "      <td>0</td>\n",
       "      <td>0</td>\n",
       "      <td>0</td>\n",
       "      <td>0</td>\n",
       "      <td>0</td>\n",
       "      <td>12</td>\n",
       "      <td>1</td>\n",
       "      <td>1</td>\n",
       "      <td>1</td>\n",
       "      <td>6</td>\n",
       "      <td>545</td>\n",
       "      <td>205</td>\n",
       "      <td>540</td>\n",
       "      <td>164</td>\n",
       "      <td>0</td>\n",
       "      <td>0</td>\n",
       "      <td>0.758064</td>\n",
       "      <td>6</td>\n",
       "    </tr>\n",
       "    <tr>\n",
       "      <th>6629786</th>\n",
       "      <td>0</td>\n",
       "      <td>2</td>\n",
       "      <td>2</td>\n",
       "      <td>34</td>\n",
       "      <td>28</td>\n",
       "      <td>26</td>\n",
       "      <td>0</td>\n",
       "      <td>1</td>\n",
       "      <td>-1.520921</td>\n",
       "      <td>5</td>\n",
       "      <td>1</td>\n",
       "      <td>1</td>\n",
       "      <td>2</td>\n",
       "      <td>0.495799</td>\n",
       "      <td>1.117948</td>\n",
       "      <td>1</td>\n",
       "      <td>0</td>\n",
       "      <td>2</td>\n",
       "      <td>0</td>\n",
       "      <td>0</td>\n",
       "      <td>0</td>\n",
       "      <td>0</td>\n",
       "      <td>0</td>\n",
       "      <td>0</td>\n",
       "      <td>0</td>\n",
       "      <td>0</td>\n",
       "      <td>0</td>\n",
       "      <td>0</td>\n",
       "      <td>0</td>\n",
       "      <td>0</td>\n",
       "      <td>0</td>\n",
       "      <td>0</td>\n",
       "      <td>0</td>\n",
       "      <td>0.350507</td>\n",
       "      <td>-0.088853</td>\n",
       "      <td>0.120423</td>\n",
       "      <td>0.012503</td>\n",
       "      <td>1.620996</td>\n",
       "      <td>-0.652370</td>\n",
       "      <td>0</td>\n",
       "      <td>1</td>\n",
       "      <td>2</td>\n",
       "      <td>0.306833</td>\n",
       "      <td>-0.219223</td>\n",
       "      <td>0</td>\n",
       "      <td>0</td>\n",
       "      <td>0</td>\n",
       "      <td>0</td>\n",
       "      <td>0</td>\n",
       "      <td>0</td>\n",
       "      <td>0</td>\n",
       "      <td>0</td>\n",
       "      <td>0</td>\n",
       "      <td>12</td>\n",
       "      <td>1</td>\n",
       "      <td>1</td>\n",
       "      <td>1</td>\n",
       "      <td>6</td>\n",
       "      <td>545</td>\n",
       "      <td>205</td>\n",
       "      <td>540</td>\n",
       "      <td>164</td>\n",
       "      <td>0</td>\n",
       "      <td>0</td>\n",
       "      <td>0.963444</td>\n",
       "      <td>3</td>\n",
       "    </tr>\n",
       "    <tr>\n",
       "      <th>6630805</th>\n",
       "      <td>0</td>\n",
       "      <td>0</td>\n",
       "      <td>1</td>\n",
       "      <td>42</td>\n",
       "      <td>31</td>\n",
       "      <td>3</td>\n",
       "      <td>0</td>\n",
       "      <td>1</td>\n",
       "      <td>1.460514</td>\n",
       "      <td>5</td>\n",
       "      <td>1</td>\n",
       "      <td>1</td>\n",
       "      <td>2</td>\n",
       "      <td>0.253275</td>\n",
       "      <td>-0.986672</td>\n",
       "      <td>2</td>\n",
       "      <td>0</td>\n",
       "      <td>2</td>\n",
       "      <td>0</td>\n",
       "      <td>0</td>\n",
       "      <td>0</td>\n",
       "      <td>0</td>\n",
       "      <td>0</td>\n",
       "      <td>2</td>\n",
       "      <td>0</td>\n",
       "      <td>0</td>\n",
       "      <td>0</td>\n",
       "      <td>0</td>\n",
       "      <td>0</td>\n",
       "      <td>0</td>\n",
       "      <td>0</td>\n",
       "      <td>0</td>\n",
       "      <td>0</td>\n",
       "      <td>0.659355</td>\n",
       "      <td>1.358173</td>\n",
       "      <td>-0.109340</td>\n",
       "      <td>-0.303148</td>\n",
       "      <td>-0.496155</td>\n",
       "      <td>0.135404</td>\n",
       "      <td>0</td>\n",
       "      <td>1</td>\n",
       "      <td>2</td>\n",
       "      <td>-1.096471</td>\n",
       "      <td>-0.219223</td>\n",
       "      <td>0</td>\n",
       "      <td>0</td>\n",
       "      <td>0</td>\n",
       "      <td>0</td>\n",
       "      <td>0</td>\n",
       "      <td>0</td>\n",
       "      <td>0</td>\n",
       "      <td>0</td>\n",
       "      <td>0</td>\n",
       "      <td>12</td>\n",
       "      <td>1</td>\n",
       "      <td>1</td>\n",
       "      <td>1</td>\n",
       "      <td>6</td>\n",
       "      <td>545</td>\n",
       "      <td>205</td>\n",
       "      <td>540</td>\n",
       "      <td>164</td>\n",
       "      <td>0</td>\n",
       "      <td>0</td>\n",
       "      <td>-1.206519</td>\n",
       "      <td>6</td>\n",
       "    </tr>\n",
       "    <tr>\n",
       "      <th>6630866</th>\n",
       "      <td>0</td>\n",
       "      <td>2</td>\n",
       "      <td>1</td>\n",
       "      <td>31</td>\n",
       "      <td>37</td>\n",
       "      <td>34</td>\n",
       "      <td>0</td>\n",
       "      <td>1</td>\n",
       "      <td>0.617934</td>\n",
       "      <td>5</td>\n",
       "      <td>1</td>\n",
       "      <td>1</td>\n",
       "      <td>2</td>\n",
       "      <td>-0.474295</td>\n",
       "      <td>-0.710308</td>\n",
       "      <td>1</td>\n",
       "      <td>0</td>\n",
       "      <td>2</td>\n",
       "      <td>0</td>\n",
       "      <td>0</td>\n",
       "      <td>0</td>\n",
       "      <td>0</td>\n",
       "      <td>0</td>\n",
       "      <td>0</td>\n",
       "      <td>0</td>\n",
       "      <td>0</td>\n",
       "      <td>0</td>\n",
       "      <td>0</td>\n",
       "      <td>0</td>\n",
       "      <td>0</td>\n",
       "      <td>0</td>\n",
       "      <td>0</td>\n",
       "      <td>0</td>\n",
       "      <td>0.659355</td>\n",
       "      <td>-0.667663</td>\n",
       "      <td>-0.396544</td>\n",
       "      <td>0.463432</td>\n",
       "      <td>0.232145</td>\n",
       "      <td>-0.243525</td>\n",
       "      <td>0</td>\n",
       "      <td>1</td>\n",
       "      <td>2</td>\n",
       "      <td>1.212511</td>\n",
       "      <td>-0.219223</td>\n",
       "      <td>0</td>\n",
       "      <td>0</td>\n",
       "      <td>0</td>\n",
       "      <td>0</td>\n",
       "      <td>0</td>\n",
       "      <td>0</td>\n",
       "      <td>0</td>\n",
       "      <td>0</td>\n",
       "      <td>0</td>\n",
       "      <td>10</td>\n",
       "      <td>1</td>\n",
       "      <td>1</td>\n",
       "      <td>1</td>\n",
       "      <td>6</td>\n",
       "      <td>545</td>\n",
       "      <td>205</td>\n",
       "      <td>540</td>\n",
       "      <td>164</td>\n",
       "      <td>0</td>\n",
       "      <td>0</td>\n",
       "      <td>-0.578421</td>\n",
       "      <td>6</td>\n",
       "    </tr>\n",
       "    <tr>\n",
       "      <th>6631518</th>\n",
       "      <td>0</td>\n",
       "      <td>4</td>\n",
       "      <td>1</td>\n",
       "      <td>24</td>\n",
       "      <td>21</td>\n",
       "      <td>30</td>\n",
       "      <td>0</td>\n",
       "      <td>1</td>\n",
       "      <td>-0.743155</td>\n",
       "      <td>5</td>\n",
       "      <td>1</td>\n",
       "      <td>1</td>\n",
       "      <td>2</td>\n",
       "      <td>0.253275</td>\n",
       "      <td>-0.837860</td>\n",
       "      <td>1</td>\n",
       "      <td>0</td>\n",
       "      <td>2</td>\n",
       "      <td>0</td>\n",
       "      <td>0</td>\n",
       "      <td>0</td>\n",
       "      <td>0</td>\n",
       "      <td>0</td>\n",
       "      <td>0</td>\n",
       "      <td>0</td>\n",
       "      <td>0</td>\n",
       "      <td>0</td>\n",
       "      <td>0</td>\n",
       "      <td>0</td>\n",
       "      <td>0</td>\n",
       "      <td>0</td>\n",
       "      <td>0</td>\n",
       "      <td>0</td>\n",
       "      <td>0.041660</td>\n",
       "      <td>-0.571195</td>\n",
       "      <td>-0.382183</td>\n",
       "      <td>0.305607</td>\n",
       "      <td>-0.326783</td>\n",
       "      <td>-0.213610</td>\n",
       "      <td>0</td>\n",
       "      <td>1</td>\n",
       "      <td>2</td>\n",
       "      <td>2.556100</td>\n",
       "      <td>-0.219223</td>\n",
       "      <td>0</td>\n",
       "      <td>0</td>\n",
       "      <td>0</td>\n",
       "      <td>0</td>\n",
       "      <td>0</td>\n",
       "      <td>0</td>\n",
       "      <td>0</td>\n",
       "      <td>0</td>\n",
       "      <td>0</td>\n",
       "      <td>10</td>\n",
       "      <td>1</td>\n",
       "      <td>1</td>\n",
       "      <td>1</td>\n",
       "      <td>6</td>\n",
       "      <td>545</td>\n",
       "      <td>205</td>\n",
       "      <td>540</td>\n",
       "      <td>164</td>\n",
       "      <td>0</td>\n",
       "      <td>0</td>\n",
       "      <td>-1.041975</td>\n",
       "      <td>6</td>\n",
       "    </tr>\n",
       "  </tbody>\n",
       "</table>\n",
       "</div>"
      ],
      "text/plain": [
       "         COL_CHEMO  COL_APPROACH  SEX  PRNCPTX  CPT  WORKRVU  INOUT  TRANST  \\\n",
       "CASEID                                                                        \n",
       "6629599          0             2    2       35   22       20      0       1   \n",
       "6629786          0             2    2       34   28       26      0       1   \n",
       "6630805          0             0    1       42   31        3      0       1   \n",
       "6630866          0             2    1       31   37       34      0       1   \n",
       "6631518          0             4    1       24   21       30      0       1   \n",
       "\n",
       "              AGE  OPERYR  ANESTHES  SURGSPEC  ELECTSURG    HEIGHT    WEIGHT  \\\n",
       "CASEID                                                                         \n",
       "6629599 -1.132038       5         1         1          2  0.495799  0.926619   \n",
       "6629786 -1.520921       5         1         1          2  0.495799  1.117948   \n",
       "6630805  1.460514       5         1         1          2  0.253275 -0.986672   \n",
       "6630866  0.617934       5         1         1          2 -0.474295 -0.710308   \n",
       "6631518 -0.743155       5         1         1          2  0.253275 -0.837860   \n",
       "\n",
       "         DIABETES  SMOKE  DYSPNEA  FNSTATUS2  VENTILAT  HXCOPD  ASCITES  \\\n",
       "CASEID                                                                    \n",
       "6629599         1      0        2          0         0       0        0   \n",
       "6629786         1      0        2          0         0       0        0   \n",
       "6630805         2      0        2          0         0       0        0   \n",
       "6630866         1      0        2          0         0       0        0   \n",
       "6631518         1      0        2          0         0       0        0   \n",
       "\n",
       "         HXCHF  HYPERMED  RENAFAIL  DIALYSIS  DISCANCR  WNDINF  STEROID  \\\n",
       "CASEID                                                                    \n",
       "6629599      0         0         0         0         0       0        0   \n",
       "6629786      0         0         0         0         0       0        0   \n",
       "6630805      0         2         0         0         0       0        0   \n",
       "6630866      0         0         0         0         0       0        0   \n",
       "6631518      0         0         0         0         0       0        0   \n",
       "\n",
       "         WTLOSS  BLEEDDIS  TRANSFUS  PRSEPIS    PRSODM     PRBUN   PRCREAT  \\\n",
       "CASEID                                                                       \n",
       "6629599       0         0         0        0  0.968202 -0.378258  0.177864   \n",
       "6629786       0         0         0        0  0.350507 -0.088853  0.120423   \n",
       "6630805       0         0         0        0  0.659355  1.358173 -0.109340   \n",
       "6630866       0         0         0        0  0.659355 -0.667663 -0.396544   \n",
       "6631518       0         0         0        0  0.041660 -0.571195 -0.382183   \n",
       "\n",
       "            PRWBC     PRHCT   PRPLATE  EMERGNCY  WNDCLAS  ASACLAS    OPTIME  \\\n",
       "CASEID                                                                        \n",
       "6629599 -0.158850  1.620996 -0.393103         0        1        1 -0.479416   \n",
       "6629786  0.012503  1.620996 -0.652370         0        1        2  0.306833   \n",
       "6630805 -0.303148 -0.496155  0.135404         0        1        2 -1.096471   \n",
       "6630866  0.463432  0.232145 -0.243525         0        1        2  1.212511   \n",
       "6631518  0.305607 -0.326783 -0.213610         0        1        2  2.556100   \n",
       "\n",
       "          HTOODAY  SSSIPATOS  DSSIPATOS  OSSIPATOS  PNAPATOS  VENTPATOS  \\\n",
       "CASEID                                                                    \n",
       "6629599 -0.219223          0          0          0         0          0   \n",
       "6629786 -0.219223          0          0          0         0          0   \n",
       "6630805 -0.219223          0          0          0         0          0   \n",
       "6630866 -0.219223          0          0          0         0          0   \n",
       "6631518 -0.219223          0          0          0         0          0   \n",
       "\n",
       "         UTIPATOS  OTHBLEED  SEPSISPATOS  SEPSHOCKPATOS  COL_INDICATION  \\\n",
       "CASEID                                                                    \n",
       "6629599         0         0            0              0              12   \n",
       "6629786         0         0            0              0              12   \n",
       "6630805         0         0            0              0              12   \n",
       "6630866         0         0            0              0              10   \n",
       "6631518         0         0            0              0              10   \n",
       "\n",
       "         COL_STEROID  COL_ORAL_ANTIBIOTIC  COL_MECH_BOWEL_PREP  COL_EMERGENT  \\\n",
       "CASEID                                                                         \n",
       "6629599            1                    1                    1             6   \n",
       "6629786            1                    1                    1             6   \n",
       "6630805            1                    1                    1             6   \n",
       "6630866            1                    1                    1             6   \n",
       "6631518            1                    1                    1             6   \n",
       "\n",
       "         COL_ICD9_INDICATION  COL_ICD9_EMERGENT  COL_ICD10_INDICATION  \\\n",
       "CASEID                                                                  \n",
       "6629599                  545                205                   540   \n",
       "6629786                  545                205                   540   \n",
       "6630805                  545                205                   540   \n",
       "6630866                  545                205                   540   \n",
       "6631518                  545                205                   540   \n",
       "\n",
       "         COL_ICD10_EMERGENT  URETER  STENT       BMI  RACE  \n",
       "CASEID                                                      \n",
       "6629599                 164       0      0  0.758064     6  \n",
       "6629786                 164       0      0  0.963444     3  \n",
       "6630805                 164       0      0 -1.206519     6  \n",
       "6630866                 164       0      0 -0.578421     6  \n",
       "6631518                 164       0      0 -1.041975     6  "
      ]
     },
     "execution_count": 16,
     "metadata": {},
     "output_type": "execute_result"
    }
   ],
   "source": [
    "data.head()"
   ]
  },
  {
   "cell_type": "code",
   "execution_count": 17,
   "metadata": {},
   "outputs": [
    {
     "name": "stdout",
     "output_type": "stream",
     "text": [
      "(220121, 64) (55031, 64)\n"
     ]
    }
   ],
   "source": [
    "print(X_train.shape, X_valid.shape)"
   ]
  },
  {
   "cell_type": "markdown",
   "metadata": {},
   "source": [
    "test = pd.read_csv(r'/home/kchen/Documents/ureterinjury/procol_test.csv', index_col='CASEID')\n",
    "y_test = test['URETER']\n",
    "X_test = test.drop(['URETER','OPTIME'], axis=1)"
   ]
  },
  {
   "cell_type": "code",
   "execution_count": 18,
   "metadata": {},
   "outputs": [],
   "source": [
    "def evaluate(model1, X, y):\n",
    "    ppreds = model1.predict_proba(X)\n",
    "    ppreds = ppreds[:,1]\n",
    "    pscore = roc_auc_score(y, ppreds)\n",
    "    print('AUC', pscore)"
   ]
  },
  {
   "cell_type": "code",
   "execution_count": 19,
   "metadata": {},
   "outputs": [
    {
     "name": "stdout",
     "output_type": "stream",
     "text": [
      "AUC 0.7559999044539394\n"
     ]
    }
   ],
   "source": [
    "model = RandomForestClassifier(n_estimators=1250, min_samples_split=2, min_samples_leaf=8, max_features='auto', max_depth=20, bootstrap=True)\n",
    "model.fit(X_train, y_train)\n",
    "evaluate(model, X_valid, y_valid)"
   ]
  },
  {
   "cell_type": "code",
   "execution_count": 20,
   "metadata": {},
   "outputs": [
    {
     "name": "stderr",
     "output_type": "stream",
     "text": [
      "/home/kchen/.local/lib/python3.9/site-packages/xgboost/sklearn.py:1146: UserWarning: The use of label encoder in XGBClassifier is deprecated and will be removed in a future release. To remove this warning, do the following: 1) Pass option use_label_encoder=False when constructing XGBClassifier object; and 2) Encode your labels (y) as integers starting with 0, i.e. 0, 1, 2, ..., [num_class - 1].\n",
      "  warnings.warn(label_encoder_deprecation_msg, UserWarning)\n"
     ]
    },
    {
     "name": "stdout",
     "output_type": "stream",
     "text": [
      "[13:35:48] WARNING: ../src/learner.cc:1095: Starting in XGBoost 1.3.0, the default evaluation metric used with the objective 'binary:logistic' was changed from 'error' to 'logloss'. Explicitly set eval_metric if you'd like to restore the old behavior.\n",
      "AUC 0.766663591277839\n"
     ]
    }
   ],
   "source": [
    "model2 = XGBClassifier(n_estimators=50, subsample=0.6, min_child_weight=10, max_depth=6, learning_rate=0.1, colsample_bytree=0.8)\n",
    "model2.fit(X_train, y_train)\n",
    "evaluate(model2, X_valid, y_valid)"
   ]
  },
  {
   "cell_type": "code",
   "execution_count": 39,
   "metadata": {},
   "outputs": [],
   "source": [
    "preds1 = model.predict_proba(X_valid)\n",
    "preds2 = model.predict_proba(X_valid)\n",
    "preds1 = preds1[:,1]\n",
    "preds2 = preds2[:,1]"
   ]
  },
  {
   "cell_type": "code",
   "execution_count": 40,
   "metadata": {},
   "outputs": [],
   "source": [
    "%store -r ann_preds"
   ]
  },
  {
   "cell_type": "code",
   "execution_count": 44,
   "metadata": {},
   "outputs": [],
   "source": [
    "ensemb = (preds1 + preds2 + ann_preds)/3"
   ]
  },
  {
   "cell_type": "code",
   "execution_count": 45,
   "metadata": {},
   "outputs": [
    {
     "data": {
      "text/plain": [
       "0.7718509959183918"
      ]
     },
     "execution_count": 45,
     "metadata": {},
     "output_type": "execute_result"
    }
   ],
   "source": [
    "roc_auc_score(y_valid, ensemb)"
   ]
  },
  {
   "cell_type": "code",
   "execution_count": 44,
   "metadata": {},
   "outputs": [],
   "source": [
    "def cv_score(model, X, y):\n",
    "    return(cross_val_score(model, X, y, cv=10, scoring='roc_auc', n_jobs=16))"
   ]
  },
  {
   "cell_type": "code",
   "execution_count": 45,
   "metadata": {},
   "outputs": [
    {
     "data": {
      "text/plain": [
       "array([0.70325749, 0.75038391, 0.76562734, 0.72630202, 0.74117069,\n",
       "       0.69950232, 0.73225016, 0.80199082, 0.79082698, 0.76771589])"
      ]
     },
     "execution_count": 45,
     "metadata": {},
     "output_type": "execute_result"
    }
   ],
   "source": [
    "cv_score(model, X, y)"
   ]
  },
  {
   "cell_type": "code",
   "execution_count": null,
   "metadata": {},
   "outputs": [
    {
     "name": "stdout",
     "output_type": "stream",
     "text": [
      "AUC 0.7757550977316873\n"
     ]
    }
   ],
   "source": [
    "evaluate(model2, X_test, y_test)"
   ]
  },
  {
   "cell_type": "code",
   "execution_count": null,
   "metadata": {},
   "outputs": [
    {
     "data": {
      "image/png": "[encoded data removed]",
      "text/plain": [
       "<Figure size 864x504 with 1 Axes>"
      ]
     },
     "metadata": {},
     "output_type": "display_data"
    }
   ],
   "source": [
    "fi2 = rf_feat_importance(model2, X)\n",
    "fi2[:10]\n",
    "\n",
    "plot_fi(fi2[:20]);"
   ]
  },
  {
   "cell_type": "code",
   "execution_count": 46,
   "metadata": {},
   "outputs": [
    {
     "name": "stdout",
     "output_type": "stream",
     "text": [
      "AUC 0.7250312166895081\n"
     ]
    },
    {
     "name": "stderr",
     "output_type": "stream",
     "text": [
      "/home/kchen/.local/lib/python3.9/site-packages/sklearn/linear_model/_logistic.py:763: ConvergenceWarning: lbfgs failed to converge (status=1):\n",
      "STOP: TOTAL NO. of ITERATIONS REACHED LIMIT.\n",
      "\n",
      "Increase the number of iterations (max_iter) or scale the data as shown in:\n",
      "    https://scikit-learn.org/stable/modules/preprocessing.html\n",
      "Please also refer to the documentation for alternative solver options:\n",
      "    https://scikit-learn.org/stable/modules/linear_model.html#logistic-regression\n",
      "  n_iter_i = _check_optimize_result(\n"
     ]
    }
   ],
   "source": [
    "model3 = LogisticRegression(max_iter=1000)\n",
    "model3.fit(X_train, y_train)\n",
    "evaluate(model3, X_valid, y_valid)"
   ]
  },
  {
   "cell_type": "code",
   "execution_count": 47,
   "metadata": {},
   "outputs": [
    {
     "data": {
      "text/plain": [
       "array([0.70473436, 0.773925  , 0.76685792, 0.73540259, 0.7563074 ,\n",
       "       0.6965257 , 0.73512059, 0.81812649, 0.78115983, 0.77432073])"
      ]
     },
     "execution_count": 47,
     "metadata": {},
     "output_type": "execute_result"
    }
   ],
   "source": [
    "cv_score(model2, X, y)"
   ]
  },
  {
   "cell_type": "code",
   "execution_count": 48,
   "metadata": {},
   "outputs": [],
   "source": [
    "model3 = LogisticRegression(max_iter=2000)"
   ]
  },
  {
   "cell_type": "code",
   "execution_count": 49,
   "metadata": {},
   "outputs": [
    {
     "data": {
      "text/plain": [
       "array([0.65807985, 0.73363332, 0.71209909, 0.70993031, 0.71592917,\n",
       "       0.67035924, 0.7161383 , 0.77847773, 0.75809148, 0.74481932])"
      ]
     },
     "execution_count": 49,
     "metadata": {},
     "output_type": "execute_result"
    }
   ],
   "source": [
    "cv_score(model3, X, y)"
   ]
  },
  {
   "cell_type": "code",
   "execution_count": 50,
   "metadata": {},
   "outputs": [],
   "source": [
    "import scipy.stats as st"
   ]
  },
  {
   "cell_type": "code",
   "execution_count": 51,
   "metadata": {},
   "outputs": [
    {
     "data": {
      "text/plain": [
       "(0.7235483532164889, 0.772963094982806)"
      ]
     },
     "execution_count": 51,
     "metadata": {},
     "output_type": "execute_result"
    }
   ],
   "source": [
    "scores1 = cv_score(model, X, y)\n",
    "st.t.interval(alpha=0.95, df=len(scores1)-1, loc=np.mean(scores1), scale=st.sem(scores1)) "
   ]
  },
  {
   "cell_type": "code",
   "execution_count": 35,
   "metadata": {},
   "outputs": [],
   "source": [
    "scores1 = [0.71531135, 0.74038995, 0.71404602, 0.7642199,  0.77769283]"
   ]
  },
  {
   "cell_type": "code",
   "execution_count": null,
   "metadata": {},
   "outputs": [],
   "source": [
    "st.t.interval(alpha=0.95, df=len(data)-1, loc=np.mean(data), scale=st.sem(data))"
   ]
  },
  {
   "cell_type": "code",
   "execution_count": 42,
   "metadata": {},
   "outputs": [
    {
     "data": {
      "text/plain": [
       "(0.7173834032024041, 0.7831924647975957)"
      ]
     },
     "execution_count": 42,
     "metadata": {},
     "output_type": "execute_result"
    }
   ],
   "source": [
    "scores2 = [0.72648202, 0.75066067, 0.72146251, 0.77163038, 0.78120409]\n",
    "st.t.interval(alpha=0.95, df=len(scores2)-1, loc=np.mean(scores2), scale=st.sem(scores2)) "
   ]
  },
  {
   "cell_type": "code",
   "execution_count": 39,
   "metadata": {},
   "outputs": [],
   "source": [
    "scores3 = [0.70270422, 0.71082232, 0.69507798, 0.74388536, 0.71401948]"
   ]
  },
  {
   "cell_type": "code",
   "execution_count": 40,
   "metadata": {},
   "outputs": [
    {
     "data": {
      "text/plain": [
       "(0.6901852915520781, 0.736418452447922)"
      ]
     },
     "execution_count": 40,
     "metadata": {},
     "output_type": "execute_result"
    }
   ],
   "source": [
    "st.t.interval(alpha=0.95, df=len(scores3)-1, loc=np.mean(scores3), scale=st.sem(scores3)) "
   ]
  },
  {
   "cell_type": "code",
   "execution_count": null,
   "metadata": {},
   "outputs": [
    {
     "data": {
      "image/png": "[encoded data removed]",
      "text/plain": [
       "<Figure size 864x504 with 1 Axes>"
      ]
     },
     "metadata": {
      "needs_background": "light"
     },
     "output_type": "display_data"
    }
   ],
   "source": [
    "def rf_feat_importance(model, X):\n",
    "    return pd.DataFrame({'cols':X.columns, 'imp':model.feature_importances_}\n",
    "                       ).sort_values('imp', ascending=False)\n",
    "fi = rf_feat_importance(model, X)\n",
    "fi[:10]\n",
    "def plot_fi(fi):\n",
    "    return fi.plot('cols', 'imp', 'barh', figsize=(12,7), legend=False)\n",
    "\n",
    "plot_fi(fi[:20]);"
   ]
  },
  {
   "cell_type": "code",
   "execution_count": 9,
   "metadata": {},
   "outputs": [
    {
     "ename": "NameError",
     "evalue": "name 'evaluate' is not defined",
     "output_type": "error",
     "traceback": [
      "\u001b[0;31m---------------------------------------------------------------------------\u001b[0m",
      "\u001b[0;31mNameError\u001b[0m                                 Traceback (most recent call last)",
      "\u001b[0;32m<ipython-input-9-d87a43208080>\u001b[0m in \u001b[0;36m<module>\u001b[0;34m\u001b[0m\n\u001b[0;32m----> 1\u001b[0;31m \u001b[0mevaluate\u001b[0m\u001b[0;34m(\u001b[0m\u001b[0mmodel3\u001b[0m\u001b[0;34m,\u001b[0m \u001b[0mX_test\u001b[0m\u001b[0;34m,\u001b[0m \u001b[0my_test\u001b[0m\u001b[0;34m)\u001b[0m\u001b[0;34m\u001b[0m\u001b[0;34m\u001b[0m\u001b[0m\n\u001b[0m",
      "\u001b[0;31mNameError\u001b[0m: name 'evaluate' is not defined"
     ]
    }
   ],
   "source": [
    "evaluate(model3, X_test, y_test)"
   ]
  },
  {
   "cell_type": "code",
   "execution_count": null,
   "metadata": {},
   "outputs": [],
   "source": [
    "cross_val_score(model, X, y, scoring='roc_auc_score')"
   ]
  },
  {
   "cell_type": "code",
   "execution_count": 15,
   "metadata": {},
   "outputs": [
    {
     "name": "stdout",
     "output_type": "stream",
     "text": [
      "Stored 'rf_fpr' (ndarray)\n",
      "Stored 'rf_tpr' (ndarray)\n"
     ]
    }
   ],
   "source": [
    "rf_preds = (model.predict_proba(X_test))[:,1]\n",
    "rf_fpr, rf_tpr, _ = roc_curve(y_test, rf_preds)\n",
    "%store rf_fpr\n",
    "%store rf_tpr"
   ]
  },
  {
   "cell_type": "code",
   "execution_count": 16,
   "metadata": {},
   "outputs": [
    {
     "name": "stdout",
     "output_type": "stream",
     "text": [
      "Stored 'xgb_fpr' (ndarray)\n",
      "Stored 'xgb_tpr' (ndarray)\n"
     ]
    }
   ],
   "source": [
    "xgb_preds = (model2.predict_proba(X_test))[:,1]\n",
    "xgb_fpr, xgb_tpr, _ = roc_curve(y_test, xgb_preds)\n",
    "%store xgb_fpr\n",
    "%store xgb_tpr"
   ]
  },
  {
   "cell_type": "code",
   "execution_count": 17,
   "metadata": {},
   "outputs": [],
   "source": [
    "def roc_auc_ci(y_true, y_score, positive=1):\n",
    "    AUC = roc_auc_score(y_true, y_score)\n",
    "    N1 = sum(y_true == positive)\n",
    "    N2 = sum(y_true != positive)\n",
    "    Q1 = AUC / (2 - AUC)\n",
    "    Q2 = 2*AUC**2 / (1 + AUC)\n",
    "    SE_AUC = sqrt((AUC*(1 - AUC) + (N1 - 1)*(Q1 - AUC**2) + (N2 - 1)*(Q2 - AUC**2)) / (N1*N2))\n",
    "    lower = AUC - 1.96*SE_AUC\n",
    "    upper = AUC + 1.96*SE_AUC\n",
    "    if lower < 0:\n",
    "        lower = 0\n",
    "    if upper > 1:\n",
    "        upper = 1\n",
    "    return (lower, AUC, upper)"
   ]
  },
  {
   "cell_type": "code",
   "execution_count": 18,
   "metadata": {},
   "outputs": [
    {
     "data": {
      "text/plain": [
       "(0.725050986733118, 0.759821884704613, 0.794592782676108)"
      ]
     },
     "execution_count": 18,
     "metadata": {},
     "output_type": "execute_result"
    }
   ],
   "source": [
    "roc_auc_ci(y_test, rf_preds)"
   ]
  },
  {
   "cell_type": "code",
   "execution_count": 19,
   "metadata": {},
   "outputs": [
    {
     "data": {
      "text/plain": [
       "(0.7416098371992612, 0.7757550977316873, 0.8099003582641133)"
      ]
     },
     "execution_count": 19,
     "metadata": {},
     "output_type": "execute_result"
    }
   ],
   "source": [
    "roc_auc_ci(y_test, xgb_preds)"
   ]
  },
  {
   "cell_type": "code",
   "execution_count": 20,
   "metadata": {},
   "outputs": [
    {
     "name": "stdout",
     "output_type": "stream",
     "text": [
      "acc 0.9942810615900587\n"
     ]
    }
   ],
   "source": [
    "def acc(model1, X, y):\n",
    "    preds = model1.predict(X)\n",
    "    pscore = accuracy_score(y, preds)\n",
    "    print('acc', pscore)\n",
    "acc(model2, X_test, y_test)"
   ]
  },
  {
   "cell_type": "code",
   "execution_count": 21,
   "metadata": {},
   "outputs": [
    {
     "name": "stdout",
     "output_type": "stream",
     "text": [
      "sensitivity 0.0\n"
     ]
    }
   ],
   "source": [
    "def recall(model1, X, y):\n",
    "    preds = model1.predict(X)\n",
    "    pscore = recall_score(y, preds)\n",
    "    print('sensitivity', pscore)\n",
    "recall(model2, X_test, y_test)"
   ]
  },
  {
   "cell_type": "code",
   "execution_count": 22,
   "metadata": {},
   "outputs": [
    {
     "data": {
      "text/plain": [
       "0    0.994281\n",
       "1    0.005719\n",
       "Name: URETER, dtype: float64"
      ]
     },
     "execution_count": 22,
     "metadata": {},
     "output_type": "execute_result"
    }
   ],
   "source": [
    "y_test.value_counts(normalize=True)"
   ]
  },
  {
   "cell_type": "code",
   "execution_count": 23,
   "metadata": {},
   "outputs": [],
   "source": [
    "xgbpreds = model2.predict_proba(X_test)\n",
    "xgbpreds10 = xgbpreds[:,1]"
   ]
  },
  {
   "cell_type": "code",
   "execution_count": 24,
   "metadata": {},
   "outputs": [],
   "source": [
    "dfpreds = pd.DataFrame(xgbpreds10)"
   ]
  },
  {
   "cell_type": "code",
   "execution_count": 25,
   "metadata": {},
   "outputs": [
    {
     "data": {
      "text/html": [
       "<div>\n",
       "<style scoped>\n",
       "    .dataframe tbody tr th:only-of-type {\n",
       "        vertical-align: middle;\n",
       "    }\n",
       "\n",
       "    .dataframe tbody tr th {\n",
       "        vertical-align: top;\n",
       "    }\n",
       "\n",
       "    .dataframe thead th {\n",
       "        text-align: right;\n",
       "    }\n",
       "</style>\n",
       "<table border=\"1\" class=\"dataframe\">\n",
       "  <thead>\n",
       "    <tr style=\"text-align: right;\">\n",
       "      <th></th>\n",
       "      <th>0</th>\n",
       "    </tr>\n",
       "  </thead>\n",
       "  <tbody>\n",
       "    <tr>\n",
       "      <th>count</th>\n",
       "      <td>51583.000000</td>\n",
       "    </tr>\n",
       "    <tr>\n",
       "      <th>mean</th>\n",
       "      <td>0.005573</td>\n",
       "    </tr>\n",
       "    <tr>\n",
       "      <th>std</th>\n",
       "      <td>0.007377</td>\n",
       "    </tr>\n",
       "    <tr>\n",
       "      <th>min</th>\n",
       "      <td>0.000280</td>\n",
       "    </tr>\n",
       "    <tr>\n",
       "      <th>25%</th>\n",
       "      <td>0.001958</td>\n",
       "    </tr>\n",
       "    <tr>\n",
       "      <th>50%</th>\n",
       "      <td>0.003513</td>\n",
       "    </tr>\n",
       "    <tr>\n",
       "      <th>75%</th>\n",
       "      <td>0.006501</td>\n",
       "    </tr>\n",
       "    <tr>\n",
       "      <th>max</th>\n",
       "      <td>0.193877</td>\n",
       "    </tr>\n",
       "  </tbody>\n",
       "</table>\n",
       "</div>"
      ],
      "text/plain": [
       "                  0\n",
       "count  51583.000000\n",
       "mean       0.005573\n",
       "std        0.007377\n",
       "min        0.000280\n",
       "25%        0.001958\n",
       "50%        0.003513\n",
       "75%        0.006501\n",
       "max        0.193877"
      ]
     },
     "execution_count": 25,
     "metadata": {},
     "output_type": "execute_result"
    }
   ],
   "source": [
    "dfpreds.describe()"
   ]
  },
  {
   "cell_type": "code",
   "execution_count": 26,
   "metadata": {},
   "outputs": [
    {
     "data": {
      "text/plain": [
       "(37290, 13998, 84, 211)"
      ]
     },
     "execution_count": 26,
     "metadata": {},
     "output_type": "execute_result"
    }
   ],
   "source": [
    "xgbpreds10[xgbpreds10 >= 0.006] = 1\n",
    "xgbpreds10[xgbpreds10 < 0.006] = 0\n",
    "tn, fp, fn, tp = confusion_matrix(y_test, xgbpreds10).ravel()\n",
    "(tn, fp, fn, tp)"
   ]
  },
  {
   "cell_type": "code",
   "execution_count": 27,
   "metadata": {},
   "outputs": [
    {
     "name": "stdout",
     "output_type": "stream",
     "text": [
      "sensitivity = \n",
      "0.7152542372881356\n",
      "specificity = \n",
      "0.7270706598034627\n",
      "accuracy = \n"
     ]
    },
    {
     "data": {
      "text/plain": [
       "0.7270030824108717"
      ]
     },
     "execution_count": 27,
     "metadata": {},
     "output_type": "execute_result"
    }
   ],
   "source": [
    "print(\"sensitivity = \")\n",
    "print(tp / (tp + fn))\n",
    "print(\"specificity = \")\n",
    "print(tn / (tn + fp))\n",
    "print('accuracy = ')\n",
    "accuracy_score(y_test, xgbpreds10)"
   ]
  },
  {
   "cell_type": "markdown",
   "metadata": {},
   "source": [
    "y1 = data['READMPODAYS1']\n",
    "X1 = data.drop(['READMISSION1', 'READMPODAYS1'], axis=1)"
   ]
  }
 ],
 "metadata": {
  "interpreter": {
   "hash": "31f2aee4e71d21fbe5cf8b01ff0e069b9275f58929596ceb00d14d90e3e16cd6"
  },
  "kernelspec": {
   "display_name": "Python 3.9.5 64-bit",
   "name": "python3"
  },
  "language_info": {
   "codemirror_mode": {
    "name": "ipython",
    "version": 3
   },
   "file_extension": ".py",
   "mimetype": "text/x-python",
   "name": "python",
   "nbconvert_exporter": "python",
   "pygments_lexer": "ipython3",
   "version": "3.9.5"
  },
  "orig_nbformat": 4
 },
 "nbformat": 4,
 "nbformat_minor": 2
}
