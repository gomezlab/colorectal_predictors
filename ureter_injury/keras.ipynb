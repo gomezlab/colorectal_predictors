{
 "cells": [
  {
   "cell_type": "code",
   "execution_count": 1,
   "metadata": {},
   "outputs": [],
   "source": [
    "import numpy as np\n",
    "import pandas as pd\n",
    "from sklearn.metrics import confusion_matrix, roc_auc_score, roc_curve, accuracy_score, auc, average_precision_score, precision_recall_curve\n",
    "from sklearn.model_selection import train_test_split\n",
    "from sklearn.metrics import roc_auc_score\n",
    "from sklearn.model_selection import cross_val_score\n",
    "from sklearn.metrics import recall_score\n",
    "from tensorflow import keras\n",
    "from tensorflow.keras import layers\n",
    "from sklearn.model_selection import train_test_split\n",
    "from math import sqrt"
   ]
  },
  {
   "cell_type": "code",
   "execution_count": 2,
   "metadata": {},
   "outputs": [],
   "source": [
    "\n",
    "pd.options.display.max_rows = 20\n",
    "pd.options.display.max_columns = 50"
   ]
  },
  {
   "cell_type": "code",
   "execution_count": 3,
   "metadata": {},
   "outputs": [],
   "source": [
    "data = pd.read_csv(r'procol_train.csv', index_col='CASEID')"
   ]
  },
  {
   "cell_type": "code",
   "execution_count": 4,
   "metadata": {},
   "outputs": [],
   "source": [
    "y = data['URETER']\n",
    "X = data.drop(['URETER'], axis=1)\n",
    "X_train, X_valid, y_train, y_valid = train_test_split(X, y, train_size=0.8, test_size=0.2, random_state=2)"
   ]
  },
  {
   "cell_type": "markdown",
   "metadata": {},
   "source": [
    "test = pd.read_csv(r'/home/kchen/Documents/ureterinjury/procol_test.csv', index_col='CASEID')\n",
    "y_test = test['URETER']\n",
    "X_test = test.drop(['URETER','OPTIME'], axis=1)"
   ]
  },
  {
   "cell_type": "code",
   "execution_count": 5,
   "metadata": {},
   "outputs": [],
   "source": [
    "input_shape = [X_train.shape[1]]"
   ]
  },
  {
   "cell_type": "code",
   "execution_count": 6,
   "metadata": {},
   "outputs": [
    {
     "name": "stderr",
     "output_type": "stream",
     "text": [
      "2022-01-18 09:57:52.906715: I tensorflow/stream_executor/cuda/cuda_gpu_executor.cc:939] successful NUMA node read from SysFS had negative value (-1), but there must be at least one NUMA node, so returning NUMA node zero\n",
      "2022-01-18 09:57:52.912271: I tensorflow/stream_executor/cuda/cuda_gpu_executor.cc:939] successful NUMA node read from SysFS had negative value (-1), but there must be at least one NUMA node, so returning NUMA node zero\n",
      "2022-01-18 09:57:52.912705: I tensorflow/stream_executor/cuda/cuda_gpu_executor.cc:939] successful NUMA node read from SysFS had negative value (-1), but there must be at least one NUMA node, so returning NUMA node zero\n",
      "2022-01-18 09:57:52.913500: I tensorflow/core/platform/cpu_feature_guard.cc:151] This TensorFlow binary is optimized with oneAPI Deep Neural Network Library (oneDNN) to use the following CPU instructions in performance-critical operations:  AVX2 FMA\n",
      "To enable them in other operations, rebuild TensorFlow with the appropriate compiler flags.\n",
      "2022-01-18 09:57:52.914083: I tensorflow/stream_executor/cuda/cuda_gpu_executor.cc:939] successful NUMA node read from SysFS had negative value (-1), but there must be at least one NUMA node, so returning NUMA node zero\n",
      "2022-01-18 09:57:52.914489: I tensorflow/stream_executor/cuda/cuda_gpu_executor.cc:939] successful NUMA node read from SysFS had negative value (-1), but there must be at least one NUMA node, so returning NUMA node zero\n",
      "2022-01-18 09:57:52.914857: I tensorflow/stream_executor/cuda/cuda_gpu_executor.cc:939] successful NUMA node read from SysFS had negative value (-1), but there must be at least one NUMA node, so returning NUMA node zero\n",
      "2022-01-18 09:57:53.365635: I tensorflow/stream_executor/cuda/cuda_gpu_executor.cc:939] successful NUMA node read from SysFS had negative value (-1), but there must be at least one NUMA node, so returning NUMA node zero\n",
      "2022-01-18 09:57:53.366051: I tensorflow/stream_executor/cuda/cuda_gpu_executor.cc:939] successful NUMA node read from SysFS had negative value (-1), but there must be at least one NUMA node, so returning NUMA node zero\n",
      "2022-01-18 09:57:53.366435: I tensorflow/stream_executor/cuda/cuda_gpu_executor.cc:939] successful NUMA node read from SysFS had negative value (-1), but there must be at least one NUMA node, so returning NUMA node zero\n",
      "2022-01-18 09:57:53.366824: I tensorflow/core/common_runtime/gpu/gpu_device.cc:1525] Created device /job:localhost/replica:0/task:0/device:GPU:0 with 10426 MB memory:  -> device: 0, name: TITAN Xp, pci bus id: 0000:05:00.0, compute capability: 6.1\n"
     ]
    },
    {
     "name": "stdout",
     "output_type": "stream",
     "text": [
      "Epoch 1/500\n",
      "350/350 [==============================] - 3s 4ms/step - loss: 0.0695 - Sensitivity: 0.0158 - tn: 176383.0000 - auc: 0.5388 - prc: 0.0068 - val_loss: 0.0359 - val_Sensitivity: 0.0000e+00 - val_tn: 44530.0000 - val_auc: 0.6166 - val_prc: 0.0128\n",
      "Epoch 2/500\n",
      "350/350 [==============================] - 1s 3ms/step - loss: 0.0423 - Sensitivity: 0.0000e+00 - tn: 178045.0000 - auc: 0.6004 - prc: 0.0094 - val_loss: 0.0346 - val_Sensitivity: 0.0000e+00 - val_tn: 44530.0000 - val_auc: 0.6442 - val_prc: 0.0157\n",
      "Epoch 3/500\n",
      "350/350 [==============================] - 1s 3ms/step - loss: 0.0397 - Sensitivity: 0.0000e+00 - tn: 178046.0000 - auc: 0.6261 - prc: 0.0119 - val_loss: 0.0336 - val_Sensitivity: 0.0000e+00 - val_tn: 44530.0000 - val_auc: 0.6643 - val_prc: 0.0149\n",
      "Epoch 4/500\n",
      "350/350 [==============================] - 1s 3ms/step - loss: 0.0385 - Sensitivity: 0.0000e+00 - tn: 178046.0000 - auc: 0.6418 - prc: 0.0121 - val_loss: 0.0331 - val_Sensitivity: 0.0000e+00 - val_tn: 44530.0000 - val_auc: 0.6983 - val_prc: 0.0162\n",
      "Epoch 5/500\n",
      "350/350 [==============================] - 1s 3ms/step - loss: 0.0381 - Sensitivity: 0.0000e+00 - tn: 178046.0000 - auc: 0.6473 - prc: 0.0113 - val_loss: 0.0330 - val_Sensitivity: 0.0000e+00 - val_tn: 44530.0000 - val_auc: 0.6846 - val_prc: 0.0177\n",
      "Epoch 6/500\n",
      "350/350 [==============================] - 1s 3ms/step - loss: 0.0375 - Sensitivity: 0.0000e+00 - tn: 178046.0000 - auc: 0.6513 - prc: 0.0134 - val_loss: 0.0333 - val_Sensitivity: 0.0000e+00 - val_tn: 44530.0000 - val_auc: 0.6781 - val_prc: 0.0173\n",
      "Epoch 7/500\n",
      "350/350 [==============================] - 1s 3ms/step - loss: 0.0370 - Sensitivity: 0.0000e+00 - tn: 178046.0000 - auc: 0.6620 - prc: 0.0138 - val_loss: 0.0329 - val_Sensitivity: 0.0000e+00 - val_tn: 44530.0000 - val_auc: 0.6976 - val_prc: 0.0180\n",
      "Epoch 8/500\n",
      "350/350 [==============================] - 1s 4ms/step - loss: 0.0365 - Sensitivity: 0.0000e+00 - tn: 178046.0000 - auc: 0.6734 - prc: 0.0143 - val_loss: 0.0327 - val_Sensitivity: 0.0000e+00 - val_tn: 44530.0000 - val_auc: 0.6989 - val_prc: 0.0199\n",
      "Epoch 9/500\n",
      "350/350 [==============================] - 1s 4ms/step - loss: 0.0364 - Sensitivity: 0.0000e+00 - tn: 178046.0000 - auc: 0.6732 - prc: 0.0147 - val_loss: 0.0331 - val_Sensitivity: 0.0000e+00 - val_tn: 44530.0000 - val_auc: 0.6880 - val_prc: 0.0196\n",
      "Epoch 10/500\n",
      "350/350 [==============================] - 1s 4ms/step - loss: 0.0362 - Sensitivity: 0.0000e+00 - tn: 178046.0000 - auc: 0.6795 - prc: 0.0134 - val_loss: 0.0329 - val_Sensitivity: 0.0000e+00 - val_tn: 44530.0000 - val_auc: 0.6908 - val_prc: 0.0190\n",
      "Epoch 11/500\n",
      "350/350 [==============================] - 1s 4ms/step - loss: 0.0360 - Sensitivity: 0.0000e+00 - tn: 178046.0000 - auc: 0.6794 - prc: 0.0157 - val_loss: 0.0327 - val_Sensitivity: 0.0000e+00 - val_tn: 44530.0000 - val_auc: 0.7046 - val_prc: 0.0200\n",
      "Epoch 12/500\n",
      "350/350 [==============================] - 1s 4ms/step - loss: 0.0359 - Sensitivity: 0.0000e+00 - tn: 178046.0000 - auc: 0.6777 - prc: 0.0150 - val_loss: 0.0328 - val_Sensitivity: 0.0000e+00 - val_tn: 44530.0000 - val_auc: 0.6981 - val_prc: 0.0190\n",
      "Epoch 13/500\n",
      "350/350 [==============================] - 1s 4ms/step - loss: 0.0356 - Sensitivity: 0.0000e+00 - tn: 178046.0000 - auc: 0.6834 - prc: 0.0156 - val_loss: 0.0327 - val_Sensitivity: 0.0000e+00 - val_tn: 44530.0000 - val_auc: 0.7060 - val_prc: 0.0195\n",
      "Epoch 14/500\n",
      "350/350 [==============================] - 1s 4ms/step - loss: 0.0351 - Sensitivity: 0.0000e+00 - tn: 178046.0000 - auc: 0.7061 - prc: 0.0164 - val_loss: 0.0327 - val_Sensitivity: 0.0000e+00 - val_tn: 44530.0000 - val_auc: 0.7061 - val_prc: 0.0196\n",
      "Epoch 15/500\n",
      "350/350 [==============================] - 1s 4ms/step - loss: 0.0353 - Sensitivity: 0.0000e+00 - tn: 178046.0000 - auc: 0.6999 - prc: 0.0198 - val_loss: 0.0329 - val_Sensitivity: 0.0000e+00 - val_tn: 44530.0000 - val_auc: 0.7014 - val_prc: 0.0193\n",
      "Epoch 16/500\n",
      "350/350 [==============================] - 1s 4ms/step - loss: 0.0345 - Sensitivity: 0.0000e+00 - tn: 178046.0000 - auc: 0.7184 - prc: 0.0190 - val_loss: 0.0329 - val_Sensitivity: 0.0000e+00 - val_tn: 44530.0000 - val_auc: 0.7045 - val_prc: 0.0213\n",
      "Epoch 17/500\n",
      "350/350 [==============================] - 1s 4ms/step - loss: 0.0350 - Sensitivity: 0.0000e+00 - tn: 178046.0000 - auc: 0.6972 - prc: 0.0176 - val_loss: 0.0332 - val_Sensitivity: 0.0000e+00 - val_tn: 44530.0000 - val_auc: 0.6958 - val_prc: 0.0194\n",
      "Epoch 18/500\n",
      "350/350 [==============================] - 1s 4ms/step - loss: 0.0348 - Sensitivity: 0.0000e+00 - tn: 178046.0000 - auc: 0.7099 - prc: 0.0192 - val_loss: 0.0329 - val_Sensitivity: 0.0000e+00 - val_tn: 44530.0000 - val_auc: 0.7126 - val_prc: 0.0194\n",
      "Epoch 19/500\n",
      "350/350 [==============================] - 1s 4ms/step - loss: 0.0348 - Sensitivity: 0.0000e+00 - tn: 178046.0000 - auc: 0.7091 - prc: 0.0183 - val_loss: 0.0327 - val_Sensitivity: 0.0000e+00 - val_tn: 44530.0000 - val_auc: 0.7157 - val_prc: 0.0192\n",
      "Epoch 20/500\n",
      "350/350 [==============================] - 1s 4ms/step - loss: 0.0345 - Sensitivity: 0.0000e+00 - tn: 178046.0000 - auc: 0.7148 - prc: 0.0210 - val_loss: 0.0328 - val_Sensitivity: 0.0000e+00 - val_tn: 44530.0000 - val_auc: 0.7087 - val_prc: 0.0208\n",
      "Epoch 21/500\n",
      "350/350 [==============================] - 1s 4ms/step - loss: 0.0343 - Sensitivity: 0.0000e+00 - tn: 178046.0000 - auc: 0.7269 - prc: 0.0198 - val_loss: 0.0329 - val_Sensitivity: 0.0000e+00 - val_tn: 44530.0000 - val_auc: 0.7120 - val_prc: 0.0206\n",
      "Epoch 22/500\n",
      "350/350 [==============================] - 1s 4ms/step - loss: 0.0344 - Sensitivity: 0.0000e+00 - tn: 178046.0000 - auc: 0.7149 - prc: 0.0199 - val_loss: 0.0331 - val_Sensitivity: 0.0000e+00 - val_tn: 44530.0000 - val_auc: 0.7031 - val_prc: 0.0200\n",
      "Epoch 23/500\n",
      "350/350 [==============================] - 1s 4ms/step - loss: 0.0346 - Sensitivity: 0.0000e+00 - tn: 178046.0000 - auc: 0.7084 - prc: 0.0199 - val_loss: 0.0329 - val_Sensitivity: 0.0000e+00 - val_tn: 44530.0000 - val_auc: 0.7106 - val_prc: 0.0197\n",
      "Epoch 24/500\n",
      "350/350 [==============================] - 1s 4ms/step - loss: 0.0342 - Sensitivity: 0.0000e+00 - tn: 178046.0000 - auc: 0.7301 - prc: 0.0210 - val_loss: 0.0332 - val_Sensitivity: 0.0000e+00 - val_tn: 44530.0000 - val_auc: 0.7038 - val_prc: 0.0205\n",
      "Epoch 25/500\n",
      "350/350 [==============================] - 1s 4ms/step - loss: 0.0344 - Sensitivity: 0.0000e+00 - tn: 178046.0000 - auc: 0.7225 - prc: 0.0200 - val_loss: 0.0329 - val_Sensitivity: 0.0000e+00 - val_tn: 44530.0000 - val_auc: 0.7007 - val_prc: 0.0197\n",
      "Epoch 26/500\n",
      "350/350 [==============================] - 1s 4ms/step - loss: 0.0343 - Sensitivity: 0.0000e+00 - tn: 178046.0000 - auc: 0.7268 - prc: 0.0194 - val_loss: 0.0329 - val_Sensitivity: 0.0000e+00 - val_tn: 44530.0000 - val_auc: 0.7069 - val_prc: 0.0215\n",
      "Epoch 27/500\n",
      "350/350 [==============================] - 1s 4ms/step - loss: 0.0341 - Sensitivity: 0.0000e+00 - tn: 178046.0000 - auc: 0.7338 - prc: 0.0215 - val_loss: 0.0330 - val_Sensitivity: 0.0000e+00 - val_tn: 44530.0000 - val_auc: 0.7158 - val_prc: 0.0210\n",
      "Epoch 28/500\n",
      "350/350 [==============================] - 1s 4ms/step - loss: 0.0341 - Sensitivity: 0.0000e+00 - tn: 178046.0000 - auc: 0.7284 - prc: 0.0218 - val_loss: 0.0332 - val_Sensitivity: 0.0000e+00 - val_tn: 44530.0000 - val_auc: 0.7036 - val_prc: 0.0208\n",
      "Epoch 29/500\n",
      "350/350 [==============================] - 1s 4ms/step - loss: 0.0341 - Sensitivity: 0.0000e+00 - tn: 178046.0000 - auc: 0.7260 - prc: 0.0223 - val_loss: 0.0330 - val_Sensitivity: 0.0000e+00 - val_tn: 44530.0000 - val_auc: 0.7050 - val_prc: 0.0202\n",
      "Epoch 30/500\n",
      "350/350 [==============================] - 1s 4ms/step - loss: 0.0339 - Sensitivity: 0.0000e+00 - tn: 178046.0000 - auc: 0.7406 - prc: 0.0230 - val_loss: 0.0331 - val_Sensitivity: 0.0000e+00 - val_tn: 44530.0000 - val_auc: 0.7029 - val_prc: 0.0216\n",
      "Epoch 31/500\n",
      "350/350 [==============================] - 2s 4ms/step - loss: 0.0341 - Sensitivity: 0.0000e+00 - tn: 178046.0000 - auc: 0.7305 - prc: 0.0196 - val_loss: 0.0330 - val_Sensitivity: 0.0000e+00 - val_tn: 44530.0000 - val_auc: 0.7074 - val_prc: 0.0200\n",
      "Epoch 32/500\n",
      "350/350 [==============================] - 2s 5ms/step - loss: 0.0339 - Sensitivity: 0.0000e+00 - tn: 178046.0000 - auc: 0.7416 - prc: 0.0227 - val_loss: 0.0330 - val_Sensitivity: 0.0000e+00 - val_tn: 44530.0000 - val_auc: 0.7102 - val_prc: 0.0205\n",
      "Epoch 33/500\n",
      "350/350 [==============================] - 2s 5ms/step - loss: 0.0338 - Sensitivity: 0.0000e+00 - tn: 178046.0000 - auc: 0.7492 - prc: 0.0219 - val_loss: 0.0330 - val_Sensitivity: 0.0000e+00 - val_tn: 44530.0000 - val_auc: 0.7115 - val_prc: 0.0218\n",
      "Epoch 34/500\n",
      "350/350 [==============================] - 1s 4ms/step - loss: 0.0340 - Sensitivity: 0.0000e+00 - tn: 178046.0000 - auc: 0.7364 - prc: 0.0206 - val_loss: 0.0331 - val_Sensitivity: 0.0000e+00 - val_tn: 44530.0000 - val_auc: 0.7085 - val_prc: 0.0192\n",
      "Epoch 35/500\n",
      "350/350 [==============================] - 1s 4ms/step - loss: 0.0337 - Sensitivity: 0.0000e+00 - tn: 178046.0000 - auc: 0.7456 - prc: 0.0235 - val_loss: 0.0330 - val_Sensitivity: 0.0000e+00 - val_tn: 44530.0000 - val_auc: 0.7116 - val_prc: 0.0246\n",
      "Epoch 36/500\n",
      "350/350 [==============================] - 1s 4ms/step - loss: 0.0338 - Sensitivity: 0.0000e+00 - tn: 178046.0000 - auc: 0.7477 - prc: 0.0243 - val_loss: 0.0331 - val_Sensitivity: 0.0000e+00 - val_tn: 44530.0000 - val_auc: 0.7067 - val_prc: 0.0206\n",
      "Epoch 37/500\n",
      "350/350 [==============================] - 1s 4ms/step - loss: 0.0338 - Sensitivity: 0.0000e+00 - tn: 178046.0000 - auc: 0.7356 - prc: 0.0226 - val_loss: 0.0332 - val_Sensitivity: 0.0000e+00 - val_tn: 44530.0000 - val_auc: 0.7051 - val_prc: 0.0193\n",
      "Epoch 38/500\n",
      "350/350 [==============================] - 1s 4ms/step - loss: 0.0340 - Sensitivity: 0.0000e+00 - tn: 178046.0000 - auc: 0.7393 - prc: 0.0227 - val_loss: 0.0331 - val_Sensitivity: 0.0000e+00 - val_tn: 44530.0000 - val_auc: 0.7156 - val_prc: 0.0196\n"
     ]
    }
   ],
   "source": [
    "model4 = keras.models.Sequential()\n",
    "model4.add(keras.layers.Flatten(input_shape=input_shape))\n",
    "model4.add(keras.layers.BatchNormalization())\n",
    "for _ in range(1):\n",
    "    model4.add(keras.layers.Dense(200))\n",
    "    model4.add(keras.layers.BatchNormalization())\n",
    "    model4.add(keras.layers.Dropout(0.8))\n",
    "    model4.add(keras.layers.Activation(\"relu\"))\n",
    "model4.add(keras.layers.Dense(1, activation=\"sigmoid\"))\n",
    "\n",
    "opt = keras.optimizers.Adam(learning_rate=3e-3)\n",
    "\n",
    "metrics = [keras.metrics.Recall(name='Sensitivity'), keras.metrics.TrueNegatives(name='tn'), keras.metrics.AUC(name='auc'), keras.metrics.AUC(name='prc', curve='PR')]\n",
    "\n",
    "model4.compile(\n",
    "    optimizer=opt,\n",
    "    loss=keras.losses.BinaryCrossentropy(from_logits=False),\n",
    "    metrics=metrics,)\n",
    "\n",
    "early_stopping = keras.callbacks.EarlyStopping(\n",
    "    patience=25,\n",
    "    min_delta=1e-6,\n",
    "    restore_best_weights=True,)\n",
    "\n",
    "history = model4.fit(\n",
    "    X_train, y_train,\n",
    "    validation_data=(X_valid, y_valid),\n",
    "    batch_size=512,\n",
    "    epochs=500,\n",
    "    callbacks=[early_stopping],)"
   ]
  },
  {
   "cell_type": "code",
   "execution_count": 7,
   "metadata": {},
   "outputs": [],
   "source": [
    "ann_preds = model4.predict(X_valid)\n",
    "ann_preds = np.squeeze(ann_preds)"
   ]
  },
  {
   "cell_type": "code",
   "execution_count": 8,
   "metadata": {},
   "outputs": [
    {
     "name": "stdout",
     "output_type": "stream",
     "text": [
      "Stored 'ann_preds' (ndarray)\n"
     ]
    }
   ],
   "source": [
    "%store ann_preds"
   ]
  },
  {
   "cell_type": "code",
   "execution_count": 9,
   "metadata": {},
   "outputs": [
    {
     "name": "stdout",
     "output_type": "stream",
     "text": [
      "1602/1602 [==============================] - 4s 2ms/step - loss: 0.0340 - Sensitivity: 0.0000e+00 - tn: 50949.0000 - auc: 0.7040 - prc: 0.0177\n"
     ]
    },
    {
     "data": {
      "text/plain": [
       "[0.034024279564619064, 0.0, 50949.0, 0.7039923071861267, 0.017678499221801758]"
      ]
     },
     "execution_count": 9,
     "metadata": {},
     "output_type": "execute_result"
    }
   ],
   "source": [
    "test = pd.read_csv(r'procol_test.csv', index_col='CASEID')\n",
    "y_test = test['URETER']\n",
    "X_test = test.drop(['URETER'], axis=1)\n",
    "model4.evaluate(X_test, y_test, workers=-1)"
   ]
  },
  {
   "cell_type": "code",
   "execution_count": 10,
   "metadata": {},
   "outputs": [
    {
     "ename": "ValueError",
     "evalue": "Found input variables with inconsistent numbers of samples: [51250, 44781]",
     "output_type": "error",
     "traceback": [
      "\u001b[0;31m---------------------------------------------------------------------------\u001b[0m",
      "\u001b[0;31mValueError\u001b[0m                                Traceback (most recent call last)",
      "\u001b[0;32m/tmp/ipykernel_291878/3590992307.py\u001b[0m in \u001b[0;36m<module>\u001b[0;34m\u001b[0m\n\u001b[0;32m----> 1\u001b[0;31m \u001b[0mann_fpr\u001b[0m\u001b[0;34m,\u001b[0m \u001b[0mann_tpr\u001b[0m\u001b[0;34m,\u001b[0m \u001b[0m_\u001b[0m \u001b[0;34m=\u001b[0m \u001b[0mroc_curve\u001b[0m\u001b[0;34m(\u001b[0m\u001b[0my_test\u001b[0m\u001b[0;34m,\u001b[0m \u001b[0mann_preds\u001b[0m\u001b[0;34m)\u001b[0m\u001b[0;34m\u001b[0m\u001b[0;34m\u001b[0m\u001b[0m\n\u001b[0m\u001b[1;32m      2\u001b[0m \u001b[0mget_ipython\u001b[0m\u001b[0;34m(\u001b[0m\u001b[0;34m)\u001b[0m\u001b[0;34m.\u001b[0m\u001b[0mrun_line_magic\u001b[0m\u001b[0;34m(\u001b[0m\u001b[0;34m'store'\u001b[0m\u001b[0;34m,\u001b[0m \u001b[0;34m'ann_fpr'\u001b[0m\u001b[0;34m)\u001b[0m\u001b[0;34m\u001b[0m\u001b[0;34m\u001b[0m\u001b[0m\n\u001b[1;32m      3\u001b[0m \u001b[0mget_ipython\u001b[0m\u001b[0;34m(\u001b[0m\u001b[0;34m)\u001b[0m\u001b[0;34m.\u001b[0m\u001b[0mrun_line_magic\u001b[0m\u001b[0;34m(\u001b[0m\u001b[0;34m'store'\u001b[0m\u001b[0;34m,\u001b[0m \u001b[0;34m'ann_tpr'\u001b[0m\u001b[0;34m)\u001b[0m\u001b[0;34m\u001b[0m\u001b[0;34m\u001b[0m\u001b[0m\n",
      "\u001b[0;32m~/.local/lib/python3.9/site-packages/sklearn/metrics/_ranking.py\u001b[0m in \u001b[0;36mroc_curve\u001b[0;34m(y_true, y_score, pos_label, sample_weight, drop_intermediate)\u001b[0m\n\u001b[1;32m    960\u001b[0m \u001b[0;34m\u001b[0m\u001b[0m\n\u001b[1;32m    961\u001b[0m     \"\"\"\n\u001b[0;32m--> 962\u001b[0;31m     fps, tps, thresholds = _binary_clf_curve(\n\u001b[0m\u001b[1;32m    963\u001b[0m         \u001b[0my_true\u001b[0m\u001b[0;34m,\u001b[0m \u001b[0my_score\u001b[0m\u001b[0;34m,\u001b[0m \u001b[0mpos_label\u001b[0m\u001b[0;34m=\u001b[0m\u001b[0mpos_label\u001b[0m\u001b[0;34m,\u001b[0m \u001b[0msample_weight\u001b[0m\u001b[0;34m=\u001b[0m\u001b[0msample_weight\u001b[0m\u001b[0;34m\u001b[0m\u001b[0;34m\u001b[0m\u001b[0m\n\u001b[1;32m    964\u001b[0m     )\n",
      "\u001b[0;32m~/.local/lib/python3.9/site-packages/sklearn/metrics/_ranking.py\u001b[0m in \u001b[0;36m_binary_clf_curve\u001b[0;34m(y_true, y_score, pos_label, sample_weight)\u001b[0m\n\u001b[1;32m    731\u001b[0m         \u001b[0;32mraise\u001b[0m \u001b[0mValueError\u001b[0m\u001b[0;34m(\u001b[0m\u001b[0;34m\"{0} format is not supported\"\u001b[0m\u001b[0;34m.\u001b[0m\u001b[0mformat\u001b[0m\u001b[0;34m(\u001b[0m\u001b[0my_type\u001b[0m\u001b[0;34m)\u001b[0m\u001b[0;34m)\u001b[0m\u001b[0;34m\u001b[0m\u001b[0;34m\u001b[0m\u001b[0m\n\u001b[1;32m    732\u001b[0m \u001b[0;34m\u001b[0m\u001b[0m\n\u001b[0;32m--> 733\u001b[0;31m     \u001b[0mcheck_consistent_length\u001b[0m\u001b[0;34m(\u001b[0m\u001b[0my_true\u001b[0m\u001b[0;34m,\u001b[0m \u001b[0my_score\u001b[0m\u001b[0;34m,\u001b[0m \u001b[0msample_weight\u001b[0m\u001b[0;34m)\u001b[0m\u001b[0;34m\u001b[0m\u001b[0;34m\u001b[0m\u001b[0m\n\u001b[0m\u001b[1;32m    734\u001b[0m     \u001b[0my_true\u001b[0m \u001b[0;34m=\u001b[0m \u001b[0mcolumn_or_1d\u001b[0m\u001b[0;34m(\u001b[0m\u001b[0my_true\u001b[0m\u001b[0;34m)\u001b[0m\u001b[0;34m\u001b[0m\u001b[0;34m\u001b[0m\u001b[0m\n\u001b[1;32m    735\u001b[0m     \u001b[0my_score\u001b[0m \u001b[0;34m=\u001b[0m \u001b[0mcolumn_or_1d\u001b[0m\u001b[0;34m(\u001b[0m\u001b[0my_score\u001b[0m\u001b[0;34m)\u001b[0m\u001b[0;34m\u001b[0m\u001b[0;34m\u001b[0m\u001b[0m\n",
      "\u001b[0;32m~/.local/lib/python3.9/site-packages/sklearn/utils/validation.py\u001b[0m in \u001b[0;36mcheck_consistent_length\u001b[0;34m(*arrays)\u001b[0m\n\u001b[1;32m    330\u001b[0m     \u001b[0muniques\u001b[0m \u001b[0;34m=\u001b[0m \u001b[0mnp\u001b[0m\u001b[0;34m.\u001b[0m\u001b[0munique\u001b[0m\u001b[0;34m(\u001b[0m\u001b[0mlengths\u001b[0m\u001b[0;34m)\u001b[0m\u001b[0;34m\u001b[0m\u001b[0;34m\u001b[0m\u001b[0m\n\u001b[1;32m    331\u001b[0m     \u001b[0;32mif\u001b[0m \u001b[0mlen\u001b[0m\u001b[0;34m(\u001b[0m\u001b[0muniques\u001b[0m\u001b[0;34m)\u001b[0m \u001b[0;34m>\u001b[0m \u001b[0;36m1\u001b[0m\u001b[0;34m:\u001b[0m\u001b[0;34m\u001b[0m\u001b[0;34m\u001b[0m\u001b[0m\n\u001b[0;32m--> 332\u001b[0;31m         raise ValueError(\n\u001b[0m\u001b[1;32m    333\u001b[0m             \u001b[0;34m\"Found input variables with inconsistent numbers of samples: %r\"\u001b[0m\u001b[0;34m\u001b[0m\u001b[0;34m\u001b[0m\u001b[0m\n\u001b[1;32m    334\u001b[0m             \u001b[0;34m%\u001b[0m \u001b[0;34m[\u001b[0m\u001b[0mint\u001b[0m\u001b[0;34m(\u001b[0m\u001b[0ml\u001b[0m\u001b[0;34m)\u001b[0m \u001b[0;32mfor\u001b[0m \u001b[0ml\u001b[0m \u001b[0;32min\u001b[0m \u001b[0mlengths\u001b[0m\u001b[0;34m]\u001b[0m\u001b[0;34m\u001b[0m\u001b[0;34m\u001b[0m\u001b[0m\n",
      "\u001b[0;31mValueError\u001b[0m: Found input variables with inconsistent numbers of samples: [51250, 44781]"
     ]
    }
   ],
   "source": [
    "ann_fpr, ann_tpr, _ = roc_curve(y_test, ann_preds)\n",
    "%store ann_fpr\n",
    "%store ann_tpr\n"
   ]
  },
  {
   "cell_type": "code",
   "execution_count": null,
   "metadata": {},
   "outputs": [
    {
     "name": "stdout",
     "output_type": "stream",
     "text": [
      "Stored 'ann_prec' (ndarray)\n",
      "Stored 'ann_rec' (ndarray)\n"
     ]
    }
   ],
   "source": [
    "ann_prec, ann_rec, _ = precision_recall_curve(y_test, ann_preds)\n",
    "%store ann_prec\n",
    "%store ann_rec"
   ]
  },
  {
   "cell_type": "code",
   "execution_count": null,
   "metadata": {},
   "outputs": [
    {
     "data": {
      "text/plain": [
       "0.7434453214206977"
      ]
     },
     "execution_count": 13,
     "metadata": {},
     "output_type": "execute_result"
    }
   ],
   "source": [
    "roc_auc_score(y_test, ann_preds)"
   ]
  },
  {
   "cell_type": "code",
   "execution_count": null,
   "metadata": {},
   "outputs": [
    {
     "data": {
      "text/plain": [
       "(0.7111808375949549, 0.7434453214206977, 0.7757098052464406)"
      ]
     },
     "execution_count": 14,
     "metadata": {},
     "output_type": "execute_result"
    }
   ],
   "source": [
    "def roc_auc_ci(y_true, y_score, positive=1):\n",
    "    AUC = roc_auc_score(y_true, y_score)\n",
    "    N1 = sum(y_true == positive)\n",
    "    N2 = sum(y_true != positive)\n",
    "    Q1 = AUC / (2 - AUC)\n",
    "    Q2 = 2*AUC**2 / (1 + AUC)\n",
    "    SE_AUC = sqrt((AUC*(1 - AUC) + (N1 - 1)*(Q1 - AUC**2) + (N2 - 1)*(Q2 - AUC**2)) / (N1*N2))\n",
    "    lower = AUC - 1.96*SE_AUC\n",
    "    upper = AUC + 1.96*SE_AUC\n",
    "    if lower < 0:\n",
    "        lower = 0\n",
    "    if upper > 1:\n",
    "        upper = 1\n",
    "    return (lower, AUC, upper)\n",
    "roc_auc_ci(y_test, ann_preds)"
   ]
  },
  {
   "cell_type": "code",
   "execution_count": null,
   "metadata": {},
   "outputs": [],
   "source": [
    "def roc_prc_ci(y_true, y_score, positive=1):\n",
    "    AUC = average_precision_score(y_true, y_score)\n",
    "    N1 = sum(y_true == positive)\n",
    "    N2 = sum(y_true != positive)\n",
    "    Q1 = AUC / (2 - AUC)\n",
    "    Q2 = 2*AUC**2 / (1 + AUC)\n",
    "    SE_AUC = sqrt((AUC*(1 - AUC) + (N1 - 1)*(Q1 - AUC**2) + (N2 - 1)*(Q2 - AUC**2)) / (N1*N2))\n",
    "    lower = AUC - 1.96*SE_AUC\n",
    "    upper = AUC + 1.96*SE_AUC\n",
    "    if lower < 0:\n",
    "        lower = 0\n",
    "    if upper > 1:\n",
    "        upper = 1\n",
    "    return (lower, AUC, upper)\n"
   ]
  },
  {
   "cell_type": "code",
   "execution_count": null,
   "metadata": {},
   "outputs": [
    {
     "data": {
      "text/plain": [
       "(0.022501026957016557, 0.025466243922041464, 0.02843146088706637)"
      ]
     },
     "execution_count": 16,
     "metadata": {},
     "output_type": "execute_result"
    }
   ],
   "source": [
    "roc_prc_ci(y_test, ann_preds)"
   ]
  },
  {
   "cell_type": "code",
   "execution_count": null,
   "metadata": {},
   "outputs": [],
   "source": []
  }
 ],
 "metadata": {
  "interpreter": {
   "hash": "31f2aee4e71d21fbe5cf8b01ff0e069b9275f58929596ceb00d14d90e3e16cd6"
  },
  "kernelspec": {
   "display_name": "Python 3.9.5 64-bit",
   "name": "python3"
  },
  "language_info": {
   "codemirror_mode": {
    "name": "ipython",
    "version": 3
   },
   "file_extension": ".py",
   "mimetype": "text/x-python",
   "name": "python",
   "nbconvert_exporter": "python",
   "pygments_lexer": "ipython3",
   "version": "3.9.5"
  },
  "orig_nbformat": 4
 },
 "nbformat": 4,
 "nbformat_minor": 2
}
