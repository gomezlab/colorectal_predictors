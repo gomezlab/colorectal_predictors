{
 "cells": [
  {
   "cell_type": "code",
   "execution_count": 1,
   "metadata": {},
   "outputs": [],
   "source": [
    "import os\n",
    "import pandas as pd\n",
    "import numpy as np\n",
    "import glob\n",
    "from pathlib import Path"
   ]
  },
  {
   "cell_type": "markdown",
   "metadata": {},
   "source": [
    "col13 = pd.read_csv('/home/kchen/Documents/leak/data/puf_tar_col_2013.csv', index_col='CASEID', low_memory=False)\n",
    "puf13 = pd.read_csv('/home/kchen/Documents/leak/data/acs_nsqip_puf13.csv', index_col='CaseID', low_memory=False)"
   ]
  },
  {
   "cell_type": "markdown",
   "metadata": {},
   "source": [
    "col13.columns = map(str.upper, col13.columns)\n",
    "puf13.columns = map(str.upper, puf13.columns)"
   ]
  },
  {
   "cell_type": "code",
   "execution_count": 2,
   "metadata": {},
   "outputs": [],
   "source": [
    "proc = pd.read_csv(r'/home/kchen/Documents/nsqip_raw/pro/combined/pro.csv', index_col='CASEID', low_memory=False)\n"
   ]
  },
  {
   "cell_type": "code",
   "execution_count": 3,
   "metadata": {},
   "outputs": [],
   "source": [
    "colec = pd.read_csv(r'/home/kchen/Documents/nsqip_raw/col/combined/col.csv', index_col='CASEID', low_memory=False)"
   ]
  },
  {
   "cell_type": "code",
   "execution_count": 4,
   "metadata": {},
   "outputs": [],
   "source": [
    "procols = [column for column in proc.columns if column.startswith('PRO')]\n"
   ]
  },
  {
   "cell_type": "code",
   "execution_count": 5,
   "metadata": {},
   "outputs": [
    {
     "data": {
      "text/plain": [
       "['PRO_TUMORLOC',\n",
       " 'PRO_CHEMO',\n",
       " 'PRO_CHEMO_UNK',\n",
       " 'PRO_RADIO',\n",
       " 'PRO_RADIO_UNK',\n",
       " 'PRO_PRESTAGE_T',\n",
       " 'PRO_PRELYMPH_N',\n",
       " 'PRO_PREDISTANTM_M',\n",
       " 'PRO_COLON',\n",
       " 'PRO_STOMA',\n",
       " 'PRO_PATHSTAGE_T',\n",
       " 'PRO_PATHLYMPH_N',\n",
       " 'PRO_NUMNODES',\n",
       " 'PRO_NUMNODES_UNK',\n",
       " 'PRO_NUMNODES_NA',\n",
       " 'PRO_PATHDISTANTM_M',\n",
       " 'PRO_MARG_RADIAL',\n",
       " 'PRO_CLEAR_RADIAL',\n",
       " 'PRO_CLEAR_RADIAL_UNK',\n",
       " 'PRO_MARG_DISTAL',\n",
       " 'PRO_MARG_DISTAL_UNK',\n",
       " 'PRO_CLEAR_DISTAL',\n",
       " 'PRO_CLEAR_DISTAL_UNK',\n",
       " 'PRO_APPROACH',\n",
       " 'PRO_ANASTOMIC',\n",
       " 'PRO_ILEUS',\n",
       " 'PRO_ILEUS_UNK']"
      ]
     },
     "execution_count": 5,
     "metadata": {},
     "output_type": "execute_result"
    }
   ],
   "source": [
    "procols"
   ]
  },
  {
   "cell_type": "code",
   "execution_count": 6,
   "metadata": {},
   "outputs": [],
   "source": [
    "colcols = [column for column in colec.columns if column.startswith('COL')]\n"
   ]
  },
  {
   "cell_type": "code",
   "execution_count": 7,
   "metadata": {},
   "outputs": [
    {
     "name": "stdout",
     "output_type": "stream",
     "text": [
      "PRO_TUMORLOC 0.503903051476609\n",
      "PRO_CHEMO 0.00403952180795895\n",
      "PRO_CHEMO_UNK 0.0\n",
      "PRO_RADIO 0.0048583437960587365\n",
      "PRO_RADIO_UNK 0.0\n",
      "PRO_PRESTAGE_T 0.5234456029259239\n",
      "PRO_PRELYMPH_N 0.5225176046727441\n",
      "PRO_PREDISTANTM_M 0.5759047982968503\n",
      "PRO_COLON 0.0\n",
      "PRO_STOMA 0.0\n",
      "PRO_PATHSTAGE_T 0.5192969048528849\n",
      "PRO_PATHLYMPH_N 0.5195152573830449\n",
      "PRO_NUMNODES 0.0\n",
      "PRO_NUMNODES_UNK 0.0\n",
      "PRO_NUMNODES_NA 0.0\n",
      "PRO_PATHDISTANTM_M 0.5933730007096457\n",
      "PRO_MARG_RADIAL 0.5302145313608821\n",
      "PRO_CLEAR_RADIAL 0.0\n",
      "PRO_CLEAR_RADIAL_UNK 0.0\n",
      "PRO_MARG_DISTAL 0.5326709973251815\n",
      "PRO_MARG_DISTAL_UNK 0.0\n",
      "PRO_CLEAR_DISTAL 0.0\n",
      "PRO_CLEAR_DISTAL_UNK 0.0\n",
      "PRO_APPROACH 0.0\n",
      "PRO_ANASTOMIC 0.0\n",
      "PRO_ILEUS 0.0003275287952399148\n",
      "PRO_ILEUS_UNK 0.0\n"
     ]
    }
   ],
   "source": [
    "for col in procols:\n",
    "    print(col, proc[col].isnull().sum()/len(proc))"
   ]
  },
  {
   "cell_type": "code",
   "execution_count": 8,
   "metadata": {},
   "outputs": [
    {
     "data": {
      "text/plain": [
       "NaN                                       9231\n",
       "Lower third (<5 cm from anal verge)       3956\n",
       "Middle third (5-10 cm from anal verge)    2429\n",
       "Unknown                                   1422\n",
       "Upper third (>10 cm from anal verge)      1281\n",
       "Name: PRO_TUMORLOC, dtype: int64"
      ]
     },
     "execution_count": 8,
     "metadata": {},
     "output_type": "execute_result"
    }
   ],
   "source": [
    "proc['PRO_TUMORLOC'].value_counts(dropna=False)"
   ]
  },
  {
   "cell_type": "code",
   "execution_count": 9,
   "metadata": {},
   "outputs": [
    {
     "data": {
      "text/plain": [
       "Unknown                                   10653\n",
       "Lower third (<5 cm from anal verge)        3956\n",
       "Middle third (5-10 cm from anal verge)     2429\n",
       "Upper third (>10 cm from anal verge)       1281\n",
       "Name: PRO_TUMORLOC, dtype: int64"
      ]
     },
     "execution_count": 9,
     "metadata": {},
     "output_type": "execute_result"
    }
   ],
   "source": [
    "proc['PRO_TUMORLOC'] = proc['PRO_TUMORLOC'].fillna('Unknown')\n",
    "proc['PRO_TUMORLOC'].value_counts(dropna=False)"
   ]
  },
  {
   "cell_type": "code",
   "execution_count": 10,
   "metadata": {},
   "outputs": [
    {
     "data": {
      "text/plain": [
       "NaN              10653\n",
       "Rectal cancer     7666\n",
       "Name: COL_INDICATION, dtype: int64"
      ]
     },
     "execution_count": 10,
     "metadata": {},
     "output_type": "execute_result"
    }
   ],
   "source": [
    "proc.loc[proc['PRO_TUMORLOC'] != 'Unknown', 'COL_INDICATION'] = 'Rectal cancer'\n",
    "proc['COL_INDICATION'].value_counts(dropna=False)"
   ]
  },
  {
   "cell_type": "code",
   "execution_count": 11,
   "metadata": {},
   "outputs": [
    {
     "data": {
      "text/plain": [
       "Unknown          10653\n",
       "Rectal cancer     7666\n",
       "Name: COL_INDICATION, dtype: int64"
      ]
     },
     "execution_count": 11,
     "metadata": {},
     "output_type": "execute_result"
    }
   ],
   "source": [
    "proc['COL_INDICATION'].fillna(value='Unknown', inplace=True)\n",
    "proc['COL_INDICATION'].value_counts(dropna=False)"
   ]
  },
  {
   "cell_type": "code",
   "execution_count": 12,
   "metadata": {},
   "outputs": [
    {
     "data": {
      "text/plain": [
       "Colon cancer                         90518\n",
       "Chronic diverticular disease         36189\n",
       "Other-Enter ICD-10 for diagnosis     30063\n",
       "Acute diverticulitis                 21806\n",
       "Non-malignant polyp                  20128\n",
       "Other-Enter ICD-9 for diagnosis      16393\n",
       "Crohn's Disease                      14805\n",
       "Colon cancer w/ obstruction          11920\n",
       "Volvulus                              7141\n",
       "Ulcerative colitis                    5322\n",
       "Bleeding                              1795\n",
       "Enterocolitis (e.g. C. Difficile)     1471\n",
       "Unknown                                361\n",
       "Name: COL_INDICATION, dtype: int64"
      ]
     },
     "execution_count": 12,
     "metadata": {},
     "output_type": "execute_result"
    }
   ],
   "source": [
    "colec['COL_INDICATION'].value_counts()"
   ]
  },
  {
   "cell_type": "code",
   "execution_count": 13,
   "metadata": {},
   "outputs": [
    {
     "data": {
      "text/plain": [
       "Unknown    18319\n",
       "Name: COL_INDICATION, dtype: int64"
      ]
     },
     "execution_count": 13,
     "metadata": {},
     "output_type": "execute_result"
    }
   ],
   "source": [
    "proc['COL_INDICATION'] = 'Unknown'\n",
    "proc['COL_INDICATION'].value_counts()"
   ]
  },
  {
   "cell_type": "code",
   "execution_count": 14,
   "metadata": {},
   "outputs": [
    {
     "data": {
      "text/plain": [
       "Unknown               18066\n",
       "Rectal cancer           169\n",
       "Ulcerative colitis       46\n",
       "Rectal prolapse          35\n",
       "Anal cancer               3\n",
       "Name: COL_INDICATION, dtype: int64"
      ]
     },
     "execution_count": 14,
     "metadata": {},
     "output_type": "execute_result"
    }
   ],
   "source": [
    "proc.loc[(proc['PODIAGTX'].str.contains('rect', case=False, na=False) & proc['PODIAGTX'].str.contains('malig', case=False, na=False)), 'COL_INDICATION'] = 'Rectal cancer'\n",
    "proc.loc[(proc['PODIAGTX'].str.contains('rect', case=False, na=False) & proc['PODIAGTX'].str.contains('carc', case=False, na=False)), 'COL_INDICATION'] = 'Rectal cancer'\n",
    "proc.loc[(proc['PODIAGTX'].str.contains('ana', case=False, na=False) & proc['PODIAGTX'].str.contains('malig', case=False, na=False)), 'COL_INDICATION'] = 'Anal cancer'\n",
    "proc.loc[proc['PODIAGTX'].str.contains('ulcer', case=False, na=False), 'COL_INDICATION'] = 'Ulcerative colitis'\n",
    "proc.loc[proc['PODIAGTX'].str.contains('croh', case=False, na=False), 'COL_INDICATION'] = 'Crohn\\'s disease'\n",
    "proc.loc[proc['PODIAGTX'].str.contains('prola', case=False, na=False), 'COL_INDICATION'] = 'Rectal prolapse'\n",
    "proc['COL_INDICATION'].value_counts()"
   ]
  },
  {
   "cell_type": "code",
   "execution_count": 15,
   "metadata": {},
   "outputs": [
    {
     "data": {
      "text/plain": [
       "Rectal cancer         8392\n",
       "Ulcerative colitis    3366\n",
       "Unknown               2481\n",
       "Rectal prolapse       2472\n",
       "Crohn's Disease       1221\n",
       "Anal cancer            387\n",
       "Name: COL_INDICATION, dtype: int64"
      ]
     },
     "execution_count": 15,
     "metadata": {},
     "output_type": "execute_result"
    }
   ],
   "source": [
    "proc.loc[(proc['PODIAGTX10'].str.contains('rec', case=False, na=False) & proc['PODIAGTX10'].str.contains('mal', case=False, na=False)), 'COL_INDICATION'] = 'Rectal cancer'\n",
    "proc.loc[(proc['PODIAGTX10'].str.contains('rect', case=False, na=False) & proc['PODIAGTX10'].str.contains('carc', case=False, na=False)), 'COL_INDICATION'] = 'Rectal cancer'\n",
    "proc.loc[(proc['PODIAGTX10'].str.contains('rec', case=False, na=False) & proc['PODIAGTX10'].str.contains('neo', case=False, na=False)), 'COL_INDICATION'] = 'Rectal cancer'\n",
    "proc.loc[(proc['PODIAGTX10'].str.contains('col', case=False, na=False) & proc['PODIAGTX10'].str.contains('mal', case=False, na=False)), 'COL_INDICATION'] = 'Rectal cancer'\n",
    "proc.loc[(proc['PODIAGTX10'].str.contains('col', case=False, na=False) & proc['PODIAGTX10'].str.contains('neo', case=False, na=False)), 'COL_INDICATION'] = 'Rectal cancer'\n",
    "proc.loc[(proc['PODIAGTX10'].str.contains('ana', case=False, na=False) & proc['PODIAGTX10'].str.contains('malig', case=False, na=False)), 'COL_INDICATION'] = 'Anal cancer'\n",
    "proc.loc[proc['PODIAGTX10'].str.contains('ulcer', case=False, na=False), 'COL_INDICATION'] = 'Ulcerative colitis'\n",
    "proc.loc[proc['PODIAGTX10'].str.contains('cro', case=False, na=False), 'COL_INDICATION'] = 'Crohn\\'s Disease'\n",
    "proc.loc[proc['PODIAGTX10'].str.contains('prola', case=False, na=False), 'COL_INDICATION'] = 'Rectal prolapse'\n",
    "proc['COL_INDICATION'].value_counts()"
   ]
  },
  {
   "cell_type": "code",
   "execution_count": 16,
   "metadata": {},
   "outputs": [],
   "source": [
    "proc.loc[proc['PODIAGTX'] == 'MALIGNANT NEOPLASM OF RECTUM', 'COL_INDICATION'] = 'Rectal cancer'\n",
    "proc.loc[proc['PODIAGTX'] == 'MALIGNANT NEOPLASM OF RECTOSIGMOID JUNCTION', 'COL_INDICATION'] = 'Rectal cancer'\n",
    "proc.loc[proc['PODIAGTX'] == 'MALIGNANT NEOPLASM OF RECTUM RECTOSIGMOID JUNCTION AND ANUS', 'COL_INDICATION'] = 'Rectal cancer'\n",
    "proc.loc[proc['PODIAGTX'] == 'MALIGNANT NEOPLASM OF COLON', 'COL_INDICATION'] = 'Rectal cancer'\n",
    "proc.loc[proc['PODIAGTX'] == 'MALIGNANT NEOPLASM OF SIGMOID COLON', 'COL_INDICATION'] = 'Rectal cancer'\n",
    "proc.loc[proc['PODIAGTX'] == 'CARCINOMA IN SITU OF RECTUM', 'COL_INDICATION'] = 'Rectal cancer'\n",
    "proc.loc[proc['PODIAGTX'] == 'NEOPLASM OF UNCERTAIN BEHAVIOR OF STOMACH INTESTINES AND RECTUM', 'COL_INDICATION'] = 'Rectal cancer'\n",
    "\n",
    "proc.loc[proc['PODIAGTX'] == 'ULCERATIVE COLITIS UNSPECIFIED', 'COL_INDICATION'] = 'Ulcerative colitis'\n",
    "proc.loc[proc['PODIAGTX'] == 'ULCERATIVE (CHRONIC) PROCTITIS', 'COL_INDICATION'] = 'Ulcerative colitis'\n",
    "proc.loc[proc['PODIAGTX'] == 'ULCERATIVE (CHRONIC) ENTEROCOLITIS', 'COL_INDICATION'] = 'Ulcerative colitis'\n",
    "proc.loc[proc['PODIAGTX'] == 'ULCERATIVE (CHRONIC) PROCTOSIGMOIDITIS', 'COL_INDICATION'] = 'Ulcerative colitis'\n",
    "proc.loc[proc['PODIAGTX'] == 'LEFT-SIDED ULCERATIVE (CHRONIC) COLITIS', 'COL_INDICATION'] = 'Ulcerative colitis'"
   ]
  },
  {
   "cell_type": "code",
   "execution_count": 17,
   "metadata": {},
   "outputs": [
    {
     "data": {
      "text/html": [
       "<div>\n",
       "<style scoped>\n",
       "    .dataframe tbody tr th:only-of-type {\n",
       "        vertical-align: middle;\n",
       "    }\n",
       "\n",
       "    .dataframe tbody tr th {\n",
       "        vertical-align: top;\n",
       "    }\n",
       "\n",
       "    .dataframe thead th {\n",
       "        text-align: right;\n",
       "    }\n",
       "</style>\n",
       "<table border=\"1\" class=\"dataframe\">\n",
       "  <thead>\n",
       "    <tr style=\"text-align: right;\">\n",
       "      <th></th>\n",
       "      <th>PODIAGTX10</th>\n",
       "    </tr>\n",
       "  </thead>\n",
       "  <tbody>\n",
       "    <tr>\n",
       "      <th>Malignant neoplasm of rectum</th>\n",
       "      <td>5159</td>\n",
       "    </tr>\n",
       "    <tr>\n",
       "      <th>Rectal prolapse</th>\n",
       "      <td>1887</td>\n",
       "    </tr>\n",
       "    <tr>\n",
       "      <th>MALIGNANT NEOPLASM OF RECTUM</th>\n",
       "      <td>1397</td>\n",
       "    </tr>\n",
       "    <tr>\n",
       "      <th>Ulcerative colitis, unspecified, without complications</th>\n",
       "      <td>905</td>\n",
       "    </tr>\n",
       "    <tr>\n",
       "      <th>RECTAL PROLAPSE</th>\n",
       "      <td>533</td>\n",
       "    </tr>\n",
       "    <tr>\n",
       "      <th>Malignant neoplasm of rectosigmoid junction</th>\n",
       "      <td>450</td>\n",
       "    </tr>\n",
       "    <tr>\n",
       "      <th>ULCERATIVE COLITIS UNSPECIFIED WITHOUT COMP</th>\n",
       "      <td>347</td>\n",
       "    </tr>\n",
       "    <tr>\n",
       "      <th>NaN</th>\n",
       "      <td>339</td>\n",
       "    </tr>\n",
       "    <tr>\n",
       "      <th>Ulcerative (chronic) pancolitis without complications</th>\n",
       "      <td>218</td>\n",
       "    </tr>\n",
       "    <tr>\n",
       "      <th>Malignant neoplasm of anus, unspecified</th>\n",
       "      <td>198</td>\n",
       "    </tr>\n",
       "    <tr>\n",
       "      <th>Crohn's disease of large intestine without complications</th>\n",
       "      <td>178</td>\n",
       "    </tr>\n",
       "    <tr>\n",
       "      <th>Ulcerative (chronic) proctitis without complications</th>\n",
       "      <td>170</td>\n",
       "    </tr>\n",
       "    <tr>\n",
       "      <th>Malignant neoplasm of sigmoid colon</th>\n",
       "      <td>169</td>\n",
       "    </tr>\n",
       "    <tr>\n",
       "      <th>Malignant neoplasm of overlapping sites of rectum, anus and anal canal</th>\n",
       "      <td>165</td>\n",
       "    </tr>\n",
       "    <tr>\n",
       "      <th>Ulcerative colitis, unspecified with unspecified complications</th>\n",
       "      <td>141</td>\n",
       "    </tr>\n",
       "    <tr>\n",
       "      <th>Ulcerative (chronic) pancolitis with rectal bleeding</th>\n",
       "      <td>135</td>\n",
       "    </tr>\n",
       "    <tr>\n",
       "      <th>Ulcerative (chronic) pancolitis with other complication</th>\n",
       "      <td>131</td>\n",
       "    </tr>\n",
       "    <tr>\n",
       "      <th>Benign neoplasm of colon, unspecified</th>\n",
       "      <td>130</td>\n",
       "    </tr>\n",
       "    <tr>\n",
       "      <th>Malignant neoplasm of anal canal</th>\n",
       "      <td>124</td>\n",
       "    </tr>\n",
       "    <tr>\n",
       "      <th>Crohn's disease of large intestine with fistula</th>\n",
       "      <td>117</td>\n",
       "    </tr>\n",
       "    <tr>\n",
       "      <th>MALIGNANT NEOPLASM OF RECTOSIGMOID JUNCTION</th>\n",
       "      <td>112</td>\n",
       "    </tr>\n",
       "    <tr>\n",
       "      <th>Crohn's disease of large intestine with other complication</th>\n",
       "      <td>94</td>\n",
       "    </tr>\n",
       "    <tr>\n",
       "      <th>Ulcerative colitis, unspecified with rectal bleeding</th>\n",
       "      <td>86</td>\n",
       "    </tr>\n",
       "    <tr>\n",
       "      <th>Malignant neoplasm of colon, unspecified</th>\n",
       "      <td>85</td>\n",
       "    </tr>\n",
       "    <tr>\n",
       "      <th>CROHN DISEASE OF LARGE INTESTINE WITHOUT COMP</th>\n",
       "      <td>80</td>\n",
       "    </tr>\n",
       "    <tr>\n",
       "      <th>Ulcerative colitis</th>\n",
       "      <td>80</td>\n",
       "    </tr>\n",
       "    <tr>\n",
       "      <th>Other specified diseases of anus and rectum</th>\n",
       "      <td>78</td>\n",
       "    </tr>\n",
       "    <tr>\n",
       "      <th>Crohn's disease, unspecified, without complications</th>\n",
       "      <td>77</td>\n",
       "    </tr>\n",
       "    <tr>\n",
       "      <th>Fistula of vagina to large intestine</th>\n",
       "      <td>73</td>\n",
       "    </tr>\n",
       "    <tr>\n",
       "      <th>Ulcerative colitis, unsp with unspecified complications</th>\n",
       "      <td>68</td>\n",
       "    </tr>\n",
       "  </tbody>\n",
       "</table>\n",
       "</div>"
      ],
      "text/plain": [
       "                                                    PODIAGTX10\n",
       "Malignant neoplasm of rectum                              5159\n",
       "Rectal prolapse                                           1887\n",
       "MALIGNANT NEOPLASM OF RECTUM                              1397\n",
       "Ulcerative colitis, unspecified, without compli...         905\n",
       "RECTAL PROLAPSE                                            533\n",
       "Malignant neoplasm of rectosigmoid junction                450\n",
       "ULCERATIVE COLITIS UNSPECIFIED WITHOUT COMP                347\n",
       "NaN                                                        339\n",
       "Ulcerative (chronic) pancolitis without complic...         218\n",
       "Malignant neoplasm of anus, unspecified                    198\n",
       "Crohn's disease of large intestine without comp...         178\n",
       "Ulcerative (chronic) proctitis without complica...         170\n",
       "Malignant neoplasm of sigmoid colon                        169\n",
       "Malignant neoplasm of overlapping sites of rect...         165\n",
       "Ulcerative colitis, unspecified with unspecifie...         141\n",
       "Ulcerative (chronic) pancolitis with rectal ble...         135\n",
       "Ulcerative (chronic) pancolitis with other comp...         131\n",
       "Benign neoplasm of colon, unspecified                      130\n",
       "Malignant neoplasm of anal canal                           124\n",
       "Crohn's disease of large intestine with fistula            117\n",
       "MALIGNANT NEOPLASM OF RECTOSIGMOID JUNCTION                112\n",
       "Crohn's disease of large intestine with other c...          94\n",
       "Ulcerative colitis, unspecified with rectal ble...          86\n",
       "Malignant neoplasm of colon, unspecified                    85\n",
       "CROHN DISEASE OF LARGE INTESTINE WITHOUT COMP               80\n",
       "Ulcerative colitis                                          80\n",
       "Other specified diseases of anus and rectum                 78\n",
       "Crohn's disease, unspecified, without complicat...          77\n",
       "Fistula of vagina to large intestine                        73\n",
       "Ulcerative colitis, unsp with unspecified compl...          68"
      ]
     },
     "execution_count": 17,
     "metadata": {},
     "output_type": "execute_result"
    }
   ],
   "source": [
    "pd.DataFrame(proc['PODIAGTX10'].value_counts(dropna=False)).iloc[0:30,:]"
   ]
  },
  {
   "cell_type": "code",
   "execution_count": 18,
   "metadata": {},
   "outputs": [],
   "source": [
    "proc.loc[proc['PODIAGTX10'] == 'Malignant neoplasm of rectum', 'COL_INDICATION'] = 'Rectal cancer'\n",
    "proc.loc[proc['PODIAGTX10'] == 'MALIGNANT NEOPLASM OF RECTUM', 'COL_INDICATION'] = 'Rectal cancer'\n",
    "proc.loc[proc['PODIAGTX10'] == 'Malignant neoplasm of rectosigmoid junction', 'COL_INDICATION'] = 'Rectal cancer'\n",
    "proc.loc[proc['PODIAGTX10'] == 'MALIGNANT NEOPLASM OF RECTOSIGMOID JUNCTION', 'COL_INDICATION'] = 'Rectal cancer'\n",
    "proc.loc[proc['PODIAGTX10'] == 'MALIGNANT NEOPLASM OF RECTUM RECTOSIGMOID JUNCTION AND ANUS', 'COL_INDICATION'] = 'Rectal cancer'\n",
    "proc.loc[proc['PODIAGTX10'] == 'MALIGNANT NEOPLASM OF COLON', 'COL_INDICATION'] = 'Rectal cancer'\n",
    "proc.loc[proc['PODIAGTX10'] == 'MALIGNANT NEOPLASM OF SIGMOID COLON', 'COL_INDICATION'] = 'Rectal cancer'\n",
    "proc.loc[proc['PODIAGTX10'] == 'CARCINOMA IN SITU OF RECTUM', 'COL_INDICATION'] = 'Rectal cancer'\n",
    "proc.loc[proc['PODIAGTX10'] == 'Malignant neoplasm of sigmoid colon', 'COL_INDICATION'] = 'Rectal cancer'\n",
    "proc.loc[proc['PODIAGTX10'] == 'Malignant neoplasm of overlapping sites of rectum, anus and anal canal', 'COL_INDICATION'] = 'Rectal cancer'\n",
    "proc.loc[proc['PODIAGTX10'] == 'Malignant neoplasm of colon, unspecified', 'COL_INDICATION'] = 'Rectal cancer'\n",
    "\n",
    "\n",
    "proc.loc[proc['PODIAGTX10'] == 'Rectal prolapse', 'COL_INDICATION'] = 'Rectal prolapse'\n",
    "proc.loc[proc['PODIAGTX10'] == 'RECTAL PROLAPSE', 'COL_INDICATION'] = 'Rectal prolapse'\n",
    "\n",
    "proc.loc[proc['PODIAGTX10'] == 'Malignant neoplasm of anus, unspecified', 'COL_INDICATION'] = 'Anal cancer'\n",
    "proc.loc[proc['PODIAGTX10'] == 'Malignant neoplasm of anal canal', 'COL_INDICATION'] = 'Anal cancer'\n",
    "\n",
    "proc.loc[proc['PODIAGTX10'] == 'Crohn\\'s disease of large intestine without complications', 'COL_INDICATION'] = 'Crohn\\'s Disease'\n",
    "proc.loc[proc['PODIAGTX10'] == 'Crohn\\'s disease of large intestine with fistula', 'COL_INDICATION'] = 'Crohn\\'s Disease'\n",
    "proc.loc[proc['PODIAGTX10'] == 'Crohn\\'s disease of large intestine with other complication', 'COL_INDICATION'] = 'Crohn\\'s Disease'\n",
    "proc.loc[proc['PODIAGTX10'] == 'Crohn\\'s disease, unspecified, without complications', 'COL_INDICATION'] = 'Crohn\\'s Disease'\n",
    "\n",
    "\n",
    "proc.loc[proc['PODIAGTX10'] == 'ULCERATIVE COLITIS UNSPECIFIED WITHOUT COMP', 'COL_INDICATION'] = 'Ulcerative colitis'\n",
    "proc.loc[proc['PODIAGTX10'] == 'Ulcerative (chronic) pancolitis without complications', 'COL_INDICATION'] = 'Ulcerative colitis'\n",
    "proc.loc[proc['PODIAGTX10'] == 'Ulcerative (chronic) proctitis without complications', 'COL_INDICATION'] = 'Ulcerative colitis'\n",
    "proc.loc[proc['PODIAGTX10'] == 'Ulcerative colitis, unspecified with unspecified complications', 'COL_INDICATION'] = 'Ulcerative colitis'\n",
    "proc.loc[proc['PODIAGTX10'] == 'Ulcerative (chronic) pancolitis with rectal bleeding', 'COL_INDICATION'] = 'Ulcerative colitis'\n",
    "proc.loc[proc['PODIAGTX10'] == 'Ulcerative (chronic) pancolitis with other complication\t', 'COL_INDICATION'] = 'Ulcerative colitis'\n",
    "proc.loc[proc['PODIAGTX10'] == 'ULCERATIVE COLITIS UNSPECIFIED', 'COL_INDICATION'] = 'Ulcerative colitis'\n",
    "proc.loc[proc['PODIAGTX10'] == 'ULCERATIVE (CHRONIC) PROCTITIS', 'COL_INDICATION'] = 'Ulcerative colitis'\n",
    "proc.loc[proc['PODIAGTX10'] == 'ULCERATIVE (CHRONIC) ENTEROCOLITIS', 'COL_INDICATION'] = 'Ulcerative colitis'\n",
    "proc.loc[proc['PODIAGTX10'] == 'ULCERATIVE (CHRONIC) PROCTOSIGMOIDITIS', 'COL_INDICATION'] = 'Ulcerative colitis'\n",
    "proc.loc[proc['PODIAGTX10'] == 'LEFT-SIDED ULCERATIVE (CHRONIC) COLITIS', 'COL_INDICATION'] = 'Ulcerative colitis'\n",
    "proc.loc[proc['PODIAGTX10'] == 'Ulcerative colitis, unspecified with rectal bleeding', 'COL_INDICATION'] = 'Ulcerative colitis'\n",
    "proc.loc[proc['PODIAGTX10'] == 'Ulcerative colitis', 'COL_INDICATION'] = 'Ulcerative colitis'"
   ]
  },
  {
   "cell_type": "code",
   "execution_count": 19,
   "metadata": {},
   "outputs": [
    {
     "data": {
      "text/plain": [
       "Rectal cancer         8571\n",
       "Ulcerative colitis    3366\n",
       "Rectal prolapse       2472\n",
       "Unknown               2269\n",
       "Crohn's Disease       1221\n",
       "Anal cancer            420\n",
       "Name: COL_INDICATION, dtype: int64"
      ]
     },
     "execution_count": 19,
     "metadata": {},
     "output_type": "execute_result"
    }
   ],
   "source": [
    "proc['COL_INDICATION'].value_counts()"
   ]
  },
  {
   "cell_type": "code",
   "execution_count": 20,
   "metadata": {},
   "outputs": [],
   "source": [
    "columns = {'PRO_CHEMO':'COL_CHEMO', 'PRO_NUMNODES':'COL_NODESEVAL', 'PRO_APPROACH':'COL_APPROACH', 'PRO_ANASTOMIC':'COL_ANASTOMOTIC', 'PRO_ILEUS':'COL_ILEUS', 'PRO_PATHSTAGE_T':'COL_MALIGNANCYT','PRO_PATHLYMPH_N':'COL_MALIGNANCYN','PRO_PATHDISTANTM_M':'COL_MALIGNANCYM','PRO_STOMA':'COL_STOMA'}\n",
    "proc.rename(columns=columns, inplace=True, errors=\"raise\")"
   ]
  },
  {
   "cell_type": "code",
   "execution_count": 21,
   "metadata": {},
   "outputs": [],
   "source": [
    "proc['COL_STEROID'] = 'Unknown'\n",
    "proc['COL_ORAL_ANTIBIOTIC'] = 'Unknown'\n",
    "proc['COL_MECH_BOWEL_PREP'] = 'Unknown'\n",
    "proc['COL_EMERGENT'] = 'Unknown'\n"
   ]
  },
  {
   "cell_type": "code",
   "execution_count": 22,
   "metadata": {},
   "outputs": [],
   "source": [
    "procols2 = [column for column in proc.columns if column.startswith('PRO')]"
   ]
  },
  {
   "cell_type": "code",
   "execution_count": 23,
   "metadata": {},
   "outputs": [],
   "source": [
    "proc.drop(procols2, axis=1, inplace=True)"
   ]
  },
  {
   "cell_type": "code",
   "execution_count": 24,
   "metadata": {},
   "outputs": [
    {
     "name": "stdout",
     "output_type": "stream",
     "text": [
      "(18319, 289) (257913, 352)\n"
     ]
    }
   ],
   "source": [
    "print(proc.shape, colec.shape)"
   ]
  },
  {
   "cell_type": "code",
   "execution_count": 25,
   "metadata": {},
   "outputs": [
    {
     "data": {
      "text/plain": [
       "(276232, 353)"
      ]
     },
     "execution_count": 25,
     "metadata": {},
     "output_type": "execute_result"
    }
   ],
   "source": [
    "join = pd.concat([proc, colec])\n",
    "join.shape"
   ]
  },
  {
   "cell_type": "code",
   "execution_count": 26,
   "metadata": {},
   "outputs": [],
   "source": [
    "join.to_csv(r'/home/kchen/Documents/nsqip_raw/procol/procol.csv')"
   ]
  },
  {
   "cell_type": "code",
   "execution_count": 27,
   "metadata": {},
   "outputs": [
    {
     "name": "stderr",
     "output_type": "stream",
     "text": [
      "<ipython-input-27-c3a1c367a89b>:1: PerformanceWarning: DataFrame is highly fragmented.  This is usually the result of calling `frame.insert` many times, which has poor performance.  Consider joining all columns at once using pd.concat(axis=1) instead.  To get a de-fragmented frame, use `newframe = frame.copy()`\n",
      "  join.reset_index(inplace=True)\n"
     ]
    }
   ],
   "source": [
    "join.reset_index(inplace=True)"
   ]
  },
  {
   "cell_type": "code",
   "execution_count": 28,
   "metadata": {},
   "outputs": [
    {
     "ename": "ArrowInvalid",
     "evalue": "(\"Could not convert '49204' with type str: tried to convert to double\", 'Conversion failed for column OTHERCPT4 with type object')",
     "output_type": "error",
     "traceback": [
      "\u001b[0;31m---------------------------------------------------------------------------\u001b[0m",
      "\u001b[0;31mArrowInvalid\u001b[0m                              Traceback (most recent call last)",
      "\u001b[0;32m<ipython-input-28-d30e1729b5bc>\u001b[0m in \u001b[0;36m<module>\u001b[0;34m\u001b[0m\n\u001b[1;32m      1\u001b[0m \u001b[0;32mimport\u001b[0m \u001b[0mfeather\u001b[0m\u001b[0;34m\u001b[0m\u001b[0;34m\u001b[0m\u001b[0m\n\u001b[0;32m----> 2\u001b[0;31m \u001b[0mjoin\u001b[0m\u001b[0;34m.\u001b[0m\u001b[0mto_feather\u001b[0m\u001b[0;34m(\u001b[0m\u001b[0;34mr'/home/kchen/Documents/nsqip_raw/procol/procol.feather'\u001b[0m\u001b[0;34m)\u001b[0m\u001b[0;34m\u001b[0m\u001b[0;34m\u001b[0m\u001b[0m\n\u001b[0m",
      "\u001b[0;32m~/.local/lib/python3.9/site-packages/pandas/util/_decorators.py\u001b[0m in \u001b[0;36mwrapper\u001b[0;34m(*args, **kwargs)\u001b[0m\n\u001b[1;32m    205\u001b[0m                 \u001b[0;32melse\u001b[0m\u001b[0;34m:\u001b[0m\u001b[0;34m\u001b[0m\u001b[0;34m\u001b[0m\u001b[0m\n\u001b[1;32m    206\u001b[0m                     \u001b[0mkwargs\u001b[0m\u001b[0;34m[\u001b[0m\u001b[0mnew_arg_name\u001b[0m\u001b[0;34m]\u001b[0m \u001b[0;34m=\u001b[0m \u001b[0mnew_arg_value\u001b[0m\u001b[0;34m\u001b[0m\u001b[0;34m\u001b[0m\u001b[0m\n\u001b[0;32m--> 207\u001b[0;31m             \u001b[0;32mreturn\u001b[0m \u001b[0mfunc\u001b[0m\u001b[0;34m(\u001b[0m\u001b[0;34m*\u001b[0m\u001b[0margs\u001b[0m\u001b[0;34m,\u001b[0m \u001b[0;34m**\u001b[0m\u001b[0mkwargs\u001b[0m\u001b[0;34m)\u001b[0m\u001b[0;34m\u001b[0m\u001b[0;34m\u001b[0m\u001b[0m\n\u001b[0m\u001b[1;32m    208\u001b[0m \u001b[0;34m\u001b[0m\u001b[0m\n\u001b[1;32m    209\u001b[0m         \u001b[0;32mreturn\u001b[0m \u001b[0mcast\u001b[0m\u001b[0;34m(\u001b[0m\u001b[0mF\u001b[0m\u001b[0;34m,\u001b[0m \u001b[0mwrapper\u001b[0m\u001b[0;34m)\u001b[0m\u001b[0;34m\u001b[0m\u001b[0;34m\u001b[0m\u001b[0m\n",
      "\u001b[0;32m~/.local/lib/python3.9/site-packages/pandas/core/frame.py\u001b[0m in \u001b[0;36mto_feather\u001b[0;34m(self, path, **kwargs)\u001b[0m\n\u001b[1;32m   2517\u001b[0m         \u001b[0;32mfrom\u001b[0m \u001b[0mpandas\u001b[0m\u001b[0;34m.\u001b[0m\u001b[0mio\u001b[0m\u001b[0;34m.\u001b[0m\u001b[0mfeather_format\u001b[0m \u001b[0;32mimport\u001b[0m \u001b[0mto_feather\u001b[0m\u001b[0;34m\u001b[0m\u001b[0;34m\u001b[0m\u001b[0m\n\u001b[1;32m   2518\u001b[0m \u001b[0;34m\u001b[0m\u001b[0m\n\u001b[0;32m-> 2519\u001b[0;31m         \u001b[0mto_feather\u001b[0m\u001b[0;34m(\u001b[0m\u001b[0mself\u001b[0m\u001b[0;34m,\u001b[0m \u001b[0mpath\u001b[0m\u001b[0;34m,\u001b[0m \u001b[0;34m**\u001b[0m\u001b[0mkwargs\u001b[0m\u001b[0;34m)\u001b[0m\u001b[0;34m\u001b[0m\u001b[0;34m\u001b[0m\u001b[0m\n\u001b[0m\u001b[1;32m   2520\u001b[0m \u001b[0;34m\u001b[0m\u001b[0m\n\u001b[1;32m   2521\u001b[0m     @doc(\n",
      "\u001b[0;32m~/.local/lib/python3.9/site-packages/pandas/io/feather_format.py\u001b[0m in \u001b[0;36mto_feather\u001b[0;34m(df, path, storage_options, **kwargs)\u001b[0m\n\u001b[1;32m     85\u001b[0m         \u001b[0mpath\u001b[0m\u001b[0;34m,\u001b[0m \u001b[0;34m\"wb\"\u001b[0m\u001b[0;34m,\u001b[0m \u001b[0mstorage_options\u001b[0m\u001b[0;34m=\u001b[0m\u001b[0mstorage_options\u001b[0m\u001b[0;34m,\u001b[0m \u001b[0mis_text\u001b[0m\u001b[0;34m=\u001b[0m\u001b[0;32mFalse\u001b[0m\u001b[0;34m\u001b[0m\u001b[0;34m\u001b[0m\u001b[0m\n\u001b[1;32m     86\u001b[0m     ) as handles:\n\u001b[0;32m---> 87\u001b[0;31m         \u001b[0mfeather\u001b[0m\u001b[0;34m.\u001b[0m\u001b[0mwrite_feather\u001b[0m\u001b[0;34m(\u001b[0m\u001b[0mdf\u001b[0m\u001b[0;34m,\u001b[0m \u001b[0mhandles\u001b[0m\u001b[0;34m.\u001b[0m\u001b[0mhandle\u001b[0m\u001b[0;34m,\u001b[0m \u001b[0;34m**\u001b[0m\u001b[0mkwargs\u001b[0m\u001b[0;34m)\u001b[0m\u001b[0;34m\u001b[0m\u001b[0;34m\u001b[0m\u001b[0m\n\u001b[0m\u001b[1;32m     88\u001b[0m \u001b[0;34m\u001b[0m\u001b[0m\n\u001b[1;32m     89\u001b[0m \u001b[0;34m\u001b[0m\u001b[0m\n",
      "\u001b[0;32m~/.local/lib/python3.9/site-packages/pyarrow/feather.py\u001b[0m in \u001b[0;36mwrite_feather\u001b[0;34m(df, dest, compression, compression_level, chunksize, version)\u001b[0m\n\u001b[1;32m    152\u001b[0m \u001b[0;34m\u001b[0m\u001b[0m\n\u001b[1;32m    153\u001b[0m     \u001b[0;32mif\u001b[0m \u001b[0m_pandas_api\u001b[0m\u001b[0;34m.\u001b[0m\u001b[0mis_data_frame\u001b[0m\u001b[0;34m(\u001b[0m\u001b[0mdf\u001b[0m\u001b[0;34m)\u001b[0m\u001b[0;34m:\u001b[0m\u001b[0;34m\u001b[0m\u001b[0;34m\u001b[0m\u001b[0m\n\u001b[0;32m--> 154\u001b[0;31m         \u001b[0mtable\u001b[0m \u001b[0;34m=\u001b[0m \u001b[0mTable\u001b[0m\u001b[0;34m.\u001b[0m\u001b[0mfrom_pandas\u001b[0m\u001b[0;34m(\u001b[0m\u001b[0mdf\u001b[0m\u001b[0;34m,\u001b[0m \u001b[0mpreserve_index\u001b[0m\u001b[0;34m=\u001b[0m\u001b[0;32mFalse\u001b[0m\u001b[0;34m)\u001b[0m\u001b[0;34m\u001b[0m\u001b[0;34m\u001b[0m\u001b[0m\n\u001b[0m\u001b[1;32m    155\u001b[0m \u001b[0;34m\u001b[0m\u001b[0m\n\u001b[1;32m    156\u001b[0m         \u001b[0;32mif\u001b[0m \u001b[0mversion\u001b[0m \u001b[0;34m==\u001b[0m \u001b[0;36m1\u001b[0m\u001b[0;34m:\u001b[0m\u001b[0;34m\u001b[0m\u001b[0;34m\u001b[0m\u001b[0m\n",
      "\u001b[0;32m~/.local/lib/python3.9/site-packages/pyarrow/table.pxi\u001b[0m in \u001b[0;36mpyarrow.lib.Table.from_pandas\u001b[0;34m()\u001b[0m\n",
      "\u001b[0;32m~/.local/lib/python3.9/site-packages/pyarrow/pandas_compat.py\u001b[0m in \u001b[0;36mdataframe_to_arrays\u001b[0;34m(df, schema, preserve_index, nthreads, columns, safe)\u001b[0m\n\u001b[1;32m    605\u001b[0m         \u001b[0;32mfor\u001b[0m \u001b[0mi\u001b[0m\u001b[0;34m,\u001b[0m \u001b[0mmaybe_fut\u001b[0m \u001b[0;32min\u001b[0m \u001b[0menumerate\u001b[0m\u001b[0;34m(\u001b[0m\u001b[0marrays\u001b[0m\u001b[0;34m)\u001b[0m\u001b[0;34m:\u001b[0m\u001b[0;34m\u001b[0m\u001b[0;34m\u001b[0m\u001b[0m\n\u001b[1;32m    606\u001b[0m             \u001b[0;32mif\u001b[0m \u001b[0misinstance\u001b[0m\u001b[0;34m(\u001b[0m\u001b[0mmaybe_fut\u001b[0m\u001b[0;34m,\u001b[0m \u001b[0mfutures\u001b[0m\u001b[0;34m.\u001b[0m\u001b[0mFuture\u001b[0m\u001b[0;34m)\u001b[0m\u001b[0;34m:\u001b[0m\u001b[0;34m\u001b[0m\u001b[0;34m\u001b[0m\u001b[0m\n\u001b[0;32m--> 607\u001b[0;31m                 \u001b[0marrays\u001b[0m\u001b[0;34m[\u001b[0m\u001b[0mi\u001b[0m\u001b[0;34m]\u001b[0m \u001b[0;34m=\u001b[0m \u001b[0mmaybe_fut\u001b[0m\u001b[0;34m.\u001b[0m\u001b[0mresult\u001b[0m\u001b[0;34m(\u001b[0m\u001b[0;34m)\u001b[0m\u001b[0;34m\u001b[0m\u001b[0;34m\u001b[0m\u001b[0m\n\u001b[0m\u001b[1;32m    608\u001b[0m \u001b[0;34m\u001b[0m\u001b[0m\n\u001b[1;32m    609\u001b[0m     \u001b[0mtypes\u001b[0m \u001b[0;34m=\u001b[0m \u001b[0;34m[\u001b[0m\u001b[0mx\u001b[0m\u001b[0;34m.\u001b[0m\u001b[0mtype\u001b[0m \u001b[0;32mfor\u001b[0m \u001b[0mx\u001b[0m \u001b[0;32min\u001b[0m \u001b[0marrays\u001b[0m\u001b[0;34m]\u001b[0m\u001b[0;34m\u001b[0m\u001b[0;34m\u001b[0m\u001b[0m\n",
      "\u001b[0;32m/usr/lib/python3.9/concurrent/futures/_base.py\u001b[0m in \u001b[0;36mresult\u001b[0;34m(self, timeout)\u001b[0m\n\u001b[1;32m    436\u001b[0m                     \u001b[0;32mraise\u001b[0m \u001b[0mCancelledError\u001b[0m\u001b[0;34m(\u001b[0m\u001b[0;34m)\u001b[0m\u001b[0;34m\u001b[0m\u001b[0;34m\u001b[0m\u001b[0m\n\u001b[1;32m    437\u001b[0m                 \u001b[0;32melif\u001b[0m \u001b[0mself\u001b[0m\u001b[0;34m.\u001b[0m\u001b[0m_state\u001b[0m \u001b[0;34m==\u001b[0m \u001b[0mFINISHED\u001b[0m\u001b[0;34m:\u001b[0m\u001b[0;34m\u001b[0m\u001b[0;34m\u001b[0m\u001b[0m\n\u001b[0;32m--> 438\u001b[0;31m                     \u001b[0;32mreturn\u001b[0m \u001b[0mself\u001b[0m\u001b[0;34m.\u001b[0m\u001b[0m__get_result\u001b[0m\u001b[0;34m(\u001b[0m\u001b[0;34m)\u001b[0m\u001b[0;34m\u001b[0m\u001b[0;34m\u001b[0m\u001b[0m\n\u001b[0m\u001b[1;32m    439\u001b[0m \u001b[0;34m\u001b[0m\u001b[0m\n\u001b[1;32m    440\u001b[0m                 \u001b[0mself\u001b[0m\u001b[0;34m.\u001b[0m\u001b[0m_condition\u001b[0m\u001b[0;34m.\u001b[0m\u001b[0mwait\u001b[0m\u001b[0;34m(\u001b[0m\u001b[0mtimeout\u001b[0m\u001b[0;34m)\u001b[0m\u001b[0;34m\u001b[0m\u001b[0;34m\u001b[0m\u001b[0m\n",
      "\u001b[0;32m/usr/lib/python3.9/concurrent/futures/_base.py\u001b[0m in \u001b[0;36m__get_result\u001b[0;34m(self)\u001b[0m\n\u001b[1;32m    388\u001b[0m         \u001b[0;32mif\u001b[0m \u001b[0mself\u001b[0m\u001b[0;34m.\u001b[0m\u001b[0m_exception\u001b[0m\u001b[0;34m:\u001b[0m\u001b[0;34m\u001b[0m\u001b[0;34m\u001b[0m\u001b[0m\n\u001b[1;32m    389\u001b[0m             \u001b[0;32mtry\u001b[0m\u001b[0;34m:\u001b[0m\u001b[0;34m\u001b[0m\u001b[0;34m\u001b[0m\u001b[0m\n\u001b[0;32m--> 390\u001b[0;31m                 \u001b[0;32mraise\u001b[0m \u001b[0mself\u001b[0m\u001b[0;34m.\u001b[0m\u001b[0m_exception\u001b[0m\u001b[0;34m\u001b[0m\u001b[0;34m\u001b[0m\u001b[0m\n\u001b[0m\u001b[1;32m    391\u001b[0m             \u001b[0;32mfinally\u001b[0m\u001b[0;34m:\u001b[0m\u001b[0;34m\u001b[0m\u001b[0;34m\u001b[0m\u001b[0m\n\u001b[1;32m    392\u001b[0m                 \u001b[0;31m# Break a reference cycle with the exception in self._exception\u001b[0m\u001b[0;34m\u001b[0m\u001b[0;34m\u001b[0m\u001b[0;34m\u001b[0m\u001b[0m\n",
      "\u001b[0;32m/usr/lib/python3.9/concurrent/futures/thread.py\u001b[0m in \u001b[0;36mrun\u001b[0;34m(self)\u001b[0m\n\u001b[1;32m     50\u001b[0m \u001b[0;34m\u001b[0m\u001b[0m\n\u001b[1;32m     51\u001b[0m         \u001b[0;32mtry\u001b[0m\u001b[0;34m:\u001b[0m\u001b[0;34m\u001b[0m\u001b[0;34m\u001b[0m\u001b[0m\n\u001b[0;32m---> 52\u001b[0;31m             \u001b[0mresult\u001b[0m \u001b[0;34m=\u001b[0m \u001b[0mself\u001b[0m\u001b[0;34m.\u001b[0m\u001b[0mfn\u001b[0m\u001b[0;34m(\u001b[0m\u001b[0;34m*\u001b[0m\u001b[0mself\u001b[0m\u001b[0;34m.\u001b[0m\u001b[0margs\u001b[0m\u001b[0;34m,\u001b[0m \u001b[0;34m**\u001b[0m\u001b[0mself\u001b[0m\u001b[0;34m.\u001b[0m\u001b[0mkwargs\u001b[0m\u001b[0;34m)\u001b[0m\u001b[0;34m\u001b[0m\u001b[0;34m\u001b[0m\u001b[0m\n\u001b[0m\u001b[1;32m     53\u001b[0m         \u001b[0;32mexcept\u001b[0m \u001b[0mBaseException\u001b[0m \u001b[0;32mas\u001b[0m \u001b[0mexc\u001b[0m\u001b[0;34m:\u001b[0m\u001b[0;34m\u001b[0m\u001b[0;34m\u001b[0m\u001b[0m\n\u001b[1;32m     54\u001b[0m             \u001b[0mself\u001b[0m\u001b[0;34m.\u001b[0m\u001b[0mfuture\u001b[0m\u001b[0;34m.\u001b[0m\u001b[0mset_exception\u001b[0m\u001b[0;34m(\u001b[0m\u001b[0mexc\u001b[0m\u001b[0;34m)\u001b[0m\u001b[0;34m\u001b[0m\u001b[0;34m\u001b[0m\u001b[0m\n",
      "\u001b[0;32m~/.local/lib/python3.9/site-packages/pyarrow/pandas_compat.py\u001b[0m in \u001b[0;36mconvert_column\u001b[0;34m(col, field)\u001b[0m\n\u001b[1;32m    579\u001b[0m             e.args += (\"Conversion failed for column {!s} with type {!s}\"\n\u001b[1;32m    580\u001b[0m                        .format(col.name, col.dtype),)\n\u001b[0;32m--> 581\u001b[0;31m             \u001b[0;32mraise\u001b[0m \u001b[0me\u001b[0m\u001b[0;34m\u001b[0m\u001b[0;34m\u001b[0m\u001b[0m\n\u001b[0m\u001b[1;32m    582\u001b[0m         \u001b[0;32mif\u001b[0m \u001b[0;32mnot\u001b[0m \u001b[0mfield_nullable\u001b[0m \u001b[0;32mand\u001b[0m \u001b[0mresult\u001b[0m\u001b[0;34m.\u001b[0m\u001b[0mnull_count\u001b[0m \u001b[0;34m>\u001b[0m \u001b[0;36m0\u001b[0m\u001b[0;34m:\u001b[0m\u001b[0;34m\u001b[0m\u001b[0;34m\u001b[0m\u001b[0m\n\u001b[1;32m    583\u001b[0m             raise ValueError(\"Field {} was non-nullable but pandas column \"\n",
      "\u001b[0;32m~/.local/lib/python3.9/site-packages/pyarrow/pandas_compat.py\u001b[0m in \u001b[0;36mconvert_column\u001b[0;34m(col, field)\u001b[0m\n\u001b[1;32m    573\u001b[0m \u001b[0;34m\u001b[0m\u001b[0m\n\u001b[1;32m    574\u001b[0m         \u001b[0;32mtry\u001b[0m\u001b[0;34m:\u001b[0m\u001b[0;34m\u001b[0m\u001b[0;34m\u001b[0m\u001b[0m\n\u001b[0;32m--> 575\u001b[0;31m             \u001b[0mresult\u001b[0m \u001b[0;34m=\u001b[0m \u001b[0mpa\u001b[0m\u001b[0;34m.\u001b[0m\u001b[0marray\u001b[0m\u001b[0;34m(\u001b[0m\u001b[0mcol\u001b[0m\u001b[0;34m,\u001b[0m \u001b[0mtype\u001b[0m\u001b[0;34m=\u001b[0m\u001b[0mtype_\u001b[0m\u001b[0;34m,\u001b[0m \u001b[0mfrom_pandas\u001b[0m\u001b[0;34m=\u001b[0m\u001b[0;32mTrue\u001b[0m\u001b[0;34m,\u001b[0m \u001b[0msafe\u001b[0m\u001b[0;34m=\u001b[0m\u001b[0msafe\u001b[0m\u001b[0;34m)\u001b[0m\u001b[0;34m\u001b[0m\u001b[0;34m\u001b[0m\u001b[0m\n\u001b[0m\u001b[1;32m    576\u001b[0m         except (pa.ArrowInvalid,\n\u001b[1;32m    577\u001b[0m                 \u001b[0mpa\u001b[0m\u001b[0;34m.\u001b[0m\u001b[0mArrowNotImplementedError\u001b[0m\u001b[0;34m,\u001b[0m\u001b[0;34m\u001b[0m\u001b[0;34m\u001b[0m\u001b[0m\n",
      "\u001b[0;32m~/.local/lib/python3.9/site-packages/pyarrow/array.pxi\u001b[0m in \u001b[0;36mpyarrow.lib.array\u001b[0;34m()\u001b[0m\n",
      "\u001b[0;32m~/.local/lib/python3.9/site-packages/pyarrow/array.pxi\u001b[0m in \u001b[0;36mpyarrow.lib._ndarray_to_array\u001b[0;34m()\u001b[0m\n",
      "\u001b[0;32m~/.local/lib/python3.9/site-packages/pyarrow/error.pxi\u001b[0m in \u001b[0;36mpyarrow.lib.check_status\u001b[0;34m()\u001b[0m\n",
      "\u001b[0;31mArrowInvalid\u001b[0m: (\"Could not convert '49204' with type str: tried to convert to double\", 'Conversion failed for column OTHERCPT4 with type object')"
     ]
    }
   ],
   "source": [
    "import feather\n",
    "join.to_feather(r'/home/kchen/Documents/nsqip_raw/procol/procol.feather')"
   ]
  },
  {
   "cell_type": "code",
   "execution_count": null,
   "metadata": {},
   "outputs": [],
   "source": []
  }
 ],
 "metadata": {
  "interpreter": {
   "hash": "916dbcbb3f70747c44a77c7bcd40155683ae19c65e1c03b4aa3499c5328201f1"
  },
  "kernelspec": {
   "display_name": "Python 3.9.5 64-bit",
   "name": "python3"
  },
  "language_info": {
   "codemirror_mode": {
    "name": "ipython",
    "version": 3
   },
   "file_extension": ".py",
   "mimetype": "text/x-python",
   "name": "python",
   "nbconvert_exporter": "python",
   "pygments_lexer": "ipython3",
   "version": "3.9.5"
  },
  "orig_nbformat": 4
 },
 "nbformat": 4,
 "nbformat_minor": 2
}
