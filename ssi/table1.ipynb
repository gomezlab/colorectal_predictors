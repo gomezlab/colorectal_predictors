{
 "cells": [
  {
   "cell_type": "code",
   "execution_count": 1,
   "metadata": {},
   "outputs": [],
   "source": [
    "from tableone import TableOne, load_dataset\n",
    "import pandas as pd"
   ]
  },
  {
   "cell_type": "code",
   "execution_count": 2,
   "metadata": {},
   "outputs": [
    {
     "name": "stderr",
     "output_type": "stream",
     "text": [
      "/usr/lib/python3/dist-packages/ipykernel/ipkernel.py:283: DeprecationWarning: `should_run_async` will not call `transform_cell` automatically in the future. Please pass the result to `transformed_cell` argument and any exception that happen during thetransform in `preprocessing_exc_tuple` in IPython 7.17 and above.\n",
      "  and should_run_async(code)\n"
     ]
    }
   ],
   "source": [
    "data = pd.read_csv(r'/home/kchen/Documents/ssi/data/table1ssi.csv', low_memory=False, na_values='Unknown')"
   ]
  },
  {
   "cell_type": "code",
   "execution_count": 3,
   "metadata": {},
   "outputs": [
    {
     "name": "stderr",
     "output_type": "stream",
     "text": [
      "/usr/lib/python3/dist-packages/ipykernel/ipkernel.py:283: DeprecationWarning: `should_run_async` will not call `transform_cell` automatically in the future. Please pass the result to `transformed_cell` argument and any exception that happen during thetransform in `preprocessing_exc_tuple` in IPython 7.17 and above.\n",
      "  and should_run_async(code)\n"
     ]
    }
   ],
   "source": [
    "data.loc[data['COL_INDICATION'] == 'Other-Enter ICD-10 for diagnosis', 'COL_INDICATION'] = 'Other'\n",
    "data.loc[data['COL_INDICATION'] == 'Other-Enter ICD-9 for diagnosis', 'COL_INDICATION'] = 'Other'\n",
    "data.loc[data['COL_INDICATION'] == 'Crohn\\'s disease', 'COL_INDICATION'] = 'Crohn\\'s Disease'\n"
   ]
  },
  {
   "cell_type": "code",
   "execution_count": 4,
   "metadata": {},
   "outputs": [
    {
     "name": "stderr",
     "output_type": "stream",
     "text": [
      "/usr/lib/python3/dist-packages/ipykernel/ipkernel.py:283: DeprecationWarning: `should_run_async` will not call `transform_cell` automatically in the future. Please pass the result to `transformed_cell` argument and any exception that happen during thetransform in `preprocessing_exc_tuple` in IPython 7.17 and above.\n",
      "  and should_run_async(code)\n"
     ]
    },
    {
     "data": {
      "text/plain": [
       "Colon cancer                         90114\n",
       "Other                                45512\n",
       "Chronic diverticular disease         36070\n",
       "Acute diverticulitis                 21681\n",
       "Non-malignant polyp                  20799\n",
       "Crohn's Disease                      15997\n",
       "Colon cancer w/ obstruction          11869\n",
       "Ulcerative colitis                    8679\n",
       "Rectal cancer                         8571\n",
       "Volvulus                              7098\n",
       "Rectal prolapse                       2472\n",
       "Bleeding                              1788\n",
       "Enterocolitis (e.g. C. Difficile)     1463\n",
       "Anal cancer                            420\n",
       "Name: COL_INDICATION, dtype: int64"
      ]
     },
     "execution_count": 4,
     "metadata": {},
     "output_type": "execute_result"
    }
   ],
   "source": [
    "data['COL_INDICATION'].value_counts()"
   ]
  },
  {
   "cell_type": "code",
   "execution_count": 5,
   "metadata": {},
   "outputs": [
    {
     "name": "stderr",
     "output_type": "stream",
     "text": [
      "/usr/lib/python3/dist-packages/ipykernel/ipkernel.py:283: DeprecationWarning: `should_run_async` will not call `transform_cell` automatically in the future. Please pass the result to `transformed_cell` argument and any exception that happen during thetransform in `preprocessing_exc_tuple` in IPython 7.17 and above.\n",
      "  and should_run_async(code)\n"
     ]
    },
    {
     "data": {
      "text/plain": [
       "Index(['CASEID', 'COL_CHEMO', 'COL_APPROACH', 'SEX', 'PRNCPTX', 'CPT',\n",
       "       'WORKRVU', 'INOUT', 'TRANST', 'AGE', 'OPERYR', 'ANESTHES', 'SURGSPEC',\n",
       "       'ELECTSURG', 'HEIGHT', 'WEIGHT', 'DIABETES', 'SMOKE', 'DYSPNEA',\n",
       "       'FNSTATUS2', 'VENTILAT', 'HXCOPD', 'ASCITES', 'HXCHF', 'HYPERMED',\n",
       "       'RENAFAIL', 'DIALYSIS', 'DISCANCR', 'WNDINF', 'STEROID', 'WTLOSS',\n",
       "       'BLEEDDIS', 'TRANSFUS', 'PRSEPIS', 'PRSODM', 'PRBUN', 'PRCREAT',\n",
       "       'PRALBUM', 'PRBILI', 'PRSGOT', 'PRALKPH', 'PRWBC', 'PRHCT', 'PRPLATE',\n",
       "       'PRPTT', 'PRINR', 'PRPT', 'OTHERCPT1', 'OTHERCPT2', 'OTHERCPT3',\n",
       "       'OTHERCPT4', 'OTHERCPT5', 'OTHERCPT6', 'OTHERCPT7', 'OTHERCPT8',\n",
       "       'OTHERCPT9', 'OTHERCPT10', 'CONCPT1', 'CONCPT2', 'CONCPT3', 'CONCPT4',\n",
       "       'CONCPT5', 'CONCPT6', 'CONCPT7', 'CONCPT8', 'CONCPT9', 'CONCPT10',\n",
       "       'EMERGNCY', 'WNDCLAS', 'ASACLAS', 'OPTIME', 'HTOODAY', 'SUPINFEC',\n",
       "       'SSSIPATOS', 'WNDINFD', 'DSSIPATOS', 'ORGSPCSSI', 'OSSIPATOS',\n",
       "       'PNAPATOS', 'VENTPATOS', 'UTIPATOS', 'SEPSISPATOS', 'SEPSHOCKPATOS',\n",
       "       'COL_INDICATION', 'COL_STEROID', 'COL_ORAL_ANTIBIOTIC',\n",
       "       'COL_MECH_BOWEL_PREP', 'COL_EMERGENT', 'COL_ICD9_INDICATION',\n",
       "       'COL_ICD9_EMERGENT', 'COL_ICD10_INDICATION', 'COL_ICD10_EMERGENT',\n",
       "       'miss', 'wndinf', 'incssi', 'BMI', 'ost', 'COMBCPT', 'RACE'],\n",
       "      dtype='object')"
      ]
     },
     "execution_count": 5,
     "metadata": {},
     "output_type": "execute_result"
    }
   ],
   "source": [
    "data.columns"
   ]
  },
  {
   "cell_type": "code",
   "execution_count": 6,
   "metadata": {},
   "outputs": [
    {
     "name": "stderr",
     "output_type": "stream",
     "text": [
      "/usr/lib/python3/dist-packages/ipykernel/ipkernel.py:283: DeprecationWarning: `should_run_async` will not call `transform_cell` automatically in the future. Please pass the result to `transformed_cell` argument and any exception that happen during thetransform in `preprocessing_exc_tuple` in IPython 7.17 and above.\n",
      "  and should_run_async(code)\n"
     ]
    }
   ],
   "source": [
    "cat_names = ['COL_CHEMO', 'COL_APPROACH', 'SEX', 'RACE','CPT','INOUT', 'TRANST','OPERYR','ANESTHES','SURGSPEC','ELECTSURG','DIABETES', 'SMOKE', 'DYSPNEA','FNSTATUS2', 'VENTILAT', 'HXCOPD', 'ASCITES', 'HXCHF', 'HYPERMED','RENAFAIL', 'DIALYSIS', 'DISCANCR','STEROID', 'WTLOSS','BLEEDDIS', 'TRANSFUS', 'PRSEPIS', 'EMERGNCY', 'WNDCLAS', 'ASACLAS','SSSIPATOS', 'DSSIPATOS', 'OSSIPATOS', 'PNAPATOS', 'VENTPATOS','UTIPATOS', 'SEPSISPATOS', 'SEPSHOCKPATOS', 'COL_INDICATION','COL_STEROID', 'COL_ORAL_ANTIBIOTIC', 'COL_MECH_BOWEL_PREP','COL_EMERGENT', 'COL_ICD9_EMERGENT', 'COL_ICD10_EMERGENT','ost','COMBCPT']\n",
    "\n",
    "cont_names = ['WORKRVU','AGE','HEIGHT', 'WEIGHT','PRSODM', 'PRBUN','PRWBC', 'PRHCT', 'PRPLATE', 'PRCREAT','OPTIME','HTOODAY','BMI']\n",
    "\n",
    "y_names=['wndinf']\n",
    "features = cat_names + cont_names + y_names\n",
    "data = data[features]\n",
    "groupby = 'wndinf'"
   ]
  },
  {
   "cell_type": "code",
   "execution_count": 7,
   "metadata": {},
   "outputs": [
    {
     "name": "stderr",
     "output_type": "stream",
     "text": [
      "/usr/lib/python3/dist-packages/ipykernel/ipkernel.py:283: DeprecationWarning: `should_run_async` will not call `transform_cell` automatically in the future. Please pass the result to `transformed_cell` argument and any exception that happen during thetransform in `preprocessing_exc_tuple` in IPython 7.17 and above.\n",
      "  and should_run_async(code)\n",
      "/home/kchen/.local/lib/python3.9/site-packages/tableone/tableone.py:991: FutureWarning: Using the level keyword in DataFrame and Series aggregations is deprecated and will be removed in a future version. Use groupby instead. df.sum(level=1) should use df.groupby(level=1).sum().\n",
      "  df['percent'] = df['freq'].div(df.freq.sum(level=0),\n",
      "/home/kchen/.local/lib/python3.9/site-packages/tableone/tableone.py:991: FutureWarning: Using the level keyword in DataFrame and Series aggregations is deprecated and will be removed in a future version. Use groupby instead. df.sum(level=1) should use df.groupby(level=1).sum().\n",
      "  df['percent'] = df['freq'].div(df.freq.sum(level=0),\n"
     ]
    }
   ],
   "source": [
    "mytable = TableOne(data, categorical=cat_names, groupby=groupby, pval=True)"
   ]
  },
  {
   "cell_type": "code",
   "execution_count": 8,
   "metadata": {},
   "outputs": [
    {
     "name": "stderr",
     "output_type": "stream",
     "text": [
      "/usr/lib/python3/dist-packages/ipykernel/ipkernel.py:283: DeprecationWarning: `should_run_async` will not call `transform_cell` automatically in the future. Please pass the result to `transformed_cell` argument and any exception that happen during thetransform in `preprocessing_exc_tuple` in IPython 7.17 and above.\n",
      "  and should_run_async(code)\n"
     ]
    }
   ],
   "source": [
    "mytable.to_excel('ssi_table1.xlsx')"
   ]
  },
  {
   "cell_type": "code",
   "execution_count": null,
   "metadata": {},
   "outputs": [],
   "source": []
  }
 ],
 "metadata": {
  "interpreter": {
   "hash": "916dbcbb3f70747c44a77c7bcd40155683ae19c65e1c03b4aa3499c5328201f1"
  },
  "kernelspec": {
   "display_name": "Python 3.9.5 64-bit",
   "name": "python3"
  },
  "language_info": {
   "codemirror_mode": {
    "name": "ipython",
    "version": 3
   },
   "file_extension": ".py",
   "mimetype": "text/x-python",
   "name": "python",
   "nbconvert_exporter": "python",
   "pygments_lexer": "ipython3",
   "version": "3.9.5"
  },
  "orig_nbformat": 4
 },
 "nbformat": 4,
 "nbformat_minor": 2
}
