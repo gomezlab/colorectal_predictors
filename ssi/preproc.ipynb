{
 "cells": [
  {
   "cell_type": "code",
   "execution_count": 1,
   "metadata": {},
   "outputs": [],
   "source": [
    "import numpy as np\n",
    "import pandas as pd\n",
    "from sklearn.preprocessing import OneHotEncoder\n",
    "from sklearn.preprocessing import RobustScaler\n",
    "from sklearn.impute import SimpleImputer\n",
    "from sklearn.preprocessing import LabelEncoder\n",
    "from matplotlib import pyplot"
   ]
  },
  {
   "cell_type": "code",
   "execution_count": 2,
   "metadata": {},
   "outputs": [],
   "source": [
    "pd.options.display.max_rows = 50\n",
    "pd.options.display.max_columns = 200"
   ]
  },
  {
   "cell_type": "code",
   "execution_count": 3,
   "metadata": {},
   "outputs": [],
   "source": [
    "#list columns to be included\n",
    "include = ['CaseID', 'SEX', 'RACE_NEW', 'ETHNICITY_HISPANIC', 'PRNCPTX', 'CPT', 'WORKRVU', 'Age', 'ANESTHES', 'SURGSPEC', 'ELECTSURG', 'EMERGNCY', 'WNDCLAS', 'ASACLAS', 'DIABETES', 'SMOKE', 'DYSPNEA', 'FNSTATUS2', 'VENTILAT', 'HXCOPD', 'ASCITES', 'HXCHF', 'HYPERMED', 'RENAFAIL', 'DIALYSIS', 'DISCANCR', 'WNDINF', 'STEROID', 'WTLOSS', 'BLEEDDIS', 'TRANSFUS', 'PRSEPIS', 'HEIGHT', 'WEIGHT', 'PRSODM', 'PRBUN', 'PRCREAT', 'PRALBUM', 'PRBILI', 'PRSGOT', 'PRALKPH', 'PRWBC', 'PRHCT', 'PRPLATE', 'PRPTT', 'PRINR', 'PRPT', 'SEPSHOCKPATOS', 'OTHERCPT1', 'CONCPT1', 'OTHERCPT2', 'CONCPT2', 'INOUT', 'TRANST','OperYR', 'OPTIME', 'HtoODay', 'SSSIPATOS', 'DSSIPATOS', 'OSSIPATOS', 'PNAPATOS', 'VENTPATOS', 'UTIPATOS', 'SEPSISPATOS', 'SEPSHOCKPATOS', 'OPTIME','SUPINFEC', 'WNDINFD', 'ORGSPCSSI']\n",
    "\n",
    "CPTs = ['OTHERCPT1', 'OTHERCPT2', 'OTHERCPT3', 'OTHERCPT4', 'OTHERCPT5', 'OTHERCPT6', 'OTHERCPT7', 'OTHERCPT8', 'OTHERCPT9', 'OTHERCPT10', 'CONCPT1', 'CONCPT2', 'CONCPT3', 'CONCPT4', 'CONCPT5', 'CONCPT6', 'CONCPT7', 'CONCPT8', 'CONCPT9', 'CONCPT10',]\n",
    "\n",
    "col_features = ['COL_STEROID', 'COL_MECH_BOWEL_PREP', 'COL_ORAL_ANTIBIOTIC', 'COL_CHEMO', 'COL_INDICATION', 'COL_ICD9_INDICATION', 'COL_EMERGENT', 'COL_ICD9_EMERGENT', 'COL_APPROACH', 'COL_ICD10_INDICATION', 'COL_ICD10_EMERGENT']\n",
    "incl = list(map(lambda x:x.upper(), include))\n",
    "total = col_features + incl + CPTs"
   ]
  },
  {
   "cell_type": "code",
   "execution_count": 4,
   "metadata": {},
   "outputs": [],
   "source": [
    "#make sure CPT's are read in as strings\n",
    "CPT_dict = {'OTHERCPT1': str, 'OTHERCPT2':str, 'OTHERCPT3':str, 'OTHERCPT4':str, 'OTHERCPT5':str, 'OTHERCPT6':str, 'OTHERCPT7':str, 'OTHERCPT8':str, 'OTHERCPT9':str, 'OTHERCPT10':str, 'CONCPT1':str, 'CONCPT2':str,'CONCPT3':str,'CONCPT4':str,'CONCPT5':str,'CONCPT6':str,'CONCPT7':str,'CONCPT8':str,'CONCPT9':str,'CONCPT10':str}"
   ]
  },
  {
   "cell_type": "code",
   "execution_count": 5,
   "metadata": {},
   "outputs": [],
   "source": [
    "#read in the data from raw csv\n",
    "data = pd.read_csv(r'/home/kchen/Documents/nsqip_raw/procol/procol.csv', index_col='CASEID', usecols=total, low_memory=False, dtype=CPT_dict, na_values=[-99, '-99', 'Unknown'])"
   ]
  },
  {
   "cell_type": "code",
   "execution_count": 6,
   "metadata": {},
   "outputs": [
    {
     "data": {
      "text/plain": [
       "(276232, 93)"
      ]
     },
     "execution_count": 6,
     "metadata": {},
     "output_type": "execute_result"
    }
   ],
   "source": [
    "data.shape"
   ]
  },
  {
   "cell_type": "code",
   "execution_count": 10,
   "metadata": {},
   "outputs": [],
   "source": [
    "#create a variable called 'miss' that indicates if primary outcomes are missing\n",
    "data['miss'] = ((data['SUPINFEC'].isnull()) | (data['WNDINFD'].isnull()) | (data['ORGSPCSSI'].isnull()))"
   ]
  },
  {
   "cell_type": "code",
   "execution_count": 11,
   "metadata": {},
   "outputs": [
    {
     "data": {
      "text/plain": [
       "False    275152\n",
       "True       1080\n",
       "Name: miss, dtype: int64"
      ]
     },
     "execution_count": 11,
     "metadata": {},
     "output_type": "execute_result"
    }
   ],
   "source": [
    "data['miss'].value_counts()"
   ]
  },
  {
   "cell_type": "code",
   "execution_count": 15,
   "metadata": {},
   "outputs": [],
   "source": [
    "#drop rows with missing primary outcomes\n",
    "data.drop(data[data['miss'] == True].index, inplace = True)"
   ]
  },
  {
   "cell_type": "code",
   "execution_count": 19,
   "metadata": {},
   "outputs": [
    {
     "data": {
      "text/plain": [
       "False    275152\n",
       "Name: miss, dtype: int64"
      ]
     },
     "execution_count": 19,
     "metadata": {},
     "output_type": "execute_result"
    }
   ],
   "source": [
    "#check they have been dropped\n",
    "data['miss'].value_counts()"
   ]
  },
  {
   "cell_type": "code",
   "execution_count": 16,
   "metadata": {},
   "outputs": [
    {
     "data": {
      "text/plain": [
       "No Complication               0.955581\n",
       "Superficial Incisional SSI    0.044419\n",
       "Name: SUPINFEC, dtype: float64"
      ]
     },
     "execution_count": 16,
     "metadata": {},
     "output_type": "execute_result"
    }
   ],
   "source": [
    "data['SUPINFEC'].value_counts(normalize=True)"
   ]
  },
  {
   "cell_type": "code",
   "execution_count": 17,
   "metadata": {},
   "outputs": [
    {
     "data": {
      "text/plain": [
       "No Complication        0.991052\n",
       "Deep Incisional SSI    0.008948\n",
       "Name: WNDINFD, dtype: float64"
      ]
     },
     "execution_count": 17,
     "metadata": {},
     "output_type": "execute_result"
    }
   ],
   "source": [
    "data['WNDINFD'].value_counts(normalize=True)"
   ]
  },
  {
   "cell_type": "code",
   "execution_count": 18,
   "metadata": {},
   "outputs": [
    {
     "data": {
      "text/plain": [
       "No Complication    0.940953\n",
       "Organ/Space SSI    0.059047\n",
       "Name: ORGSPCSSI, dtype: float64"
      ]
     },
     "execution_count": 18,
     "metadata": {},
     "output_type": "execute_result"
    }
   ],
   "source": [
    "data['ORGSPCSSI'].value_counts(normalize=True)"
   ]
  },
  {
   "cell_type": "code",
   "execution_count": 21,
   "metadata": {},
   "outputs": [],
   "source": [
    "#create the primary outcome 'ssi', which is superficial, deep, and organ-space SSI combined\n",
    "data['ssi'] = ((data['SUPINFEC'] == 'Superficial Incisional SSI') | (data['WNDINFD'] == 'Deep Incisional SSI') | (data['ORGSPCSSI'] == 'Organ/Space SSI'))"
   ]
  },
  {
   "cell_type": "code",
   "execution_count": 22,
   "metadata": {},
   "outputs": [
    {
     "data": {
      "text/plain": [
       "False    0.893226\n",
       "True     0.106774\n",
       "Name: ssi, dtype: float64"
      ]
     },
     "execution_count": 22,
     "metadata": {},
     "output_type": "execute_result"
    }
   ],
   "source": [
    "data['ssi'].value_counts(normalize=True, dropna=False)"
   ]
  },
  {
   "cell_type": "code",
   "execution_count": 19,
   "metadata": {},
   "outputs": [
    {
     "data": {
      "text/plain": [
       "0    262930\n",
       "1     12222\n",
       "Name: SUPINFEC, dtype: int64"
      ]
     },
     "execution_count": 19,
     "metadata": {},
     "output_type": "execute_result"
    }
   ],
   "source": [
    "#recode 'SUPINFEC' to 0 for SSI and 1 for non-SSI\n",
    "data['SUPINFEC'] = data['SUPINFEC'].replace(['Superficial Incisional SSI', 'No Complication'], [1, 0])\n",
    "#recode 'WNDINFD' to 0 for SSI and 1 for non-SSI\n",
    "data['WNDINFD'] = data['WNDINFD'].replace(['Deep Incisional SSI', 'No Complication'], [1, 0])\n",
    "#recode 'ORGSPCSSI' to 0 for SSI and 1 for non-SSI\n",
    "data['ORGSPCSSI'] = data['ORGSPCSSI'].replace(['Organ/Space SSI', 'No Complication'], [1, 0])"
   ]
  },
  {
   "cell_type": "code",
   "execution_count": 25,
   "metadata": {},
   "outputs": [],
   "source": [
    "#Create BMI column\n",
    "lbs_to_kg_ratio = 0.453592\n",
    "inch_to_meter_ratio = 0.0254\n",
    "\n",
    "data['HEIGHT'] *= inch_to_meter_ratio\n",
    "data['WEIGHT'] *= lbs_to_kg_ratio\n",
    "\n",
    "data['BMI'] = data['WEIGHT']/(data['HEIGHT']**2)\n"
   ]
  },
  {
   "cell_type": "code",
   "execution_count": 26,
   "metadata": {},
   "outputs": [],
   "source": [
    "#BMI <12 set to 12, BMI >50 set to 50\n",
    "data.loc[data['BMI'] > 60, 'BMI'] = 60\n",
    "data.loc[data['BMI'] < 12, 'BMI'] = 12\n"
   ]
  },
  {
   "cell_type": "code",
   "execution_count": 27,
   "metadata": {},
   "outputs": [
    {
     "data": {
      "text/plain": [
       "CASEID\n",
       "6629599     44.0\n",
       "6629786     38.0\n",
       "6630805     84.0\n",
       "6630866     71.0\n",
       "6631518     50.0\n",
       "            ... \n",
       "10363817    50.0\n",
       "10363850    53.0\n",
       "10363959    65.0\n",
       "10363964    41.0\n",
       "10363966    72.0\n",
       "Name: AGE, Length: 275152, dtype: float64"
      ]
     },
     "execution_count": 27,
     "metadata": {},
     "output_type": "execute_result"
    }
   ],
   "source": [
    "#Convert 90+ to 91\n",
    "data.loc[data['AGE'] == '90+', 'AGE'] = 91"
   ]
  },
  {
   "cell_type": "code",
   "execution_count": 28,
   "metadata": {},
   "outputs": [
    {
     "data": {
      "text/plain": [
       "0    202782\n",
       "1     72370\n",
       "Name: ost, dtype: int64"
      ]
     },
     "execution_count": 28,
     "metadata": {},
     "output_type": "execute_result"
    }
   ],
   "source": [
    "#list CPT codes including ostomy placement and create column 'ost' marking ostomy\n",
    "data['ost'] = 0\n",
    "ost = [44211, 44212, 45113, 45119, 44155, 44157, 44158, 44125, 44187, 44141, 44143, 44144, 44146, 44150, 44151, 44206, 44208, 44210, 44187, 44188, 44320, 44310]\n",
    "for CPT in ost:\n",
    "    data.loc[data['CPT'] == CPT, 'ost'] = 1\n",
    "data['ost'].value_counts(dropna=False)\n",
    "#create a list of CPT's as strings and search other+concurrent CPT for those\n",
    "str_ost = []\n",
    "for x in ost:  \n",
    "    str_ost.append(str(x))\n",
    "for i in range(1,11):\n",
    "    for CPT in str_ost:\n",
    "        data.loc[data['OTHERCPT%s' % i].str.contains(CPT, na=False), 'ost'] = 1\n",
    "        data.loc[data['CONCPT%s' % i].str.contains(CPT, na=False), 'ost'] = 1\n",
    "data['ost'].value_counts(dropna=False)"
   ]
  },
  {
   "cell_type": "code",
   "execution_count": 29,
   "metadata": {},
   "outputs": [
    {
     "data": {
      "text/plain": [
       "Laparoscopic                                    130393\n",
       "Open (planned)                                  100059\n",
       "Robotic                                          23864\n",
       "Laparoscopic w/ unplanned conversion to open     20344\n",
       "Other                                              405\n",
       "Name: COL_APPROACH, dtype: int64"
      ]
     },
     "execution_count": 29,
     "metadata": {},
     "output_type": "execute_result"
    }
   ],
   "source": [
    "#condense 'COL_APPROACH' column categories\n",
    "data.loc[data['COL_APPROACH'] == 'SILS', 'COL_APPROACH'] = 'Laparoscopic'\n",
    "data.loc[data['COL_APPROACH'] == 'SILS w/ open assist', 'COL_APPROACH'] = 'Laparoscopic'\n",
    "data.loc[data['COL_APPROACH'] == 'SILS w/ unplanned conversion to open', 'COL_APPROACH'] = 'Laparoscopic w/ unplanned conversion to open'\n",
    "\n",
    "data.loc[data['COL_APPROACH'] == 'Endoscopic', 'COL_APPROACH'] = 'Laparoscopic'\n",
    "data.loc[data['COL_APPROACH'] == 'Endoscopic w/ open assist', 'COL_APPROACH'] = 'Laparoscopic'\n",
    "data.loc[data['COL_APPROACH'] == 'Endoscopic w/ unplanned conversion to open', 'COL_APPROACH'] = 'Laparoscopic w/ unplanned conversion to open'\n",
    "\n",
    "data.loc[data['COL_APPROACH'] == 'NOTES', 'COL_APPROACH'] = 'Laparoscopic'\n",
    "data.loc[data['COL_APPROACH'] == 'NOTES w/ open assist', 'COL_APPROACH'] = 'Laparoscopic'\n",
    "data.loc[data['COL_APPROACH'] == 'NOTES w/ unplanned conversion to open', 'COL_APPROACH'] = 'Laparoscopic w/ unplanned conversion to open'\n",
    "\n",
    "data.loc[data['COL_APPROACH'] == 'Other MIS approach', 'COL_APPROACH'] = 'Laparoscopic'\n",
    "data.loc[data['COL_APPROACH'] == 'Other MIS approach w/ open assist', 'COL_APPROACH'] = 'Laparoscopic'\n",
    "data.loc[data['COL_APPROACH'] == 'Other MIS approach w/ unplanned conversion to open', 'COL_APPROACH'] = 'Laparoscopic w/ unplanned conversion to open'\n",
    "\n",
    "data.loc[data['COL_APPROACH'] == 'Hybrid', 'COL_APPROACH'] = 'Laparoscopic'\n",
    "data.loc[data['COL_APPROACH'] == 'Hybrid w/ open assist', 'COL_APPROACH'] = 'Laparoscopic'\n",
    "data.loc[data['COL_APPROACH'] == 'Hybrid w/ unplanned conversion to open', 'COL_APPROACH'] = 'Laparoscopic w/ unplanned conversion to open'\n",
    "\n",
    "data.loc[data['COL_APPROACH'] == 'Robotic', 'COL_APPROACH'] = 'Robotic'\n",
    "data.loc[data['COL_APPROACH'] == 'Robotic w/ open assist', 'COL_APPROACH'] = 'Robotic'\n",
    "data.loc[data['COL_APPROACH'] == 'Robotic w/ unplanned conversion to open', 'COL_APPROACH'] = 'Laparoscopic w/ unplanned conversion to open'\n",
    "\n",
    "data.loc[data['COL_APPROACH'] == 'Laparoscopic w/ open assist', 'COL_APPROACH'] = 'Laparoscopic'\n",
    "data.loc[data['COL_APPROACH'] == 'Laparoscopic Hand Assisted', 'COL_APPROACH'] = 'Laparoscopic'\n",
    "data.loc[data['COL_APPROACH'] == 'Laparoscopic w/ unplanned conversion to Open', 'COL_APPROACH'] = 'Laparoscopic w/ unplanned conversion to open'\n",
    "\n",
    "data.loc[data['COL_APPROACH'] == 'Open', 'COL_APPROACH'] = 'Open (planned)'\n",
    "\n",
    "data['COL_APPROACH'].value_counts()"
   ]
  },
  {
   "cell_type": "code",
   "execution_count": 30,
   "metadata": {},
   "outputs": [],
   "source": [
    "data['COMBCPT'] = 0"
   ]
  },
  {
   "cell_type": "code",
   "execution_count": 31,
   "metadata": {},
   "outputs": [],
   "source": [
    "#condense 'CPT' categories to fewer/simpler categories\n",
    "data.loc[data['CPT'] == 44204, 'COMBCPT'] = 'Laparoscopic partial colectomy'\n",
    "data.loc[data['CPT'] == 44207, 'COMBCPT'] = 'Laparoscopic L colectomy'\n",
    "data.loc[data['CPT'] == 44208, 'COMBCPT'] = 'Laparoscopic L colectomy'\n",
    "data.loc[data['CPT'] == 44206, 'COMBCPT'] = 'Laparoscopic L colectomy'\n",
    "data.loc[data['CPT'] == 44205, 'COMBCPT'] = 'Laparoscopic R colectomy'\n",
    "data.loc[data['CPT'] == 44140, 'COMBCPT'] = 'Partial colectomy'\n",
    "data.loc[data['CPT'] == 44144, 'COMBCPT'] = 'Partial colectomy'\n",
    "data.loc[data['CPT'] == 44141, 'COMBCPT'] = 'Partial colectomy'\n",
    "data.loc[data['CPT'] == 44160, 'COMBCPT'] = 'R colectomy'\n",
    "data.loc[data['CPT'] == 44145, 'COMBCPT'] = 'L colectomy'\n",
    "data.loc[data['CPT'] == 44143, 'COMBCPT'] = 'L colectomy'\n",
    "data.loc[data['CPT'] == 44146, 'COMBCPT'] = 'L colectomy'\n",
    "data.loc[data['CPT'] == 44146, 'COMBCPT'] = 'L colectomy'\n",
    "data.loc[data['CPT'] == 44210, 'COMBCPT'] = 'Laparoscopic total colectomy'\n",
    "data.loc[data['CPT'] == 44150, 'COMBCPT'] = 'Total colectomy'\n",
    "data.loc[data['CPT'] == 44151, 'COMBCPT'] = 'Total colectomy'\n",
    "data.loc[data['CPT'] == 44156, 'COMBCPT'] = 'Total colectomy'\n",
    "data.loc[data['CPT'] == 44157, 'COMBCPT'] = 'Total colectomy'\n",
    "data.loc[data['CPT'] == 44158, 'COMBCPT'] = 'Total colectomy'\n",
    "data.loc[data['CPT'] == 45110, 'COMBCPT'] = 'APR'\n",
    "data.loc[data['CPT'] == 45112, 'COMBCPT'] = 'APR'\n",
    "data.loc[data['CPT'] == 45395, 'COMBCPT'] = 'Laparoscopic APR'\n",
    "data.loc[data['CPT'] == 45130, 'COMBCPT'] = 'Proctectomy, perineal approach'\n",
    "data.loc[data['CPT'] == 45123, 'COMBCPT'] = 'Proctectomy, perineal approach'\n",
    "data.loc[data['CPT'] == 45135, 'COMBCPT'] = 'Proctectomy, perineal approach'\n",
    "data.loc[data['CPT'] == 45121, 'COMBCPT'] = 'Proctectomy, perineal approach'\n",
    "data.loc[data['CPT'] == 45395, 'COMBCPT'] = 'Laparoscopic LAR'\n",
    "data.loc[data['CPT'] == 45111, 'COMBCPT'] = 'LAR'\n",
    "data.loc[data['CPT'] == 45113, 'COMBCPT'] = 'LAR'\n",
    "data.loc[data['CPT'] == 45119, 'COMBCPT'] = 'LAR'\n",
    "data.loc[data['CPT'] == 45120, 'COMBCPT'] = 'LAR'\n",
    "data.loc[data['CPT'] == 45397, 'COMBCPT'] = 'LAR'\n",
    "\n",
    "data.loc[data['CPT'] == 44212, 'COMBCPT'] = 'Laparoscopic proctocolectomy'\n",
    "data.loc[data['CPT'] == 44211, 'COMBCPT'] = 'Laparoscopic proctocolectomy'\n",
    "data.loc[data['CPT'] == 44155, 'COMBCPT'] = 'Proctocolectomy'\n",
    "data.loc[data['CPT'] == 44156, 'COMBCPT'] = 'Proctocolectomy'\n",
    "\n",
    "\n",
    "data.loc[data['CPT'] == 45126, 'COMBCPT'] = 'Pelvic exenteration'\n",
    "\n",
    "data.loc[data['CPT'] == 44147, 'COMBCPT'] = 'Colectomy, combined transanal approach'\n",
    "data.loc[data['CPT'] == 45550, 'COMBCPT'] = 'Laparoscopic rectopexy'\n",
    "data.loc[data['CPT'] == 45402, 'COMBCPT'] = 'Laparoscopic rectopexy'\n",
    "\n",
    "data.loc[data['CPT'] == 45114, 'COMBCPT'] = 'Proctectomy, transsacral approach'\n",
    "data.loc[data['CPT'] == 45160, 'COMBCPT'] = 'Proctectomy, transsacral approach'\n",
    "data.loc[data['CPT'] == 45116, 'COMBCPT'] = 'Proctectomy, transsacral approach'\n"
   ]
  },
  {
   "cell_type": "code",
   "execution_count": 32,
   "metadata": {},
   "outputs": [
    {
     "data": {
      "text/plain": [
       "Laparoscopic partial colectomy            52111\n",
       "Laparoscopic L colectomy                  47321\n",
       "Partial colectomy                         41307\n",
       "L colectomy                               40108\n",
       "Laparoscopic R colectomy                  35328\n",
       "R colectomy                               26410\n",
       "Total colectomy                            7596\n",
       "Laparoscopic total colectomy               6850\n",
       "LAR                                        4432\n",
       "APR                                        3847\n",
       "Laparoscopic LAR                           2977\n",
       "Proctectomy, perineal approach             2201\n",
       "Laparoscopic proctocolectomy               2183\n",
       "Proctocolectomy                             963\n",
       "Laparoscopic rectopexy                      565\n",
       "Pelvic exenteration                         446\n",
       "Colectomy, combined transanal approach      392\n",
       "Proctectomy, transsacral approach           115\n",
       "Name: COMBCPT, dtype: int64"
      ]
     },
     "execution_count": 32,
     "metadata": {},
     "output_type": "execute_result"
    }
   ],
   "source": [
    "data['COMBCPT'].value_counts()"
   ]
  },
  {
   "cell_type": "code",
   "execution_count": 33,
   "metadata": {},
   "outputs": [
    {
     "data": {
      "text/plain": [
       "RACE_NEW                             ETHNICITY_HISPANIC\n",
       "American Indian or Alaska Native     No                      1029\n",
       "                                     Yes                       92\n",
       "Asian                                No                      8158\n",
       "                                     Yes                       53\n",
       "Black or African American            No                     23525\n",
       "                                     Yes                      234\n",
       "Native Hawaiian or Pacific Islander  No                       551\n",
       "                                     Yes                       32\n",
       "Unknown/Not Reported                 No                      5116\n",
       "                                     Yes                     4394\n",
       "White                                No                    190646\n",
       "                                     Yes                     8937\n",
       "Name: ETHNICITY_HISPANIC, dtype: int64"
      ]
     },
     "execution_count": 33,
     "metadata": {},
     "output_type": "execute_result"
    }
   ],
   "source": [
    "#generate a new column describing race and ethnicity\n",
    "data.groupby('RACE_NEW')['ETHNICITY_HISPANIC'].value_counts()"
   ]
  },
  {
   "cell_type": "code",
   "execution_count": 34,
   "metadata": {},
   "outputs": [],
   "source": [
    "data['RACE'] = data['RACE_NEW']"
   ]
  },
  {
   "cell_type": "code",
   "execution_count": 35,
   "metadata": {},
   "outputs": [
    {
     "data": {
      "text/plain": [
       "White                                  194329\n",
       "Unknown/Not Reported                    32965\n",
       "Black or African American               24277\n",
       "Hispanic                                13742\n",
       "Asian                                    8244\n",
       "American Indian or Alaska Native         1039\n",
       "Native Hawaiian or Pacific Islander       556\n",
       "Name: RACE, dtype: int64"
      ]
     },
     "execution_count": 35,
     "metadata": {},
     "output_type": "execute_result"
    }
   ],
   "source": [
    "data.loc[data['ETHNICITY_HISPANIC'] == 'Yes', 'RACE'] = 'Hispanic'\n",
    "data['RACE'].value_counts(dropna=False)"
   ]
  },
  {
   "cell_type": "code",
   "execution_count": 36,
   "metadata": {},
   "outputs": [
    {
     "data": {
      "text/plain": [
       "White                                  194329\n",
       "Unknown                                 32965\n",
       "Black or African American               24277\n",
       "Hispanic                                13742\n",
       "Asian                                    8244\n",
       "American Indian or Alaska Native         1039\n",
       "Native Hawaiian or Pacific Islander       556\n",
       "Name: RACE, dtype: int64"
      ]
     },
     "execution_count": 36,
     "metadata": {},
     "output_type": "execute_result"
    }
   ],
   "source": [
    "data['RACE'] = data['RACE'].fillna('Unknown/Not Reported')\n",
    "\n",
    "#Replace 'Unknown/Not Reported' with 'Unknown'\n",
    "\n",
    "data['RACE'] = data['RACE'].replace('Unknown/Not Reported', 'Unknown')\n",
    "data['RACE'].value_counts(dropna=False)"
   ]
  },
  {
   "cell_type": "code",
   "execution_count": 37,
   "metadata": {},
   "outputs": [],
   "source": [
    "#drop the separate race and ethnicity columns\n",
    "data.drop(['RACE_NEW', 'ETHNICITY_HISPANIC'], axis=1, inplace=True)"
   ]
  },
  {
   "cell_type": "code",
   "execution_count": 38,
   "metadata": {},
   "outputs": [
    {
     "data": {
      "text/plain": [
       "Colon cancer                         90117\n",
       "Chronic diverticular disease         36070\n",
       "Other-Enter ICD-10 for diagnosis     29838\n",
       "Acute diverticulitis                 21681\n",
       "Non-malignant polyp                  20076\n",
       "Other-Enter ICD-9 for diagnosis      16393\n",
       "Crohn's Disease                      15997\n",
       "Colon cancer w/ obstruction          11870\n",
       "Ulcerative colitis                    8679\n",
       "Rectal cancer                         8571\n",
       "Volvulus                              7098\n",
       "Rectal prolapse                       2472\n",
       "Bleeding                              1788\n",
       "Enterocolitis (e.g. C. Difficile)     1463\n",
       "Anal cancer                            420\n",
       "Name: COL_INDICATION, dtype: int64"
      ]
     },
     "execution_count": 38,
     "metadata": {},
     "output_type": "execute_result"
    }
   ],
   "source": [
    "data['COL_INDICATION'].value_counts()"
   ]
  },
  {
   "cell_type": "code",
   "execution_count": 39,
   "metadata": {},
   "outputs": [
    {
     "data": {
      "text/plain": [
       "Colon cancer                         90114\n",
       "Chronic diverticular disease         36070\n",
       "Other-Enter ICD-10 for diagnosis     29838\n",
       "Acute diverticulitis                 21681\n",
       "Non-malignant polyp                  20799\n",
       "Crohn's Disease                      15997\n",
       "Other-Enter ICD-9 for diagnosis      15674\n",
       "Colon cancer w/ obstruction          11869\n",
       "Ulcerative colitis                    8679\n",
       "Rectal cancer                         8571\n",
       "Volvulus                              7098\n",
       "Rectal prolapse                       2472\n",
       "Bleeding                              1788\n",
       "Enterocolitis (e.g. C. Difficile)     1463\n",
       "Anal cancer                            420\n",
       "Name: COL_INDICATION, dtype: int64"
      ]
     },
     "execution_count": 39,
     "metadata": {},
     "output_type": "execute_result"
    }
   ],
   "source": [
    "#add an additional indication from the ICD9 codes\n",
    "data.loc[data['COL_ICD9_INDICATION'] == '211.3', 'COL_INDICATION'] = 'Non-malignant polyp'\n",
    "data['COL_INDICATION'].value_counts()"
   ]
  },
  {
   "cell_type": "code",
   "execution_count": 40,
   "metadata": {},
   "outputs": [],
   "source": [
    "#save out the dataframe to csv for use in the table1 script\n",
    "data.to_csv(r'/media/kchen/2TB/kchen_backup/ssi/data/table1ssi.csv')"
   ]
  },
  {
   "cell_type": "code",
   "execution_count": 41,
   "metadata": {},
   "outputs": [],
   "source": [
    "#drop the missing column\n",
    "outcomes = ['miss']\n",
    "data.drop(outcomes, axis=1, inplace=True)"
   ]
  },
  {
   "cell_type": "code",
   "execution_count": 42,
   "metadata": {},
   "outputs": [],
   "source": [
    "#define the numerical and categorical columns\n",
    "num_cols = ['AGE','HEIGHT','WEIGHT','BMI','PRSODM','PRBUN','PRCREAT','PRALBUM','PRBILI','PRSGOT','PRALKPH','PRWBC','PRHCT','PRPLATE','PRPTT','PRINR','PRPT','OPTIME', 'HTOODAY','WORKRVU']\n",
    "cat_cols = list(set(total) - set(num_cols) - set(outcomes) - set(['CASEID','ETHNICITY_HISPANIC','RACE_NEW']))\n",
    "cat_cols.append('RACE')"
   ]
  },
  {
   "cell_type": "code",
   "execution_count": 43,
   "metadata": {},
   "outputs": [],
   "source": [
    "#create a copy to work with\n",
    "data_imputed = data.copy()"
   ]
  },
  {
   "cell_type": "code",
   "execution_count": 44,
   "metadata": {},
   "outputs": [],
   "source": [
    "#drop the other and concurrent CPT columns\n",
    "drop_CPT = ['OTHERCPT2', 'OTHERCPT3', 'OTHERCPT4', 'OTHERCPT5', 'OTHERCPT6', 'OTHERCPT7', 'OTHERCPT8', 'OTHERCPT9', 'OTHERCPT10', 'CONCPT2', 'CONCPT3', 'CONCPT4', 'CONCPT5', 'CONCPT6', 'CONCPT7', 'CONCPT8', 'CONCPT9', 'CONCPT10',]\n",
    "data_imputed.drop(drop_CPT, axis=1, inplace=True)"
   ]
  },
  {
   "cell_type": "code",
   "execution_count": 46,
   "metadata": {},
   "outputs": [],
   "source": [
    "cat_cols = list(set(cat_cols) - set(drop_CPT))"
   ]
  },
  {
   "cell_type": "code",
   "execution_count": 47,
   "metadata": {},
   "outputs": [],
   "source": [
    "#fill in missing categorical values with 'Unknown'\n",
    "for col in cat_cols:\n",
    "    data_imputed[col].fillna(value='Unknown', inplace=True)"
   ]
  },
  {
   "cell_type": "code",
   "execution_count": 48,
   "metadata": {},
   "outputs": [
    {
     "data": {
      "text/html": [
       "<div>\n",
       "<style scoped>\n",
       "    .dataframe tbody tr th:only-of-type {\n",
       "        vertical-align: middle;\n",
       "    }\n",
       "\n",
       "    .dataframe tbody tr th {\n",
       "        vertical-align: top;\n",
       "    }\n",
       "\n",
       "    .dataframe thead th {\n",
       "        text-align: right;\n",
       "    }\n",
       "</style>\n",
       "<table border=\"1\" class=\"dataframe\">\n",
       "  <thead>\n",
       "    <tr style=\"text-align: right;\">\n",
       "      <th></th>\n",
       "      <th>0</th>\n",
       "    </tr>\n",
       "  </thead>\n",
       "  <tbody>\n",
       "    <tr>\n",
       "      <th>PRPT</th>\n",
       "      <td>0.992833</td>\n",
       "    </tr>\n",
       "    <tr>\n",
       "      <th>PRPTT</th>\n",
       "      <td>0.639865</td>\n",
       "    </tr>\n",
       "    <tr>\n",
       "      <th>PRINR</th>\n",
       "      <td>0.507698</td>\n",
       "    </tr>\n",
       "    <tr>\n",
       "      <th>PRSGOT</th>\n",
       "      <td>0.297712</td>\n",
       "    </tr>\n",
       "    <tr>\n",
       "      <th>PRALKPH</th>\n",
       "      <td>0.278163</td>\n",
       "    </tr>\n",
       "    <tr>\n",
       "      <th>PRBILI</th>\n",
       "      <td>0.277621</td>\n",
       "    </tr>\n",
       "    <tr>\n",
       "      <th>PRALBUM</th>\n",
       "      <td>0.275869</td>\n",
       "    </tr>\n",
       "    <tr>\n",
       "      <th>PRBUN</th>\n",
       "      <td>0.099174</td>\n",
       "    </tr>\n",
       "    <tr>\n",
       "      <th>PRSODM</th>\n",
       "      <td>0.067505</td>\n",
       "    </tr>\n",
       "    <tr>\n",
       "      <th>PRCREAT</th>\n",
       "      <td>0.061239</td>\n",
       "    </tr>\n",
       "  </tbody>\n",
       "</table>\n",
       "</div>"
      ],
      "text/plain": [
       "                0\n",
       "PRPT     0.992833\n",
       "PRPTT    0.639865\n",
       "PRINR    0.507698\n",
       "PRSGOT   0.297712\n",
       "PRALKPH  0.278163\n",
       "PRBILI   0.277621\n",
       "PRALBUM  0.275869\n",
       "PRBUN    0.099174\n",
       "PRSODM   0.067505\n",
       "PRCREAT  0.061239"
      ]
     },
     "execution_count": 48,
     "metadata": {},
     "output_type": "execute_result"
    }
   ],
   "source": [
    "#list numerical columns by percentage of missing data\n",
    "col_missing = data_imputed.isnull().sum()/data.shape[0]\n",
    "col_missing = col_missing.sort_values(ascending=False)\n",
    "col_missing = col_missing[col_missing > 0]\n",
    "(pd.DataFrame(col_missing)).head(10)"
   ]
  },
  {
   "cell_type": "code",
   "execution_count": 49,
   "metadata": {},
   "outputs": [],
   "source": [
    "#drop columns with >25% missing data\n",
    "drop = ['PRPT', 'PRPTT','PRSGOT', 'PRALKPH','PRBILI','COMBCPT']\n",
    "data_imputed.drop(drop, axis=1, inplace=True)"
   ]
  },
  {
   "cell_type": "code",
   "execution_count": 50,
   "metadata": {},
   "outputs": [],
   "source": [
    "num_cols = list(set(num_cols) - set(drop))"
   ]
  },
  {
   "cell_type": "code",
   "execution_count": 51,
   "metadata": {},
   "outputs": [],
   "source": [
    "#impute missing numerical columns with median\n",
    "num_imputer = SimpleImputer(strategy = 'median')\n",
    "\n",
    "# Imputation for numeric:\n",
    "for ncol in num_cols:\n",
    "    data_imputed[ncol] = num_imputer.fit_transform(data_imputed[ncol].values.reshape(-1, 1))"
   ]
  },
  {
   "cell_type": "code",
   "execution_count": 52,
   "metadata": {},
   "outputs": [],
   "source": [
    "#scale the data with RobustScaler\n",
    "for col in num_cols:\n",
    "    data_imputed[col] = RobustScaler().fit_transform(data_imputed[col].values.reshape(-1,1))"
   ]
  },
  {
   "cell_type": "code",
   "execution_count": 53,
   "metadata": {},
   "outputs": [],
   "source": [
    "#label encode the categorical columns\n",
    "le=LabelEncoder()\n",
    "for col in cat_cols:\n",
    "        data_imputed[col] = le.fit_transform(data_imputed[col].astype(str))"
   ]
  },
  {
   "cell_type": "code",
   "execution_count": 54,
   "metadata": {},
   "outputs": [],
   "source": [
    "#recode the primary outcome to 0/1\n",
    "data_imputed.loc[data_imputed['ssi'] == True, 'ssi'] = 1\n",
    "data_imputed.loc[data_imputed['ssi'] == False, 'ssi'] = 0"
   ]
  },
  {
   "cell_type": "code",
   "execution_count": 55,
   "metadata": {},
   "outputs": [
    {
     "data": {
      "text/plain": [
       "False    245773\n",
       "True      29379\n",
       "Name: ssi, dtype: int64"
      ]
     },
     "execution_count": 55,
     "metadata": {},
     "output_type": "execute_result"
    }
   ],
   "source": [
    "data['ssi'].value_counts()"
   ]
  },
  {
   "cell_type": "code",
   "execution_count": 56,
   "metadata": {},
   "outputs": [
    {
     "data": {
      "text/plain": [
       "(51250, 72)"
      ]
     },
     "execution_count": 56,
     "metadata": {},
     "output_type": "execute_result"
    }
   ],
   "source": [
    "#separate out the 2019 data and save it to a separate csv ('test')\n",
    "data19 = data_imputed[data_imputed['OPERYR'] == 7]\n",
    "data19.shape"
   ]
  },
  {
   "cell_type": "code",
   "execution_count": 57,
   "metadata": {},
   "outputs": [
    {
     "data": {
      "text/plain": [
       "(223902, 72)"
      ]
     },
     "execution_count": 57,
     "metadata": {},
     "output_type": "execute_result"
    }
   ],
   "source": [
    "drop19 = data_imputed[data_imputed['OPERYR'] != 7]\n",
    "drop19.shape"
   ]
  },
  {
   "cell_type": "code",
   "execution_count": 58,
   "metadata": {},
   "outputs": [],
   "source": [
    "data19 = data19.drop(['OPERYR'], axis=1)\n",
    "drop19 = drop19.drop(['OPERYR'], axis=1)"
   ]
  },
  {
   "cell_type": "code",
   "execution_count": 59,
   "metadata": {},
   "outputs": [],
   "source": [
    "data19.to_csv(r'/media/kchen/2TB/kchen_backup/ssi/data/procol_test.csv')\n",
    "drop19.to_csv(r'/media/kchen/2TB/kchen_backup/ssi/data/procol_train.csv')"
   ]
  },
  {
   "cell_type": "code",
   "execution_count": 60,
   "metadata": {},
   "outputs": [],
   "source": [
    "import feather\n",
    "data19.reset_index(inplace=True)\n",
    "drop19.reset_index(inplace=True)\n",
    "data19 = data19.drop(['CASEID'], axis=1)\n",
    "drop19 = drop19.drop(['CASEID'], axis=1)"
   ]
  },
  {
   "cell_type": "code",
   "execution_count": 61,
   "metadata": {},
   "outputs": [],
   "source": [
    "data19.to_feather(r'/media/kchen/2TB/kchen_backup/ssi/data/procol_test.feather')\n",
    "drop19.to_feather(r'/media/kchen/2TB/kchen_backup/ssi/data/procol_train.feather')"
   ]
  }
 ],
 "metadata": {
  "interpreter": {
   "hash": "31f2aee4e71d21fbe5cf8b01ff0e069b9275f58929596ceb00d14d90e3e16cd6"
  },
  "kernelspec": {
   "display_name": "Python 3.9.5 64-bit",
   "name": "python3"
  },
  "language_info": {
   "codemirror_mode": {
    "name": "ipython",
    "version": 3
   },
   "file_extension": ".py",
   "mimetype": "text/x-python",
   "name": "python",
   "nbconvert_exporter": "python",
   "pygments_lexer": "ipython3",
   "version": "3.9.5"
  },
  "orig_nbformat": 4
 },
 "nbformat": 4,
 "nbformat_minor": 2
}
