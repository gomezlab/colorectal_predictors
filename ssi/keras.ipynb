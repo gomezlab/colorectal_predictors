{
 "cells": [
  {
   "cell_type": "code",
   "execution_count": 1,
   "metadata": {},
   "outputs": [
    {
     "name": "stdout",
     "output_type": "stream",
     "text": [
      "WARNING:tensorflow:From /home/kchen/.local/lib/python3.9/site-packages/tensorflow/python/compat/v2_compat.py:111: disable_resource_variables (from tensorflow.python.ops.variable_scope) is deprecated and will be removed in a future version.\n",
      "Instructions for updating:\n",
      "non-resource variables are not supported in the long term\n"
     ]
    }
   ],
   "source": [
    "import numpy as np\n",
    "import pandas as pd\n",
    "from sklearn.preprocessing import StandardScaler\n",
    "from imblearn.over_sampling import RandomOverSampler #ADASYN, SMOTE\n",
    "from sklearn.metrics import confusion_matrix, roc_auc_score, roc_curve, accuracy_score, auc, precision_recall_curve, average_precision_score\n",
    "from sklearn.model_selection import train_test_split\n",
    "from sklearn.metrics import roc_auc_score\n",
    "from sklearn.model_selection import cross_val_score\n",
    "from sklearn.metrics import recall_score\n",
    "import tensorflow as tf\n",
    "from sklearn.model_selection import train_test_split\n",
    "from sklearn.preprocessing import StandardScaler, OneHotEncoder\n",
    "from math import sqrt\n",
    "tf.compat.v1.disable_v2_behavior()"
   ]
  },
  {
   "cell_type": "code",
   "execution_count": 2,
   "metadata": {},
   "outputs": [],
   "source": [
    "\n",
    "pd.options.display.max_rows = 20\n",
    "pd.options.display.max_columns = 50"
   ]
  },
  {
   "cell_type": "code",
   "execution_count": 3,
   "metadata": {},
   "outputs": [],
   "source": [
    "#read in the data\n",
    "data = pd.read_feather(r'/media/kchen/2TB/kchen_backup/ssi/data/procol_train.feather')\n",
    "y = data['ssi']\n",
    "X = data.drop(['SUPINFEC','WNDINFD','ORGSPCSSI','ssi'], axis=1)\n",
    "X_train, X_valid, y_train, y_valid = train_test_split(X, y, train_size=0.8, test_size=0.2, random_state=1)\n",
    "\n",
    "test = pd.read_feather(r'/media/kchen/2TB/kchen_backup/ssi/data/procol_test.feather')\n",
    "y_test = test['ssi']\n",
    "X_test = test.drop(['SUPINFEC','WNDINFD','ORGSPCSSI','ssi'], axis=1)"
   ]
  },
  {
   "cell_type": "code",
   "execution_count": 4,
   "metadata": {},
   "outputs": [
    {
     "data": {
      "text/plain": [
       "(223902, 71)"
      ]
     },
     "execution_count": 4,
     "metadata": {},
     "output_type": "execute_result"
    }
   ],
   "source": [
    "data.shape"
   ]
  },
  {
   "cell_type": "code",
   "execution_count": 5,
   "metadata": {},
   "outputs": [
    {
     "data": {
      "text/plain": [
       "0    0.89286\n",
       "1    0.10714\n",
       "Name: ssi, dtype: float64"
      ]
     },
     "execution_count": 5,
     "metadata": {},
     "output_type": "execute_result"
    }
   ],
   "source": [
    "y_train.value_counts(normalize=True)"
   ]
  },
  {
   "cell_type": "code",
   "execution_count": 6,
   "metadata": {},
   "outputs": [],
   "source": [
    "#input shape is shape of training data\n",
    "input_shape = [X_train.shape[1]]"
   ]
  },
  {
   "cell_type": "code",
   "execution_count": 7,
   "metadata": {},
   "outputs": [
    {
     "name": "stdout",
     "output_type": "stream",
     "text": [
      "WARNING:tensorflow:From /home/kchen/.local/lib/python3.9/site-packages/keras/layers/normalization/batch_normalization.py:532: _colocate_with (from tensorflow.python.framework.ops) is deprecated and will be removed in a future version.\n",
      "Instructions for updating:\n",
      "Colocations handled automatically by placer.\n",
      "Train on 179121 samples, validate on 44781 samples\n"
     ]
    },
    {
     "name": "stderr",
     "output_type": "stream",
     "text": [
      "2022-01-13 13:17:12.079060: I tensorflow/stream_executor/cuda/cuda_gpu_executor.cc:939] successful NUMA node read from SysFS had negative value (-1), but there must be at least one NUMA node, so returning NUMA node zero\n",
      "2022-01-13 13:17:12.087780: I tensorflow/stream_executor/cuda/cuda_gpu_executor.cc:939] successful NUMA node read from SysFS had negative value (-1), but there must be at least one NUMA node, so returning NUMA node zero\n",
      "2022-01-13 13:17:12.088315: I tensorflow/stream_executor/cuda/cuda_gpu_executor.cc:939] successful NUMA node read from SysFS had negative value (-1), but there must be at least one NUMA node, so returning NUMA node zero\n",
      "2022-01-13 13:17:12.089332: I tensorflow/core/platform/cpu_feature_guard.cc:151] This TensorFlow binary is optimized with oneAPI Deep Neural Network Library (oneDNN) to use the following CPU instructions in performance-critical operations:  AVX2 FMA\n",
      "To enable them in other operations, rebuild TensorFlow with the appropriate compiler flags.\n",
      "2022-01-13 13:17:12.090091: I tensorflow/stream_executor/cuda/cuda_gpu_executor.cc:939] successful NUMA node read from SysFS had negative value (-1), but there must be at least one NUMA node, so returning NUMA node zero\n",
      "2022-01-13 13:17:12.090788: I tensorflow/stream_executor/cuda/cuda_gpu_executor.cc:939] successful NUMA node read from SysFS had negative value (-1), but there must be at least one NUMA node, so returning NUMA node zero\n",
      "2022-01-13 13:17:12.091300: I tensorflow/stream_executor/cuda/cuda_gpu_executor.cc:939] successful NUMA node read from SysFS had negative value (-1), but there must be at least one NUMA node, so returning NUMA node zero\n",
      "2022-01-13 13:17:12.708965: I tensorflow/stream_executor/cuda/cuda_gpu_executor.cc:939] successful NUMA node read from SysFS had negative value (-1), but there must be at least one NUMA node, so returning NUMA node zero\n",
      "2022-01-13 13:17:12.709652: I tensorflow/stream_executor/cuda/cuda_gpu_executor.cc:939] successful NUMA node read from SysFS had negative value (-1), but there must be at least one NUMA node, so returning NUMA node zero\n",
      "2022-01-13 13:17:12.710523: I tensorflow/stream_executor/cuda/cuda_gpu_executor.cc:939] successful NUMA node read from SysFS had negative value (-1), but there must be at least one NUMA node, so returning NUMA node zero\n",
      "2022-01-13 13:17:12.711155: I tensorflow/core/common_runtime/gpu/gpu_device.cc:1525] Created device /job:localhost/replica:0/task:0/device:GPU:0 with 10115 MB memory:  -> device: 0, name: TITAN Xp, pci bus id: 0000:05:00.0, compute capability: 6.1\n"
     ]
    },
    {
     "name": "stdout",
     "output_type": "stream",
     "text": [
      "Epoch 1/500\n",
      "172544/179121 [===========================>..] - ETA: 0s - loss: 0.3183 - Sensitivity: 0.2152 - tn: 152592.0000 - auc: 0.6757 - prc: 0.3701"
     ]
    },
    {
     "name": "stderr",
     "output_type": "stream",
     "text": [
      "/home/kchen/.local/lib/python3.9/site-packages/keras/engine/training_v1.py:2057: UserWarning: `Model.state_updates` will be removed in a future version. This property should not be used in TensorFlow 2.0, as `updates` are applied automatically.\n",
      "  updates = self.state_updates\n"
     ]
    },
    {
     "name": "stdout",
     "output_type": "stream",
     "text": [
      "179121/179121 [==============================] - 2s 11us/sample - loss: 0.3169 - Sensitivity: 0.2150 - tn: 158483.0000 - auc: 0.6767 - prc: 0.3709 - val_loss: 0.2813 - val_Sensitivity: 0.2029 - val_tn: 39966.0000 - val_auc: 0.7334 - val_prc: 0.4192\n",
      "Epoch 2/500\n",
      "179121/179121 [==============================] - 1s 7us/sample - loss: 0.2834 - Sensitivity: 0.2133 - tn: 159904.0000 - auc: 0.7106 - prc: 0.4069 - val_loss: 0.2758 - val_Sensitivity: 0.2037 - val_tn: 39966.0000 - val_auc: 0.7401 - val_prc: 0.4251\n",
      "Epoch 3/500\n",
      "179121/179121 [==============================] - 1s 8us/sample - loss: 0.2803 - Sensitivity: 0.2133 - tn: 159908.0000 - auc: 0.7192 - prc: 0.4170 - val_loss: 0.2761 - val_Sensitivity: 0.2037 - val_tn: 39966.0000 - val_auc: 0.7433 - val_prc: 0.4276\n",
      "Epoch 4/500\n",
      "179121/179121 [==============================] - 2s 8us/sample - loss: 0.2779 - Sensitivity: 0.2133 - tn: 159921.0000 - auc: 0.7246 - prc: 0.4216 - val_loss: 0.2745 - val_Sensitivity: 0.2037 - val_tn: 39966.0000 - val_auc: 0.7441 - val_prc: 0.4287\n",
      "Epoch 5/500\n",
      "179121/179121 [==============================] - 1s 7us/sample - loss: 0.2771 - Sensitivity: 0.2131 - tn: 159926.0000 - auc: 0.7258 - prc: 0.4240 - val_loss: 0.2749 - val_Sensitivity: 0.2037 - val_tn: 39966.0000 - val_auc: 0.7423 - val_prc: 0.4268\n",
      "Epoch 6/500\n",
      "179121/179121 [==============================] - 1s 7us/sample - loss: 0.2759 - Sensitivity: 0.2132 - tn: 159926.0000 - auc: 0.7306 - prc: 0.4258 - val_loss: 0.2743 - val_Sensitivity: 0.2037 - val_tn: 39966.0000 - val_auc: 0.7444 - val_prc: 0.4289\n",
      "Epoch 7/500\n",
      "179121/179121 [==============================] - 1s 7us/sample - loss: 0.2753 - Sensitivity: 0.2131 - tn: 159927.0000 - auc: 0.7320 - prc: 0.4288 - val_loss: 0.2741 - val_Sensitivity: 0.2037 - val_tn: 39966.0000 - val_auc: 0.7462 - val_prc: 0.4304\n",
      "Epoch 8/500\n",
      "179121/179121 [==============================] - 1s 6us/sample - loss: 0.2744 - Sensitivity: 0.2131 - tn: 159924.0000 - auc: 0.7354 - prc: 0.4303 - val_loss: 0.2743 - val_Sensitivity: 0.2037 - val_tn: 39966.0000 - val_auc: 0.7445 - val_prc: 0.4302\n",
      "Epoch 9/500\n",
      "179121/179121 [==============================] - 1s 7us/sample - loss: 0.2743 - Sensitivity: 0.2133 - tn: 159921.0000 - auc: 0.7358 - prc: 0.4327 - val_loss: 0.2740 - val_Sensitivity: 0.2037 - val_tn: 39966.0000 - val_auc: 0.7462 - val_prc: 0.4300\n",
      "Epoch 10/500\n",
      "179121/179121 [==============================] - 1s 7us/sample - loss: 0.2741 - Sensitivity: 0.2131 - tn: 159921.0000 - auc: 0.7367 - prc: 0.4321 - val_loss: 0.2740 - val_Sensitivity: 0.2037 - val_tn: 39966.0000 - val_auc: 0.7463 - val_prc: 0.4287\n",
      "Epoch 11/500\n",
      "179121/179121 [==============================] - 1s 8us/sample - loss: 0.2737 - Sensitivity: 0.2134 - tn: 159924.0000 - auc: 0.7382 - prc: 0.4347 - val_loss: 0.2744 - val_Sensitivity: 0.2037 - val_tn: 39966.0000 - val_auc: 0.7468 - val_prc: 0.4306\n",
      "Epoch 12/500\n",
      "179121/179121 [==============================] - 1s 7us/sample - loss: 0.2737 - Sensitivity: 0.2134 - tn: 159921.0000 - auc: 0.7380 - prc: 0.4335 - val_loss: 0.2740 - val_Sensitivity: 0.2037 - val_tn: 39966.0000 - val_auc: 0.7472 - val_prc: 0.4320\n",
      "Epoch 13/500\n",
      "179121/179121 [==============================] - 1s 7us/sample - loss: 0.2734 - Sensitivity: 0.2133 - tn: 159922.0000 - auc: 0.7396 - prc: 0.4346 - val_loss: 0.2741 - val_Sensitivity: 0.2037 - val_tn: 39966.0000 - val_auc: 0.7465 - val_prc: 0.4315\n",
      "Epoch 14/500\n",
      "179121/179121 [==============================] - 1s 7us/sample - loss: 0.2733 - Sensitivity: 0.2135 - tn: 159921.0000 - auc: 0.7400 - prc: 0.4363 - val_loss: 0.2739 - val_Sensitivity: 0.2037 - val_tn: 39966.0000 - val_auc: 0.7471 - val_prc: 0.4311\n",
      "Epoch 15/500\n",
      "179121/179121 [==============================] - 1s 7us/sample - loss: 0.2731 - Sensitivity: 0.2139 - tn: 159914.0000 - auc: 0.7403 - prc: 0.4356 - val_loss: 0.2738 - val_Sensitivity: 0.2037 - val_tn: 39966.0000 - val_auc: 0.7476 - val_prc: 0.4318\n",
      "Epoch 16/500\n",
      "179121/179121 [==============================] - 1s 8us/sample - loss: 0.2733 - Sensitivity: 0.2136 - tn: 159919.0000 - auc: 0.7403 - prc: 0.4352 - val_loss: 0.2741 - val_Sensitivity: 0.2037 - val_tn: 39966.0000 - val_auc: 0.7468 - val_prc: 0.4316\n",
      "Epoch 17/500\n",
      "179121/179121 [==============================] - 1s 7us/sample - loss: 0.2729 - Sensitivity: 0.2135 - tn: 159909.0000 - auc: 0.7413 - prc: 0.4367 - val_loss: 0.2736 - val_Sensitivity: 0.2039 - val_tn: 39966.0000 - val_auc: 0.7478 - val_prc: 0.4303\n",
      "Epoch 18/500\n",
      "179121/179121 [==============================] - 1s 7us/sample - loss: 0.2729 - Sensitivity: 0.2139 - tn: 159911.0000 - auc: 0.7420 - prc: 0.4363 - val_loss: 0.2739 - val_Sensitivity: 0.2037 - val_tn: 39966.0000 - val_auc: 0.7473 - val_prc: 0.4316\n",
      "Epoch 19/500\n",
      "179121/179121 [==============================] - 1s 8us/sample - loss: 0.2728 - Sensitivity: 0.2141 - tn: 159910.0000 - auc: 0.7421 - prc: 0.4366 - val_loss: 0.2742 - val_Sensitivity: 0.2037 - val_tn: 39966.0000 - val_auc: 0.7458 - val_prc: 0.4301\n",
      "Epoch 20/500\n",
      "179121/179121 [==============================] - 1s 7us/sample - loss: 0.2727 - Sensitivity: 0.2137 - tn: 159910.0000 - auc: 0.7423 - prc: 0.4378 - val_loss: 0.2740 - val_Sensitivity: 0.2037 - val_tn: 39966.0000 - val_auc: 0.7479 - val_prc: 0.4319\n",
      "Epoch 21/500\n",
      "179121/179121 [==============================] - 1s 7us/sample - loss: 0.2727 - Sensitivity: 0.2137 - tn: 159904.0000 - auc: 0.7424 - prc: 0.4365 - val_loss: 0.2738 - val_Sensitivity: 0.2037 - val_tn: 39966.0000 - val_auc: 0.7473 - val_prc: 0.4308\n",
      "Epoch 22/500\n",
      "179121/179121 [==============================] - 1s 7us/sample - loss: 0.2731 - Sensitivity: 0.2136 - tn: 159906.0000 - auc: 0.7409 - prc: 0.4367 - val_loss: 0.2738 - val_Sensitivity: 0.2037 - val_tn: 39965.0000 - val_auc: 0.7480 - val_prc: 0.4321\n",
      "Epoch 23/500\n",
      "179121/179121 [==============================] - 1s 6us/sample - loss: 0.2726 - Sensitivity: 0.2142 - tn: 159903.0000 - auc: 0.7426 - prc: 0.4390 - val_loss: 0.2734 - val_Sensitivity: 0.2037 - val_tn: 39965.0000 - val_auc: 0.7484 - val_prc: 0.4323\n",
      "Epoch 24/500\n",
      "179121/179121 [==============================] - 1s 6us/sample - loss: 0.2725 - Sensitivity: 0.2143 - tn: 159900.0000 - auc: 0.7435 - prc: 0.4381 - val_loss: 0.2741 - val_Sensitivity: 0.2037 - val_tn: 39966.0000 - val_auc: 0.7472 - val_prc: 0.4317\n",
      "Epoch 25/500\n",
      "179121/179121 [==============================] - 1s 8us/sample - loss: 0.2724 - Sensitivity: 0.2139 - tn: 159910.0000 - auc: 0.7434 - prc: 0.4383 - val_loss: 0.2737 - val_Sensitivity: 0.2037 - val_tn: 39964.0000 - val_auc: 0.7479 - val_prc: 0.4314\n",
      "Epoch 26/500\n",
      "179121/179121 [==============================] - 1s 7us/sample - loss: 0.2723 - Sensitivity: 0.2137 - tn: 159894.0000 - auc: 0.7448 - prc: 0.4391 - val_loss: 0.2742 - val_Sensitivity: 0.2037 - val_tn: 39966.0000 - val_auc: 0.7474 - val_prc: 0.4323\n",
      "Epoch 27/500\n",
      "179121/179121 [==============================] - 1s 7us/sample - loss: 0.2721 - Sensitivity: 0.2140 - tn: 159904.0000 - auc: 0.7441 - prc: 0.4404 - val_loss: 0.2739 - val_Sensitivity: 0.2037 - val_tn: 39966.0000 - val_auc: 0.7475 - val_prc: 0.4319\n",
      "Epoch 28/500\n",
      "179121/179121 [==============================] - 1s 6us/sample - loss: 0.2723 - Sensitivity: 0.2142 - tn: 159893.0000 - auc: 0.7452 - prc: 0.4397 - val_loss: 0.2739 - val_Sensitivity: 0.2037 - val_tn: 39965.0000 - val_auc: 0.7475 - val_prc: 0.4318\n",
      "Epoch 29/500\n",
      "179121/179121 [==============================] - 1s 6us/sample - loss: 0.2722 - Sensitivity: 0.2140 - tn: 159896.0000 - auc: 0.7441 - prc: 0.4398 - val_loss: 0.2742 - val_Sensitivity: 0.2037 - val_tn: 39966.0000 - val_auc: 0.7475 - val_prc: 0.4309\n",
      "Epoch 30/500\n",
      "179121/179121 [==============================] - 1s 7us/sample - loss: 0.2720 - Sensitivity: 0.2140 - tn: 159905.0000 - auc: 0.7454 - prc: 0.4400 - val_loss: 0.2740 - val_Sensitivity: 0.2037 - val_tn: 39965.0000 - val_auc: 0.7470 - val_prc: 0.4315\n",
      "Epoch 31/500\n",
      "179121/179121 [==============================] - 1s 7us/sample - loss: 0.2719 - Sensitivity: 0.2145 - tn: 159893.0000 - auc: 0.7462 - prc: 0.4400 - val_loss: 0.2744 - val_Sensitivity: 0.2037 - val_tn: 39965.0000 - val_auc: 0.7460 - val_prc: 0.4306\n",
      "Epoch 32/500\n",
      "179121/179121 [==============================] - 1s 7us/sample - loss: 0.2718 - Sensitivity: 0.2145 - tn: 159892.0000 - auc: 0.7468 - prc: 0.4407 - val_loss: 0.2738 - val_Sensitivity: 0.2037 - val_tn: 39965.0000 - val_auc: 0.7479 - val_prc: 0.4317\n",
      "Epoch 33/500\n",
      "179121/179121 [==============================] - 2s 9us/sample - loss: 0.2717 - Sensitivity: 0.2154 - tn: 159888.0000 - auc: 0.7462 - prc: 0.4422 - val_loss: 0.2739 - val_Sensitivity: 0.2037 - val_tn: 39965.0000 - val_auc: 0.7473 - val_prc: 0.4315\n",
      "Epoch 34/500\n",
      "179121/179121 [==============================] - 2s 8us/sample - loss: 0.2715 - Sensitivity: 0.2148 - tn: 159884.0000 - auc: 0.7474 - prc: 0.4431 - val_loss: 0.2738 - val_Sensitivity: 0.2037 - val_tn: 39965.0000 - val_auc: 0.7475 - val_prc: 0.4312\n",
      "Epoch 35/500\n",
      "179121/179121 [==============================] - 1s 8us/sample - loss: 0.2716 - Sensitivity: 0.2148 - tn: 159881.0000 - auc: 0.7468 - prc: 0.4424 - val_loss: 0.2739 - val_Sensitivity: 0.2037 - val_tn: 39964.0000 - val_auc: 0.7471 - val_prc: 0.4301\n",
      "Epoch 36/500\n",
      "179121/179121 [==============================] - 1s 7us/sample - loss: 0.2715 - Sensitivity: 0.2155 - tn: 159889.0000 - auc: 0.7469 - prc: 0.4422 - val_loss: 0.2738 - val_Sensitivity: 0.2037 - val_tn: 39964.0000 - val_auc: 0.7486 - val_prc: 0.4331\n",
      "Epoch 37/500\n",
      "179121/179121 [==============================] - 2s 12us/sample - loss: 0.2712 - Sensitivity: 0.2147 - tn: 159884.0000 - auc: 0.7481 - prc: 0.4438 - val_loss: 0.2737 - val_Sensitivity: 0.2037 - val_tn: 39965.0000 - val_auc: 0.7480 - val_prc: 0.4316\n",
      "Epoch 38/500\n",
      "179121/179121 [==============================] - 3s 14us/sample - loss: 0.2712 - Sensitivity: 0.2154 - tn: 159893.0000 - auc: 0.7484 - prc: 0.4439 - val_loss: 0.2736 - val_Sensitivity: 0.2037 - val_tn: 39965.0000 - val_auc: 0.7487 - val_prc: 0.4326\n",
      "Epoch 39/500\n",
      "179121/179121 [==============================] - 2s 12us/sample - loss: 0.2711 - Sensitivity: 0.2148 - tn: 159892.0000 - auc: 0.7491 - prc: 0.4433 - val_loss: 0.2737 - val_Sensitivity: 0.2037 - val_tn: 39965.0000 - val_auc: 0.7483 - val_prc: 0.4329\n",
      "Epoch 40/500\n",
      "179121/179121 [==============================] - 2s 10us/sample - loss: 0.2713 - Sensitivity: 0.2151 - tn: 159886.0000 - auc: 0.7482 - prc: 0.4435 - val_loss: 0.2741 - val_Sensitivity: 0.2037 - val_tn: 39962.0000 - val_auc: 0.7470 - val_prc: 0.4319\n",
      "Epoch 41/500\n",
      "179121/179121 [==============================] - 1s 8us/sample - loss: 0.2709 - Sensitivity: 0.2155 - tn: 159889.0000 - auc: 0.7490 - prc: 0.4452 - val_loss: 0.2741 - val_Sensitivity: 0.2037 - val_tn: 39965.0000 - val_auc: 0.7476 - val_prc: 0.4324\n",
      "Epoch 42/500\n",
      "179121/179121 [==============================] - 2s 8us/sample - loss: 0.2708 - Sensitivity: 0.2154 - tn: 159890.0000 - auc: 0.7502 - prc: 0.4451 - val_loss: 0.2739 - val_Sensitivity: 0.2037 - val_tn: 39965.0000 - val_auc: 0.7470 - val_prc: 0.4321\n",
      "Epoch 43/500\n",
      "179121/179121 [==============================] - 3s 14us/sample - loss: 0.2709 - Sensitivity: 0.2153 - tn: 159888.0000 - auc: 0.7492 - prc: 0.4452 - val_loss: 0.2739 - val_Sensitivity: 0.2037 - val_tn: 39962.0000 - val_auc: 0.7469 - val_prc: 0.4322\n",
      "Epoch 44/500\n",
      "179121/179121 [==============================] - 3s 15us/sample - loss: 0.2709 - Sensitivity: 0.2154 - tn: 159877.0000 - auc: 0.7499 - prc: 0.4453 - val_loss: 0.2741 - val_Sensitivity: 0.2037 - val_tn: 39965.0000 - val_auc: 0.7473 - val_prc: 0.4326\n",
      "Epoch 45/500\n",
      "179121/179121 [==============================] - 2s 12us/sample - loss: 0.2705 - Sensitivity: 0.2150 - tn: 159864.0000 - auc: 0.7509 - prc: 0.4476 - val_loss: 0.2743 - val_Sensitivity: 0.2037 - val_tn: 39965.0000 - val_auc: 0.7472 - val_prc: 0.4316\n",
      "Epoch 46/500\n",
      "179121/179121 [==============================] - 1s 8us/sample - loss: 0.2705 - Sensitivity: 0.2164 - tn: 159886.0000 - auc: 0.7510 - prc: 0.4454 - val_loss: 0.2741 - val_Sensitivity: 0.2037 - val_tn: 39965.0000 - val_auc: 0.7466 - val_prc: 0.4315\n",
      "Epoch 47/500\n",
      "179121/179121 [==============================] - 1s 7us/sample - loss: 0.2706 - Sensitivity: 0.2158 - tn: 159868.0000 - auc: 0.7502 - prc: 0.4460 - val_loss: 0.2740 - val_Sensitivity: 0.2037 - val_tn: 39965.0000 - val_auc: 0.7472 - val_prc: 0.4320\n",
      "Epoch 48/500\n",
      "179121/179121 [==============================] - 1s 7us/sample - loss: 0.2706 - Sensitivity: 0.2155 - tn: 159876.0000 - auc: 0.7505 - prc: 0.4469 - val_loss: 0.2740 - val_Sensitivity: 0.2037 - val_tn: 39964.0000 - val_auc: 0.7471 - val_prc: 0.4318\n"
     ]
    }
   ],
   "source": [
    "#define the model and train, using hyperparameters from randomsearch\n",
    "model4 = tf.keras.models.Sequential()\n",
    "model4.add(tf.keras.layers.Flatten(input_shape=input_shape))\n",
    "model4.add(tf.keras.layers.BatchNormalization())\n",
    "for _ in range(1):\n",
    "    model4.add(tf.keras.layers.Dense(500))\n",
    "    model4.add(tf.keras.layers.BatchNormalization())\n",
    "    model4.add(tf.keras.layers.Dropout(0.8))\n",
    "    model4.add(tf.keras.layers.Activation(\"relu\"))\n",
    "model4.add(tf.keras.layers.Dense(1, activation=\"sigmoid\"))\n",
    "\n",
    "opt = tf.keras.optimizers.Adam(learning_rate=3e-3)\n",
    "\n",
    "metrics = [tf.keras.metrics.Recall(name='Sensitivity'), tf.keras.metrics.TrueNegatives(name='tn'), tf.keras.metrics.AUC(name='auc'), tf.keras.metrics.AUC(name='prc', curve='PR')]\n",
    "\n",
    "model4.compile(\n",
    "    optimizer=opt,\n",
    "    loss='binary_crossentropy',\n",
    "    metrics=metrics,)\n",
    "\n",
    "early_stopping = tf.keras.callbacks.EarlyStopping(\n",
    "    patience=25,\n",
    "    min_delta=1e-8,\n",
    "    restore_best_weights=True,)\n",
    "\n",
    "history = model4.fit(\n",
    "    X_train, y_train,\n",
    "    validation_data=(X_valid, y_valid),\n",
    "    batch_size=512,\n",
    "    epochs=500,\n",
    "    callbacks=[early_stopping],)"
   ]
  },
  {
   "cell_type": "code",
   "execution_count": 8,
   "metadata": {},
   "outputs": [
    {
     "name": "stderr",
     "output_type": "stream",
     "text": [
      "/home/kchen/.local/lib/python3.9/site-packages/keras/engine/training_v1.py:2079: UserWarning: `Model.state_updates` will be removed in a future version. This property should not be used in TensorFlow 2.0, as `updates` are applied automatically.\n",
      "  updates=self.state_updates,\n",
      "UsageError: Unknown variable 'ann_preds_ssi'\n"
     ]
    }
   ],
   "source": [
    "#get predictions\n",
    "ann_preds = model4.predict(X_test)\n",
    "%store ann_preds_ssi"
   ]
  },
  {
   "cell_type": "code",
   "execution_count": 9,
   "metadata": {},
   "outputs": [
    {
     "name": "stdout",
     "output_type": "stream",
     "text": [
      "Stored 'ann_fpr_ssi' (ndarray)\n",
      "Stored 'ann_tpr_ssi' (ndarray)\n"
     ]
    }
   ],
   "source": [
    "#get tpr and fpr for roc curve\n",
    "ann_fpr_ssi, ann_tpr_ssi, _ = roc_curve(y_test, ann_preds)\n",
    "%store ann_fpr_ssi\n",
    "%store ann_tpr_ssi\n"
   ]
  },
  {
   "cell_type": "code",
   "execution_count": 10,
   "metadata": {},
   "outputs": [
    {
     "data": {
      "text/plain": [
       "(0.7576182098662867, 0.7652692564307881, 0.7729203029952896)"
      ]
     },
     "execution_count": 10,
     "metadata": {},
     "output_type": "execute_result"
    }
   ],
   "source": [
    "#calculate 95% confidence interval for auroc\n",
    "def roc_auc_ci(y_true, y_score, positive=1):\n",
    "    AUC = roc_auc_score(y_true, y_score)\n",
    "    N1 = sum(y_true == positive)\n",
    "    N2 = sum(y_true != positive)\n",
    "    Q1 = AUC / (2 - AUC)\n",
    "    Q2 = 2*AUC**2 / (1 + AUC)\n",
    "    SE_AUC = sqrt((AUC*(1 - AUC) + (N1 - 1)*(Q1 - AUC**2) + (N2 - 1)*(Q2 - AUC**2)) / (N1*N2))\n",
    "    lower = AUC - 1.96*SE_AUC\n",
    "    upper = AUC + 1.96*SE_AUC\n",
    "    if lower < 0:\n",
    "        lower = 0\n",
    "    if upper > 1:\n",
    "        upper = 1\n",
    "    return (lower, AUC, upper)\n",
    "roc_auc_ci(y_test, ann_preds)"
   ]
  },
  {
   "cell_type": "code",
   "execution_count": 11,
   "metadata": {},
   "outputs": [
    {
     "name": "stdout",
     "output_type": "stream",
     "text": [
      "Stored 'ann_prec_ssi' (ndarray)\n",
      "Stored 'ann_rec_ssi' (ndarray)\n"
     ]
    }
   ],
   "source": [
    "#get precision and recall for pr curve\n",
    "ann_prec_ssi, ann_rec_ssi, _ = precision_recall_curve(y_test, ann_preds)\n",
    "%store ann_prec_ssi\n",
    "%store ann_rec_ssi"
   ]
  },
  {
   "cell_type": "code",
   "execution_count": 12,
   "metadata": {},
   "outputs": [
    {
     "data": {
      "text/plain": [
       "(0.47315313187669433, 0.4812235246362579, 0.48929391739582145)"
      ]
     },
     "execution_count": 12,
     "metadata": {},
     "output_type": "execute_result"
    }
   ],
   "source": [
    "#get 95% confidence interval for pr curve\n",
    "def roc_prc_ci(y_true, y_score, positive=1):\n",
    "    AUC = average_precision_score(y_true, y_score)\n",
    "    N1 = sum(y_true == positive)\n",
    "    N2 = sum(y_true != positive)\n",
    "    Q1 = AUC / (2 - AUC)\n",
    "    Q2 = 2*AUC**2 / (1 + AUC)\n",
    "    SE_AUC = sqrt((AUC*(1 - AUC) + (N1 - 1)*(Q1 - AUC**2) + (N2 - 1)*(Q2 - AUC**2)) / (N1*N2))\n",
    "    lower = AUC - 1.96*SE_AUC\n",
    "    upper = AUC + 1.96*SE_AUC\n",
    "    if lower < 0:\n",
    "        lower = 0\n",
    "    if upper > 1:\n",
    "        upper = 1\n",
    "    return (lower, AUC, upper)\n",
    "roc_prc_ci(y_test, ann_preds)"
   ]
  },
  {
   "cell_type": "code",
   "execution_count": 13,
   "metadata": {},
   "outputs": [
    {
     "name": "stdout",
     "output_type": "stream",
     "text": [
      "no stored variable or alias lr_preds\n"
     ]
    },
    {
     "ename": "NameError",
     "evalue": "name 'lr_preds' is not defined",
     "output_type": "error",
     "traceback": [
      "\u001b[0;31m---------------------------------------------------------------------------\u001b[0m",
      "\u001b[0;31mNameError\u001b[0m                                 Traceback (most recent call last)",
      "\u001b[0;32m/tmp/ipykernel_124268/560802774.py\u001b[0m in \u001b[0;36m<module>\u001b[0;34m\u001b[0m\n\u001b[1;32m     25\u001b[0m \u001b[0;34m\u001b[0m\u001b[0m\n\u001b[1;32m     26\u001b[0m \u001b[0mpreds_A\u001b[0m \u001b[0;34m=\u001b[0m \u001b[0mann_preds\u001b[0m\u001b[0;34m\u001b[0m\u001b[0;34m\u001b[0m\u001b[0m\n\u001b[0;32m---> 27\u001b[0;31m \u001b[0mpreds_B\u001b[0m \u001b[0;34m=\u001b[0m \u001b[0mlr_preds\u001b[0m\u001b[0;34m\u001b[0m\u001b[0;34m\u001b[0m\u001b[0m\n\u001b[0m\u001b[1;32m     28\u001b[0m \u001b[0mactual\u001b[0m \u001b[0;34m=\u001b[0m \u001b[0my_test\u001b[0m\u001b[0;34m\u001b[0m\u001b[0;34m\u001b[0m\u001b[0m\n\u001b[1;32m     29\u001b[0m \u001b[0;34m\u001b[0m\u001b[0m\n",
      "\u001b[0;31mNameError\u001b[0m: name 'lr_preds' is not defined"
     ]
    }
   ],
   "source": [
    "#get p-value for ann vs lr using Delong method from https://biasedml.com/roc-comparison/\n",
    "%store -r ann_preds\n",
    "%store -r lr_preds\n",
    "from matplotlib import pyplot as plt\n",
    "import scipy.stats as st\n",
    "from sklearn import metrics\n",
    "\n",
    "def auc(X, Y):\n",
    "    return 1/(len(X)*len(Y)) * sum([kernel(x, y) for x in X for y in Y])\n",
    "def kernel(X, Y):\n",
    "    return .5 if Y==X else int(Y < X)\n",
    "def structural_components(X, Y):\n",
    "    V10 = [1/len(Y) * sum([kernel(x, y) for y in Y]) for x in X]\n",
    "    V01 = [1/len(X) * sum([kernel(x, y) for x in X]) for y in Y]\n",
    "    return V10, V01\n",
    "    \n",
    "\n",
    "def get_S_entry(V_A, V_B, auc_A, auc_B):\n",
    "    return 1/(len(V_A)-1) * sum([(a-auc_A)*(b-auc_B) for a,b in zip(V_A, V_B)])\n",
    "def z_score(var_A, var_B, covar_AB, auc_A, auc_B):\n",
    "    return (auc_A - auc_B)/((var_A + var_B - 2*covar_AB)**(.5))\n",
    "\n",
    "\n",
    "preds_A = ann_preds\n",
    "preds_B = lr_preds\n",
    "actual = y_test\n",
    "\n",
    "actual = actual.array\n",
    "\n",
    "def group_preds_by_label(preds, actual):\n",
    "    X = [p for (p, a) in zip(preds, actual) if a]\n",
    "    Y = [p for (p, a) in zip(preds, actual) if not a]\n",
    "    return X, Y\n",
    "\n",
    "\n",
    "X_A, Y_A = group_preds_by_label(preds_A, actual)\n",
    "X_B, Y_B = group_preds_by_label(preds_B, actual)\n",
    "V_A10, V_A01 = structural_components(X_A, Y_A)\n",
    "V_B10, V_B01 = structural_components(X_B, Y_B)\n",
    "auc_A = auc(X_A, Y_A)\n",
    "auc_B = auc(X_B, Y_B)\n",
    "\n",
    "\n",
    "# Compute entries of covariance matrix S (covar_AB = covar_BA)\n",
    "var_A = (get_S_entry(V_A10, V_A10, auc_A, auc_A) * 1/len(V_A10)\n",
    "        + get_S_entry(V_A01, V_A01, auc_A, auc_A) * 1/len(V_A01))\n",
    "var_B = (get_S_entry(V_B10, V_B10, auc_B, auc_B) * 1/len(V_B10)\n",
    "        + get_S_entry(V_B01, V_B01, auc_B, auc_B) * 1/len(V_B01))\n",
    "covar_AB = (get_S_entry(V_A10, V_B10, auc_A, auc_B) * 1/len(V_A10)\n",
    "            + get_S_entry(V_A01, V_B01, auc_A, auc_B) * 1/len(V_A01))\n",
    "\n",
    "# Two tailed test\n",
    "z = z_score(var_A, var_B, covar_AB, auc_A, auc_B)\n",
    "\n",
    "p = st.norm.sf(abs(z[x-1]))*2\n",
    "p"
   ]
  },
  {
   "cell_type": "code",
   "execution_count": null,
   "metadata": {},
   "outputs": [
    {
     "name": "stdout",
     "output_type": "stream",
     "text": [
      "WARNING:tensorflow:From /home/kchen/.local/lib/python3.9/site-packages/shap/explainers/tf_utils.py:28: The name tf.keras.backend.get_session is deprecated. Please use tf.compat.v1.keras.backend.get_session instead.\n",
      "\n"
     ]
    },
    {
     "data": {
      "image/png": "[encoded data removed]",
      "text/plain": [
       "<Figure size 576x684 with 1 Axes>"
      ]
     },
     "metadata": {
      "needs_background": "light"
     },
     "output_type": "display_data"
    }
   ],
   "source": [
    "import shap\n",
    "explainer = shap.DeepExplainer(model4, X_train.sample(n=4000))\n",
    "shap_values = explainer.shap_values(X_valid.sample(n=4000).values)\n",
    "shap.summary_plot(shap_values, X_valid.sample(n=4000))"
   ]
  },
  {
   "cell_type": "code",
   "execution_count": null,
   "metadata": {},
   "outputs": [
    {
     "data": {
      "text/html": [
       "<div>\n",
       "<style scoped>\n",
       "    .dataframe tbody tr th:only-of-type {\n",
       "        vertical-align: middle;\n",
       "    }\n",
       "\n",
       "    .dataframe tbody tr th {\n",
       "        vertical-align: top;\n",
       "    }\n",
       "\n",
       "    .dataframe thead th {\n",
       "        text-align: right;\n",
       "    }\n",
       "</style>\n",
       "<table border=\"1\" class=\"dataframe\">\n",
       "  <thead>\n",
       "    <tr style=\"text-align: right;\">\n",
       "      <th></th>\n",
       "      <th>col_name</th>\n",
       "      <th>feature_importance_vals</th>\n",
       "    </tr>\n",
       "  </thead>\n",
       "  <tbody>\n",
       "    <tr>\n",
       "      <th>25</th>\n",
       "      <td>OSSIPATOS_0</td>\n",
       "      <td>0.017287</td>\n",
       "    </tr>\n",
       "    <tr>\n",
       "      <th>26</th>\n",
       "      <td>OSSIPATOS_1</td>\n",
       "      <td>0.016736</td>\n",
       "    </tr>\n",
       "    <tr>\n",
       "      <th>15</th>\n",
       "      <td>OPTIME</td>\n",
       "      <td>0.010695</td>\n",
       "    </tr>\n",
       "    <tr>\n",
       "      <th>157</th>\n",
       "      <td>COL_ORAL_ANTIBIOTIC_2</td>\n",
       "      <td>0.009399</td>\n",
       "    </tr>\n",
       "    <tr>\n",
       "      <th>120</th>\n",
       "      <td>COL_APPROACH_0</td>\n",
       "      <td>0.007284</td>\n",
       "    </tr>\n",
       "    <tr>\n",
       "      <th>64</th>\n",
       "      <td>PRNCPTX_20</td>\n",
       "      <td>0.006860</td>\n",
       "    </tr>\n",
       "    <tr>\n",
       "      <th>69</th>\n",
       "      <td>PRNCPTX_25</td>\n",
       "      <td>0.005341</td>\n",
       "    </tr>\n",
       "    <tr>\n",
       "      <th>21</th>\n",
       "      <td>BMI</td>\n",
       "      <td>0.004568</td>\n",
       "    </tr>\n",
       "    <tr>\n",
       "      <th>220</th>\n",
       "      <td>WNDCLAS_3</td>\n",
       "      <td>0.003986</td>\n",
       "    </tr>\n",
       "    <tr>\n",
       "      <th>122</th>\n",
       "      <td>COL_APPROACH_2</td>\n",
       "      <td>0.003938</td>\n",
       "    </tr>\n",
       "  </tbody>\n",
       "</table>\n",
       "</div>"
      ],
      "text/plain": [
       "                  col_name  feature_importance_vals\n",
       "25             OSSIPATOS_0                 0.017287\n",
       "26             OSSIPATOS_1                 0.016736\n",
       "15                  OPTIME                 0.010695\n",
       "157  COL_ORAL_ANTIBIOTIC_2                 0.009399\n",
       "120         COL_APPROACH_0                 0.007284\n",
       "64              PRNCPTX_20                 0.006860\n",
       "69              PRNCPTX_25                 0.005341\n",
       "21                     BMI                 0.004568\n",
       "220              WNDCLAS_3                 0.003986\n",
       "122         COL_APPROACH_2                 0.003938"
      ]
     },
     "execution_count": 21,
     "metadata": {},
     "output_type": "execute_result"
    }
   ],
   "source": [
    "#create a dataframe of the shap values sorted from highest to lowest\n",
    "shap_values[0].shape\n",
    "vals = np.abs(shap_values[0]).mean(0)\n",
    "feature_names = X_train.columns\n",
    "feature_importance = pd.DataFrame(list(zip(feature_names, vals)),\n",
    "                                  columns=['col_name','feature_importance_vals'])\n",
    "feature_importance.sort_values(by=['feature_importance_vals'],\n",
    "                               ascending=False, inplace=True)\n",
    "feature_importance.head(10)"
   ]
  },
  {
   "cell_type": "code",
   "execution_count": null,
   "metadata": {},
   "outputs": [],
   "source": [
    "#export the dataframe to excel (easier to change the column names)\n",
    "feature_importance.to_excel('shap.xlsx')"
   ]
  },
  {
   "cell_type": "code",
   "execution_count": null,
   "metadata": {},
   "outputs": [],
   "source": [
    "#read the excel file back in after the column names have been changed\n",
    "fi = pd.read_excel('shap.xlsx')"
   ]
  },
  {
   "cell_type": "code",
   "execution_count": null,
   "metadata": {},
   "outputs": [],
   "source": [
    "import seaborn as sns\n",
    "from matplotlib import pyplot as plt"
   ]
  },
  {
   "cell_type": "code",
   "execution_count": null,
   "metadata": {},
   "outputs": [],
   "source": [
    "#makes the darkest blue at the top and lightest blue at the bottom\n",
    "palette = sns.color_palette(\"Blues_d\", n_colors=10)\n",
    "palette.reverse()"
   ]
  },
  {
   "cell_type": "code",
   "execution_count": null,
   "metadata": {},
   "outputs": [
    {
     "data": {
      "image/png": "[encoded data removed]",
      "text/plain": [
       "<Figure size 1152x720 with 1 Axes>"
      ]
     },
     "metadata": {},
     "output_type": "display_data"
    }
   ],
   "source": [
    "#create a horizontal bar plot of the top 10 features\n",
    "plt.figure(figsize=(16,10))\n",
    "sns.barplot(x='SHAP value', y='Variable name', data=fi.head(10), palette=palette)\n",
    "#increase font size\n",
    "plt.tight_layout()\n",
    "plt.rcParams[\"font.size\"] = 20\n",
    "plt.savefig('shap_top10.png')"
   ]
  },
  {
   "cell_type": "code",
   "execution_count": null,
   "metadata": {},
   "outputs": [],
   "source": []
  }
 ],
 "metadata": {
  "interpreter": {
   "hash": "31f2aee4e71d21fbe5cf8b01ff0e069b9275f58929596ceb00d14d90e3e16cd6"
  },
  "kernelspec": {
   "display_name": "Python 3.9.5 64-bit",
   "name": "python3"
  },
  "language_info": {
   "codemirror_mode": {
    "name": "ipython",
    "version": 3
   },
   "file_extension": ".py",
   "mimetype": "text/x-python",
   "name": "python",
   "nbconvert_exporter": "python",
   "pygments_lexer": "ipython3",
   "version": "3.9.5"
  },
  "orig_nbformat": 4
 },
 "nbformat": 4,
 "nbformat_minor": 2
}
