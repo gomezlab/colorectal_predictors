{
 "cells": [
  {
   "cell_type": "code",
   "execution_count": 1,
   "metadata": {},
   "outputs": [],
   "source": [
    "from sklearn.model_selection import train_test_split\n",
    "from sklearn.linear_model import LogisticRegression\n",
    "import numpy as np\n",
    "import pandas as pd\n",
    "from sklearn.metrics import confusion_matrix, roc_auc_score, roc_curve, accuracy_score, auc, precision_recall_curve, average_precision_score\n",
    "from math import sqrt"
   ]
  },
  {
   "cell_type": "code",
   "execution_count": 2,
   "metadata": {},
   "outputs": [],
   "source": [
    "data = pd.read_feather(r'/media/kchen/2TB/kchen_backup/ssi/data/procol_train.feather')\n",
    "y = data['ssi']\n",
    "X = data.drop(['SUPINFEC','WNDINFD','ORGSPCSSI','ssi'], axis=1)\n",
    "X_train, X_valid, y_train, y_valid = train_test_split(X, y, train_size=0.8, test_size=0.2, random_state=1)\n",
    "\n",
    "test = pd.read_feather(r'/media/kchen/2TB/kchen_backup/ssi/data/procol_test.feather')\n",
    "y_test = test['ssi']\n",
    "X_test = test.drop(['SUPINFEC','WNDINFD','ORGSPCSSI','ssi'], axis=1)"
   ]
  },
  {
   "cell_type": "code",
   "execution_count": 3,
   "metadata": {},
   "outputs": [],
   "source": [
    "def evaluate(model1, X, y):\n",
    "    ppreds = model1.predict_proba(X)\n",
    "    ppreds = ppreds[:,1]\n",
    "    pscore = roc_auc_score(y, ppreds)\n",
    "    print('AUC', pscore)"
   ]
  },
  {
   "cell_type": "code",
   "execution_count": 6,
   "metadata": {},
   "outputs": [
    {
     "name": "stdout",
     "output_type": "stream",
     "text": [
      "AUC 0.7337101645432886\n"
     ]
    }
   ],
   "source": [
    "#implement a standard logistic regression model without regularization\n",
    "lr = LogisticRegression(penalty='none')\n",
    "lr.fit(X_train, y_train)\n",
    "evaluate(lr, X_valid, y_valid)"
   ]
  },
  {
   "cell_type": "code",
   "execution_count": 7,
   "metadata": {},
   "outputs": [
    {
     "name": "stdout",
     "output_type": "stream",
     "text": [
      "AUC 0.7450438051972218\n"
     ]
    }
   ],
   "source": [
    "evaluate(lr, X_test, y_test)"
   ]
  },
  {
   "cell_type": "code",
   "execution_count": 6,
   "metadata": {},
   "outputs": [
    {
     "name": "stdout",
     "output_type": "stream",
     "text": [
      "Stored 'lr_fpr_ssi' (ndarray)\n",
      "Stored 'lr_tpr_ssi' (ndarray)\n"
     ]
    }
   ],
   "source": [
    "lr_preds = (lr.predict_proba(X_test))[:,1]\n",
    "lr_fpr_ssi, lr_tpr_ssi, _ = roc_curve(y_test, lr_preds)\n",
    "%store lr_fpr_ssi\n",
    "%store lr_tpr_ssi"
   ]
  },
  {
   "cell_type": "code",
   "execution_count": 7,
   "metadata": {},
   "outputs": [
    {
     "data": {
      "text/plain": [
       "(0.6689783250938898, 0.6771987409946261, 0.6854191568953624)"
      ]
     },
     "execution_count": 7,
     "metadata": {},
     "output_type": "execute_result"
    }
   ],
   "source": [
    "def roc_auc_ci(y_true, y_score, positive=1):\n",
    "    AUC = roc_auc_score(y_true, y_score)\n",
    "    N1 = sum(y_true == positive)\n",
    "    N2 = sum(y_true != positive)\n",
    "    Q1 = AUC / (2 - AUC)\n",
    "    Q2 = 2*AUC**2 / (1 + AUC)\n",
    "    SE_AUC = sqrt((AUC*(1 - AUC) + (N1 - 1)*(Q1 - AUC**2) + (N2 - 1)*(Q2 - AUC**2)) / (N1*N2))\n",
    "    lower = AUC - 1.96*SE_AUC\n",
    "    upper = AUC + 1.96*SE_AUC\n",
    "    if lower < 0:\n",
    "        lower = 0\n",
    "    if upper > 1:\n",
    "        upper = 1\n",
    "    return (lower, AUC, upper)\n",
    "roc_auc_ci(y_test, lr_preds)"
   ]
  },
  {
   "cell_type": "code",
   "execution_count": 8,
   "metadata": {},
   "outputs": [
    {
     "name": "stdout",
     "output_type": "stream",
     "text": [
      "Stored 'lr_prec_ssi' (ndarray)\n",
      "Stored 'lr_rec_ssi' (ndarray)\n"
     ]
    }
   ],
   "source": [
    "lr_prec_ssi, lr_rec_ssi, _ = precision_recall_curve(y_test, lr_preds)\n",
    "%store lr_prec_ssi\n",
    "%store lr_rec_ssi"
   ]
  },
  {
   "cell_type": "code",
   "execution_count": 9,
   "metadata": {},
   "outputs": [
    {
     "data": {
      "text/plain": [
       "(0.18958663836343612, 0.19449505484764085, 0.19940347133184558)"
      ]
     },
     "execution_count": 9,
     "metadata": {},
     "output_type": "execute_result"
    }
   ],
   "source": [
    "def roc_prc_ci(y_true, y_score, positive=1):\n",
    "    AUC = average_precision_score(y_true, y_score)\n",
    "    N1 = sum(y_true == positive)\n",
    "    N2 = sum(y_true != positive)\n",
    "    Q1 = AUC / (2 - AUC)\n",
    "    Q2 = 2*AUC**2 / (1 + AUC)\n",
    "    SE_AUC = sqrt((AUC*(1 - AUC) + (N1 - 1)*(Q1 - AUC**2) + (N2 - 1)*(Q2 - AUC**2)) / (N1*N2))\n",
    "    lower = AUC - 1.96*SE_AUC\n",
    "    upper = AUC + 1.96*SE_AUC\n",
    "    if lower < 0:\n",
    "        lower = 0\n",
    "    if upper > 1:\n",
    "        upper = 1\n",
    "    return (lower, AUC, upper)\n",
    "roc_prc_ci(y_test, lr_preds)"
   ]
  },
  {
   "cell_type": "code",
   "execution_count": 10,
   "metadata": {},
   "outputs": [
    {
     "name": "stdout",
     "output_type": "stream",
     "text": [
      "Stored 'lrpreds' (ndarray)\n"
     ]
    }
   ],
   "source": [
    "lrpreds = lr.predict_proba(X_test)\n",
    "lrpreds = lrpreds[:,1]\n",
    "%store lrpreds"
   ]
  },
  {
   "cell_type": "code",
   "execution_count": 11,
   "metadata": {},
   "outputs": [],
   "source": [
    "%store -r lrpreds"
   ]
  },
  {
   "cell_type": "code",
   "execution_count": 12,
   "metadata": {},
   "outputs": [],
   "source": [
    "from sklearn.metrics import recall_score\n",
    "from imblearn.metrics import specificity_score\n",
    "thresh = np.arange(0, 1, 0.0005)\n",
    "%store -r ann_preds\n",
    "#calculate sensitivity at thresholds\n",
    "lr_sens = {}\n",
    "for t in thresh:\n",
    "    lr_sens[t] = recall_score(y_test, lr_preds > t)\n",
    "lr_spec = {}\n",
    "for t in thresh:\n",
    "    lr_spec[t] = specificity_score(y_test, lr_preds > t)\n",
    "ann_sens = {}\n",
    "for t in thresh:\n",
    "    ann_sens[t] = recall_score(y_test, ann_preds > t)\n",
    "ann_spec = {}\n",
    "for t in thresh:\n",
    "    ann_spec[t] = specificity_score(y_test, ann_preds > t)\n",
    "def get_senspec(thresh):\n",
    "    print(lr_sens[thresh], lr_spec[thresh])\n",
    "    print(ann_sens[thresh], ann_spec[thresh])\n"
   ]
  },
  {
   "cell_type": "code",
   "execution_count": 13,
   "metadata": {},
   "outputs": [
    {
     "name": "stdout",
     "output_type": "stream",
     "text": [
      "0.25721198585520194 0.9005819909758702\n",
      "0.36795086543830263 0.9543126185234431\n"
     ]
    }
   ],
   "source": [
    "get_senspec(0.169)"
   ]
  },
  {
   "cell_type": "code",
   "execution_count": 14,
   "metadata": {},
   "outputs": [
    {
     "name": "stdout",
     "output_type": "stream",
     "text": [
      "0.3625535082821515 0.8421431218257515\n",
      "0.45151684347664245 0.9050286636004969\n"
     ]
    }
   ],
   "source": [
    "get_senspec(0.145)"
   ]
  },
  {
   "cell_type": "code",
   "execution_count": 15,
   "metadata": {},
   "outputs": [
    {
     "name": "stdout",
     "output_type": "stream",
     "text": [
      "0.562069607295738 0.7000675719859625\n",
      "0.5963149078726968 0.7853390587876278\n"
     ]
    }
   ],
   "source": [
    "get_senspec(0.111)"
   ]
  },
  {
   "cell_type": "code",
   "execution_count": 16,
   "metadata": {},
   "outputs": [
    {
     "name": "stdout",
     "output_type": "stream",
     "text": [
      "0.6774613809789689 0.5906663469712492\n",
      "0.681928159315094 0.6989341064149792\n"
     ]
    }
   ],
   "source": [
    "get_senspec(0.0940)"
   ]
  },
  {
   "cell_type": "code",
   "execution_count": 17,
   "metadata": {},
   "outputs": [
    {
     "name": "stdout",
     "output_type": "stream",
     "text": [
      "0.7500465289410013 0.49652331233515706\n",
      "0.7373906569886469 0.629792706584999\n"
     ]
    }
   ],
   "source": [
    "get_senspec(0.0830)"
   ]
  },
  {
   "cell_type": "code",
   "execution_count": 18,
   "metadata": {},
   "outputs": [
    {
     "name": "stdout",
     "output_type": "stream",
     "text": [
      "0.8648799553322166 0.3157791485929769\n",
      "0.8196538246789503 0.4992261917736556\n"
     ]
    }
   ],
   "source": [
    "get_senspec(0.0665)"
   ]
  },
  {
   "cell_type": "code",
   "execution_count": 19,
   "metadata": {},
   "outputs": [
    {
     "name": "stdout",
     "output_type": "stream",
     "text": [
      "0.8717662386004095 0.30246092813392333\n",
      "0.8265401079471432 0.4902238594502692\n"
     ]
    }
   ],
   "source": [
    "get_senspec(0.0655)"
   ]
  },
  {
   "cell_type": "code",
   "execution_count": 20,
   "metadata": {},
   "outputs": [
    {
     "name": "stdout",
     "output_type": "stream",
     "text": [
      "0.983249581239531 0.054515334481330516\n",
      "0.9134561697375768 0.29757830721276457\n"
     ]
    }
   ],
   "source": [
    "get_senspec(0.0460)"
   ]
  },
  {
   "cell_type": "code",
   "execution_count": 21,
   "metadata": {},
   "outputs": [
    {
     "name": "stdout",
     "output_type": "stream",
     "text": [
      "0.9672436255350828 0.1016849401660963\n",
      "0.89428624604504 0.34766876648429496\n"
     ]
    }
   ],
   "source": [
    "get_senspec(0.0505)"
   ]
  },
  {
   "cell_type": "code",
   "execution_count": 22,
   "metadata": {},
   "outputs": [
    {
     "name": "stdout",
     "output_type": "stream",
     "text": [
      "1.0 0.0\n",
      "0.9739437930392705 0.10334154369291802\n"
     ]
    }
   ],
   "source": [
    "get_senspec(0.0285)"
   ]
  },
  {
   "cell_type": "code",
   "execution_count": null,
   "metadata": {},
   "outputs": [],
   "source": []
  }
 ],
 "metadata": {
  "interpreter": {
   "hash": "31f2aee4e71d21fbe5cf8b01ff0e069b9275f58929596ceb00d14d90e3e16cd6"
  },
  "kernelspec": {
   "display_name": "Python 3.9.5 64-bit",
   "name": "python3"
  },
  "language_info": {
   "codemirror_mode": {
    "name": "ipython",
    "version": 3
   },
   "file_extension": ".py",
   "mimetype": "text/x-python",
   "name": "python",
   "nbconvert_exporter": "python",
   "pygments_lexer": "ipython3",
   "version": "3.9.5"
  },
  "orig_nbformat": 4
 },
 "nbformat": 4,
 "nbformat_minor": 2
}
